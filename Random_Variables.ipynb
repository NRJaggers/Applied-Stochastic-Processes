{
  "nbformat": 4,
  "nbformat_minor": 0,
  "metadata": {
    "colab": {
      "provenance": [],
      "authorship_tag": "ABX9TyNXRL+xq7dJzSonhBcABJSM",
      "include_colab_link": true
    },
    "kernelspec": {
      "name": "python3",
      "display_name": "Python 3"
    },
    "language_info": {
      "name": "python"
    }
  },
  "cells": [
    {
      "cell_type": "markdown",
      "metadata": {
        "id": "view-in-github",
        "colab_type": "text"
      },
      "source": [
        "<a href=\"https://colab.research.google.com/github/NRJaggers/Applied-Stochastic-Processes/blob/main/Random_Variables.ipynb\" target=\"_parent\"><img src=\"https://colab.research.google.com/assets/colab-badge.svg\" alt=\"Open In Colab\"/></a>"
      ]
    },
    {
      "cell_type": "markdown",
      "source": [
        "#Random Variables: Joint, Conditional, and Marginal Distributions"
      ],
      "metadata": {
        "id": "lwN5bYfDW66u"
      }
    },
    {
      "cell_type": "markdown",
      "source": [
        "---\n",
        "\n",
        "## Prompt"
      ],
      "metadata": {
        "id": "LH6d6og_pNwL"
      }
    },
    {
      "cell_type": "markdown",
      "source": [
        "Original Prompt can be found [here](https://bookdown.org/kevin_davisross/applied-stochastic-processes/pp-distributions.html). A copy of the prompt  can be found on github under [/PracticeProblems/Prompts](https://github.com/NRJaggers/Applied-Stochastic-Processes/tree/main/PracticeProblems/Prompts) along with completed exercises under [/PracticeProblems](https://github.com/NRJaggers/Applied-Stochastic-Processes/tree/main/PracticeProblems)."
      ],
      "metadata": {
        "id": "qjQvnSzFnWsx"
      }
    },
    {
      "cell_type": "markdown",
      "source": [
        "---\n",
        "\n",
        "## Problems"
      ],
      "metadata": {
        "id": "GXUWHhYNXK3F"
      }
    },
    {
      "cell_type": "markdown",
      "source": [
        "###1.\n",
        "There are 27 outcomes because pulling prizes from packges are independent events and there is a 1/3 chance of pulling 1 of the 3 prizes. So the total combinations of ways you could pull the prizes from the three bags is 27 or 3^3."
      ],
      "metadata": {
        "id": "NnOccgJbXbpb"
      }
    },
    {
      "cell_type": "markdown",
      "source": [
        "###2.\n",
        "X is the number of distinct prizes obtained in these 3 packages. Y is the number of these 3 packages that contain prize 1.\n",
        "\n",
        "$\\text{P}(X = 1, Y = 0) = 2/27$\n",
        "\n",
        "There are only two ways to get 1 unique prize and have none of the bags have the 1 prize. That would be 222 and 333."
      ],
      "metadata": {
        "id": "EZRlnNET1y0s"
      }
    },
    {
      "cell_type": "markdown",
      "source": [
        "###3.\n",
        "$\\text{P}(X = 1, Y = 3) = 1/27$\n",
        "\n",
        "The way we would get 1 unique prize and 1 in all three bags is with the combination 111."
      ],
      "metadata": {
        "id": "6A32k0E_2ctC"
      }
    },
    {
      "cell_type": "markdown",
      "source": [
        "###4.\n",
        "$\\text{P}(X = 2, Y = 0) = 6/27$\n",
        "\n",
        "The following are the sets where we would get two unique prizes (2 and 3) with out having 1 in any of the bags:\n",
        "> 223 233 322 332 323 232"
      ],
      "metadata": {
        "id": "KKahG4zm25K3"
      }
    },
    {
      "cell_type": "markdown",
      "source": [
        "###5.\n",
        "\n",
        "$\\begin{array}{ccccc|c}\n",
        "    & y\\\\\n",
        "x & 0 & 1 & 2 & 3 \\\\\n",
        "1 & \\frac{2}{27} & 0 & 0 &  \\frac{1}{27} & \\frac{3}{27}\\\\\n",
        "2 & \\frac{6}{27} & \\frac{6}{27} & \\frac{6}{27} & 0 & \\frac{18}{27}\\\\\n",
        "3 & 0 & \\frac{6}{27} & 0 & 0 & \\frac{6}{27}\\\\\n",
        "\\end{array}\n",
        "$\n",
        "\n",
        "$\\text{E}(X) = \\sum_{x} x \\cdot P(X = x) = 2.1\\bar{1}$"
      ],
      "metadata": {
        "id": "knCsQZUI39px"
      }
    },
    {
      "cell_type": "code",
      "source": [
        "print((1*(3/27))+(2*(18/27))+(3*(6/27)))"
      ],
      "metadata": {
        "colab": {
          "base_uri": "https://localhost:8080/"
        },
        "id": "xtCygdhx6w3s",
        "outputId": "a17ceaa6-fb58-49b6-f353-72a8153bf675"
      },
      "execution_count": 2,
      "outputs": [
        {
          "output_type": "stream",
          "name": "stdout",
          "text": [
            "2.111111111111111\n"
          ]
        }
      ]
    },
    {
      "cell_type": "markdown",
      "source": [
        "###6.\n",
        "\n",
        "$\\begin{array}{ccccc|c}\n",
        "    & y\\\\\n",
        "x & 0 & 1 & 2 & 3 \\\\\n",
        "1 & \\frac{2}{27} & 0 & 0 &  \\frac{1}{27}\\\\\n",
        "2 & \\frac{6}{27} & \\frac{6}{27} & \\frac{6}{27} & 0\\\\\n",
        "3 & 0 & \\frac{6}{27} & 0 & 0 \\\\\n",
        "\\hline\n",
        "  & \\frac{8}{27} & \\frac{12}{27} & \\frac{6}{27} & \\frac{1}{27} \\\\\n",
        "\\end{array}\n",
        "$\n",
        "\n",
        "$\\text{E}(Y) = 1$"
      ],
      "metadata": {
        "id": "E79e-YCJ7aXq"
      }
    },
    {
      "cell_type": "code",
      "source": [
        "print((0*(8/27))+(1*(12/27))+(2*(6/27))+(3*(1/27)))"
      ],
      "metadata": {
        "colab": {
          "base_uri": "https://localhost:8080/"
        },
        "id": "f6-lhL_J8Y8f",
        "outputId": "d3644bf9-03d6-4cd0-ed8a-8b8832b3de1d"
      },
      "execution_count": 3,
      "outputs": [
        {
          "output_type": "stream",
          "name": "stdout",
          "text": [
            "1.0\n"
          ]
        }
      ]
    },
    {
      "cell_type": "markdown",
      "source": [
        "###7.\n",
        "$\\text{P}(Y=y|X=x) = ?$ <br> <br>\n",
        "\n",
        "$\\text{P}(Y=y|X=1) = ?$ <br>\n",
        "$\\begin{array}{ccccc|c}\n",
        "& y\\\\\n",
        "x & 0 & 1 & 2 & 3 \\\\\n",
        "1 & \\frac{2}{3} & 0 & 0 &  \\frac{1}{3}\\\\\n",
        "\\end{array}\n",
        "$\n",
        "\n",
        "$\\text{P}(Y=y|X=2) = ?$ <br>\n",
        "$\\begin{array}{ccccc|c}\n",
        "& y\\\\\n",
        "x & 0 & 1 & 2 & 3 \\\\\n",
        "2 & \\frac{1}{3} & \\frac{1}{3} & \\frac{1}{3} & 0\\\\\n",
        "\\end{array}\n",
        "$\n",
        "\n",
        "$\\text{P}(Y=y|X=3) = ?$ <br>\n",
        "$\\begin{array}{ccccc|c}\n",
        "& y\\\\\n",
        "x & 0 & 1 & 2 & 3 \\\\\n",
        "3 & 0 & 1 & 0 & 0 \\\\\n",
        "\\end{array}\n",
        "$"
      ],
      "metadata": {
        "id": "dpuMOa5e83EC"
      }
    },
    {
      "cell_type": "markdown",
      "source": [
        "###8.\n",
        "$\\text{E}(Y|X) = \\sum_{y} y \\cdot P(Y = y | X=x)$\n",
        "\n",
        "\n",
        "$\\begin{array}{ccccc|c}\n",
        "& y\\\\\n",
        "x &  \\\\\n",
        "1 &  1\\\\\n",
        "2 &  1\\\\\n",
        "3 &  1\\\\\n",
        "\\end{array}\n",
        "$\n",
        "\n"
      ],
      "metadata": {
        "id": "EUCRCi1LAcZh"
      }
    },
    {
      "cell_type": "code",
      "source": [
        "print(\"x=1: \",(0*(2/3))+(1*(0))+(2*(0))+(3*(1/3)))\n",
        "print(\"x=2: \",(0*(1/3))+(1*(1/3))+(2*(1/3))+(3*(0)))\n",
        "print(\"x=3: \",(0*(0))+(1*(1))+(2*(0))+(3*(0)))\n"
      ],
      "metadata": {
        "colab": {
          "base_uri": "https://localhost:8080/"
        },
        "id": "kQqJld3jFljI",
        "outputId": "775c92af-932f-4d9c-8216-a5b3766bdaa9"
      },
      "execution_count": 5,
      "outputs": [
        {
          "output_type": "stream",
          "name": "stdout",
          "text": [
            "x=1:  1.0\n",
            "x=2:  1.0\n",
            "x=3:  1\n"
          ]
        }
      ]
    },
    {
      "cell_type": "markdown",
      "source": [
        "###9.\n",
        "$\\text{P}(X=x|Y=y) = ?$ <br> <br>\n",
        "\n",
        "$\\text{P}(X=x|Y=0) = ?$ <br>\n",
        "$\\begin{array}{ccccc|c}\n",
        "& y\\\\\n",
        "x & 0   \\\\\n",
        "1 & \\frac{1}{4} \\\\\n",
        "2 & \\frac{3}{4} \\\\\n",
        "3 & 0   \\\\\n",
        "\\end{array}\n",
        "$\n",
        "\n",
        "$\\text{P}(X=x|Y=1) = ?$ <br>\n",
        "$\\begin{array}{ccccc|c}\n",
        "& y\\\\\n",
        "x & 1   \\\\\n",
        "1 & 0 \\\\\n",
        "2 & \\frac{1}{2} \\\\\n",
        "3 & \\frac{1}{2}   \\\\\n",
        "\\end{array}\n",
        "$\n",
        "\n",
        "\n",
        "$\\text{P}(X=x|Y=2) = ?$ <br>\n",
        "$\\begin{array}{ccccc|c}\n",
        "& y\\\\\n",
        "x & 2   \\\\\n",
        "1 & 0 \\\\\n",
        "2 & 1 \\\\\n",
        "3 & 0   \\\\\n",
        "\\end{array}\n",
        "$\n",
        "\n",
        "\n",
        "$\\text{P}(X=x|Y=3) = ?$ <br>\n",
        "$\\begin{array}{ccccc|c}\n",
        "& y\\\\\n",
        "x & 3   \\\\\n",
        "1 & 1 \\\\\n",
        "2 & 0 \\\\\n",
        "3 & 0   \\\\\n",
        "\\end{array}\n",
        "$\n"
      ],
      "metadata": {
        "id": "oaO8m3jASQpE"
      }
    },
    {
      "cell_type": "markdown",
      "source": [
        "###10.\n",
        "\n",
        "$\\text{E}(X|Y)$\n",
        "\n",
        "$\n",
        "\\begin{array}{ccccc|c}\n",
        "& y\\\\\n",
        "x & 0 & 1 & 2 & 3 \\\\\n",
        "  & 1.75 & 2.5 & 2 & 1 \\\\\n",
        "\\end{array}\n",
        "$"
      ],
      "metadata": {
        "id": "TMzh-O5UT1jj"
      }
    },
    {
      "cell_type": "code",
      "source": [
        "print(\"y=0: \",(1*(1/4))+(2*(3/4))+(3*(0)))\n",
        "print(\"y=1: \",(1*(0))+(2*(1/2))+(3*(1/2)))\n",
        "print(\"y=2: \",(1*(0))+(2*(1))+(3*(0)))\n",
        "print(\"y=3: \",(1*(1))+(2*(0))+(3*(0)))\n"
      ],
      "metadata": {
        "colab": {
          "base_uri": "https://localhost:8080/"
        },
        "id": "6u8CQqtxUko9",
        "outputId": "9517906f-4b91-4347-b2ff-37ea3ab3ff93"
      },
      "execution_count": 7,
      "outputs": [
        {
          "output_type": "stream",
          "name": "stdout",
          "text": [
            "y=0:  1.75\n",
            "y=1:  2.5\n",
            "y=2:  2\n",
            "y=3:  1\n"
          ]
        }
      ]
    },
    {
      "cell_type": "markdown",
      "source": [
        "###11.\n",
        "Method 1:\n",
        "Roll a 3 sided die three times.\n",
        "\n",
        "Method 2:\n",
        "Use a spinner with the joint probability distributions on it.\n",
        "\n",
        "Method 3:\n",
        "Use spinner with X marginal distributions on it. The follow with spinner with conditional Y distributions on it (determined by previous spin).\n",
        "\n"
      ],
      "metadata": {
        "id": "CBPIY7MgWGTP"
      }
    },
    {
      "cell_type": "markdown",
      "source": [
        "###12.\n",
        "- a. count how many samples of the pairs have X=3 then divide that by the total samples.\n",
        "- b. For each X, count how many samples there are and divide by total to get distribution\n",
        "- c. average distribution of X\n",
        "- d. average the squared difference of X samples from the expected value of x\n",
        "- e.count how many samples satisfy both X = 2 and Y = 1, then divide by total\n",
        "- f. Average the joint distribution\n",
        "- g.average the product of the difference between X and its expectation with Y and its expectation\n",
        "- h.count how many samples satisfy both X = 1 and Y = 0, then divide by total\n",
        "- i.look at only samples with Y = 0, then count up the different possibilies of X and divide by amount of samples where Y=0\n",
        "- j.take average of i\n",
        "- k.count how many samples satisfy both X = 1 and Y = 0, then divide by total\n",
        "- l.same approach as i but for X=1 and across Y\n",
        "- m.same approach as j but for l"
      ],
      "metadata": {
        "id": "gDrvTUWXZmpa"
      }
    },
    {
      "cell_type": "markdown",
      "source": [
        "---\n",
        "\n",
        "## Reflection"
      ],
      "metadata": {
        "id": "8tVMmKgxXWdC"
      }
    },
    {
      "cell_type": "markdown",
      "source": [
        "With each Practice Problem submission, you should also take a few minutes to reflect on the practice problems and related material and thoughtfully respond to the following.\n",
        "\n",
        "1. Write a sentence or two summarizing - in your own words - one big idea from this material.\n",
        "2. Describe one particular aspect of this material that you found challenging and why. Then describe how you dealt with the challenge, or what you can do to deal with the challenge.\n",
        "3. Write at least one specific question you have about this material. I strongly encourage you to post your questions directly in Discord as that's where I'll respond to questions. That is, if you really want an answer to your question - which I hope you do! - please post the question directly in Discord."
      ],
      "metadata": {
        "id": "XDBX6FZlXZ1N"
      }
    },
    {
      "cell_type": "markdown",
      "source": [
        "This is a big review of what Random Variables are and how to work with tables and probabilities and expectations. In the end Also touch on varience and covarience. I am definitly in the stages where I am remembering what I learned years ago and these exercises certainly help refresh. Some of the questions I didn't understand at first but with time they made more sense."
      ],
      "metadata": {
        "id": "COQz4qEBXaq3"
      }
    }
  ]
}