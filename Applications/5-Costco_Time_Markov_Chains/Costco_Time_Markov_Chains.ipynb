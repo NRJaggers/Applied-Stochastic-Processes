{
  "nbformat": 4,
  "nbformat_minor": 0,
  "metadata": {
    "colab": {
      "provenance": [],
      "include_colab_link": true
    },
    "kernelspec": {
      "name": "python3",
      "display_name": "Python 3"
    },
    "language_info": {
      "name": "python"
    }
  },
  "cells": [
    {
      "cell_type": "markdown",
      "metadata": {
        "id": "view-in-github",
        "colab_type": "text"
      },
      "source": [
        "<a href=\"https://colab.research.google.com/github/NRJaggers/Applied-Stochastic-Processes/blob/main/Applications/5-Costco_Time_Markov_Chains/Costco_Time_Markov_Chains.ipynb\" target=\"_parent\"><img src=\"https://colab.research.google.com/assets/colab-badge.svg\" alt=\"Open In Colab\"/></a>"
      ]
    },
    {
      "cell_type": "markdown",
      "source": [
        "#Costco Time Markov Chains\n"
      ],
      "metadata": {
        "id": "lwN5bYfDW66u"
      }
    },
    {
      "cell_type": "markdown",
      "source": [
        "---\n",
        "\n",
        "## Prompt"
      ],
      "metadata": {
        "id": "Bh1go0uHXDqq"
      }
    },
    {
      "cell_type": "markdown",
      "source": [
        "Original Prompt can be found [here](https://bookdown.org/kevin_davisross/applied-stochastic-processes/app-queues.html). A copy of the prompt along with the completed exercise can be found under [/Applications](https://github.com/NRJaggers/Applied-Stochastic-Processes/tree/main/Applications)."
      ],
      "metadata": {
        "id": "DJpcnN9AXHGQ"
      }
    },
    {
      "cell_type": "markdown",
      "source": [
        "##Summary"
      ],
      "metadata": {
        "id": "06QhnUojnxD4"
      }
    },
    {
      "cell_type": "markdown",
      "source": [
        "Cars arrive at the Costco gas station at rate $\\lambda=1$ car per minute.\n",
        "\n",
        "There are 3 islands with 2 pumps on each side, for a total of 12 pumps. Label the pumps in the back from left to right as 1, 2, ..., 6, and the pumps in front from left to right as 7, 8, ..., 12.\n",
        "\n",
        "When cars arrive they join one of 6 queues, one queue for each side of the islands. There is one queue that waits for pumps 1 and 7, one that waits for pumps 2 and 8, and so on. The car first in line in the queue for pumps 1 and 7 will move to whichever one opens up first, similarly for 2 and 8, and so on."
      ],
      "metadata": {
        "id": "zTjPYJH5A82X"
      }
    },
    {
      "cell_type": "markdown",
      "source": [
        "```\n",
        " ^       ^ ^       ^ ^       ^\n",
        " |       | | Cars  | |       |\n",
        " |       | |  out  | |       |\n",
        "\n",
        "  01|I|02   03|I|04   05|I|06\n",
        "  07|1|08   09|2|10   11|3|12\n",
        " ^       ^ ^       ^ ^       ^\n",
        " |       | | Cars  | |       |\n",
        " |       | |   in  | |       |\n",
        "Q1      Q2 Q3     Q4 Q5      Q6\n",
        "```"
      ],
      "metadata": {
        "id": "cG1QDWwoBYql"
      }
    },
    {
      "cell_type": "markdown",
      "source": [
        "There are 3 different types of cars: 30% of cars will only join the queues on the left (to wait for one of the odd numbered pumps), 30% of cars will only join the queues on the right (to wait for an even numbered pump), and the remaining cars will join any queue.\n",
        "\n",
        "When a car arrives, it will join whichever queue of its type is the shortest. If there is a tie for shortest queue of its type, the car will choose at random among the shortest queue options.\n",
        "Once a car chooses a queue, it does not switch to another or leave the gas station before completing service.\n",
        "\n",
        "Assume each pump serves customers at Exponential rate $\\mu=0.2$\n",
        " cars per minute, independent of the customer type. You can assume that once a car completes service the next car in the queue starts service immediately."
      ],
      "metadata": {
        "id": "fJPUvur4EEpl"
      }
    },
    {
      "cell_type": "markdown",
      "source": [
        "###Part 1"
      ],
      "metadata": {
        "id": "wzMWOgUqu0SW"
      }
    },
    {
      "cell_type": "markdown",
      "source": [
        "Let $X_i(t)$ denote the number of customers in queue $i=1,\\ldots,6$ at time $t$, including any customers in service at the corresponding pumps. The process $X(t)=(X_1(t), \\ldots, X_6(t))$ is a vector-valued continuous time Markov chain. Let $S(t) = X_1(t) + \\cdots + X_6(t)$ denote the total number of customers in the system at time $t$, including any customers in service.\n",
        "\n",
        "Note: $t$ is in minutes\n",
        "\n",
        "Write a program to simulate the customer arrivals and services and the values of $X_i(t)$ over a long time period, say a week. You will use your simulation results to approximate the following items, so consider all parts below when designing your code.\n",
        "\n",
        "- The long run distribution of the number of cars in the system.\n",
        "\n",
        "- The long run fraction of time there are no cars in the system.\n",
        "\n",
        "- The long run average number of customers in the system.\n",
        "\n",
        "- Any other features of the long run distribution of the number of cars in the system you’re interested in.\n",
        "\n",
        "- The long run distribution of the amount of time a customer spends in the system.\n",
        "\n",
        "- The average time a customer spends in the system.\n",
        "\n",
        "- Any other features of the long run distribution of the amount of time a customer spends in the system you’re interested in\n",
        "\n",
        "<br>\n",
        "\n",
        "*Assignment Update*:\n",
        "The last three bullet points are optional."
      ],
      "metadata": {
        "id": "EuFLMFrAAwZe"
      }
    },
    {
      "cell_type": "markdown",
      "source": [
        "###Part 2"
      ],
      "metadata": {
        "id": "_IPiEeFPu5Pr"
      }
    },
    {
      "cell_type": "markdown",
      "source": [
        "Change some features of the set up and investigate how your changes effect the average number of customers in the system, and the average time a customer spends in the system. There are lots of things you can do."
      ],
      "metadata": {
        "id": "PPRUs1ISAy6r"
      }
    },
    {
      "cell_type": "markdown",
      "source": [
        "---\n",
        "\n",
        "## Application"
      ],
      "metadata": {
        "id": "GXUWHhYNXK3F"
      }
    },
    {
      "cell_type": "markdown",
      "source": [
        "Hypothesis:\n",
        "I think these pumps can be modeled as birth-death chains. The arrival rate $\\lambda$ is greater than the service rate $\\mu$ however, that is for the entire gas station. If we split up the arrival rate going into the queues or the pumps, the arrival rate drops below the serivce rate. You can treat pumps independently and add their results up.\n"
      ],
      "metadata": {
        "id": "cXyW2wC6OiCF"
      }
    },
    {
      "cell_type": "code",
      "source": [
        "pumps = 12\n",
        "rate_arrival_total = 1\n",
        "rate_service_pump = 0.2\n",
        "rate_service_total = 0.2 * pumps\n",
        "\n",
        "need_left_queue = 0.3\n",
        "need_right_queue = 0.3\n",
        "need_either_queue = 0.4\n",
        "\n",
        "left_queues = 3\n",
        "right_queues = 3\n",
        "queues = left_queues + right_queues\n",
        "\n",
        "rate_arrival_queue = (need_left_queue/left_queues) + (need_either_queue/queues)\n",
        "rate_service_queue = rate_service_pump*2\n",
        "if (rate_arrival_queue < rate_service_queue):\n",
        "  print(\"arrival rate is less than service rate at queue level\")\n",
        "else:\n",
        "  print(\"arrival rate is greater than service rate at queue level\")\n",
        "\n",
        "# Now I am thinking i could have just multiplied the number of pumps by the rate\n",
        "# of service and checked arrival rate against total pumps rate\n",
        "\n",
        "# Long run fraction that the queue/station is not busy\n",
        "pi_0 = (1-(rate_arrival_queue/rate_service_queue))*((rate_arrival_queue/rate_service_queue)**0)\n",
        "pi_0 = (1-(rate_arrival_total/rate_service_total))*((rate_arrival_total/rate_service_total)**0)\n",
        "print(\"Long run fraction not busy:\",pi_0)\n",
        "\n",
        "#Long run average number of customers in the system\n",
        "L = rate_arrival_total/(rate_service_total-rate_arrival_total)\n",
        "print(\"Long run average number of customers:\",L)\n",
        "\n",
        "#Long run average wait time for customers\n",
        "W = 1/(rate_service_total-rate_arrival_total)\n",
        "print(\"Long run average wait time:\",W)\n"
      ],
      "metadata": {
        "id": "EdHBw6MPOhb7",
        "outputId": "2e1ddab4-48b5-4d24-df0c-d3d1385363b2",
        "colab": {
          "base_uri": "https://localhost:8080/"
        }
      },
      "execution_count": 15,
      "outputs": [
        {
          "output_type": "stream",
          "name": "stdout",
          "text": [
            "arrival rate is less than service rate at queue level\n",
            "Long run fraction not busy: 0.5833333333333334\n",
            "Long run average number of customers: 0.7142857142857141\n",
            "Long run average wait time: 0.7142857142857141\n"
          ]
        }
      ]
    },
    {
      "cell_type": "markdown",
      "source": [
        "###Part 1"
      ],
      "metadata": {
        "id": "npZSizct_ot4"
      }
    },
    {
      "cell_type": "markdown",
      "source": [
        "The long run distribution of the number of cars in the system.\n"
      ],
      "metadata": {
        "id": "KGSOTbId_zQq"
      }
    },
    {
      "cell_type": "markdown",
      "source": [
        "The long run fraction of time there are no cars in the system.\n"
      ],
      "metadata": {
        "id": "f7JaLcEE_7op"
      }
    },
    {
      "cell_type": "markdown",
      "source": [
        "The long run average number of customers in the system."
      ],
      "metadata": {
        "id": "TPdTY6GOABIK"
      }
    },
    {
      "cell_type": "markdown",
      "source": [
        "Any other features of the long run distribution of the number of cars in the system you’re interested in.\n"
      ],
      "metadata": {
        "id": "mm8c3fe8ADxf"
      }
    },
    {
      "cell_type": "markdown",
      "source": [
        "The long run distribution of the amount of time a customer spends in the system.\n"
      ],
      "metadata": {
        "id": "5yrvFTaDAM9g"
      }
    },
    {
      "cell_type": "markdown",
      "source": [
        "The average time a customer spends in the system.\n"
      ],
      "metadata": {
        "id": "kWHE4tqiAPJr"
      }
    },
    {
      "cell_type": "markdown",
      "source": [
        "Any other features of the long run distribution of the amount of time a customer spends in the system you’re interested in."
      ],
      "metadata": {
        "id": "55WkuoTjARFu"
      }
    },
    {
      "cell_type": "markdown",
      "source": [
        "###Part 2"
      ],
      "metadata": {
        "id": "y_ynweTH_qFz"
      }
    }
  ]
}