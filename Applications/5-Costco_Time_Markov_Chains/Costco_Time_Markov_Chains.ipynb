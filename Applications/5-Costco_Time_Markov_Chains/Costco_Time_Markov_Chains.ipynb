{
  "nbformat": 4,
  "nbformat_minor": 0,
  "metadata": {
    "colab": {
      "provenance": [],
      "include_colab_link": true
    },
    "kernelspec": {
      "name": "python3",
      "display_name": "Python 3"
    },
    "language_info": {
      "name": "python"
    }
  },
  "cells": [
    {
      "cell_type": "markdown",
      "metadata": {
        "id": "view-in-github",
        "colab_type": "text"
      },
      "source": [
        "<a href=\"https://colab.research.google.com/github/NRJaggers/Applied-Stochastic-Processes/blob/main/Applications/5-Costco_Time_Markov_Chains/Costco_Time_Markov_Chains.ipynb\" target=\"_parent\"><img src=\"https://colab.research.google.com/assets/colab-badge.svg\" alt=\"Open In Colab\"/></a>"
      ]
    },
    {
      "cell_type": "markdown",
      "source": [
        "#Costco Time Markov Chains\n"
      ],
      "metadata": {
        "id": "lwN5bYfDW66u"
      }
    },
    {
      "cell_type": "markdown",
      "source": [
        "---\n",
        "\n",
        "## Prompt"
      ],
      "metadata": {
        "id": "Bh1go0uHXDqq"
      }
    },
    {
      "cell_type": "markdown",
      "source": [
        "Original Prompt can be found [here](https://bookdown.org/kevin_davisross/applied-stochastic-processes/app-queues.html). A copy of the prompt along with the completed exercise can be found under [/Applications](https://github.com/NRJaggers/Applied-Stochastic-Processes/tree/main/Applications)."
      ],
      "metadata": {
        "id": "DJpcnN9AXHGQ"
      }
    },
    {
      "cell_type": "markdown",
      "source": [
        "##Summary"
      ],
      "metadata": {
        "id": "06QhnUojnxD4"
      }
    },
    {
      "cell_type": "markdown",
      "source": [
        "Cars arrive at the Costco gas station at rate $\\lambda=1$ car per minute.\n",
        "\n",
        "There are 3 islands with 2 pumps on each side, for a total of 12 pumps. Label the pumps in the back from left to right as 1, 2, ..., 6, and the pumps in front from left to right as 7, 8, ..., 12.\n",
        "\n",
        "When cars arrive they join one of 6 queues, one queue for each side of the islands. There is one queue that waits for pumps 1 and 7, one that waits for pumps 2 and 8, and so on. The car first in line in the queue for pumps 1 and 7 will move to whichever one opens up first, similarly for 2 and 8, and so on."
      ],
      "metadata": {
        "id": "zTjPYJH5A82X"
      }
    },
    {
      "cell_type": "markdown",
      "source": [
        "```\n",
        " ^       ^ ^       ^ ^       ^\n",
        " |       | | Cars  | |       |\n",
        " |       | |  out  | |       |\n",
        "\n",
        "  01|I|02   03|I|04   05|I|06\n",
        "  07|1|08   09|2|10   11|3|12\n",
        " ^       ^ ^       ^ ^       ^\n",
        " |       | | Cars  | |       |\n",
        " |       | |   in  | |       |\n",
        "Q1      Q2 Q3     Q4 Q5      Q6\n",
        "```"
      ],
      "metadata": {
        "id": "cG1QDWwoBYql"
      }
    },
    {
      "cell_type": "markdown",
      "source": [
        "There are 3 different types of cars: 30% of cars will only join the queues on the left (to wait for one of the odd numbered pumps), 30% of cars will only join the queues on the right (to wait for an even numbered pump), and the remaining cars will join any queue.\n",
        "\n",
        "When a car arrives, it will join whichever queue of its type is the shortest. If there is a tie for shortest queue of its type, the car will choose at random among the shortest queue options.\n",
        "Once a car chooses a queue, it does not switch to another or leave the gas station before completing service.\n",
        "\n",
        "Assume each pump serves customers at Exponential rate $\\mu=0.2$\n",
        " cars per minute, independent of the customer type. You can assume that once a car completes service the next car in the queue starts service immediately."
      ],
      "metadata": {
        "id": "fJPUvur4EEpl"
      }
    },
    {
      "cell_type": "markdown",
      "source": [
        "###Part 1"
      ],
      "metadata": {
        "id": "wzMWOgUqu0SW"
      }
    },
    {
      "cell_type": "markdown",
      "source": [
        "Let $X_i(t)$ denote the number of customers in queue $i=1,\\ldots,6$ at time $t$, including any customers in service at the corresponding pumps. The process $X(t)=(X_1(t), \\ldots, X_6(t))$ is a vector-valued continuous time Markov chain. Let $S(t) = X_1(t) + \\cdots + X_6(t)$ denote the total number of customers in the system at time $t$, including any customers in service.\n",
        "\n",
        "Note: $t$ is in minutes\n",
        "\n",
        "Write a program to simulate the customer arrivals and services and the values of $X_i(t)$ over a long time period, say a week. You will use your simulation results to approximate the following items, so consider all parts below when designing your code.\n",
        "\n",
        "- The long run distribution of the number of cars in the system.\n",
        "\n",
        "- The long run fraction of time there are no cars in the system.\n",
        "\n",
        "- The long run average number of customers in the system.\n",
        "\n",
        "- Any other features of the long run distribution of the number of cars in the system you’re interested in.\n",
        "\n",
        "- The long run distribution of the amount of time a customer spends in the system.\n",
        "\n",
        "- The average time a customer spends in the system.\n",
        "\n",
        "- Any other features of the long run distribution of the amount of time a customer spends in the system you’re interested in\n",
        "\n",
        "<br>\n",
        "\n",
        "*Assignment Update*:\n",
        "The last three bullet points are optional."
      ],
      "metadata": {
        "id": "EuFLMFrAAwZe"
      }
    },
    {
      "cell_type": "markdown",
      "source": [
        "###Part 2"
      ],
      "metadata": {
        "id": "_IPiEeFPu5Pr"
      }
    },
    {
      "cell_type": "markdown",
      "source": [
        "Change some features of the set up and investigate how your changes effect the average number of customers in the system, and the average time a customer spends in the system. There are lots of things you can do."
      ],
      "metadata": {
        "id": "PPRUs1ISAy6r"
      }
    },
    {
      "cell_type": "markdown",
      "source": [
        "---\n",
        "\n",
        "## Application"
      ],
      "metadata": {
        "id": "GXUWHhYNXK3F"
      }
    },
    {
      "cell_type": "markdown",
      "source": [
        "###Part 1"
      ],
      "metadata": {
        "id": "npZSizct_ot4"
      }
    },
    {
      "cell_type": "code",
      "source": [
        "import numpy as np\n",
        "\n",
        "# Variables to describe the system\n",
        "pumps_total = 12\n",
        "pumps_queue = 2\n",
        "queues = 6\n",
        "rate_arrival_total = 1\n",
        "rate_service_pump = 0.2\n",
        "rate_service_total = 0.2 * pumps_total\n",
        "\n",
        "ra_lambda = rate_arrival_total\n",
        "\n",
        "rs_mu = rate_service_total\n",
        "\n",
        "#Rates are per minute and we are simulating for a week\n",
        "min_in_week = 60*24*7\n",
        "\n",
        "n_jumps = 30000\n",
        "\n",
        "X_t = np.zeros([n_jumps, queues])\n",
        "W_n = np.zeros(n_jumps)\n",
        "T_n = np.zeros(n_jumps)\n",
        "\n",
        "for n in range(1,n_jumps):\n",
        "    #generate value from exp dist\n",
        "    Y = np.random.exponential(scale=1)\n",
        "\n",
        "    #determine cars at pumps\n",
        "    serving_cars = 0\n",
        "    for q in range(0,queues):\n",
        "      serving_cars = serving_cars +  min(pumps_queue, X_t[n - 1,q])\n",
        "\n",
        "    #determine waiting time and total elapsed time\n",
        "    roos_total = ra_lambda + rate_service_pump * serving_cars # roos = rate out of state\n",
        "    W_n[n - 1] = Y / roos_total\n",
        "    T_n[n] = T_n[n - 1] + W_n[n - 1]\n",
        "\n",
        "    #determine if event is a service or arrival\n",
        "    #determine probabilities\n",
        "    p_arrival = ra_lambda/roos_total\n",
        "    p_service_1 = rate_service_pump*min(pumps_queue, X_t[n - 1,1-1])/roos_total\n",
        "    p_service_2 = rate_service_pump*min(pumps_queue, X_t[n - 1,2-1])/roos_total\n",
        "    p_service_3 = rate_service_pump*min(pumps_queue, X_t[n - 1,3-1])/roos_total\n",
        "    p_service_4 = rate_service_pump*min(pumps_queue, X_t[n - 1,4-1])/roos_total\n",
        "    p_service_5 = rate_service_pump*min(pumps_queue, X_t[n - 1,5-1])/roos_total\n",
        "    p_service_6 = rate_service_pump*min(pumps_queue, X_t[n - 1,6-1])/roos_total\n",
        "    p_event = [p_service_1, p_service_2, p_service_3, p_service_4, p_service_5, p_service_6, p_arrival]\n",
        "\n",
        "    p_total = sum(p_event)\n",
        "    # if p_total != 1:\n",
        "    #   print(\"prob total error\")\n",
        "    #   print(p_total)\n",
        "\n",
        "    #generate random event\n",
        "    event = np.random.choice([0, 1, 2, 3, 4, 5, 6], replace=True, p=p_event)\n",
        "\n",
        "    #check if arrival or service and adjust X accordingly\n",
        "    if event == 6:\n",
        "      #print(\"arrival\")\n",
        "      #arrival - determine if orientation preference and decide on queue\n",
        "      side = np.random.choice([\"left\", \"right\", \"either\"], replace=True, p=[0.3, 0.3, 0.4])\n",
        "\n",
        "      line = np.zeros(0)\n",
        "      queue_selection = -1\n",
        "\n",
        "      if side == \"left\":\n",
        "        #print(\"left\")\n",
        "        left_queues = [X_t[n - 1,1-1], X_t[n - 1,3-1], X_t[n - 1,5-1]]\n",
        "        left_min = min(left_queues)\n",
        "\n",
        "        for i in range(0,3):\n",
        "          if left_queues[i]==left_min:\n",
        "            line = np.append(line,i)\n",
        "\n",
        "\n",
        "        queue_selection = int(np.random.choice(line))*2\n",
        "\n",
        "      elif side == \"right\":\n",
        "        #print(\"right\")\n",
        "        right_queues = [X_t[n - 1,2-1], X_t[n - 1,4-1], X_t[n - 1,6-1]]\n",
        "        right_min = min(right_queues)\n",
        "\n",
        "        for i in range(0,3):\n",
        "          if right_queues[i]==right_min:\n",
        "            line = np.append(line,i)\n",
        "\n",
        "\n",
        "        queue_selection = int(np.random.choice(line))*2 + 1\n",
        "\n",
        "      else:\n",
        "        #print(\"either\")\n",
        "        all_queues = [X_t[n - 1,1-1], X_t[n - 1,2-1], X_t[n - 1,3-1], X_t[n - 1,4-1], X_t[n - 1,5-1], X_t[n - 1,6-1]]\n",
        "        all_min = min(all_queues)\n",
        "\n",
        "        for i in range(0,6):\n",
        "          if all_queues[i]==all_min:\n",
        "            line = np.append(line,i)\n",
        "\n",
        "        queue_selection = int(np.random.choice(line))\n",
        "\n",
        "      X_t[n,:] = X_t[n - 1,:]\n",
        "      X_t[n,queue_selection] = X_t[n - 1,queue_selection] + 1\n",
        "\n",
        "    else:\n",
        "      #print(\"service\")\n",
        "      #service - take customer out of queue\n",
        "      X_t[n,:] = X_t[n - 1,:]\n",
        "      X_t[n,event] = X_t[n - 1,event] - 1\n",
        "\n",
        "    #print(X_t[n,:])"
      ],
      "metadata": {
        "id": "wSue_DvChUZN"
      },
      "execution_count": 1,
      "outputs": []
    },
    {
      "cell_type": "code",
      "source": [
        "# Find the index where T_n exceeds min_in_week\n",
        "first_index_exceeding_min = np.argmax(T_n > min_in_week)\n",
        "\n",
        "# print(T_n[first_index_exceeding_min-1] > min_in_week)\n",
        "# print(T_n[first_index_exceeding_min] > min_in_week)\n",
        "# print(T_n[first_index_exceeding_min+1] > min_in_week)\n",
        "\n",
        "print(\"A week is reached in T_n at index:\", first_index_exceeding_min)"
      ],
      "metadata": {
        "colab": {
          "base_uri": "https://localhost:8080/",
          "height": 0
        },
        "id": "g6GLSXRIpVSK",
        "outputId": "ba4881ab-1e62-490f-efdb-678c248b9537"
      },
      "execution_count": 2,
      "outputs": [
        {
          "output_type": "stream",
          "name": "stdout",
          "text": [
            "A week is reached in T_n at index: 19845\n"
          ]
        }
      ]
    },
    {
      "cell_type": "markdown",
      "source": [
        "The long run distribution of the number of cars in the system.\n"
      ],
      "metadata": {
        "id": "KGSOTbId_zQq"
      }
    },
    {
      "cell_type": "code",
      "source": [
        "# cut data to longer than week time span (should be big though)\n",
        "import pandas as pd\n",
        "\n",
        "if (first_index_exceeding_min != 0):\n",
        "  data = X_t[0:first_index_exceeding_min,:]\n",
        "  jumps = first_index_exceeding_min\n",
        "else:\n",
        "  data = X_t\n",
        "  jumps = n_jumps\n",
        "\n",
        "\n",
        "row_sums = np.sum(data, axis=1)\n",
        "max_customers = int(max(row_sums))\n",
        "time_with_x_cars_in_sys = np.zeros(max_customers+1)\n",
        "\n",
        "for j in range(0,jumps):\n",
        "  row = data[j,:]\n",
        "  row_sum = int(np.sum(row))\n",
        "  time_with_x_cars_in_sys[row_sum] = time_with_x_cars_in_sys[row_sum] + W_n[j]\n",
        "\n",
        "#distribution\n",
        "dist = time_with_x_cars_in_sys/T_n[jumps-1]\n",
        "\n",
        "column_names = ['fraction_time_in_state']\n",
        "df = pd.DataFrame(dist, columns=column_names)\n",
        "\n",
        "# Print the DataFrame\n",
        "print(df)"
      ],
      "metadata": {
        "colab": {
          "base_uri": "https://localhost:8080/",
          "height": 0
        },
        "id": "ng8pcJXIvRWu",
        "outputId": "0eeaffb3-605f-40ed-de86-e10930060eb0"
      },
      "execution_count": 3,
      "outputs": [
        {
          "output_type": "stream",
          "name": "stdout",
          "text": [
            "    fraction_time_in_state\n",
            "0                 0.007294\n",
            "1                 0.034878\n",
            "2                 0.083129\n",
            "3                 0.145419\n",
            "4                 0.180678\n",
            "5                 0.183524\n",
            "6                 0.144695\n",
            "7                 0.095850\n",
            "8                 0.064136\n",
            "9                 0.033028\n",
            "10                0.015141\n",
            "11                0.007062\n",
            "12                0.002490\n",
            "13                0.001690\n",
            "14                0.000452\n",
            "15                0.000202\n",
            "16                0.000055\n",
            "17                0.000108\n",
            "18                0.000089\n",
            "19                0.000075\n",
            "20                0.000079\n",
            "21                0.000047\n",
            "22                0.000013\n"
          ]
        }
      ]
    },
    {
      "cell_type": "markdown",
      "source": [
        "The long run fraction of time there are no cars in the system.\n"
      ],
      "metadata": {
        "id": "f7JaLcEE_7op"
      }
    },
    {
      "cell_type": "code",
      "source": [
        "print(df.iloc[[0]])"
      ],
      "metadata": {
        "colab": {
          "base_uri": "https://localhost:8080/",
          "height": 0
        },
        "id": "OFfoqPln3XZY",
        "outputId": "37b8e7bb-e4f9-4948-96f1-30c7a7ed1bea"
      },
      "execution_count": 4,
      "outputs": [
        {
          "output_type": "stream",
          "name": "stdout",
          "text": [
            "   fraction_time_in_state\n",
            "0                0.007294\n"
          ]
        }
      ]
    },
    {
      "cell_type": "markdown",
      "source": [
        "The long run average number of customers in the system."
      ],
      "metadata": {
        "id": "TPdTY6GOABIK"
      }
    },
    {
      "cell_type": "code",
      "source": [
        "avg_cust = 0\n",
        "\n",
        "for c in range(0,max_customers+1):\n",
        "  avg_cust = avg_cust + (c*dist[c])\n",
        "\n",
        "print(\"Average amount of customers in the system:\", avg_cust)"
      ],
      "metadata": {
        "colab": {
          "base_uri": "https://localhost:8080/",
          "height": 0
        },
        "id": "WhBJR-GX33qA",
        "outputId": "d31f0876-4d11-4787-a36a-24daad396ebd"
      },
      "execution_count": 5,
      "outputs": [
        {
          "output_type": "stream",
          "name": "stdout",
          "text": [
            "Average amount of customers in the system: 4.926091380233136\n"
          ]
        }
      ]
    },
    {
      "cell_type": "markdown",
      "source": [
        "Any other features of the long run distribution of the number of cars in the system you’re interested in.\n"
      ],
      "metadata": {
        "id": "mm8c3fe8ADxf"
      }
    },
    {
      "cell_type": "markdown",
      "source": [
        "Lets look at the longrun distribution of cars between the queues."
      ],
      "metadata": {
        "id": "N_eDBA5-9N8y"
      }
    },
    {
      "cell_type": "code",
      "source": [
        "max_queue_length = int(data.max())\n",
        "time_with_x_cars_in_q = np.zeros([max_queue_length+1,queues])\n",
        "\n",
        "for j in range(0,jumps):\n",
        "  for q in range(0,queues):\n",
        "    cars = int(data[j,q])\n",
        "    time_with_x_cars_in_q[cars,q] = time_with_x_cars_in_q[cars,q] + W_n[j]\n",
        "\n",
        "#distribution\n",
        "dist_queues = time_with_x_cars_in_q/T_n[jumps-1]\n",
        "\n",
        "column_names = ['Q1','Q2','Q3','Q4','Q5','Q6',]\n",
        "df = pd.DataFrame(dist_queues, columns=column_names)\n",
        "\n",
        "# Print the DataFrame\n",
        "print(df)"
      ],
      "metadata": {
        "colab": {
          "base_uri": "https://localhost:8080/",
          "height": 0
        },
        "id": "RMDQZoy16B6G",
        "outputId": "6c4f3c55-f9e2-44fa-b06c-7c5ddd813af5"
      },
      "execution_count": 6,
      "outputs": [
        {
          "output_type": "stream",
          "name": "stdout",
          "text": [
            "         Q1        Q2        Q3        Q4        Q5        Q6\n",
            "0  0.306137  0.312939  0.313201  0.320218  0.306765  0.320262\n",
            "1  0.562342  0.566067  0.556834  0.552325  0.559145  0.555879\n",
            "2  0.126766  0.116499  0.122819  0.120562  0.127687  0.120345\n",
            "3  0.004889  0.004453  0.006294  0.006759  0.005926  0.003585\n",
            "4  0.000000  0.000177  0.000987  0.000270  0.000611  0.000063\n"
          ]
        }
      ]
    },
    {
      "cell_type": "markdown",
      "source": [
        "Above we can see how the distribution between the queues over time is about the same."
      ],
      "metadata": {
        "id": "yrNdg3lV9CIO"
      }
    },
    {
      "cell_type": "markdown",
      "source": [
        "The long run distribution of the amount of time a customer spends in the system.\n"
      ],
      "metadata": {
        "id": "5yrvFTaDAM9g"
      }
    },
    {
      "cell_type": "markdown",
      "source": [
        "The average time a customer spends in the system.\n"
      ],
      "metadata": {
        "id": "kWHE4tqiAPJr"
      }
    },
    {
      "cell_type": "markdown",
      "source": [
        "Any other features of the long run distribution of the amount of time a customer spends in the system you’re interested in."
      ],
      "metadata": {
        "id": "55WkuoTjARFu"
      }
    },
    {
      "cell_type": "markdown",
      "source": [
        "###Part 2"
      ],
      "metadata": {
        "id": "y_ynweTH_qFz"
      }
    },
    {
      "cell_type": "markdown",
      "source": [
        "Lets find out how the distribution across queues change when there is a larger portion of the population preferring one orientation over another. Let's see if that affect business.  "
      ],
      "metadata": {
        "id": "y2qX9Fde-sV4"
      }
    },
    {
      "cell_type": "code",
      "source": [
        "import numpy as np\n",
        "\n",
        "# Variables to describe the system\n",
        "pumps_total = 12\n",
        "pumps_queue = 2\n",
        "queues = 6\n",
        "rate_arrival_total = 1\n",
        "rate_service_pump = 0.2\n",
        "rate_service_total = 0.2 * pumps_total\n",
        "\n",
        "ra_lambda = rate_arrival_total\n",
        "\n",
        "rs_mu = rate_service_total\n",
        "\n",
        "#Rates are per minute and we are simulating for a week\n",
        "min_in_week = 60*24*7\n",
        "\n",
        "n_jumps = 30000\n",
        "\n",
        "X_t = np.zeros([n_jumps, queues])\n",
        "W_n = np.zeros(n_jumps)\n",
        "T_n = np.zeros(n_jumps)\n",
        "\n",
        "for n in range(1,n_jumps):\n",
        "    #generate value from exp dist\n",
        "    Y = np.random.exponential(scale=1)\n",
        "\n",
        "    #determine cars at pumps\n",
        "    serving_cars = 0\n",
        "    for q in range(0,queues):\n",
        "      serving_cars = serving_cars +  min(pumps_queue, X_t[n - 1,q])\n",
        "\n",
        "    #determine waiting time and total elapsed time\n",
        "    roos_total = ra_lambda + rate_service_pump * serving_cars # roos = rate out of state\n",
        "    W_n[n - 1] = Y / roos_total\n",
        "    T_n[n] = T_n[n - 1] + W_n[n - 1]\n",
        "\n",
        "    #determine if event is a service or arrival\n",
        "    #determine probabilities\n",
        "    p_arrival = ra_lambda/roos_total\n",
        "    p_service_1 = rate_service_pump*min(pumps_queue, X_t[n - 1,1-1])/roos_total\n",
        "    p_service_2 = rate_service_pump*min(pumps_queue, X_t[n - 1,2-1])/roos_total\n",
        "    p_service_3 = rate_service_pump*min(pumps_queue, X_t[n - 1,3-1])/roos_total\n",
        "    p_service_4 = rate_service_pump*min(pumps_queue, X_t[n - 1,4-1])/roos_total\n",
        "    p_service_5 = rate_service_pump*min(pumps_queue, X_t[n - 1,5-1])/roos_total\n",
        "    p_service_6 = rate_service_pump*min(pumps_queue, X_t[n - 1,6-1])/roos_total\n",
        "    p_event = [p_service_1, p_service_2, p_service_3, p_service_4, p_service_5, p_service_6, p_arrival]\n",
        "\n",
        "    p_total = sum(p_event)\n",
        "    # if p_total != 1:\n",
        "    #   print(\"prob total error\")\n",
        "    #   print(p_total)\n",
        "\n",
        "    #generate random event\n",
        "    event = np.random.choice([0, 1, 2, 3, 4, 5, 6], replace=True, p=p_event)\n",
        "\n",
        "    #check if arrival or service and adjust X accordingly\n",
        "    if event == 6:\n",
        "      #print(\"arrival\")\n",
        "      #arrival - determine if orientation preference and decide on queue\n",
        "      side = np.random.choice([\"left\", \"right\", \"either\"], replace=True, p=[0.6, 0.1, 0.3])\n",
        "\n",
        "      line = np.zeros(0)\n",
        "      queue_selection = -1\n",
        "\n",
        "      if side == \"left\":\n",
        "        #print(\"left\")\n",
        "        left_queues = [X_t[n - 1,1-1], X_t[n - 1,3-1], X_t[n - 1,5-1]]\n",
        "        left_min = min(left_queues)\n",
        "\n",
        "        for i in range(0,3):\n",
        "          if left_queues[i]==left_min:\n",
        "            line = np.append(line,i)\n",
        "\n",
        "\n",
        "        queue_selection = int(np.random.choice(line))*2\n",
        "\n",
        "      elif side == \"right\":\n",
        "        #print(\"right\")\n",
        "        right_queues = [X_t[n - 1,2-1], X_t[n - 1,4-1], X_t[n - 1,6-1]]\n",
        "        right_min = min(right_queues)\n",
        "\n",
        "        for i in range(0,3):\n",
        "          if right_queues[i]==right_min:\n",
        "            line = np.append(line,i)\n",
        "\n",
        "\n",
        "        queue_selection = int(np.random.choice(line))*2 + 1\n",
        "\n",
        "      else:\n",
        "        #print(\"either\")\n",
        "        all_queues = [X_t[n - 1,1-1], X_t[n - 1,2-1], X_t[n - 1,3-1], X_t[n - 1,4-1], X_t[n - 1,5-1], X_t[n - 1,6-1]]\n",
        "        all_min = min(all_queues)\n",
        "\n",
        "        for i in range(0,6):\n",
        "          if all_queues[i]==all_min:\n",
        "            line = np.append(line,i)\n",
        "\n",
        "        queue_selection = int(np.random.choice(line))\n",
        "\n",
        "      X_t[n,:] = X_t[n - 1,:]\n",
        "      X_t[n,queue_selection] = X_t[n - 1,queue_selection] + 1\n",
        "\n",
        "    else:\n",
        "      #print(\"service\")\n",
        "      #service - take customer out of queue\n",
        "      X_t[n,:] = X_t[n - 1,:]\n",
        "      X_t[n,event] = X_t[n - 1,event] - 1\n",
        "\n",
        "    #print(X_t[n,:])"
      ],
      "metadata": {
        "id": "rYwVmx68_EuW"
      },
      "execution_count": 7,
      "outputs": []
    },
    {
      "cell_type": "code",
      "source": [
        "# Find the index where T_n exceeds min_in_week\n",
        "first_index_exceeding_min = np.argmax(T_n > min_in_week)\n",
        "\n",
        "# print(T_n[first_index_exceeding_min-1] > min_in_week)\n",
        "# print(T_n[first_index_exceeding_min] > min_in_week)\n",
        "# print(T_n[first_index_exceeding_min+1] > min_in_week)\n",
        "\n",
        "print(\"A week is reached in T_n at index:\", first_index_exceeding_min)"
      ],
      "metadata": {
        "id": "Mf2ZAgY8_aoR",
        "outputId": "b12f4038-6291-4dd2-8dcf-6205896bb323",
        "colab": {
          "base_uri": "https://localhost:8080/",
          "height": 0
        }
      },
      "execution_count": 8,
      "outputs": [
        {
          "output_type": "stream",
          "name": "stdout",
          "text": [
            "A week is reached in T_n at index: 19946\n"
          ]
        }
      ]
    },
    {
      "cell_type": "code",
      "source": [
        "# cut data to longer than week time span (should be big though)\n",
        "import pandas as pd\n",
        "\n",
        "if (first_index_exceeding_min != 0):\n",
        "  data = X_t[0:first_index_exceeding_min,:]\n",
        "  jumps = first_index_exceeding_min\n",
        "else:\n",
        "  data = X_t\n",
        "  jumps = n_jumps\n",
        "\n",
        "\n",
        "row_sums = np.sum(data, axis=1)\n",
        "max_customers = int(max(row_sums))\n",
        "time_with_x_cars_in_sys = np.zeros(max_customers+1)\n",
        "\n",
        "for j in range(0,jumps):\n",
        "  row = data[j,:]\n",
        "  row_sum = int(np.sum(row))\n",
        "  time_with_x_cars_in_sys[row_sum] = time_with_x_cars_in_sys[row_sum] + W_n[j]\n",
        "\n",
        "#distribution\n",
        "dist = time_with_x_cars_in_sys/T_n[jumps-1]\n",
        "\n",
        "column_names = ['fraction_time_in_state']\n",
        "df = pd.DataFrame(dist, columns=column_names)\n",
        "\n",
        "# Print the DataFrame\n",
        "print(df)"
      ],
      "metadata": {
        "id": "U77Y39zo_efT",
        "outputId": "b0095dfb-8119-4163-96cd-a52bfcf0a39f",
        "colab": {
          "base_uri": "https://localhost:8080/",
          "height": 0
        }
      },
      "execution_count": 9,
      "outputs": [
        {
          "output_type": "stream",
          "name": "stdout",
          "text": [
            "    fraction_time_in_state\n",
            "0                 0.009799\n",
            "1                 0.036183\n",
            "2                 0.082660\n",
            "3                 0.129511\n",
            "4                 0.168995\n",
            "5                 0.177489\n",
            "6                 0.139391\n",
            "7                 0.102835\n",
            "8                 0.068904\n",
            "9                 0.040068\n",
            "10                0.020728\n",
            "11                0.011441\n",
            "12                0.005180\n",
            "13                0.003436\n",
            "14                0.001224\n",
            "15                0.000602\n",
            "16                0.000664\n",
            "17                0.000523\n",
            "18                0.000265\n",
            "19                0.000134\n",
            "20                0.000016\n"
          ]
        }
      ]
    },
    {
      "cell_type": "code",
      "source": [
        "avg_cust = 0\n",
        "\n",
        "for c in range(0,max_customers+1):\n",
        "  avg_cust = avg_cust + (c*dist[c])\n",
        "\n",
        "print(\"Average amount of customers in the system:\", avg_cust)"
      ],
      "metadata": {
        "id": "6eHP7Fol_izM",
        "outputId": "f8133988-cd59-4228-cfc8-4925de8c2b71",
        "colab": {
          "base_uri": "https://localhost:8080/",
          "height": 0
        }
      },
      "execution_count": 10,
      "outputs": [
        {
          "output_type": "stream",
          "name": "stdout",
          "text": [
            "Average amount of customers in the system: 5.11475663113845\n"
          ]
        }
      ]
    },
    {
      "cell_type": "code",
      "source": [
        "max_queue_length = int(data.max())\n",
        "time_with_x_cars_in_q = np.zeros([max_queue_length+1,queues])\n",
        "\n",
        "for j in range(0,jumps):\n",
        "  for q in range(0,queues):\n",
        "    cars = int(data[j,q])\n",
        "    time_with_x_cars_in_q[cars,q] = time_with_x_cars_in_q[cars,q] + W_n[j]\n",
        "\n",
        "#distribution\n",
        "dist_queues = time_with_x_cars_in_q/T_n[jumps-1]\n",
        "\n",
        "column_names = ['Q1','Q2','Q3','Q4','Q5','Q6',]\n",
        "df = pd.DataFrame(dist_queues, columns=column_names)\n",
        "\n",
        "# Print the DataFrame\n",
        "print(df)"
      ],
      "metadata": {
        "id": "lQCIvYV__lYv",
        "outputId": "fc62e940-43e1-4daa-c334-105fd3550b0a",
        "colab": {
          "base_uri": "https://localhost:8080/",
          "height": 0
        }
      },
      "execution_count": 11,
      "outputs": [
        {
          "output_type": "stream",
          "name": "stdout",
          "text": [
            "         Q1        Q2        Q3        Q4        Q5        Q6\n",
            "0  0.203373  0.503797  0.194989  0.508453  0.178223  0.511484\n",
            "1  0.481935  0.462785  0.501900  0.458105  0.511788  0.456443\n",
            "2  0.253896  0.033464  0.250881  0.033043  0.259332  0.031805\n",
            "3  0.053109  0.000000  0.045862  0.000445  0.045466  0.000314\n",
            "4  0.006243  0.000000  0.004950  0.000000  0.004407  0.000000\n",
            "5  0.001475  0.000000  0.001442  0.000000  0.000831  0.000000\n",
            "6  0.000016  0.000000  0.000023  0.000000  0.000000  0.000000\n"
          ]
        }
      ]
    },
    {
      "cell_type": "markdown",
      "source": [
        "Here we can clearly see how the even numbered queues spend more time with less cars at them."
      ],
      "metadata": {
        "id": "c-25RFs_AcGP"
      }
    }
  ]
}