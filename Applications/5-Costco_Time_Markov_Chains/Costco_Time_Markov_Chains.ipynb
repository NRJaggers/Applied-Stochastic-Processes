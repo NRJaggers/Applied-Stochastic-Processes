{
  "nbformat": 4,
  "nbformat_minor": 0,
  "metadata": {
    "colab": {
      "provenance": [],
      "include_colab_link": true
    },
    "kernelspec": {
      "name": "python3",
      "display_name": "Python 3"
    },
    "language_info": {
      "name": "python"
    }
  },
  "cells": [
    {
      "cell_type": "markdown",
      "metadata": {
        "id": "view-in-github",
        "colab_type": "text"
      },
      "source": [
        "<a href=\"https://colab.research.google.com/github/NRJaggers/Applied-Stochastic-Processes/blob/main/Applications/5-Costco_Time_Markov_Chains/Costco_Time_Markov_Chains.ipynb\" target=\"_parent\"><img src=\"https://colab.research.google.com/assets/colab-badge.svg\" alt=\"Open In Colab\"/></a>"
      ]
    },
    {
      "cell_type": "markdown",
      "source": [
        "#Costco Time Markov Chains\n"
      ],
      "metadata": {
        "id": "lwN5bYfDW66u"
      }
    },
    {
      "cell_type": "markdown",
      "source": [
        "---\n",
        "\n",
        "## Prompt"
      ],
      "metadata": {
        "id": "Bh1go0uHXDqq"
      }
    },
    {
      "cell_type": "markdown",
      "source": [
        "Original Prompt can be found [here](https://bookdown.org/kevin_davisross/applied-stochastic-processes/app-queues.html). A copy of the prompt along with the completed exercise can be found under [/Applications](https://github.com/NRJaggers/Applied-Stochastic-Processes/tree/main/Applications)."
      ],
      "metadata": {
        "id": "DJpcnN9AXHGQ"
      }
    },
    {
      "cell_type": "markdown",
      "source": [
        "##Summary"
      ],
      "metadata": {
        "id": "06QhnUojnxD4"
      }
    },
    {
      "cell_type": "markdown",
      "source": [
        "Cars arrive at the Costco gas station at rate $\\lambda=1$ car per minute. There are 3 islands with 2 pumps on each side, for a total of 12 pumps."
      ],
      "metadata": {
        "id": "zTjPYJH5A82X"
      }
    },
    {
      "cell_type": "markdown",
      "source": [
        "```\n",
        " ^       ^ ^       ^ ^       ^\n",
        " |       | | Cars  | |       |\n",
        " |       | |  out  | |       |\n",
        "\n",
        "  01|I|02   03|I|04   05|I|06\n",
        "  07|1|08   09|2|10   11|3|12\n",
        " ^       ^ ^       ^ ^       ^\n",
        " |       | | Cars  | |       |\n",
        " |       | |   in  | |       |\n",
        "Q1      Q2 Q3     Q4 Q5      Q6\n",
        "```"
      ],
      "metadata": {
        "id": "cG1QDWwoBYql"
      }
    },
    {
      "cell_type": "markdown",
      "source": [
        "There are 3 different types of cars: 30% of cars will only join the queues on the left (to wait for one of the odd numbered pumps), 30% of cars will only join the queues on the right (to wait for an even numbered pump), and the remaining cars will join any queue.\n",
        "\n",
        "When a car arrives, it will join whichever queue of its type is the shortest. If there is a tie for shortest queue of its type, the car will choose at random among the shortest queue options.\n",
        "Once a car chooses a queue, it does not switch to another or leave the gas station before completing service.\n",
        "\n",
        "Assume each pump serves customers at Exponential rate $\\mu=0.2$\n",
        " cars per minute, independent of the customer type. You can assume that once a car completes service the next car in the queue starts service immediately."
      ],
      "metadata": {
        "id": "fJPUvur4EEpl"
      }
    },
    {
      "cell_type": "markdown",
      "source": [
        "###Part 1"
      ],
      "metadata": {
        "id": "wzMWOgUqu0SW"
      }
    },
    {
      "cell_type": "markdown",
      "source": [],
      "metadata": {
        "id": "EuFLMFrAAwZe"
      }
    },
    {
      "cell_type": "markdown",
      "source": [
        "###Part 2"
      ],
      "metadata": {
        "id": "_IPiEeFPu5Pr"
      }
    },
    {
      "cell_type": "markdown",
      "source": [],
      "metadata": {
        "id": "PPRUs1ISAy6r"
      }
    },
    {
      "cell_type": "markdown",
      "source": [
        "---\n",
        "\n",
        "## Application"
      ],
      "metadata": {
        "id": "GXUWHhYNXK3F"
      }
    },
    {
      "cell_type": "markdown",
      "source": [
        "...start..."
      ],
      "metadata": {
        "id": "NnOccgJbXbpb"
      }
    }
  ]
}