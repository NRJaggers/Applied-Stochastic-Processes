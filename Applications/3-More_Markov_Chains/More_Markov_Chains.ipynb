{
  "nbformat": 4,
  "nbformat_minor": 0,
  "metadata": {
    "colab": {
      "provenance": [],
      "include_colab_link": true
    },
    "kernelspec": {
      "name": "python3",
      "display_name": "Python 3"
    },
    "language_info": {
      "name": "python"
    }
  },
  "cells": [
    {
      "cell_type": "markdown",
      "metadata": {
        "id": "view-in-github",
        "colab_type": "text"
      },
      "source": [
        "<a href=\"https://colab.research.google.com/github/NRJaggers/Applied-Stochastic-Processes/blob/main/Applications/3-More_Markov_Chains/More_Markov_Chains.ipynb\" target=\"_parent\"><img src=\"https://colab.research.google.com/assets/colab-badge.svg\" alt=\"Open In Colab\"/></a>"
      ]
    },
    {
      "cell_type": "markdown",
      "source": [
        "#More Markov Chains"
      ],
      "metadata": {
        "id": "lwN5bYfDW66u"
      }
    },
    {
      "cell_type": "markdown",
      "source": [
        "---\n",
        "\n",
        "## Prompt"
      ],
      "metadata": {
        "id": "Bh1go0uHXDqq"
      }
    },
    {
      "cell_type": "markdown",
      "source": [
        "Original Prompt can be found [here](https://bookdown.org/kevin_davisross/applied-stochastic-processes/app-absorbing.html). A copy of the prompt along with the completed exercise can be found under [/Applications](https://github.com/NRJaggers/Applied-Stochastic-Processes/tree/main/Applications)."
      ],
      "metadata": {
        "id": "DJpcnN9AXHGQ"
      }
    },
    {
      "cell_type": "markdown",
      "source": [
        "## Summary"
      ],
      "metadata": {
        "id": "UPrX4PdRhz0O"
      }
    },
    {
      "cell_type": "markdown",
      "source": [
        "### Part 1"
      ],
      "metadata": {
        "id": "NoBbPctjiBut"
      }
    },
    {
      "cell_type": "markdown",
      "source": [
        "You roll a fair six-sided die 6 times. Whatever the results, you paint those on the sides of a blank die. So, if your rolls were 4, 5, 2, 6, 1, 1, then your new die has no 3’s and two 1’s. Then, you repeat the process with your new die — roll it 6 times and paint the results on a blank die. Eventually, you’ll roll the same number 6 times, at which point the process stops. Let $T$ = the number of rounds (of 6 rolls each) that you perform until stopping. (If your 6 rolls in the first round all result in the same number, then you stop with $T=1$.)"
      ],
      "metadata": {
        "id": "0z0QFPW_iQb6"
      }
    },
    {
      "cell_type": "markdown",
      "source": [
        "### Part 2"
      ],
      "metadata": {
        "id": "0gZVtEnGiDPm"
      }
    },
    {
      "cell_type": "markdown",
      "source": [
        "In this part you will create and solve your own problems involving Markov chains. You have lots of flexibility, but your problems should include at least one part that requires:\n",
        "- A simulation\n",
        "- An analytical solution that uses either first step analysis/absorption\n",
        "- An analtyical solution that uses stationary distributions/long run behavior"
      ],
      "metadata": {
        "id": "PSJtYYnaiRJ1"
      }
    },
    {
      "cell_type": "markdown",
      "source": [
        "---\n",
        "\n",
        "## Application - Part 1"
      ],
      "metadata": {
        "id": "GXUWHhYNXK3F"
      }
    },
    {
      "cell_type": "markdown",
      "source": [
        "###1."
      ],
      "metadata": {
        "id": "NnOccgJbXbpb"
      }
    },
    {
      "cell_type": "markdown",
      "source": [
        "Code and run a simulation to approximate the distribution of $T$ and its expected value, without using Markov chains. Summarize the approximate distribution in an appropriate plot, and describe the distribution in 2-3 sentences (e.g., compute and interpret a few percentiles)."
      ],
      "metadata": {
        "id": "XM3D2LuSjI15"
      }
    },
    {
      "cell_type": "code",
      "source": [
        "import numpy as np\n",
        "import pandas as pd\n",
        "\n",
        "def die_sim():\n",
        "  # create containers for dice\n",
        "  fresh_die = [1, 2, 3, 4, 5, 6]\n",
        "  current_die = fresh_die\n",
        "  new_die = fresh_die\n",
        "\n",
        "  #create flag for loop and variables\n",
        "  same = False\n",
        "  rolls = 6 # rolls corisponding to sides of dice\n",
        "  T = 0 # number of dice created before all sides are the same\n",
        "\n",
        "  while(not same):\n",
        "    #show current die\n",
        "    #print(current_die, \"\\n\")\n",
        "\n",
        "    # roll current die and create new die\n",
        "    # for i in range(0,rolls):\n",
        "    #   result = np.random.choice(current_die)\n",
        "    #   new_die[i] = result\n",
        "\n",
        "    new_die = [np.random.choice(current_die) for i in range(rolls)]\n",
        "\n",
        "    #increment die counter, check die side similarity\n",
        "    T += 1\n",
        "    current_die = new_die\n",
        "    same = all(x == new_die[0] for x in new_die)\n",
        "\n",
        "  #print(current_die, \"\\n\", T)\n",
        "  return T"
      ],
      "metadata": {
        "id": "fFeK6k88Vjmm"
      },
      "execution_count": null,
      "outputs": []
    },
    {
      "cell_type": "code",
      "source": [
        "# run simulation multiple times\n",
        "sims = 10000\n",
        "\n",
        "sim_results = np.empty(sims)\n",
        "\n",
        "for i in range(0,sims):\n",
        "  sim_results[i] = die_sim()"
      ],
      "metadata": {
        "id": "CVWXdDOSePHe"
      },
      "execution_count": null,
      "outputs": []
    },
    {
      "cell_type": "code",
      "source": [
        "import matplotlib.pyplot as plt\n",
        "\n",
        "plt.hist(sim_results, density = True)"
      ],
      "metadata": {
        "colab": {
          "base_uri": "https://localhost:8080/",
          "height": 517
        },
        "id": "xagDHPFmfEsM",
        "outputId": "f7f0d007-6a99-475e-f4fd-ece3a029135b"
      },
      "execution_count": null,
      "outputs": [
        {
          "output_type": "execute_result",
          "data": {
            "text/plain": [
              "(array([8.44615385e-02, 6.20769231e-02, 2.71538462e-02, 1.07884615e-02,\n",
              "        4.61538462e-03, 2.38461538e-03, 4.80769231e-04, 1.73076923e-04,\n",
              "        1.34615385e-04, 3.84615385e-05]),\n",
              " array([ 2. ,  7.2, 12.4, 17.6, 22.8, 28. , 33.2, 38.4, 43.6, 48.8, 54. ]),\n",
              " <BarContainer object of 10 artists>)"
            ]
          },
          "metadata": {},
          "execution_count": 3
        },
        {
          "output_type": "display_data",
          "data": {
            "text/plain": [
              "<Figure size 640x480 with 1 Axes>"
            ],
            "image/png": "[encoded data removed]"
          },
          "metadata": {}
        }
      ]
    },
    {
      "cell_type": "code",
      "source": [
        "# compute expected value\n",
        "ev = sim_results.mean()\n",
        "std_dev = sim_results.std()\n",
        "print(\"The average of dice created until the final with all the same sides is {:.2f} dice\".format(ev))\n",
        "print(\"The standard deviation was {:.2f} dice\".format(std_dev))"
      ],
      "metadata": {
        "colab": {
          "base_uri": "https://localhost:8080/"
        },
        "id": "AP65YbSHfE_9",
        "outputId": "3261fd6e-229f-4424-b865-1bd6b7f5483c"
      },
      "execution_count": null,
      "outputs": [
        {
          "output_type": "stream",
          "name": "stdout",
          "text": [
            "The average of dice created until the final with all the same sides is 9.72 dice\n",
            "The standard deviation was 5.86 dice\n"
          ]
        }
      ]
    },
    {
      "cell_type": "markdown",
      "source": [
        "The distribution seems to be right skewed, with the bulk of the required rolls hovering around 5-10. The expected value of the distribution is about 9.72 rolls."
      ],
      "metadata": {
        "id": "OeL3e5yyfKPJ"
      }
    },
    {
      "cell_type": "code",
      "source": [
        "# calculate percentiles\n",
        "percentiles = np.percentile(sim_results, [25, 50, 75])\n",
        "\n",
        "# create a box plot with percentiles\n",
        "plt.boxplot(sim_results, vert=False)\n",
        "plt.scatter(percentiles, [1, 1, 1], color='red', marker='o', label='Percentiles')\n",
        "plt.xlabel('Value')\n",
        "plt.legend()\n",
        "plt.show()"
      ],
      "metadata": {
        "colab": {
          "base_uri": "https://localhost:8080/",
          "height": 449
        },
        "id": "ROHXMG-2fRkE",
        "outputId": "66075b0b-c55a-4560-c614-c72ac0c58624"
      },
      "execution_count": null,
      "outputs": [
        {
          "output_type": "display_data",
          "data": {
            "text/plain": [
              "<Figure size 640x480 with 1 Axes>"
            ],
            "image/png": "[encoded data removed]"
          },
          "metadata": {}
        }
      ]
    },
    {
      "cell_type": "code",
      "source": [
        "print(\"The percentiles are :\",percentiles)"
      ],
      "metadata": {
        "id": "D0pgqkxGkgFi",
        "outputId": "4beaa866-3e96-4412-91ca-ef36f2ccc12a",
        "colab": {
          "base_uri": "https://localhost:8080/"
        }
      },
      "execution_count": null,
      "outputs": [
        {
          "output_type": "stream",
          "name": "stdout",
          "text": [
            "The percentiles are : [ 6.  8. 12.]\n"
          ]
        }
      ]
    },
    {
      "cell_type": "markdown",
      "source": [
        "###2."
      ],
      "metadata": {
        "id": "MP7OWWO2jVdf"
      }
    },
    {
      "cell_type": "markdown",
      "source": [
        "Define a Markov chain that will help you find $E(T)$. Be sure to clearly define the state space. (Note: there are several ways to do this; any one is fine just be clear in your choice.)"
      ],
      "metadata": {
        "id": "kkJ1fAe3jXX1"
      }
    },
    {
      "cell_type": "markdown",
      "source": [
        "This Markov chain will follow the guidance from Dr.Ross as specified in the class discord. The states of the Markov chain will be a tuple containing the amount of times a face showes up on a die.\n",
        "\n",
        "The starting die will look like:\n",
        "$$\n",
        "\\{\n",
        "\\begin{array}\n",
        " & 1 & 1 & 1 & 1 & 1 & 1\n",
        "\\end{array}\n",
        "\\}\n",
        "$$\n",
        "\n",
        "The final array will take 1 of 6 forms where one index will hold 6 and the rest are zero:\n",
        "$$\n",
        "\\{\n",
        "\\begin{array}\n",
        " & 0 & 6 & 0 & 0 & 0 & 0\n",
        "\\end{array}\n",
        "\\}\n",
        "$$\n",
        "\n",
        "or\n",
        "\n",
        "$$\n",
        "\\{\n",
        "\\begin{array}\n",
        " & 0 & 0 & 0 & 0 & 0 & 6\n",
        "\\end{array}\n",
        "\\}\n",
        "$$\n",
        "\n",
        "Notice that every time, the contents of the array will always add up to 6. Due to that, we should only expect 462 states total. With this definition of the states, The transition probabilities become the multinomial probabilities.\n",
        "\n",
        "p((x1, x2, x3, x4, x5, x6), ((y1, y2, y3, y4, y5, y6)) = dmultinom(c(y1, y2, y3, y4, y5, y6), prob = c(x1, x2, x3, x4, x5, x6))"
      ],
      "metadata": {
        "id": "Di8Bc6wi35dP"
      }
    },
    {
      "cell_type": "markdown",
      "source": [
        "###3."
      ],
      "metadata": {
        "id": "tA-1WvOWjXre"
      }
    },
    {
      "cell_type": "markdown",
      "source": [
        "Determine the transition matrix for your Markov chain. You might want to compute a few of the transition probabilities by hand, but you’ll probably need to write code to fill in the whole matrix."
      ],
      "metadata": {
        "id": "u5_gkpvJjYPp"
      }
    },
    {
      "cell_type": "code",
      "source": [
        "#Switch to R runtime to use this cell\n",
        "n = 6\n",
        "\n",
        "x = expand.grid(replicate(n, 0:n, simplify = FALSE))\n",
        "x = as.matrix(x)\n",
        "x = x[rowSums(x) == n, ]\n",
        "\n",
        "n_states = nrow(x)\n",
        "\n",
        "P = matrix(rep(NA, n_states * n_states), nrow = n_states)\n",
        "\n",
        "for (i in 1:n_states) {\n",
        "  for (j in 1:n_states) {\n",
        "    P[i, j] = dmultinom(x[j, ], prob = x[i, ])\n",
        "  }\n",
        "}"
      ],
      "metadata": {
        "id": "Uqv_0VOlyt_F"
      },
      "execution_count": 4,
      "outputs": []
    },
    {
      "cell_type": "code",
      "source": [
        "P"
      ],
      "metadata": {
        "id": "Ucnp1-YlzA5Q",
        "outputId": "578a6256-5fa6-4efb-d29a-666ebe58b7df",
        "colab": {
          "base_uri": "https://localhost:8080/",
          "height": 1000
        }
      },
      "execution_count": 5,
      "outputs": [
        {
          "output_type": "display_data",
          "data": {
            "text/html": [
              "<table class=\"dataframe\">\n",
              "<caption>A matrix: 462 × 462 of type dbl</caption>\n",
              "<tbody>\n",
              "\t<tr><td>1.000000e+00</td><td>0.0000000000</td><td>0.0000000000</td><td>0.0000000000</td><td>0.0000000000</td><td>0.0000000000</td><td>0.000000e+00</td><td>0.0000000000</td><td>0.000000000</td><td>0.000000000</td><td>⋯</td><td>0</td><td>0</td><td>0</td><td>0</td><td>0</td><td>0</td><td>0</td><td>0</td><td>0</td><td>0</td></tr>\n",
              "\t<tr><td>3.348980e-01</td><td>0.4018775720</td><td>0.2009387860</td><td>0.0535836763</td><td>0.0080375514</td><td>0.0006430041</td><td>2.143347e-05</td><td>0.0000000000</td><td>0.000000000</td><td>0.000000000</td><td>⋯</td><td>0</td><td>0</td><td>0</td><td>0</td><td>0</td><td>0</td><td>0</td><td>0</td><td>0</td><td>0</td></tr>\n",
              "\t<tr><td>8.779150e-02</td><td>0.2633744856</td><td>0.3292181070</td><td>0.2194787380</td><td>0.0823045267</td><td>0.0164609053</td><td>1.371742e-03</td><td>0.0000000000</td><td>0.000000000</td><td>0.000000000</td><td>⋯</td><td>0</td><td>0</td><td>0</td><td>0</td><td>0</td><td>0</td><td>0</td><td>0</td><td>0</td><td>0</td></tr>\n",
              "\t<tr><td>1.562500e-02</td><td>0.0937500000</td><td>0.2343750000</td><td>0.3125000000</td><td>0.2343750000</td><td>0.0937500000</td><td>1.562500e-02</td><td>0.0000000000</td><td>0.000000000</td><td>0.000000000</td><td>⋯</td><td>0</td><td>0</td><td>0</td><td>0</td><td>0</td><td>0</td><td>0</td><td>0</td><td>0</td><td>0</td></tr>\n",
              "\t<tr><td>1.371742e-03</td><td>0.0164609053</td><td>0.0823045267</td><td>0.2194787380</td><td>0.3292181070</td><td>0.2633744856</td><td>8.779150e-02</td><td>0.0000000000</td><td>0.000000000</td><td>0.000000000</td><td>⋯</td><td>0</td><td>0</td><td>0</td><td>0</td><td>0</td><td>0</td><td>0</td><td>0</td><td>0</td><td>0</td></tr>\n",
              "\t<tr><td>2.143347e-05</td><td>0.0006430041</td><td>0.0080375514</td><td>0.0535836763</td><td>0.2009387860</td><td>0.4018775720</td><td>3.348980e-01</td><td>0.0000000000</td><td>0.000000000</td><td>0.000000000</td><td>⋯</td><td>0</td><td>0</td><td>0</td><td>0</td><td>0</td><td>0</td><td>0</td><td>0</td><td>0</td><td>0</td></tr>\n",
              "\t<tr><td>0.000000e+00</td><td>0.0000000000</td><td>0.0000000000</td><td>0.0000000000</td><td>0.0000000000</td><td>0.0000000000</td><td>1.000000e+00</td><td>0.0000000000</td><td>0.000000000</td><td>0.000000000</td><td>⋯</td><td>0</td><td>0</td><td>0</td><td>0</td><td>0</td><td>0</td><td>0</td><td>0</td><td>0</td><td>0</td></tr>\n",
              "\t<tr><td>3.348980e-01</td><td>0.0000000000</td><td>0.0000000000</td><td>0.0000000000</td><td>0.0000000000</td><td>0.0000000000</td><td>0.000000e+00</td><td>0.4018775720</td><td>0.000000000</td><td>0.000000000</td><td>⋯</td><td>0</td><td>0</td><td>0</td><td>0</td><td>0</td><td>0</td><td>0</td><td>0</td><td>0</td><td>0</td></tr>\n",
              "\t<tr><td>8.779150e-02</td><td>0.1316872428</td><td>0.0823045267</td><td>0.0274348422</td><td>0.0051440329</td><td>0.0005144033</td><td>2.143347e-05</td><td>0.1316872428</td><td>0.164609053</td><td>0.082304527</td><td>⋯</td><td>0</td><td>0</td><td>0</td><td>0</td><td>0</td><td>0</td><td>0</td><td>0</td><td>0</td><td>0</td></tr>\n",
              "\t<tr><td>1.562500e-02</td><td>0.0625000000</td><td>0.1041666667</td><td>0.0925925926</td><td>0.0462962963</td><td>0.0123456790</td><td>1.371742e-03</td><td>0.0312500000</td><td>0.104166667</td><td>0.138888889</td><td>⋯</td><td>0</td><td>0</td><td>0</td><td>0</td><td>0</td><td>0</td><td>0</td><td>0</td><td>0</td><td>0</td></tr>\n",
              "\t<tr><td>1.371742e-03</td><td>0.0123456790</td><td>0.0462962963</td><td>0.0925925926</td><td>0.1041666667</td><td>0.0625000000</td><td>1.562500e-02</td><td>0.0041152263</td><td>0.030864198</td><td>0.092592593</td><td>⋯</td><td>0</td><td>0</td><td>0</td><td>0</td><td>0</td><td>0</td><td>0</td><td>0</td><td>0</td><td>0</td></tr>\n",
              "\t<tr><td>2.143347e-05</td><td>0.0005144033</td><td>0.0051440329</td><td>0.0274348422</td><td>0.0823045267</td><td>0.1316872428</td><td>8.779150e-02</td><td>0.0001286008</td><td>0.002572016</td><td>0.020576132</td><td>⋯</td><td>0</td><td>0</td><td>0</td><td>0</td><td>0</td><td>0</td><td>0</td><td>0</td><td>0</td><td>0</td></tr>\n",
              "\t<tr><td>0.000000e+00</td><td>0.0000000000</td><td>0.0000000000</td><td>0.0000000000</td><td>0.0000000000</td><td>0.0000000000</td><td>3.348980e-01</td><td>0.0000000000</td><td>0.000000000</td><td>0.000000000</td><td>⋯</td><td>0</td><td>0</td><td>0</td><td>0</td><td>0</td><td>0</td><td>0</td><td>0</td><td>0</td><td>0</td></tr>\n",
              "\t<tr><td>8.779150e-02</td><td>0.0000000000</td><td>0.0000000000</td><td>0.0000000000</td><td>0.0000000000</td><td>0.0000000000</td><td>0.000000e+00</td><td>0.2633744856</td><td>0.000000000</td><td>0.000000000</td><td>⋯</td><td>0</td><td>0</td><td>0</td><td>0</td><td>0</td><td>0</td><td>0</td><td>0</td><td>0</td><td>0</td></tr>\n",
              "\t<tr><td>1.562500e-02</td><td>0.0312500000</td><td>0.0260416667</td><td>0.0115740741</td><td>0.0028935185</td><td>0.0003858025</td><td>2.143347e-05</td><td>0.0625000000</td><td>0.104166667</td><td>0.069444444</td><td>⋯</td><td>0</td><td>0</td><td>0</td><td>0</td><td>0</td><td>0</td><td>0</td><td>0</td><td>0</td><td>0</td></tr>\n",
              "\t<tr><td>1.371742e-03</td><td>0.0082304527</td><td>0.0205761317</td><td>0.0274348422</td><td>0.0205761317</td><td>0.0082304527</td><td>1.371742e-03</td><td>0.0082304527</td><td>0.041152263</td><td>0.082304527</td><td>⋯</td><td>0</td><td>0</td><td>0</td><td>0</td><td>0</td><td>0</td><td>0</td><td>0</td><td>0</td><td>0</td></tr>\n",
              "\t<tr><td>2.143347e-05</td><td>0.0003858025</td><td>0.0028935185</td><td>0.0115740741</td><td>0.0260416667</td><td>0.0312500000</td><td>1.562500e-02</td><td>0.0002572016</td><td>0.003858025</td><td>0.023148148</td><td>⋯</td><td>0</td><td>0</td><td>0</td><td>0</td><td>0</td><td>0</td><td>0</td><td>0</td><td>0</td><td>0</td></tr>\n",
              "\t<tr><td>0.000000e+00</td><td>0.0000000000</td><td>0.0000000000</td><td>0.0000000000</td><td>0.0000000000</td><td>0.0000000000</td><td>8.779150e-02</td><td>0.0000000000</td><td>0.000000000</td><td>0.000000000</td><td>⋯</td><td>0</td><td>0</td><td>0</td><td>0</td><td>0</td><td>0</td><td>0</td><td>0</td><td>0</td><td>0</td></tr>\n",
              "\t<tr><td>1.562500e-02</td><td>0.0000000000</td><td>0.0000000000</td><td>0.0000000000</td><td>0.0000000000</td><td>0.0000000000</td><td>0.000000e+00</td><td>0.0937500000</td><td>0.000000000</td><td>0.000000000</td><td>⋯</td><td>0</td><td>0</td><td>0</td><td>0</td><td>0</td><td>0</td><td>0</td><td>0</td><td>0</td><td>0</td></tr>\n",
              "\t<tr><td>1.371742e-03</td><td>0.0041152263</td><td>0.0051440329</td><td>0.0034293553</td><td>0.0012860082</td><td>0.0002572016</td><td>2.143347e-05</td><td>0.0123456790</td><td>0.030864198</td><td>0.030864198</td><td>⋯</td><td>0</td><td>0</td><td>0</td><td>0</td><td>0</td><td>0</td><td>0</td><td>0</td><td>0</td><td>0</td></tr>\n",
              "\t<tr><td>2.143347e-05</td><td>0.0002572016</td><td>0.0012860082</td><td>0.0034293553</td><td>0.0051440329</td><td>0.0041152263</td><td>1.371742e-03</td><td>0.0003858025</td><td>0.003858025</td><td>0.015432099</td><td>⋯</td><td>0</td><td>0</td><td>0</td><td>0</td><td>0</td><td>0</td><td>0</td><td>0</td><td>0</td><td>0</td></tr>\n",
              "\t<tr><td>0.000000e+00</td><td>0.0000000000</td><td>0.0000000000</td><td>0.0000000000</td><td>0.0000000000</td><td>0.0000000000</td><td>1.562500e-02</td><td>0.0000000000</td><td>0.000000000</td><td>0.000000000</td><td>⋯</td><td>0</td><td>0</td><td>0</td><td>0</td><td>0</td><td>0</td><td>0</td><td>0</td><td>0</td><td>0</td></tr>\n",
              "\t<tr><td>1.371742e-03</td><td>0.0000000000</td><td>0.0000000000</td><td>0.0000000000</td><td>0.0000000000</td><td>0.0000000000</td><td>0.000000e+00</td><td>0.0164609053</td><td>0.000000000</td><td>0.000000000</td><td>⋯</td><td>0</td><td>0</td><td>0</td><td>0</td><td>0</td><td>0</td><td>0</td><td>0</td><td>0</td><td>0</td></tr>\n",
              "\t<tr><td>2.143347e-05</td><td>0.0001286008</td><td>0.0003215021</td><td>0.0004286694</td><td>0.0003215021</td><td>0.0001286008</td><td>2.143347e-05</td><td>0.0005144033</td><td>0.002572016</td><td>0.005144033</td><td>⋯</td><td>0</td><td>0</td><td>0</td><td>0</td><td>0</td><td>0</td><td>0</td><td>0</td><td>0</td><td>0</td></tr>\n",
              "\t<tr><td>0.000000e+00</td><td>0.0000000000</td><td>0.0000000000</td><td>0.0000000000</td><td>0.0000000000</td><td>0.0000000000</td><td>1.371742e-03</td><td>0.0000000000</td><td>0.000000000</td><td>0.000000000</td><td>⋯</td><td>0</td><td>0</td><td>0</td><td>0</td><td>0</td><td>0</td><td>0</td><td>0</td><td>0</td><td>0</td></tr>\n",
              "\t<tr><td>2.143347e-05</td><td>0.0000000000</td><td>0.0000000000</td><td>0.0000000000</td><td>0.0000000000</td><td>0.0000000000</td><td>0.000000e+00</td><td>0.0006430041</td><td>0.000000000</td><td>0.000000000</td><td>⋯</td><td>0</td><td>0</td><td>0</td><td>0</td><td>0</td><td>0</td><td>0</td><td>0</td><td>0</td><td>0</td></tr>\n",
              "\t<tr><td>0.000000e+00</td><td>0.0000000000</td><td>0.0000000000</td><td>0.0000000000</td><td>0.0000000000</td><td>0.0000000000</td><td>2.143347e-05</td><td>0.0000000000</td><td>0.000000000</td><td>0.000000000</td><td>⋯</td><td>0</td><td>0</td><td>0</td><td>0</td><td>0</td><td>0</td><td>0</td><td>0</td><td>0</td><td>0</td></tr>\n",
              "\t<tr><td>0.000000e+00</td><td>0.0000000000</td><td>0.0000000000</td><td>0.0000000000</td><td>0.0000000000</td><td>0.0000000000</td><td>0.000000e+00</td><td>0.0000000000</td><td>0.000000000</td><td>0.000000000</td><td>⋯</td><td>0</td><td>0</td><td>0</td><td>0</td><td>0</td><td>0</td><td>0</td><td>0</td><td>0</td><td>0</td></tr>\n",
              "\t<tr><td>3.348980e-01</td><td>0.0000000000</td><td>0.0000000000</td><td>0.0000000000</td><td>0.0000000000</td><td>0.0000000000</td><td>0.000000e+00</td><td>0.0000000000</td><td>0.000000000</td><td>0.000000000</td><td>⋯</td><td>0</td><td>0</td><td>0</td><td>0</td><td>0</td><td>0</td><td>0</td><td>0</td><td>0</td><td>0</td></tr>\n",
              "\t<tr><td>8.779150e-02</td><td>0.1316872428</td><td>0.0823045267</td><td>0.0274348422</td><td>0.0051440329</td><td>0.0005144033</td><td>2.143347e-05</td><td>0.0000000000</td><td>0.000000000</td><td>0.000000000</td><td>⋯</td><td>0</td><td>0</td><td>0</td><td>0</td><td>0</td><td>0</td><td>0</td><td>0</td><td>0</td><td>0</td></tr>\n",
              "\t<tr><td>⋮</td><td>⋮</td><td>⋮</td><td>⋮</td><td>⋮</td><td>⋮</td><td>⋮</td><td>⋮</td><td>⋮</td><td>⋮</td><td>⋱</td><td>⋮</td><td>⋮</td><td>⋮</td><td>⋮</td><td>⋮</td><td>⋮</td><td>⋮</td><td>⋮</td><td>⋮</td><td>⋮</td></tr>\n",
              "\t<tr><td>2.143347e-05</td><td>0.0000000000</td><td>0.0000000000</td><td>0.0000000000</td><td>0.0000000000</td><td>0.0000000000</td><td>0.000000e+00</td><td>0.0000000000</td><td>0</td><td>0</td><td>⋯</td><td>0.00000000</td><td>0.00000000</td><td>0.05208333</td><td>0.02604167</td><td>0.0312500</td><td>0.0000000</td><td>0.0000000</td><td>0.0312500</td><td>0.0312500</td><td>0.0156250</td></tr>\n",
              "\t<tr><td>0.000000e+00</td><td>0.0000000000</td><td>0.0000000000</td><td>0.0000000000</td><td>0.0000000000</td><td>0.0000000000</td><td>2.143347e-05</td><td>0.0000000000</td><td>0</td><td>0</td><td>⋯</td><td>0.05208333</td><td>0.00000000</td><td>0.05208333</td><td>0.02604167</td><td>0.0000000</td><td>0.0312500</td><td>0.0000000</td><td>0.0312500</td><td>0.0312500</td><td>0.0156250</td></tr>\n",
              "\t<tr><td>0.000000e+00</td><td>0.0000000000</td><td>0.0000000000</td><td>0.0000000000</td><td>0.0000000000</td><td>0.0000000000</td><td>0.000000e+00</td><td>0.0000000000</td><td>0</td><td>0</td><td>⋯</td><td>0.00000000</td><td>0.05208333</td><td>0.05208333</td><td>0.02604167</td><td>0.0000000</td><td>0.0000000</td><td>0.0312500</td><td>0.0312500</td><td>0.0312500</td><td>0.0156250</td></tr>\n",
              "\t<tr><td>0.000000e+00</td><td>0.0000000000</td><td>0.0000000000</td><td>0.0000000000</td><td>0.0000000000</td><td>0.0000000000</td><td>0.000000e+00</td><td>0.0000000000</td><td>0</td><td>0</td><td>⋯</td><td>0.00000000</td><td>0.00000000</td><td>0.10416667</td><td>0.02604167</td><td>0.0000000</td><td>0.0000000</td><td>0.0000000</td><td>0.0625000</td><td>0.0312500</td><td>0.0156250</td></tr>\n",
              "\t<tr><td>2.143347e-05</td><td>0.0000000000</td><td>0.0000000000</td><td>0.0000000000</td><td>0.0000000000</td><td>0.0000000000</td><td>0.000000e+00</td><td>0.0000000000</td><td>0</td><td>0</td><td>⋯</td><td>0.00000000</td><td>0.00000000</td><td>0.00000000</td><td>0.10416667</td><td>0.0312500</td><td>0.0000000</td><td>0.0000000</td><td>0.0000000</td><td>0.0625000</td><td>0.0156250</td></tr>\n",
              "\t<tr><td>0.000000e+00</td><td>0.0000000000</td><td>0.0000000000</td><td>0.0000000000</td><td>0.0000000000</td><td>0.0000000000</td><td>2.143347e-05</td><td>0.0000000000</td><td>0</td><td>0</td><td>⋯</td><td>0.10416667</td><td>0.00000000</td><td>0.00000000</td><td>0.10416667</td><td>0.0000000</td><td>0.0312500</td><td>0.0000000</td><td>0.0000000</td><td>0.0625000</td><td>0.0156250</td></tr>\n",
              "\t<tr><td>0.000000e+00</td><td>0.0000000000</td><td>0.0000000000</td><td>0.0000000000</td><td>0.0000000000</td><td>0.0000000000</td><td>0.000000e+00</td><td>0.0000000000</td><td>0</td><td>0</td><td>⋯</td><td>0.00000000</td><td>0.10416667</td><td>0.00000000</td><td>0.10416667</td><td>0.0000000</td><td>0.0000000</td><td>0.0312500</td><td>0.0000000</td><td>0.0625000</td><td>0.0156250</td></tr>\n",
              "\t<tr><td>0.000000e+00</td><td>0.0000000000</td><td>0.0000000000</td><td>0.0000000000</td><td>0.0000000000</td><td>0.0000000000</td><td>0.000000e+00</td><td>0.0000000000</td><td>0</td><td>0</td><td>⋯</td><td>0.00000000</td><td>0.00000000</td><td>0.10416667</td><td>0.10416667</td><td>0.0000000</td><td>0.0000000</td><td>0.0000000</td><td>0.0312500</td><td>0.0625000</td><td>0.0156250</td></tr>\n",
              "\t<tr><td>0.000000e+00</td><td>0.0000000000</td><td>0.0000000000</td><td>0.0000000000</td><td>0.0000000000</td><td>0.0000000000</td><td>0.000000e+00</td><td>0.0000000000</td><td>0</td><td>0</td><td>⋯</td><td>0.00000000</td><td>0.00000000</td><td>0.00000000</td><td>0.23437500</td><td>0.0000000</td><td>0.0000000</td><td>0.0000000</td><td>0.0000000</td><td>0.0937500</td><td>0.0156250</td></tr>\n",
              "\t<tr><td>1.371742e-03</td><td>0.0000000000</td><td>0.0000000000</td><td>0.0000000000</td><td>0.0000000000</td><td>0.0000000000</td><td>0.000000e+00</td><td>0.0000000000</td><td>0</td><td>0</td><td>⋯</td><td>0.00000000</td><td>0.00000000</td><td>0.00000000</td><td>0.00000000</td><td>0.2633745</td><td>0.0000000</td><td>0.0000000</td><td>0.0000000</td><td>0.0000000</td><td>0.0877915</td></tr>\n",
              "\t<tr><td>2.143347e-05</td><td>0.0001286008</td><td>0.0003215021</td><td>0.0004286694</td><td>0.0003215021</td><td>0.0001286008</td><td>2.143347e-05</td><td>0.0000000000</td><td>0</td><td>0</td><td>⋯</td><td>0.00000000</td><td>0.00000000</td><td>0.00000000</td><td>0.00000000</td><td>0.1316872</td><td>0.1316872</td><td>0.0000000</td><td>0.0000000</td><td>0.0000000</td><td>0.0877915</td></tr>\n",
              "\t<tr><td>0.000000e+00</td><td>0.0000000000</td><td>0.0000000000</td><td>0.0000000000</td><td>0.0000000000</td><td>0.0000000000</td><td>1.371742e-03</td><td>0.0000000000</td><td>0</td><td>0</td><td>⋯</td><td>0.00000000</td><td>0.00000000</td><td>0.00000000</td><td>0.00000000</td><td>0.0000000</td><td>0.2633745</td><td>0.0000000</td><td>0.0000000</td><td>0.0000000</td><td>0.0877915</td></tr>\n",
              "\t<tr><td>2.143347e-05</td><td>0.0000000000</td><td>0.0000000000</td><td>0.0000000000</td><td>0.0000000000</td><td>0.0000000000</td><td>0.000000e+00</td><td>0.0001286008</td><td>0</td><td>0</td><td>⋯</td><td>0.00000000</td><td>0.00000000</td><td>0.00000000</td><td>0.00000000</td><td>0.1316872</td><td>0.0000000</td><td>0.1316872</td><td>0.0000000</td><td>0.0000000</td><td>0.0877915</td></tr>\n",
              "\t<tr><td>0.000000e+00</td><td>0.0000000000</td><td>0.0000000000</td><td>0.0000000000</td><td>0.0000000000</td><td>0.0000000000</td><td>2.143347e-05</td><td>0.0000000000</td><td>0</td><td>0</td><td>⋯</td><td>0.00000000</td><td>0.00000000</td><td>0.00000000</td><td>0.00000000</td><td>0.0000000</td><td>0.1316872</td><td>0.1316872</td><td>0.0000000</td><td>0.0000000</td><td>0.0877915</td></tr>\n",
              "\t<tr><td>0.000000e+00</td><td>0.0000000000</td><td>0.0000000000</td><td>0.0000000000</td><td>0.0000000000</td><td>0.0000000000</td><td>0.000000e+00</td><td>0.0000000000</td><td>0</td><td>0</td><td>⋯</td><td>0.00000000</td><td>0.00000000</td><td>0.00000000</td><td>0.00000000</td><td>0.0000000</td><td>0.0000000</td><td>0.2633745</td><td>0.0000000</td><td>0.0000000</td><td>0.0877915</td></tr>\n",
              "\t<tr><td>2.143347e-05</td><td>0.0000000000</td><td>0.0000000000</td><td>0.0000000000</td><td>0.0000000000</td><td>0.0000000000</td><td>0.000000e+00</td><td>0.0000000000</td><td>0</td><td>0</td><td>⋯</td><td>0.00000000</td><td>0.00000000</td><td>0.00000000</td><td>0.00000000</td><td>0.1316872</td><td>0.0000000</td><td>0.0000000</td><td>0.1316872</td><td>0.0000000</td><td>0.0877915</td></tr>\n",
              "\t<tr><td>0.000000e+00</td><td>0.0000000000</td><td>0.0000000000</td><td>0.0000000000</td><td>0.0000000000</td><td>0.0000000000</td><td>2.143347e-05</td><td>0.0000000000</td><td>0</td><td>0</td><td>⋯</td><td>0.00000000</td><td>0.00000000</td><td>0.00000000</td><td>0.00000000</td><td>0.0000000</td><td>0.1316872</td><td>0.0000000</td><td>0.1316872</td><td>0.0000000</td><td>0.0877915</td></tr>\n",
              "\t<tr><td>0.000000e+00</td><td>0.0000000000</td><td>0.0000000000</td><td>0.0000000000</td><td>0.0000000000</td><td>0.0000000000</td><td>0.000000e+00</td><td>0.0000000000</td><td>0</td><td>0</td><td>⋯</td><td>0.00000000</td><td>0.00000000</td><td>0.00000000</td><td>0.00000000</td><td>0.0000000</td><td>0.0000000</td><td>0.1316872</td><td>0.1316872</td><td>0.0000000</td><td>0.0877915</td></tr>\n",
              "\t<tr><td>0.000000e+00</td><td>0.0000000000</td><td>0.0000000000</td><td>0.0000000000</td><td>0.0000000000</td><td>0.0000000000</td><td>0.000000e+00</td><td>0.0000000000</td><td>0</td><td>0</td><td>⋯</td><td>0.00000000</td><td>0.00000000</td><td>0.00000000</td><td>0.00000000</td><td>0.0000000</td><td>0.0000000</td><td>0.0000000</td><td>0.2633745</td><td>0.0000000</td><td>0.0877915</td></tr>\n",
              "\t<tr><td>2.143347e-05</td><td>0.0000000000</td><td>0.0000000000</td><td>0.0000000000</td><td>0.0000000000</td><td>0.0000000000</td><td>0.000000e+00</td><td>0.0000000000</td><td>0</td><td>0</td><td>⋯</td><td>0.00000000</td><td>0.00000000</td><td>0.00000000</td><td>0.08230453</td><td>0.1316872</td><td>0.0000000</td><td>0.0000000</td><td>0.0000000</td><td>0.1316872</td><td>0.0877915</td></tr>\n",
              "\t<tr><td>0.000000e+00</td><td>0.0000000000</td><td>0.0000000000</td><td>0.0000000000</td><td>0.0000000000</td><td>0.0000000000</td><td>2.143347e-05</td><td>0.0000000000</td><td>0</td><td>0</td><td>⋯</td><td>0.16460905</td><td>0.00000000</td><td>0.00000000</td><td>0.08230453</td><td>0.0000000</td><td>0.1316872</td><td>0.0000000</td><td>0.0000000</td><td>0.1316872</td><td>0.0877915</td></tr>\n",
              "\t<tr><td>0.000000e+00</td><td>0.0000000000</td><td>0.0000000000</td><td>0.0000000000</td><td>0.0000000000</td><td>0.0000000000</td><td>0.000000e+00</td><td>0.0000000000</td><td>0</td><td>0</td><td>⋯</td><td>0.00000000</td><td>0.16460905</td><td>0.00000000</td><td>0.08230453</td><td>0.0000000</td><td>0.0000000</td><td>0.1316872</td><td>0.0000000</td><td>0.1316872</td><td>0.0877915</td></tr>\n",
              "\t<tr><td>0.000000e+00</td><td>0.0000000000</td><td>0.0000000000</td><td>0.0000000000</td><td>0.0000000000</td><td>0.0000000000</td><td>0.000000e+00</td><td>0.0000000000</td><td>0</td><td>0</td><td>⋯</td><td>0.00000000</td><td>0.00000000</td><td>0.16460905</td><td>0.08230453</td><td>0.0000000</td><td>0.0000000</td><td>0.0000000</td><td>0.1316872</td><td>0.1316872</td><td>0.0877915</td></tr>\n",
              "\t<tr><td>0.000000e+00</td><td>0.0000000000</td><td>0.0000000000</td><td>0.0000000000</td><td>0.0000000000</td><td>0.0000000000</td><td>0.000000e+00</td><td>0.0000000000</td><td>0</td><td>0</td><td>⋯</td><td>0.00000000</td><td>0.00000000</td><td>0.00000000</td><td>0.32921811</td><td>0.0000000</td><td>0.0000000</td><td>0.0000000</td><td>0.0000000</td><td>0.2633745</td><td>0.0877915</td></tr>\n",
              "\t<tr><td>2.143347e-05</td><td>0.0000000000</td><td>0.0000000000</td><td>0.0000000000</td><td>0.0000000000</td><td>0.0000000000</td><td>0.000000e+00</td><td>0.0000000000</td><td>0</td><td>0</td><td>⋯</td><td>0.00000000</td><td>0.00000000</td><td>0.00000000</td><td>0.00000000</td><td>0.4018776</td><td>0.0000000</td><td>0.0000000</td><td>0.0000000</td><td>0.0000000</td><td>0.3348980</td></tr>\n",
              "\t<tr><td>0.000000e+00</td><td>0.0000000000</td><td>0.0000000000</td><td>0.0000000000</td><td>0.0000000000</td><td>0.0000000000</td><td>2.143347e-05</td><td>0.0000000000</td><td>0</td><td>0</td><td>⋯</td><td>0.00000000</td><td>0.00000000</td><td>0.00000000</td><td>0.00000000</td><td>0.0000000</td><td>0.4018776</td><td>0.0000000</td><td>0.0000000</td><td>0.0000000</td><td>0.3348980</td></tr>\n",
              "\t<tr><td>0.000000e+00</td><td>0.0000000000</td><td>0.0000000000</td><td>0.0000000000</td><td>0.0000000000</td><td>0.0000000000</td><td>0.000000e+00</td><td>0.0000000000</td><td>0</td><td>0</td><td>⋯</td><td>0.00000000</td><td>0.00000000</td><td>0.00000000</td><td>0.00000000</td><td>0.0000000</td><td>0.0000000</td><td>0.4018776</td><td>0.0000000</td><td>0.0000000</td><td>0.3348980</td></tr>\n",
              "\t<tr><td>0.000000e+00</td><td>0.0000000000</td><td>0.0000000000</td><td>0.0000000000</td><td>0.0000000000</td><td>0.0000000000</td><td>0.000000e+00</td><td>0.0000000000</td><td>0</td><td>0</td><td>⋯</td><td>0.00000000</td><td>0.00000000</td><td>0.00000000</td><td>0.00000000</td><td>0.0000000</td><td>0.0000000</td><td>0.0000000</td><td>0.4018776</td><td>0.0000000</td><td>0.3348980</td></tr>\n",
              "\t<tr><td>0.000000e+00</td><td>0.0000000000</td><td>0.0000000000</td><td>0.0000000000</td><td>0.0000000000</td><td>0.0000000000</td><td>0.000000e+00</td><td>0.0000000000</td><td>0</td><td>0</td><td>⋯</td><td>0.00000000</td><td>0.00000000</td><td>0.00000000</td><td>0.20093879</td><td>0.0000000</td><td>0.0000000</td><td>0.0000000</td><td>0.0000000</td><td>0.4018776</td><td>0.3348980</td></tr>\n",
              "\t<tr><td>0.000000e+00</td><td>0.0000000000</td><td>0.0000000000</td><td>0.0000000000</td><td>0.0000000000</td><td>0.0000000000</td><td>0.000000e+00</td><td>0.0000000000</td><td>0</td><td>0</td><td>⋯</td><td>0.00000000</td><td>0.00000000</td><td>0.00000000</td><td>0.00000000</td><td>0.0000000</td><td>0.0000000</td><td>0.0000000</td><td>0.0000000</td><td>0.0000000</td><td>1.0000000</td></tr>\n",
              "</tbody>\n",
              "</table>\n"
            ],
            "text/markdown": "\nA matrix: 462 × 462 of type dbl\n\n| 1.000000e+00 | 0.0000000000 | 0.0000000000 | 0.0000000000 | 0.0000000000 | 0.0000000000 | 0.000000e+00 | 0.0000000000 | 0.000000000 | 0.000000000 | ⋯ | 0 | 0 | 0 | 0 | 0 | 0 | 0 | 0 | 0 | 0 |\n| 3.348980e-01 | 0.4018775720 | 0.2009387860 | 0.0535836763 | 0.0080375514 | 0.0006430041 | 2.143347e-05 | 0.0000000000 | 0.000000000 | 0.000000000 | ⋯ | 0 | 0 | 0 | 0 | 0 | 0 | 0 | 0 | 0 | 0 |\n| 8.779150e-02 | 0.2633744856 | 0.3292181070 | 0.2194787380 | 0.0823045267 | 0.0164609053 | 1.371742e-03 | 0.0000000000 | 0.000000000 | 0.000000000 | ⋯ | 0 | 0 | 0 | 0 | 0 | 0 | 0 | 0 | 0 | 0 |\n| 1.562500e-02 | 0.0937500000 | 0.2343750000 | 0.3125000000 | 0.2343750000 | 0.0937500000 | 1.562500e-02 | 0.0000000000 | 0.000000000 | 0.000000000 | ⋯ | 0 | 0 | 0 | 0 | 0 | 0 | 0 | 0 | 0 | 0 |\n| 1.371742e-03 | 0.0164609053 | 0.0823045267 | 0.2194787380 | 0.3292181070 | 0.2633744856 | 8.779150e-02 | 0.0000000000 | 0.000000000 | 0.000000000 | ⋯ | 0 | 0 | 0 | 0 | 0 | 0 | 0 | 0 | 0 | 0 |\n| 2.143347e-05 | 0.0006430041 | 0.0080375514 | 0.0535836763 | 0.2009387860 | 0.4018775720 | 3.348980e-01 | 0.0000000000 | 0.000000000 | 0.000000000 | ⋯ | 0 | 0 | 0 | 0 | 0 | 0 | 0 | 0 | 0 | 0 |\n| 0.000000e+00 | 0.0000000000 | 0.0000000000 | 0.0000000000 | 0.0000000000 | 0.0000000000 | 1.000000e+00 | 0.0000000000 | 0.000000000 | 0.000000000 | ⋯ | 0 | 0 | 0 | 0 | 0 | 0 | 0 | 0 | 0 | 0 |\n| 3.348980e-01 | 0.0000000000 | 0.0000000000 | 0.0000000000 | 0.0000000000 | 0.0000000000 | 0.000000e+00 | 0.4018775720 | 0.000000000 | 0.000000000 | ⋯ | 0 | 0 | 0 | 0 | 0 | 0 | 0 | 0 | 0 | 0 |\n| 8.779150e-02 | 0.1316872428 | 0.0823045267 | 0.0274348422 | 0.0051440329 | 0.0005144033 | 2.143347e-05 | 0.1316872428 | 0.164609053 | 0.082304527 | ⋯ | 0 | 0 | 0 | 0 | 0 | 0 | 0 | 0 | 0 | 0 |\n| 1.562500e-02 | 0.0625000000 | 0.1041666667 | 0.0925925926 | 0.0462962963 | 0.0123456790 | 1.371742e-03 | 0.0312500000 | 0.104166667 | 0.138888889 | ⋯ | 0 | 0 | 0 | 0 | 0 | 0 | 0 | 0 | 0 | 0 |\n| 1.371742e-03 | 0.0123456790 | 0.0462962963 | 0.0925925926 | 0.1041666667 | 0.0625000000 | 1.562500e-02 | 0.0041152263 | 0.030864198 | 0.092592593 | ⋯ | 0 | 0 | 0 | 0 | 0 | 0 | 0 | 0 | 0 | 0 |\n| 2.143347e-05 | 0.0005144033 | 0.0051440329 | 0.0274348422 | 0.0823045267 | 0.1316872428 | 8.779150e-02 | 0.0001286008 | 0.002572016 | 0.020576132 | ⋯ | 0 | 0 | 0 | 0 | 0 | 0 | 0 | 0 | 0 | 0 |\n| 0.000000e+00 | 0.0000000000 | 0.0000000000 | 0.0000000000 | 0.0000000000 | 0.0000000000 | 3.348980e-01 | 0.0000000000 | 0.000000000 | 0.000000000 | ⋯ | 0 | 0 | 0 | 0 | 0 | 0 | 0 | 0 | 0 | 0 |\n| 8.779150e-02 | 0.0000000000 | 0.0000000000 | 0.0000000000 | 0.0000000000 | 0.0000000000 | 0.000000e+00 | 0.2633744856 | 0.000000000 | 0.000000000 | ⋯ | 0 | 0 | 0 | 0 | 0 | 0 | 0 | 0 | 0 | 0 |\n| 1.562500e-02 | 0.0312500000 | 0.0260416667 | 0.0115740741 | 0.0028935185 | 0.0003858025 | 2.143347e-05 | 0.0625000000 | 0.104166667 | 0.069444444 | ⋯ | 0 | 0 | 0 | 0 | 0 | 0 | 0 | 0 | 0 | 0 |\n| 1.371742e-03 | 0.0082304527 | 0.0205761317 | 0.0274348422 | 0.0205761317 | 0.0082304527 | 1.371742e-03 | 0.0082304527 | 0.041152263 | 0.082304527 | ⋯ | 0 | 0 | 0 | 0 | 0 | 0 | 0 | 0 | 0 | 0 |\n| 2.143347e-05 | 0.0003858025 | 0.0028935185 | 0.0115740741 | 0.0260416667 | 0.0312500000 | 1.562500e-02 | 0.0002572016 | 0.003858025 | 0.023148148 | ⋯ | 0 | 0 | 0 | 0 | 0 | 0 | 0 | 0 | 0 | 0 |\n| 0.000000e+00 | 0.0000000000 | 0.0000000000 | 0.0000000000 | 0.0000000000 | 0.0000000000 | 8.779150e-02 | 0.0000000000 | 0.000000000 | 0.000000000 | ⋯ | 0 | 0 | 0 | 0 | 0 | 0 | 0 | 0 | 0 | 0 |\n| 1.562500e-02 | 0.0000000000 | 0.0000000000 | 0.0000000000 | 0.0000000000 | 0.0000000000 | 0.000000e+00 | 0.0937500000 | 0.000000000 | 0.000000000 | ⋯ | 0 | 0 | 0 | 0 | 0 | 0 | 0 | 0 | 0 | 0 |\n| 1.371742e-03 | 0.0041152263 | 0.0051440329 | 0.0034293553 | 0.0012860082 | 0.0002572016 | 2.143347e-05 | 0.0123456790 | 0.030864198 | 0.030864198 | ⋯ | 0 | 0 | 0 | 0 | 0 | 0 | 0 | 0 | 0 | 0 |\n| 2.143347e-05 | 0.0002572016 | 0.0012860082 | 0.0034293553 | 0.0051440329 | 0.0041152263 | 1.371742e-03 | 0.0003858025 | 0.003858025 | 0.015432099 | ⋯ | 0 | 0 | 0 | 0 | 0 | 0 | 0 | 0 | 0 | 0 |\n| 0.000000e+00 | 0.0000000000 | 0.0000000000 | 0.0000000000 | 0.0000000000 | 0.0000000000 | 1.562500e-02 | 0.0000000000 | 0.000000000 | 0.000000000 | ⋯ | 0 | 0 | 0 | 0 | 0 | 0 | 0 | 0 | 0 | 0 |\n| 1.371742e-03 | 0.0000000000 | 0.0000000000 | 0.0000000000 | 0.0000000000 | 0.0000000000 | 0.000000e+00 | 0.0164609053 | 0.000000000 | 0.000000000 | ⋯ | 0 | 0 | 0 | 0 | 0 | 0 | 0 | 0 | 0 | 0 |\n| 2.143347e-05 | 0.0001286008 | 0.0003215021 | 0.0004286694 | 0.0003215021 | 0.0001286008 | 2.143347e-05 | 0.0005144033 | 0.002572016 | 0.005144033 | ⋯ | 0 | 0 | 0 | 0 | 0 | 0 | 0 | 0 | 0 | 0 |\n| 0.000000e+00 | 0.0000000000 | 0.0000000000 | 0.0000000000 | 0.0000000000 | 0.0000000000 | 1.371742e-03 | 0.0000000000 | 0.000000000 | 0.000000000 | ⋯ | 0 | 0 | 0 | 0 | 0 | 0 | 0 | 0 | 0 | 0 |\n| 2.143347e-05 | 0.0000000000 | 0.0000000000 | 0.0000000000 | 0.0000000000 | 0.0000000000 | 0.000000e+00 | 0.0006430041 | 0.000000000 | 0.000000000 | ⋯ | 0 | 0 | 0 | 0 | 0 | 0 | 0 | 0 | 0 | 0 |\n| 0.000000e+00 | 0.0000000000 | 0.0000000000 | 0.0000000000 | 0.0000000000 | 0.0000000000 | 2.143347e-05 | 0.0000000000 | 0.000000000 | 0.000000000 | ⋯ | 0 | 0 | 0 | 0 | 0 | 0 | 0 | 0 | 0 | 0 |\n| 0.000000e+00 | 0.0000000000 | 0.0000000000 | 0.0000000000 | 0.0000000000 | 0.0000000000 | 0.000000e+00 | 0.0000000000 | 0.000000000 | 0.000000000 | ⋯ | 0 | 0 | 0 | 0 | 0 | 0 | 0 | 0 | 0 | 0 |\n| 3.348980e-01 | 0.0000000000 | 0.0000000000 | 0.0000000000 | 0.0000000000 | 0.0000000000 | 0.000000e+00 | 0.0000000000 | 0.000000000 | 0.000000000 | ⋯ | 0 | 0 | 0 | 0 | 0 | 0 | 0 | 0 | 0 | 0 |\n| 8.779150e-02 | 0.1316872428 | 0.0823045267 | 0.0274348422 | 0.0051440329 | 0.0005144033 | 2.143347e-05 | 0.0000000000 | 0.000000000 | 0.000000000 | ⋯ | 0 | 0 | 0 | 0 | 0 | 0 | 0 | 0 | 0 | 0 |\n| ⋮ | ⋮ | ⋮ | ⋮ | ⋮ | ⋮ | ⋮ | ⋮ | ⋮ | ⋮ | ⋱ | ⋮ | ⋮ | ⋮ | ⋮ | ⋮ | ⋮ | ⋮ | ⋮ | ⋮ | ⋮ |\n| 2.143347e-05 | 0.0000000000 | 0.0000000000 | 0.0000000000 | 0.0000000000 | 0.0000000000 | 0.000000e+00 | 0.0000000000 | 0 | 0 | ⋯ | 0.00000000 | 0.00000000 | 0.05208333 | 0.02604167 | 0.0312500 | 0.0000000 | 0.0000000 | 0.0312500 | 0.0312500 | 0.0156250 |\n| 0.000000e+00 | 0.0000000000 | 0.0000000000 | 0.0000000000 | 0.0000000000 | 0.0000000000 | 2.143347e-05 | 0.0000000000 | 0 | 0 | ⋯ | 0.05208333 | 0.00000000 | 0.05208333 | 0.02604167 | 0.0000000 | 0.0312500 | 0.0000000 | 0.0312500 | 0.0312500 | 0.0156250 |\n| 0.000000e+00 | 0.0000000000 | 0.0000000000 | 0.0000000000 | 0.0000000000 | 0.0000000000 | 0.000000e+00 | 0.0000000000 | 0 | 0 | ⋯ | 0.00000000 | 0.05208333 | 0.05208333 | 0.02604167 | 0.0000000 | 0.0000000 | 0.0312500 | 0.0312500 | 0.0312500 | 0.0156250 |\n| 0.000000e+00 | 0.0000000000 | 0.0000000000 | 0.0000000000 | 0.0000000000 | 0.0000000000 | 0.000000e+00 | 0.0000000000 | 0 | 0 | ⋯ | 0.00000000 | 0.00000000 | 0.10416667 | 0.02604167 | 0.0000000 | 0.0000000 | 0.0000000 | 0.0625000 | 0.0312500 | 0.0156250 |\n| 2.143347e-05 | 0.0000000000 | 0.0000000000 | 0.0000000000 | 0.0000000000 | 0.0000000000 | 0.000000e+00 | 0.0000000000 | 0 | 0 | ⋯ | 0.00000000 | 0.00000000 | 0.00000000 | 0.10416667 | 0.0312500 | 0.0000000 | 0.0000000 | 0.0000000 | 0.0625000 | 0.0156250 |\n| 0.000000e+00 | 0.0000000000 | 0.0000000000 | 0.0000000000 | 0.0000000000 | 0.0000000000 | 2.143347e-05 | 0.0000000000 | 0 | 0 | ⋯ | 0.10416667 | 0.00000000 | 0.00000000 | 0.10416667 | 0.0000000 | 0.0312500 | 0.0000000 | 0.0000000 | 0.0625000 | 0.0156250 |\n| 0.000000e+00 | 0.0000000000 | 0.0000000000 | 0.0000000000 | 0.0000000000 | 0.0000000000 | 0.000000e+00 | 0.0000000000 | 0 | 0 | ⋯ | 0.00000000 | 0.10416667 | 0.00000000 | 0.10416667 | 0.0000000 | 0.0000000 | 0.0312500 | 0.0000000 | 0.0625000 | 0.0156250 |\n| 0.000000e+00 | 0.0000000000 | 0.0000000000 | 0.0000000000 | 0.0000000000 | 0.0000000000 | 0.000000e+00 | 0.0000000000 | 0 | 0 | ⋯ | 0.00000000 | 0.00000000 | 0.10416667 | 0.10416667 | 0.0000000 | 0.0000000 | 0.0000000 | 0.0312500 | 0.0625000 | 0.0156250 |\n| 0.000000e+00 | 0.0000000000 | 0.0000000000 | 0.0000000000 | 0.0000000000 | 0.0000000000 | 0.000000e+00 | 0.0000000000 | 0 | 0 | ⋯ | 0.00000000 | 0.00000000 | 0.00000000 | 0.23437500 | 0.0000000 | 0.0000000 | 0.0000000 | 0.0000000 | 0.0937500 | 0.0156250 |\n| 1.371742e-03 | 0.0000000000 | 0.0000000000 | 0.0000000000 | 0.0000000000 | 0.0000000000 | 0.000000e+00 | 0.0000000000 | 0 | 0 | ⋯ | 0.00000000 | 0.00000000 | 0.00000000 | 0.00000000 | 0.2633745 | 0.0000000 | 0.0000000 | 0.0000000 | 0.0000000 | 0.0877915 |\n| 2.143347e-05 | 0.0001286008 | 0.0003215021 | 0.0004286694 | 0.0003215021 | 0.0001286008 | 2.143347e-05 | 0.0000000000 | 0 | 0 | ⋯ | 0.00000000 | 0.00000000 | 0.00000000 | 0.00000000 | 0.1316872 | 0.1316872 | 0.0000000 | 0.0000000 | 0.0000000 | 0.0877915 |\n| 0.000000e+00 | 0.0000000000 | 0.0000000000 | 0.0000000000 | 0.0000000000 | 0.0000000000 | 1.371742e-03 | 0.0000000000 | 0 | 0 | ⋯ | 0.00000000 | 0.00000000 | 0.00000000 | 0.00000000 | 0.0000000 | 0.2633745 | 0.0000000 | 0.0000000 | 0.0000000 | 0.0877915 |\n| 2.143347e-05 | 0.0000000000 | 0.0000000000 | 0.0000000000 | 0.0000000000 | 0.0000000000 | 0.000000e+00 | 0.0001286008 | 0 | 0 | ⋯ | 0.00000000 | 0.00000000 | 0.00000000 | 0.00000000 | 0.1316872 | 0.0000000 | 0.1316872 | 0.0000000 | 0.0000000 | 0.0877915 |\n| 0.000000e+00 | 0.0000000000 | 0.0000000000 | 0.0000000000 | 0.0000000000 | 0.0000000000 | 2.143347e-05 | 0.0000000000 | 0 | 0 | ⋯ | 0.00000000 | 0.00000000 | 0.00000000 | 0.00000000 | 0.0000000 | 0.1316872 | 0.1316872 | 0.0000000 | 0.0000000 | 0.0877915 |\n| 0.000000e+00 | 0.0000000000 | 0.0000000000 | 0.0000000000 | 0.0000000000 | 0.0000000000 | 0.000000e+00 | 0.0000000000 | 0 | 0 | ⋯ | 0.00000000 | 0.00000000 | 0.00000000 | 0.00000000 | 0.0000000 | 0.0000000 | 0.2633745 | 0.0000000 | 0.0000000 | 0.0877915 |\n| 2.143347e-05 | 0.0000000000 | 0.0000000000 | 0.0000000000 | 0.0000000000 | 0.0000000000 | 0.000000e+00 | 0.0000000000 | 0 | 0 | ⋯ | 0.00000000 | 0.00000000 | 0.00000000 | 0.00000000 | 0.1316872 | 0.0000000 | 0.0000000 | 0.1316872 | 0.0000000 | 0.0877915 |\n| 0.000000e+00 | 0.0000000000 | 0.0000000000 | 0.0000000000 | 0.0000000000 | 0.0000000000 | 2.143347e-05 | 0.0000000000 | 0 | 0 | ⋯ | 0.00000000 | 0.00000000 | 0.00000000 | 0.00000000 | 0.0000000 | 0.1316872 | 0.0000000 | 0.1316872 | 0.0000000 | 0.0877915 |\n| 0.000000e+00 | 0.0000000000 | 0.0000000000 | 0.0000000000 | 0.0000000000 | 0.0000000000 | 0.000000e+00 | 0.0000000000 | 0 | 0 | ⋯ | 0.00000000 | 0.00000000 | 0.00000000 | 0.00000000 | 0.0000000 | 0.0000000 | 0.1316872 | 0.1316872 | 0.0000000 | 0.0877915 |\n| 0.000000e+00 | 0.0000000000 | 0.0000000000 | 0.0000000000 | 0.0000000000 | 0.0000000000 | 0.000000e+00 | 0.0000000000 | 0 | 0 | ⋯ | 0.00000000 | 0.00000000 | 0.00000000 | 0.00000000 | 0.0000000 | 0.0000000 | 0.0000000 | 0.2633745 | 0.0000000 | 0.0877915 |\n| 2.143347e-05 | 0.0000000000 | 0.0000000000 | 0.0000000000 | 0.0000000000 | 0.0000000000 | 0.000000e+00 | 0.0000000000 | 0 | 0 | ⋯ | 0.00000000 | 0.00000000 | 0.00000000 | 0.08230453 | 0.1316872 | 0.0000000 | 0.0000000 | 0.0000000 | 0.1316872 | 0.0877915 |\n| 0.000000e+00 | 0.0000000000 | 0.0000000000 | 0.0000000000 | 0.0000000000 | 0.0000000000 | 2.143347e-05 | 0.0000000000 | 0 | 0 | ⋯ | 0.16460905 | 0.00000000 | 0.00000000 | 0.08230453 | 0.0000000 | 0.1316872 | 0.0000000 | 0.0000000 | 0.1316872 | 0.0877915 |\n| 0.000000e+00 | 0.0000000000 | 0.0000000000 | 0.0000000000 | 0.0000000000 | 0.0000000000 | 0.000000e+00 | 0.0000000000 | 0 | 0 | ⋯ | 0.00000000 | 0.16460905 | 0.00000000 | 0.08230453 | 0.0000000 | 0.0000000 | 0.1316872 | 0.0000000 | 0.1316872 | 0.0877915 |\n| 0.000000e+00 | 0.0000000000 | 0.0000000000 | 0.0000000000 | 0.0000000000 | 0.0000000000 | 0.000000e+00 | 0.0000000000 | 0 | 0 | ⋯ | 0.00000000 | 0.00000000 | 0.16460905 | 0.08230453 | 0.0000000 | 0.0000000 | 0.0000000 | 0.1316872 | 0.1316872 | 0.0877915 |\n| 0.000000e+00 | 0.0000000000 | 0.0000000000 | 0.0000000000 | 0.0000000000 | 0.0000000000 | 0.000000e+00 | 0.0000000000 | 0 | 0 | ⋯ | 0.00000000 | 0.00000000 | 0.00000000 | 0.32921811 | 0.0000000 | 0.0000000 | 0.0000000 | 0.0000000 | 0.2633745 | 0.0877915 |\n| 2.143347e-05 | 0.0000000000 | 0.0000000000 | 0.0000000000 | 0.0000000000 | 0.0000000000 | 0.000000e+00 | 0.0000000000 | 0 | 0 | ⋯ | 0.00000000 | 0.00000000 | 0.00000000 | 0.00000000 | 0.4018776 | 0.0000000 | 0.0000000 | 0.0000000 | 0.0000000 | 0.3348980 |\n| 0.000000e+00 | 0.0000000000 | 0.0000000000 | 0.0000000000 | 0.0000000000 | 0.0000000000 | 2.143347e-05 | 0.0000000000 | 0 | 0 | ⋯ | 0.00000000 | 0.00000000 | 0.00000000 | 0.00000000 | 0.0000000 | 0.4018776 | 0.0000000 | 0.0000000 | 0.0000000 | 0.3348980 |\n| 0.000000e+00 | 0.0000000000 | 0.0000000000 | 0.0000000000 | 0.0000000000 | 0.0000000000 | 0.000000e+00 | 0.0000000000 | 0 | 0 | ⋯ | 0.00000000 | 0.00000000 | 0.00000000 | 0.00000000 | 0.0000000 | 0.0000000 | 0.4018776 | 0.0000000 | 0.0000000 | 0.3348980 |\n| 0.000000e+00 | 0.0000000000 | 0.0000000000 | 0.0000000000 | 0.0000000000 | 0.0000000000 | 0.000000e+00 | 0.0000000000 | 0 | 0 | ⋯ | 0.00000000 | 0.00000000 | 0.00000000 | 0.00000000 | 0.0000000 | 0.0000000 | 0.0000000 | 0.4018776 | 0.0000000 | 0.3348980 |\n| 0.000000e+00 | 0.0000000000 | 0.0000000000 | 0.0000000000 | 0.0000000000 | 0.0000000000 | 0.000000e+00 | 0.0000000000 | 0 | 0 | ⋯ | 0.00000000 | 0.00000000 | 0.00000000 | 0.20093879 | 0.0000000 | 0.0000000 | 0.0000000 | 0.0000000 | 0.4018776 | 0.3348980 |\n| 0.000000e+00 | 0.0000000000 | 0.0000000000 | 0.0000000000 | 0.0000000000 | 0.0000000000 | 0.000000e+00 | 0.0000000000 | 0 | 0 | ⋯ | 0.00000000 | 0.00000000 | 0.00000000 | 0.00000000 | 0.0000000 | 0.0000000 | 0.0000000 | 0.0000000 | 0.0000000 | 1.0000000 |\n\n",
            "text/latex": "A matrix: 462 × 462 of type dbl\n\\begin{tabular}{lllllllllllllllllllll}\n\t 1.000000e+00 & 0.0000000000 & 0.0000000000 & 0.0000000000 & 0.0000000000 & 0.0000000000 & 0.000000e+00 & 0.0000000000 & 0.000000000 & 0.000000000 & ⋯ & 0 & 0 & 0 & 0 & 0 & 0 & 0 & 0 & 0 & 0\\\\\n\t 3.348980e-01 & 0.4018775720 & 0.2009387860 & 0.0535836763 & 0.0080375514 & 0.0006430041 & 2.143347e-05 & 0.0000000000 & 0.000000000 & 0.000000000 & ⋯ & 0 & 0 & 0 & 0 & 0 & 0 & 0 & 0 & 0 & 0\\\\\n\t 8.779150e-02 & 0.2633744856 & 0.3292181070 & 0.2194787380 & 0.0823045267 & 0.0164609053 & 1.371742e-03 & 0.0000000000 & 0.000000000 & 0.000000000 & ⋯ & 0 & 0 & 0 & 0 & 0 & 0 & 0 & 0 & 0 & 0\\\\\n\t 1.562500e-02 & 0.0937500000 & 0.2343750000 & 0.3125000000 & 0.2343750000 & 0.0937500000 & 1.562500e-02 & 0.0000000000 & 0.000000000 & 0.000000000 & ⋯ & 0 & 0 & 0 & 0 & 0 & 0 & 0 & 0 & 0 & 0\\\\\n\t 1.371742e-03 & 0.0164609053 & 0.0823045267 & 0.2194787380 & 0.3292181070 & 0.2633744856 & 8.779150e-02 & 0.0000000000 & 0.000000000 & 0.000000000 & ⋯ & 0 & 0 & 0 & 0 & 0 & 0 & 0 & 0 & 0 & 0\\\\\n\t 2.143347e-05 & 0.0006430041 & 0.0080375514 & 0.0535836763 & 0.2009387860 & 0.4018775720 & 3.348980e-01 & 0.0000000000 & 0.000000000 & 0.000000000 & ⋯ & 0 & 0 & 0 & 0 & 0 & 0 & 0 & 0 & 0 & 0\\\\\n\t 0.000000e+00 & 0.0000000000 & 0.0000000000 & 0.0000000000 & 0.0000000000 & 0.0000000000 & 1.000000e+00 & 0.0000000000 & 0.000000000 & 0.000000000 & ⋯ & 0 & 0 & 0 & 0 & 0 & 0 & 0 & 0 & 0 & 0\\\\\n\t 3.348980e-01 & 0.0000000000 & 0.0000000000 & 0.0000000000 & 0.0000000000 & 0.0000000000 & 0.000000e+00 & 0.4018775720 & 0.000000000 & 0.000000000 & ⋯ & 0 & 0 & 0 & 0 & 0 & 0 & 0 & 0 & 0 & 0\\\\\n\t 8.779150e-02 & 0.1316872428 & 0.0823045267 & 0.0274348422 & 0.0051440329 & 0.0005144033 & 2.143347e-05 & 0.1316872428 & 0.164609053 & 0.082304527 & ⋯ & 0 & 0 & 0 & 0 & 0 & 0 & 0 & 0 & 0 & 0\\\\\n\t 1.562500e-02 & 0.0625000000 & 0.1041666667 & 0.0925925926 & 0.0462962963 & 0.0123456790 & 1.371742e-03 & 0.0312500000 & 0.104166667 & 0.138888889 & ⋯ & 0 & 0 & 0 & 0 & 0 & 0 & 0 & 0 & 0 & 0\\\\\n\t 1.371742e-03 & 0.0123456790 & 0.0462962963 & 0.0925925926 & 0.1041666667 & 0.0625000000 & 1.562500e-02 & 0.0041152263 & 0.030864198 & 0.092592593 & ⋯ & 0 & 0 & 0 & 0 & 0 & 0 & 0 & 0 & 0 & 0\\\\\n\t 2.143347e-05 & 0.0005144033 & 0.0051440329 & 0.0274348422 & 0.0823045267 & 0.1316872428 & 8.779150e-02 & 0.0001286008 & 0.002572016 & 0.020576132 & ⋯ & 0 & 0 & 0 & 0 & 0 & 0 & 0 & 0 & 0 & 0\\\\\n\t 0.000000e+00 & 0.0000000000 & 0.0000000000 & 0.0000000000 & 0.0000000000 & 0.0000000000 & 3.348980e-01 & 0.0000000000 & 0.000000000 & 0.000000000 & ⋯ & 0 & 0 & 0 & 0 & 0 & 0 & 0 & 0 & 0 & 0\\\\\n\t 8.779150e-02 & 0.0000000000 & 0.0000000000 & 0.0000000000 & 0.0000000000 & 0.0000000000 & 0.000000e+00 & 0.2633744856 & 0.000000000 & 0.000000000 & ⋯ & 0 & 0 & 0 & 0 & 0 & 0 & 0 & 0 & 0 & 0\\\\\n\t 1.562500e-02 & 0.0312500000 & 0.0260416667 & 0.0115740741 & 0.0028935185 & 0.0003858025 & 2.143347e-05 & 0.0625000000 & 0.104166667 & 0.069444444 & ⋯ & 0 & 0 & 0 & 0 & 0 & 0 & 0 & 0 & 0 & 0\\\\\n\t 1.371742e-03 & 0.0082304527 & 0.0205761317 & 0.0274348422 & 0.0205761317 & 0.0082304527 & 1.371742e-03 & 0.0082304527 & 0.041152263 & 0.082304527 & ⋯ & 0 & 0 & 0 & 0 & 0 & 0 & 0 & 0 & 0 & 0\\\\\n\t 2.143347e-05 & 0.0003858025 & 0.0028935185 & 0.0115740741 & 0.0260416667 & 0.0312500000 & 1.562500e-02 & 0.0002572016 & 0.003858025 & 0.023148148 & ⋯ & 0 & 0 & 0 & 0 & 0 & 0 & 0 & 0 & 0 & 0\\\\\n\t 0.000000e+00 & 0.0000000000 & 0.0000000000 & 0.0000000000 & 0.0000000000 & 0.0000000000 & 8.779150e-02 & 0.0000000000 & 0.000000000 & 0.000000000 & ⋯ & 0 & 0 & 0 & 0 & 0 & 0 & 0 & 0 & 0 & 0\\\\\n\t 1.562500e-02 & 0.0000000000 & 0.0000000000 & 0.0000000000 & 0.0000000000 & 0.0000000000 & 0.000000e+00 & 0.0937500000 & 0.000000000 & 0.000000000 & ⋯ & 0 & 0 & 0 & 0 & 0 & 0 & 0 & 0 & 0 & 0\\\\\n\t 1.371742e-03 & 0.0041152263 & 0.0051440329 & 0.0034293553 & 0.0012860082 & 0.0002572016 & 2.143347e-05 & 0.0123456790 & 0.030864198 & 0.030864198 & ⋯ & 0 & 0 & 0 & 0 & 0 & 0 & 0 & 0 & 0 & 0\\\\\n\t 2.143347e-05 & 0.0002572016 & 0.0012860082 & 0.0034293553 & 0.0051440329 & 0.0041152263 & 1.371742e-03 & 0.0003858025 & 0.003858025 & 0.015432099 & ⋯ & 0 & 0 & 0 & 0 & 0 & 0 & 0 & 0 & 0 & 0\\\\\n\t 0.000000e+00 & 0.0000000000 & 0.0000000000 & 0.0000000000 & 0.0000000000 & 0.0000000000 & 1.562500e-02 & 0.0000000000 & 0.000000000 & 0.000000000 & ⋯ & 0 & 0 & 0 & 0 & 0 & 0 & 0 & 0 & 0 & 0\\\\\n\t 1.371742e-03 & 0.0000000000 & 0.0000000000 & 0.0000000000 & 0.0000000000 & 0.0000000000 & 0.000000e+00 & 0.0164609053 & 0.000000000 & 0.000000000 & ⋯ & 0 & 0 & 0 & 0 & 0 & 0 & 0 & 0 & 0 & 0\\\\\n\t 2.143347e-05 & 0.0001286008 & 0.0003215021 & 0.0004286694 & 0.0003215021 & 0.0001286008 & 2.143347e-05 & 0.0005144033 & 0.002572016 & 0.005144033 & ⋯ & 0 & 0 & 0 & 0 & 0 & 0 & 0 & 0 & 0 & 0\\\\\n\t 0.000000e+00 & 0.0000000000 & 0.0000000000 & 0.0000000000 & 0.0000000000 & 0.0000000000 & 1.371742e-03 & 0.0000000000 & 0.000000000 & 0.000000000 & ⋯ & 0 & 0 & 0 & 0 & 0 & 0 & 0 & 0 & 0 & 0\\\\\n\t 2.143347e-05 & 0.0000000000 & 0.0000000000 & 0.0000000000 & 0.0000000000 & 0.0000000000 & 0.000000e+00 & 0.0006430041 & 0.000000000 & 0.000000000 & ⋯ & 0 & 0 & 0 & 0 & 0 & 0 & 0 & 0 & 0 & 0\\\\\n\t 0.000000e+00 & 0.0000000000 & 0.0000000000 & 0.0000000000 & 0.0000000000 & 0.0000000000 & 2.143347e-05 & 0.0000000000 & 0.000000000 & 0.000000000 & ⋯ & 0 & 0 & 0 & 0 & 0 & 0 & 0 & 0 & 0 & 0\\\\\n\t 0.000000e+00 & 0.0000000000 & 0.0000000000 & 0.0000000000 & 0.0000000000 & 0.0000000000 & 0.000000e+00 & 0.0000000000 & 0.000000000 & 0.000000000 & ⋯ & 0 & 0 & 0 & 0 & 0 & 0 & 0 & 0 & 0 & 0\\\\\n\t 3.348980e-01 & 0.0000000000 & 0.0000000000 & 0.0000000000 & 0.0000000000 & 0.0000000000 & 0.000000e+00 & 0.0000000000 & 0.000000000 & 0.000000000 & ⋯ & 0 & 0 & 0 & 0 & 0 & 0 & 0 & 0 & 0 & 0\\\\\n\t 8.779150e-02 & 0.1316872428 & 0.0823045267 & 0.0274348422 & 0.0051440329 & 0.0005144033 & 2.143347e-05 & 0.0000000000 & 0.000000000 & 0.000000000 & ⋯ & 0 & 0 & 0 & 0 & 0 & 0 & 0 & 0 & 0 & 0\\\\\n\t ⋮ & ⋮ & ⋮ & ⋮ & ⋮ & ⋮ & ⋮ & ⋮ & ⋮ & ⋮ & ⋱ & ⋮ & ⋮ & ⋮ & ⋮ & ⋮ & ⋮ & ⋮ & ⋮ & ⋮ & ⋮\\\\\n\t 2.143347e-05 & 0.0000000000 & 0.0000000000 & 0.0000000000 & 0.0000000000 & 0.0000000000 & 0.000000e+00 & 0.0000000000 & 0 & 0 & ⋯ & 0.00000000 & 0.00000000 & 0.05208333 & 0.02604167 & 0.0312500 & 0.0000000 & 0.0000000 & 0.0312500 & 0.0312500 & 0.0156250\\\\\n\t 0.000000e+00 & 0.0000000000 & 0.0000000000 & 0.0000000000 & 0.0000000000 & 0.0000000000 & 2.143347e-05 & 0.0000000000 & 0 & 0 & ⋯ & 0.05208333 & 0.00000000 & 0.05208333 & 0.02604167 & 0.0000000 & 0.0312500 & 0.0000000 & 0.0312500 & 0.0312500 & 0.0156250\\\\\n\t 0.000000e+00 & 0.0000000000 & 0.0000000000 & 0.0000000000 & 0.0000000000 & 0.0000000000 & 0.000000e+00 & 0.0000000000 & 0 & 0 & ⋯ & 0.00000000 & 0.05208333 & 0.05208333 & 0.02604167 & 0.0000000 & 0.0000000 & 0.0312500 & 0.0312500 & 0.0312500 & 0.0156250\\\\\n\t 0.000000e+00 & 0.0000000000 & 0.0000000000 & 0.0000000000 & 0.0000000000 & 0.0000000000 & 0.000000e+00 & 0.0000000000 & 0 & 0 & ⋯ & 0.00000000 & 0.00000000 & 0.10416667 & 0.02604167 & 0.0000000 & 0.0000000 & 0.0000000 & 0.0625000 & 0.0312500 & 0.0156250\\\\\n\t 2.143347e-05 & 0.0000000000 & 0.0000000000 & 0.0000000000 & 0.0000000000 & 0.0000000000 & 0.000000e+00 & 0.0000000000 & 0 & 0 & ⋯ & 0.00000000 & 0.00000000 & 0.00000000 & 0.10416667 & 0.0312500 & 0.0000000 & 0.0000000 & 0.0000000 & 0.0625000 & 0.0156250\\\\\n\t 0.000000e+00 & 0.0000000000 & 0.0000000000 & 0.0000000000 & 0.0000000000 & 0.0000000000 & 2.143347e-05 & 0.0000000000 & 0 & 0 & ⋯ & 0.10416667 & 0.00000000 & 0.00000000 & 0.10416667 & 0.0000000 & 0.0312500 & 0.0000000 & 0.0000000 & 0.0625000 & 0.0156250\\\\\n\t 0.000000e+00 & 0.0000000000 & 0.0000000000 & 0.0000000000 & 0.0000000000 & 0.0000000000 & 0.000000e+00 & 0.0000000000 & 0 & 0 & ⋯ & 0.00000000 & 0.10416667 & 0.00000000 & 0.10416667 & 0.0000000 & 0.0000000 & 0.0312500 & 0.0000000 & 0.0625000 & 0.0156250\\\\\n\t 0.000000e+00 & 0.0000000000 & 0.0000000000 & 0.0000000000 & 0.0000000000 & 0.0000000000 & 0.000000e+00 & 0.0000000000 & 0 & 0 & ⋯ & 0.00000000 & 0.00000000 & 0.10416667 & 0.10416667 & 0.0000000 & 0.0000000 & 0.0000000 & 0.0312500 & 0.0625000 & 0.0156250\\\\\n\t 0.000000e+00 & 0.0000000000 & 0.0000000000 & 0.0000000000 & 0.0000000000 & 0.0000000000 & 0.000000e+00 & 0.0000000000 & 0 & 0 & ⋯ & 0.00000000 & 0.00000000 & 0.00000000 & 0.23437500 & 0.0000000 & 0.0000000 & 0.0000000 & 0.0000000 & 0.0937500 & 0.0156250\\\\\n\t 1.371742e-03 & 0.0000000000 & 0.0000000000 & 0.0000000000 & 0.0000000000 & 0.0000000000 & 0.000000e+00 & 0.0000000000 & 0 & 0 & ⋯ & 0.00000000 & 0.00000000 & 0.00000000 & 0.00000000 & 0.2633745 & 0.0000000 & 0.0000000 & 0.0000000 & 0.0000000 & 0.0877915\\\\\n\t 2.143347e-05 & 0.0001286008 & 0.0003215021 & 0.0004286694 & 0.0003215021 & 0.0001286008 & 2.143347e-05 & 0.0000000000 & 0 & 0 & ⋯ & 0.00000000 & 0.00000000 & 0.00000000 & 0.00000000 & 0.1316872 & 0.1316872 & 0.0000000 & 0.0000000 & 0.0000000 & 0.0877915\\\\\n\t 0.000000e+00 & 0.0000000000 & 0.0000000000 & 0.0000000000 & 0.0000000000 & 0.0000000000 & 1.371742e-03 & 0.0000000000 & 0 & 0 & ⋯ & 0.00000000 & 0.00000000 & 0.00000000 & 0.00000000 & 0.0000000 & 0.2633745 & 0.0000000 & 0.0000000 & 0.0000000 & 0.0877915\\\\\n\t 2.143347e-05 & 0.0000000000 & 0.0000000000 & 0.0000000000 & 0.0000000000 & 0.0000000000 & 0.000000e+00 & 0.0001286008 & 0 & 0 & ⋯ & 0.00000000 & 0.00000000 & 0.00000000 & 0.00000000 & 0.1316872 & 0.0000000 & 0.1316872 & 0.0000000 & 0.0000000 & 0.0877915\\\\\n\t 0.000000e+00 & 0.0000000000 & 0.0000000000 & 0.0000000000 & 0.0000000000 & 0.0000000000 & 2.143347e-05 & 0.0000000000 & 0 & 0 & ⋯ & 0.00000000 & 0.00000000 & 0.00000000 & 0.00000000 & 0.0000000 & 0.1316872 & 0.1316872 & 0.0000000 & 0.0000000 & 0.0877915\\\\\n\t 0.000000e+00 & 0.0000000000 & 0.0000000000 & 0.0000000000 & 0.0000000000 & 0.0000000000 & 0.000000e+00 & 0.0000000000 & 0 & 0 & ⋯ & 0.00000000 & 0.00000000 & 0.00000000 & 0.00000000 & 0.0000000 & 0.0000000 & 0.2633745 & 0.0000000 & 0.0000000 & 0.0877915\\\\\n\t 2.143347e-05 & 0.0000000000 & 0.0000000000 & 0.0000000000 & 0.0000000000 & 0.0000000000 & 0.000000e+00 & 0.0000000000 & 0 & 0 & ⋯ & 0.00000000 & 0.00000000 & 0.00000000 & 0.00000000 & 0.1316872 & 0.0000000 & 0.0000000 & 0.1316872 & 0.0000000 & 0.0877915\\\\\n\t 0.000000e+00 & 0.0000000000 & 0.0000000000 & 0.0000000000 & 0.0000000000 & 0.0000000000 & 2.143347e-05 & 0.0000000000 & 0 & 0 & ⋯ & 0.00000000 & 0.00000000 & 0.00000000 & 0.00000000 & 0.0000000 & 0.1316872 & 0.0000000 & 0.1316872 & 0.0000000 & 0.0877915\\\\\n\t 0.000000e+00 & 0.0000000000 & 0.0000000000 & 0.0000000000 & 0.0000000000 & 0.0000000000 & 0.000000e+00 & 0.0000000000 & 0 & 0 & ⋯ & 0.00000000 & 0.00000000 & 0.00000000 & 0.00000000 & 0.0000000 & 0.0000000 & 0.1316872 & 0.1316872 & 0.0000000 & 0.0877915\\\\\n\t 0.000000e+00 & 0.0000000000 & 0.0000000000 & 0.0000000000 & 0.0000000000 & 0.0000000000 & 0.000000e+00 & 0.0000000000 & 0 & 0 & ⋯ & 0.00000000 & 0.00000000 & 0.00000000 & 0.00000000 & 0.0000000 & 0.0000000 & 0.0000000 & 0.2633745 & 0.0000000 & 0.0877915\\\\\n\t 2.143347e-05 & 0.0000000000 & 0.0000000000 & 0.0000000000 & 0.0000000000 & 0.0000000000 & 0.000000e+00 & 0.0000000000 & 0 & 0 & ⋯ & 0.00000000 & 0.00000000 & 0.00000000 & 0.08230453 & 0.1316872 & 0.0000000 & 0.0000000 & 0.0000000 & 0.1316872 & 0.0877915\\\\\n\t 0.000000e+00 & 0.0000000000 & 0.0000000000 & 0.0000000000 & 0.0000000000 & 0.0000000000 & 2.143347e-05 & 0.0000000000 & 0 & 0 & ⋯ & 0.16460905 & 0.00000000 & 0.00000000 & 0.08230453 & 0.0000000 & 0.1316872 & 0.0000000 & 0.0000000 & 0.1316872 & 0.0877915\\\\\n\t 0.000000e+00 & 0.0000000000 & 0.0000000000 & 0.0000000000 & 0.0000000000 & 0.0000000000 & 0.000000e+00 & 0.0000000000 & 0 & 0 & ⋯ & 0.00000000 & 0.16460905 & 0.00000000 & 0.08230453 & 0.0000000 & 0.0000000 & 0.1316872 & 0.0000000 & 0.1316872 & 0.0877915\\\\\n\t 0.000000e+00 & 0.0000000000 & 0.0000000000 & 0.0000000000 & 0.0000000000 & 0.0000000000 & 0.000000e+00 & 0.0000000000 & 0 & 0 & ⋯ & 0.00000000 & 0.00000000 & 0.16460905 & 0.08230453 & 0.0000000 & 0.0000000 & 0.0000000 & 0.1316872 & 0.1316872 & 0.0877915\\\\\n\t 0.000000e+00 & 0.0000000000 & 0.0000000000 & 0.0000000000 & 0.0000000000 & 0.0000000000 & 0.000000e+00 & 0.0000000000 & 0 & 0 & ⋯ & 0.00000000 & 0.00000000 & 0.00000000 & 0.32921811 & 0.0000000 & 0.0000000 & 0.0000000 & 0.0000000 & 0.2633745 & 0.0877915\\\\\n\t 2.143347e-05 & 0.0000000000 & 0.0000000000 & 0.0000000000 & 0.0000000000 & 0.0000000000 & 0.000000e+00 & 0.0000000000 & 0 & 0 & ⋯ & 0.00000000 & 0.00000000 & 0.00000000 & 0.00000000 & 0.4018776 & 0.0000000 & 0.0000000 & 0.0000000 & 0.0000000 & 0.3348980\\\\\n\t 0.000000e+00 & 0.0000000000 & 0.0000000000 & 0.0000000000 & 0.0000000000 & 0.0000000000 & 2.143347e-05 & 0.0000000000 & 0 & 0 & ⋯ & 0.00000000 & 0.00000000 & 0.00000000 & 0.00000000 & 0.0000000 & 0.4018776 & 0.0000000 & 0.0000000 & 0.0000000 & 0.3348980\\\\\n\t 0.000000e+00 & 0.0000000000 & 0.0000000000 & 0.0000000000 & 0.0000000000 & 0.0000000000 & 0.000000e+00 & 0.0000000000 & 0 & 0 & ⋯ & 0.00000000 & 0.00000000 & 0.00000000 & 0.00000000 & 0.0000000 & 0.0000000 & 0.4018776 & 0.0000000 & 0.0000000 & 0.3348980\\\\\n\t 0.000000e+00 & 0.0000000000 & 0.0000000000 & 0.0000000000 & 0.0000000000 & 0.0000000000 & 0.000000e+00 & 0.0000000000 & 0 & 0 & ⋯ & 0.00000000 & 0.00000000 & 0.00000000 & 0.00000000 & 0.0000000 & 0.0000000 & 0.0000000 & 0.4018776 & 0.0000000 & 0.3348980\\\\\n\t 0.000000e+00 & 0.0000000000 & 0.0000000000 & 0.0000000000 & 0.0000000000 & 0.0000000000 & 0.000000e+00 & 0.0000000000 & 0 & 0 & ⋯ & 0.00000000 & 0.00000000 & 0.00000000 & 0.20093879 & 0.0000000 & 0.0000000 & 0.0000000 & 0.0000000 & 0.4018776 & 0.3348980\\\\\n\t 0.000000e+00 & 0.0000000000 & 0.0000000000 & 0.0000000000 & 0.0000000000 & 0.0000000000 & 0.000000e+00 & 0.0000000000 & 0 & 0 & ⋯ & 0.00000000 & 0.00000000 & 0.00000000 & 0.00000000 & 0.0000000 & 0.0000000 & 0.0000000 & 0.0000000 & 0.0000000 & 1.0000000\\\\\n\\end{tabular}\n",
            "text/plain": [
              "      [,1]         [,2]         [,3]         [,4]         [,5]        \n",
              " [1,] 1.000000e+00 0.0000000000 0.0000000000 0.0000000000 0.0000000000\n",
              " [2,] 3.348980e-01 0.4018775720 0.2009387860 0.0535836763 0.0080375514\n",
              " [3,] 8.779150e-02 0.2633744856 0.3292181070 0.2194787380 0.0823045267\n",
              " [4,] 1.562500e-02 0.0937500000 0.2343750000 0.3125000000 0.2343750000\n",
              " [5,] 1.371742e-03 0.0164609053 0.0823045267 0.2194787380 0.3292181070\n",
              " [6,] 2.143347e-05 0.0006430041 0.0080375514 0.0535836763 0.2009387860\n",
              " [7,] 0.000000e+00 0.0000000000 0.0000000000 0.0000000000 0.0000000000\n",
              " [8,] 3.348980e-01 0.0000000000 0.0000000000 0.0000000000 0.0000000000\n",
              " [9,] 8.779150e-02 0.1316872428 0.0823045267 0.0274348422 0.0051440329\n",
              "[10,] 1.562500e-02 0.0625000000 0.1041666667 0.0925925926 0.0462962963\n",
              "[11,] 1.371742e-03 0.0123456790 0.0462962963 0.0925925926 0.1041666667\n",
              "[12,] 2.143347e-05 0.0005144033 0.0051440329 0.0274348422 0.0823045267\n",
              "[13,] 0.000000e+00 0.0000000000 0.0000000000 0.0000000000 0.0000000000\n",
              "[14,] 8.779150e-02 0.0000000000 0.0000000000 0.0000000000 0.0000000000\n",
              "[15,] 1.562500e-02 0.0312500000 0.0260416667 0.0115740741 0.0028935185\n",
              "[16,] 1.371742e-03 0.0082304527 0.0205761317 0.0274348422 0.0205761317\n",
              "[17,] 2.143347e-05 0.0003858025 0.0028935185 0.0115740741 0.0260416667\n",
              "[18,] 0.000000e+00 0.0000000000 0.0000000000 0.0000000000 0.0000000000\n",
              "[19,] 1.562500e-02 0.0000000000 0.0000000000 0.0000000000 0.0000000000\n",
              "[20,] 1.371742e-03 0.0041152263 0.0051440329 0.0034293553 0.0012860082\n",
              "[21,] 2.143347e-05 0.0002572016 0.0012860082 0.0034293553 0.0051440329\n",
              "[22,] 0.000000e+00 0.0000000000 0.0000000000 0.0000000000 0.0000000000\n",
              "[23,] 1.371742e-03 0.0000000000 0.0000000000 0.0000000000 0.0000000000\n",
              "[24,] 2.143347e-05 0.0001286008 0.0003215021 0.0004286694 0.0003215021\n",
              "[25,] 0.000000e+00 0.0000000000 0.0000000000 0.0000000000 0.0000000000\n",
              "[26,] 2.143347e-05 0.0000000000 0.0000000000 0.0000000000 0.0000000000\n",
              "[27,] 0.000000e+00 0.0000000000 0.0000000000 0.0000000000 0.0000000000\n",
              "[28,] 0.000000e+00 0.0000000000 0.0000000000 0.0000000000 0.0000000000\n",
              "[29,] 3.348980e-01 0.0000000000 0.0000000000 0.0000000000 0.0000000000\n",
              "[30,] 8.779150e-02 0.1316872428 0.0823045267 0.0274348422 0.0051440329\n",
              "[31,] ⋮            ⋮            ⋮            ⋮            ⋮           \n",
              "[32,] 2.143347e-05 0.0000000000 0.0000000000 0.0000000000 0.0000000000\n",
              "[33,] 0.000000e+00 0.0000000000 0.0000000000 0.0000000000 0.0000000000\n",
              "[34,] 0.000000e+00 0.0000000000 0.0000000000 0.0000000000 0.0000000000\n",
              "[35,] 0.000000e+00 0.0000000000 0.0000000000 0.0000000000 0.0000000000\n",
              "[36,] 2.143347e-05 0.0000000000 0.0000000000 0.0000000000 0.0000000000\n",
              "[37,] 0.000000e+00 0.0000000000 0.0000000000 0.0000000000 0.0000000000\n",
              "[38,] 0.000000e+00 0.0000000000 0.0000000000 0.0000000000 0.0000000000\n",
              "[39,] 0.000000e+00 0.0000000000 0.0000000000 0.0000000000 0.0000000000\n",
              "[40,] 0.000000e+00 0.0000000000 0.0000000000 0.0000000000 0.0000000000\n",
              "[41,] 1.371742e-03 0.0000000000 0.0000000000 0.0000000000 0.0000000000\n",
              "[42,] 2.143347e-05 0.0001286008 0.0003215021 0.0004286694 0.0003215021\n",
              "[43,] 0.000000e+00 0.0000000000 0.0000000000 0.0000000000 0.0000000000\n",
              "[44,] 2.143347e-05 0.0000000000 0.0000000000 0.0000000000 0.0000000000\n",
              "[45,] 0.000000e+00 0.0000000000 0.0000000000 0.0000000000 0.0000000000\n",
              "[46,] 0.000000e+00 0.0000000000 0.0000000000 0.0000000000 0.0000000000\n",
              "[47,] 2.143347e-05 0.0000000000 0.0000000000 0.0000000000 0.0000000000\n",
              "[48,] 0.000000e+00 0.0000000000 0.0000000000 0.0000000000 0.0000000000\n",
              "[49,] 0.000000e+00 0.0000000000 0.0000000000 0.0000000000 0.0000000000\n",
              "[50,] 0.000000e+00 0.0000000000 0.0000000000 0.0000000000 0.0000000000\n",
              "[51,] 2.143347e-05 0.0000000000 0.0000000000 0.0000000000 0.0000000000\n",
              "[52,] 0.000000e+00 0.0000000000 0.0000000000 0.0000000000 0.0000000000\n",
              "[53,] 0.000000e+00 0.0000000000 0.0000000000 0.0000000000 0.0000000000\n",
              "[54,] 0.000000e+00 0.0000000000 0.0000000000 0.0000000000 0.0000000000\n",
              "[55,] 0.000000e+00 0.0000000000 0.0000000000 0.0000000000 0.0000000000\n",
              "[56,] 2.143347e-05 0.0000000000 0.0000000000 0.0000000000 0.0000000000\n",
              "[57,] 0.000000e+00 0.0000000000 0.0000000000 0.0000000000 0.0000000000\n",
              "[58,] 0.000000e+00 0.0000000000 0.0000000000 0.0000000000 0.0000000000\n",
              "[59,] 0.000000e+00 0.0000000000 0.0000000000 0.0000000000 0.0000000000\n",
              "[60,] 0.000000e+00 0.0000000000 0.0000000000 0.0000000000 0.0000000000\n",
              "[61,] 0.000000e+00 0.0000000000 0.0000000000 0.0000000000 0.0000000000\n",
              "      [,6]         [,7]         [,8]         [,9]        [,10]       [,11]\n",
              " [1,] 0.0000000000 0.000000e+00 0.0000000000 0.000000000 0.000000000 ⋯    \n",
              " [2,] 0.0006430041 2.143347e-05 0.0000000000 0.000000000 0.000000000 ⋯    \n",
              " [3,] 0.0164609053 1.371742e-03 0.0000000000 0.000000000 0.000000000 ⋯    \n",
              " [4,] 0.0937500000 1.562500e-02 0.0000000000 0.000000000 0.000000000 ⋯    \n",
              " [5,] 0.2633744856 8.779150e-02 0.0000000000 0.000000000 0.000000000 ⋯    \n",
              " [6,] 0.4018775720 3.348980e-01 0.0000000000 0.000000000 0.000000000 ⋯    \n",
              " [7,] 0.0000000000 1.000000e+00 0.0000000000 0.000000000 0.000000000 ⋯    \n",
              " [8,] 0.0000000000 0.000000e+00 0.4018775720 0.000000000 0.000000000 ⋯    \n",
              " [9,] 0.0005144033 2.143347e-05 0.1316872428 0.164609053 0.082304527 ⋯    \n",
              "[10,] 0.0123456790 1.371742e-03 0.0312500000 0.104166667 0.138888889 ⋯    \n",
              "[11,] 0.0625000000 1.562500e-02 0.0041152263 0.030864198 0.092592593 ⋯    \n",
              "[12,] 0.1316872428 8.779150e-02 0.0001286008 0.002572016 0.020576132 ⋯    \n",
              "[13,] 0.0000000000 3.348980e-01 0.0000000000 0.000000000 0.000000000 ⋯    \n",
              "[14,] 0.0000000000 0.000000e+00 0.2633744856 0.000000000 0.000000000 ⋯    \n",
              "[15,] 0.0003858025 2.143347e-05 0.0625000000 0.104166667 0.069444444 ⋯    \n",
              "[16,] 0.0082304527 1.371742e-03 0.0082304527 0.041152263 0.082304527 ⋯    \n",
              "[17,] 0.0312500000 1.562500e-02 0.0002572016 0.003858025 0.023148148 ⋯    \n",
              "[18,] 0.0000000000 8.779150e-02 0.0000000000 0.000000000 0.000000000 ⋯    \n",
              "[19,] 0.0000000000 0.000000e+00 0.0937500000 0.000000000 0.000000000 ⋯    \n",
              "[20,] 0.0002572016 2.143347e-05 0.0123456790 0.030864198 0.030864198 ⋯    \n",
              "[21,] 0.0041152263 1.371742e-03 0.0003858025 0.003858025 0.015432099 ⋯    \n",
              "[22,] 0.0000000000 1.562500e-02 0.0000000000 0.000000000 0.000000000 ⋯    \n",
              "[23,] 0.0000000000 0.000000e+00 0.0164609053 0.000000000 0.000000000 ⋯    \n",
              "[24,] 0.0001286008 2.143347e-05 0.0005144033 0.002572016 0.005144033 ⋯    \n",
              "[25,] 0.0000000000 1.371742e-03 0.0000000000 0.000000000 0.000000000 ⋯    \n",
              "[26,] 0.0000000000 0.000000e+00 0.0006430041 0.000000000 0.000000000 ⋯    \n",
              "[27,] 0.0000000000 2.143347e-05 0.0000000000 0.000000000 0.000000000 ⋯    \n",
              "[28,] 0.0000000000 0.000000e+00 0.0000000000 0.000000000 0.000000000 ⋯    \n",
              "[29,] 0.0000000000 0.000000e+00 0.0000000000 0.000000000 0.000000000 ⋯    \n",
              "[30,] 0.0005144033 2.143347e-05 0.0000000000 0.000000000 0.000000000 ⋯    \n",
              "[31,] ⋮            ⋮            ⋮            ⋮           ⋮           ⋱    \n",
              "[32,] 0.0000000000 0.000000e+00 0.0000000000 0           0           ⋯    \n",
              "[33,] 0.0000000000 2.143347e-05 0.0000000000 0           0           ⋯    \n",
              "[34,] 0.0000000000 0.000000e+00 0.0000000000 0           0           ⋯    \n",
              "[35,] 0.0000000000 0.000000e+00 0.0000000000 0           0           ⋯    \n",
              "[36,] 0.0000000000 0.000000e+00 0.0000000000 0           0           ⋯    \n",
              "[37,] 0.0000000000 2.143347e-05 0.0000000000 0           0           ⋯    \n",
              "[38,] 0.0000000000 0.000000e+00 0.0000000000 0           0           ⋯    \n",
              "[39,] 0.0000000000 0.000000e+00 0.0000000000 0           0           ⋯    \n",
              "[40,] 0.0000000000 0.000000e+00 0.0000000000 0           0           ⋯    \n",
              "[41,] 0.0000000000 0.000000e+00 0.0000000000 0           0           ⋯    \n",
              "[42,] 0.0001286008 2.143347e-05 0.0000000000 0           0           ⋯    \n",
              "[43,] 0.0000000000 1.371742e-03 0.0000000000 0           0           ⋯    \n",
              "[44,] 0.0000000000 0.000000e+00 0.0001286008 0           0           ⋯    \n",
              "[45,] 0.0000000000 2.143347e-05 0.0000000000 0           0           ⋯    \n",
              "[46,] 0.0000000000 0.000000e+00 0.0000000000 0           0           ⋯    \n",
              "[47,] 0.0000000000 0.000000e+00 0.0000000000 0           0           ⋯    \n",
              "[48,] 0.0000000000 2.143347e-05 0.0000000000 0           0           ⋯    \n",
              "[49,] 0.0000000000 0.000000e+00 0.0000000000 0           0           ⋯    \n",
              "[50,] 0.0000000000 0.000000e+00 0.0000000000 0           0           ⋯    \n",
              "[51,] 0.0000000000 0.000000e+00 0.0000000000 0           0           ⋯    \n",
              "[52,] 0.0000000000 2.143347e-05 0.0000000000 0           0           ⋯    \n",
              "[53,] 0.0000000000 0.000000e+00 0.0000000000 0           0           ⋯    \n",
              "[54,] 0.0000000000 0.000000e+00 0.0000000000 0           0           ⋯    \n",
              "[55,] 0.0000000000 0.000000e+00 0.0000000000 0           0           ⋯    \n",
              "[56,] 0.0000000000 0.000000e+00 0.0000000000 0           0           ⋯    \n",
              "[57,] 0.0000000000 2.143347e-05 0.0000000000 0           0           ⋯    \n",
              "[58,] 0.0000000000 0.000000e+00 0.0000000000 0           0           ⋯    \n",
              "[59,] 0.0000000000 0.000000e+00 0.0000000000 0           0           ⋯    \n",
              "[60,] 0.0000000000 0.000000e+00 0.0000000000 0           0           ⋯    \n",
              "[61,] 0.0000000000 0.000000e+00 0.0000000000 0           0           ⋯    \n",
              "      [,12]      [,13]      [,14]      [,15]      [,16]     [,17]     [,18]    \n",
              " [1,] 0          0          0          0          0         0         0        \n",
              " [2,] 0          0          0          0          0         0         0        \n",
              " [3,] 0          0          0          0          0         0         0        \n",
              " [4,] 0          0          0          0          0         0         0        \n",
              " [5,] 0          0          0          0          0         0         0        \n",
              " [6,] 0          0          0          0          0         0         0        \n",
              " [7,] 0          0          0          0          0         0         0        \n",
              " [8,] 0          0          0          0          0         0         0        \n",
              " [9,] 0          0          0          0          0         0         0        \n",
              "[10,] 0          0          0          0          0         0         0        \n",
              "[11,] 0          0          0          0          0         0         0        \n",
              "[12,] 0          0          0          0          0         0         0        \n",
              "[13,] 0          0          0          0          0         0         0        \n",
              "[14,] 0          0          0          0          0         0         0        \n",
              "[15,] 0          0          0          0          0         0         0        \n",
              "[16,] 0          0          0          0          0         0         0        \n",
              "[17,] 0          0          0          0          0         0         0        \n",
              "[18,] 0          0          0          0          0         0         0        \n",
              "[19,] 0          0          0          0          0         0         0        \n",
              "[20,] 0          0          0          0          0         0         0        \n",
              "[21,] 0          0          0          0          0         0         0        \n",
              "[22,] 0          0          0          0          0         0         0        \n",
              "[23,] 0          0          0          0          0         0         0        \n",
              "[24,] 0          0          0          0          0         0         0        \n",
              "[25,] 0          0          0          0          0         0         0        \n",
              "[26,] 0          0          0          0          0         0         0        \n",
              "[27,] 0          0          0          0          0         0         0        \n",
              "[28,] 0          0          0          0          0         0         0        \n",
              "[29,] 0          0          0          0          0         0         0        \n",
              "[30,] 0          0          0          0          0         0         0        \n",
              "[31,] ⋮          ⋮          ⋮          ⋮          ⋮         ⋮         ⋮        \n",
              "[32,] 0.00000000 0.00000000 0.05208333 0.02604167 0.0312500 0.0000000 0.0000000\n",
              "[33,] 0.05208333 0.00000000 0.05208333 0.02604167 0.0000000 0.0312500 0.0000000\n",
              "[34,] 0.00000000 0.05208333 0.05208333 0.02604167 0.0000000 0.0000000 0.0312500\n",
              "[35,] 0.00000000 0.00000000 0.10416667 0.02604167 0.0000000 0.0000000 0.0000000\n",
              "[36,] 0.00000000 0.00000000 0.00000000 0.10416667 0.0312500 0.0000000 0.0000000\n",
              "[37,] 0.10416667 0.00000000 0.00000000 0.10416667 0.0000000 0.0312500 0.0000000\n",
              "[38,] 0.00000000 0.10416667 0.00000000 0.10416667 0.0000000 0.0000000 0.0312500\n",
              "[39,] 0.00000000 0.00000000 0.10416667 0.10416667 0.0000000 0.0000000 0.0000000\n",
              "[40,] 0.00000000 0.00000000 0.00000000 0.23437500 0.0000000 0.0000000 0.0000000\n",
              "[41,] 0.00000000 0.00000000 0.00000000 0.00000000 0.2633745 0.0000000 0.0000000\n",
              "[42,] 0.00000000 0.00000000 0.00000000 0.00000000 0.1316872 0.1316872 0.0000000\n",
              "[43,] 0.00000000 0.00000000 0.00000000 0.00000000 0.0000000 0.2633745 0.0000000\n",
              "[44,] 0.00000000 0.00000000 0.00000000 0.00000000 0.1316872 0.0000000 0.1316872\n",
              "[45,] 0.00000000 0.00000000 0.00000000 0.00000000 0.0000000 0.1316872 0.1316872\n",
              "[46,] 0.00000000 0.00000000 0.00000000 0.00000000 0.0000000 0.0000000 0.2633745\n",
              "[47,] 0.00000000 0.00000000 0.00000000 0.00000000 0.1316872 0.0000000 0.0000000\n",
              "[48,] 0.00000000 0.00000000 0.00000000 0.00000000 0.0000000 0.1316872 0.0000000\n",
              "[49,] 0.00000000 0.00000000 0.00000000 0.00000000 0.0000000 0.0000000 0.1316872\n",
              "[50,] 0.00000000 0.00000000 0.00000000 0.00000000 0.0000000 0.0000000 0.0000000\n",
              "[51,] 0.00000000 0.00000000 0.00000000 0.08230453 0.1316872 0.0000000 0.0000000\n",
              "[52,] 0.16460905 0.00000000 0.00000000 0.08230453 0.0000000 0.1316872 0.0000000\n",
              "[53,] 0.00000000 0.16460905 0.00000000 0.08230453 0.0000000 0.0000000 0.1316872\n",
              "[54,] 0.00000000 0.00000000 0.16460905 0.08230453 0.0000000 0.0000000 0.0000000\n",
              "[55,] 0.00000000 0.00000000 0.00000000 0.32921811 0.0000000 0.0000000 0.0000000\n",
              "[56,] 0.00000000 0.00000000 0.00000000 0.00000000 0.4018776 0.0000000 0.0000000\n",
              "[57,] 0.00000000 0.00000000 0.00000000 0.00000000 0.0000000 0.4018776 0.0000000\n",
              "[58,] 0.00000000 0.00000000 0.00000000 0.00000000 0.0000000 0.0000000 0.4018776\n",
              "[59,] 0.00000000 0.00000000 0.00000000 0.00000000 0.0000000 0.0000000 0.0000000\n",
              "[60,] 0.00000000 0.00000000 0.00000000 0.20093879 0.0000000 0.0000000 0.0000000\n",
              "[61,] 0.00000000 0.00000000 0.00000000 0.00000000 0.0000000 0.0000000 0.0000000\n",
              "      [,19]     [,20]     [,21]    \n",
              " [1,] 0         0         0        \n",
              " [2,] 0         0         0        \n",
              " [3,] 0         0         0        \n",
              " [4,] 0         0         0        \n",
              " [5,] 0         0         0        \n",
              " [6,] 0         0         0        \n",
              " [7,] 0         0         0        \n",
              " [8,] 0         0         0        \n",
              " [9,] 0         0         0        \n",
              "[10,] 0         0         0        \n",
              "[11,] 0         0         0        \n",
              "[12,] 0         0         0        \n",
              "[13,] 0         0         0        \n",
              "[14,] 0         0         0        \n",
              "[15,] 0         0         0        \n",
              "[16,] 0         0         0        \n",
              "[17,] 0         0         0        \n",
              "[18,] 0         0         0        \n",
              "[19,] 0         0         0        \n",
              "[20,] 0         0         0        \n",
              "[21,] 0         0         0        \n",
              "[22,] 0         0         0        \n",
              "[23,] 0         0         0        \n",
              "[24,] 0         0         0        \n",
              "[25,] 0         0         0        \n",
              "[26,] 0         0         0        \n",
              "[27,] 0         0         0        \n",
              "[28,] 0         0         0        \n",
              "[29,] 0         0         0        \n",
              "[30,] 0         0         0        \n",
              "[31,] ⋮         ⋮         ⋮        \n",
              "[32,] 0.0312500 0.0312500 0.0156250\n",
              "[33,] 0.0312500 0.0312500 0.0156250\n",
              "[34,] 0.0312500 0.0312500 0.0156250\n",
              "[35,] 0.0625000 0.0312500 0.0156250\n",
              "[36,] 0.0000000 0.0625000 0.0156250\n",
              "[37,] 0.0000000 0.0625000 0.0156250\n",
              "[38,] 0.0000000 0.0625000 0.0156250\n",
              "[39,] 0.0312500 0.0625000 0.0156250\n",
              "[40,] 0.0000000 0.0937500 0.0156250\n",
              "[41,] 0.0000000 0.0000000 0.0877915\n",
              "[42,] 0.0000000 0.0000000 0.0877915\n",
              "[43,] 0.0000000 0.0000000 0.0877915\n",
              "[44,] 0.0000000 0.0000000 0.0877915\n",
              "[45,] 0.0000000 0.0000000 0.0877915\n",
              "[46,] 0.0000000 0.0000000 0.0877915\n",
              "[47,] 0.1316872 0.0000000 0.0877915\n",
              "[48,] 0.1316872 0.0000000 0.0877915\n",
              "[49,] 0.1316872 0.0000000 0.0877915\n",
              "[50,] 0.2633745 0.0000000 0.0877915\n",
              "[51,] 0.0000000 0.1316872 0.0877915\n",
              "[52,] 0.0000000 0.1316872 0.0877915\n",
              "[53,] 0.0000000 0.1316872 0.0877915\n",
              "[54,] 0.1316872 0.1316872 0.0877915\n",
              "[55,] 0.0000000 0.2633745 0.0877915\n",
              "[56,] 0.0000000 0.0000000 0.3348980\n",
              "[57,] 0.0000000 0.0000000 0.3348980\n",
              "[58,] 0.0000000 0.0000000 0.3348980\n",
              "[59,] 0.4018776 0.0000000 0.3348980\n",
              "[60,] 0.0000000 0.4018776 0.3348980\n",
              "[61,] 0.0000000 0.0000000 1.0000000"
            ]
          },
          "metadata": {}
        }
      ]
    },
    {
      "cell_type": "markdown",
      "source": [
        "###4."
      ],
      "metadata": {
        "id": "Nq2oSIYHjY2z"
      }
    },
    {
      "cell_type": "markdown",
      "source": [
        "Use the transition matrix and tools from class to solve for $E(T)$. Compare to the simulated value from part 1."
      ],
      "metadata": {
        "id": "uqGHaW8sjZTd"
      }
    },
    {
      "cell_type": "code",
      "source": [
        "#find start state\n",
        "start = which(apply(x, 1, max) == 1)\n",
        "start"
      ],
      "metadata": {
        "id": "4lbyZbUOzJ6H",
        "outputId": "2f748878-d72a-4657-c1ba-42046e852baf",
        "colab": {
          "base_uri": "https://localhost:8080/",
          "height": 34
        }
      },
      "execution_count": 18,
      "outputs": [
        {
          "output_type": "display_data",
          "data": {
            "text/html": [
              "287"
            ],
            "text/markdown": "287",
            "text/latex": "287",
            "text/plain": [
              "[1] 287"
            ]
          },
          "metadata": {}
        }
      ]
    },
    {
      "cell_type": "code",
      "source": [
        "#find absorbing states\n",
        "stop = which(apply(x, 1, max) == n)\n",
        "stop"
      ],
      "metadata": {
        "id": "Fkyv0-ehzQhx",
        "outputId": "186a6f98-8d72-4a30-e3e1-e87f0618f0a8",
        "colab": {
          "base_uri": "https://localhost:8080/",
          "height": 34
        }
      },
      "execution_count": 7,
      "outputs": [
        {
          "output_type": "display_data",
          "data": {
            "text/html": [
              "<style>\n",
              ".list-inline {list-style: none; margin:0; padding: 0}\n",
              ".list-inline>li {display: inline-block}\n",
              ".list-inline>li:not(:last-child)::after {content: \"\\00b7\"; padding: 0 .5ex}\n",
              "</style>\n",
              "<ol class=list-inline><li>1</li><li>7</li><li>28</li><li>84</li><li>210</li><li>462</li></ol>\n"
            ],
            "text/markdown": "1. 1\n2. 7\n3. 28\n4. 84\n5. 210\n6. 462\n\n\n",
            "text/latex": "\\begin{enumerate*}\n\\item 1\n\\item 7\n\\item 28\n\\item 84\n\\item 210\n\\item 462\n\\end{enumerate*}\n",
            "text/plain": [
              "[1]   1   7  28  84 210 462"
            ]
          },
          "metadata": {}
        }
      ]
    },
    {
      "cell_type": "code",
      "source": [
        "\n",
        "#use function to find mean time to absorption\n",
        "mean_time_to_absorption <- function(transition_matrix, state_names = NULL) {\n",
        "\n",
        "  absorbing_states = which(diag(transition_matrix) == 1)\n",
        "\n",
        "  if (length(absorbing_states) == 0) stop(\"There are no absorbing states.\")\n",
        "\n",
        "  n_states = nrow(transition_matrix)\n",
        "\n",
        "  transient_states = setdiff(1:n_states, absorbing_states)\n",
        "\n",
        "  Q = transition_matrix[transient_states, transient_states]\n",
        "\n",
        "  mtta = solve(diag(nrow(Q)) - Q, rep(1, nrow(Q)))\n",
        "\n",
        "  if (is.null(state_names)) state_names = 1:n_states\n",
        "\n",
        "  data.frame(start_state = state_names[transient_states],\n",
        "             mean_time_to_absorption = mtta)\n",
        "}"
      ],
      "metadata": {
        "id": "JRr32kTIzpgJ"
      },
      "execution_count": 8,
      "outputs": []
    },
    {
      "cell_type": "code",
      "source": [
        "results = mean_time_to_absorption(P)\n",
        "results[282, ]"
      ],
      "metadata": {
        "id": "LXM1BCmtzySL",
        "outputId": "5efadb7d-3bde-4a65-804f-169c3ce8b0c7",
        "colab": {
          "base_uri": "https://localhost:8080/",
          "height": 129
        }
      },
      "execution_count": 9,
      "outputs": [
        {
          "output_type": "display_data",
          "data": {
            "text/html": [
              "<table class=\"dataframe\">\n",
              "<caption>A data.frame: 1 × 2</caption>\n",
              "<thead>\n",
              "\t<tr><th></th><th scope=col>start_state</th><th scope=col>mean_time_to_absorption</th></tr>\n",
              "\t<tr><th></th><th scope=col>&lt;int&gt;</th><th scope=col>&lt;dbl&gt;</th></tr>\n",
              "</thead>\n",
              "<tbody>\n",
              "\t<tr><th scope=row>282</th><td>287</td><td>9.655991</td></tr>\n",
              "</tbody>\n",
              "</table>\n"
            ],
            "text/markdown": "\nA data.frame: 1 × 2\n\n| <!--/--> | start_state &lt;int&gt; | mean_time_to_absorption &lt;dbl&gt; |\n|---|---|---|\n| 282 | 287 | 9.655991 |\n\n",
            "text/latex": "A data.frame: 1 × 2\n\\begin{tabular}{r|ll}\n  & start\\_state & mean\\_time\\_to\\_absorption\\\\\n  & <int> & <dbl>\\\\\n\\hline\n\t282 & 287 & 9.655991\\\\\n\\end{tabular}\n",
            "text/plain": [
              "    start_state mean_time_to_absorption\n",
              "282 287         9.655991               "
            ]
          },
          "metadata": {}
        }
      ]
    },
    {
      "cell_type": "markdown",
      "source": [
        "The simulated values and the markov chain derived value are both very close to eachother. The answers seem to agree."
      ],
      "metadata": {
        "id": "_pY7Sh0u2JYK"
      }
    },
    {
      "cell_type": "markdown",
      "source": [
        "###5."
      ],
      "metadata": {
        "id": "wVB6Xfl3jZv0"
      }
    },
    {
      "cell_type": "markdown",
      "source": [
        "Use the transition matrix and tools from class to solve for the distribution of $T$, and display the distribution in an appropriate plot. Compare to the simulated distribution from part 1."
      ],
      "metadata": {
        "id": "7q6YgLOZjaDy"
      }
    },
    {
      "cell_type": "code",
      "source": [
        "install.packages(\"Matrix\")\n",
        "install.packages(\"expm\")\n",
        "library(Matrix)\n",
        "library(expm)"
      ],
      "metadata": {
        "id": "NU5RWAJo1rnI",
        "outputId": "69d5b6ec-24e3-4b6f-8b94-cc4e4bf14e7e",
        "colab": {
          "base_uri": "https://localhost:8080/"
        }
      },
      "execution_count": 1,
      "outputs": [
        {
          "output_type": "stream",
          "name": "stderr",
          "text": [
            "Installing package into ‘/usr/local/lib/R/site-library’\n",
            "(as ‘lib’ is unspecified)\n",
            "\n",
            "Installing package into ‘/usr/local/lib/R/site-library’\n",
            "(as ‘lib’ is unspecified)\n",
            "\n",
            "\n",
            "Attaching package: ‘expm’\n",
            "\n",
            "\n",
            "The following object is masked from ‘package:Matrix’:\n",
            "\n",
            "    expm\n",
            "\n",
            "\n"
          ]
        }
      ]
    },
    {
      "cell_type": "code",
      "source": [
        "pmf_of_time_to_absorption <- function(transition_matrix, state_names = NULL, start_state) {\n",
        "\n",
        "  absorbing_states = which(diag(transition_matrix) == 1)\n",
        "\n",
        "  if (length(absorbing_states) == 0) stop(\"There are no absorbing states.\")\n",
        "\n",
        "  n_states = nrow(transition_matrix)\n",
        "\n",
        "  transient_states = setdiff(1:n_states, absorbing_states)\n",
        "\n",
        "  if (is.null(state_names)) state_names = 1:n_states\n",
        "\n",
        "  if (which(state_names == start_state) %in% absorbing_states) stop(\"Initial state is an absorbing state; absorption at time 0.\")\n",
        "\n",
        "  n = 1\n",
        "\n",
        "  TTA_cdf = sum(transition_matrix[which(state_names == start_state), absorbing_states])\n",
        "\n",
        "  while (max(TTA_cdf) < 0.999999) {\n",
        "\n",
        "    n = n + 1\n",
        "\n",
        "    TTA_cdf = c(TTA_cdf, sum(transition_matrix %^% n)[which(state_names == start_state), absorbing_states])\n",
        "  }\n",
        "\n",
        "  TTA_pmf = TTA_cdf - c(0, TTA_cdf[-length(TTA_cdf)])\n",
        "\n",
        "  data.frame(n = 1:length(TTA_pmf),\n",
        "             prob_absorb_at_time_n = TTA_pmf)\n",
        "}"
      ],
      "metadata": {
        "id": "PY8urCu51y0d"
      },
      "execution_count": 10,
      "outputs": []
    },
    {
      "cell_type": "code",
      "source": [
        "pmf_of_time_to_absorption(P, start_state = start)"
      ],
      "metadata": {
        "id": "0kMoTAH912a2",
        "outputId": "42a9a6f7-41b2-4e24-d8e6-14d56003182b",
        "colab": {
          "base_uri": "https://localhost:8080/",
          "height": 106
        }
      },
      "execution_count": 21,
      "outputs": [
        {
          "output_type": "error",
          "ename": "ERROR",
          "evalue": "Error in sum(transition_matrix %^% n)[which(state_names == start_state), : incorrect number of dimensions\n",
          "traceback": [
            "Error in sum(transition_matrix %^% n)[which(state_names == start_state), : incorrect number of dimensions\nTraceback:\n",
            "1. pmf_of_time_to_absorption(P, start_state = start)"
          ]
        }
      ]
    },
    {
      "cell_type": "markdown",
      "source": [
        "---\n",
        "\n",
        "## Application - Part 2"
      ],
      "metadata": {
        "id": "AdPqSeWRhMRE"
      }
    },
    {
      "cell_type": "markdown",
      "source": [
        "After a long day, Nathan enjoys treating himself to a dessert. Currently he has oreos and milk to munch on. The amount of oreos he consumes only depends on the current day, how stressful it was and his sweet tooth cravings. He keeps a healthy supply of oreos and restocks regularly. At the beginning of the week on monday he starts out eatting 4 oreos with his milk. Answer the following questions using the transition matrix below showing how many oreos he ate for dessert."
      ],
      "metadata": {
        "id": "67jWFXkaoh5I"
      }
    },
    {
      "cell_type": "markdown",
      "source": [
        "$$\n",
        "\\mathbf{P} =\n",
        "\\begin{bmatrix}\n",
        "& 0 & 1 & 2 & 3 & 4 & 5 & 6 & 7 & 8 & 9\\\\\n",
        "0 & 0.00 & 0.02 & 0.04 & 0.07 & 0.16 & 0.18 & 0.20 & 0.13 & 0.11 & 0.09\\\\\n",
        "1 & 0.07 & 0.11 & 0.01 & 0.07 & 0.31 & 0.04 & 0.01 & 0.02 & 0.33 & 0.03\\\\\n",
        "2 & 0.09 & 0.02 & 0.11 & 0.01 & 0.07 & 0.23 & 0.26 & 0.09 & 0.11 & 0.01\\\\\n",
        "3 & 0.01 & 0.20 & 0.00 & 0.10 & 0.14 & 0.30 & 0.02 & 0.12 & 0.11 & 0.00\\\\\n",
        "4 & 0.06 & 0.02 & 0.03 & 0.13 & 0.23 & 0.20 & 0.12 & 0.06 & 0.05 & 0.10\\\\\n",
        "5 & 0.23 & 0.13 & 0.09 & 0.04 & 0.08 & 0.02 & 0.22 & 0.10 & 0.03 & 0.06\\\\\n",
        "6 & 0.08 & 0.01 & 0.04 & 0.26 & 0.00 & 0.27 & 0.09 & 0.00 & 0.19 & 0.06\\\\\n",
        "7 & 0.02 & 0.01 & 0.10 & 0.26 & 0.10 & 0.20 & 0.19 & 0.07 & 0.04 & 0.01\\\\\n",
        "8 & 0.09 & 0.16 & 0.03 & 0.13 & 0.13 & 0.09 & 0.04 & 0.12 & 0.21 & 0.00\\\\\n",
        "9 & 0.85 & 0.08 & 0.03 & 0.02 & 0.01 & 0.005 & 0.002 & 0.002 & 0.001 & 0.00\\\\\n",
        "\\end{bmatrix}\n",
        "$$ <br>\n"
      ],
      "metadata": {
        "id": "dSMTHOv5qh-V"
      }
    },
    {
      "cell_type": "code",
      "source": [
        "#Switch back to python runtime!\n",
        "pip install symbulate"
      ],
      "metadata": {
        "id": "KTO5MrCFGQE1"
      },
      "execution_count": null,
      "outputs": []
    },
    {
      "cell_type": "code",
      "source": [
        "from symbulate import *\n",
        "%matplotlib inline\n",
        "\n",
        "#create transition matrix\n",
        "P = np.array([[0.00 , 0.02 , 0.04 , 0.07 , 0.16 , 0.18 , 0.20 , 0.13 , 0.11 , 0.09],\n",
        "[0.07 , 0.11 , 0.01 , 0.07 , 0.31 , 0.04 , 0.01 , 0.02 , 0.33 , 0.03],\n",
        "[0.09 , 0.02 , 0.11 , 0.01 , 0.07 , 0.23 , 0.26 , 0.09 , 0.11 , 0.01],\n",
        "[0.01 , 0.20 , 0.00 , 0.10 , 0.14 , 0.30 , 0.02 , 0.12 , 0.11 , 0.00],\n",
        "[0.06 , 0.02 , 0.03 , 0.13 , 0.23 , 0.20 , 0.12 , 0.06 , 0.05 , 0.10],\n",
        "[0.23 , 0.13 , 0.09 , 0.04 , 0.08 , 0.02 , 0.22 , 0.10 , 0.03 , 0.06],\n",
        "[0.08 , 0.01 , 0.04 , 0.26 , 0.00 , 0.27 , 0.09 , 0.00 , 0.19 , 0.06],\n",
        "[0.02 , 0.01 , 0.10 , 0.26 , 0.10 , 0.20 , 0.19 , 0.07 , 0.04 , 0.01],\n",
        "[0.09 , 0.16 , 0.03 , 0.13 , 0.13 , 0.09 , 0.04 , 0.12 , 0.21 , 0.00],\n",
        "[0.85 , 0.08 , 0.03 , 0.02 , 0.01 , 0.005 , 0.002 , 0.002 , 0.001 , 0.00]])\n",
        "\n",
        "init = [0, 0, 0, 0, 1, 0, 0, 0, 0, 0]"
      ],
      "metadata": {
        "id": "djVGwIFb7P-0"
      },
      "execution_count": null,
      "outputs": []
    },
    {
      "cell_type": "markdown",
      "source": [
        "###1."
      ],
      "metadata": {
        "id": "mQll9FQHp9I8"
      }
    },
    {
      "cell_type": "markdown",
      "source": [
        "Run a simulation to show how many oreos he might consume in the coming week (Monday - Sunday). How many oreos is he most likely to consume on Friday?"
      ],
      "metadata": {
        "id": "k3-tEaymqN54"
      }
    },
    {
      "cell_type": "code",
      "source": [
        "X = MarkovChain(P, init)\n",
        "results = X.sim(1)"
      ],
      "metadata": {
        "id": "f26KQt2SGUMR"
      },
      "execution_count": null,
      "outputs": []
    },
    {
      "cell_type": "code",
      "source": [
        "results.plot()"
      ],
      "metadata": {
        "colab": {
          "base_uri": "https://localhost:8080/",
          "height": 449
        },
        "id": "_gVm519QHIsi",
        "outputId": "82d3dc49-4993-4cd8-be88-65866d0c81ff"
      },
      "execution_count": null,
      "outputs": [
        {
          "output_type": "display_data",
          "data": {
            "text/plain": [
              "<Figure size 640x480 with 1 Axes>"
            ],
            "image/png": "[encoded data removed]"
          },
          "metadata": {}
        }
      ]
    },
    {
      "cell_type": "code",
      "source": [
        "def cookie_count(x):\n",
        "  count = 0\n",
        "  for i in range(0,7):\n",
        "    count += x[i]\n",
        "  return count\n",
        "\n",
        "cookies = results.apply(cookie_count).get(0)\n",
        "\n",
        "print(\"The amount of cookies consumed in a week was {}.\".format(cookies))"
      ],
      "metadata": {
        "colab": {
          "base_uri": "https://localhost:8080/"
        },
        "id": "KlcHHkPjMEvp",
        "outputId": "fda8d8a1-1e28-45fe-ae56-90484b950b30"
      },
      "execution_count": null,
      "outputs": [
        {
          "output_type": "stream",
          "name": "stdout",
          "text": [
            "The amount of cookies consumed in a week was 33.\n"
          ]
        }
      ]
    },
    {
      "cell_type": "code",
      "source": [
        "results = X[5].sim(10000)\n",
        "results.tabulate(normalize = True)"
      ],
      "metadata": {
        "colab": {
          "base_uri": "https://localhost:8080/",
          "height": 275
        },
        "id": "aQav3qzcGvAr",
        "outputId": "239dcdfc-2a0f-4f2d-af3b-44417969ef3f"
      },
      "execution_count": null,
      "outputs": [
        {
          "output_type": "execute_result",
          "data": {
            "text/plain": [
              "Value Relative Frequency\n",
              "0     0.1128\n",
              "1     0.0824\n",
              "2     0.0429\n",
              "3     0.1186\n",
              "4     0.1284\n",
              "5     0.1602\n",
              "6     0.1195\n",
              "7     0.0729\n",
              "8     0.1164\n",
              "9     0.0459\n",
              "Total 1.0"
            ],
            "text/html": [
              "\n",
              "<table>\n",
              "  <thead>\n",
              "    <th width=\"80%\">Value</th>\n",
              "    <th width=\"20%\">Relative Frequency</th>\n",
              "  </thead>\n",
              "  <tbody>\n",
              "    <tr><td>0</td><td>0.1128</td></tr><tr><td>1</td><td>0.0824</td></tr><tr><td>2</td><td>0.0429</td></tr><tr><td>3</td><td>0.1186</td></tr><tr><td>4</td><td>0.1284</td></tr><tr><td>5</td><td>0.1602</td></tr><tr><td>6</td><td>0.1195</td></tr><tr><td>7</td><td>0.0729</td></tr><tr><td>8</td><td>0.1164</td></tr><tr><td>9</td><td>0.0459</td></tr><tr><td><b>Total</b></td><td><b>1.0</b></td></tr>\n",
              "  </tbody>\n",
              "</table>\n"
            ]
          },
          "metadata": {},
          "execution_count": 165
        }
      ]
    },
    {
      "cell_type": "markdown",
      "source": [
        "###2."
      ],
      "metadata": {
        "id": "HfgNBxlWqJno"
      }
    },
    {
      "cell_type": "markdown",
      "source": [
        "Over many different weeks, what is the distribution of oreos he consumes?"
      ],
      "metadata": {
        "id": "JErOYhkqqOmt"
      }
    },
    {
      "cell_type": "code",
      "source": [
        "def compute_stationary_distribution(P):\n",
        "    s = P.shape[0]\n",
        "    identity_matrix = np.eye(s)\n",
        "    ones_matrix = np.ones((s, s))\n",
        "\n",
        "    # Compute the stationary distribution\n",
        "    stationary_distribution = np.dot(np.ones(s), np.linalg.solve(identity_matrix - P + ones_matrix, np.eye(s)))\n",
        "\n",
        "    return stationary_distribution"
      ],
      "metadata": {
        "id": "E9rfeaSYQAwX"
      },
      "execution_count": null,
      "outputs": []
    },
    {
      "cell_type": "code",
      "source": [
        "stat_dist = compute_stationary_distribution(P)\n",
        "stat_dist = stat_dist.round(3)\n",
        "pi_sd = pd.DataFrame(stat_dist).T\n",
        "pi_sd.index = [\"pi\"]\n",
        "print(\"Nathan's stationary Distribution is:\")\n",
        "pi_sd"
      ],
      "metadata": {
        "colab": {
          "base_uri": "https://localhost:8080/",
          "height": 106
        },
        "id": "Fc0ZrR_TQBuM",
        "outputId": "3261546f-9151-48b9-f78d-a308882af08e"
      },
      "execution_count": null,
      "outputs": [
        {
          "output_type": "stream",
          "name": "stdout",
          "text": [
            "Nathan's stationary Distribution is:\n"
          ]
        },
        {
          "output_type": "execute_result",
          "data": {
            "text/plain": [
              "        0      1      2      3      4      5      6      7      8      9\n",
              "pi  0.113  0.083  0.046  0.116  0.129  0.156  0.118  0.078  0.119  0.043"
            ],
            "text/html": [
              "\n",
              "  <div id=\"df-198d7aac-959e-4c41-b51c-ac06bb48f688\" class=\"colab-df-container\">\n",
              "    <div>\n",
              "<style scoped>\n",
              "    .dataframe tbody tr th:only-of-type {\n",
              "        vertical-align: middle;\n",
              "    }\n",
              "\n",
              "    .dataframe tbody tr th {\n",
              "        vertical-align: top;\n",
              "    }\n",
              "\n",
              "    .dataframe thead th {\n",
              "        text-align: right;\n",
              "    }\n",
              "</style>\n",
              "<table border=\"1\" class=\"dataframe\">\n",
              "  <thead>\n",
              "    <tr style=\"text-align: right;\">\n",
              "      <th></th>\n",
              "      <th>0</th>\n",
              "      <th>1</th>\n",
              "      <th>2</th>\n",
              "      <th>3</th>\n",
              "      <th>4</th>\n",
              "      <th>5</th>\n",
              "      <th>6</th>\n",
              "      <th>7</th>\n",
              "      <th>8</th>\n",
              "      <th>9</th>\n",
              "    </tr>\n",
              "  </thead>\n",
              "  <tbody>\n",
              "    <tr>\n",
              "      <th>pi</th>\n",
              "      <td>0.113</td>\n",
              "      <td>0.083</td>\n",
              "      <td>0.046</td>\n",
              "      <td>0.116</td>\n",
              "      <td>0.129</td>\n",
              "      <td>0.156</td>\n",
              "      <td>0.118</td>\n",
              "      <td>0.078</td>\n",
              "      <td>0.119</td>\n",
              "      <td>0.043</td>\n",
              "    </tr>\n",
              "  </tbody>\n",
              "</table>\n",
              "</div>\n",
              "    <div class=\"colab-df-buttons\">\n",
              "\n",
              "  <div class=\"colab-df-container\">\n",
              "    <button class=\"colab-df-convert\" onclick=\"convertToInteractive('df-198d7aac-959e-4c41-b51c-ac06bb48f688')\"\n",
              "            title=\"Convert this dataframe to an interactive table.\"\n",
              "            style=\"display:none;\">\n",
              "\n",
              "  <svg xmlns=\"http://www.w3.org/2000/svg\" height=\"24px\" viewBox=\"0 -960 960 960\">\n",
              "    <path d=\"M120-120v-720h720v720H120Zm60-500h600v-160H180v160Zm220 220h160v-160H400v160Zm0 220h160v-160H400v160ZM180-400h160v-160H180v160Zm440 0h160v-160H620v160ZM180-180h160v-160H180v160Zm440 0h160v-160H620v160Z\"/>\n",
              "  </svg>\n",
              "    </button>\n",
              "\n",
              "  <style>\n",
              "    .colab-df-container {\n",
              "      display:flex;\n",
              "      gap: 12px;\n",
              "    }\n",
              "\n",
              "    .colab-df-convert {\n",
              "      background-color: #E8F0FE;\n",
              "      border: none;\n",
              "      border-radius: 50%;\n",
              "      cursor: pointer;\n",
              "      display: none;\n",
              "      fill: #1967D2;\n",
              "      height: 32px;\n",
              "      padding: 0 0 0 0;\n",
              "      width: 32px;\n",
              "    }\n",
              "\n",
              "    .colab-df-convert:hover {\n",
              "      background-color: #E2EBFA;\n",
              "      box-shadow: 0px 1px 2px rgba(60, 64, 67, 0.3), 0px 1px 3px 1px rgba(60, 64, 67, 0.15);\n",
              "      fill: #174EA6;\n",
              "    }\n",
              "\n",
              "    .colab-df-buttons div {\n",
              "      margin-bottom: 4px;\n",
              "    }\n",
              "\n",
              "    [theme=dark] .colab-df-convert {\n",
              "      background-color: #3B4455;\n",
              "      fill: #D2E3FC;\n",
              "    }\n",
              "\n",
              "    [theme=dark] .colab-df-convert:hover {\n",
              "      background-color: #434B5C;\n",
              "      box-shadow: 0px 1px 3px 1px rgba(0, 0, 0, 0.15);\n",
              "      filter: drop-shadow(0px 1px 2px rgba(0, 0, 0, 0.3));\n",
              "      fill: #FFFFFF;\n",
              "    }\n",
              "  </style>\n",
              "\n",
              "    <script>\n",
              "      const buttonEl =\n",
              "        document.querySelector('#df-198d7aac-959e-4c41-b51c-ac06bb48f688 button.colab-df-convert');\n",
              "      buttonEl.style.display =\n",
              "        google.colab.kernel.accessAllowed ? 'block' : 'none';\n",
              "\n",
              "      async function convertToInteractive(key) {\n",
              "        const element = document.querySelector('#df-198d7aac-959e-4c41-b51c-ac06bb48f688');\n",
              "        const dataTable =\n",
              "          await google.colab.kernel.invokeFunction('convertToInteractive',\n",
              "                                                    [key], {});\n",
              "        if (!dataTable) return;\n",
              "\n",
              "        const docLinkHtml = 'Like what you see? Visit the ' +\n",
              "          '<a target=\"_blank\" href=https://colab.research.google.com/notebooks/data_table.ipynb>data table notebook</a>'\n",
              "          + ' to learn more about interactive tables.';\n",
              "        element.innerHTML = '';\n",
              "        dataTable['output_type'] = 'display_data';\n",
              "        await google.colab.output.renderOutput(dataTable, element);\n",
              "        const docLink = document.createElement('div');\n",
              "        docLink.innerHTML = docLinkHtml;\n",
              "        element.appendChild(docLink);\n",
              "      }\n",
              "    </script>\n",
              "  </div>\n",
              "\n",
              "\n",
              "  <div id=\"id_8080723c-3f8c-4cc7-bab2-ac72dfc65e51\">\n",
              "    <style>\n",
              "      .colab-df-generate {\n",
              "        background-color: #E8F0FE;\n",
              "        border: none;\n",
              "        border-radius: 50%;\n",
              "        cursor: pointer;\n",
              "        display: none;\n",
              "        fill: #1967D2;\n",
              "        height: 32px;\n",
              "        padding: 0 0 0 0;\n",
              "        width: 32px;\n",
              "      }\n",
              "\n",
              "      .colab-df-generate:hover {\n",
              "        background-color: #E2EBFA;\n",
              "        box-shadow: 0px 1px 2px rgba(60, 64, 67, 0.3), 0px 1px 3px 1px rgba(60, 64, 67, 0.15);\n",
              "        fill: #174EA6;\n",
              "      }\n",
              "\n",
              "      [theme=dark] .colab-df-generate {\n",
              "        background-color: #3B4455;\n",
              "        fill: #D2E3FC;\n",
              "      }\n",
              "\n",
              "      [theme=dark] .colab-df-generate:hover {\n",
              "        background-color: #434B5C;\n",
              "        box-shadow: 0px 1px 3px 1px rgba(0, 0, 0, 0.15);\n",
              "        filter: drop-shadow(0px 1px 2px rgba(0, 0, 0, 0.3));\n",
              "        fill: #FFFFFF;\n",
              "      }\n",
              "    </style>\n",
              "    <button class=\"colab-df-generate\" onclick=\"generateWithVariable('pi_sd')\"\n",
              "            title=\"Generate code using this dataframe.\"\n",
              "            style=\"display:none;\">\n",
              "\n",
              "  <svg xmlns=\"http://www.w3.org/2000/svg\" height=\"24px\"viewBox=\"0 0 24 24\"\n",
              "       width=\"24px\">\n",
              "    <path d=\"M7,19H8.4L18.45,9,17,7.55,7,17.6ZM5,21V16.75L18.45,3.32a2,2,0,0,1,2.83,0l1.4,1.43a1.91,1.91,0,0,1,.58,1.4,1.91,1.91,0,0,1-.58,1.4L9.25,21ZM18.45,9,17,7.55Zm-12,3A5.31,5.31,0,0,0,4.9,8.1,5.31,5.31,0,0,0,1,6.5,5.31,5.31,0,0,0,4.9,4.9,5.31,5.31,0,0,0,6.5,1,5.31,5.31,0,0,0,8.1,4.9,5.31,5.31,0,0,0,12,6.5,5.46,5.46,0,0,0,6.5,12Z\"/>\n",
              "  </svg>\n",
              "    </button>\n",
              "    <script>\n",
              "      (() => {\n",
              "      const buttonEl =\n",
              "        document.querySelector('#id_8080723c-3f8c-4cc7-bab2-ac72dfc65e51 button.colab-df-generate');\n",
              "      buttonEl.style.display =\n",
              "        google.colab.kernel.accessAllowed ? 'block' : 'none';\n",
              "\n",
              "      buttonEl.onclick = () => {\n",
              "        google.colab.notebook.generateWithVariable('pi_sd');\n",
              "      }\n",
              "      })();\n",
              "    </script>\n",
              "  </div>\n",
              "\n",
              "    </div>\n",
              "  </div>\n"
            ],
            "application/vnd.google.colaboratory.intrinsic+json": {
              "type": "dataframe",
              "variable_name": "pi_sd",
              "summary": "{\n  \"name\": \"pi_sd\",\n  \"rows\": 1,\n  \"fields\": [\n    {\n      \"column\": 0,\n      \"properties\": {\n        \"dtype\": \"number\",\n        \"std\": NaN,\n        \"min\": 0.113,\n        \"max\": 0.113,\n        \"samples\": [\n          0.113\n        ],\n        \"num_unique_values\": 1,\n        \"semantic_type\": \"\",\n        \"description\": \"\"\n      }\n    },\n    {\n      \"column\": 1,\n      \"properties\": {\n        \"dtype\": \"number\",\n        \"std\": NaN,\n        \"min\": 0.083,\n        \"max\": 0.083,\n        \"samples\": [\n          0.083\n        ],\n        \"num_unique_values\": 1,\n        \"semantic_type\": \"\",\n        \"description\": \"\"\n      }\n    },\n    {\n      \"column\": 2,\n      \"properties\": {\n        \"dtype\": \"number\",\n        \"std\": NaN,\n        \"min\": 0.046,\n        \"max\": 0.046,\n        \"samples\": [\n          0.046\n        ],\n        \"num_unique_values\": 1,\n        \"semantic_type\": \"\",\n        \"description\": \"\"\n      }\n    },\n    {\n      \"column\": 3,\n      \"properties\": {\n        \"dtype\": \"number\",\n        \"std\": NaN,\n        \"min\": 0.116,\n        \"max\": 0.116,\n        \"samples\": [\n          0.116\n        ],\n        \"num_unique_values\": 1,\n        \"semantic_type\": \"\",\n        \"description\": \"\"\n      }\n    },\n    {\n      \"column\": 4,\n      \"properties\": {\n        \"dtype\": \"number\",\n        \"std\": NaN,\n        \"min\": 0.129,\n        \"max\": 0.129,\n        \"samples\": [\n          0.129\n        ],\n        \"num_unique_values\": 1,\n        \"semantic_type\": \"\",\n        \"description\": \"\"\n      }\n    },\n    {\n      \"column\": 5,\n      \"properties\": {\n        \"dtype\": \"number\",\n        \"std\": NaN,\n        \"min\": 0.156,\n        \"max\": 0.156,\n        \"samples\": [\n          0.156\n        ],\n        \"num_unique_values\": 1,\n        \"semantic_type\": \"\",\n        \"description\": \"\"\n      }\n    },\n    {\n      \"column\": 6,\n      \"properties\": {\n        \"dtype\": \"number\",\n        \"std\": NaN,\n        \"min\": 0.118,\n        \"max\": 0.118,\n        \"samples\": [\n          0.118\n        ],\n        \"num_unique_values\": 1,\n        \"semantic_type\": \"\",\n        \"description\": \"\"\n      }\n    },\n    {\n      \"column\": 7,\n      \"properties\": {\n        \"dtype\": \"number\",\n        \"std\": NaN,\n        \"min\": 0.078,\n        \"max\": 0.078,\n        \"samples\": [\n          0.078\n        ],\n        \"num_unique_values\": 1,\n        \"semantic_type\": \"\",\n        \"description\": \"\"\n      }\n    },\n    {\n      \"column\": 8,\n      \"properties\": {\n        \"dtype\": \"number\",\n        \"std\": NaN,\n        \"min\": 0.119,\n        \"max\": 0.119,\n        \"samples\": [\n          0.119\n        ],\n        \"num_unique_values\": 1,\n        \"semantic_type\": \"\",\n        \"description\": \"\"\n      }\n    },\n    {\n      \"column\": 9,\n      \"properties\": {\n        \"dtype\": \"number\",\n        \"std\": NaN,\n        \"min\": 0.043,\n        \"max\": 0.043,\n        \"samples\": [\n          0.043\n        ],\n        \"num_unique_values\": 1,\n        \"semantic_type\": \"\",\n        \"description\": \"\"\n      }\n    }\n  ]\n}"
            }
          },
          "metadata": {},
          "execution_count": 179
        }
      ]
    },
    {
      "cell_type": "markdown",
      "source": [
        "###3."
      ],
      "metadata": {
        "id": "XZLTcJQBqKG9"
      }
    },
    {
      "cell_type": "markdown",
      "source": [
        "Nathan loves all kinds of desserts and he thinks it is time for a switch up. The pack of oreos he just bought is down to its last 9 cookies. Use the stationary distribution to create an appropriate transition matrix to see how long will it take him to finish the pack and be ready for a new dessert?"
      ],
      "metadata": {
        "id": "CPFJfVnIqPGa"
      }
    },
    {
      "cell_type": "code",
      "source": [
        "#get weighted rows for new transition matrix and fill in below\n",
        "stat_dist\n",
        "size = 1\n",
        "tot = stat_dist[:size].sum()\n",
        "new_prob = stat_dist[:size]/tot\n",
        "print(sum(new_prob))\n",
        "new_prob[::-1].round(2)"
      ],
      "metadata": {
        "colab": {
          "base_uri": "https://localhost:8080/"
        },
        "id": "JgujlXO5YAer",
        "outputId": "b46827d6-1254-431f-b479-d98d993f153d"
      },
      "execution_count": null,
      "outputs": [
        {
          "output_type": "stream",
          "name": "stdout",
          "text": [
            "1.0\n"
          ]
        },
        {
          "output_type": "execute_result",
          "data": {
            "text/plain": [
              "array([1.])"
            ]
          },
          "metadata": {},
          "execution_count": 230
        }
      ]
    },
    {
      "cell_type": "code",
      "source": [
        "#create transition matrix\n",
        "#this transition matrix is now a count down of cookies to finishing the pack\n",
        "P = np.array([\n",
        "[1.00 , 0.00 , 0.00 , 0.00 , 0.00 , 0.00 , 0.00 , 0.00 , 0.00 , 0.00],\n",
        "[0.42 , 0.58 , 0.00 , 0.00 , 0.00 , 0.00 , 0.00 , 0.00 , 0.00 , 0.00],\n",
        "[0.19 , 0.34 , 0.47 , 0.00 , 0.00 , 0.00 , 0.00 , 0.00 , 0.00 , 0.00],\n",
        "[0.32 , 0.13 , 0.23 , 0.32 , 0.00 , 0.00 , 0.00 , 0.00 , 0.00 , 0.00],\n",
        "[0.26 , 0.24 , 0.09 , 0.17 , 0.23 , 0.00 , 0.00 , 0.00 , 0.00 , 0.00],\n",
        "[0.24 , 0.20 , 0.18 , 0.07 , 0.13 , 0.18 , 0.00 , 0.00 , 0.00 , 0.00],\n",
        "[0.16 , 0.20 , 0.17 , 0.15 , 0.06 , 0.11 , 0.15 , 0.00 , 0.00 , 0.00],\n",
        "[0.09 , 0.14 , 0.19 , 0.15 , 0.14 , 0.05 , 0.10 , 0.13 , 0.00 , 0.00],\n",
        "[0.12 , 0.08 , 0.12 , 0.16 , 0.13 , 0.12 , 0.05 , 0.09 , 0.12 , 0.00],\n",
        "[0.04 , 0.12 , 0.08 , 0.12 , 0.16 , 0.13 , 0.12 , 0.05 , 0.08 , 0.11]])"
      ],
      "metadata": {
        "id": "GLih3oxlVdla"
      },
      "execution_count": null,
      "outputs": []
    },
    {
      "cell_type": "code",
      "source": [
        "#set up transient, Identity and ones matrix\n",
        "qstart = 1\n",
        "qstop = 10\n",
        "qsize = qstop - qstart\n",
        "Q = P[qstart:qstop, qstart:qstop]\n",
        "I = np.eye(qsize)\n",
        "mat_ones = np.ones((qsize,1))\n",
        "\n",
        "#solve\n",
        "I_Q = I-Q\n",
        "inv_IQ = np.linalg.inv(I_Q)\n",
        "\n",
        "mu = np.dot(inv_IQ, mat_ones)\n",
        "\n",
        "#result\n",
        "print(\"mean time to finish the pack of oreos is\", round(mu[8][0]), \"days\")"
      ],
      "metadata": {
        "colab": {
          "base_uri": "https://localhost:8080/"
        },
        "id": "OF3HHlDnqM1u",
        "outputId": "c53475f4-24ab-4282-ac0d-215b3fb79d3b"
      },
      "execution_count": null,
      "outputs": [
        {
          "output_type": "stream",
          "name": "stdout",
          "text": [
            "mean time to finish the pack of oreos is 4 days\n"
          ]
        }
      ]
    }
  ]
}