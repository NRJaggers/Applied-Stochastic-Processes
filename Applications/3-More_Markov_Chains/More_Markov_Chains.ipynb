{
  "nbformat": 4,
  "nbformat_minor": 0,
  "metadata": {
    "colab": {
      "provenance": [],
      "include_colab_link": true
    },
    "kernelspec": {
      "name": "python3",
      "display_name": "Python 3"
    },
    "language_info": {
      "name": "python"
    }
  },
  "cells": [
    {
      "cell_type": "markdown",
      "metadata": {
        "id": "view-in-github",
        "colab_type": "text"
      },
      "source": [
        "<a href=\"https://colab.research.google.com/github/NRJaggers/Applied-Stochastic-Processes/blob/main/Applications/3-More_Markov_Chains/More_Markov_Chains.ipynb\" target=\"_parent\"><img src=\"https://colab.research.google.com/assets/colab-badge.svg\" alt=\"Open In Colab\"/></a>"
      ]
    },
    {
      "cell_type": "markdown",
      "source": [
        "#More Markov Chains"
      ],
      "metadata": {
        "id": "lwN5bYfDW66u"
      }
    },
    {
      "cell_type": "markdown",
      "source": [
        "---\n",
        "\n",
        "## Prompt"
      ],
      "metadata": {
        "id": "Bh1go0uHXDqq"
      }
    },
    {
      "cell_type": "markdown",
      "source": [
        "Original Prompt can be found [here](https://bookdown.org/kevin_davisross/applied-stochastic-processes/app-absorbing.html). A copy of the prompt along with the completed exercise can be found under [/Applications](https://github.com/NRJaggers/Applied-Stochastic-Processes/tree/main/Applications)."
      ],
      "metadata": {
        "id": "DJpcnN9AXHGQ"
      }
    },
    {
      "cell_type": "markdown",
      "source": [
        "## Summary"
      ],
      "metadata": {
        "id": "UPrX4PdRhz0O"
      }
    },
    {
      "cell_type": "markdown",
      "source": [
        "### Part 1"
      ],
      "metadata": {
        "id": "NoBbPctjiBut"
      }
    },
    {
      "cell_type": "markdown",
      "source": [
        "You roll a fair six-sided die 6 times. Whatever the results, you paint those on the sides of a blank die. So, if your rolls were 4, 5, 2, 6, 1, 1, then your new die has no 3’s and two 1’s. Then, you repeat the process with your new die — roll it 6 times and paint the results on a blank die. Eventually, you’ll roll the same number 6 times, at which point the process stops. Let $T$ = the number of rounds (of 6 rolls each) that you perform until stopping. (If your 6 rolls in the first round all result in the same number, then you stop with $T=1$.)"
      ],
      "metadata": {
        "id": "0z0QFPW_iQb6"
      }
    },
    {
      "cell_type": "markdown",
      "source": [
        "### Part 2"
      ],
      "metadata": {
        "id": "0gZVtEnGiDPm"
      }
    },
    {
      "cell_type": "markdown",
      "source": [
        "In this part you will create and solve your own problems involving Markov chains. You have lots of flexibility, but your problems should include at least one part that requires:\n",
        "- A simulation\n",
        "- An analytical solution that uses either first step analysis/absorption\n",
        "- An analtyical solution that uses stationary distributions/long run behavior"
      ],
      "metadata": {
        "id": "PSJtYYnaiRJ1"
      }
    },
    {
      "cell_type": "markdown",
      "source": [
        "---\n",
        "\n",
        "## Application - Part 1"
      ],
      "metadata": {
        "id": "GXUWHhYNXK3F"
      }
    },
    {
      "cell_type": "markdown",
      "source": [
        "###1."
      ],
      "metadata": {
        "id": "NnOccgJbXbpb"
      }
    },
    {
      "cell_type": "markdown",
      "source": [
        "Code and run a simulation to approximate the distribution of $T$ and its expected value, without using Markov chains. Summarize the approximate distribution in an appropriate plot, and describe the distribution in 2-3 sentences (e.g., compute and interpret a few percentiles)."
      ],
      "metadata": {
        "id": "XM3D2LuSjI15"
      }
    },
    {
      "cell_type": "code",
      "source": [
        "import numpy as np\n",
        "\n",
        "def die_sim():\n",
        "  # create containers for dice\n",
        "  fresh_die = [1, 2, 3, 4, 5, 6]\n",
        "  current_die = fresh_die\n",
        "  new_die = fresh_die\n",
        "\n",
        "  #create flag for loop and variables\n",
        "  same = False\n",
        "  rolls = 6 # rolls corisponding to sides of dice\n",
        "  T = 0 # number of dice created before all sides are the same\n",
        "\n",
        "  while(not same):\n",
        "    #show current die\n",
        "    #print(current_die, \"\\n\")\n",
        "\n",
        "    # roll current die and create new die\n",
        "    for i in range(0,rolls):\n",
        "      result = np.random.choice(current_die)\n",
        "      new_die[i] = result\n",
        "\n",
        "    #increment die counter, check die side similarity\n",
        "    T += 1\n",
        "    current_die = new_die\n",
        "    same = all(x == new_die[0] for x in new_die)\n",
        "\n",
        "  #print(current_die, \"\\n\", T)\n",
        "  return T"
      ],
      "metadata": {
        "id": "fFeK6k88Vjmm"
      },
      "execution_count": 49,
      "outputs": []
    },
    {
      "cell_type": "code",
      "source": [
        "# run simulation multiple times\n",
        "sims = 10000\n",
        "\n",
        "sim_results = np.empty(sims)\n",
        "\n",
        "for i in range(0,sims):\n",
        "  sim_results[i] = die_sim()"
      ],
      "metadata": {
        "id": "CVWXdDOSePHe"
      },
      "execution_count": 61,
      "outputs": []
    },
    {
      "cell_type": "code",
      "source": [
        "import matplotlib.pyplot as plt\n",
        "\n",
        "plt.hist(sim_results, density = True)"
      ],
      "metadata": {
        "id": "xagDHPFmfEsM",
        "outputId": "5bc3a6f0-fce2-4916-e0cc-8bbf6fc7cbc9",
        "colab": {
          "base_uri": "https://localhost:8080/",
          "height": 499
        }
      },
      "execution_count": 64,
      "outputs": [
        {
          "output_type": "execute_result",
          "data": {
            "text/plain": [
              "(array([0.22733333, 0.179     , 0.17826667, 0.03633333, 0.03153333,\n",
              "        0.00586667, 0.0058    , 0.0016    , 0.00066667, 0.00026667]),\n",
              " array([ 1. ,  2.5,  4. ,  5.5,  7. ,  8.5, 10. , 11.5, 13. , 14.5, 16. ]),\n",
              " <BarContainer object of 10 artists>)"
            ]
          },
          "metadata": {},
          "execution_count": 64
        },
        {
          "output_type": "display_data",
          "data": {
            "text/plain": [
              "<Figure size 640x480 with 1 Axes>"
            ],
            "image/png": "[encoded data removed]"
          },
          "metadata": {}
        }
      ]
    },
    {
      "cell_type": "code",
      "source": [
        "# compute expected value\n",
        "ev = sim_results.mean()\n",
        "std_dev = sim_results.std()\n",
        "print(\"The average of dice created until the final with all the same sides is {:.2f} dice\".format(ev))\n",
        "print(\"The standard deviation was {:.2f} dice\".format(std_dev))"
      ],
      "metadata": {
        "id": "AP65YbSHfE_9",
        "outputId": "6c96d17b-0df6-41b5-d3ad-f3f22407c724",
        "colab": {
          "base_uri": "https://localhost:8080/"
        }
      },
      "execution_count": 72,
      "outputs": [
        {
          "output_type": "stream",
          "name": "stdout",
          "text": [
            "The average of dice created until the final with all the same sides is 3.49 dice\n",
            "The standard deviation was 1.84 dice\n"
          ]
        }
      ]
    },
    {
      "cell_type": "markdown",
      "source": [
        "The distribution seems to be right skewed, with the bulk of the required rolls hovering around 2-5. The expected value of the distribution is about 3.5."
      ],
      "metadata": {
        "id": "OeL3e5yyfKPJ"
      }
    },
    {
      "cell_type": "code",
      "source": [
        "# calculate percentiles\n",
        "percentiles = np.percentile(sim_results, [25, 50, 75])\n",
        "\n",
        "# create a box plot with percentiles\n",
        "plt.boxplot(sim_results, vert=False)\n",
        "plt.scatter(percentiles, [1, 1, 1], color='red', marker='o', label='Percentiles')\n",
        "plt.xlabel('Value')\n",
        "plt.legend()\n",
        "plt.show()"
      ],
      "metadata": {
        "id": "ROHXMG-2fRkE",
        "outputId": "1fe5e40a-5bad-49f6-a58c-b2bec6417e79",
        "colab": {
          "base_uri": "https://localhost:8080/",
          "height": 449
        }
      },
      "execution_count": 83,
      "outputs": [
        {
          "output_type": "display_data",
          "data": {
            "text/plain": [
              "<Figure size 640x480 with 1 Axes>"
            ],
            "image/png": "[encoded data removed]"
          },
          "metadata": {}
        }
      ]
    },
    {
      "cell_type": "markdown",
      "source": [
        "###2."
      ],
      "metadata": {
        "id": "MP7OWWO2jVdf"
      }
    },
    {
      "cell_type": "markdown",
      "source": [
        "Define a Markov chain that will help you find $E(T)$. Be sure to clearly define the state space. (Note: there are several ways to do this; any one is fine just be clear in your choice.)"
      ],
      "metadata": {
        "id": "kkJ1fAe3jXX1"
      }
    },
    {
      "cell_type": "markdown",
      "source": [
        "###3."
      ],
      "metadata": {
        "id": "tA-1WvOWjXre"
      }
    },
    {
      "cell_type": "markdown",
      "source": [
        "Determine the transition matrix for your Markov chain. You might want to compute a few of the transition probabilities by hand, but you’ll probably need to write code to fill in the whole matrix."
      ],
      "metadata": {
        "id": "u5_gkpvJjYPp"
      }
    },
    {
      "cell_type": "markdown",
      "source": [
        "###4."
      ],
      "metadata": {
        "id": "Nq2oSIYHjY2z"
      }
    },
    {
      "cell_type": "markdown",
      "source": [
        "Use the transition matrix and tools from class to solve for $E(T)$. Compare to the simulated value from part 1."
      ],
      "metadata": {
        "id": "uqGHaW8sjZTd"
      }
    },
    {
      "cell_type": "markdown",
      "source": [
        "###5."
      ],
      "metadata": {
        "id": "wVB6Xfl3jZv0"
      }
    },
    {
      "cell_type": "markdown",
      "source": [
        "Use the transition matrix and tools from class to solve for the distribution of $T$, and display the distribution in an appropriate plot. Compare to the simulated distribution from part 1."
      ],
      "metadata": {
        "id": "7q6YgLOZjaDy"
      }
    },
    {
      "cell_type": "markdown",
      "source": [
        "---\n",
        "\n",
        "## Application - Part 2"
      ],
      "metadata": {
        "id": "AdPqSeWRhMRE"
      }
    },
    {
      "cell_type": "code",
      "source": [],
      "metadata": {
        "id": "AKmTNU0WhOCh"
      },
      "execution_count": null,
      "outputs": []
    }
  ]
}