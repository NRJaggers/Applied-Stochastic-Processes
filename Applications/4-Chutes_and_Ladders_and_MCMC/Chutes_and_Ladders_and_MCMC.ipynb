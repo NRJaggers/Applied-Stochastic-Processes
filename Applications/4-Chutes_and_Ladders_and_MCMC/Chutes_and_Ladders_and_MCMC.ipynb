{
  "nbformat": 4,
  "nbformat_minor": 0,
  "metadata": {
    "colab": {
      "provenance": [],
      "include_colab_link": true
    },
    "kernelspec": {
      "name": "python3",
      "display_name": "Python 3"
    },
    "language_info": {
      "name": "python"
    }
  },
  "cells": [
    {
      "cell_type": "markdown",
      "metadata": {
        "id": "view-in-github",
        "colab_type": "text"
      },
      "source": [
        "<a href=\"https://colab.research.google.com/github/NRJaggers/Applied-Stochastic-Processes/blob/main/Applications/4-Chutes_and_Ladders_and_MCMC/Chutes_and_Ladders_and_MCMC.ipynb\" target=\"_parent\"><img src=\"https://colab.research.google.com/assets/colab-badge.svg\" alt=\"Open In Colab\"/></a>"
      ]
    },
    {
      "cell_type": "markdown",
      "source": [
        "#Chutes and Ladders and MCMC"
      ],
      "metadata": {
        "id": "lwN5bYfDW66u"
      }
    },
    {
      "cell_type": "markdown",
      "source": [
        "---\n",
        "\n",
        "## Prompt"
      ],
      "metadata": {
        "id": "Bh1go0uHXDqq"
      }
    },
    {
      "cell_type": "markdown",
      "source": [
        "Original Prompt can be found [here](https://bookdown.org/kevin_davisross/applied-stochastic-processes/app-mcmc.html). A copy of the prompt along with the completed exercise can be found under [/Applications](https://github.com/NRJaggers/Applied-Stochastic-Processes/tree/main/Applications)."
      ],
      "metadata": {
        "id": "DJpcnN9AXHGQ"
      }
    },
    {
      "cell_type": "markdown",
      "source": [
        "##Summary"
      ],
      "metadata": {
        "id": "06QhnUojnxD4"
      }
    },
    {
      "cell_type": "markdown",
      "source": [
        "This investigation concerns the boardgame Chutes and Ladders. Detailed instructions and some code have been provided in original prompt; For detailed explaination, please be sure to read the full prompt carefully."
      ],
      "metadata": {
        "id": "WXKnlgvjn0XI"
      }
    },
    {
      "cell_type": "markdown",
      "source": [
        "The board has 100 spaces, labeled 1, 2, …, 100. A player starts off the board. A player generally moves on the board according to the roll of a fair six-sided die. For example, if the player is currently on space 13 and they roll a 5, then they move to space 18. However, the board also has 9 ladders which help the player climb the board and 10 chutes (slides) which knock the player back down. The game ends when the player makes it to space 100. (We’ll assume only one player.)"
      ],
      "metadata": {
        "id": "xhrcgdihoYcF"
      }
    },
    {
      "cell_type": "markdown",
      "source": [
        "###Problem 1"
      ],
      "metadata": {
        "id": "wzMWOgUqu0SW"
      }
    },
    {
      "cell_type": "markdown",
      "source": [
        "We are interested in $T$, the number of moves (rolls) needed until spot 100 is reached (the player doesn’t need to land on 100 exactly). The position of the player after the nth move can be modeled as a Markov chain with transition matrix `Pgame` defined in the code from the prompt."
      ],
      "metadata": {
        "id": "MkO-NDkmu46C"
      }
    },
    {
      "cell_type": "markdown",
      "source": [
        "###Problem 2"
      ],
      "metadata": {
        "id": "_IPiEeFPu5Pr"
      }
    },
    {
      "cell_type": "markdown",
      "source": [
        "Suppose you were designing a new Chutes and Ladders board. How does the placement of the chutes and ladders on the board affect the expected value of $T$? In particular, is there a way to place the chutes/ladders to minimize the expected number of moves? In this problem, you’ll write an MCMC algorithm to find the board which minimizes $E(T)$."
      ],
      "metadata": {
        "id": "cXWwfCmOu83r"
      }
    },
    {
      "cell_type": "markdown",
      "source": [
        "---\n",
        "\n",
        "## Application"
      ],
      "metadata": {
        "id": "GXUWHhYNXK3F"
      }
    },
    {
      "cell_type": "markdown",
      "source": [
        "###1."
      ],
      "metadata": {
        "id": "NnOccgJbXbpb"
      }
    },
    {
      "cell_type": "markdown",
      "source": [
        "First, create the Pgame matrix to use."
      ],
      "metadata": {
        "id": "SC4V550gqotd"
      }
    },
    {
      "cell_type": "code",
      "source": [
        "#use this to allow for running R within Python\n",
        "%load_ext rpy2.ipython"
      ],
      "metadata": {
        "id": "g10WuHtz6ocN"
      },
      "execution_count": 1,
      "outputs": []
    },
    {
      "cell_type": "code",
      "source": [
        "%%R\n",
        "N = 100 # number of spaces on board\n",
        "\n",
        "s = N + 1  # number of states\n",
        "\n",
        "k = 6  # number of sides on die\n",
        "\n",
        "# P0 is the transition matrix if there were no chutes/ladders\n",
        "P0 = matrix(rep(0, s * s), nrow = s)\n",
        "\n",
        "for (i in 1:(N - 1)){\n",
        "  for (j in min(i + 1, N):min(i + k, N)){\n",
        "    if (j == N){\n",
        "      P0[i, j] = (i - N + k + 1) / k\n",
        "      # don't need to land on 100 exactly\n",
        "    } else {\n",
        "      P0[i, j] = 1 / k\n",
        "    }\n",
        "  }\n",
        "}\n",
        "\n",
        "P0[N, N] = 1  # absorbing state\n",
        "\n",
        "P0[s, 1:k] = 1 / k  # initial state"
      ],
      "metadata": {
        "id": "voedXV9S6sCw"
      },
      "execution_count": 2,
      "outputs": []
    },
    {
      "cell_type": "code",
      "source": [
        "%%R\n",
        "# The make_board function takes as an input the starting spaces\n",
        "# for chutes and ladders and outputs the transition matrix\n",
        "# add the chutes/ladders by swapping appropriate columns\n",
        "# with an annoying little detail for the two short chutes\n",
        "# e.g. you can get from 50 to 53 by rolling a 3\n",
        "# or by rolling a 6 and then sliding down the chute from 56 to 53\n",
        "\n",
        "make_board <- function(ladder_start, chute_start, plot = FALSE){\n",
        "  ladder_length = c(8, 10, 16, 20, 20, 21, 22, 37, 56)\n",
        "  ladder_end = ladder_start + ladder_length\n",
        "  chute_length = c(3, 4, 10, 20, 20, 20, 22, 38, 43, 63)\n",
        "  chute_end = chute_start - chute_length\n",
        "  P = P0\n",
        "  for (j in 1:length(ladder_start)){\n",
        "    i = which(P[, ladder_start[j]] > 0)\n",
        "    P[i, ladder_end[j]] = P[i, ladder_start[j]]\n",
        "    P[i, ladder_start[j]] = 0\n",
        "    P[ladder_start[j], ] = rep(0, s)\n",
        "    P[ladder_start[j], ladder_end[j]]=1\n",
        "  }\n",
        "  for (j in 1:length(chute_start)){\n",
        "    i = which(P[, chute_start[j]] > 0)\n",
        "    i1 = i[which(i <= chute_end[j])]\n",
        "    P[i1, chute_end[j]] = P[i1, chute_start[j]] +\n",
        "      P0[i1, chute_end[j]]\n",
        "    P[i1, chute_start[j]] = 0\n",
        "    i2 = i[which(i > chute_end[j])]\n",
        "    P[i2, chute_end[j]] = P[i2, chute_start[j]]\n",
        "    P[i2, chute_start[j]] = 0\n",
        "    P[chute_start[j], ] = rep(0, s)\n",
        "    P[chute_start[j], chute_end[j]] = 1\n",
        "  }\n",
        "  if (plot == TRUE){\n",
        "    image(1:s, 1:s, t(P[c(s, 1:(s - 1)), c(s, 1:(s - 1))]),\n",
        "          xlab = \"\", ylab = \"\",\n",
        "          zlim = c(1 / k, 1), xaxt = \"n\", yaxt = \"n\",\n",
        "          col = rainbow(k))\n",
        "    axis(1, at = 1:s, labels = 0:(s - 1), cex.axis=0.4)\n",
        "    axis(2, at = 1:s, labels = 0:(s - 1), cex.axis=0.4)\n",
        "    grid(s, s)\n",
        "  }\n",
        "  return(P)\n",
        "}"
      ],
      "metadata": {
        "id": "O63AFgUG69FP"
      },
      "execution_count": 70,
      "outputs": []
    },
    {
      "cell_type": "code",
      "source": [
        "#run in R environment but export output variable to python\n",
        "%%R -o Pgame\n",
        "# generate the transition matrix for the actual game\n",
        "Pgame = make_board(\n",
        "  ladder_start = c(36, 4, 51, 71, 80, 21, 9, 1, 28),\n",
        "  chute_start = c(56, 64, 16, 93, 95, 98, 48, 49, 62, 87),\n",
        "  plot = TRUE)"
      ],
      "metadata": {
        "colab": {
          "base_uri": "https://localhost:8080/",
          "height": 497
        },
        "id": "GwaE8A-N7Evh",
        "outputId": "246585d0-6bee-4740-a4a8-eb972008297e"
      },
      "execution_count": 64,
      "outputs": [
        {
          "output_type": "display_data",
          "data": {
            "image/png": "[encoded data removed]"
          },
          "metadata": {}
        }
      ]
    },
    {
      "cell_type": "code",
      "source": [
        "%%R\n",
        "# Check that all row sums are 1\n",
        "Invalid_rows_n = which(!rowSums(Pgame) == 1)\n",
        "print(Invalid_rows_n)"
      ],
      "metadata": {
        "colab": {
          "base_uri": "https://localhost:8080/"
        },
        "id": "aEM77II87PwT",
        "outputId": "b385a516-439c-4dcf-ff25-232fd8ef3dd0"
      },
      "execution_count": 65,
      "outputs": [
        {
          "output_type": "stream",
          "name": "stdout",
          "text": [
            "integer(0)\n"
          ]
        }
      ]
    },
    {
      "cell_type": "markdown",
      "source": [
        "####a."
      ],
      "metadata": {
        "id": "48h1Km4oqfDN"
      }
    },
    {
      "cell_type": "markdown",
      "source": [
        "Solve for $E(T)$ without first finding the distribution of $T$."
      ],
      "metadata": {
        "id": "RwlyACNiqqVu"
      }
    },
    {
      "cell_type": "code",
      "source": [
        "%%R\n",
        "mean_time_to_absorption <- function(transition_matrix, state_names = NULL) {\n",
        "\n",
        "  absorbing_states = which(diag(transition_matrix) == 1)\n",
        "\n",
        "  if (length(absorbing_states) == 0) stop(\"There are no absorbing states.\")\n",
        "\n",
        "  n_states = nrow(transition_matrix)\n",
        "\n",
        "  transient_states = setdiff(1:n_states, absorbing_states)\n",
        "\n",
        "  Q = transition_matrix[transient_states, transient_states]\n",
        "\n",
        "  mtta = solve(diag(nrow(Q)) - Q, rep(1, nrow(Q)))\n",
        "\n",
        "  if (is.null(state_names)) state_names = 1:n_states\n",
        "\n",
        "  data.frame(start_state = state_names[transient_states],\n",
        "             mean_time_to_absorption = mtta)\n",
        "}"
      ],
      "metadata": {
        "id": "fFpDGxte-Ftw"
      },
      "execution_count": 6,
      "outputs": []
    },
    {
      "cell_type": "code",
      "source": [
        "%%R\n",
        "mu = mean_time_to_absorption(Pgame)\n",
        "mu[100,]"
      ],
      "metadata": {
        "colab": {
          "base_uri": "https://localhost:8080/"
        },
        "id": "JFC-6DEj-lX_",
        "outputId": "86f17f0a-f033-4dbf-c72a-65be519b7bb5"
      },
      "execution_count": 7,
      "outputs": [
        {
          "output_type": "stream",
          "name": "stdout",
          "text": [
            "    start_state mean_time_to_absorption\n",
            "100         101                36.19307\n"
          ]
        }
      ]
    },
    {
      "cell_type": "markdown",
      "source": [
        "Above we can see the mean absorbtion time, $E(T)$, from off the board to spot 100."
      ],
      "metadata": {
        "id": "nhI3YFh6A6L6"
      }
    },
    {
      "cell_type": "markdown",
      "source": [
        "####b."
      ],
      "metadata": {
        "id": "ZE7VlsNUqrw6"
      }
    },
    {
      "cell_type": "markdown",
      "source": [
        "Solve for the exact distribution of $T$ and plot it. (Technically, $T$ can take infinitely many values, but feel free to cut off when the probabilities become sufficiently small.) Find $E(T)$ based on this distribution. Compare the expected value to the previous part."
      ],
      "metadata": {
        "id": "n4JuG_REqxRD"
      }
    },
    {
      "cell_type": "code",
      "source": [
        "%%R\n",
        "install.packages('expm')\n",
        "install.packages('kableExtra')\n",
        "install.packages('tidyverse')"
      ],
      "metadata": {
        "colab": {
          "base_uri": "https://localhost:8080/"
        },
        "id": "OoTshedZE4LV",
        "outputId": "df3a35f4-7984-4035-848a-89958ff053b9"
      },
      "execution_count": 8,
      "outputs": [
        {
          "output_type": "stream",
          "name": "stderr",
          "text": [
            "WARNING:rpy2.rinterface_lib.callbacks:R[write to console]: Installing package into ‘/usr/local/lib/R/site-library’\n",
            "(as ‘lib’ is unspecified)\n",
            "\n",
            "WARNING:rpy2.rinterface_lib.callbacks:R[write to console]: trying URL 'https://cran.rstudio.com/src/contrib/expm_0.999-9.tar.gz'\n",
            "\n",
            "WARNING:rpy2.rinterface_lib.callbacks:R[write to console]: Content type 'application/x-gzip'\n",
            "WARNING:rpy2.rinterface_lib.callbacks:R[write to console]:  length 137765 bytes (134 KB)\n",
            "\n",
            "WARNING:rpy2.rinterface_lib.callbacks:R[write to console]: =\n",
            "WARNING:rpy2.rinterface_lib.callbacks:R[write to console]: =\n",
            "WARNING:rpy2.rinterface_lib.callbacks:R[write to console]: =\n",
            "WARNING:rpy2.rinterface_lib.callbacks:R[write to console]: =\n",
            "WARNING:rpy2.rinterface_lib.callbacks:R[write to console]: =\n",
            "WARNING:rpy2.rinterface_lib.callbacks:R[write to console]: =\n",
            "WARNING:rpy2.rinterface_lib.callbacks:R[write to console]: =\n",
            "WARNING:rpy2.rinterface_lib.callbacks:R[write to console]: =\n",
            "WARNING:rpy2.rinterface_lib.callbacks:R[write to console]: =\n",
            "WARNING:rpy2.rinterface_lib.callbacks:R[write to console]: =\n",
            "WARNING:rpy2.rinterface_lib.callbacks:R[write to console]: =\n",
            "WARNING:rpy2.rinterface_lib.callbacks:R[write to console]: =\n",
            "WARNING:rpy2.rinterface_lib.callbacks:R[write to console]: =\n",
            "WARNING:rpy2.rinterface_lib.callbacks:R[write to console]: =\n",
            "WARNING:rpy2.rinterface_lib.callbacks:R[write to console]: =\n",
            "WARNING:rpy2.rinterface_lib.callbacks:R[write to console]: =\n",
            "WARNING:rpy2.rinterface_lib.callbacks:R[write to console]: =\n",
            "WARNING:rpy2.rinterface_lib.callbacks:R[write to console]: =\n",
            "WARNING:rpy2.rinterface_lib.callbacks:R[write to console]: =\n",
            "WARNING:rpy2.rinterface_lib.callbacks:R[write to console]: =\n",
            "WARNING:rpy2.rinterface_lib.callbacks:R[write to console]: =\n",
            "WARNING:rpy2.rinterface_lib.callbacks:R[write to console]: =\n",
            "WARNING:rpy2.rinterface_lib.callbacks:R[write to console]: =\n",
            "WARNING:rpy2.rinterface_lib.callbacks:R[write to console]: =\n",
            "WARNING:rpy2.rinterface_lib.callbacks:R[write to console]: =\n",
            "WARNING:rpy2.rinterface_lib.callbacks:R[write to console]: =\n",
            "WARNING:rpy2.rinterface_lib.callbacks:R[write to console]: =\n",
            "WARNING:rpy2.rinterface_lib.callbacks:R[write to console]: =\n",
            "WARNING:rpy2.rinterface_lib.callbacks:R[write to console]: =\n",
            "WARNING:rpy2.rinterface_lib.callbacks:R[write to console]: =\n",
            "WARNING:rpy2.rinterface_lib.callbacks:R[write to console]: =\n",
            "WARNING:rpy2.rinterface_lib.callbacks:R[write to console]: =\n",
            "WARNING:rpy2.rinterface_lib.callbacks:R[write to console]: =\n",
            "WARNING:rpy2.rinterface_lib.callbacks:R[write to console]: =\n",
            "WARNING:rpy2.rinterface_lib.callbacks:R[write to console]: =\n",
            "WARNING:rpy2.rinterface_lib.callbacks:R[write to console]: =\n",
            "WARNING:rpy2.rinterface_lib.callbacks:R[write to console]: =\n",
            "WARNING:rpy2.rinterface_lib.callbacks:R[write to console]: =\n",
            "WARNING:rpy2.rinterface_lib.callbacks:R[write to console]: =\n",
            "WARNING:rpy2.rinterface_lib.callbacks:R[write to console]: =\n",
            "WARNING:rpy2.rinterface_lib.callbacks:R[write to console]: =\n",
            "WARNING:rpy2.rinterface_lib.callbacks:R[write to console]: =\n",
            "WARNING:rpy2.rinterface_lib.callbacks:R[write to console]: =\n",
            "WARNING:rpy2.rinterface_lib.callbacks:R[write to console]: =\n",
            "WARNING:rpy2.rinterface_lib.callbacks:R[write to console]: =\n",
            "WARNING:rpy2.rinterface_lib.callbacks:R[write to console]: =\n",
            "WARNING:rpy2.rinterface_lib.callbacks:R[write to console]: =\n",
            "WARNING:rpy2.rinterface_lib.callbacks:R[write to console]: =\n",
            "WARNING:rpy2.rinterface_lib.callbacks:R[write to console]: =\n",
            "WARNING:rpy2.rinterface_lib.callbacks:R[write to console]: =\n",
            "WARNING:rpy2.rinterface_lib.callbacks:R[write to console]: \n",
            "\n",
            "WARNING:rpy2.rinterface_lib.callbacks:R[write to console]: downloaded 134 KB\n",
            "\n",
            "\n",
            "WARNING:rpy2.rinterface_lib.callbacks:R[write to console]: \n",
            "\n",
            "WARNING:rpy2.rinterface_lib.callbacks:R[write to console]: \n",
            "WARNING:rpy2.rinterface_lib.callbacks:R[write to console]: The downloaded source packages are in\n",
            "\t‘/tmp/Rtmp9tCPo3/downloaded_packages’\n",
            "WARNING:rpy2.rinterface_lib.callbacks:R[write to console]: \n",
            "WARNING:rpy2.rinterface_lib.callbacks:R[write to console]: \n",
            "\n",
            "WARNING:rpy2.rinterface_lib.callbacks:R[write to console]: Installing package into ‘/usr/local/lib/R/site-library’\n",
            "(as ‘lib’ is unspecified)\n",
            "\n",
            "WARNING:rpy2.rinterface_lib.callbacks:R[write to console]: trying URL 'https://cran.rstudio.com/src/contrib/kableExtra_1.4.0.tar.gz'\n",
            "\n",
            "WARNING:rpy2.rinterface_lib.callbacks:R[write to console]: Content type 'application/x-gzip'\n",
            "WARNING:rpy2.rinterface_lib.callbacks:R[write to console]:  length 1824636 bytes (1.7 MB)\n",
            "\n",
            "WARNING:rpy2.rinterface_lib.callbacks:R[write to console]: =\n",
            "WARNING:rpy2.rinterface_lib.callbacks:R[write to console]: =\n",
            "WARNING:rpy2.rinterface_lib.callbacks:R[write to console]: =\n",
            "WARNING:rpy2.rinterface_lib.callbacks:R[write to console]: =\n",
            "WARNING:rpy2.rinterface_lib.callbacks:R[write to console]: =\n",
            "WARNING:rpy2.rinterface_lib.callbacks:R[write to console]: =\n",
            "WARNING:rpy2.rinterface_lib.callbacks:R[write to console]: =\n",
            "WARNING:rpy2.rinterface_lib.callbacks:R[write to console]: =\n",
            "WARNING:rpy2.rinterface_lib.callbacks:R[write to console]: =\n",
            "WARNING:rpy2.rinterface_lib.callbacks:R[write to console]: =\n",
            "WARNING:rpy2.rinterface_lib.callbacks:R[write to console]: =\n",
            "WARNING:rpy2.rinterface_lib.callbacks:R[write to console]: =\n",
            "WARNING:rpy2.rinterface_lib.callbacks:R[write to console]: =\n",
            "WARNING:rpy2.rinterface_lib.callbacks:R[write to console]: =\n",
            "WARNING:rpy2.rinterface_lib.callbacks:R[write to console]: =\n",
            "WARNING:rpy2.rinterface_lib.callbacks:R[write to console]: =\n",
            "WARNING:rpy2.rinterface_lib.callbacks:R[write to console]: =\n",
            "WARNING:rpy2.rinterface_lib.callbacks:R[write to console]: =\n",
            "WARNING:rpy2.rinterface_lib.callbacks:R[write to console]: =\n",
            "WARNING:rpy2.rinterface_lib.callbacks:R[write to console]: =\n",
            "WARNING:rpy2.rinterface_lib.callbacks:R[write to console]: =\n",
            "WARNING:rpy2.rinterface_lib.callbacks:R[write to console]: =\n",
            "WARNING:rpy2.rinterface_lib.callbacks:R[write to console]: =\n",
            "WARNING:rpy2.rinterface_lib.callbacks:R[write to console]: =\n",
            "WARNING:rpy2.rinterface_lib.callbacks:R[write to console]: =\n",
            "WARNING:rpy2.rinterface_lib.callbacks:R[write to console]: =\n",
            "WARNING:rpy2.rinterface_lib.callbacks:R[write to console]: =\n",
            "WARNING:rpy2.rinterface_lib.callbacks:R[write to console]: =\n",
            "WARNING:rpy2.rinterface_lib.callbacks:R[write to console]: =\n",
            "WARNING:rpy2.rinterface_lib.callbacks:R[write to console]: =\n",
            "WARNING:rpy2.rinterface_lib.callbacks:R[write to console]: =\n",
            "WARNING:rpy2.rinterface_lib.callbacks:R[write to console]: =\n",
            "WARNING:rpy2.rinterface_lib.callbacks:R[write to console]: =\n",
            "WARNING:rpy2.rinterface_lib.callbacks:R[write to console]: =\n",
            "WARNING:rpy2.rinterface_lib.callbacks:R[write to console]: =\n",
            "WARNING:rpy2.rinterface_lib.callbacks:R[write to console]: =\n",
            "WARNING:rpy2.rinterface_lib.callbacks:R[write to console]: =\n",
            "WARNING:rpy2.rinterface_lib.callbacks:R[write to console]: =\n",
            "WARNING:rpy2.rinterface_lib.callbacks:R[write to console]: =\n",
            "WARNING:rpy2.rinterface_lib.callbacks:R[write to console]: =\n",
            "WARNING:rpy2.rinterface_lib.callbacks:R[write to console]: =\n",
            "WARNING:rpy2.rinterface_lib.callbacks:R[write to console]: =\n",
            "WARNING:rpy2.rinterface_lib.callbacks:R[write to console]: =\n",
            "WARNING:rpy2.rinterface_lib.callbacks:R[write to console]: =\n",
            "WARNING:rpy2.rinterface_lib.callbacks:R[write to console]: =\n",
            "WARNING:rpy2.rinterface_lib.callbacks:R[write to console]: =\n",
            "WARNING:rpy2.rinterface_lib.callbacks:R[write to console]: =\n",
            "WARNING:rpy2.rinterface_lib.callbacks:R[write to console]: =\n",
            "WARNING:rpy2.rinterface_lib.callbacks:R[write to console]: =\n",
            "WARNING:rpy2.rinterface_lib.callbacks:R[write to console]: =\n",
            "WARNING:rpy2.rinterface_lib.callbacks:R[write to console]: \n",
            "\n",
            "WARNING:rpy2.rinterface_lib.callbacks:R[write to console]: downloaded 1.7 MB\n",
            "\n",
            "\n",
            "WARNING:rpy2.rinterface_lib.callbacks:R[write to console]: \n",
            "\n",
            "WARNING:rpy2.rinterface_lib.callbacks:R[write to console]: \n",
            "WARNING:rpy2.rinterface_lib.callbacks:R[write to console]: The downloaded source packages are in\n",
            "\t‘/tmp/Rtmp9tCPo3/downloaded_packages’\n",
            "WARNING:rpy2.rinterface_lib.callbacks:R[write to console]: \n",
            "WARNING:rpy2.rinterface_lib.callbacks:R[write to console]: \n",
            "\n",
            "WARNING:rpy2.rinterface_lib.callbacks:R[write to console]: Installing package into ‘/usr/local/lib/R/site-library’\n",
            "(as ‘lib’ is unspecified)\n",
            "\n",
            "WARNING:rpy2.rinterface_lib.callbacks:R[write to console]: trying URL 'https://cran.rstudio.com/src/contrib/tidyverse_2.0.0.tar.gz'\n",
            "\n",
            "WARNING:rpy2.rinterface_lib.callbacks:R[write to console]: Content type 'application/x-gzip'\n",
            "WARNING:rpy2.rinterface_lib.callbacks:R[write to console]:  length 704618 bytes (688 KB)\n",
            "\n",
            "WARNING:rpy2.rinterface_lib.callbacks:R[write to console]: =\n",
            "WARNING:rpy2.rinterface_lib.callbacks:R[write to console]: =\n",
            "WARNING:rpy2.rinterface_lib.callbacks:R[write to console]: =\n",
            "WARNING:rpy2.rinterface_lib.callbacks:R[write to console]: =\n",
            "WARNING:rpy2.rinterface_lib.callbacks:R[write to console]: =\n",
            "WARNING:rpy2.rinterface_lib.callbacks:R[write to console]: =\n",
            "WARNING:rpy2.rinterface_lib.callbacks:R[write to console]: =\n",
            "WARNING:rpy2.rinterface_lib.callbacks:R[write to console]: =\n",
            "WARNING:rpy2.rinterface_lib.callbacks:R[write to console]: =\n",
            "WARNING:rpy2.rinterface_lib.callbacks:R[write to console]: =\n",
            "WARNING:rpy2.rinterface_lib.callbacks:R[write to console]: =\n",
            "WARNING:rpy2.rinterface_lib.callbacks:R[write to console]: =\n",
            "WARNING:rpy2.rinterface_lib.callbacks:R[write to console]: =\n",
            "WARNING:rpy2.rinterface_lib.callbacks:R[write to console]: =\n",
            "WARNING:rpy2.rinterface_lib.callbacks:R[write to console]: =\n",
            "WARNING:rpy2.rinterface_lib.callbacks:R[write to console]: =\n",
            "WARNING:rpy2.rinterface_lib.callbacks:R[write to console]: =\n",
            "WARNING:rpy2.rinterface_lib.callbacks:R[write to console]: =\n",
            "WARNING:rpy2.rinterface_lib.callbacks:R[write to console]: =\n",
            "WARNING:rpy2.rinterface_lib.callbacks:R[write to console]: =\n",
            "WARNING:rpy2.rinterface_lib.callbacks:R[write to console]: =\n",
            "WARNING:rpy2.rinterface_lib.callbacks:R[write to console]: =\n",
            "WARNING:rpy2.rinterface_lib.callbacks:R[write to console]: =\n",
            "WARNING:rpy2.rinterface_lib.callbacks:R[write to console]: =\n",
            "WARNING:rpy2.rinterface_lib.callbacks:R[write to console]: =\n",
            "WARNING:rpy2.rinterface_lib.callbacks:R[write to console]: =\n",
            "WARNING:rpy2.rinterface_lib.callbacks:R[write to console]: =\n",
            "WARNING:rpy2.rinterface_lib.callbacks:R[write to console]: =\n",
            "WARNING:rpy2.rinterface_lib.callbacks:R[write to console]: =\n",
            "WARNING:rpy2.rinterface_lib.callbacks:R[write to console]: =\n",
            "WARNING:rpy2.rinterface_lib.callbacks:R[write to console]: =\n",
            "WARNING:rpy2.rinterface_lib.callbacks:R[write to console]: =\n",
            "WARNING:rpy2.rinterface_lib.callbacks:R[write to console]: =\n",
            "WARNING:rpy2.rinterface_lib.callbacks:R[write to console]: =\n",
            "WARNING:rpy2.rinterface_lib.callbacks:R[write to console]: =\n",
            "WARNING:rpy2.rinterface_lib.callbacks:R[write to console]: =\n",
            "WARNING:rpy2.rinterface_lib.callbacks:R[write to console]: =\n",
            "WARNING:rpy2.rinterface_lib.callbacks:R[write to console]: =\n",
            "WARNING:rpy2.rinterface_lib.callbacks:R[write to console]: =\n",
            "WARNING:rpy2.rinterface_lib.callbacks:R[write to console]: =\n",
            "WARNING:rpy2.rinterface_lib.callbacks:R[write to console]: =\n",
            "WARNING:rpy2.rinterface_lib.callbacks:R[write to console]: =\n",
            "WARNING:rpy2.rinterface_lib.callbacks:R[write to console]: =\n",
            "WARNING:rpy2.rinterface_lib.callbacks:R[write to console]: =\n",
            "WARNING:rpy2.rinterface_lib.callbacks:R[write to console]: =\n",
            "WARNING:rpy2.rinterface_lib.callbacks:R[write to console]: =\n",
            "WARNING:rpy2.rinterface_lib.callbacks:R[write to console]: =\n",
            "WARNING:rpy2.rinterface_lib.callbacks:R[write to console]: =\n",
            "WARNING:rpy2.rinterface_lib.callbacks:R[write to console]: =\n",
            "WARNING:rpy2.rinterface_lib.callbacks:R[write to console]: =\n",
            "WARNING:rpy2.rinterface_lib.callbacks:R[write to console]: \n",
            "\n",
            "WARNING:rpy2.rinterface_lib.callbacks:R[write to console]: downloaded 688 KB\n",
            "\n",
            "\n",
            "WARNING:rpy2.rinterface_lib.callbacks:R[write to console]: \n",
            "\n",
            "WARNING:rpy2.rinterface_lib.callbacks:R[write to console]: \n",
            "WARNING:rpy2.rinterface_lib.callbacks:R[write to console]: The downloaded source packages are in\n",
            "\t‘/tmp/Rtmp9tCPo3/downloaded_packages’\n",
            "WARNING:rpy2.rinterface_lib.callbacks:R[write to console]: \n",
            "WARNING:rpy2.rinterface_lib.callbacks:R[write to console]: \n",
            "\n"
          ]
        }
      ]
    },
    {
      "cell_type": "code",
      "source": [
        "%%R\n",
        "library(expm)\n",
        "library(kableExtra)\n",
        "\n",
        "pmf_of_time_to_absorption <- function(transition_matrix, state_names = NULL, start_state) {\n",
        "\n",
        "  absorbing_states = which(diag(transition_matrix) == 1)\n",
        "\n",
        "  if (length(absorbing_states) == 0) stop(\"There are no absorbing states.\")\n",
        "\n",
        "  n_states = nrow(transition_matrix)\n",
        "\n",
        "  transient_states = setdiff(1:n_states, absorbing_states)\n",
        "\n",
        "  if (is.null(state_names)) state_names = 1:n_states\n",
        "\n",
        "  if (which(state_names == start_state) %in% absorbing_states) stop(\"Initial state is an absorbing state; absorption at time 0.\")\n",
        "\n",
        "  n = 1\n",
        "\n",
        "  TTA_cdf = sum(transition_matrix[which(state_names == start_state), absorbing_states])\n",
        "\n",
        "  while (max(TTA_cdf) < 0.999999) {\n",
        "\n",
        "    n = n + 1\n",
        "\n",
        "    TTA_cdf = c(TTA_cdf, sum((transition_matrix %^% n)[which(state_names == start_state), absorbing_states]))\n",
        "  }\n",
        "\n",
        "  TTA_pmf = TTA_cdf - c(0, TTA_cdf[-length(TTA_cdf)])\n",
        "\n",
        "  data.frame(n = 1:length(TTA_pmf),\n",
        "             prob_absorb_at_time_n = TTA_pmf)\n",
        "}"
      ],
      "metadata": {
        "id": "OiFcVk-4BygW",
        "colab": {
          "base_uri": "https://localhost:8080/"
        },
        "outputId": "f6248d08-7797-4515-8cbd-2d5a6b6ac384"
      },
      "execution_count": 9,
      "outputs": [
        {
          "output_type": "stream",
          "name": "stderr",
          "text": [
            "WARNING:rpy2.rinterface_lib.callbacks:R[write to console]: Loading required package: Matrix\n",
            "\n",
            "WARNING:rpy2.rinterface_lib.callbacks:R[write to console]: \n",
            "Attaching package: ‘expm’\n",
            "\n",
            "\n",
            "WARNING:rpy2.rinterface_lib.callbacks:R[write to console]: The following object is masked from ‘package:Matrix’:\n",
            "\n",
            "    expm\n",
            "\n",
            "\n"
          ]
        }
      ]
    },
    {
      "cell_type": "code",
      "source": [
        "%%R\n",
        "T_pmf = pmf_of_time_to_absorption(Pgame, start_state = 101)\n",
        "\n",
        "T_pmf |> head(100)"
      ],
      "metadata": {
        "colab": {
          "base_uri": "https://localhost:8080/"
        },
        "id": "fk9TxCJKChUt",
        "outputId": "da7d5f99-b165-4c9a-b266-f3565c3e4460"
      },
      "execution_count": 10,
      "outputs": [
        {
          "output_type": "stream",
          "name": "stdout",
          "text": [
            "      n prob_absorb_at_time_n\n",
            "1     1           0.000000000\n",
            "2     2           0.000000000\n",
            "3     3           0.000000000\n",
            "4     4           0.000000000\n",
            "5     5           0.000000000\n",
            "6     6           0.000000000\n",
            "7     7           0.001971879\n",
            "8     8           0.006174626\n",
            "9     9           0.010176731\n",
            "10   10           0.013461394\n",
            "11   11           0.017124516\n",
            "12   12           0.020461774\n",
            "13   13           0.022348204\n",
            "14   14           0.023169028\n",
            "15   15           0.023949501\n",
            "16   16           0.025097382\n",
            "17   17           0.026294356\n",
            "18   18           0.027100283\n",
            "19   19           0.027427515\n",
            "20   20           0.027474270\n",
            "21   21           0.027397815\n",
            "22   22           0.027177541\n",
            "23   23           0.026731643\n",
            "24   24           0.026059559\n",
            "25   25           0.025252409\n",
            "26   26           0.024409494\n",
            "27   27           0.023574142\n",
            "28   28           0.022739104\n",
            "29   29           0.021888860\n",
            "30   30           0.021027647\n",
            "31   31           0.020176073\n",
            "32   32           0.019353038\n",
            "33   33           0.018564695\n",
            "34   34           0.017806949\n",
            "35   35           0.017074119\n",
            "36   36           0.016364529\n",
            "37   37           0.015680137\n",
            "38   38           0.015023213\n",
            "39   39           0.014394041\n",
            "40   40           0.013791061\n",
            "41   41           0.013212330\n",
            "42   42           0.012656620\n",
            "43   43           0.012123458\n",
            "44   44           0.011612542\n",
            "45   45           0.011123253\n",
            "46   46           0.010654628\n",
            "47   47           0.010205616\n",
            "48   48           0.009775312\n",
            "49   49           0.009362995\n",
            "50   50           0.008968023\n",
            "51   51           0.008589733\n",
            "52   52           0.008227417\n",
            "53   53           0.007880368\n",
            "54   54           0.007547920\n",
            "55   55           0.007229467\n",
            "56   56           0.006924440\n",
            "57   57           0.006632287\n",
            "58   58           0.006352465\n",
            "59   59           0.006084448\n",
            "60   60           0.005827733\n",
            "61   61           0.005581843\n",
            "62   62           0.005346326\n",
            "63   63           0.005120747\n",
            "64   64           0.004904687\n",
            "65   65           0.004697743\n",
            "66   66           0.004499530\n",
            "67   67           0.004309679\n",
            "68   68           0.004127838\n",
            "69   69           0.003953670\n",
            "70   70           0.003786851\n",
            "71   71           0.003627070\n",
            "72   72           0.003474031\n",
            "73   73           0.003327449\n",
            "74   74           0.003187052\n",
            "75   75           0.003052579\n",
            "76   76           0.002923779\n",
            "77   77           0.002800415\n",
            "78   78           0.002682255\n",
            "79   79           0.002569081\n",
            "80   80           0.002460682\n",
            "81   81           0.002356857\n",
            "82   82           0.002257412\n",
            "83   83           0.002162164\n",
            "84   84           0.002070934\n",
            "85   85           0.001983554\n",
            "86   86           0.001899861\n",
            "87   87           0.001819699\n",
            "88   88           0.001742919\n",
            "89   89           0.001669379\n",
            "90   90           0.001598942\n",
            "91   91           0.001531477\n",
            "92   92           0.001466858\n",
            "93   93           0.001404966\n",
            "94   94           0.001345685\n",
            "95   95           0.001288906\n",
            "96   96           0.001234522\n",
            "97   97           0.001182433\n",
            "98   98           0.001132542\n",
            "99   99           0.001084756\n",
            "100 100           0.001038986\n"
          ]
        }
      ]
    },
    {
      "cell_type": "code",
      "source": [
        "%%R\n",
        "library(tidyverse)\n",
        "\n",
        "ggplot(T_pmf |>\n",
        "         filter(prob_absorb_at_time_n > 0),\n",
        "       aes(x = n,\n",
        "           y = prob_absorb_at_time_n)) +\n",
        "  geom_line(linewidth = 1)"
      ],
      "metadata": {
        "colab": {
          "base_uri": "https://localhost:8080/",
          "height": 740
        },
        "id": "nV2fD5CDHV7t",
        "outputId": "05204da2-e0d2-4b56-d24a-ea82ec18aae3"
      },
      "execution_count": 11,
      "outputs": [
        {
          "output_type": "stream",
          "name": "stdout",
          "text": [
            "── Attaching core tidyverse packages ──────────────────────── tidyverse 2.0.0 ──\n",
            "✔ dplyr     1.1.4     ✔ readr     2.1.5\n",
            "✔ forcats   1.0.0     ✔ stringr   1.5.1\n",
            "✔ ggplot2   3.4.4     ✔ tibble    3.2.1\n",
            "✔ lubridate 1.9.3     ✔ tidyr     1.3.1\n",
            "✔ purrr     1.0.2     \n",
            "── Conflicts ────────────────────────────────────────── tidyverse_conflicts() ──\n",
            "✖ tidyr::expand()     masks Matrix::expand()\n",
            "✖ dplyr::filter()     masks stats::filter()\n",
            "✖ dplyr::group_rows() masks kableExtra::group_rows()\n",
            "✖ dplyr::lag()        masks stats::lag()\n",
            "✖ tidyr::pack()       masks Matrix::pack()\n",
            "✖ tidyr::unpack()     masks Matrix::unpack()\n",
            "ℹ Use the conflicted package (<http://conflicted.r-lib.org/>) to force all conflicts to become errors\n"
          ]
        },
        {
          "output_type": "display_data",
          "data": {
            "image/png": "[encoded data removed]"
          },
          "metadata": {}
        }
      ]
    },
    {
      "cell_type": "code",
      "source": [
        "%%R\n",
        "sum(T_pmf[, 1] * T_pmf[, 2])"
      ],
      "metadata": {
        "colab": {
          "base_uri": "https://localhost:8080/"
        },
        "id": "Gj8pn66fIqou",
        "outputId": "8cf2691c-3789-43dd-dc96-1a23d4c72cc6"
      },
      "execution_count": 12,
      "outputs": [
        {
          "output_type": "stream",
          "name": "stdout",
          "text": [
            "[1] 36.19272\n"
          ]
        }
      ]
    },
    {
      "cell_type": "markdown",
      "source": [
        "Both computation through absorbing state and cumulative PMF to find average result in values that agree. They both come out to be about 36.2 steps."
      ],
      "metadata": {
        "id": "S9R3JyT6KA85"
      }
    },
    {
      "cell_type": "markdown",
      "source": [
        "####c."
      ],
      "metadata": {
        "id": "aCHWf9qqquwY"
      }
    },
    {
      "cell_type": "markdown",
      "source": [
        "Write code to run the chain and simulate the distribution of $T$. Plot the simulated distribution, use it to estimate the expected value, and compare to the previous part."
      ],
      "metadata": {
        "id": "uMDMrZsDqxtq"
      }
    },
    {
      "cell_type": "code",
      "source": [
        "%%R\n",
        "simulate_single_DTMC_path <- function(initial_distribution, transition_matrix, last_time){\n",
        "\n",
        "  n_states = nrow(transition_matrix) # number of states\n",
        "\n",
        "  states = 1:n_states # state space\n",
        "\n",
        "  X = rep(NA, last_time + 1) # state at time n; +1 to include time 0\n",
        "\n",
        "  X[1] = sample(states, 1, replace = TRUE, prob = initial_distribution) # initial state\n",
        "\n",
        "  for (n in 2:(last_time + 1)){\n",
        "\n",
        "    X[n] = sample(states, 1, replace = TRUE, prob = transition_matrix[X[n-1], ])\n",
        "\n",
        "  }\n",
        "\n",
        "  return(X)\n",
        "\n",
        "}"
      ],
      "metadata": {
        "id": "vg9PRz0tBzZ-"
      },
      "execution_count": 13,
      "outputs": []
    },
    {
      "cell_type": "code",
      "source": [
        "%%R\n",
        "pi0 <- rep(0, 101)\n",
        "pi0[101] <- 1\n",
        "\n",
        "absorbing_states = which(diag(Pgame) == 1)\n",
        "\n",
        "n_rep = 10000\n",
        "time_to_absorption = rep(NA, n_rep)\n",
        "\n",
        "for (i in 1:n_rep) {\n",
        "  x = simulate_single_DTMC_path(pi0, Pgame, last_time = 200)\n",
        "  time_to_absorption[i] = min(which(x %in% absorbing_states))\n",
        "}\n",
        "\n",
        "hist(time_to_absorption)"
      ],
      "metadata": {
        "id": "nhjL7gJdLfJP",
        "outputId": "86f1ec13-5d33-403a-eacc-77d54a6ae8be",
        "colab": {
          "base_uri": "https://localhost:8080/",
          "height": 497
        }
      },
      "execution_count": 14,
      "outputs": [
        {
          "output_type": "display_data",
          "data": {
            "image/png": "[encoded data removed]"
          },
          "metadata": {}
        }
      ]
    },
    {
      "cell_type": "code",
      "source": [
        "%%R\n",
        "summary(time_to_absorption)"
      ],
      "metadata": {
        "id": "SwpsO6p9MDQa",
        "outputId": "7a472960-37a1-4230-c4a2-a7296e0d5218",
        "colab": {
          "base_uri": "https://localhost:8080/"
        }
      },
      "execution_count": 15,
      "outputs": [
        {
          "output_type": "stream",
          "name": "stdout",
          "text": [
            "   Min. 1st Qu.  Median    Mean 3rd Qu.    Max. \n",
            "    8.0    21.0    30.5     Inf    46.0     Inf \n"
          ]
        }
      ]
    },
    {
      "cell_type": "code",
      "source": [
        "%%R\n",
        "mean(time_to_absorption)"
      ],
      "metadata": {
        "id": "M_2HMKWcMGv6",
        "outputId": "5a908446-7c51-4ed0-9f7a-dae9cf6a94a8",
        "colab": {
          "base_uri": "https://localhost:8080/"
        }
      },
      "execution_count": 16,
      "outputs": [
        {
          "output_type": "stream",
          "name": "stdout",
          "text": [
            "[1] Inf\n"
          ]
        }
      ]
    },
    {
      "cell_type": "code",
      "source": [
        "%%R\n",
        "sd(time_to_absorption)"
      ],
      "metadata": {
        "id": "yTuUYCTdMMk-",
        "outputId": "b7296539-b341-4840-bcb9-571729e85db0",
        "colab": {
          "base_uri": "https://localhost:8080/"
        }
      },
      "execution_count": 17,
      "outputs": [
        {
          "output_type": "stream",
          "name": "stdout",
          "text": [
            "[1] NaN\n"
          ]
        }
      ]
    },
    {
      "cell_type": "markdown",
      "source": [
        "###2."
      ],
      "metadata": {
        "id": "RG6DUyZ2qgB5"
      }
    },
    {
      "cell_type": "markdown",
      "source": [
        "First, think about what the optimal placement might look like. Then, write an MCMC algorithm to find the board that minimizes $E(T)$. Your MCMC algorithm should involve:\n",
        "- Proposing a new state, that is, proposing a new board. A board is identified by the starting spaces of the chutes and the starting spaces of the ladders (that is, the inputs to the `make_board` function).\n",
        "- Finding the expected value of $T$ for the proposed board and then deciding whether or not to accept the proposed board. Note: if the proposed board is not valid (e.g., chutes/ladders land off the board), then it should be rejected.\n",
        "\n",
        "Run the algorithm until you think it has converged and you have found the optimal board. Identify the the starting spaces for the chutes and ladders for this board."
      ],
      "metadata": {
        "id": "BlZBoFerqhVn"
      }
    },
    {
      "cell_type": "markdown",
      "source": [
        "####MCMC Algorithm"
      ],
      "metadata": {
        "id": "eIrvKrXwrGpY"
      }
    },
    {
      "cell_type": "code",
      "source": [
        "# Function - create proposal and verify it is valid\n",
        "%%R\n",
        "\n",
        "propose_starting_locations <- function(ladder_start, chute_start) {\n",
        "  # Find end for chutes and ladders\n",
        "  ladder_length <- c(8, 10, 16, 20, 20, 21, 22, 37, 56)\n",
        "  ladder_end <- ladder_start + ladder_length\n",
        "  chute_length <- c(3, 4, 10, 20, 20, 20, 22, 38, 43, 63)\n",
        "  chute_end <- chute_start - chute_length\n",
        "\n",
        "  # Randomly choose chutes or ladders to adjust\n",
        "  adjust_type <- sample(c(\"ladder\", \"chute\"), 1)\n",
        "\n",
        "  # Randomly pick which element to adjust\n",
        "  if (adjust_type == \"ladder\") {\n",
        "    element_index <- sample(length(ladder_length), 1)\n",
        "    start <- 1\n",
        "    end   <- 100 - ladder_length[element_index]\n",
        "    new_start <- sample(start:end, 1)  # Generate new starting position\n",
        "    new_end   <- new_start + ladder_length[element_index]\n",
        "    while (new_start %in% c(ladder_start, ladder_end, chute_start, chute_end) ||\n",
        "           new_end %in% c(ladder_start, ladder_end, chute_start, chute_end)) {\n",
        "      new_start <- sample(start:end, 1)  # Regenerate if position is not valid\n",
        "      new_end   <- new_start + ladder_length[element_index]\n",
        "    }\n",
        "    new_ladder_start <- replace(ladder_start, element_index, new_start)\n",
        "    new_chute_start  <- chute_start  # Chute positions remain unchanged\n",
        "  } else {\n",
        "    element_index <- sample(length(chute_length), 1)\n",
        "    start <- 4 + chute_length[element_index]\n",
        "    end   <- 99\n",
        "    new_start <- sample(start:end, 1)  # Generate new starting position\n",
        "    new_end   <- new_start - chute_length[element_index]\n",
        "    while (new_start %in% c(ladder_start, ladder_end, chute_start, chute_end) ||\n",
        "           new_end %in% c(ladder_start, ladder_end, chute_start, chute_end)) {\n",
        "      new_start <- sample(start:end, 1)  # Regenerate if position is not valid\n",
        "      new_end   <- new_start - chute_length[element_index]\n",
        "    }\n",
        "    new_chute_start  <- replace(chute_start, element_index, new_start)\n",
        "    new_ladder_start <- ladder_start  # Ladder positions remain unchanged\n",
        "  }\n",
        "\n",
        "  # Return a list containing the new starting locations for ladders and chutes\n",
        "  return(list(new_ladder_start = new_ladder_start, new_chute_start = new_chute_start))\n",
        "}\n",
        "\n",
        "\n",
        "# Example usage:\n",
        "ladder_start <- c(36, 4, 51, 71, 80, 21, 9, 1, 28)\n",
        "chute_start <- c(56, 64, 16, 93, 95, 98, 48, 49, 62, 87)\n",
        "\n",
        "result <- propose_starting_locations(ladder_start, chute_start)\n",
        "new_ladder_start <- result$new_ladder_start\n",
        "new_chute_start <- result$new_chute_start\n",
        "\n",
        "# Print the new starting locations\n",
        "ladder_length <- c(8, 10, 16, 20, 20, 21, 22, 37, 56)\n",
        "chute_length <- c(3, 4, 10, 20, 20, 20, 22, 38, 43, 63)\n",
        "\n",
        "print(ladder_start)\n",
        "print(new_ladder_start)\n",
        "print(ladder_length)\n",
        "print(new_ladder_start+ladder_length)\n",
        "\n",
        "print(chute_start)\n",
        "print(new_chute_start)\n",
        "print(chute_length)\n",
        "print(new_chute_start-chute_length)\n"
      ],
      "metadata": {
        "colab": {
          "base_uri": "https://localhost:8080/"
        },
        "id": "Eos6BSEdCCTS",
        "outputId": "21a6d00f-8a06-4fc6-b53f-ecef85366e01"
      },
      "execution_count": 71,
      "outputs": [
        {
          "output_type": "stream",
          "name": "stdout",
          "text": [
            "[1] 36  4 51 71 80 21  9  1 28\n",
            "[1] 36  4 51 71 80 21  9  1 28\n",
            "[1]  8 10 16 20 20 21 22 37 56\n",
            "[1]  44  14  67  91 100  42  31  38  84\n",
            " [1] 56 64 16 93 95 98 48 49 62 87\n",
            " [1] 56 64 16 93 95 72 48 49 62 87\n",
            " [1]  3  4 10 20 20 20 22 38 43 63\n",
            " [1] 53 60  6 73 75 52 26 11 19 24\n"
          ]
        }
      ]
    },
    {
      "cell_type": "code",
      "source": [
        "%%R\n",
        "Pgame = make_board(new_ladder_start, new_chute_start, plot = FALSE)\n",
        "\n",
        "# Check that all row sums are 1\n",
        "Invalid_rows_n = which(!rowSums(Pgame) == 1)\n",
        "print(Invalid_rows_n)"
      ],
      "metadata": {
        "id": "vNbjQ8bPkzbL",
        "outputId": "1d3fbc37-d225-455c-f198-d31e85f28d53",
        "colab": {
          "base_uri": "https://localhost:8080/"
        }
      },
      "execution_count": 72,
      "outputs": [
        {
          "output_type": "stream",
          "name": "stdout",
          "text": [
            "integer(0)\n"
          ]
        }
      ]
    },
    {
      "cell_type": "code",
      "source": [
        "#run MCMC algorithm and find min E(T)\n",
        "%%R\n",
        "\n",
        "#start with original board\n",
        "ladder_start = c(36, 4, 51, 71, 80, 21, 9, 1, 28)\n",
        "chute_start = c(56, 64, 16, 93, 95, 98, 48, 49, 62, 87)\n",
        "Pgame = make_board(ladder_start, chute_start, plot = FALSE)\n",
        "\n",
        "mu = mean_time_to_absorption(Pgame)\n",
        "T_curr = mu[100,2]\n",
        "\n",
        "T_min = T_curr\n",
        "Pgame_min = Pgame\n",
        "\n",
        "\n",
        "#run simulation for number of steps and find min T\n",
        "sim_length = 50000\n",
        "for (i in 1:sim_length){\n",
        "\n",
        "    #propose new board\n",
        "    result <- propose_starting_locations(ladder_start, chute_start)\n",
        "    new_ladder_start <- result$new_ladder_start\n",
        "    new_chute_start <- result$new_chute_start\n",
        "\n",
        "    #make the board and find T\n",
        "    Pgame = make_board(new_ladder_start, new_chute_start, plot = FALSE)\n",
        "    mu = mean_time_to_absorption(Pgame)\n",
        "    T_prop = mu[100,2]\n",
        "\n",
        "    #test if it is a minimum\n",
        "    if (T_prop < T_min)\n",
        "    {\n",
        "        T_min = T_prop\n",
        "        ladder_min = new_ladder_start\n",
        "        chute_min = new_chute_start\n",
        "    }\n",
        "\n",
        "    #determine acceptance probability and get determination\n",
        "    a = min((1/T_prop)/(1/T_curr),1)\n",
        "    action = sample(c(\"reject\", \"accept\"), 1, prob = c(1 - a, a))\n",
        "\n",
        "    if (action == \"accept\"){\n",
        "      ladder_start = new_ladder_start\n",
        "      chute_start = new_chute_start\n",
        "      T_curr = T_prop\n",
        "    }\n",
        "\n",
        "}"
      ],
      "metadata": {
        "id": "yxIv7OqO9FLv"
      },
      "execution_count": 88,
      "outputs": []
    },
    {
      "cell_type": "markdown",
      "source": [
        "####Comparison"
      ],
      "metadata": {
        "id": "1cv3owItrW8t"
      }
    },
    {
      "cell_type": "markdown",
      "source": [
        "Repeat Problem 1 for your optimal board, and compare the distribution of $T$ for your board to the one from the actual game. Write a few sentences summarizing your results."
      ],
      "metadata": {
        "id": "5c4z6sICugVx"
      }
    },
    {
      "cell_type": "code",
      "source": [
        "%%R\n",
        "Pgame_min = make_board(ladder_min, chute_min, plot = TRUE)\n"
      ],
      "metadata": {
        "id": "UwIjqXrEqF99",
        "outputId": "cca6184f-f77f-43ff-ed71-0761fce46466",
        "colab": {
          "base_uri": "https://localhost:8080/",
          "height": 497
        }
      },
      "execution_count": 89,
      "outputs": [
        {
          "output_type": "display_data",
          "data": {
            "image/png": "[encoded data removed]"
          },
          "metadata": {}
        }
      ]
    },
    {
      "cell_type": "code",
      "source": [
        "%%R\n",
        "# Check that all row sums are 1\n",
        "Invalid_rows_n = which(!rowSums(Pgame_min) == 1)\n",
        "print(Invalid_rows_n)"
      ],
      "metadata": {
        "id": "znyb63hzuecp",
        "colab": {
          "base_uri": "https://localhost:8080/"
        },
        "outputId": "e9b816b8-3832-4feb-f165-dfa04ecfe115"
      },
      "execution_count": 90,
      "outputs": [
        {
          "output_type": "stream",
          "name": "stdout",
          "text": [
            "integer(0)\n"
          ]
        }
      ]
    },
    {
      "cell_type": "code",
      "source": [
        "%%R\n",
        "print(Pgame_min[101,])\n",
        "print(ladder_min)\n",
        "print(ladder_min+ladder_length)\n",
        "print(chute_min)\n",
        "print(chute_min-chute_length)"
      ],
      "metadata": {
        "id": "wJ26ay5UqaW9",
        "outputId": "7006051c-9e06-42dd-fe70-07ccfc9ca8f7",
        "colab": {
          "base_uri": "https://localhost:8080/"
        }
      },
      "execution_count": 91,
      "outputs": [
        {
          "output_type": "stream",
          "name": "stdout",
          "text": [
            "  [1] 0.1666667 0.1666667 0.0000000 0.1666667 0.0000000 0.0000000 0.0000000\n",
            "  [8] 0.0000000 0.0000000 0.0000000 0.0000000 0.0000000 0.0000000 0.0000000\n",
            " [15] 0.0000000 0.0000000 0.0000000 0.0000000 0.0000000 0.0000000 0.0000000\n",
            " [22] 0.0000000 0.0000000 0.1666667 0.1666667 0.1666667 0.0000000 0.0000000\n",
            " [29] 0.0000000 0.0000000 0.0000000 0.0000000 0.0000000 0.0000000 0.0000000\n",
            " [36] 0.0000000 0.0000000 0.0000000 0.0000000 0.0000000 0.0000000 0.0000000\n",
            " [43] 0.0000000 0.0000000 0.0000000 0.0000000 0.0000000 0.0000000 0.0000000\n",
            " [50] 0.0000000 0.0000000 0.0000000 0.0000000 0.0000000 0.0000000 0.0000000\n",
            " [57] 0.0000000 0.0000000 0.0000000 0.0000000 0.0000000 0.0000000 0.0000000\n",
            " [64] 0.0000000 0.0000000 0.0000000 0.0000000 0.0000000 0.0000000 0.0000000\n",
            " [71] 0.0000000 0.0000000 0.0000000 0.0000000 0.0000000 0.0000000 0.0000000\n",
            " [78] 0.0000000 0.0000000 0.0000000 0.0000000 0.0000000 0.0000000 0.0000000\n",
            " [85] 0.0000000 0.0000000 0.0000000 0.0000000 0.0000000 0.0000000 0.0000000\n",
            " [92] 0.0000000 0.0000000 0.0000000 0.0000000 0.0000000 0.0000000 0.0000000\n",
            " [99] 0.0000000 0.0000000 0.0000000\n",
            "[1] 35 48 75  5  6  3 73 45 30\n",
            "[1] 43 58 91 25 26 24 95 82 86\n",
            " [1] 77 46 22 79 47 80 37 52 56 81\n",
            " [1] 74 42 12 59 27 60 15 14 13 18\n"
          ]
        }
      ]
    },
    {
      "cell_type": "markdown",
      "source": [
        "#####a."
      ],
      "metadata": {
        "id": "3X2T3qesrqM0"
      }
    },
    {
      "cell_type": "markdown",
      "source": [
        "Solve for $E(T)$ without first finding the distribution of $T$."
      ],
      "metadata": {
        "id": "XEZgkcAjqvIW"
      }
    },
    {
      "cell_type": "code",
      "source": [
        "%%R\n",
        "mu = mean_time_to_absorption(Pgame_min)\n",
        "T = mu[100,]\n",
        "print(T)"
      ],
      "metadata": {
        "id": "ZFc-_KbEqbir",
        "outputId": "7ba7e577-de27-4231-910d-8b128f1315ba",
        "colab": {
          "base_uri": "https://localhost:8080/"
        }
      },
      "execution_count": 92,
      "outputs": [
        {
          "output_type": "stream",
          "name": "stdout",
          "text": [
            "    start_state mean_time_to_absorption\n",
            "100         101                17.82662\n"
          ]
        }
      ]
    },
    {
      "cell_type": "markdown",
      "source": [
        "#####b."
      ],
      "metadata": {
        "id": "u8zi1QKgruNT"
      }
    },
    {
      "cell_type": "markdown",
      "source": [
        "Solve for the exact distribution of $T$ and plot it.  Find $E(T)$ based on this distribution."
      ],
      "metadata": {
        "id": "C8gj7Bvcr2YD"
      }
    },
    {
      "cell_type": "code",
      "source": [
        "%%R\n",
        "T_pmf = pmf_of_time_to_absorption(Pgame_min, start_state = 101)\n",
        "\n",
        "T_pmf |> head(100)"
      ],
      "metadata": {
        "id": "sY_LavA6sO1m",
        "outputId": "25a0b96d-516d-4392-960e-9748b31c8a7d",
        "colab": {
          "base_uri": "https://localhost:8080/"
        }
      },
      "execution_count": 93,
      "outputs": [
        {
          "output_type": "stream",
          "name": "stdout",
          "text": [
            "      n prob_absorb_at_time_n\n",
            "1     1          0.000000e+00\n",
            "2     2          0.000000e+00\n",
            "3     3          0.000000e+00\n",
            "4     4          0.000000e+00\n",
            "5     5          1.350309e-02\n",
            "6     6          4.786094e-02\n",
            "7     7          6.796196e-02\n",
            "8     8          5.688979e-02\n",
            "9     9          3.679045e-02\n",
            "10   10          3.064746e-02\n",
            "11   11          4.050294e-02\n",
            "12   12          5.327497e-02\n",
            "13   13          5.738740e-02\n",
            "14   14          5.256397e-02\n",
            "15   15          4.536224e-02\n",
            "16   16          4.062900e-02\n",
            "17   17          3.869361e-02\n",
            "18   18          3.760268e-02\n",
            "19   19          3.583078e-02\n",
            "20   20          3.316745e-02\n",
            "21   21          3.015451e-02\n",
            "22   22          2.730811e-02\n",
            "23   23          2.480888e-02\n",
            "24   24          2.259798e-02\n",
            "25   25          2.056729e-02\n",
            "26   26          1.866017e-02\n",
            "27   27          1.687394e-02\n",
            "28   28          1.522507e-02\n",
            "29   29          1.372306e-02\n",
            "30   30          1.236404e-02\n",
            "31   31          1.113558e-02\n",
            "32   32          1.002349e-02\n",
            "33   33          9.015815e-03\n",
            "34   34          8.103581e-03\n",
            "35   35          7.279658e-03\n",
            "36   36          6.537315e-03\n",
            "37   37          5.869511e-03\n",
            "38   38          5.269037e-03\n",
            "39   39          4.729053e-03\n",
            "40   40          4.243470e-03\n",
            "41   41          3.806993e-03\n",
            "42   42          3.414916e-03\n",
            "43   43          3.062927e-03\n",
            "44   44          2.747026e-03\n",
            "45   45          2.463535e-03\n",
            "46   46          2.209140e-03\n",
            "47   47          1.980880e-03\n",
            "48   48          1.776107e-03\n",
            "49   49          1.592438e-03\n",
            "50   50          1.427719e-03\n",
            "51   51          1.280005e-03\n",
            "52   52          1.147544e-03\n",
            "53   53          1.028766e-03\n",
            "54   54          9.222644e-04\n",
            "55   55          8.267748e-04\n",
            "56   56          7.411629e-04\n",
            "57   57          6.644091e-04\n",
            "58   58          5.955982e-04\n",
            "59   59          5.339093e-04\n",
            "60   60          4.786063e-04\n",
            "61   61          4.290291e-04\n",
            "62   62          3.845855e-04\n",
            "63   63          3.447445e-04\n",
            "64   64          3.090297e-04\n",
            "65   65          2.770140e-04\n",
            "66   66          2.483145e-04\n",
            "67   67          2.225879e-04\n",
            "68   68          1.995263e-04\n",
            "69   69          1.788537e-04\n",
            "70   70          1.603228e-04\n",
            "71   71          1.437117e-04\n",
            "72   72          1.288215e-04\n",
            "73   73          1.154740e-04\n",
            "74   74          1.035095e-04\n",
            "75   75          9.278451e-05\n",
            "76   76          8.317076e-05\n",
            "77   77          7.455310e-05\n",
            "78   78          6.682832e-05\n",
            "79   79          5.990392e-05\n",
            "80   80          5.369697e-05\n",
            "81   81          4.813315e-05\n",
            "82   82          4.314582e-05\n",
            "83   83          3.867524e-05\n",
            "84   84          3.466788e-05\n",
            "85   85          3.107574e-05\n",
            "86   86          2.785580e-05\n",
            "87   87          2.496950e-05\n",
            "88   88          2.238226e-05\n",
            "89   89          2.006310e-05\n",
            "90   90          1.798424e-05\n",
            "91   91          1.612078e-05\n",
            "92   92          1.445041e-05\n",
            "93   93          1.295311e-05\n",
            "94   94          1.161096e-05\n",
            "95   95          1.040788e-05\n",
            "96   96          9.329451e-06\n",
            "97   97          8.362768e-06\n",
            "98   98          7.496249e-06\n",
            "99   99          6.719516e-06\n",
            "100 100          6.023265e-06\n"
          ]
        }
      ]
    },
    {
      "cell_type": "code",
      "source": [
        "%%R\n",
        "library(tidyverse)\n",
        "\n",
        "ggplot(T_pmf |>\n",
        "         filter(prob_absorb_at_time_n > 0),\n",
        "       aes(x = n,\n",
        "           y = prob_absorb_at_time_n)) +\n",
        "  geom_line(linewidth = 1)"
      ],
      "metadata": {
        "id": "hHh4u1Q5sPuv",
        "outputId": "f845b6a1-b37c-43c2-a14a-08d397265d50",
        "colab": {
          "base_uri": "https://localhost:8080/",
          "height": 497
        }
      },
      "execution_count": 94,
      "outputs": [
        {
          "output_type": "display_data",
          "data": {
            "image/png": "[encoded data removed]"
          },
          "metadata": {}
        }
      ]
    },
    {
      "cell_type": "code",
      "source": [
        "%%R\n",
        "sum(T_pmf[, 1] * T_pmf[, 2])"
      ],
      "metadata": {
        "id": "wKzK7aKrsWmE",
        "outputId": "9257a698-118d-4301-a3b8-90fc5f38f5a6",
        "colab": {
          "base_uri": "https://localhost:8080/"
        }
      },
      "execution_count": 95,
      "outputs": [
        {
          "output_type": "stream",
          "name": "stdout",
          "text": [
            "[1] 17.82649\n"
          ]
        }
      ]
    },
    {
      "cell_type": "markdown",
      "source": [
        "#####c."
      ],
      "metadata": {
        "id": "8eUT59tlrvo9"
      }
    },
    {
      "cell_type": "markdown",
      "source": [
        "Write code to run the chain and simulate the distribution of $T$. Plot the simulated distribution, use it to estimate the expected value."
      ],
      "metadata": {
        "id": "QB7xm3eAr3TV"
      }
    },
    {
      "cell_type": "code",
      "source": [
        "%%R\n",
        "pi0 <- rep(0, 101)\n",
        "pi0[101] <- 1\n",
        "\n",
        "absorbing_states = which(diag(Pgame_min) == 1)\n",
        "\n",
        "n_rep = 10000\n",
        "time_to_absorption = rep(NA, n_rep)\n",
        "\n",
        "for (i in 1:n_rep) {\n",
        "  x = simulate_single_DTMC_path(pi0, Pgame, last_time = 200)\n",
        "  time_to_absorption[i] = min(which(x %in% absorbing_states))\n",
        "}\n",
        "\n",
        "hist(time_to_absorption)"
      ],
      "metadata": {
        "id": "8yhIj26Hqfhg",
        "outputId": "0e2b9358-ef97-42c1-9ec6-91be30c3e3f0",
        "colab": {
          "base_uri": "https://localhost:8080/",
          "height": 497
        }
      },
      "execution_count": 96,
      "outputs": [
        {
          "output_type": "display_data",
          "data": {
            "image/png": "[encoded data removed]"
          },
          "metadata": {}
        }
      ]
    },
    {
      "cell_type": "code",
      "source": [
        "%%R\n",
        "summary(time_to_absorption)"
      ],
      "metadata": {
        "id": "9IF459zxsktp",
        "outputId": "610c8ebd-62ae-43a9-a8ae-5cad12c18768",
        "colab": {
          "base_uri": "https://localhost:8080/"
        }
      },
      "execution_count": 97,
      "outputs": [
        {
          "output_type": "stream",
          "name": "stdout",
          "text": [
            "   Min. 1st Qu.  Median    Mean 3rd Qu.    Max. \n",
            "      6      15      22     Inf      32     Inf \n"
          ]
        }
      ]
    },
    {
      "cell_type": "code",
      "source": [],
      "metadata": {
        "id": "odGEWLaPyrjs"
      },
      "execution_count": 97,
      "outputs": []
    }
  ]
}