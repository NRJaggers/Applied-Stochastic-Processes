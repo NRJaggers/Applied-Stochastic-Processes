{
  "nbformat": 4,
  "nbformat_minor": 0,
  "metadata": {
    "colab": {
      "provenance": [],
      "include_colab_link": true
    },
    "kernelspec": {
      "name": "python3",
      "display_name": "Python 3"
    },
    "language_info": {
      "name": "python"
    }
  },
  "cells": [
    {
      "cell_type": "markdown",
      "metadata": {
        "id": "view-in-github",
        "colab_type": "text"
      },
      "source": [
        "<a href=\"https://colab.research.google.com/github/NRJaggers/Applied-Stochastic-Processes/blob/main/Applications/4-Chutes_and_Ladders_and_MCMC/Chutes_and_Ladders_and_MCMC.ipynb\" target=\"_parent\"><img src=\"https://colab.research.google.com/assets/colab-badge.svg\" alt=\"Open In Colab\"/></a>"
      ]
    },
    {
      "cell_type": "markdown",
      "source": [
        "#Chutes and Ladders and MCMC"
      ],
      "metadata": {
        "id": "lwN5bYfDW66u"
      }
    },
    {
      "cell_type": "markdown",
      "source": [
        "---\n",
        "\n",
        "## Prompt"
      ],
      "metadata": {
        "id": "Bh1go0uHXDqq"
      }
    },
    {
      "cell_type": "markdown",
      "source": [
        "Original Prompt can be found [here](https://bookdown.org/kevin_davisross/applied-stochastic-processes/app-mcmc.html). A copy of the prompt along with the completed exercise can be found under [/Applications](https://github.com/NRJaggers/Applied-Stochastic-Processes/tree/main/Applications)."
      ],
      "metadata": {
        "id": "DJpcnN9AXHGQ"
      }
    },
    {
      "cell_type": "markdown",
      "source": [
        "##Summary"
      ],
      "metadata": {
        "id": "06QhnUojnxD4"
      }
    },
    {
      "cell_type": "markdown",
      "source": [
        "This investigation concerns the boardgame Chutes and Ladders. Detailed instructions and some code have been provided in original prompt; For detailed explaination, please be sure to read the full prompt carefully."
      ],
      "metadata": {
        "id": "WXKnlgvjn0XI"
      }
    },
    {
      "cell_type": "markdown",
      "source": [
        "The board has 100 spaces, labeled 1, 2, …, 100. A player starts off the board. A player generally moves on the board according to the roll of a fair six-sided die. For example, if the player is currently on space 13 and they roll a 5, then they move to space 18. However, the board also has 9 ladders which help the player climb the board and 10 chutes (slides) which knock the player back down. The game ends when the player makes it to space 100. (We’ll assume only one player.)"
      ],
      "metadata": {
        "id": "xhrcgdihoYcF"
      }
    },
    {
      "cell_type": "markdown",
      "source": [
        "###Problem 1"
      ],
      "metadata": {
        "id": "wzMWOgUqu0SW"
      }
    },
    {
      "cell_type": "markdown",
      "source": [
        "We are interested in $T$, the number of moves (rolls) needed until spot 100 is reached (the player doesn’t need to land on 100 exactly). The position of the player after the nth move can be modeled as a Markov chain with transition matrix `Pgame` defined in the code from the prompt."
      ],
      "metadata": {
        "id": "MkO-NDkmu46C"
      }
    },
    {
      "cell_type": "markdown",
      "source": [
        "###Problem 2"
      ],
      "metadata": {
        "id": "_IPiEeFPu5Pr"
      }
    },
    {
      "cell_type": "markdown",
      "source": [
        "Suppose you were designing a new Chutes and Ladders board. How does the placement of the chutes and ladders on the board affect the expected value of $T$? In particular, is there a way to place the chutes/ladders to minimize the expected number of moves? In this problem, you’ll write an MCMC algorithm to find the board which minimizes $E(T)$."
      ],
      "metadata": {
        "id": "cXWwfCmOu83r"
      }
    },
    {
      "cell_type": "markdown",
      "source": [
        "---\n",
        "\n",
        "## Application"
      ],
      "metadata": {
        "id": "GXUWHhYNXK3F"
      }
    },
    {
      "cell_type": "markdown",
      "source": [
        "###1."
      ],
      "metadata": {
        "id": "NnOccgJbXbpb"
      }
    },
    {
      "cell_type": "markdown",
      "source": [
        "First, create the Pgame matrix to use."
      ],
      "metadata": {
        "id": "SC4V550gqotd"
      }
    },
    {
      "cell_type": "code",
      "source": [
        "#use this to allow for running R within Python\n",
        "%load_ext rpy2.ipython"
      ],
      "metadata": {
        "id": "g10WuHtz6ocN"
      },
      "execution_count": 1,
      "outputs": []
    },
    {
      "cell_type": "code",
      "source": [
        "%%R\n",
        "N = 100 # number of spaces on board\n",
        "\n",
        "s = N + 1  # number of states\n",
        "\n",
        "k = 6  # number of sides on die\n",
        "\n",
        "# P0 is the transition matrix if there were no chutes/ladders\n",
        "P0 = matrix(rep(0, s * s), nrow = s)\n",
        "\n",
        "for (i in 1:(N - 1)){\n",
        "  for (j in min(i + 1, N):min(i + k, N)){\n",
        "    if (j == N){\n",
        "      P0[i, j] = (i - N + k + 1) / k\n",
        "      # don't need to land on 100 exactly\n",
        "    } else {\n",
        "      P0[i, j] = 1 / k\n",
        "    }\n",
        "  }\n",
        "}\n",
        "\n",
        "P0[N, N] = 1  # absorbing state\n",
        "\n",
        "P0[s, 1:k] = 1 / k  # initial state"
      ],
      "metadata": {
        "id": "voedXV9S6sCw"
      },
      "execution_count": 2,
      "outputs": []
    },
    {
      "cell_type": "code",
      "source": [
        "%%R\n",
        "# The make_board function takes as an input the starting spaces\n",
        "# for chutes and ladders and outputs the transition matrix\n",
        "# add the chutes/ladders by swapping appropriate columns\n",
        "# with an annoying little detail for the two short chutes\n",
        "# e.g. you can get from 50 to 53 by rolling a 3\n",
        "# or by rolling a 6 and then sliding down the chute from 56 to 53\n",
        "\n",
        "make_board <- function(ladder_start, chute_start, plot = FALSE){\n",
        "  ladder_length = c(8, 10, 16, 20, 20, 21, 22, 37, 56)\n",
        "  ladder_end = ladder_start + ladder_length\n",
        "  chute_length = c(3, 4, 10, 20, 20, 20, 22, 38, 43, 63)\n",
        "  chute_end = chute_start - chute_length\n",
        "  P = P0\n",
        "  for (j in 1:length(ladder_start)){\n",
        "    i = which(P[, ladder_start[j]] > 0)\n",
        "    P[i, ladder_end[j]] = P[i, ladder_start[j]]\n",
        "    P[i, ladder_start[j]] = 0\n",
        "    P[ladder_start[j], ] = rep(0, s)\n",
        "    P[ladder_start[j], ladder_end[j]]=1\n",
        "  }\n",
        "  for (j in 1:length(chute_start)){\n",
        "    i = which(P[, chute_start[j]] > 0)\n",
        "    i1 = i[which(i <= chute_end[j])]\n",
        "    P[i1, chute_end[j]] = P[i1, chute_start[j]] +\n",
        "      P0[i1, chute_end[j]]\n",
        "    P[i1, chute_start[j]] = 0\n",
        "    i2 = i[which(i > chute_end[j])]\n",
        "    P[i2, chute_end[j]] = P[i2, chute_start[j]]\n",
        "    P[i2, chute_start[j]] = 0\n",
        "    P[chute_start[j], ] = rep(0, s)\n",
        "    P[chute_start[j], chute_end[j]] = 1\n",
        "  }\n",
        "  if (plot == TRUE){\n",
        "    image(1:s, 1:s, t(P[c(s, 1:(s - 1)), c(s, 1:(s - 1))]),\n",
        "          xlab = \"\", ylab = \"\",\n",
        "          zlim = c(1 / k, 1), xaxt = \"n\", yaxt = \"n\",\n",
        "          col = rainbow(k))\n",
        "    axis(1, at = 1:s, labels = 0:(s - 1), cex.axis=0.4)\n",
        "    axis(2, at = 1:s, labels = 0:(s - 1), cex.axis=0.4)\n",
        "    grid(s, s)\n",
        "  }\n",
        "  return(P)\n",
        "}"
      ],
      "metadata": {
        "id": "O63AFgUG69FP"
      },
      "execution_count": 3,
      "outputs": []
    },
    {
      "cell_type": "code",
      "source": [
        "#run in R environment but export output variable to python\n",
        "%%R -o Pgame\n",
        "# generate the transition matrix for the actual game\n",
        "Pgame = make_board(\n",
        "  ladder_start = c(36, 4, 51, 71, 80, 21, 9, 1, 28),\n",
        "  chute_start = c(56, 64, 16, 93, 95, 98, 48, 49, 62, 87),\n",
        "  plot = TRUE)"
      ],
      "metadata": {
        "colab": {
          "base_uri": "https://localhost:8080/",
          "height": 497
        },
        "id": "GwaE8A-N7Evh",
        "outputId": "00e75b69-5aa6-4b9a-d5ae-c327fea31413"
      },
      "execution_count": 10,
      "outputs": [
        {
          "output_type": "display_data",
          "data": {
            "image/png": "[encoded data removed]"
          },
          "metadata": {}
        }
      ]
    },
    {
      "cell_type": "code",
      "source": [
        "%%R\n",
        "# Check that all row sums are 1\n",
        "which(!rowSums(Pgame) == 1)"
      ],
      "metadata": {
        "colab": {
          "base_uri": "https://localhost:8080/"
        },
        "id": "aEM77II87PwT",
        "outputId": "efe7f87f-4123-472a-e1de-85e68a0a36b3"
      },
      "execution_count": 7,
      "outputs": [
        {
          "output_type": "stream",
          "name": "stdout",
          "text": [
            "integer(0)\n"
          ]
        }
      ]
    },
    {
      "cell_type": "markdown",
      "source": [
        "####a."
      ],
      "metadata": {
        "id": "48h1Km4oqfDN"
      }
    },
    {
      "cell_type": "markdown",
      "source": [
        "Solve for $E(T)$ without first finding the distribution of $T$."
      ],
      "metadata": {
        "id": "RwlyACNiqqVu"
      }
    },
    {
      "cell_type": "code",
      "source": [
        "%%R\n",
        "mean_time_to_absorption <- function(transition_matrix, state_names = NULL) {\n",
        "\n",
        "  absorbing_states = which(diag(transition_matrix) == 1)\n",
        "\n",
        "  if (length(absorbing_states) == 0) stop(\"There are no absorbing states.\")\n",
        "\n",
        "  n_states = nrow(transition_matrix)\n",
        "\n",
        "  transient_states = setdiff(1:n_states, absorbing_states)\n",
        "\n",
        "  Q = transition_matrix[transient_states, transient_states]\n",
        "\n",
        "  mtta = solve(diag(nrow(Q)) - Q, rep(1, nrow(Q)))\n",
        "\n",
        "  if (is.null(state_names)) state_names = 1:n_states\n",
        "\n",
        "  data.frame(start_state = state_names[transient_states],\n",
        "             mean_time_to_absorption = mtta)\n",
        "}"
      ],
      "metadata": {
        "id": "fFpDGxte-Ftw"
      },
      "execution_count": 11,
      "outputs": []
    },
    {
      "cell_type": "code",
      "source": [
        "%%R\n",
        "mu = mean_time_to_absorption(Pgame)\n",
        "mu[100,]"
      ],
      "metadata": {
        "id": "JFC-6DEj-lX_",
        "outputId": "16f63fb4-f7dc-4129-d022-90707f7f2ca1",
        "colab": {
          "base_uri": "https://localhost:8080/"
        }
      },
      "execution_count": 20,
      "outputs": [
        {
          "output_type": "stream",
          "name": "stdout",
          "text": [
            "    start_state mean_time_to_absorption\n",
            "100         101                36.19307\n"
          ]
        }
      ]
    },
    {
      "cell_type": "markdown",
      "source": [
        "Above we can see the mean absorbtion time, $E(T)$, from off the board to spot 100."
      ],
      "metadata": {
        "id": "nhI3YFh6A6L6"
      }
    },
    {
      "cell_type": "markdown",
      "source": [
        "####b."
      ],
      "metadata": {
        "id": "ZE7VlsNUqrw6"
      }
    },
    {
      "cell_type": "markdown",
      "source": [
        "Solve for the exact distribution of $T$ and plot it. (Technically, $T$ can take infinitely many values, but feel free to cut off when the probabilities become sufficiently small.) Find $E(T)$ based on this distribution. Compare the expected value to the previous part."
      ],
      "metadata": {
        "id": "n4JuG_REqxRD"
      }
    },
    {
      "cell_type": "code",
      "source": [
        "%%R\n",
        "install.packages('expm')\n",
        "install.packages('kableExtra')\n",
        "install.packages('tidyverse')"
      ],
      "metadata": {
        "id": "OoTshedZE4LV",
        "outputId": "f6b92511-fdf1-463c-ede0-2ea57c7450ce",
        "colab": {
          "base_uri": "https://localhost:8080/"
        }
      },
      "execution_count": 43,
      "outputs": [
        {
          "output_type": "stream",
          "name": "stderr",
          "text": [
            "WARNING:rpy2.rinterface_lib.callbacks:R[write to console]: Installing package into ‘/usr/local/lib/R/site-library’\n",
            "(as ‘lib’ is unspecified)\n",
            "\n",
            "WARNING:rpy2.rinterface_lib.callbacks:R[write to console]: trying URL 'https://cran.rstudio.com/src/contrib/expm_0.999-9.tar.gz'\n",
            "\n",
            "WARNING:rpy2.rinterface_lib.callbacks:R[write to console]: Content type 'application/x-gzip'\n",
            "WARNING:rpy2.rinterface_lib.callbacks:R[write to console]:  length 137765 bytes (134 KB)\n",
            "\n",
            "WARNING:rpy2.rinterface_lib.callbacks:R[write to console]: =\n",
            "WARNING:rpy2.rinterface_lib.callbacks:R[write to console]: =\n",
            "WARNING:rpy2.rinterface_lib.callbacks:R[write to console]: =\n",
            "WARNING:rpy2.rinterface_lib.callbacks:R[write to console]: =\n",
            "WARNING:rpy2.rinterface_lib.callbacks:R[write to console]: =\n",
            "WARNING:rpy2.rinterface_lib.callbacks:R[write to console]: =\n",
            "WARNING:rpy2.rinterface_lib.callbacks:R[write to console]: =\n",
            "WARNING:rpy2.rinterface_lib.callbacks:R[write to console]: =\n",
            "WARNING:rpy2.rinterface_lib.callbacks:R[write to console]: =\n",
            "WARNING:rpy2.rinterface_lib.callbacks:R[write to console]: =\n",
            "WARNING:rpy2.rinterface_lib.callbacks:R[write to console]: =\n",
            "WARNING:rpy2.rinterface_lib.callbacks:R[write to console]: =\n",
            "WARNING:rpy2.rinterface_lib.callbacks:R[write to console]: =\n",
            "WARNING:rpy2.rinterface_lib.callbacks:R[write to console]: =\n",
            "WARNING:rpy2.rinterface_lib.callbacks:R[write to console]: =\n",
            "WARNING:rpy2.rinterface_lib.callbacks:R[write to console]: =\n",
            "WARNING:rpy2.rinterface_lib.callbacks:R[write to console]: =\n",
            "WARNING:rpy2.rinterface_lib.callbacks:R[write to console]: =\n",
            "WARNING:rpy2.rinterface_lib.callbacks:R[write to console]: =\n",
            "WARNING:rpy2.rinterface_lib.callbacks:R[write to console]: =\n",
            "WARNING:rpy2.rinterface_lib.callbacks:R[write to console]: =\n",
            "WARNING:rpy2.rinterface_lib.callbacks:R[write to console]: =\n",
            "WARNING:rpy2.rinterface_lib.callbacks:R[write to console]: =\n",
            "WARNING:rpy2.rinterface_lib.callbacks:R[write to console]: =\n",
            "WARNING:rpy2.rinterface_lib.callbacks:R[write to console]: =\n",
            "WARNING:rpy2.rinterface_lib.callbacks:R[write to console]: =\n",
            "WARNING:rpy2.rinterface_lib.callbacks:R[write to console]: =\n",
            "WARNING:rpy2.rinterface_lib.callbacks:R[write to console]: =\n",
            "WARNING:rpy2.rinterface_lib.callbacks:R[write to console]: =\n",
            "WARNING:rpy2.rinterface_lib.callbacks:R[write to console]: =\n",
            "WARNING:rpy2.rinterface_lib.callbacks:R[write to console]: =\n",
            "WARNING:rpy2.rinterface_lib.callbacks:R[write to console]: =\n",
            "WARNING:rpy2.rinterface_lib.callbacks:R[write to console]: =\n",
            "WARNING:rpy2.rinterface_lib.callbacks:R[write to console]: =\n",
            "WARNING:rpy2.rinterface_lib.callbacks:R[write to console]: =\n",
            "WARNING:rpy2.rinterface_lib.callbacks:R[write to console]: =\n",
            "WARNING:rpy2.rinterface_lib.callbacks:R[write to console]: =\n",
            "WARNING:rpy2.rinterface_lib.callbacks:R[write to console]: =\n",
            "WARNING:rpy2.rinterface_lib.callbacks:R[write to console]: =\n",
            "WARNING:rpy2.rinterface_lib.callbacks:R[write to console]: =\n",
            "WARNING:rpy2.rinterface_lib.callbacks:R[write to console]: =\n",
            "WARNING:rpy2.rinterface_lib.callbacks:R[write to console]: =\n",
            "WARNING:rpy2.rinterface_lib.callbacks:R[write to console]: =\n",
            "WARNING:rpy2.rinterface_lib.callbacks:R[write to console]: =\n",
            "WARNING:rpy2.rinterface_lib.callbacks:R[write to console]: =\n",
            "WARNING:rpy2.rinterface_lib.callbacks:R[write to console]: =\n",
            "WARNING:rpy2.rinterface_lib.callbacks:R[write to console]: =\n",
            "WARNING:rpy2.rinterface_lib.callbacks:R[write to console]: =\n",
            "WARNING:rpy2.rinterface_lib.callbacks:R[write to console]: =\n",
            "WARNING:rpy2.rinterface_lib.callbacks:R[write to console]: =\n",
            "WARNING:rpy2.rinterface_lib.callbacks:R[write to console]: \n",
            "\n",
            "WARNING:rpy2.rinterface_lib.callbacks:R[write to console]: downloaded 134 KB\n",
            "\n",
            "\n",
            "WARNING:rpy2.rinterface_lib.callbacks:R[write to console]: \n",
            "\n",
            "WARNING:rpy2.rinterface_lib.callbacks:R[write to console]: \n",
            "WARNING:rpy2.rinterface_lib.callbacks:R[write to console]: The downloaded source packages are in\n",
            "\t‘/tmp/RtmpXixFKC/downloaded_packages’\n",
            "WARNING:rpy2.rinterface_lib.callbacks:R[write to console]: \n",
            "WARNING:rpy2.rinterface_lib.callbacks:R[write to console]: \n",
            "\n",
            "WARNING:rpy2.rinterface_lib.callbacks:R[write to console]: Installing package into ‘/usr/local/lib/R/site-library’\n",
            "(as ‘lib’ is unspecified)\n",
            "\n",
            "WARNING:rpy2.rinterface_lib.callbacks:R[write to console]: trying URL 'https://cran.rstudio.com/src/contrib/kableExtra_1.4.0.tar.gz'\n",
            "\n",
            "WARNING:rpy2.rinterface_lib.callbacks:R[write to console]: Content type 'application/x-gzip'\n",
            "WARNING:rpy2.rinterface_lib.callbacks:R[write to console]:  length 1824636 bytes (1.7 MB)\n",
            "\n",
            "WARNING:rpy2.rinterface_lib.callbacks:R[write to console]: =\n",
            "WARNING:rpy2.rinterface_lib.callbacks:R[write to console]: =\n",
            "WARNING:rpy2.rinterface_lib.callbacks:R[write to console]: =\n",
            "WARNING:rpy2.rinterface_lib.callbacks:R[write to console]: =\n",
            "WARNING:rpy2.rinterface_lib.callbacks:R[write to console]: =\n",
            "WARNING:rpy2.rinterface_lib.callbacks:R[write to console]: =\n",
            "WARNING:rpy2.rinterface_lib.callbacks:R[write to console]: =\n",
            "WARNING:rpy2.rinterface_lib.callbacks:R[write to console]: =\n",
            "WARNING:rpy2.rinterface_lib.callbacks:R[write to console]: =\n",
            "WARNING:rpy2.rinterface_lib.callbacks:R[write to console]: =\n",
            "WARNING:rpy2.rinterface_lib.callbacks:R[write to console]: =\n",
            "WARNING:rpy2.rinterface_lib.callbacks:R[write to console]: =\n",
            "WARNING:rpy2.rinterface_lib.callbacks:R[write to console]: =\n",
            "WARNING:rpy2.rinterface_lib.callbacks:R[write to console]: =\n",
            "WARNING:rpy2.rinterface_lib.callbacks:R[write to console]: =\n",
            "WARNING:rpy2.rinterface_lib.callbacks:R[write to console]: =\n",
            "WARNING:rpy2.rinterface_lib.callbacks:R[write to console]: =\n",
            "WARNING:rpy2.rinterface_lib.callbacks:R[write to console]: =\n",
            "WARNING:rpy2.rinterface_lib.callbacks:R[write to console]: =\n",
            "WARNING:rpy2.rinterface_lib.callbacks:R[write to console]: =\n",
            "WARNING:rpy2.rinterface_lib.callbacks:R[write to console]: =\n",
            "WARNING:rpy2.rinterface_lib.callbacks:R[write to console]: =\n",
            "WARNING:rpy2.rinterface_lib.callbacks:R[write to console]: =\n",
            "WARNING:rpy2.rinterface_lib.callbacks:R[write to console]: =\n",
            "WARNING:rpy2.rinterface_lib.callbacks:R[write to console]: =\n",
            "WARNING:rpy2.rinterface_lib.callbacks:R[write to console]: =\n",
            "WARNING:rpy2.rinterface_lib.callbacks:R[write to console]: =\n",
            "WARNING:rpy2.rinterface_lib.callbacks:R[write to console]: =\n",
            "WARNING:rpy2.rinterface_lib.callbacks:R[write to console]: =\n",
            "WARNING:rpy2.rinterface_lib.callbacks:R[write to console]: =\n",
            "WARNING:rpy2.rinterface_lib.callbacks:R[write to console]: =\n",
            "WARNING:rpy2.rinterface_lib.callbacks:R[write to console]: =\n",
            "WARNING:rpy2.rinterface_lib.callbacks:R[write to console]: =\n",
            "WARNING:rpy2.rinterface_lib.callbacks:R[write to console]: =\n",
            "WARNING:rpy2.rinterface_lib.callbacks:R[write to console]: =\n",
            "WARNING:rpy2.rinterface_lib.callbacks:R[write to console]: =\n",
            "WARNING:rpy2.rinterface_lib.callbacks:R[write to console]: =\n",
            "WARNING:rpy2.rinterface_lib.callbacks:R[write to console]: =\n",
            "WARNING:rpy2.rinterface_lib.callbacks:R[write to console]: =\n",
            "WARNING:rpy2.rinterface_lib.callbacks:R[write to console]: =\n",
            "WARNING:rpy2.rinterface_lib.callbacks:R[write to console]: =\n",
            "WARNING:rpy2.rinterface_lib.callbacks:R[write to console]: =\n",
            "WARNING:rpy2.rinterface_lib.callbacks:R[write to console]: =\n",
            "WARNING:rpy2.rinterface_lib.callbacks:R[write to console]: =\n",
            "WARNING:rpy2.rinterface_lib.callbacks:R[write to console]: =\n",
            "WARNING:rpy2.rinterface_lib.callbacks:R[write to console]: =\n",
            "WARNING:rpy2.rinterface_lib.callbacks:R[write to console]: =\n",
            "WARNING:rpy2.rinterface_lib.callbacks:R[write to console]: =\n",
            "WARNING:rpy2.rinterface_lib.callbacks:R[write to console]: =\n",
            "WARNING:rpy2.rinterface_lib.callbacks:R[write to console]: =\n",
            "WARNING:rpy2.rinterface_lib.callbacks:R[write to console]: \n",
            "\n",
            "WARNING:rpy2.rinterface_lib.callbacks:R[write to console]: downloaded 1.7 MB\n",
            "\n",
            "\n",
            "WARNING:rpy2.rinterface_lib.callbacks:R[write to console]: \n",
            "\n",
            "WARNING:rpy2.rinterface_lib.callbacks:R[write to console]: \n",
            "WARNING:rpy2.rinterface_lib.callbacks:R[write to console]: The downloaded source packages are in\n",
            "\t‘/tmp/RtmpXixFKC/downloaded_packages’\n",
            "WARNING:rpy2.rinterface_lib.callbacks:R[write to console]: \n",
            "WARNING:rpy2.rinterface_lib.callbacks:R[write to console]: \n",
            "\n",
            "WARNING:rpy2.rinterface_lib.callbacks:R[write to console]: Installing package into ‘/usr/local/lib/R/site-library’\n",
            "(as ‘lib’ is unspecified)\n",
            "\n",
            "WARNING:rpy2.rinterface_lib.callbacks:R[write to console]: trying URL 'https://cran.rstudio.com/src/contrib/tidyverse_2.0.0.tar.gz'\n",
            "\n",
            "WARNING:rpy2.rinterface_lib.callbacks:R[write to console]: Content type 'application/x-gzip'\n",
            "WARNING:rpy2.rinterface_lib.callbacks:R[write to console]:  length 704618 bytes (688 KB)\n",
            "\n",
            "WARNING:rpy2.rinterface_lib.callbacks:R[write to console]: =\n",
            "WARNING:rpy2.rinterface_lib.callbacks:R[write to console]: =\n",
            "WARNING:rpy2.rinterface_lib.callbacks:R[write to console]: =\n",
            "WARNING:rpy2.rinterface_lib.callbacks:R[write to console]: =\n",
            "WARNING:rpy2.rinterface_lib.callbacks:R[write to console]: =\n",
            "WARNING:rpy2.rinterface_lib.callbacks:R[write to console]: =\n",
            "WARNING:rpy2.rinterface_lib.callbacks:R[write to console]: =\n",
            "WARNING:rpy2.rinterface_lib.callbacks:R[write to console]: =\n",
            "WARNING:rpy2.rinterface_lib.callbacks:R[write to console]: =\n",
            "WARNING:rpy2.rinterface_lib.callbacks:R[write to console]: =\n",
            "WARNING:rpy2.rinterface_lib.callbacks:R[write to console]: =\n",
            "WARNING:rpy2.rinterface_lib.callbacks:R[write to console]: =\n",
            "WARNING:rpy2.rinterface_lib.callbacks:R[write to console]: =\n",
            "WARNING:rpy2.rinterface_lib.callbacks:R[write to console]: =\n",
            "WARNING:rpy2.rinterface_lib.callbacks:R[write to console]: =\n",
            "WARNING:rpy2.rinterface_lib.callbacks:R[write to console]: =\n",
            "WARNING:rpy2.rinterface_lib.callbacks:R[write to console]: =\n",
            "WARNING:rpy2.rinterface_lib.callbacks:R[write to console]: =\n",
            "WARNING:rpy2.rinterface_lib.callbacks:R[write to console]: =\n",
            "WARNING:rpy2.rinterface_lib.callbacks:R[write to console]: =\n",
            "WARNING:rpy2.rinterface_lib.callbacks:R[write to console]: =\n",
            "WARNING:rpy2.rinterface_lib.callbacks:R[write to console]: =\n",
            "WARNING:rpy2.rinterface_lib.callbacks:R[write to console]: =\n",
            "WARNING:rpy2.rinterface_lib.callbacks:R[write to console]: =\n",
            "WARNING:rpy2.rinterface_lib.callbacks:R[write to console]: =\n",
            "WARNING:rpy2.rinterface_lib.callbacks:R[write to console]: =\n",
            "WARNING:rpy2.rinterface_lib.callbacks:R[write to console]: =\n",
            "WARNING:rpy2.rinterface_lib.callbacks:R[write to console]: =\n",
            "WARNING:rpy2.rinterface_lib.callbacks:R[write to console]: =\n",
            "WARNING:rpy2.rinterface_lib.callbacks:R[write to console]: =\n",
            "WARNING:rpy2.rinterface_lib.callbacks:R[write to console]: =\n",
            "WARNING:rpy2.rinterface_lib.callbacks:R[write to console]: =\n",
            "WARNING:rpy2.rinterface_lib.callbacks:R[write to console]: =\n",
            "WARNING:rpy2.rinterface_lib.callbacks:R[write to console]: =\n",
            "WARNING:rpy2.rinterface_lib.callbacks:R[write to console]: =\n",
            "WARNING:rpy2.rinterface_lib.callbacks:R[write to console]: =\n",
            "WARNING:rpy2.rinterface_lib.callbacks:R[write to console]: =\n",
            "WARNING:rpy2.rinterface_lib.callbacks:R[write to console]: =\n",
            "WARNING:rpy2.rinterface_lib.callbacks:R[write to console]: =\n",
            "WARNING:rpy2.rinterface_lib.callbacks:R[write to console]: =\n",
            "WARNING:rpy2.rinterface_lib.callbacks:R[write to console]: =\n",
            "WARNING:rpy2.rinterface_lib.callbacks:R[write to console]: =\n",
            "WARNING:rpy2.rinterface_lib.callbacks:R[write to console]: =\n",
            "WARNING:rpy2.rinterface_lib.callbacks:R[write to console]: =\n",
            "WARNING:rpy2.rinterface_lib.callbacks:R[write to console]: =\n",
            "WARNING:rpy2.rinterface_lib.callbacks:R[write to console]: =\n",
            "WARNING:rpy2.rinterface_lib.callbacks:R[write to console]: =\n",
            "WARNING:rpy2.rinterface_lib.callbacks:R[write to console]: =\n",
            "WARNING:rpy2.rinterface_lib.callbacks:R[write to console]: =\n",
            "WARNING:rpy2.rinterface_lib.callbacks:R[write to console]: =\n",
            "WARNING:rpy2.rinterface_lib.callbacks:R[write to console]: \n",
            "\n",
            "WARNING:rpy2.rinterface_lib.callbacks:R[write to console]: downloaded 688 KB\n",
            "\n",
            "\n",
            "WARNING:rpy2.rinterface_lib.callbacks:R[write to console]: \n",
            "\n",
            "WARNING:rpy2.rinterface_lib.callbacks:R[write to console]: \n",
            "WARNING:rpy2.rinterface_lib.callbacks:R[write to console]: The downloaded source packages are in\n",
            "\t‘/tmp/RtmpXixFKC/downloaded_packages’\n",
            "WARNING:rpy2.rinterface_lib.callbacks:R[write to console]: \n",
            "WARNING:rpy2.rinterface_lib.callbacks:R[write to console]: \n",
            "\n"
          ]
        }
      ]
    },
    {
      "cell_type": "code",
      "source": [
        "%%R\n",
        "library(expm)\n",
        "library(kableExtra)\n",
        "\n",
        "pmf_of_time_to_absorption <- function(transition_matrix, state_names = NULL, start_state) {\n",
        "\n",
        "  absorbing_states = which(diag(transition_matrix) == 1)\n",
        "\n",
        "  if (length(absorbing_states) == 0) stop(\"There are no absorbing states.\")\n",
        "\n",
        "  n_states = nrow(transition_matrix)\n",
        "\n",
        "  transient_states = setdiff(1:n_states, absorbing_states)\n",
        "\n",
        "  if (is.null(state_names)) state_names = 1:n_states\n",
        "\n",
        "  if (which(state_names == start_state) %in% absorbing_states) stop(\"Initial state is an absorbing state; absorption at time 0.\")\n",
        "\n",
        "  n = 1\n",
        "\n",
        "  TTA_cdf = sum(transition_matrix[which(state_names == start_state), absorbing_states])\n",
        "\n",
        "  while (max(TTA_cdf) < 0.999999) {\n",
        "\n",
        "    n = n + 1\n",
        "\n",
        "    TTA_cdf = c(TTA_cdf, sum((transition_matrix %^% n)[which(state_names == start_state), absorbing_states]))\n",
        "  }\n",
        "\n",
        "  TTA_pmf = TTA_cdf - c(0, TTA_cdf[-length(TTA_cdf)])\n",
        "\n",
        "  data.frame(n = 1:length(TTA_pmf),\n",
        "             prob_absorb_at_time_n = TTA_pmf)\n",
        "}"
      ],
      "metadata": {
        "id": "OiFcVk-4BygW"
      },
      "execution_count": 31,
      "outputs": []
    },
    {
      "cell_type": "code",
      "source": [
        "%%R\n",
        "T_pmf = pmf_of_time_to_absorption(Pgame, start_state = 101)\n",
        "\n",
        "T_pmf |> head(100)"
      ],
      "metadata": {
        "id": "fk9TxCJKChUt",
        "outputId": "c67814d4-c036-4bb4-e91a-0813f63e8b74",
        "colab": {
          "base_uri": "https://localhost:8080/"
        }
      },
      "execution_count": 48,
      "outputs": [
        {
          "output_type": "stream",
          "name": "stdout",
          "text": [
            "      n prob_absorb_at_time_n\n",
            "1     1           0.000000000\n",
            "2     2           0.000000000\n",
            "3     3           0.000000000\n",
            "4     4           0.000000000\n",
            "5     5           0.000000000\n",
            "6     6           0.000000000\n",
            "7     7           0.001971879\n",
            "8     8           0.006174626\n",
            "9     9           0.010176731\n",
            "10   10           0.013461394\n",
            "11   11           0.017124516\n",
            "12   12           0.020461774\n",
            "13   13           0.022348204\n",
            "14   14           0.023169028\n",
            "15   15           0.023949501\n",
            "16   16           0.025097382\n",
            "17   17           0.026294356\n",
            "18   18           0.027100283\n",
            "19   19           0.027427515\n",
            "20   20           0.027474270\n",
            "21   21           0.027397815\n",
            "22   22           0.027177541\n",
            "23   23           0.026731643\n",
            "24   24           0.026059559\n",
            "25   25           0.025252409\n",
            "26   26           0.024409494\n",
            "27   27           0.023574142\n",
            "28   28           0.022739104\n",
            "29   29           0.021888860\n",
            "30   30           0.021027647\n",
            "31   31           0.020176073\n",
            "32   32           0.019353038\n",
            "33   33           0.018564695\n",
            "34   34           0.017806949\n",
            "35   35           0.017074119\n",
            "36   36           0.016364529\n",
            "37   37           0.015680137\n",
            "38   38           0.015023213\n",
            "39   39           0.014394041\n",
            "40   40           0.013791061\n",
            "41   41           0.013212330\n",
            "42   42           0.012656620\n",
            "43   43           0.012123458\n",
            "44   44           0.011612542\n",
            "45   45           0.011123253\n",
            "46   46           0.010654628\n",
            "47   47           0.010205616\n",
            "48   48           0.009775312\n",
            "49   49           0.009362995\n",
            "50   50           0.008968023\n",
            "51   51           0.008589733\n",
            "52   52           0.008227417\n",
            "53   53           0.007880368\n",
            "54   54           0.007547920\n",
            "55   55           0.007229467\n",
            "56   56           0.006924440\n",
            "57   57           0.006632287\n",
            "58   58           0.006352465\n",
            "59   59           0.006084448\n",
            "60   60           0.005827733\n",
            "61   61           0.005581843\n",
            "62   62           0.005346326\n",
            "63   63           0.005120747\n",
            "64   64           0.004904687\n",
            "65   65           0.004697743\n",
            "66   66           0.004499530\n",
            "67   67           0.004309679\n",
            "68   68           0.004127838\n",
            "69   69           0.003953670\n",
            "70   70           0.003786851\n",
            "71   71           0.003627070\n",
            "72   72           0.003474031\n",
            "73   73           0.003327449\n",
            "74   74           0.003187052\n",
            "75   75           0.003052579\n",
            "76   76           0.002923779\n",
            "77   77           0.002800415\n",
            "78   78           0.002682255\n",
            "79   79           0.002569081\n",
            "80   80           0.002460682\n",
            "81   81           0.002356857\n",
            "82   82           0.002257412\n",
            "83   83           0.002162164\n",
            "84   84           0.002070934\n",
            "85   85           0.001983554\n",
            "86   86           0.001899861\n",
            "87   87           0.001819699\n",
            "88   88           0.001742919\n",
            "89   89           0.001669379\n",
            "90   90           0.001598942\n",
            "91   91           0.001531477\n",
            "92   92           0.001466858\n",
            "93   93           0.001404966\n",
            "94   94           0.001345685\n",
            "95   95           0.001288906\n",
            "96   96           0.001234522\n",
            "97   97           0.001182433\n",
            "98   98           0.001132542\n",
            "99   99           0.001084756\n",
            "100 100           0.001038986\n"
          ]
        }
      ]
    },
    {
      "cell_type": "code",
      "source": [
        "%%R\n",
        "library(tidyverse)\n",
        "\n",
        "ggplot(T_pmf |>\n",
        "         filter(prob_absorb_at_time_n > 0),\n",
        "       aes(x = n,\n",
        "           y = prob_absorb_at_time_n)) +\n",
        "  geom_line(linewidth = 1)"
      ],
      "metadata": {
        "id": "nV2fD5CDHV7t",
        "outputId": "c1e54237-75fa-48ed-9ff6-535c5622761b",
        "colab": {
          "base_uri": "https://localhost:8080/",
          "height": 497
        }
      },
      "execution_count": 49,
      "outputs": [
        {
          "output_type": "display_data",
          "data": {
            "image/png": "[encoded data removed]"
          },
          "metadata": {}
        }
      ]
    },
    {
      "cell_type": "code",
      "source": [
        "%%R\n",
        "sum(T_pmf[, 1] * T_pmf[, 2])"
      ],
      "metadata": {
        "id": "Gj8pn66fIqou",
        "outputId": "7fc36eae-e1f7-42cb-e795-be1feab3332c",
        "colab": {
          "base_uri": "https://localhost:8080/"
        }
      },
      "execution_count": 52,
      "outputs": [
        {
          "output_type": "stream",
          "name": "stdout",
          "text": [
            "[1] 36.19272\n"
          ]
        }
      ]
    },
    {
      "cell_type": "markdown",
      "source": [
        "Both computation through absorbing state and cumulative PMF to find average result in values that agree. They both come out to be about 36.2 steps."
      ],
      "metadata": {
        "id": "S9R3JyT6KA85"
      }
    },
    {
      "cell_type": "markdown",
      "source": [
        "####c."
      ],
      "metadata": {
        "id": "aCHWf9qqquwY"
      }
    },
    {
      "cell_type": "markdown",
      "source": [
        "Write code to run the chain and simulate the distribution of $T$. Plot the simulated distribution, use it to estimate the expected value, and compare to the previous part."
      ],
      "metadata": {
        "id": "uMDMrZsDqxtq"
      }
    },
    {
      "cell_type": "code",
      "source": [],
      "metadata": {
        "id": "vg9PRz0tBzZ-"
      },
      "execution_count": null,
      "outputs": []
    },
    {
      "cell_type": "markdown",
      "source": [
        "###2."
      ],
      "metadata": {
        "id": "RG6DUyZ2qgB5"
      }
    },
    {
      "cell_type": "markdown",
      "source": [
        "First, think about what the optimal placement might look like. Then, write an MCMC algorithm to find the board that minimizes $E(T)$. Your MCMC algorithm should involve:\n",
        "- Proposing a new state, that is, proposing a new board. A board is identified by the starting spaces of the chutes and the starting spaces of the ladders (that is, the inputs to the `make_board` function).\n",
        "- Finding the expected value of $T$ for the proposed board and then deciding whether or not to accept the proposed board. Note: if the proposed board is not valid (e.g., chutes/ladders land off the board), then it should be rejected.\n",
        "\n",
        "Run the algorithm until you think it has converged and you have found the optimal board. Identify the the starting spaces for the chutes and ladders for this board."
      ],
      "metadata": {
        "id": "BlZBoFerqhVn"
      }
    },
    {
      "cell_type": "code",
      "source": [],
      "metadata": {
        "id": "dvwHz_HSv_3f"
      },
      "execution_count": null,
      "outputs": []
    },
    {
      "cell_type": "markdown",
      "source": [
        "Repeat Problem 1 for your optimal board, and compare the distribution of $T$ for your board to the one from the actual game. Write a few sentences summarizing your results."
      ],
      "metadata": {
        "id": "5c4z6sICugVx"
      }
    },
    {
      "cell_type": "code",
      "source": [],
      "metadata": {
        "id": "znyb63hzuecp"
      },
      "execution_count": null,
      "outputs": []
    }
  ]
}