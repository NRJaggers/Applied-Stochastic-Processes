{
  "nbformat": 4,
  "nbformat_minor": 0,
  "metadata": {
    "colab": {
      "provenance": [],
      "include_colab_link": true
    },
    "kernelspec": {
      "name": "python3",
      "display_name": "Python 3"
    },
    "language_info": {
      "name": "python"
    }
  },
  "cells": [
    {
      "cell_type": "markdown",
      "metadata": {
        "id": "view-in-github",
        "colab_type": "text"
      },
      "source": [
        "<a href=\"https://colab.research.google.com/github/NRJaggers/Applied-Stochastic-Processes/blob/main/Applications/4-Chutes_and_Ladders_and_MCMC/Chutes_and_Ladders_and_MCMC.ipynb\" target=\"_parent\"><img src=\"https://colab.research.google.com/assets/colab-badge.svg\" alt=\"Open In Colab\"/></a>"
      ]
    },
    {
      "cell_type": "markdown",
      "source": [
        "#Chutes and Ladders and MCMC"
      ],
      "metadata": {
        "id": "lwN5bYfDW66u"
      }
    },
    {
      "cell_type": "markdown",
      "source": [
        "---\n",
        "\n",
        "## Prompt"
      ],
      "metadata": {
        "id": "Bh1go0uHXDqq"
      }
    },
    {
      "cell_type": "markdown",
      "source": [
        "Original Prompt can be found [here](https://bookdown.org/kevin_davisross/applied-stochastic-processes/app-mcmc.html). A copy of the prompt along with the completed exercise can be found under [/Applications](https://github.com/NRJaggers/Applied-Stochastic-Processes/tree/main/Applications)."
      ],
      "metadata": {
        "id": "DJpcnN9AXHGQ"
      }
    },
    {
      "cell_type": "markdown",
      "source": [
        "##Summary"
      ],
      "metadata": {
        "id": "06QhnUojnxD4"
      }
    },
    {
      "cell_type": "markdown",
      "source": [
        "This investigation concerns the boardgame Chutes and Ladders. Detailed instructions and some code have been provided in original prompt; For detailed explaination, please be sure to read the full prompt carefully."
      ],
      "metadata": {
        "id": "WXKnlgvjn0XI"
      }
    },
    {
      "cell_type": "markdown",
      "source": [
        "The board has 100 spaces, labeled 1, 2, …, 100. A player starts off the board. A player generally moves on the board according to the roll of a fair six-sided die. For example, if the player is currently on space 13 and they roll a 5, then they move to space 18. However, the board also has 9 ladders which help the player climb the board and 10 chutes (slides) which knock the player back down. The game ends when the player makes it to space 100. (We’ll assume only one player.)"
      ],
      "metadata": {
        "id": "xhrcgdihoYcF"
      }
    },
    {
      "cell_type": "markdown",
      "source": [
        "###Problem 1"
      ],
      "metadata": {
        "id": "wzMWOgUqu0SW"
      }
    },
    {
      "cell_type": "markdown",
      "source": [
        "We are interested in $T$, the number of moves (rolls) needed until spot 100 is reached (the player doesn’t need to land on 100 exactly). The position of the player after the nth move can be modeled as a Markov chain with transition matrix `Pgame` defined in the code from the prompt."
      ],
      "metadata": {
        "id": "MkO-NDkmu46C"
      }
    },
    {
      "cell_type": "markdown",
      "source": [
        "###Problem 2"
      ],
      "metadata": {
        "id": "_IPiEeFPu5Pr"
      }
    },
    {
      "cell_type": "markdown",
      "source": [
        "Suppose you were designing a new Chutes and Ladders board. How does the placement of the chutes and ladders on the board affect the expected value of $T$? In particular, is there a way to place the chutes/ladders to minimize the expected number of moves? In this problem, you’ll write an MCMC algorithm to find the board which minimizes $E(T)$."
      ],
      "metadata": {
        "id": "cXWwfCmOu83r"
      }
    },
    {
      "cell_type": "markdown",
      "source": [
        "---\n",
        "\n",
        "## Application"
      ],
      "metadata": {
        "id": "GXUWHhYNXK3F"
      }
    },
    {
      "cell_type": "markdown",
      "source": [
        "###1."
      ],
      "metadata": {
        "id": "NnOccgJbXbpb"
      }
    },
    {
      "cell_type": "markdown",
      "source": [
        "First, create the Pgame matrix to use."
      ],
      "metadata": {
        "id": "SC4V550gqotd"
      }
    },
    {
      "cell_type": "code",
      "source": [
        "#use this to allow for running R within Python\n",
        "%load_ext rpy2.ipython"
      ],
      "metadata": {
        "id": "g10WuHtz6ocN"
      },
      "execution_count": 1,
      "outputs": []
    },
    {
      "cell_type": "code",
      "source": [
        "%%R\n",
        "N = 100 # number of spaces on board\n",
        "\n",
        "s = N + 1  # number of states\n",
        "\n",
        "k = 6  # number of sides on die\n",
        "\n",
        "# P0 is the transition matrix if there were no chutes/ladders\n",
        "P0 = matrix(rep(0, s * s), nrow = s)\n",
        "\n",
        "for (i in 1:(N - 1)){\n",
        "  for (j in min(i + 1, N):min(i + k, N)){\n",
        "    if (j == N){\n",
        "      P0[i, j] = (i - N + k + 1) / k\n",
        "      # don't need to land on 100 exactly\n",
        "    } else {\n",
        "      P0[i, j] = 1 / k\n",
        "    }\n",
        "  }\n",
        "}\n",
        "\n",
        "P0[N, N] = 1  # absorbing state\n",
        "\n",
        "P0[s, 1:k] = 1 / k  # initial state"
      ],
      "metadata": {
        "id": "voedXV9S6sCw"
      },
      "execution_count": 2,
      "outputs": []
    },
    {
      "cell_type": "code",
      "source": [
        "%%R\n",
        "# The make_board function takes as an input the starting spaces\n",
        "# for chutes and ladders and outputs the transition matrix\n",
        "# add the chutes/ladders by swapping appropriate columns\n",
        "# with an annoying little detail for the two short chutes\n",
        "# e.g. you can get from 50 to 53 by rolling a 3\n",
        "# or by rolling a 6 and then sliding down the chute from 56 to 53\n",
        "\n",
        "make_board <- function(ladder_start, chute_start, plot = FALSE){\n",
        "  ladder_length = c(8, 10, 16, 20, 20, 21, 22, 37, 56)\n",
        "  ladder_end = ladder_start + ladder_length\n",
        "  chute_length = c(3, 4, 10, 20, 20, 20, 22, 38, 43, 63)\n",
        "  chute_end = chute_start - chute_length\n",
        "  P = P0\n",
        "  for (j in 1:length(ladder_start)){\n",
        "    i = which(P[, ladder_start[j]] > 0)\n",
        "    P[i, ladder_end[j]] = P[i, ladder_start[j]]\n",
        "    P[i, ladder_start[j]] = 0\n",
        "    P[ladder_start[j], ] = rep(0, s)\n",
        "    P[ladder_start[j], ladder_end[j]]=1\n",
        "  }\n",
        "  for (j in 1:length(chute_start)){\n",
        "    i = which(P[, chute_start[j]] > 0)\n",
        "    i1 = i[which(i <= chute_end[j])]\n",
        "    P[i1, chute_end[j]] = P[i1, chute_start[j]] +\n",
        "      P0[i1, chute_end[j]]\n",
        "    P[i1, chute_start[j]] = 0\n",
        "    i2 = i[which(i > chute_end[j])]\n",
        "    P[i2, chute_end[j]] = P[i2, chute_start[j]]\n",
        "    P[i2, chute_start[j]] = 0\n",
        "    P[chute_start[j], ] = rep(0, s)\n",
        "    P[chute_start[j], chute_end[j]] = 1\n",
        "  }\n",
        "  if (plot == TRUE){\n",
        "    image(1:s, 1:s, t(P[c(s, 1:(s - 1)), c(s, 1:(s - 1))]),\n",
        "          xlab = \"\", ylab = \"\",\n",
        "          zlim = c(1 / k, 1), xaxt = \"n\", yaxt = \"n\",\n",
        "          col = rainbow(k))\n",
        "    axis(1, at = 1:s, labels = 0:(s - 1), cex.axis=0.4)\n",
        "    axis(2, at = 1:s, labels = 0:(s - 1), cex.axis=0.4)\n",
        "    grid(s, s)\n",
        "  }\n",
        "  return(P)\n",
        "}"
      ],
      "metadata": {
        "id": "O63AFgUG69FP"
      },
      "execution_count": 3,
      "outputs": []
    },
    {
      "cell_type": "code",
      "source": [
        "#run in R environment but export output variable to python\n",
        "%%R -o Pgame\n",
        "# generate the transition matrix for the actual game\n",
        "Pgame = make_board(\n",
        "  ladder_start = c(36, 4, 51, 71, 80, 21, 9, 1, 28),\n",
        "  chute_start = c(56, 64, 16, 93, 95, 98, 48, 49, 62, 87),\n",
        "  plot = TRUE)"
      ],
      "metadata": {
        "colab": {
          "base_uri": "https://localhost:8080/",
          "height": 497
        },
        "id": "GwaE8A-N7Evh",
        "outputId": "7926927b-8bef-4024-84f2-c6eb2e1cb020"
      },
      "execution_count": 4,
      "outputs": [
        {
          "output_type": "display_data",
          "data": {
            "image/png": "[encoded data removed]"
          },
          "metadata": {}
        }
      ]
    },
    {
      "cell_type": "code",
      "source": [
        "%%R\n",
        "# Check that all row sums are 1\n",
        "Invalid_rows_n = which(!rowSums(Pgame) == 1)\n",
        "print(Invalid_rows_n)"
      ],
      "metadata": {
        "colab": {
          "base_uri": "https://localhost:8080/"
        },
        "id": "aEM77II87PwT",
        "outputId": "ea8b9c49-7175-44cd-ea9c-1c017c9d8c97"
      },
      "execution_count": 5,
      "outputs": [
        {
          "output_type": "stream",
          "name": "stdout",
          "text": [
            "integer(0)\n"
          ]
        }
      ]
    },
    {
      "cell_type": "markdown",
      "source": [
        "####a."
      ],
      "metadata": {
        "id": "48h1Km4oqfDN"
      }
    },
    {
      "cell_type": "markdown",
      "source": [
        "Solve for $E(T)$ without first finding the distribution of $T$."
      ],
      "metadata": {
        "id": "RwlyACNiqqVu"
      }
    },
    {
      "cell_type": "code",
      "source": [
        "%%R\n",
        "mean_time_to_absorption <- function(transition_matrix, state_names = NULL) {\n",
        "\n",
        "  absorbing_states = which(diag(transition_matrix) == 1)\n",
        "\n",
        "  if (length(absorbing_states) == 0) stop(\"There are no absorbing states.\")\n",
        "\n",
        "  n_states = nrow(transition_matrix)\n",
        "\n",
        "  transient_states = setdiff(1:n_states, absorbing_states)\n",
        "\n",
        "  Q = transition_matrix[transient_states, transient_states]\n",
        "\n",
        "  mtta = solve(diag(nrow(Q)) - Q, rep(1, nrow(Q)))\n",
        "\n",
        "  if (is.null(state_names)) state_names = 1:n_states\n",
        "\n",
        "  data.frame(start_state = state_names[transient_states],\n",
        "             mean_time_to_absorption = mtta)\n",
        "}"
      ],
      "metadata": {
        "id": "fFpDGxte-Ftw"
      },
      "execution_count": 6,
      "outputs": []
    },
    {
      "cell_type": "code",
      "source": [
        "%%R\n",
        "mu = mean_time_to_absorption(Pgame)\n",
        "mu[100,]"
      ],
      "metadata": {
        "colab": {
          "base_uri": "https://localhost:8080/"
        },
        "id": "JFC-6DEj-lX_",
        "outputId": "6b65163b-3498-41dd-c315-9cd403de9dcb"
      },
      "execution_count": 7,
      "outputs": [
        {
          "output_type": "stream",
          "name": "stdout",
          "text": [
            "    start_state mean_time_to_absorption\n",
            "100         101                36.19307\n"
          ]
        }
      ]
    },
    {
      "cell_type": "markdown",
      "source": [
        "Above we can see the mean absorbtion time, $E(T)$, from off the board to spot 100."
      ],
      "metadata": {
        "id": "nhI3YFh6A6L6"
      }
    },
    {
      "cell_type": "markdown",
      "source": [
        "####b."
      ],
      "metadata": {
        "id": "ZE7VlsNUqrw6"
      }
    },
    {
      "cell_type": "markdown",
      "source": [
        "Solve for the exact distribution of $T$ and plot it. (Technically, $T$ can take infinitely many values, but feel free to cut off when the probabilities become sufficiently small.) Find $E(T)$ based on this distribution. Compare the expected value to the previous part."
      ],
      "metadata": {
        "id": "n4JuG_REqxRD"
      }
    },
    {
      "cell_type": "code",
      "source": [
        "%%R\n",
        "install.packages('expm')\n",
        "install.packages('kableExtra')\n",
        "install.packages('tidyverse')"
      ],
      "metadata": {
        "colab": {
          "base_uri": "https://localhost:8080/"
        },
        "id": "OoTshedZE4LV",
        "outputId": "16f018ec-66a1-4f71-baea-01a2b1c2df62"
      },
      "execution_count": 8,
      "outputs": [
        {
          "output_type": "stream",
          "name": "stderr",
          "text": [
            "WARNING:rpy2.rinterface_lib.callbacks:R[write to console]: Installing package into ‘/usr/local/lib/R/site-library’\n",
            "(as ‘lib’ is unspecified)\n",
            "\n",
            "WARNING:rpy2.rinterface_lib.callbacks:R[write to console]: trying URL 'https://cran.rstudio.com/src/contrib/expm_0.999-9.tar.gz'\n",
            "\n",
            "WARNING:rpy2.rinterface_lib.callbacks:R[write to console]: Content type 'application/x-gzip'\n",
            "WARNING:rpy2.rinterface_lib.callbacks:R[write to console]:  length 137765 bytes (134 KB)\n",
            "\n",
            "WARNING:rpy2.rinterface_lib.callbacks:R[write to console]: =\n",
            "WARNING:rpy2.rinterface_lib.callbacks:R[write to console]: =\n",
            "WARNING:rpy2.rinterface_lib.callbacks:R[write to console]: =\n",
            "WARNING:rpy2.rinterface_lib.callbacks:R[write to console]: =\n",
            "WARNING:rpy2.rinterface_lib.callbacks:R[write to console]: =\n",
            "WARNING:rpy2.rinterface_lib.callbacks:R[write to console]: =\n",
            "WARNING:rpy2.rinterface_lib.callbacks:R[write to console]: =\n",
            "WARNING:rpy2.rinterface_lib.callbacks:R[write to console]: =\n",
            "WARNING:rpy2.rinterface_lib.callbacks:R[write to console]: =\n",
            "WARNING:rpy2.rinterface_lib.callbacks:R[write to console]: =\n",
            "WARNING:rpy2.rinterface_lib.callbacks:R[write to console]: =\n",
            "WARNING:rpy2.rinterface_lib.callbacks:R[write to console]: =\n",
            "WARNING:rpy2.rinterface_lib.callbacks:R[write to console]: =\n",
            "WARNING:rpy2.rinterface_lib.callbacks:R[write to console]: =\n",
            "WARNING:rpy2.rinterface_lib.callbacks:R[write to console]: =\n",
            "WARNING:rpy2.rinterface_lib.callbacks:R[write to console]: =\n",
            "WARNING:rpy2.rinterface_lib.callbacks:R[write to console]: =\n",
            "WARNING:rpy2.rinterface_lib.callbacks:R[write to console]: =\n",
            "WARNING:rpy2.rinterface_lib.callbacks:R[write to console]: =\n",
            "WARNING:rpy2.rinterface_lib.callbacks:R[write to console]: =\n",
            "WARNING:rpy2.rinterface_lib.callbacks:R[write to console]: =\n",
            "WARNING:rpy2.rinterface_lib.callbacks:R[write to console]: =\n",
            "WARNING:rpy2.rinterface_lib.callbacks:R[write to console]: =\n",
            "WARNING:rpy2.rinterface_lib.callbacks:R[write to console]: =\n",
            "WARNING:rpy2.rinterface_lib.callbacks:R[write to console]: =\n",
            "WARNING:rpy2.rinterface_lib.callbacks:R[write to console]: =\n",
            "WARNING:rpy2.rinterface_lib.callbacks:R[write to console]: =\n",
            "WARNING:rpy2.rinterface_lib.callbacks:R[write to console]: =\n",
            "WARNING:rpy2.rinterface_lib.callbacks:R[write to console]: =\n",
            "WARNING:rpy2.rinterface_lib.callbacks:R[write to console]: =\n",
            "WARNING:rpy2.rinterface_lib.callbacks:R[write to console]: =\n",
            "WARNING:rpy2.rinterface_lib.callbacks:R[write to console]: =\n",
            "WARNING:rpy2.rinterface_lib.callbacks:R[write to console]: =\n",
            "WARNING:rpy2.rinterface_lib.callbacks:R[write to console]: =\n",
            "WARNING:rpy2.rinterface_lib.callbacks:R[write to console]: =\n",
            "WARNING:rpy2.rinterface_lib.callbacks:R[write to console]: =\n",
            "WARNING:rpy2.rinterface_lib.callbacks:R[write to console]: =\n",
            "WARNING:rpy2.rinterface_lib.callbacks:R[write to console]: =\n",
            "WARNING:rpy2.rinterface_lib.callbacks:R[write to console]: =\n",
            "WARNING:rpy2.rinterface_lib.callbacks:R[write to console]: =\n",
            "WARNING:rpy2.rinterface_lib.callbacks:R[write to console]: =\n",
            "WARNING:rpy2.rinterface_lib.callbacks:R[write to console]: =\n",
            "WARNING:rpy2.rinterface_lib.callbacks:R[write to console]: =\n",
            "WARNING:rpy2.rinterface_lib.callbacks:R[write to console]: =\n",
            "WARNING:rpy2.rinterface_lib.callbacks:R[write to console]: =\n",
            "WARNING:rpy2.rinterface_lib.callbacks:R[write to console]: =\n",
            "WARNING:rpy2.rinterface_lib.callbacks:R[write to console]: =\n",
            "WARNING:rpy2.rinterface_lib.callbacks:R[write to console]: =\n",
            "WARNING:rpy2.rinterface_lib.callbacks:R[write to console]: =\n",
            "WARNING:rpy2.rinterface_lib.callbacks:R[write to console]: =\n",
            "WARNING:rpy2.rinterface_lib.callbacks:R[write to console]: \n",
            "\n",
            "WARNING:rpy2.rinterface_lib.callbacks:R[write to console]: downloaded 134 KB\n",
            "\n",
            "\n",
            "WARNING:rpy2.rinterface_lib.callbacks:R[write to console]: \n",
            "\n",
            "WARNING:rpy2.rinterface_lib.callbacks:R[write to console]: \n",
            "WARNING:rpy2.rinterface_lib.callbacks:R[write to console]: The downloaded source packages are in\n",
            "\t‘/tmp/RtmpoBdjDq/downloaded_packages’\n",
            "WARNING:rpy2.rinterface_lib.callbacks:R[write to console]: \n",
            "WARNING:rpy2.rinterface_lib.callbacks:R[write to console]: \n",
            "\n",
            "WARNING:rpy2.rinterface_lib.callbacks:R[write to console]: Installing package into ‘/usr/local/lib/R/site-library’\n",
            "(as ‘lib’ is unspecified)\n",
            "\n",
            "WARNING:rpy2.rinterface_lib.callbacks:R[write to console]: trying URL 'https://cran.rstudio.com/src/contrib/kableExtra_1.4.0.tar.gz'\n",
            "\n",
            "WARNING:rpy2.rinterface_lib.callbacks:R[write to console]: Content type 'application/x-gzip'\n",
            "WARNING:rpy2.rinterface_lib.callbacks:R[write to console]:  length 1824636 bytes (1.7 MB)\n",
            "\n",
            "WARNING:rpy2.rinterface_lib.callbacks:R[write to console]: =\n",
            "WARNING:rpy2.rinterface_lib.callbacks:R[write to console]: =\n",
            "WARNING:rpy2.rinterface_lib.callbacks:R[write to console]: =\n",
            "WARNING:rpy2.rinterface_lib.callbacks:R[write to console]: =\n",
            "WARNING:rpy2.rinterface_lib.callbacks:R[write to console]: =\n",
            "WARNING:rpy2.rinterface_lib.callbacks:R[write to console]: =\n",
            "WARNING:rpy2.rinterface_lib.callbacks:R[write to console]: =\n",
            "WARNING:rpy2.rinterface_lib.callbacks:R[write to console]: =\n",
            "WARNING:rpy2.rinterface_lib.callbacks:R[write to console]: =\n",
            "WARNING:rpy2.rinterface_lib.callbacks:R[write to console]: =\n",
            "WARNING:rpy2.rinterface_lib.callbacks:R[write to console]: =\n",
            "WARNING:rpy2.rinterface_lib.callbacks:R[write to console]: =\n",
            "WARNING:rpy2.rinterface_lib.callbacks:R[write to console]: =\n",
            "WARNING:rpy2.rinterface_lib.callbacks:R[write to console]: =\n",
            "WARNING:rpy2.rinterface_lib.callbacks:R[write to console]: =\n",
            "WARNING:rpy2.rinterface_lib.callbacks:R[write to console]: =\n",
            "WARNING:rpy2.rinterface_lib.callbacks:R[write to console]: =\n",
            "WARNING:rpy2.rinterface_lib.callbacks:R[write to console]: =\n",
            "WARNING:rpy2.rinterface_lib.callbacks:R[write to console]: =\n",
            "WARNING:rpy2.rinterface_lib.callbacks:R[write to console]: =\n",
            "WARNING:rpy2.rinterface_lib.callbacks:R[write to console]: =\n",
            "WARNING:rpy2.rinterface_lib.callbacks:R[write to console]: =\n",
            "WARNING:rpy2.rinterface_lib.callbacks:R[write to console]: =\n",
            "WARNING:rpy2.rinterface_lib.callbacks:R[write to console]: =\n",
            "WARNING:rpy2.rinterface_lib.callbacks:R[write to console]: =\n",
            "WARNING:rpy2.rinterface_lib.callbacks:R[write to console]: =\n",
            "WARNING:rpy2.rinterface_lib.callbacks:R[write to console]: =\n",
            "WARNING:rpy2.rinterface_lib.callbacks:R[write to console]: =\n",
            "WARNING:rpy2.rinterface_lib.callbacks:R[write to console]: =\n",
            "WARNING:rpy2.rinterface_lib.callbacks:R[write to console]: =\n",
            "WARNING:rpy2.rinterface_lib.callbacks:R[write to console]: =\n",
            "WARNING:rpy2.rinterface_lib.callbacks:R[write to console]: =\n",
            "WARNING:rpy2.rinterface_lib.callbacks:R[write to console]: =\n",
            "WARNING:rpy2.rinterface_lib.callbacks:R[write to console]: =\n",
            "WARNING:rpy2.rinterface_lib.callbacks:R[write to console]: =\n",
            "WARNING:rpy2.rinterface_lib.callbacks:R[write to console]: =\n",
            "WARNING:rpy2.rinterface_lib.callbacks:R[write to console]: =\n",
            "WARNING:rpy2.rinterface_lib.callbacks:R[write to console]: =\n",
            "WARNING:rpy2.rinterface_lib.callbacks:R[write to console]: =\n",
            "WARNING:rpy2.rinterface_lib.callbacks:R[write to console]: =\n",
            "WARNING:rpy2.rinterface_lib.callbacks:R[write to console]: =\n",
            "WARNING:rpy2.rinterface_lib.callbacks:R[write to console]: =\n",
            "WARNING:rpy2.rinterface_lib.callbacks:R[write to console]: =\n",
            "WARNING:rpy2.rinterface_lib.callbacks:R[write to console]: =\n",
            "WARNING:rpy2.rinterface_lib.callbacks:R[write to console]: =\n",
            "WARNING:rpy2.rinterface_lib.callbacks:R[write to console]: =\n",
            "WARNING:rpy2.rinterface_lib.callbacks:R[write to console]: =\n",
            "WARNING:rpy2.rinterface_lib.callbacks:R[write to console]: =\n",
            "WARNING:rpy2.rinterface_lib.callbacks:R[write to console]: =\n",
            "WARNING:rpy2.rinterface_lib.callbacks:R[write to console]: =\n",
            "WARNING:rpy2.rinterface_lib.callbacks:R[write to console]: \n",
            "\n",
            "WARNING:rpy2.rinterface_lib.callbacks:R[write to console]: downloaded 1.7 MB\n",
            "\n",
            "\n",
            "WARNING:rpy2.rinterface_lib.callbacks:R[write to console]: \n",
            "\n",
            "WARNING:rpy2.rinterface_lib.callbacks:R[write to console]: \n",
            "WARNING:rpy2.rinterface_lib.callbacks:R[write to console]: The downloaded source packages are in\n",
            "\t‘/tmp/RtmpoBdjDq/downloaded_packages’\n",
            "WARNING:rpy2.rinterface_lib.callbacks:R[write to console]: \n",
            "WARNING:rpy2.rinterface_lib.callbacks:R[write to console]: \n",
            "\n",
            "WARNING:rpy2.rinterface_lib.callbacks:R[write to console]: Installing package into ‘/usr/local/lib/R/site-library’\n",
            "(as ‘lib’ is unspecified)\n",
            "\n",
            "WARNING:rpy2.rinterface_lib.callbacks:R[write to console]: trying URL 'https://cran.rstudio.com/src/contrib/tidyverse_2.0.0.tar.gz'\n",
            "\n",
            "WARNING:rpy2.rinterface_lib.callbacks:R[write to console]: Content type 'application/x-gzip'\n",
            "WARNING:rpy2.rinterface_lib.callbacks:R[write to console]:  length 704618 bytes (688 KB)\n",
            "\n",
            "WARNING:rpy2.rinterface_lib.callbacks:R[write to console]: =\n",
            "WARNING:rpy2.rinterface_lib.callbacks:R[write to console]: =\n",
            "WARNING:rpy2.rinterface_lib.callbacks:R[write to console]: =\n",
            "WARNING:rpy2.rinterface_lib.callbacks:R[write to console]: =\n",
            "WARNING:rpy2.rinterface_lib.callbacks:R[write to console]: =\n",
            "WARNING:rpy2.rinterface_lib.callbacks:R[write to console]: =\n",
            "WARNING:rpy2.rinterface_lib.callbacks:R[write to console]: =\n",
            "WARNING:rpy2.rinterface_lib.callbacks:R[write to console]: =\n",
            "WARNING:rpy2.rinterface_lib.callbacks:R[write to console]: =\n",
            "WARNING:rpy2.rinterface_lib.callbacks:R[write to console]: =\n",
            "WARNING:rpy2.rinterface_lib.callbacks:R[write to console]: =\n",
            "WARNING:rpy2.rinterface_lib.callbacks:R[write to console]: =\n",
            "WARNING:rpy2.rinterface_lib.callbacks:R[write to console]: =\n",
            "WARNING:rpy2.rinterface_lib.callbacks:R[write to console]: =\n",
            "WARNING:rpy2.rinterface_lib.callbacks:R[write to console]: =\n",
            "WARNING:rpy2.rinterface_lib.callbacks:R[write to console]: =\n",
            "WARNING:rpy2.rinterface_lib.callbacks:R[write to console]: =\n",
            "WARNING:rpy2.rinterface_lib.callbacks:R[write to console]: =\n",
            "WARNING:rpy2.rinterface_lib.callbacks:R[write to console]: =\n",
            "WARNING:rpy2.rinterface_lib.callbacks:R[write to console]: =\n",
            "WARNING:rpy2.rinterface_lib.callbacks:R[write to console]: =\n",
            "WARNING:rpy2.rinterface_lib.callbacks:R[write to console]: =\n",
            "WARNING:rpy2.rinterface_lib.callbacks:R[write to console]: =\n",
            "WARNING:rpy2.rinterface_lib.callbacks:R[write to console]: =\n",
            "WARNING:rpy2.rinterface_lib.callbacks:R[write to console]: =\n",
            "WARNING:rpy2.rinterface_lib.callbacks:R[write to console]: =\n",
            "WARNING:rpy2.rinterface_lib.callbacks:R[write to console]: =\n",
            "WARNING:rpy2.rinterface_lib.callbacks:R[write to console]: =\n",
            "WARNING:rpy2.rinterface_lib.callbacks:R[write to console]: =\n",
            "WARNING:rpy2.rinterface_lib.callbacks:R[write to console]: =\n",
            "WARNING:rpy2.rinterface_lib.callbacks:R[write to console]: =\n",
            "WARNING:rpy2.rinterface_lib.callbacks:R[write to console]: =\n",
            "WARNING:rpy2.rinterface_lib.callbacks:R[write to console]: =\n",
            "WARNING:rpy2.rinterface_lib.callbacks:R[write to console]: =\n",
            "WARNING:rpy2.rinterface_lib.callbacks:R[write to console]: =\n",
            "WARNING:rpy2.rinterface_lib.callbacks:R[write to console]: =\n",
            "WARNING:rpy2.rinterface_lib.callbacks:R[write to console]: =\n",
            "WARNING:rpy2.rinterface_lib.callbacks:R[write to console]: =\n",
            "WARNING:rpy2.rinterface_lib.callbacks:R[write to console]: =\n",
            "WARNING:rpy2.rinterface_lib.callbacks:R[write to console]: =\n",
            "WARNING:rpy2.rinterface_lib.callbacks:R[write to console]: =\n",
            "WARNING:rpy2.rinterface_lib.callbacks:R[write to console]: =\n",
            "WARNING:rpy2.rinterface_lib.callbacks:R[write to console]: =\n",
            "WARNING:rpy2.rinterface_lib.callbacks:R[write to console]: =\n",
            "WARNING:rpy2.rinterface_lib.callbacks:R[write to console]: =\n",
            "WARNING:rpy2.rinterface_lib.callbacks:R[write to console]: =\n",
            "WARNING:rpy2.rinterface_lib.callbacks:R[write to console]: =\n",
            "WARNING:rpy2.rinterface_lib.callbacks:R[write to console]: =\n",
            "WARNING:rpy2.rinterface_lib.callbacks:R[write to console]: =\n",
            "WARNING:rpy2.rinterface_lib.callbacks:R[write to console]: =\n",
            "WARNING:rpy2.rinterface_lib.callbacks:R[write to console]: \n",
            "\n",
            "WARNING:rpy2.rinterface_lib.callbacks:R[write to console]: downloaded 688 KB\n",
            "\n",
            "\n",
            "WARNING:rpy2.rinterface_lib.callbacks:R[write to console]: \n",
            "\n",
            "WARNING:rpy2.rinterface_lib.callbacks:R[write to console]: \n",
            "WARNING:rpy2.rinterface_lib.callbacks:R[write to console]: The downloaded source packages are in\n",
            "\t‘/tmp/RtmpoBdjDq/downloaded_packages’\n",
            "WARNING:rpy2.rinterface_lib.callbacks:R[write to console]: \n",
            "WARNING:rpy2.rinterface_lib.callbacks:R[write to console]: \n",
            "\n"
          ]
        }
      ]
    },
    {
      "cell_type": "code",
      "source": [
        "%%R\n",
        "library(expm)\n",
        "library(kableExtra)\n",
        "\n",
        "pmf_of_time_to_absorption <- function(transition_matrix, state_names = NULL, start_state) {\n",
        "\n",
        "  absorbing_states = which(diag(transition_matrix) == 1)\n",
        "\n",
        "  if (length(absorbing_states) == 0) stop(\"There are no absorbing states.\")\n",
        "\n",
        "  n_states = nrow(transition_matrix)\n",
        "\n",
        "  transient_states = setdiff(1:n_states, absorbing_states)\n",
        "\n",
        "  if (is.null(state_names)) state_names = 1:n_states\n",
        "\n",
        "  if (which(state_names == start_state) %in% absorbing_states) stop(\"Initial state is an absorbing state; absorption at time 0.\")\n",
        "\n",
        "  n = 1\n",
        "\n",
        "  TTA_cdf = sum(transition_matrix[which(state_names == start_state), absorbing_states])\n",
        "\n",
        "  while (max(TTA_cdf) < 0.999999) {\n",
        "\n",
        "    n = n + 1\n",
        "\n",
        "    TTA_cdf = c(TTA_cdf, sum((transition_matrix %^% n)[which(state_names == start_state), absorbing_states]))\n",
        "  }\n",
        "\n",
        "  TTA_pmf = TTA_cdf - c(0, TTA_cdf[-length(TTA_cdf)])\n",
        "\n",
        "  data.frame(n = 1:length(TTA_pmf),\n",
        "             prob_absorb_at_time_n = TTA_pmf)\n",
        "}"
      ],
      "metadata": {
        "id": "OiFcVk-4BygW",
        "colab": {
          "base_uri": "https://localhost:8080/"
        },
        "outputId": "65591e36-4532-468c-b9b4-ace8da88bbc5"
      },
      "execution_count": 9,
      "outputs": [
        {
          "output_type": "stream",
          "name": "stderr",
          "text": [
            "WARNING:rpy2.rinterface_lib.callbacks:R[write to console]: Loading required package: Matrix\n",
            "\n",
            "WARNING:rpy2.rinterface_lib.callbacks:R[write to console]: \n",
            "Attaching package: ‘expm’\n",
            "\n",
            "\n",
            "WARNING:rpy2.rinterface_lib.callbacks:R[write to console]: The following object is masked from ‘package:Matrix’:\n",
            "\n",
            "    expm\n",
            "\n",
            "\n"
          ]
        }
      ]
    },
    {
      "cell_type": "code",
      "source": [
        "%%R\n",
        "T_pmf = pmf_of_time_to_absorption(Pgame, start_state = 101)\n",
        "\n",
        "T_pmf |> head(100)"
      ],
      "metadata": {
        "colab": {
          "base_uri": "https://localhost:8080/"
        },
        "id": "fk9TxCJKChUt",
        "outputId": "5182f07d-af11-40ef-fd89-bc0524b4f87b"
      },
      "execution_count": 10,
      "outputs": [
        {
          "output_type": "stream",
          "name": "stdout",
          "text": [
            "      n prob_absorb_at_time_n\n",
            "1     1           0.000000000\n",
            "2     2           0.000000000\n",
            "3     3           0.000000000\n",
            "4     4           0.000000000\n",
            "5     5           0.000000000\n",
            "6     6           0.000000000\n",
            "7     7           0.001971879\n",
            "8     8           0.006174626\n",
            "9     9           0.010176731\n",
            "10   10           0.013461394\n",
            "11   11           0.017124516\n",
            "12   12           0.020461774\n",
            "13   13           0.022348204\n",
            "14   14           0.023169028\n",
            "15   15           0.023949501\n",
            "16   16           0.025097382\n",
            "17   17           0.026294356\n",
            "18   18           0.027100283\n",
            "19   19           0.027427515\n",
            "20   20           0.027474270\n",
            "21   21           0.027397815\n",
            "22   22           0.027177541\n",
            "23   23           0.026731643\n",
            "24   24           0.026059559\n",
            "25   25           0.025252409\n",
            "26   26           0.024409494\n",
            "27   27           0.023574142\n",
            "28   28           0.022739104\n",
            "29   29           0.021888860\n",
            "30   30           0.021027647\n",
            "31   31           0.020176073\n",
            "32   32           0.019353038\n",
            "33   33           0.018564695\n",
            "34   34           0.017806949\n",
            "35   35           0.017074119\n",
            "36   36           0.016364529\n",
            "37   37           0.015680137\n",
            "38   38           0.015023213\n",
            "39   39           0.014394041\n",
            "40   40           0.013791061\n",
            "41   41           0.013212330\n",
            "42   42           0.012656620\n",
            "43   43           0.012123458\n",
            "44   44           0.011612542\n",
            "45   45           0.011123253\n",
            "46   46           0.010654628\n",
            "47   47           0.010205616\n",
            "48   48           0.009775312\n",
            "49   49           0.009362995\n",
            "50   50           0.008968023\n",
            "51   51           0.008589733\n",
            "52   52           0.008227417\n",
            "53   53           0.007880368\n",
            "54   54           0.007547920\n",
            "55   55           0.007229467\n",
            "56   56           0.006924440\n",
            "57   57           0.006632287\n",
            "58   58           0.006352465\n",
            "59   59           0.006084448\n",
            "60   60           0.005827733\n",
            "61   61           0.005581843\n",
            "62   62           0.005346326\n",
            "63   63           0.005120747\n",
            "64   64           0.004904687\n",
            "65   65           0.004697743\n",
            "66   66           0.004499530\n",
            "67   67           0.004309679\n",
            "68   68           0.004127838\n",
            "69   69           0.003953670\n",
            "70   70           0.003786851\n",
            "71   71           0.003627070\n",
            "72   72           0.003474031\n",
            "73   73           0.003327449\n",
            "74   74           0.003187052\n",
            "75   75           0.003052579\n",
            "76   76           0.002923779\n",
            "77   77           0.002800415\n",
            "78   78           0.002682255\n",
            "79   79           0.002569081\n",
            "80   80           0.002460682\n",
            "81   81           0.002356857\n",
            "82   82           0.002257412\n",
            "83   83           0.002162164\n",
            "84   84           0.002070934\n",
            "85   85           0.001983554\n",
            "86   86           0.001899861\n",
            "87   87           0.001819699\n",
            "88   88           0.001742919\n",
            "89   89           0.001669379\n",
            "90   90           0.001598942\n",
            "91   91           0.001531477\n",
            "92   92           0.001466858\n",
            "93   93           0.001404966\n",
            "94   94           0.001345685\n",
            "95   95           0.001288906\n",
            "96   96           0.001234522\n",
            "97   97           0.001182433\n",
            "98   98           0.001132542\n",
            "99   99           0.001084756\n",
            "100 100           0.001038986\n"
          ]
        }
      ]
    },
    {
      "cell_type": "code",
      "source": [
        "%%R\n",
        "library(tidyverse)\n",
        "\n",
        "ggplot(T_pmf |>\n",
        "         filter(prob_absorb_at_time_n > 0),\n",
        "       aes(x = n,\n",
        "           y = prob_absorb_at_time_n)) +\n",
        "  geom_line(linewidth = 1)"
      ],
      "metadata": {
        "colab": {
          "base_uri": "https://localhost:8080/",
          "height": 740
        },
        "id": "nV2fD5CDHV7t",
        "outputId": "0220defb-0306-4868-da6d-520f180a1f86"
      },
      "execution_count": 11,
      "outputs": [
        {
          "output_type": "stream",
          "name": "stdout",
          "text": [
            "── Attaching core tidyverse packages ──────────────────────── tidyverse 2.0.0 ──\n",
            "✔ dplyr     1.1.4     ✔ readr     2.1.5\n",
            "✔ forcats   1.0.0     ✔ stringr   1.5.1\n",
            "✔ ggplot2   3.4.4     ✔ tibble    3.2.1\n",
            "✔ lubridate 1.9.3     ✔ tidyr     1.3.1\n",
            "✔ purrr     1.0.2     \n",
            "── Conflicts ────────────────────────────────────────── tidyverse_conflicts() ──\n",
            "✖ tidyr::expand()     masks Matrix::expand()\n",
            "✖ dplyr::filter()     masks stats::filter()\n",
            "✖ dplyr::group_rows() masks kableExtra::group_rows()\n",
            "✖ dplyr::lag()        masks stats::lag()\n",
            "✖ tidyr::pack()       masks Matrix::pack()\n",
            "✖ tidyr::unpack()     masks Matrix::unpack()\n",
            "ℹ Use the conflicted package (<http://conflicted.r-lib.org/>) to force all conflicts to become errors\n"
          ]
        },
        {
          "output_type": "display_data",
          "data": {
            "image/png": "[encoded data removed]"
          },
          "metadata": {}
        }
      ]
    },
    {
      "cell_type": "code",
      "source": [
        "%%R\n",
        "sum(T_pmf[, 1] * T_pmf[, 2])"
      ],
      "metadata": {
        "colab": {
          "base_uri": "https://localhost:8080/"
        },
        "id": "Gj8pn66fIqou",
        "outputId": "0f9e2799-7e2c-4fbb-9978-1fbafa35d5ac"
      },
      "execution_count": 12,
      "outputs": [
        {
          "output_type": "stream",
          "name": "stdout",
          "text": [
            "[1] 36.19272\n"
          ]
        }
      ]
    },
    {
      "cell_type": "markdown",
      "source": [
        "Both computation through absorbing state and cumulative PMF to find average result in values that agree. They both come out to be about 36.2 steps."
      ],
      "metadata": {
        "id": "S9R3JyT6KA85"
      }
    },
    {
      "cell_type": "markdown",
      "source": [
        "####c."
      ],
      "metadata": {
        "id": "aCHWf9qqquwY"
      }
    },
    {
      "cell_type": "markdown",
      "source": [
        "Write code to run the chain and simulate the distribution of $T$. Plot the simulated distribution, use it to estimate the expected value, and compare to the previous part."
      ],
      "metadata": {
        "id": "uMDMrZsDqxtq"
      }
    },
    {
      "cell_type": "code",
      "source": [
        "%%R\n",
        "simulate_single_DTMC_path <- function(initial_distribution, transition_matrix, last_time){\n",
        "\n",
        "  n_states = nrow(transition_matrix) # number of states\n",
        "\n",
        "  states = 1:n_states # state space\n",
        "\n",
        "  X = rep(NA, last_time + 1) # state at time n; +1 to include time 0\n",
        "\n",
        "  X[1] = sample(states, 1, replace = TRUE, prob = initial_distribution) # initial state\n",
        "\n",
        "  for (n in 2:(last_time + 1)){\n",
        "\n",
        "    X[n] = sample(states, 1, replace = TRUE, prob = transition_matrix[X[n-1], ])\n",
        "\n",
        "  }\n",
        "\n",
        "  return(X)\n",
        "\n",
        "}"
      ],
      "metadata": {
        "id": "vg9PRz0tBzZ-"
      },
      "execution_count": 13,
      "outputs": []
    },
    {
      "cell_type": "code",
      "source": [
        "%%R\n",
        "pi0 <- rep(0, 101)\n",
        "pi0[101] <- 1\n",
        "\n",
        "absorbing_states = which(diag(Pgame) == 1)\n",
        "\n",
        "n_rep = 10000\n",
        "time_to_absorption = rep(NA, n_rep)\n",
        "\n",
        "for (i in 1:n_rep) {\n",
        "  x = simulate_single_DTMC_path(pi0, Pgame, last_time = 200)\n",
        "  time_to_absorption[i] = min(which(x %in% absorbing_states))\n",
        "}\n",
        "\n",
        "hist(time_to_absorption)"
      ],
      "metadata": {
        "id": "nhjL7gJdLfJP",
        "outputId": "7fb1096f-b6ab-4669-80dc-b07de5efa529",
        "colab": {
          "base_uri": "https://localhost:8080/",
          "height": 497
        }
      },
      "execution_count": 14,
      "outputs": [
        {
          "output_type": "display_data",
          "data": {
            "image/png": "[encoded data removed]"
          },
          "metadata": {}
        }
      ]
    },
    {
      "cell_type": "code",
      "source": [
        "%%R\n",
        "summary(time_to_absorption)"
      ],
      "metadata": {
        "id": "SwpsO6p9MDQa",
        "outputId": "70ea4654-b90e-4f24-bda6-74f647c769e3",
        "colab": {
          "base_uri": "https://localhost:8080/"
        }
      },
      "execution_count": 15,
      "outputs": [
        {
          "output_type": "stream",
          "name": "stdout",
          "text": [
            "   Min. 1st Qu.  Median    Mean 3rd Qu.    Max. \n",
            "      8      21      31     Inf      46     Inf \n"
          ]
        }
      ]
    },
    {
      "cell_type": "code",
      "source": [
        "%%R\n",
        "mean(time_to_absorption)"
      ],
      "metadata": {
        "id": "M_2HMKWcMGv6",
        "outputId": "6252e427-320d-4380-8fe3-79b943805dc9",
        "colab": {
          "base_uri": "https://localhost:8080/"
        }
      },
      "execution_count": 16,
      "outputs": [
        {
          "output_type": "stream",
          "name": "stdout",
          "text": [
            "[1] Inf\n"
          ]
        }
      ]
    },
    {
      "cell_type": "code",
      "source": [
        "%%R\n",
        "sd(time_to_absorption)"
      ],
      "metadata": {
        "id": "yTuUYCTdMMk-",
        "outputId": "0bdd9f77-39b2-4828-8f97-25c69c9f66dc",
        "colab": {
          "base_uri": "https://localhost:8080/"
        }
      },
      "execution_count": 17,
      "outputs": [
        {
          "output_type": "stream",
          "name": "stdout",
          "text": [
            "[1] NaN\n"
          ]
        }
      ]
    },
    {
      "cell_type": "markdown",
      "source": [
        "###2."
      ],
      "metadata": {
        "id": "RG6DUyZ2qgB5"
      }
    },
    {
      "cell_type": "markdown",
      "source": [
        "First, think about what the optimal placement might look like. Then, write an MCMC algorithm to find the board that minimizes $E(T)$. Your MCMC algorithm should involve:\n",
        "- Proposing a new state, that is, proposing a new board. A board is identified by the starting spaces of the chutes and the starting spaces of the ladders (that is, the inputs to the `make_board` function).\n",
        "- Finding the expected value of $T$ for the proposed board and then deciding whether or not to accept the proposed board. Note: if the proposed board is not valid (e.g., chutes/ladders land off the board), then it should be rejected.\n",
        "\n",
        "Run the algorithm until you think it has converged and you have found the optimal board. Identify the the starting spaces for the chutes and ladders for this board."
      ],
      "metadata": {
        "id": "BlZBoFerqhVn"
      }
    },
    {
      "cell_type": "markdown",
      "source": [
        "####MCMC Algorithm"
      ],
      "metadata": {
        "id": "eIrvKrXwrGpY"
      }
    },
    {
      "cell_type": "code",
      "source": [
        "# Function - create proposal and verify it is valid\n",
        "%%R\n",
        "\n",
        "propose_starting_locations <- function(ladder_start, chute_start) {\n",
        "  # Find end for chutes and ladders\n",
        "  ladder_length <- c(8, 10, 16, 20, 20, 21, 22, 37, 56)\n",
        "  ladder_end <- ladder_start + ladder_length\n",
        "  chute_length <- c(3, 4, 10, 20, 20, 20, 22, 38, 43, 63)\n",
        "  chute_end <- chute_start - chute_length\n",
        "\n",
        "  # Randomly choose chutes or ladders to adjust\n",
        "  adjust_type <- sample(c(\"ladder\", \"chute\"), 1)\n",
        "\n",
        "  # Randomly pick which element to adjust\n",
        "  if (adjust_type == \"ladder\") {\n",
        "    element_index <- sample(length(ladder_length), 1)\n",
        "    start <- 1\n",
        "    end   <- 100 - ladder_length[element_index]\n",
        "    new_start <- sample(start:end, 1)  # Generate new starting position\n",
        "    new_end   <- new_start + ladder_length[element_index]\n",
        "    while (new_start %in% c(ladder_start, ladder_end, chute_start, chute_end) ||\n",
        "           new_end %in% c(ladder_start, ladder_end, chute_start, chute_end)) {\n",
        "      new_start <- sample(start:end, 1)  # Regenerate if position is not valid\n",
        "      new_end   <- new_start + ladder_length[element_index]\n",
        "    }\n",
        "    new_ladder_start <- replace(ladder_start, element_index, new_start)\n",
        "    new_chute_start  <- chute_start  # Chute positions remain unchanged\n",
        "  } else {\n",
        "    element_index <- sample(length(chute_length), 1)\n",
        "    start <- 1 + chute_length[element_index]\n",
        "    end   <- 99\n",
        "    new_start <- sample(start:end, 1)  # Generate new starting position\n",
        "    new_end   <- new_start - chute_length[element_index]\n",
        "    while (new_start %in% c(ladder_start, ladder_end, chute_start, chute_end) ||\n",
        "           new_end %in% c(ladder_start, ladder_end, chute_start, chute_end)) {\n",
        "      new_start <- sample(start:end, 1)  # Regenerate if position is not valid\n",
        "      new_end   <- new_start - chute_length[element_index]\n",
        "    }\n",
        "    new_chute_start  <- replace(chute_start, element_index, new_start)\n",
        "    new_ladder_start <- ladder_start  # Ladder positions remain unchanged\n",
        "  }\n",
        "\n",
        "  # Return a list containing the new starting locations for ladders and chutes\n",
        "  return(list(new_ladder_start = new_ladder_start, new_chute_start = new_chute_start))\n",
        "}\n",
        "\n",
        "\n",
        "# Example usage:\n",
        "ladder_start <- c(36, 4, 51, 71, 80, 21, 9, 1, 28)\n",
        "chute_start <- c(56, 64, 16, 93, 95, 98, 48, 49, 62, 87)\n",
        "\n",
        "result <- propose_starting_locations(ladder_start, chute_start)\n",
        "new_ladder_start <- result$new_ladder_start\n",
        "new_chute_start <- result$new_chute_start\n",
        "\n",
        "# Print the new starting locations\n",
        "ladder_length <- c(8, 10, 16, 20, 20, 21, 22, 37, 56)\n",
        "chute_length <- c(3, 4, 10, 20, 20, 20, 22, 38, 43, 63)\n",
        "\n",
        "print(ladder_start)\n",
        "print(new_ladder_start)\n",
        "print(ladder_length)\n",
        "\n",
        "print(chute_start)\n",
        "print(new_chute_start)\n",
        "print(chute_length)\n",
        "\n"
      ],
      "metadata": {
        "colab": {
          "base_uri": "https://localhost:8080/"
        },
        "id": "Eos6BSEdCCTS",
        "outputId": "e4a7ddf4-0645-4e2d-ff34-faf3066d80cc"
      },
      "execution_count": 18,
      "outputs": [
        {
          "output_type": "stream",
          "name": "stdout",
          "text": [
            "[1] 36  4 51 71 80 21  9  1 28\n",
            "[1] 36  4 51 71 80  8  9  1 28\n",
            "[1]  8 10 16 20 20 21 22 37 56\n",
            " [1] 56 64 16 93 95 98 48 49 62 87\n",
            " [1] 56 64 16 93 95 98 48 49 62 87\n",
            " [1]  3  4 10 20 20 20 22 38 43 63\n"
          ]
        }
      ]
    },
    {
      "cell_type": "code",
      "source": [
        "%%R\n",
        "Pgame = make_board(new_ladder_start, new_chute_start, plot = FALSE)\n",
        "\n",
        "# Check that all row sums are 1\n",
        "Invalid_rows_n = which(!rowSums(Pgame) == 1)\n",
        "print(Invalid_rows_n)"
      ],
      "metadata": {
        "id": "vNbjQ8bPkzbL",
        "outputId": "f80355a3-3656-40d3-b765-39e9eef40735",
        "colab": {
          "base_uri": "https://localhost:8080/"
        }
      },
      "execution_count": 19,
      "outputs": [
        {
          "output_type": "stream",
          "name": "stdout",
          "text": [
            "integer(0)\n"
          ]
        }
      ]
    },
    {
      "cell_type": "code",
      "source": [
        "#run MCMC algorithm and find min E(T)\n",
        "%%R\n",
        "\n",
        "#start with original board\n",
        "ladder_start = c(36, 4, 51, 71, 80, 21, 9, 1, 28)\n",
        "chute_start = c(56, 64, 16, 93, 95, 98, 48, 49, 62, 87)\n",
        "Pgame = make_board(ladder_start, chute_start, plot = FALSE)\n",
        "\n",
        "mu = mean_time_to_absorption(Pgame)\n",
        "T_curr = mu[100,2]\n",
        "\n",
        "T_min = T_curr\n",
        "Pgame_min = Pgame\n",
        "\n",
        "\n",
        "#run simulation for number of steps and find min T\n",
        "sim_length = 10\n",
        "for (i in 1:sim_length){\n",
        "\n",
        "    #propose new board\n",
        "    result <- propose_starting_locations(ladder_start, chute_start)\n",
        "    new_ladder_start <- result$new_ladder_start\n",
        "    new_chute_start <- result$new_chute_start\n",
        "\n",
        "    #make the board and find T\n",
        "    Pgame = make_board(new_ladder_start, new_chute_start, plot = FALSE)\n",
        "    mu = mean_time_to_absorption(Pgame)\n",
        "    T_prop = mu[100,2]\n",
        "\n",
        "    #test if it is a minimum\n",
        "    if (T_prop < T_min)\n",
        "    {\n",
        "        T_min = T_prop\n",
        "        ladder_min = new_ladder_start\n",
        "        chute_min = new_chute_start\n",
        "    }\n",
        "\n",
        "    #determine acceptance probability and get determination\n",
        "    a = min((1/T_prop)/(1/T_curr),1)\n",
        "    action = sample(c(\"reject\", \"accept\"), 1, prob = c(1 - a, a))\n",
        "\n",
        "    if (action == \"accept\"){\n",
        "      ladder_start = new_ladder_start\n",
        "      chute_start = new_chute_start\n",
        "      T_curr = T_prop\n",
        "    }\n",
        "\n",
        "}"
      ],
      "metadata": {
        "id": "yxIv7OqO9FLv"
      },
      "execution_count": 20,
      "outputs": []
    },
    {
      "cell_type": "markdown",
      "source": [
        "####Comparison"
      ],
      "metadata": {
        "id": "1cv3owItrW8t"
      }
    },
    {
      "cell_type": "markdown",
      "source": [
        "Repeat Problem 1 for your optimal board, and compare the distribution of $T$ for your board to the one from the actual game. Write a few sentences summarizing your results."
      ],
      "metadata": {
        "id": "5c4z6sICugVx"
      }
    },
    {
      "cell_type": "code",
      "source": [
        "%%R\n",
        "Pgame_min = make_board(ladder_min, chute_min, plot = TRUE)\n"
      ],
      "metadata": {
        "id": "UwIjqXrEqF99",
        "outputId": "016f796e-90ef-4bb3-b9bf-49cb8e93adb9",
        "colab": {
          "base_uri": "https://localhost:8080/",
          "height": 497
        }
      },
      "execution_count": 21,
      "outputs": [
        {
          "output_type": "display_data",
          "data": {
            "image/png": "[encoded data removed]"
          },
          "metadata": {}
        }
      ]
    },
    {
      "cell_type": "code",
      "source": [
        "%%R\n",
        "# Check that all row sums are 1\n",
        "Invalid_rows_n = which(!rowSums(Pgame_min) == 1)\n",
        "print(Invalid_rows_n)"
      ],
      "metadata": {
        "id": "znyb63hzuecp",
        "colab": {
          "base_uri": "https://localhost:8080/"
        },
        "outputId": "1745fe75-e7d6-44b6-f024-9b92cd380b81"
      },
      "execution_count": 23,
      "outputs": [
        {
          "output_type": "stream",
          "name": "stdout",
          "text": [
            "integer(0)\n"
          ]
        }
      ]
    },
    {
      "cell_type": "markdown",
      "source": [
        "#####a."
      ],
      "metadata": {
        "id": "3X2T3qesrqM0"
      }
    },
    {
      "cell_type": "markdown",
      "source": [
        "Solve for $E(T)$ without first finding the distribution of $T$."
      ],
      "metadata": {
        "id": "XEZgkcAjqvIW"
      }
    },
    {
      "cell_type": "code",
      "source": [
        "%%R\n",
        "mu = mean_time_to_absorption(Pgame_min)\n",
        "T = mu[100,]\n",
        "print(T)"
      ],
      "metadata": {
        "id": "ZFc-_KbEqbir",
        "outputId": "a2e173db-292d-4c0d-8c45-d7b846d49bf8",
        "colab": {
          "base_uri": "https://localhost:8080/"
        }
      },
      "execution_count": 24,
      "outputs": [
        {
          "output_type": "stream",
          "name": "stdout",
          "text": [
            "    start_state mean_time_to_absorption\n",
            "100         101                33.02844\n"
          ]
        }
      ]
    },
    {
      "cell_type": "markdown",
      "source": [
        "#####b."
      ],
      "metadata": {
        "id": "u8zi1QKgruNT"
      }
    },
    {
      "cell_type": "markdown",
      "source": [
        "Solve for the exact distribution of $T$ and plot it.  Find $E(T)$ based on this distribution."
      ],
      "metadata": {
        "id": "C8gj7Bvcr2YD"
      }
    },
    {
      "cell_type": "code",
      "source": [
        "%%R\n",
        "T_pmf = pmf_of_time_to_absorption(Pgame_min, start_state = 101)\n",
        "\n",
        "T_pmf |> head(100)"
      ],
      "metadata": {
        "id": "sY_LavA6sO1m",
        "outputId": "c3f55856-4e19-4d29-d4fa-47553893bb0f",
        "colab": {
          "base_uri": "https://localhost:8080/"
        }
      },
      "execution_count": 25,
      "outputs": [
        {
          "output_type": "stream",
          "name": "stdout",
          "text": [
            "      n prob_absorb_at_time_n\n",
            "1     1          0.0000000000\n",
            "2     2          0.0000000000\n",
            "3     3          0.0000000000\n",
            "4     4          0.0007716049\n",
            "5     5          0.0030864198\n",
            "6     6          0.0080161180\n",
            "7     7          0.0109989426\n",
            "8     8          0.0112204218\n",
            "9     9          0.0115752648\n",
            "10   10          0.0143675532\n",
            "11   11          0.0189635662\n",
            "12   12          0.0225689295\n",
            "13   13          0.0239924305\n",
            "14   14          0.0245228764\n",
            "15   15          0.0254405357\n",
            "16   16          0.0267356374\n",
            "17   17          0.0278132949\n",
            "18   18          0.0283421043\n",
            "19   19          0.0284347524\n",
            "20   20          0.0283528100\n",
            "21   21          0.0281985658\n",
            "22   22          0.0278936758\n",
            "23   23          0.0273501458\n",
            "24   24          0.0265867291\n",
            "25   25          0.0257032422\n",
            "26   26          0.0247929020\n",
            "27   27          0.0238916683\n",
            "28   28          0.0229908500\n",
            "29   29          0.0220766115\n",
            "30   30          0.0211536913\n",
            "31   31          0.0202414607\n",
            "32   32          0.0193575819\n",
            "33   33          0.0185079747\n",
            "34   34          0.0176889726\n",
            "35   35          0.0168953940\n",
            "36   36          0.0161260382\n",
            "37   37          0.0153835057\n",
            "38   38          0.0146708840\n",
            "39   39          0.0139892125\n",
            "40   40          0.0133374062\n",
            "41   41          0.0127136961\n",
            "42   42          0.0121168500\n",
            "43   43          0.0115463344\n",
            "44   44          0.0110017642\n",
            "45   45          0.0104824031\n",
            "46   46          0.0099871217\n",
            "47   47          0.0095146790\n",
            "48   48          0.0090639882\n",
            "49   49          0.0086341700\n",
            "50   50          0.0082244408\n",
            "51   51          0.0078339927\n",
            "52   52          0.0074619619\n",
            "53   53          0.0071074751\n",
            "54   54          0.0067697043\n",
            "55   55          0.0064478851\n",
            "56   56          0.0061412996\n",
            "57   57          0.0058492526\n",
            "58   58          0.0055710633\n",
            "59   59          0.0053060727\n",
            "60   60          0.0050536542\n",
            "61   61          0.0048132163\n",
            "62   62          0.0045841989\n",
            "63   63          0.0043660669\n",
            "64   64          0.0041583062\n",
            "65   65          0.0039604247\n",
            "66   66          0.0037719528\n",
            "67   67          0.0035924442\n",
            "68   68          0.0034214742\n",
            "69   69          0.0032586381\n",
            "70   70          0.0031035497\n",
            "71   71          0.0029558405\n",
            "72   72          0.0028151595\n",
            "73   73          0.0026811725\n",
            "74   74          0.0025535615\n",
            "75   75          0.0024320233\n",
            "76   76          0.0023162693\n",
            "77   77          0.0022060243\n",
            "78   78          0.0021010260\n",
            "79   79          0.0020010250\n",
            "80   80          0.0019057833\n",
            "81   81          0.0018150746\n",
            "82   82          0.0017286832\n",
            "83   83          0.0016464036\n",
            "84   84          0.0015680402\n",
            "85   85          0.0014934065\n",
            "86   86          0.0014223250\n",
            "87   87          0.0013546268\n",
            "88   88          0.0012901507\n",
            "89   89          0.0012287435\n",
            "90   90          0.0011702591\n",
            "91   91          0.0011145583\n",
            "92   92          0.0010615087\n",
            "93   93          0.0010109840\n",
            "94   94          0.0009628642\n",
            "95   95          0.0009170348\n",
            "96   96          0.0008733866\n",
            "97   97          0.0008318160\n",
            "98   98          0.0007922240\n",
            "99   99          0.0007545165\n",
            "100 100          0.0007186038\n"
          ]
        }
      ]
    },
    {
      "cell_type": "code",
      "source": [
        "%%R\n",
        "library(tidyverse)\n",
        "\n",
        "ggplot(T_pmf |>\n",
        "         filter(prob_absorb_at_time_n > 0),\n",
        "       aes(x = n,\n",
        "           y = prob_absorb_at_time_n)) +\n",
        "  geom_line(linewidth = 1)"
      ],
      "metadata": {
        "id": "hHh4u1Q5sPuv",
        "outputId": "da0f2138-bd87-4b6c-cd66-44ceb8814f50",
        "colab": {
          "base_uri": "https://localhost:8080/",
          "height": 497
        }
      },
      "execution_count": 26,
      "outputs": [
        {
          "output_type": "display_data",
          "data": {
            "image/png": "[encoded data removed]"
          },
          "metadata": {}
        }
      ]
    },
    {
      "cell_type": "code",
      "source": [
        "%%R\n",
        "sum(T_pmf[, 1] * T_pmf[, 2])"
      ],
      "metadata": {
        "id": "wKzK7aKrsWmE",
        "outputId": "04a9de2b-68d6-42ca-afc2-cca0c75268db",
        "colab": {
          "base_uri": "https://localhost:8080/"
        }
      },
      "execution_count": 27,
      "outputs": [
        {
          "output_type": "stream",
          "name": "stdout",
          "text": [
            "[1] 33.02814\n"
          ]
        }
      ]
    },
    {
      "cell_type": "markdown",
      "source": [
        "#####c."
      ],
      "metadata": {
        "id": "8eUT59tlrvo9"
      }
    },
    {
      "cell_type": "markdown",
      "source": [
        "Write code to run the chain and simulate the distribution of $T$. Plot the simulated distribution, use it to estimate the expected value."
      ],
      "metadata": {
        "id": "QB7xm3eAr3TV"
      }
    },
    {
      "cell_type": "code",
      "source": [
        "%%R\n",
        "pi0 <- rep(0, 101)\n",
        "pi0[101] <- 1\n",
        "\n",
        "absorbing_states = which(diag(Pgame_min) == 1)\n",
        "\n",
        "n_rep = 10000\n",
        "time_to_absorption = rep(NA, n_rep)\n",
        "\n",
        "for (i in 1:n_rep) {\n",
        "  x = simulate_single_DTMC_path(pi0, Pgame, last_time = 200)\n",
        "  time_to_absorption[i] = min(which(x %in% absorbing_states))\n",
        "}\n",
        "\n",
        "hist(time_to_absorption)"
      ],
      "metadata": {
        "id": "8yhIj26Hqfhg",
        "outputId": "da774d2e-9176-42b3-e8c4-3afe99bbdecd",
        "colab": {
          "base_uri": "https://localhost:8080/",
          "height": 497
        }
      },
      "execution_count": 28,
      "outputs": [
        {
          "output_type": "display_data",
          "data": {
            "image/png": "[encoded data removed]"
          },
          "metadata": {}
        }
      ]
    },
    {
      "cell_type": "code",
      "source": [
        "%%R\n",
        "summary(time_to_absorption)"
      ],
      "metadata": {
        "id": "9IF459zxsktp",
        "outputId": "eb285719-0dc9-4564-a7b6-8ebd537682f9",
        "colab": {
          "base_uri": "https://localhost:8080/"
        }
      },
      "execution_count": 29,
      "outputs": [
        {
          "output_type": "stream",
          "name": "stdout",
          "text": [
            "   Min. 1st Qu.  Median    Mean 3rd Qu.    Max. \n",
            "      5      20      29     Inf      43     Inf \n"
          ]
        }
      ]
    }
  ]
}