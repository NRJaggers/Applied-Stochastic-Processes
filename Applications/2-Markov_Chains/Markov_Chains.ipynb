{
  "nbformat": 4,
  "nbformat_minor": 0,
  "metadata": {
    "colab": {
      "provenance": [],
      "include_colab_link": true
    },
    "kernelspec": {
      "name": "python3",
      "display_name": "Python 3"
    },
    "language_info": {
      "name": "python"
    }
  },
  "cells": [
    {
      "cell_type": "markdown",
      "metadata": {
        "id": "view-in-github",
        "colab_type": "text"
      },
      "source": [
        "<a href=\"https://colab.research.google.com/github/NRJaggers/Applied-Stochastic-Processes/blob/main/Applications/2-Markov_Chains/Markov_Chains.ipynb\" target=\"_parent\"><img src=\"https://colab.research.google.com/assets/colab-badge.svg\" alt=\"Open In Colab\"/></a>"
      ]
    },
    {
      "cell_type": "markdown",
      "source": [
        "#Markov Chains\n"
      ],
      "metadata": {
        "id": "lwN5bYfDW66u"
      }
    },
    {
      "cell_type": "markdown",
      "source": [
        "---\n",
        "\n",
        "## Prompt"
      ],
      "metadata": {
        "id": "Bh1go0uHXDqq"
      }
    },
    {
      "cell_type": "markdown",
      "source": [
        "Original Prompt can be found [here](https://bookdown.org/kevin_davisross/applied-stochastic-processes/app-mc.html). A copy of the prompt along with the completed exercise can be found under [/Applications](https://github.com/NRJaggers/Applied-Stochastic-Processes/tree/main/Applications)."
      ],
      "metadata": {
        "id": "DJpcnN9AXHGQ"
      }
    },
    {
      "cell_type": "markdown",
      "source": [
        "## Summary"
      ],
      "metadata": {
        "id": "viNFOY1aVoHj"
      }
    },
    {
      "cell_type": "markdown",
      "source": [
        "Every day for lunch you have either a \\\\$9 sandwich (state 1), a \\\\$7 burrito (state 2), or a \\\\$5 pizza (state 3). Suppose your lunch choices from one day to the next follow a Markov chain with transition matrix. You start out with eating pizza on Monday (Day 0).\n",
        "\n",
        "$$\n",
        "\\mathbf{P} =\n",
        "\\begin{bmatrix}\n",
        "0 & 0.5 & 0.5\\\\\n",
        "0.1 & 0.4 & 0.5\\\\\n",
        "0.2 & 0.3 & 0.5\n",
        "\\end{bmatrix}\n",
        "$$"
      ],
      "metadata": {
        "id": "rRMcoE22VxEV"
      }
    },
    {
      "cell_type": "markdown",
      "source": [
        "$T$ = the first day you have a sandwich.\n",
        "\n",
        "$V$ = the number of days you have a burrito this five-day work week.\n",
        "\n",
        "$X_n$ = the cost of your lunch on day $n$.\n",
        "\n",
        "$W = X_0 + \\cdots + X_4$ = the total lunch cost for this five-day work week."
      ],
      "metadata": {
        "id": "iAekTUZvXZmt"
      }
    },
    {
      "cell_type": "markdown",
      "source": [
        "---\n",
        "\n",
        "## Application"
      ],
      "metadata": {
        "id": "GXUWHhYNXK3F"
      }
    },
    {
      "cell_type": "code",
      "source": [
        "pip install symbulate"
      ],
      "metadata": {
        "colab": {
          "base_uri": "https://localhost:8080/"
        },
        "id": "FDL4XKtWeOJY",
        "outputId": "5febbf8f-3f72-4fd8-c134-c3c2454fac78"
      },
      "execution_count": 1,
      "outputs": [
        {
          "output_type": "stream",
          "name": "stdout",
          "text": [
            "Requirement already satisfied: symbulate in /usr/local/lib/python3.10/dist-packages (0.5.7)\n",
            "Requirement already satisfied: numpy in /usr/local/lib/python3.10/dist-packages (from symbulate) (1.23.5)\n",
            "Requirement already satisfied: scipy in /usr/local/lib/python3.10/dist-packages (from symbulate) (1.11.4)\n",
            "Requirement already satisfied: matplotlib in /usr/local/lib/python3.10/dist-packages (from symbulate) (3.7.1)\n",
            "Requirement already satisfied: contourpy>=1.0.1 in /usr/local/lib/python3.10/dist-packages (from matplotlib->symbulate) (1.2.0)\n",
            "Requirement already satisfied: cycler>=0.10 in /usr/local/lib/python3.10/dist-packages (from matplotlib->symbulate) (0.12.1)\n",
            "Requirement already satisfied: fonttools>=4.22.0 in /usr/local/lib/python3.10/dist-packages (from matplotlib->symbulate) (4.47.2)\n",
            "Requirement already satisfied: kiwisolver>=1.0.1 in /usr/local/lib/python3.10/dist-packages (from matplotlib->symbulate) (1.4.5)\n",
            "Requirement already satisfied: packaging>=20.0 in /usr/local/lib/python3.10/dist-packages (from matplotlib->symbulate) (23.2)\n",
            "Requirement already satisfied: pillow>=6.2.0 in /usr/local/lib/python3.10/dist-packages (from matplotlib->symbulate) (9.4.0)\n",
            "Requirement already satisfied: pyparsing>=2.3.1 in /usr/local/lib/python3.10/dist-packages (from matplotlib->symbulate) (3.1.1)\n",
            "Requirement already satisfied: python-dateutil>=2.7 in /usr/local/lib/python3.10/dist-packages (from matplotlib->symbulate) (2.8.2)\n",
            "Requirement already satisfied: six>=1.5 in /usr/local/lib/python3.10/dist-packages (from python-dateutil>=2.7->matplotlib->symbulate) (1.16.0)\n"
          ]
        }
      ]
    },
    {
      "cell_type": "code",
      "source": [
        "from symbulate import *\n",
        "%matplotlib inline"
      ],
      "metadata": {
        "id": "DRa6MBIIeStw"
      },
      "execution_count": 2,
      "outputs": []
    },
    {
      "cell_type": "markdown",
      "source": [
        "###1."
      ],
      "metadata": {
        "id": "NnOccgJbXbpb"
      }
    },
    {
      "cell_type": "markdown",
      "source": [
        "Approximate the marginal distribution, along with the expected value and standard deviation, of each of the following:\n",
        "$$X_4 \\qquad T \\qquad V \\qquad W$$"
      ],
      "metadata": {
        "id": "Bie-FedhZfqA"
      }
    },
    {
      "cell_type": "code",
      "source": [
        "#Set up markov chain\n",
        "states = [9, 7, 5]\n",
        "\n",
        "TransitionMatrix = [[0, 0.5, 0.5],\n",
        "                   [0.1, 0.4, 0.5],\n",
        "                   [0.2, 0.3, 0.5]]\n",
        "\n",
        "InitialDistribution = [0, 0, 1] # pizza on the Monday\n",
        "\n",
        "X = MarkovChain(TransitionMatrix, InitialDistribution, states)\n",
        "\n",
        "#define any other simulation parameters\n",
        "n_sims = 10000\n",
        "days_in_week = 5 # Friday is day 4"
      ],
      "metadata": {
        "id": "bEFjHTk0eYc_"
      },
      "execution_count": 3,
      "outputs": []
    },
    {
      "cell_type": "markdown",
      "source": [
        "$X_4$"
      ],
      "metadata": {
        "id": "5cXUqG6yaPQw"
      }
    },
    {
      "cell_type": "code",
      "source": [
        "#run simulation and generate results\n",
        "results = X.sim(10000)\n",
        "results[4].tabulate()"
      ],
      "metadata": {
        "colab": {
          "base_uri": "https://localhost:8080/",
          "height": 126
        },
        "id": "s7QY0hLKeLr3",
        "outputId": "90c5f375-889c-4bf9-db3e-5e314e407248"
      },
      "execution_count": 4,
      "outputs": [
        {
          "output_type": "execute_result",
          "data": {
            "text/plain": [
              "Value Frequency\n",
              "5     4908\n",
              "7     3650\n",
              "9     1442\n",
              "Total 10000"
            ],
            "text/html": [
              "\n",
              "<table>\n",
              "  <thead>\n",
              "    <th width=\"80%\">Value</th>\n",
              "    <th width=\"20%\">Frequency</th>\n",
              "  </thead>\n",
              "  <tbody>\n",
              "    <tr><td>5</td><td>4908</td></tr><tr><td>7</td><td>3650</td></tr><tr><td>9</td><td>1442</td></tr><tr><td><b>Total</b></td><td><b>10000</b></td></tr>\n",
              "  </tbody>\n",
              "</table>\n"
            ]
          },
          "metadata": {},
          "execution_count": 4
        }
      ]
    },
    {
      "cell_type": "code",
      "source": [
        "results[4].tabulate(normalize=True)"
      ],
      "metadata": {
        "colab": {
          "base_uri": "https://localhost:8080/",
          "height": 126
        },
        "id": "aX2l-DiYkwOw",
        "outputId": "c5389690-f324-4b62-d4f2-9b1788a85521"
      },
      "execution_count": 5,
      "outputs": [
        {
          "output_type": "execute_result",
          "data": {
            "text/plain": [
              "Value Relative Frequency\n",
              "5     0.4908\n",
              "7     0.365\n",
              "9     0.1442\n",
              "Total 1.0"
            ],
            "text/html": [
              "\n",
              "<table>\n",
              "  <thead>\n",
              "    <th width=\"80%\">Value</th>\n",
              "    <th width=\"20%\">Relative Frequency</th>\n",
              "  </thead>\n",
              "  <tbody>\n",
              "    <tr><td>5</td><td>0.4908</td></tr><tr><td>7</td><td>0.365</td></tr><tr><td>9</td><td>0.1442</td></tr><tr><td><b>Total</b></td><td><b>1.0</b></td></tr>\n",
              "  </tbody>\n",
              "</table>\n"
            ]
          },
          "metadata": {},
          "execution_count": 5
        }
      ]
    },
    {
      "cell_type": "code",
      "source": [
        "results[4].plot()"
      ],
      "metadata": {
        "colab": {
          "base_uri": "https://localhost:8080/",
          "height": 430
        },
        "id": "jTVucR_Qqens",
        "outputId": "984a5df8-1be5-418e-952f-87c44e7a1d0d"
      },
      "execution_count": 6,
      "outputs": [
        {
          "output_type": "display_data",
          "data": {
            "text/plain": [
              "<Figure size 640x480 with 1 Axes>"
            ],
            "image/png": "[encoded data removed]"
          },
          "metadata": {}
        }
      ]
    },
    {
      "cell_type": "markdown",
      "source": [
        "From the plot we can see the distribution of the cost of lunch on Friday. Half the time we are spending \\$5 on pizza , while closly behind that we are spending \\$7 on burritos. It is every so often that we splurge on a \\$9 sandwitch."
      ],
      "metadata": {
        "id": "qQJld0tRq5O0"
      }
    },
    {
      "cell_type": "code",
      "source": [
        "#calculate and present expected value\n",
        "ev = results[4].mean()\n",
        "\n",
        "print(\"The expected value is ${:.2f}\".format(ev))"
      ],
      "metadata": {
        "colab": {
          "base_uri": "https://localhost:8080/"
        },
        "id": "71EAVrOvkK9T",
        "outputId": "abc955a9-965e-4a86-e3c4-bd4613f23040"
      },
      "execution_count": 7,
      "outputs": [
        {
          "output_type": "stream",
          "name": "stdout",
          "text": [
            "The expected value is $6.31\n"
          ]
        }
      ]
    },
    {
      "cell_type": "code",
      "source": [
        "#calculate and present standard deviation\n",
        "std_dev = results[4].std()\n",
        "\n",
        "print(\"The standard deviation is ${:.2f}\".format(std_dev))"
      ],
      "metadata": {
        "colab": {
          "base_uri": "https://localhost:8080/"
        },
        "id": "DjPCddxHo-fT",
        "outputId": "f849bb1e-1f60-42ff-f9ad-c4b7da00aed1"
      },
      "execution_count": 8,
      "outputs": [
        {
          "output_type": "stream",
          "name": "stdout",
          "text": [
            "The standard deviation is $1.44\n"
          ]
        }
      ]
    },
    {
      "cell_type": "markdown",
      "source": [
        "$T$"
      ],
      "metadata": {
        "id": "bIrvJbaVaP_j"
      }
    },
    {
      "cell_type": "code",
      "source": [
        "def first_sando(x):\n",
        "  day = 1;\n",
        "  while(x[day] != 9):\n",
        "    day += 1\n",
        "  return day\n",
        "\n",
        "T = results.apply(first_sando)\n",
        "T.tabulate()"
      ],
      "metadata": {
        "colab": {
          "base_uri": "https://localhost:8080/",
          "height": 510
        },
        "id": "A_M0n_O5zMgR",
        "outputId": "68132da5-e210-4a6e-b86a-5ef266c571cf"
      },
      "execution_count": 9,
      "outputs": [
        {
          "output_type": "execute_result",
          "data": {
            "text/plain": [
              "Value Frequency\n",
              "1     1976\n",
              "2     1312\n",
              "3     1102\n",
              "4     943\n",
              "5     756\n",
              "6     620\n",
              "7     539\n",
              "8     418\n",
              "9     395\n",
              "10    284\n",
              "11    243\n",
              "12    202\n",
              "13    196\n",
              "14    163\n",
              "15    123\n",
              "16    106\n",
              "17    90\n",
              "18    80\n",
              "19    83\n",
              "..    .\n",
              "56    1\n",
              "Total 10000"
            ],
            "text/html": [
              "\n",
              "<table>\n",
              "  <thead>\n",
              "    <th width=\"80%\">Value</th>\n",
              "    <th width=\"20%\">Frequency</th>\n",
              "  </thead>\n",
              "  <tbody>\n",
              "    <tr><td>1</td><td>1976</td></tr><tr><td>2</td><td>1312</td></tr><tr><td>3</td><td>1102</td></tr><tr><td>4</td><td>943</td></tr><tr><td>5</td><td>756</td></tr><tr><td>6</td><td>620</td></tr><tr><td>7</td><td>539</td></tr><tr><td>8</td><td>418</td></tr><tr><td>9</td><td>395</td></tr><tr><td>10</td><td>284</td></tr><tr><td>11</td><td>243</td></tr><tr><td>12</td><td>202</td></tr><tr><td>13</td><td>196</td></tr><tr><td>14</td><td>163</td></tr><tr><td>15</td><td>123</td></tr><tr><td>16</td><td>106</td></tr><tr><td>17</td><td>90</td></tr><tr><td>18</td><td>80</td></tr><tr><td>19</td><td>83</td></tr><tr><td>...</td><td>...</td></tr><tr><td>56</td><td>1</td></tr><tr><td><b>Total</b></td><td><b>10000</b></td></tr>\n",
              "  </tbody>\n",
              "</table>\n"
            ]
          },
          "metadata": {},
          "execution_count": 9
        }
      ]
    },
    {
      "cell_type": "code",
      "source": [
        "T.plot()"
      ],
      "metadata": {
        "colab": {
          "base_uri": "https://localhost:8080/",
          "height": 430
        },
        "id": "qyipEj_C2ZxD",
        "outputId": "b87b672b-4eee-4aa1-9e38-ddbd8cf57ff4"
      },
      "execution_count": 10,
      "outputs": [
        {
          "output_type": "display_data",
          "data": {
            "text/plain": [
              "<Figure size 640x480 with 1 Axes>"
            ],
            "image/png": "[encoded data removed]"
          },
          "metadata": {}
        }
      ]
    },
    {
      "cell_type": "markdown",
      "source": [
        "From this plot we can see that the distribution of first sandwitch day is skewed. We are very likey to have a sandwitch within the first few days, but it is possible to go a few weeks without having the first one."
      ],
      "metadata": {
        "id": "bQHSczz92pCw"
      }
    },
    {
      "cell_type": "code",
      "source": [
        "#calculate and present expected value\n",
        "ev = T.mean()\n",
        "\n",
        "print(\"The expected value is {:.2f} days\".format(ev))"
      ],
      "metadata": {
        "colab": {
          "base_uri": "https://localhost:8080/"
        },
        "id": "ksnRyuHu3LLB",
        "outputId": "82a8462b-d164-4427-dc90-2c19bdb90123"
      },
      "execution_count": 11,
      "outputs": [
        {
          "output_type": "stream",
          "name": "stdout",
          "text": [
            "The expected value is 6.00 days\n"
          ]
        }
      ]
    },
    {
      "cell_type": "code",
      "source": [
        "#calculate and present standard deviation\n",
        "std_dev = T.std()\n",
        "\n",
        "print(\"The standard deviation is {:.2f} days\".format(std_dev))"
      ],
      "metadata": {
        "colab": {
          "base_uri": "https://localhost:8080/"
        },
        "id": "uFdtlEzb300z",
        "outputId": "43efc835-0762-420d-e264-d9ddbee3469b"
      },
      "execution_count": 12,
      "outputs": [
        {
          "output_type": "stream",
          "name": "stdout",
          "text": [
            "The standard deviation is 5.75 days\n"
          ]
        }
      ]
    },
    {
      "cell_type": "markdown",
      "source": [
        "$V$"
      ],
      "metadata": {
        "id": "HmKvDOLFaQW0"
      }
    },
    {
      "cell_type": "code",
      "source": [
        "def burrito_count(x):\n",
        "  count = 0\n",
        "  for day in range(1,days_in_week):\n",
        "    if x[day] == 7:\n",
        "      count +=1\n",
        "\n",
        "  return count\n",
        "\n",
        "V = results.apply(burrito_count)\n",
        "V.tabulate()"
      ],
      "metadata": {
        "colab": {
          "base_uri": "https://localhost:8080/",
          "height": 168
        },
        "id": "kU7auS__4mH6",
        "outputId": "9146e5b7-5a0f-46e6-de26-b2e6d06fc8c3"
      },
      "execution_count": 13,
      "outputs": [
        {
          "output_type": "execute_result",
          "data": {
            "text/plain": [
              "Value Frequency\n",
              "0     1886\n",
              "1     3770\n",
              "2     3045\n",
              "3     1123\n",
              "4     176\n",
              "Total 10000"
            ],
            "text/html": [
              "\n",
              "<table>\n",
              "  <thead>\n",
              "    <th width=\"80%\">Value</th>\n",
              "    <th width=\"20%\">Frequency</th>\n",
              "  </thead>\n",
              "  <tbody>\n",
              "    <tr><td>0</td><td>1886</td></tr><tr><td>1</td><td>3770</td></tr><tr><td>2</td><td>3045</td></tr><tr><td>3</td><td>1123</td></tr><tr><td>4</td><td>176</td></tr><tr><td><b>Total</b></td><td><b>10000</b></td></tr>\n",
              "  </tbody>\n",
              "</table>\n"
            ]
          },
          "metadata": {},
          "execution_count": 13
        }
      ]
    },
    {
      "cell_type": "code",
      "source": [
        "V.plot()"
      ],
      "metadata": {
        "colab": {
          "base_uri": "https://localhost:8080/",
          "height": 430
        },
        "id": "Rg1hdbEG5qfN",
        "outputId": "c87a72e3-47d7-4499-a64d-bee3d10d959b"
      },
      "execution_count": 14,
      "outputs": [
        {
          "output_type": "display_data",
          "data": {
            "text/plain": [
              "<Figure size 640x480 with 1 Axes>"
            ],
            "image/png": "[encoded data removed]"
          },
          "metadata": {}
        }
      ]
    },
    {
      "cell_type": "markdown",
      "source": [
        "This plot of our burrito count distribution is showing how it is likely we will have at least 1 or 2 burritos in this week but less likely we will have all burritos after one day of pizza or no burritos at all."
      ],
      "metadata": {
        "id": "NtbzB7_V5xi7"
      }
    },
    {
      "cell_type": "code",
      "source": [
        "#calculate and present expected value\n",
        "ev = V.mean()\n",
        "\n",
        "print(\"The expected value is {:.2f} burritos\".format(ev))"
      ],
      "metadata": {
        "colab": {
          "base_uri": "https://localhost:8080/"
        },
        "id": "76bnni7L6RRK",
        "outputId": "273e0ed7-79b7-45a6-f61e-27724a116f74"
      },
      "execution_count": 15,
      "outputs": [
        {
          "output_type": "stream",
          "name": "stdout",
          "text": [
            "The expected value is 1.39 burritos\n"
          ]
        }
      ]
    },
    {
      "cell_type": "code",
      "source": [
        "#calculate and present standard deviation\n",
        "std_dev = V.std()\n",
        "\n",
        "print(\"The standard deviation is {:.2f} burritos\".format(std_dev))"
      ],
      "metadata": {
        "colab": {
          "base_uri": "https://localhost:8080/"
        },
        "id": "mNXWr1Nk6QnT",
        "outputId": "fe71139c-2505-4e4e-bd5f-4b0ef026c26e"
      },
      "execution_count": 16,
      "outputs": [
        {
          "output_type": "stream",
          "name": "stdout",
          "text": [
            "The standard deviation is 0.97 burritos\n"
          ]
        }
      ]
    },
    {
      "cell_type": "markdown",
      "source": [
        "$W$"
      ],
      "metadata": {
        "id": "GV9ESMvgaQrQ"
      }
    },
    {
      "cell_type": "code",
      "source": [
        "W = (X[0] + X[1] + X[2] + X[3] + X[4]).sim(10000)\n",
        "W.tabulate()"
      ],
      "metadata": {
        "colab": {
          "base_uri": "https://localhost:8080/",
          "height": 211
        },
        "id": "X9Wl_RrW6d_V",
        "outputId": "7f22f6c6-0ac2-4572-824f-b2a57ca5725b"
      },
      "execution_count": 17,
      "outputs": [
        {
          "output_type": "execute_result",
          "data": {
            "text/plain": [
              "Value Frequency\n",
              "25    624\n",
              "27    1509\n",
              "29    2588\n",
              "31    2718\n",
              "33    1750\n",
              "35    702\n",
              "37    109\n",
              "Total 10000"
            ],
            "text/html": [
              "\n",
              "<table>\n",
              "  <thead>\n",
              "    <th width=\"80%\">Value</th>\n",
              "    <th width=\"20%\">Frequency</th>\n",
              "  </thead>\n",
              "  <tbody>\n",
              "    <tr><td>25</td><td>624</td></tr><tr><td>27</td><td>1509</td></tr><tr><td>29</td><td>2588</td></tr><tr><td>31</td><td>2718</td></tr><tr><td>33</td><td>1750</td></tr><tr><td>35</td><td>702</td></tr><tr><td>37</td><td>109</td></tr><tr><td><b>Total</b></td><td><b>10000</b></td></tr>\n",
              "  </tbody>\n",
              "</table>\n"
            ]
          },
          "metadata": {},
          "execution_count": 17
        }
      ]
    },
    {
      "cell_type": "code",
      "source": [
        "W.plot()"
      ],
      "metadata": {
        "colab": {
          "base_uri": "https://localhost:8080/",
          "height": 430
        },
        "id": "l4WWwKPb8Xej",
        "outputId": "c56f4036-d899-42c6-a46e-4ad5cef3c8cd"
      },
      "execution_count": 18,
      "outputs": [
        {
          "output_type": "display_data",
          "data": {
            "text/plain": [
              "<Figure size 640x480 with 1 Axes>"
            ],
            "image/png": "[encoded data removed]"
          },
          "metadata": {}
        }
      ]
    },
    {
      "cell_type": "markdown",
      "source": [
        "This distribution shows how the cost of lunches this week is likely to hover around \\$29-\\$39."
      ],
      "metadata": {
        "id": "peptxzn18bqm"
      }
    },
    {
      "cell_type": "code",
      "source": [
        "#calculate and present expected value\n",
        "ev = W.mean()\n",
        "\n",
        "print(\"The expected value is ${:.2f} for lunch this week\".format(ev))"
      ],
      "metadata": {
        "colab": {
          "base_uri": "https://localhost:8080/"
        },
        "id": "492v6zyI80z2",
        "outputId": "3a1db4a8-9a4c-4976-a684-cc90c708c8e1"
      },
      "execution_count": 19,
      "outputs": [
        {
          "output_type": "stream",
          "name": "stdout",
          "text": [
            "The expected value is $30.20 for lunch this week\n"
          ]
        }
      ]
    },
    {
      "cell_type": "code",
      "source": [
        "#calculate and present standard deviation\n",
        "std_dev = W.std()\n",
        "\n",
        "print(\"The standard deviation is ${:.2f} for lunch this week\".format(std_dev))"
      ],
      "metadata": {
        "colab": {
          "base_uri": "https://localhost:8080/"
        },
        "id": "fFE_Qc8F86_A",
        "outputId": "02e1bca3-7e88-461d-ee6d-2baafe92a615"
      },
      "execution_count": 20,
      "outputs": [
        {
          "output_type": "stream",
          "name": "stdout",
          "text": [
            "The standard deviation is $2.70 for lunch this week\n"
          ]
        }
      ]
    },
    {
      "cell_type": "markdown",
      "source": [
        "###2."
      ],
      "metadata": {
        "id": "Q7rf4pt0ZizL"
      }
    },
    {
      "cell_type": "markdown",
      "source": [
        "Approximate the joint distribution, along with the correlation, of each of the following:\n",
        "$$X_4 \\text{ and } X_5$$\n",
        "$$T \\text{ and } V$$\n",
        "$$T \\text{ and } W$$\n",
        "$$W \\text{ and } V$$\n"
      ],
      "metadata": {
        "id": "AJFMjtvqZq5n"
      }
    },
    {
      "cell_type": "markdown",
      "source": [
        "$X_4$ and $X_5$"
      ],
      "metadata": {
        "id": "oPTzzE3XahRF"
      }
    },
    {
      "cell_type": "code",
      "source": [
        "result = (X[4] & X[5]).sim(10000)\n",
        "result.tabulate(normalize = True)"
      ],
      "metadata": {
        "id": "zXWhg9v8A98h",
        "outputId": "97014c7c-236d-4d64-aef6-4a2e3cc4d412",
        "colab": {
          "base_uri": "https://localhost:8080/",
          "height": 233
        }
      },
      "execution_count": 21,
      "outputs": [
        {
          "output_type": "execute_result",
          "data": {
            "text/plain": [
              "Value  Relative Frequency\n",
              "(5, 5) 0.2533\n",
              "(5, 7) 0.1529\n",
              "(5, 9) 0.0993\n",
              "(7, 5) 0.1796\n",
              "(7, 7) 0.1438\n",
              "(7, 9) 0.0339\n",
              "(9, 5) 0.0661\n",
              "(9, 7) 0.0711\n",
              " Total 1.0000000000000002"
            ],
            "text/html": [
              "\n",
              "<table>\n",
              "  <thead>\n",
              "    <th width=\"80%\">Value</th>\n",
              "    <th width=\"20%\">Relative Frequency</th>\n",
              "  </thead>\n",
              "  <tbody>\n",
              "    <tr><td>(5, 5)</td><td>0.2533</td></tr><tr><td>(5, 7)</td><td>0.1529</td></tr><tr><td>(5, 9)</td><td>0.0993</td></tr><tr><td>(7, 5)</td><td>0.1796</td></tr><tr><td>(7, 7)</td><td>0.1438</td></tr><tr><td>(7, 9)</td><td>0.0339</td></tr><tr><td>(9, 5)</td><td>0.0661</td></tr><tr><td>(9, 7)</td><td>0.0711</td></tr><tr><td><b>Total</b></td><td><b>1.0000000000000002</b></td></tr>\n",
              "  </tbody>\n",
              "</table>\n"
            ]
          },
          "metadata": {},
          "execution_count": 21
        }
      ]
    },
    {
      "cell_type": "code",
      "source": [
        "result.plot(type=\"tile\")"
      ],
      "metadata": {
        "id": "qjVn4HaLBsGf",
        "outputId": "9c880154-cd22-43f6-a132-c5abdb7d0d18",
        "colab": {
          "base_uri": "https://localhost:8080/",
          "height": 440
        }
      },
      "execution_count": 22,
      "outputs": [
        {
          "output_type": "display_data",
          "data": {
            "text/plain": [
              "<Figure size 640x480 with 2 Axes>"
            ],
            "image/png": "[encoded data removed]"
          },
          "metadata": {}
        }
      ]
    },
    {
      "cell_type": "markdown",
      "source": [
        "This tile plot shows us how the cost of lunch varies from Friday to next Monday jointly."
      ],
      "metadata": {
        "id": "LdvHrStpCYqu"
      }
    },
    {
      "cell_type": "code",
      "source": [
        "correlation = result.corr()\n",
        "\n",
        "print(\"The correlation between the price of lunch of the two days is {:.4f}\".format(correlation))"
      ],
      "metadata": {
        "id": "7ObzzKbfDG4e",
        "outputId": "5c3ca476-8daf-4065-d607-f4e8d04990a2",
        "colab": {
          "base_uri": "https://localhost:8080/"
        }
      },
      "execution_count": 23,
      "outputs": [
        {
          "output_type": "stream",
          "name": "stdout",
          "text": [
            "The correlation between the price of lunch of the two days is -0.0931\n"
          ]
        }
      ]
    },
    {
      "cell_type": "markdown",
      "source": [
        "$T$ and $V$"
      ],
      "metadata": {
        "id": "6BDiaUMNahKl"
      }
    },
    {
      "cell_type": "code",
      "source": [
        "T_V = (X.apply(first_sando) & X.apply(burrito_count)).sim(10000)\n",
        "T_V.tabulate()"
      ],
      "metadata": {
        "id": "pB3v6MYyEDRY",
        "outputId": "adbacb6a-a8e5-452d-f2c6-361db01eea42",
        "colab": {
          "base_uri": "https://localhost:8080/",
          "height": 510
        }
      },
      "execution_count": 24,
      "outputs": [
        {
          "output_type": "execute_result",
          "data": {
            "text/plain": [
              "Value   Frequency\n",
              "(1, 0)  460\n",
              "(1, 1)  836\n",
              "(1, 2)  568\n",
              "(1, 3)  167\n",
              "(2, 0)  353\n",
              "(2, 1)  521\n",
              "(2, 2)  334\n",
              "(2, 3)  62\n",
              "(3, 0)  252\n",
              "(3, 1)  493\n",
              "(3, 2)  269\n",
              "(3, 3)  66\n",
              "(4, 0)  253\n",
              "(4, 1)  374\n",
              "(4, 2)  211\n",
              "(4, 3)  45\n",
              "(5, 0)  115\n",
              "(5, 1)  266\n",
              "(5, 2)  202\n",
              ".......  .\n",
              "(59, 0)  1\n",
              "  Total 10000"
            ],
            "text/html": [
              "\n",
              "<table>\n",
              "  <thead>\n",
              "    <th width=\"80%\">Value</th>\n",
              "    <th width=\"20%\">Frequency</th>\n",
              "  </thead>\n",
              "  <tbody>\n",
              "    <tr><td>(1, 0)</td><td>460</td></tr><tr><td>(1, 1)</td><td>836</td></tr><tr><td>(1, 2)</td><td>568</td></tr><tr><td>(1, 3)</td><td>167</td></tr><tr><td>(2, 0)</td><td>353</td></tr><tr><td>(2, 1)</td><td>521</td></tr><tr><td>(2, 2)</td><td>334</td></tr><tr><td>(2, 3)</td><td>62</td></tr><tr><td>(3, 0)</td><td>252</td></tr><tr><td>(3, 1)</td><td>493</td></tr><tr><td>(3, 2)</td><td>269</td></tr><tr><td>(3, 3)</td><td>66</td></tr><tr><td>(4, 0)</td><td>253</td></tr><tr><td>(4, 1)</td><td>374</td></tr><tr><td>(4, 2)</td><td>211</td></tr><tr><td>(4, 3)</td><td>45</td></tr><tr><td>(5, 0)</td><td>115</td></tr><tr><td>(5, 1)</td><td>266</td></tr><tr><td>(5, 2)</td><td>202</td></tr><tr><td>...</td><td>...</td></tr><tr><td>(59, 0)</td><td>1</td></tr><tr><td><b>Total</b></td><td><b>10000</b></td></tr>\n",
              "  </tbody>\n",
              "</table>\n"
            ]
          },
          "metadata": {},
          "execution_count": 24
        }
      ]
    },
    {
      "cell_type": "code",
      "source": [
        "T_V.plot()"
      ],
      "metadata": {
        "id": "EiC1D1kFF2m2",
        "outputId": "8aa8cc12-fbe8-481b-8b12-6e81412c0698",
        "colab": {
          "base_uri": "https://localhost:8080/",
          "height": 430
        }
      },
      "execution_count": 25,
      "outputs": [
        {
          "output_type": "display_data",
          "data": {
            "text/plain": [
              "<Figure size 640x480 with 1 Axes>"
            ],
            "image/png": "[encoded data removed]"
          },
          "metadata": {}
        }
      ]
    },
    {
      "cell_type": "markdown",
      "source": [
        "Here we can see how the joint distribution of first sandwitch day and burrito count behave. They do not seem to be stronly related."
      ],
      "metadata": {
        "id": "ZWcJ_r-CG1jE"
      }
    },
    {
      "cell_type": "code",
      "source": [
        "correlation = T_V.corr()\n",
        "\n",
        "print(\"The correlation between the first day of sandwitch and burrito count is {:.4f}\".format(correlation))"
      ],
      "metadata": {
        "id": "4mZla9FFG2BZ",
        "outputId": "39834b4a-6ec7-44eb-b2d9-ed9bee499549",
        "colab": {
          "base_uri": "https://localhost:8080/"
        }
      },
      "execution_count": 26,
      "outputs": [
        {
          "output_type": "stream",
          "name": "stdout",
          "text": [
            "The correlation between the first day of sandwitch and burrito count is 0.1969\n"
          ]
        }
      ]
    },
    {
      "cell_type": "markdown",
      "source": [
        "$T$ and $W$"
      ],
      "metadata": {
        "id": "XGgA-PDCahAn"
      }
    },
    {
      "cell_type": "code",
      "source": [
        "T_W = (X.apply(first_sando) & (X[0] + X[1] + X[2] + X[3] + X[4])).sim(10000)\n",
        "T_W.tabulate()"
      ],
      "metadata": {
        "id": "Bca9UW-fICJ8",
        "outputId": "4e8e827d-8505-4264-b85d-a45621f9e3ee",
        "colab": {
          "base_uri": "https://localhost:8080/",
          "height": 510
        }
      },
      "execution_count": 27,
      "outputs": [
        {
          "output_type": "execute_result",
          "data": {
            "text/plain": [
              "Value    Frequency\n",
              "(1, 29)  245\n",
              "(1, 31)  546\n",
              "(1, 33)  658\n",
              "(1, 35)  455\n",
              "(1, 37)  69\n",
              "(2, 29)  251\n",
              "(2, 31)  471\n",
              "(2, 33)  420\n",
              "(2, 35)  148\n",
              "(2, 37)  19\n",
              "(3, 29)  271\n",
              "(3, 31)  463\n",
              "(3, 33)  292\n",
              "(3, 35)  63\n",
              "(4, 29)  246\n",
              "(4, 31)  377\n",
              "(4, 33)  236\n",
              "(4, 35)  58\n",
              "(5, 25)  141\n",
              "........  .\n",
              "(55, 29)  1\n",
              "   Total 10000"
            ],
            "text/html": [
              "\n",
              "<table>\n",
              "  <thead>\n",
              "    <th width=\"80%\">Value</th>\n",
              "    <th width=\"20%\">Frequency</th>\n",
              "  </thead>\n",
              "  <tbody>\n",
              "    <tr><td>(1, 29)</td><td>245</td></tr><tr><td>(1, 31)</td><td>546</td></tr><tr><td>(1, 33)</td><td>658</td></tr><tr><td>(1, 35)</td><td>455</td></tr><tr><td>(1, 37)</td><td>69</td></tr><tr><td>(2, 29)</td><td>251</td></tr><tr><td>(2, 31)</td><td>471</td></tr><tr><td>(2, 33)</td><td>420</td></tr><tr><td>(2, 35)</td><td>148</td></tr><tr><td>(2, 37)</td><td>19</td></tr><tr><td>(3, 29)</td><td>271</td></tr><tr><td>(3, 31)</td><td>463</td></tr><tr><td>(3, 33)</td><td>292</td></tr><tr><td>(3, 35)</td><td>63</td></tr><tr><td>(4, 29)</td><td>246</td></tr><tr><td>(4, 31)</td><td>377</td></tr><tr><td>(4, 33)</td><td>236</td></tr><tr><td>(4, 35)</td><td>58</td></tr><tr><td>(5, 25)</td><td>141</td></tr><tr><td>...</td><td>...</td></tr><tr><td>(55, 29)</td><td>1</td></tr><tr><td><b>Total</b></td><td><b>10000</b></td></tr>\n",
              "  </tbody>\n",
              "</table>\n"
            ]
          },
          "metadata": {},
          "execution_count": 27
        }
      ]
    },
    {
      "cell_type": "code",
      "source": [
        "T_W.plot()"
      ],
      "metadata": {
        "id": "vrFSpTjKL9cz",
        "outputId": "4e79629c-d999-4f6c-dcfe-146e98c87e48",
        "colab": {
          "base_uri": "https://localhost:8080/",
          "height": 430
        }
      },
      "execution_count": 28,
      "outputs": [
        {
          "output_type": "display_data",
          "data": {
            "text/plain": [
              "<Figure size 640x480 with 1 Axes>"
            ],
            "image/png": "[encoded data removed]"
          },
          "metadata": {}
        }
      ]
    },
    {
      "cell_type": "markdown",
      "source": [
        "Above we see how first sandwitch and lunch cost are distributed. We can clearly see there is a relationship between the two. since sandwitches are more expensive, it is likey that when we have them the cost of that weeks lunch will also be significatly more."
      ],
      "metadata": {
        "id": "4aXBTBGKMRWo"
      }
    },
    {
      "cell_type": "code",
      "source": [
        "correlation = T_W.corr()\n",
        "\n",
        "print(\"The correlation between the first day of sandwitch and weekly lunch cost is {:.4f}\".format(correlation))"
      ],
      "metadata": {
        "id": "7lvFnJ1JMUNJ",
        "outputId": "34c50958-0e26-4b5c-f47c-caab6c5c6437",
        "colab": {
          "base_uri": "https://localhost:8080/"
        }
      },
      "execution_count": 29,
      "outputs": [
        {
          "output_type": "stream",
          "name": "stdout",
          "text": [
            "The correlation between the first day of sandwitch and weekly lunch cost is -0.4754\n"
          ]
        }
      ]
    },
    {
      "cell_type": "markdown",
      "source": [
        "$W$ and $V$"
      ],
      "metadata": {
        "id": "ANLY_4ulagn_"
      }
    },
    {
      "cell_type": "code",
      "source": [
        "V_W = (X.apply(burrito_count) & (X[0] + X[1] + X[2] + X[3] + X[4])).sim(10000)\n",
        "V_W.tabulate()"
      ],
      "metadata": {
        "id": "ss1awwjfM-XP",
        "outputId": "dd5dc18f-cbf6-458c-9ac9-f6e27246dbe0",
        "colab": {
          "base_uri": "https://localhost:8080/",
          "height": 318
        }
      },
      "execution_count": 30,
      "outputs": [
        {
          "output_type": "execute_result",
          "data": {
            "text/plain": [
              "Value   Frequency\n",
              "(0, 25) 617\n",
              "(0, 29) 975\n",
              "(0, 33) 317\n",
              "(1, 27) 1511\n",
              "(1, 31) 1872\n",
              "(1, 35) 364\n",
              "(2, 29) 1549\n",
              "(2, 33) 1286\n",
              "(2, 37) 111\n",
              "(3, 31) 838\n",
              "(3, 35) 360\n",
              "(4, 33) 200\n",
              "  Total 10000"
            ],
            "text/html": [
              "\n",
              "<table>\n",
              "  <thead>\n",
              "    <th width=\"80%\">Value</th>\n",
              "    <th width=\"20%\">Frequency</th>\n",
              "  </thead>\n",
              "  <tbody>\n",
              "    <tr><td>(0, 25)</td><td>617</td></tr><tr><td>(0, 29)</td><td>975</td></tr><tr><td>(0, 33)</td><td>317</td></tr><tr><td>(1, 27)</td><td>1511</td></tr><tr><td>(1, 31)</td><td>1872</td></tr><tr><td>(1, 35)</td><td>364</td></tr><tr><td>(2, 29)</td><td>1549</td></tr><tr><td>(2, 33)</td><td>1286</td></tr><tr><td>(2, 37)</td><td>111</td></tr><tr><td>(3, 31)</td><td>838</td></tr><tr><td>(3, 35)</td><td>360</td></tr><tr><td>(4, 33)</td><td>200</td></tr><tr><td><b>Total</b></td><td><b>10000</b></td></tr>\n",
              "  </tbody>\n",
              "</table>\n"
            ]
          },
          "metadata": {},
          "execution_count": 30
        }
      ]
    },
    {
      "cell_type": "code",
      "source": [
        "V_W.plot(type=\"tile\")"
      ],
      "metadata": {
        "id": "u3eCb6yfNJZ2",
        "outputId": "a8168fdb-7fb5-4e0e-f508-758e43fa81f0",
        "colab": {
          "base_uri": "https://localhost:8080/",
          "height": 439
        }
      },
      "execution_count": 31,
      "outputs": [
        {
          "output_type": "display_data",
          "data": {
            "text/plain": [
              "<Figure size 640x480 with 2 Axes>"
            ],
            "image/png": "[encoded data removed]"
          },
          "metadata": {}
        }
      ]
    },
    {
      "cell_type": "markdown",
      "source": [
        "The tile plot above shows how burrito count and weekly cost vary jointly. We can see that as the burritos we comsume increases, the cost for the week also increases."
      ],
      "metadata": {
        "id": "rTXTl__lNqSr"
      }
    },
    {
      "cell_type": "code",
      "source": [
        "correlation = V_W.corr()\n",
        "\n",
        "print(\"The correlation between burrito count and weekly lunch cost is {:.4f}\".format(correlation))"
      ],
      "metadata": {
        "id": "2MIGYs5QOBjy",
        "outputId": "b18ddf1b-9db8-49b5-cb0d-75a60d2e76a4",
        "colab": {
          "base_uri": "https://localhost:8080/"
        }
      },
      "execution_count": 32,
      "outputs": [
        {
          "output_type": "stream",
          "name": "stdout",
          "text": [
            "The correlation between burrito count and weekly lunch cost is 0.4584\n"
          ]
        }
      ]
    },
    {
      "cell_type": "markdown",
      "source": [
        "###3."
      ],
      "metadata": {
        "id": "eLUiWZhTZkz_"
      }
    },
    {
      "cell_type": "markdown",
      "source": [
        "Approximate the conditional distribution of $V$ given $T=4$, along with its (conditional) mean and standard deviation."
      ],
      "metadata": {
        "id": "yNvGgJP_ZrXh"
      }
    },
    {
      "cell_type": "markdown",
      "source": [
        "$V$"
      ],
      "metadata": {
        "id": "VHIPWm40bEHG"
      }
    },
    {
      "cell_type": "code",
      "source": [
        "T_4 = ((X[0] != 9) & (X[1] != 9) & (X[2] != 9) & (X[3] != 9) & (X[4] == 9))\n",
        "V_T4 = (X.apply(burrito_count) | T_4).sim(10000)\n",
        "V_T4.tabulate()"
      ],
      "metadata": {
        "id": "khd7O_qMPNKs",
        "outputId": "dd5db861-4685-45fb-e6e4-a63be811e969",
        "colab": {
          "base_uri": "https://localhost:8080/",
          "height": 147
        }
      },
      "execution_count": 33,
      "outputs": [
        {
          "output_type": "execute_result",
          "data": {
            "text/plain": [
              "Value Frequency\n",
              "0     2755\n",
              "1     4144\n",
              "2     2517\n",
              "3     584\n",
              "Total 10000"
            ],
            "text/html": [
              "\n",
              "<table>\n",
              "  <thead>\n",
              "    <th width=\"80%\">Value</th>\n",
              "    <th width=\"20%\">Frequency</th>\n",
              "  </thead>\n",
              "  <tbody>\n",
              "    <tr><td>0</td><td>2755</td></tr><tr><td>1</td><td>4144</td></tr><tr><td>2</td><td>2517</td></tr><tr><td>3</td><td>584</td></tr><tr><td><b>Total</b></td><td><b>10000</b></td></tr>\n",
              "  </tbody>\n",
              "</table>\n"
            ]
          },
          "metadata": {},
          "execution_count": 33
        }
      ]
    },
    {
      "cell_type": "code",
      "source": [
        "V_T4.plot()"
      ],
      "metadata": {
        "id": "ra0AlxbtSqQu",
        "outputId": "95f16602-5a0d-4c96-a8a9-cef7d903c4b5",
        "colab": {
          "base_uri": "https://localhost:8080/",
          "height": 430
        }
      },
      "execution_count": 34,
      "outputs": [
        {
          "output_type": "display_data",
          "data": {
            "text/plain": [
              "<Figure size 640x480 with 1 Axes>"
            ],
            "image/png": "[encoded data removed]"
          },
          "metadata": {}
        }
      ]
    },
    {
      "cell_type": "markdown",
      "source": [
        "This distribution shows the likely amount of burritos to be consumed during the week given we know we will eat a sandwitch on Friday."
      ],
      "metadata": {
        "id": "X3EXHW7fS9Ht"
      }
    },
    {
      "cell_type": "markdown",
      "source": [
        "$\\mu$"
      ],
      "metadata": {
        "id": "hBeXeSAubJmZ"
      }
    },
    {
      "cell_type": "code",
      "source": [
        "#calculate and present expected value\n",
        "ev = V_T4.mean()\n",
        "\n",
        "print(\"The expected value is {:.2f} burritos given Friday is sandwitch day.\".format(ev))"
      ],
      "metadata": {
        "id": "v2GNWAdAUCVR",
        "outputId": "feedb7ca-7df0-439e-a443-0a3a14ea8f42",
        "colab": {
          "base_uri": "https://localhost:8080/"
        }
      },
      "execution_count": 35,
      "outputs": [
        {
          "output_type": "stream",
          "name": "stdout",
          "text": [
            "The expected value is 1.09 burritos given Friday is sandwitch day.\n"
          ]
        }
      ]
    },
    {
      "cell_type": "markdown",
      "source": [
        "$\\sigma$"
      ],
      "metadata": {
        "id": "KcZaC2VFbPbq"
      }
    },
    {
      "cell_type": "code",
      "source": [
        "#calculate and present standard deviation\n",
        "std_dev = V_T4.std()\n",
        "\n",
        "print(\"The standard deviation is {:.2f} burritos given Friday is sandwitch day.\".format(std_dev))"
      ],
      "metadata": {
        "id": "fR3kl86gUWA5",
        "outputId": "ef1950f1-3188-4941-eb0f-5af0eb8c8cd4",
        "colab": {
          "base_uri": "https://localhost:8080/"
        }
      },
      "execution_count": 36,
      "outputs": [
        {
          "output_type": "stream",
          "name": "stdout",
          "text": [
            "The standard deviation is 0.87 burritos given Friday is sandwitch day.\n"
          ]
        }
      ]
    },
    {
      "cell_type": "markdown",
      "source": [
        "###4."
      ],
      "metadata": {
        "id": "P4DbJPKiZlHj"
      }
    },
    {
      "cell_type": "markdown",
      "source": [
        "Your choice. Choose at least one other joint, conditional, or marginal distribution to investigate. You can work with $X_n, T, V, W$, but you are also welcome to define other random variables in this context. You can also look at time frames other than a single week."
      ],
      "metadata": {
        "id": "xdTYp5M6bO48"
      }
    },
    {
      "cell_type": "markdown",
      "source": [],
      "metadata": {
        "id": "bxZdIDe-ZsKG"
      }
    },
    {
      "cell_type": "code",
      "source": [
        "W_V2 = ((X[0] + X[1] + X[2] + X[3] + X[4]) | (X.apply(burrito_count) == 2)).sim(10000)\n",
        "W_V2.tabulate()"
      ],
      "metadata": {
        "id": "uPeUMlpCZQer",
        "outputId": "618ad953-7dfa-4dec-978c-7807e5fd355c",
        "colab": {
          "base_uri": "https://localhost:8080/",
          "height": 126
        }
      },
      "execution_count": 37,
      "outputs": [
        {
          "output_type": "execute_result",
          "data": {
            "text/plain": [
              "Value Frequency\n",
              "29    5380\n",
              "33    4275\n",
              "37    345\n",
              "Total 10000"
            ],
            "text/html": [
              "\n",
              "<table>\n",
              "  <thead>\n",
              "    <th width=\"80%\">Value</th>\n",
              "    <th width=\"20%\">Frequency</th>\n",
              "  </thead>\n",
              "  <tbody>\n",
              "    <tr><td>29</td><td>5380</td></tr><tr><td>33</td><td>4275</td></tr><tr><td>37</td><td>345</td></tr><tr><td><b>Total</b></td><td><b>10000</b></td></tr>\n",
              "  </tbody>\n",
              "</table>\n"
            ]
          },
          "metadata": {},
          "execution_count": 37
        }
      ]
    },
    {
      "cell_type": "code",
      "source": [
        "W_V2.plot()"
      ],
      "metadata": {
        "id": "Go9iKRUyZg9c",
        "outputId": "1330db7e-c09e-4083-96d7-65dc60192b62",
        "colab": {
          "base_uri": "https://localhost:8080/",
          "height": 430
        }
      },
      "execution_count": 38,
      "outputs": [
        {
          "output_type": "display_data",
          "data": {
            "text/plain": [
              "<Figure size 640x480 with 1 Axes>"
            ],
            "image/png": "[encoded data removed]"
          },
          "metadata": {}
        }
      ]
    },
    {
      "cell_type": "markdown",
      "source": [
        "I didn't think this through. I wasn't expecting the distribution to have so few possible outputs, however this makes sense. Since we are locking in two burrios for the week, we have narrowed down our price range. And we only have two other days to work with in picking lunches that would affect the amount of money spent during the week. It is acting very periodic."
      ],
      "metadata": {
        "id": "er_HlDxjagWY"
      }
    },
    {
      "cell_type": "code",
      "source": [
        "#calculate and present expected value\n",
        "ev = W_V2.mean()\n",
        "\n",
        "print(\"The expected value is ${:.2f} given 2 burritos this week.\".format(ev))"
      ],
      "metadata": {
        "id": "FfDZaVkEZvqb",
        "outputId": "93929b71-3fa1-46a5-d904-267ec0541bb5",
        "colab": {
          "base_uri": "https://localhost:8080/"
        }
      },
      "execution_count": 39,
      "outputs": [
        {
          "output_type": "stream",
          "name": "stdout",
          "text": [
            "The expected value is $30.99 given 2 burritos this week.\n"
          ]
        }
      ]
    },
    {
      "cell_type": "code",
      "source": [
        "#calculate and present standard deviation\n",
        "std_dev = W_V2.std()\n",
        "\n",
        "print(\"The standard deviation is ${:.2f} given 2 burritos this week.\".format(std_dev))"
      ],
      "metadata": {
        "id": "1q69w4UfaTxv",
        "outputId": "2f73059d-f0c7-4a02-ba4c-684777e3febb",
        "colab": {
          "base_uri": "https://localhost:8080/"
        }
      },
      "execution_count": 40,
      "outputs": [
        {
          "output_type": "stream",
          "name": "stdout",
          "text": [
            "The standard deviation is $2.26 given 2 burritos this week.\n"
          ]
        }
      ]
    }
  ]
}