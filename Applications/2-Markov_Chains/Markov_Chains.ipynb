{
  "nbformat": 4,
  "nbformat_minor": 0,
  "metadata": {
    "colab": {
      "provenance": [],
      "include_colab_link": true
    },
    "kernelspec": {
      "name": "python3",
      "display_name": "Python 3"
    },
    "language_info": {
      "name": "python"
    }
  },
  "cells": [
    {
      "cell_type": "markdown",
      "metadata": {
        "id": "view-in-github",
        "colab_type": "text"
      },
      "source": [
        "<a href=\"https://colab.research.google.com/github/NRJaggers/Applied-Stochastic-Processes/blob/main/Applications/2-Markov_Chains/Markov_Chains.ipynb\" target=\"_parent\"><img src=\"https://colab.research.google.com/assets/colab-badge.svg\" alt=\"Open In Colab\"/></a>"
      ]
    },
    {
      "cell_type": "markdown",
      "source": [
        "#Markov Chains\n"
      ],
      "metadata": {
        "id": "lwN5bYfDW66u"
      }
    },
    {
      "cell_type": "markdown",
      "source": [
        "---\n",
        "\n",
        "## Prompt"
      ],
      "metadata": {
        "id": "Bh1go0uHXDqq"
      }
    },
    {
      "cell_type": "markdown",
      "source": [
        "Original Prompt can be found [here](https://bookdown.org/kevin_davisross/applied-stochastic-processes/app-mc.html). A copy of the prompt along with the completed exercise can be found under [/Applications](https://github.com/NRJaggers/Applied-Stochastic-Processes/tree/main/Applications)."
      ],
      "metadata": {
        "id": "DJpcnN9AXHGQ"
      }
    },
    {
      "cell_type": "markdown",
      "source": [
        "## Summary"
      ],
      "metadata": {
        "id": "viNFOY1aVoHj"
      }
    },
    {
      "cell_type": "markdown",
      "source": [
        "Every day for lunch you have either a \\\\$9 sandwich (state 1), a \\\\$7 burrito (state 2), or a \\\\$5 pizza (state 3). Suppose your lunch choices from one day to the next follow a Markov chain with transition matrix. You start out with eating pizza on Monday (Day 0).\n",
        "\n",
        "$$\n",
        "\\mathbf{P} =\n",
        "\\begin{bmatrix}\n",
        "0 & 0.5 & 0.5\\\\\n",
        "0.1 & 0.4 & 0.5\\\\\n",
        "0.2 & 0.3 & 0.5\n",
        "\\end{bmatrix}\n",
        "$$"
      ],
      "metadata": {
        "id": "rRMcoE22VxEV"
      }
    },
    {
      "cell_type": "markdown",
      "source": [
        "$T$ = the first day you have a sandwich.\n",
        "\n",
        "$V$ = the number of days you have a burrito this five-day work week.\n",
        "\n",
        "$X_n$ = the cost of your lunch on day $n$.\n",
        "\n",
        "$W = X_0 + \\cdots + X_4$ = the total lunch cost for this five-day work week."
      ],
      "metadata": {
        "id": "iAekTUZvXZmt"
      }
    },
    {
      "cell_type": "markdown",
      "source": [
        "---\n",
        "\n",
        "## Application"
      ],
      "metadata": {
        "id": "GXUWHhYNXK3F"
      }
    },
    {
      "cell_type": "code",
      "source": [
        "pip install symbulate"
      ],
      "metadata": {
        "id": "FDL4XKtWeOJY",
        "outputId": "c94ce3aa-3852-4756-bec9-8a81baee7a6e",
        "colab": {
          "base_uri": "https://localhost:8080/"
        }
      },
      "execution_count": 1,
      "outputs": [
        {
          "output_type": "stream",
          "name": "stdout",
          "text": [
            "Collecting symbulate\n",
            "  Downloading symbulate-0.5.7-py3-none-any.whl (44 kB)\n",
            "\u001b[?25l     \u001b[90m━━━━━━━━━━━━━━━━━━━━━━━━━━━━━━━━━━━━━━━━\u001b[0m \u001b[32m0.0/44.9 kB\u001b[0m \u001b[31m?\u001b[0m eta \u001b[36m-:--:--\u001b[0m\r\u001b[2K     \u001b[90m━━━━━━━━━━━━━━━━━━━━━━━━━━━━━━━━━━━━━━━━\u001b[0m \u001b[32m44.9/44.9 kB\u001b[0m \u001b[31m1.7 MB/s\u001b[0m eta \u001b[36m0:00:00\u001b[0m\n",
            "\u001b[?25hRequirement already satisfied: numpy in /usr/local/lib/python3.10/dist-packages (from symbulate) (1.23.5)\n",
            "Requirement already satisfied: scipy in /usr/local/lib/python3.10/dist-packages (from symbulate) (1.11.4)\n",
            "Requirement already satisfied: matplotlib in /usr/local/lib/python3.10/dist-packages (from symbulate) (3.7.1)\n",
            "Requirement already satisfied: contourpy>=1.0.1 in /usr/local/lib/python3.10/dist-packages (from matplotlib->symbulate) (1.2.0)\n",
            "Requirement already satisfied: cycler>=0.10 in /usr/local/lib/python3.10/dist-packages (from matplotlib->symbulate) (0.12.1)\n",
            "Requirement already satisfied: fonttools>=4.22.0 in /usr/local/lib/python3.10/dist-packages (from matplotlib->symbulate) (4.47.2)\n",
            "Requirement already satisfied: kiwisolver>=1.0.1 in /usr/local/lib/python3.10/dist-packages (from matplotlib->symbulate) (1.4.5)\n",
            "Requirement already satisfied: packaging>=20.0 in /usr/local/lib/python3.10/dist-packages (from matplotlib->symbulate) (23.2)\n",
            "Requirement already satisfied: pillow>=6.2.0 in /usr/local/lib/python3.10/dist-packages (from matplotlib->symbulate) (9.4.0)\n",
            "Requirement already satisfied: pyparsing>=2.3.1 in /usr/local/lib/python3.10/dist-packages (from matplotlib->symbulate) (3.1.1)\n",
            "Requirement already satisfied: python-dateutil>=2.7 in /usr/local/lib/python3.10/dist-packages (from matplotlib->symbulate) (2.8.2)\n",
            "Requirement already satisfied: six>=1.5 in /usr/local/lib/python3.10/dist-packages (from python-dateutil>=2.7->matplotlib->symbulate) (1.16.0)\n",
            "Installing collected packages: symbulate\n",
            "Successfully installed symbulate-0.5.7\n"
          ]
        }
      ]
    },
    {
      "cell_type": "code",
      "source": [
        "from symbulate import *\n",
        "%matplotlib inline"
      ],
      "metadata": {
        "id": "DRa6MBIIeStw"
      },
      "execution_count": 2,
      "outputs": []
    },
    {
      "cell_type": "markdown",
      "source": [
        "###1."
      ],
      "metadata": {
        "id": "NnOccgJbXbpb"
      }
    },
    {
      "cell_type": "markdown",
      "source": [
        "Approximate the marginal distribution, along with the expected value and standard deviation, of each of the following:\n",
        "$$X_4 \\qquad T \\qquad V \\qquad W$$"
      ],
      "metadata": {
        "id": "Bie-FedhZfqA"
      }
    },
    {
      "cell_type": "code",
      "source": [
        "#Set up markov chain\n",
        "TransitionMatrix = [[0, 0.5, 0.5],\n",
        "                   [0.1, 0.4, 0.5],\n",
        "                   [0.2, 0.3, 0.5]]\n",
        "\n",
        "InitialDistribution = [0, 0, 1] # pizza on the Monday\n",
        "\n",
        "L = MarkovChain(TransitionMatrix, InitialDistribution)"
      ],
      "metadata": {
        "id": "bEFjHTk0eYc_"
      },
      "execution_count": 13,
      "outputs": []
    },
    {
      "cell_type": "markdown",
      "source": [
        "$X_4$"
      ],
      "metadata": {
        "id": "5cXUqG6yaPQw"
      }
    },
    {
      "cell_type": "code",
      "source": [
        "#run simulation and generate results\n",
        "results = L[4].sim(10000)\n",
        "results.tabulate()"
      ],
      "metadata": {
        "id": "s7QY0hLKeLr3",
        "outputId": "83394171-2ba5-4538-a498-c80d71f6dd25",
        "colab": {
          "base_uri": "https://localhost:8080/",
          "height": 126
        }
      },
      "execution_count": 30,
      "outputs": [
        {
          "output_type": "execute_result",
          "data": {
            "text/plain": [
              "Value Frequency\n",
              "0     1351\n",
              "1     3583\n",
              "2     5066\n",
              "Total 10000"
            ],
            "text/html": [
              "\n",
              "<table>\n",
              "  <thead>\n",
              "    <th width=\"80%\">Value</th>\n",
              "    <th width=\"20%\">Frequency</th>\n",
              "  </thead>\n",
              "  <tbody>\n",
              "    <tr><td>0</td><td>1351</td></tr><tr><td>1</td><td>3583</td></tr><tr><td>2</td><td>5066</td></tr><tr><td><b>Total</b></td><td><b>10000</b></td></tr>\n",
              "  </tbody>\n",
              "</table>\n"
            ]
          },
          "metadata": {},
          "execution_count": 30
        }
      ]
    },
    {
      "cell_type": "code",
      "source": [
        "results.tabulate(normalize=True)"
      ],
      "metadata": {
        "id": "aX2l-DiYkwOw",
        "outputId": "59b8afc0-64e8-49d0-c2f3-eb3a648330ab",
        "colab": {
          "base_uri": "https://localhost:8080/",
          "height": 126
        }
      },
      "execution_count": 32,
      "outputs": [
        {
          "output_type": "execute_result",
          "data": {
            "text/plain": [
              "Value Relative Frequency\n",
              "0     0.1351\n",
              "1     0.3583\n",
              "2     0.5066\n",
              "Total 1.0"
            ],
            "text/html": [
              "\n",
              "<table>\n",
              "  <thead>\n",
              "    <th width=\"80%\">Value</th>\n",
              "    <th width=\"20%\">Relative Frequency</th>\n",
              "  </thead>\n",
              "  <tbody>\n",
              "    <tr><td>0</td><td>0.1351</td></tr><tr><td>1</td><td>0.3583</td></tr><tr><td>2</td><td>0.5066</td></tr><tr><td><b>Total</b></td><td><b>1.0</b></td></tr>\n",
              "  </tbody>\n",
              "</table>\n"
            ]
          },
          "metadata": {},
          "execution_count": 32
        }
      ]
    },
    {
      "cell_type": "code",
      "source": [
        "#calculate and present expected value\n",
        "results.mean()"
      ],
      "metadata": {
        "id": "71EAVrOvkK9T",
        "outputId": "03654d80-05f6-48d7-fbc7-540f7ce4ecb8",
        "colab": {
          "base_uri": "https://localhost:8080/"
        }
      },
      "execution_count": 31,
      "outputs": [
        {
          "output_type": "execute_result",
          "data": {
            "text/plain": [
              "1.3715"
            ]
          },
          "metadata": {},
          "execution_count": 31
        }
      ]
    },
    {
      "cell_type": "markdown",
      "source": [
        "$T$"
      ],
      "metadata": {
        "id": "bIrvJbaVaP_j"
      }
    },
    {
      "cell_type": "markdown",
      "source": [
        "$V$"
      ],
      "metadata": {
        "id": "HmKvDOLFaQW0"
      }
    },
    {
      "cell_type": "markdown",
      "source": [
        "$W$"
      ],
      "metadata": {
        "id": "GV9ESMvgaQrQ"
      }
    },
    {
      "cell_type": "markdown",
      "source": [
        "###2."
      ],
      "metadata": {
        "id": "Q7rf4pt0ZizL"
      }
    },
    {
      "cell_type": "markdown",
      "source": [
        "Approximate the joint distribution, along with the correlation, of each of the following:\n",
        "$$X_4 \\text{ and } X_5$$\n",
        "$$T \\text{ and } V$$\n",
        "$$T \\text{ and } W$$\n",
        "$$W \\text{ and } V$$\n"
      ],
      "metadata": {
        "id": "AJFMjtvqZq5n"
      }
    },
    {
      "cell_type": "markdown",
      "source": [
        "$X_4$ and $X_5$"
      ],
      "metadata": {
        "id": "oPTzzE3XahRF"
      }
    },
    {
      "cell_type": "markdown",
      "source": [
        "$T$ and $V$"
      ],
      "metadata": {
        "id": "6BDiaUMNahKl"
      }
    },
    {
      "cell_type": "markdown",
      "source": [
        "$T$ and $W$"
      ],
      "metadata": {
        "id": "XGgA-PDCahAn"
      }
    },
    {
      "cell_type": "markdown",
      "source": [
        "$W$ and $V$"
      ],
      "metadata": {
        "id": "ANLY_4ulagn_"
      }
    },
    {
      "cell_type": "markdown",
      "source": [
        "###3."
      ],
      "metadata": {
        "id": "eLUiWZhTZkz_"
      }
    },
    {
      "cell_type": "markdown",
      "source": [
        "Approximate the conditional distribution of $V$ given $T=4$, along with its (conditional) mean and standard deviation."
      ],
      "metadata": {
        "id": "yNvGgJP_ZrXh"
      }
    },
    {
      "cell_type": "markdown",
      "source": [
        "$V$"
      ],
      "metadata": {
        "id": "VHIPWm40bEHG"
      }
    },
    {
      "cell_type": "markdown",
      "source": [
        "$\\mu$"
      ],
      "metadata": {
        "id": "hBeXeSAubJmZ"
      }
    },
    {
      "cell_type": "markdown",
      "source": [
        "$\\sigma$"
      ],
      "metadata": {
        "id": "KcZaC2VFbPbq"
      }
    },
    {
      "cell_type": "markdown",
      "source": [
        "###4."
      ],
      "metadata": {
        "id": "P4DbJPKiZlHj"
      }
    },
    {
      "cell_type": "markdown",
      "source": [
        "Your choice. Choose at least one other joint, conditional, or marginal distribution to investigate. You can work with $X_n, T, V, W$, but you are also welcome to define other random variables in this context. You can also look at time frames other than a single week."
      ],
      "metadata": {
        "id": "xdTYp5M6bO48"
      }
    },
    {
      "cell_type": "markdown",
      "source": [],
      "metadata": {
        "id": "bxZdIDe-ZsKG"
      }
    },
    {
      "cell_type": "code",
      "source": [],
      "metadata": {
        "id": "UF1oworlZoCb"
      },
      "execution_count": null,
      "outputs": []
    }
  ]
}