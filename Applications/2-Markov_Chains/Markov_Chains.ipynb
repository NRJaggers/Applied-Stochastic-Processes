{
  "nbformat": 4,
  "nbformat_minor": 0,
  "metadata": {
    "colab": {
      "provenance": [],
      "include_colab_link": true
    },
    "kernelspec": {
      "name": "python3",
      "display_name": "Python 3"
    },
    "language_info": {
      "name": "python"
    }
  },
  "cells": [
    {
      "cell_type": "markdown",
      "metadata": {
        "id": "view-in-github",
        "colab_type": "text"
      },
      "source": [
        "<a href=\"https://colab.research.google.com/github/NRJaggers/Applied-Stochastic-Processes/blob/main/Applications/2-Markov_Chains/Markov_Chains.ipynb\" target=\"_parent\"><img src=\"https://colab.research.google.com/assets/colab-badge.svg\" alt=\"Open In Colab\"/></a>"
      ]
    },
    {
      "cell_type": "markdown",
      "source": [
        "#Markov Chains\n"
      ],
      "metadata": {
        "id": "lwN5bYfDW66u"
      }
    },
    {
      "cell_type": "markdown",
      "source": [
        "---\n",
        "\n",
        "## Prompt"
      ],
      "metadata": {
        "id": "Bh1go0uHXDqq"
      }
    },
    {
      "cell_type": "markdown",
      "source": [
        "Original Prompt can be found [here](https://bookdown.org/kevin_davisross/applied-stochastic-processes/app-mc.html). A copy of the prompt along with the completed exercise can be found under [/Applications](https://github.com/NRJaggers/Applied-Stochastic-Processes/tree/main/Applications)."
      ],
      "metadata": {
        "id": "DJpcnN9AXHGQ"
      }
    },
    {
      "cell_type": "markdown",
      "source": [
        "## Summary"
      ],
      "metadata": {
        "id": "viNFOY1aVoHj"
      }
    },
    {
      "cell_type": "markdown",
      "source": [
        "Every day for lunch you have either a \\\\$9 sandwich (state 1), a \\\\$7 burrito (state 2), or a \\\\$5 pizza (state 3). Suppose your lunch choices from one day to the next follow a Markov chain with transition matrix. You start out with eating pizza on Monday (Day 0).\n",
        "\n",
        "$$\n",
        "\\mathbf{P} =\n",
        "\\begin{bmatrix}\n",
        "0 & 0.5 & 0.5\\\\\n",
        "0.1 & 0.4 & 0.5\\\\\n",
        "0.2 & 0.3 & 0.5\n",
        "\\end{bmatrix}\n",
        "$$"
      ],
      "metadata": {
        "id": "rRMcoE22VxEV"
      }
    },
    {
      "cell_type": "markdown",
      "source": [
        "$T$ = the first day you have a sandwich.\n",
        "\n",
        "$V$ = the number of days you have a burrito this five-day work week.\n",
        "\n",
        "$X_n$ = the cost of your lunch on day $n$.\n",
        "\n",
        "$W = X_0 + \\cdots + X_4$ = the total lunch cost for this five-day work week."
      ],
      "metadata": {
        "id": "iAekTUZvXZmt"
      }
    },
    {
      "cell_type": "markdown",
      "source": [
        "---\n",
        "\n",
        "## Application"
      ],
      "metadata": {
        "id": "GXUWHhYNXK3F"
      }
    },
    {
      "cell_type": "code",
      "source": [
        "pip install symbulate"
      ],
      "metadata": {
        "colab": {
          "base_uri": "https://localhost:8080/"
        },
        "id": "FDL4XKtWeOJY",
        "outputId": "c94ce3aa-3852-4756-bec9-8a81baee7a6e"
      },
      "execution_count": 1,
      "outputs": [
        {
          "output_type": "stream",
          "name": "stdout",
          "text": [
            "Collecting symbulate\n",
            "  Downloading symbulate-0.5.7-py3-none-any.whl (44 kB)\n",
            "\u001b[?25l     \u001b[90m━━━━━━━━━━━━━━━━━━━━━━━━━━━━━━━━━━━━━━━━\u001b[0m \u001b[32m0.0/44.9 kB\u001b[0m \u001b[31m?\u001b[0m eta \u001b[36m-:--:--\u001b[0m\r\u001b[2K     \u001b[90m━━━━━━━━━━━━━━━━━━━━━━━━━━━━━━━━━━━━━━━━\u001b[0m \u001b[32m44.9/44.9 kB\u001b[0m \u001b[31m1.7 MB/s\u001b[0m eta \u001b[36m0:00:00\u001b[0m\n",
            "\u001b[?25hRequirement already satisfied: numpy in /usr/local/lib/python3.10/dist-packages (from symbulate) (1.23.5)\n",
            "Requirement already satisfied: scipy in /usr/local/lib/python3.10/dist-packages (from symbulate) (1.11.4)\n",
            "Requirement already satisfied: matplotlib in /usr/local/lib/python3.10/dist-packages (from symbulate) (3.7.1)\n",
            "Requirement already satisfied: contourpy>=1.0.1 in /usr/local/lib/python3.10/dist-packages (from matplotlib->symbulate) (1.2.0)\n",
            "Requirement already satisfied: cycler>=0.10 in /usr/local/lib/python3.10/dist-packages (from matplotlib->symbulate) (0.12.1)\n",
            "Requirement already satisfied: fonttools>=4.22.0 in /usr/local/lib/python3.10/dist-packages (from matplotlib->symbulate) (4.47.2)\n",
            "Requirement already satisfied: kiwisolver>=1.0.1 in /usr/local/lib/python3.10/dist-packages (from matplotlib->symbulate) (1.4.5)\n",
            "Requirement already satisfied: packaging>=20.0 in /usr/local/lib/python3.10/dist-packages (from matplotlib->symbulate) (23.2)\n",
            "Requirement already satisfied: pillow>=6.2.0 in /usr/local/lib/python3.10/dist-packages (from matplotlib->symbulate) (9.4.0)\n",
            "Requirement already satisfied: pyparsing>=2.3.1 in /usr/local/lib/python3.10/dist-packages (from matplotlib->symbulate) (3.1.1)\n",
            "Requirement already satisfied: python-dateutil>=2.7 in /usr/local/lib/python3.10/dist-packages (from matplotlib->symbulate) (2.8.2)\n",
            "Requirement already satisfied: six>=1.5 in /usr/local/lib/python3.10/dist-packages (from python-dateutil>=2.7->matplotlib->symbulate) (1.16.0)\n",
            "Installing collected packages: symbulate\n",
            "Successfully installed symbulate-0.5.7\n"
          ]
        }
      ]
    },
    {
      "cell_type": "code",
      "source": [
        "from symbulate import *\n",
        "%matplotlib inline"
      ],
      "metadata": {
        "id": "DRa6MBIIeStw"
      },
      "execution_count": 2,
      "outputs": []
    },
    {
      "cell_type": "markdown",
      "source": [
        "###1."
      ],
      "metadata": {
        "id": "NnOccgJbXbpb"
      }
    },
    {
      "cell_type": "markdown",
      "source": [
        "Approximate the marginal distribution, along with the expected value and standard deviation, of each of the following:\n",
        "$$X_4 \\qquad T \\qquad V \\qquad W$$"
      ],
      "metadata": {
        "id": "Bie-FedhZfqA"
      }
    },
    {
      "cell_type": "code",
      "source": [
        "#Set up markov chain\n",
        "states = [9, 7, 5]\n",
        "\n",
        "TransitionMatrix = [[0, 0.5, 0.5],\n",
        "                   [0.1, 0.4, 0.5],\n",
        "                   [0.2, 0.3, 0.5]]\n",
        "\n",
        "InitialDistribution = [0, 0, 1] # pizza on the Monday\n",
        "\n",
        "L = MarkovChain(TransitionMatrix, InitialDistribution)\n",
        "X = MarkovChain(TransitionMatrix, InitialDistribution, states)\n",
        "\n",
        "#define any other simulation parameters\n",
        "n_sims = 10000\n",
        "days_in_week = 5 # Friday is day 4"
      ],
      "metadata": {
        "id": "bEFjHTk0eYc_"
      },
      "execution_count": 34,
      "outputs": []
    },
    {
      "cell_type": "markdown",
      "source": [
        "$X_4$"
      ],
      "metadata": {
        "id": "5cXUqG6yaPQw"
      }
    },
    {
      "cell_type": "code",
      "source": [
        "#run simulation and generate results\n",
        "results = X[4].sim(10000)\n",
        "results.tabulate()"
      ],
      "metadata": {
        "colab": {
          "base_uri": "https://localhost:8080/",
          "height": 126
        },
        "id": "s7QY0hLKeLr3",
        "outputId": "92f880c3-954c-4a27-d911-9ee97084b7c2"
      },
      "execution_count": 35,
      "outputs": [
        {
          "output_type": "execute_result",
          "data": {
            "text/plain": [
              "Value Frequency\n",
              "5     5040\n",
              "7     3564\n",
              "9     1396\n",
              "Total 10000"
            ],
            "text/html": [
              "\n",
              "<table>\n",
              "  <thead>\n",
              "    <th width=\"80%\">Value</th>\n",
              "    <th width=\"20%\">Frequency</th>\n",
              "  </thead>\n",
              "  <tbody>\n",
              "    <tr><td>5</td><td>5040</td></tr><tr><td>7</td><td>3564</td></tr><tr><td>9</td><td>1396</td></tr><tr><td><b>Total</b></td><td><b>10000</b></td></tr>\n",
              "  </tbody>\n",
              "</table>\n"
            ]
          },
          "metadata": {},
          "execution_count": 35
        }
      ]
    },
    {
      "cell_type": "code",
      "source": [
        "results.tabulate(normalize=True)"
      ],
      "metadata": {
        "colab": {
          "base_uri": "https://localhost:8080/",
          "height": 126
        },
        "id": "aX2l-DiYkwOw",
        "outputId": "9b1d3867-7eb6-4756-e532-56f0610f413d"
      },
      "execution_count": 36,
      "outputs": [
        {
          "output_type": "execute_result",
          "data": {
            "text/plain": [
              "Value Relative Frequency\n",
              "5     0.504\n",
              "7     0.3564\n",
              "9     0.1396\n",
              "Total 1.0"
            ],
            "text/html": [
              "\n",
              "<table>\n",
              "  <thead>\n",
              "    <th width=\"80%\">Value</th>\n",
              "    <th width=\"20%\">Relative Frequency</th>\n",
              "  </thead>\n",
              "  <tbody>\n",
              "    <tr><td>5</td><td>0.504</td></tr><tr><td>7</td><td>0.3564</td></tr><tr><td>9</td><td>0.1396</td></tr><tr><td><b>Total</b></td><td><b>1.0</b></td></tr>\n",
              "  </tbody>\n",
              "</table>\n"
            ]
          },
          "metadata": {},
          "execution_count": 36
        }
      ]
    },
    {
      "cell_type": "code",
      "source": [
        "results.plot()"
      ],
      "metadata": {
        "id": "jTVucR_Qqens",
        "outputId": "569671f4-fa78-4664-924e-4515dfa013b7",
        "colab": {
          "base_uri": "https://localhost:8080/",
          "height": 430
        }
      },
      "execution_count": 45,
      "outputs": [
        {
          "output_type": "display_data",
          "data": {
            "text/plain": [
              "<Figure size 640x480 with 1 Axes>"
            ],
            "image/png": "[encoded data removed]"
          },
          "metadata": {}
        }
      ]
    },
    {
      "cell_type": "markdown",
      "source": [
        "From the plot we can see the distribution of the cost of lunch on Friday. Half the time we are spending \\$5 on pizza , while closly behind that we are spending \\$7 on burritos. It is every so often that we splurge on a \\$9 sandwitch."
      ],
      "metadata": {
        "id": "qQJld0tRq5O0"
      }
    },
    {
      "cell_type": "code",
      "source": [
        "#calculate and present expected value\n",
        "ev = results.mean()\n",
        "\n",
        "print(\"The expected value is ${:.2f}\".format(ev))"
      ],
      "metadata": {
        "colab": {
          "base_uri": "https://localhost:8080/"
        },
        "id": "71EAVrOvkK9T",
        "outputId": "15d61f65-c805-4e61-e14a-2bb83951274a"
      },
      "execution_count": 44,
      "outputs": [
        {
          "output_type": "stream",
          "name": "stdout",
          "text": [
            "The expected value is $6.27\n"
          ]
        }
      ]
    },
    {
      "cell_type": "code",
      "source": [
        "#calculate and present standard deviation\n",
        "std_dev = results.std()\n",
        "\n",
        "print(\"The standard deviation is ${:.2f}\".format(std_dev))"
      ],
      "metadata": {
        "id": "DjPCddxHo-fT",
        "outputId": "711a2814-8e0f-4691-f40a-fa127b4fd9f5",
        "colab": {
          "base_uri": "https://localhost:8080/"
        }
      },
      "execution_count": 43,
      "outputs": [
        {
          "output_type": "stream",
          "name": "stdout",
          "text": [
            "The standard deviation is $1.43\n"
          ]
        }
      ]
    },
    {
      "cell_type": "markdown",
      "source": [
        "$T$"
      ],
      "metadata": {
        "id": "bIrvJbaVaP_j"
      }
    },
    {
      "cell_type": "code",
      "source": [
        "#run simulations and generate results\n",
        "results = L.sim(10000)\n",
        "results"
      ],
      "metadata": {
        "id": "c3aSxVwryHDt",
        "outputId": "2cb9be22-ea06-48fb-f7aa-bfc8bdc344c7",
        "colab": {
          "base_uri": "https://localhost:8080/",
          "height": 275
        }
      },
      "execution_count": 58,
      "outputs": [
        {
          "output_type": "execute_result",
          "data": {
            "text/plain": [
              "Index Result\n",
              "0     (2, 2, 1, 0, 2, 0, ...)\n",
              "1     (2, 2, 0, 2, 2, 1, ...)\n",
              "2     (2, 2, 2, 2, 1, 2, ...)\n",
              "3     (2, 2, 1, 2, 2, 2, ...)\n",
              "4     (2, 1, 2, 1, 2, 1, ...)\n",
              "5     (2, 2, 2, 0, 1, 2, ...)\n",
              "6     (2, 0, 2, 2, 0, 1, ...)\n",
              "7     (2, 0, 2, 2, 1, 1, ...)\n",
              "8     (2, 2, 2, 0, 2, 2, ...)\n",
              "....  .......................\n",
              "9999  (2, 2, 0, 2, 2, 2, ...)"
            ],
            "text/html": [
              "\n",
              "    <table>\n",
              "      <thead>\n",
              "        <th width=\"10%\">Index</th>\n",
              "        <th width=\"90%\">Result</th>\n",
              "      </thead>\n",
              "      <tbody>\n",
              "        \n",
              "        <tr>\n",
              "          <td>0</td><td>(2, 2, 1, 0, 2, 0, ...)</td>\n",
              "        </tr>\n",
              "        \n",
              "        <tr>\n",
              "          <td>1</td><td>(2, 2, 0, 2, 2, 1, ...)</td>\n",
              "        </tr>\n",
              "        \n",
              "        <tr>\n",
              "          <td>2</td><td>(2, 2, 2, 2, 1, 2, ...)</td>\n",
              "        </tr>\n",
              "        \n",
              "        <tr>\n",
              "          <td>3</td><td>(2, 2, 1, 2, 2, 2, ...)</td>\n",
              "        </tr>\n",
              "        \n",
              "        <tr>\n",
              "          <td>4</td><td>(2, 1, 2, 1, 2, 1, ...)</td>\n",
              "        </tr>\n",
              "        \n",
              "        <tr>\n",
              "          <td>5</td><td>(2, 2, 2, 0, 1, 2, ...)</td>\n",
              "        </tr>\n",
              "        \n",
              "        <tr>\n",
              "          <td>6</td><td>(2, 0, 2, 2, 0, 1, ...)</td>\n",
              "        </tr>\n",
              "        \n",
              "        <tr>\n",
              "          <td>7</td><td>(2, 0, 2, 2, 1, 1, ...)</td>\n",
              "        </tr>\n",
              "        \n",
              "        <tr>\n",
              "          <td>8</td><td>(2, 2, 2, 0, 2, 2, ...)</td>\n",
              "        </tr>\n",
              "        <tr><td>...</td><td>...</td></tr>\n",
              "        <tr>\n",
              "          <td>9999</td><td>(2, 2, 0, 2, 2, 2, ...)</td>\n",
              "        </tr>\n",
              "        \n",
              "      </tbody>\n",
              "    </table>\n",
              "        "
            ]
          },
          "metadata": {},
          "execution_count": 58
        }
      ]
    },
    {
      "cell_type": "code",
      "source": [
        "def first_sando(x):\n",
        "  day = 1;\n",
        "  while(x[day] != 0):\n",
        "    day += 1\n",
        "  return day\n",
        "\n",
        "T = results.apply(first_sando)\n",
        "T.tabulate()"
      ],
      "metadata": {
        "id": "A_M0n_O5zMgR",
        "outputId": "fc740110-6303-434c-dad5-130153de9f86",
        "colab": {
          "base_uri": "https://localhost:8080/",
          "height": 510
        }
      },
      "execution_count": 60,
      "outputs": [
        {
          "output_type": "execute_result",
          "data": {
            "text/plain": [
              "Value Frequency\n",
              "1     2016\n",
              "2     1310\n",
              "3     1057\n",
              "4     908\n",
              "5     787\n",
              "6     591\n",
              "7     486\n",
              "8     423\n",
              "9     397\n",
              "10    323\n",
              "11    286\n",
              "12    224\n",
              "13    205\n",
              "14    157\n",
              "15    137\n",
              "16    112\n",
              "17    88\n",
              "18    63\n",
              "19    70\n",
              "..    .\n",
              "64    1\n",
              "Total 10000"
            ],
            "text/html": [
              "\n",
              "<table>\n",
              "  <thead>\n",
              "    <th width=\"80%\">Value</th>\n",
              "    <th width=\"20%\">Frequency</th>\n",
              "  </thead>\n",
              "  <tbody>\n",
              "    <tr><td>1</td><td>2016</td></tr><tr><td>2</td><td>1310</td></tr><tr><td>3</td><td>1057</td></tr><tr><td>4</td><td>908</td></tr><tr><td>5</td><td>787</td></tr><tr><td>6</td><td>591</td></tr><tr><td>7</td><td>486</td></tr><tr><td>8</td><td>423</td></tr><tr><td>9</td><td>397</td></tr><tr><td>10</td><td>323</td></tr><tr><td>11</td><td>286</td></tr><tr><td>12</td><td>224</td></tr><tr><td>13</td><td>205</td></tr><tr><td>14</td><td>157</td></tr><tr><td>15</td><td>137</td></tr><tr><td>16</td><td>112</td></tr><tr><td>17</td><td>88</td></tr><tr><td>18</td><td>63</td></tr><tr><td>19</td><td>70</td></tr><tr><td>...</td><td>...</td></tr><tr><td>64</td><td>1</td></tr><tr><td><b>Total</b></td><td><b>10000</b></td></tr>\n",
              "  </tbody>\n",
              "</table>\n"
            ]
          },
          "metadata": {},
          "execution_count": 60
        }
      ]
    },
    {
      "cell_type": "code",
      "source": [
        "T.plot()"
      ],
      "metadata": {
        "id": "qyipEj_C2ZxD",
        "outputId": "141ffda1-986e-46bd-cdf9-804d99c01c3a",
        "colab": {
          "base_uri": "https://localhost:8080/",
          "height": 430
        }
      },
      "execution_count": 61,
      "outputs": [
        {
          "output_type": "display_data",
          "data": {
            "text/plain": [
              "<Figure size 640x480 with 1 Axes>"
            ],
            "image/png": "[encoded data removed]"
          },
          "metadata": {}
        }
      ]
    },
    {
      "cell_type": "markdown",
      "source": [
        "From this plot we can see that the distribution of first sandwitch day is skewed. We are very likey to have a sandwitch within the first few days, but it is possible to go a few weeks without having the first one."
      ],
      "metadata": {
        "id": "bQHSczz92pCw"
      }
    },
    {
      "cell_type": "code",
      "source": [],
      "metadata": {
        "id": "ksnRyuHu3LLB"
      },
      "execution_count": null,
      "outputs": []
    },
    {
      "cell_type": "markdown",
      "source": [
        "$V$"
      ],
      "metadata": {
        "id": "HmKvDOLFaQW0"
      }
    },
    {
      "cell_type": "markdown",
      "source": [
        "$W$"
      ],
      "metadata": {
        "id": "GV9ESMvgaQrQ"
      }
    },
    {
      "cell_type": "markdown",
      "source": [
        "###2."
      ],
      "metadata": {
        "id": "Q7rf4pt0ZizL"
      }
    },
    {
      "cell_type": "markdown",
      "source": [
        "Approximate the joint distribution, along with the correlation, of each of the following:\n",
        "$$X_4 \\text{ and } X_5$$\n",
        "$$T \\text{ and } V$$\n",
        "$$T \\text{ and } W$$\n",
        "$$W \\text{ and } V$$\n"
      ],
      "metadata": {
        "id": "AJFMjtvqZq5n"
      }
    },
    {
      "cell_type": "markdown",
      "source": [
        "$X_4$ and $X_5$"
      ],
      "metadata": {
        "id": "oPTzzE3XahRF"
      }
    },
    {
      "cell_type": "markdown",
      "source": [
        "$T$ and $V$"
      ],
      "metadata": {
        "id": "6BDiaUMNahKl"
      }
    },
    {
      "cell_type": "markdown",
      "source": [
        "$T$ and $W$"
      ],
      "metadata": {
        "id": "XGgA-PDCahAn"
      }
    },
    {
      "cell_type": "markdown",
      "source": [
        "$W$ and $V$"
      ],
      "metadata": {
        "id": "ANLY_4ulagn_"
      }
    },
    {
      "cell_type": "markdown",
      "source": [
        "###3."
      ],
      "metadata": {
        "id": "eLUiWZhTZkz_"
      }
    },
    {
      "cell_type": "markdown",
      "source": [
        "Approximate the conditional distribution of $V$ given $T=4$, along with its (conditional) mean and standard deviation."
      ],
      "metadata": {
        "id": "yNvGgJP_ZrXh"
      }
    },
    {
      "cell_type": "markdown",
      "source": [
        "$V$"
      ],
      "metadata": {
        "id": "VHIPWm40bEHG"
      }
    },
    {
      "cell_type": "markdown",
      "source": [
        "$\\mu$"
      ],
      "metadata": {
        "id": "hBeXeSAubJmZ"
      }
    },
    {
      "cell_type": "markdown",
      "source": [
        "$\\sigma$"
      ],
      "metadata": {
        "id": "KcZaC2VFbPbq"
      }
    },
    {
      "cell_type": "markdown",
      "source": [
        "###4."
      ],
      "metadata": {
        "id": "P4DbJPKiZlHj"
      }
    },
    {
      "cell_type": "markdown",
      "source": [
        "Your choice. Choose at least one other joint, conditional, or marginal distribution to investigate. You can work with $X_n, T, V, W$, but you are also welcome to define other random variables in this context. You can also look at time frames other than a single week."
      ],
      "metadata": {
        "id": "xdTYp5M6bO48"
      }
    },
    {
      "cell_type": "markdown",
      "source": [],
      "metadata": {
        "id": "bxZdIDe-ZsKG"
      }
    },
    {
      "cell_type": "code",
      "source": [],
      "metadata": {
        "id": "UF1oworlZoCb"
      },
      "execution_count": null,
      "outputs": []
    }
  ]
}