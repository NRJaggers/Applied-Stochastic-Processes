{
  "nbformat": 4,
  "nbformat_minor": 0,
  "metadata": {
    "colab": {
      "provenance": [],
      "include_colab_link": true
    },
    "kernelspec": {
      "name": "python3",
      "display_name": "Python 3"
    },
    "language_info": {
      "name": "python"
    }
  },
  "cells": [
    {
      "cell_type": "markdown",
      "metadata": {
        "id": "view-in-github",
        "colab_type": "text"
      },
      "source": [
        "<a href=\"https://colab.research.google.com/github/NRJaggers/Applied-Stochastic-Processes/blob/main/Applications/1-Simple_Random_Walk/Simple_Random_Walk.ipynb\" target=\"_parent\"><img src=\"https://colab.research.google.com/assets/colab-badge.svg\" alt=\"Open In Colab\"/></a>"
      ]
    },
    {
      "cell_type": "markdown",
      "source": [
        "#Simple Random Walk"
      ],
      "metadata": {
        "id": "lwN5bYfDW66u"
      }
    },
    {
      "cell_type": "markdown",
      "source": [
        "---\n",
        "\n",
        "## Prompt"
      ],
      "metadata": {
        "id": "Bh1go0uHXDqq"
      }
    },
    {
      "cell_type": "markdown",
      "source": [
        "Original Prompt can be found [here](https://bookdown.org/kevin_davisross/applied-stochastic-processes/app-random-walk.html). A copy of the prompt along with the completed exercise can be found under [/Applications](https://github.com/NRJaggers/Applied-Stochastic-Processes/tree/main/Applications)."
      ],
      "metadata": {
        "id": "DJpcnN9AXHGQ"
      }
    },
    {
      "cell_type": "markdown",
      "source": [
        "###Summary\n",
        "Two equally matched opponents are competing in a game in which changes in score occur often and in one point increments. (Imagine a basketball game in which every basket counts only one point.) We’ll use simulation to investigate the following questions.\n",
        "\n",
        "1. Which is more likely: that one team leads for most of the game, or that the lead tends to change frequently over the course of the game?\n",
        "2. When would you expect the largest lead (or deficit) to occur — near the beginning, the end, or in the middle of the game? (If the largest lead (or deficit) is attained at several points in the game, when you do expect it to first occur?)\n",
        "3. When would you expect the last tie to occur — near the beginning, the end, or in the middle of the game?"
      ],
      "metadata": {
        "id": "aW1QiAokr-IU"
      }
    },
    {
      "cell_type": "markdown",
      "source": [
        "###Hypothesis\n",
        "\n",
        "1. I would think if the opponents are competitive, then that would lead to the frequent change of leads.\n",
        "2. I think they could happen at any time. I don't think there would be a skew to one point of the game or another.\n",
        "3. Again if it is competitive, I would think that the last tie would occur at the end of the game."
      ],
      "metadata": {
        "id": "yp6UuIMvsWow"
      }
    },
    {
      "cell_type": "markdown",
      "source": [
        "$A = \\text{Team A score} \\qquad B = \\text{Team B score} \\qquad n = \\text{Total scores}$\n",
        "\n",
        "$X_n = A-B \\qquad \\text{After first n scores}$\n",
        "\n",
        "$X_0 = 0$\n",
        "\n",
        "$2n = \\text{steps} $\n",
        "\n",
        "$T = \\text{Last tie} \\qquad L = \\text{Total time A leads} \\qquad M = \\text{First time max differential} \\qquad $"
      ],
      "metadata": {
        "id": "51CnC-MXtsBS"
      }
    },
    {
      "cell_type": "markdown",
      "source": [
        "---\n",
        "\n",
        "## Application"
      ],
      "metadata": {
        "id": "GXUWHhYNXK3F"
      }
    },
    {
      "cell_type": "markdown",
      "source": [
        "Write your own code to conduct and run a simulation to approximate the distribution of each of $T/(2n)$, $L/(2n)$, and $M/(2n)$ for $n=100$. Summarize the results with appropriate plots and summary statistics, and describe the distributions.\n"
      ],
      "metadata": {
        "id": "RXCvu0k9XNzE"
      }
    },
    {
      "cell_type": "code",
      "source": [
        "!git clone https://github.com/dlsun/symbulate"
      ],
      "metadata": {
        "id": "kc4yjiej_Q0y",
        "outputId": "c5c0fde6-7482-4cc1-bbf0-22a994e8adaf",
        "colab": {
          "base_uri": "https://localhost:8080/"
        }
      },
      "execution_count": 2,
      "outputs": [
        {
          "output_type": "stream",
          "name": "stdout",
          "text": [
            "Cloning into 'symbulate'...\n",
            "remote: Enumerating objects: 1703, done.\u001b[K\n",
            "remote: Counting objects: 100% (26/26), done.\u001b[K\n",
            "remote: Compressing objects: 100% (18/18), done.\u001b[K\n",
            "remote: Total 1703 (delta 15), reused 13 (delta 8), pack-reused 1677\u001b[K\n",
            "Receiving objects: 100% (1703/1703), 11.79 MiB | 27.08 MiB/s, done.\n",
            "Resolving deltas: 100% (1162/1162), done.\n"
          ]
        }
      ]
    },
    {
      "cell_type": "code",
      "source": [
        "from symbulate import *\n",
        "%matplotlib inline"
      ],
      "metadata": {
        "id": "zL1Fo-Fb--Nf"
      },
      "execution_count": 5,
      "outputs": []
    },
    {
      "cell_type": "code",
      "source": [
        "pip install symbulate"
      ],
      "metadata": {
        "id": "p87oQFiCLcGF",
        "outputId": "8a8e2b03-7f9c-4910-9258-1f014dc9909f",
        "colab": {
          "base_uri": "https://localhost:8080/",
          "height": 409
        }
      },
      "execution_count": 7,
      "outputs": [
        {
          "output_type": "stream",
          "name": "stdout",
          "text": [
            "Collecting symbulate\n",
            "  Downloading symbulate-0.5.7-py3-none-any.whl (44 kB)\n",
            "\u001b[?25l     \u001b[90m━━━━━━━━━━━━━━━━━━━━━━━━━━━━━━━━━━━━━━━━\u001b[0m \u001b[32m0.0/44.9 kB\u001b[0m \u001b[31m?\u001b[0m eta \u001b[36m-:--:--\u001b[0m\r\u001b[2K     \u001b[90m━━━━━━━━━━━━━━━━━━━━━━━━━━━━━━━━━━━━━━━━\u001b[0m \u001b[32m44.9/44.9 kB\u001b[0m \u001b[31m1.3 MB/s\u001b[0m eta \u001b[36m0:00:00\u001b[0m\n",
            "\u001b[?25hRequirement already satisfied: numpy in /usr/local/lib/python3.10/dist-packages (from symbulate) (1.23.5)\n",
            "Requirement already satisfied: scipy in /usr/local/lib/python3.10/dist-packages (from symbulate) (1.11.4)\n",
            "Requirement already satisfied: matplotlib in /usr/local/lib/python3.10/dist-packages (from symbulate) (3.7.1)\n",
            "Requirement already satisfied: contourpy>=1.0.1 in /usr/local/lib/python3.10/dist-packages (from matplotlib->symbulate) (1.2.0)\n",
            "Requirement already satisfied: cycler>=0.10 in /usr/local/lib/python3.10/dist-packages (from matplotlib->symbulate) (0.12.1)\n",
            "Requirement already satisfied: fonttools>=4.22.0 in /usr/local/lib/python3.10/dist-packages (from matplotlib->symbulate) (4.47.2)\n",
            "Requirement already satisfied: kiwisolver>=1.0.1 in /usr/local/lib/python3.10/dist-packages (from matplotlib->symbulate) (1.4.5)\n",
            "Requirement already satisfied: packaging>=20.0 in /usr/local/lib/python3.10/dist-packages (from matplotlib->symbulate) (23.2)\n",
            "Requirement already satisfied: pillow>=6.2.0 in /usr/local/lib/python3.10/dist-packages (from matplotlib->symbulate) (9.4.0)\n",
            "Requirement already satisfied: pyparsing>=2.3.1 in /usr/local/lib/python3.10/dist-packages (from matplotlib->symbulate) (3.1.1)\n",
            "Requirement already satisfied: python-dateutil>=2.7 in /usr/local/lib/python3.10/dist-packages (from matplotlib->symbulate) (2.8.2)\n",
            "Requirement already satisfied: six>=1.5 in /usr/local/lib/python3.10/dist-packages (from python-dateutil>=2.7->matplotlib->symbulate) (1.16.0)\n",
            "Installing collected packages: symbulate\n",
            "Successfully installed symbulate-0.5.7\n"
          ]
        },
        {
          "output_type": "display_data",
          "data": {
            "application/vnd.colab-display-data+json": {
              "pip_warning": {
                "packages": [
                  "symbulate"
                ]
              }
            }
          },
          "metadata": {}
        }
      ]
    },
    {
      "cell_type": "code",
      "source": [
        "n = 100\n",
        "steps = 2*n\n",
        "\n",
        "P = Bernoulli(0.5)**inf\n",
        "Z = RV(P)\n",
        "A = RandomProcess(P, TimeIndex(fs=1))\n",
        "B = RandomProcess(P, TimeIndex(fs=1))\n",
        "\n",
        "A[0] =  0\n",
        "B[0] =  0\n",
        "for i in range(100):\n",
        "    A[i+1] = A[i] + Z[i+1]"
      ],
      "metadata": {
        "id": "MkfMNez8GBEU",
        "outputId": "1d50df28-8f23-4f54-8789-0a02dc26bde5",
        "colab": {
          "base_uri": "https://localhost:8080/",
          "height": 245
        }
      },
      "execution_count": 6,
      "outputs": [
        {
          "output_type": "error",
          "ename": "NameError",
          "evalue": "name 'Bernoulli' is not defined",
          "traceback": [
            "\u001b[0;31m---------------------------------------------------------------------------\u001b[0m",
            "\u001b[0;31mNameError\u001b[0m                                 Traceback (most recent call last)",
            "\u001b[0;32m<ipython-input-6-af949324e6c7>\u001b[0m in \u001b[0;36m<cell line: 4>\u001b[0;34m()\u001b[0m\n\u001b[1;32m      2\u001b[0m \u001b[0msteps\u001b[0m \u001b[0;34m=\u001b[0m \u001b[0;36m2\u001b[0m\u001b[0;34m*\u001b[0m\u001b[0mn\u001b[0m\u001b[0;34m\u001b[0m\u001b[0;34m\u001b[0m\u001b[0m\n\u001b[1;32m      3\u001b[0m \u001b[0;34m\u001b[0m\u001b[0m\n\u001b[0;32m----> 4\u001b[0;31m \u001b[0mP\u001b[0m \u001b[0;34m=\u001b[0m \u001b[0mBernoulli\u001b[0m\u001b[0;34m(\u001b[0m\u001b[0;36m0.5\u001b[0m\u001b[0;34m)\u001b[0m\u001b[0;34m**\u001b[0m\u001b[0minf\u001b[0m\u001b[0;34m\u001b[0m\u001b[0;34m\u001b[0m\u001b[0m\n\u001b[0m\u001b[1;32m      5\u001b[0m \u001b[0mZ\u001b[0m \u001b[0;34m=\u001b[0m \u001b[0mRV\u001b[0m\u001b[0;34m(\u001b[0m\u001b[0mP\u001b[0m\u001b[0;34m)\u001b[0m\u001b[0;34m\u001b[0m\u001b[0;34m\u001b[0m\u001b[0m\n\u001b[1;32m      6\u001b[0m \u001b[0mA\u001b[0m \u001b[0;34m=\u001b[0m \u001b[0mRandomProcess\u001b[0m\u001b[0;34m(\u001b[0m\u001b[0mP\u001b[0m\u001b[0;34m,\u001b[0m \u001b[0mTimeIndex\u001b[0m\u001b[0;34m(\u001b[0m\u001b[0mfs\u001b[0m\u001b[0;34m=\u001b[0m\u001b[0;36m1\u001b[0m\u001b[0;34m)\u001b[0m\u001b[0;34m)\u001b[0m\u001b[0;34m\u001b[0m\u001b[0;34m\u001b[0m\u001b[0m\n",
            "\u001b[0;31mNameError\u001b[0m: name 'Bernoulli' is not defined"
          ]
        }
      ]
    },
    {
      "cell_type": "code",
      "source": [
        "A.sim(1).plot(alpha = 1)"
      ],
      "metadata": {
        "id": "S0dmuTJKJJMi"
      },
      "execution_count": null,
      "outputs": []
    },
    {
      "cell_type": "markdown",
      "source": [
        "Consider the three questions at the start of this page; what do your simulation results suggest? Write a brief report summarizing your results and conclusions.\n"
      ],
      "metadata": {
        "id": "nIl4P0q0semK"
      }
    }
  ]
}