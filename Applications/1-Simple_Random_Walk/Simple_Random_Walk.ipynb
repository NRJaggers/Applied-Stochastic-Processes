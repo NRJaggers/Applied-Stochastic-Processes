{
  "nbformat": 4,
  "nbformat_minor": 0,
  "metadata": {
    "colab": {
      "provenance": [],
      "include_colab_link": true
    },
    "kernelspec": {
      "name": "python3",
      "display_name": "Python 3"
    },
    "language_info": {
      "name": "python"
    }
  },
  "cells": [
    {
      "cell_type": "markdown",
      "metadata": {
        "id": "view-in-github",
        "colab_type": "text"
      },
      "source": [
        "<a href=\"https://colab.research.google.com/github/NRJaggers/Applied-Stochastic-Processes/blob/main/Applications/1-Simple_Random_Walk/Simple_Random_Walk.ipynb\" target=\"_parent\"><img src=\"https://colab.research.google.com/assets/colab-badge.svg\" alt=\"Open In Colab\"/></a>"
      ]
    },
    {
      "cell_type": "markdown",
      "source": [
        "#Simple Random Walk"
      ],
      "metadata": {
        "id": "lwN5bYfDW66u"
      }
    },
    {
      "cell_type": "markdown",
      "source": [
        "---\n",
        "\n",
        "## Prompt"
      ],
      "metadata": {
        "id": "Bh1go0uHXDqq"
      }
    },
    {
      "cell_type": "markdown",
      "source": [
        "Original Prompt can be found [here](https://bookdown.org/kevin_davisross/applied-stochastic-processes/app-random-walk.html). A copy of the prompt along with the completed exercise can be found under [/Applications](https://github.com/NRJaggers/Applied-Stochastic-Processes/tree/main/Applications)."
      ],
      "metadata": {
        "id": "DJpcnN9AXHGQ"
      }
    },
    {
      "cell_type": "markdown",
      "source": [
        "###Summary\n",
        "Two equally matched opponents are competing in a game in which changes in score occur often and in one point increments. (Imagine a basketball game in which every basket counts only one point.) We’ll use simulation to investigate the following questions.\n",
        "\n",
        "1. Which is more likely: that one team leads for most of the game, or that the lead tends to change frequently over the course of the game?\n",
        "2. When would you expect the largest lead (or deficit) to occur — near the beginning, the end, or in the middle of the game? (If the largest lead (or deficit) is attained at several points in the game, when you do expect it to first occur?)\n",
        "3. When would you expect the last tie to occur — near the beginning, the end, or in the middle of the game?"
      ],
      "metadata": {
        "id": "aW1QiAokr-IU"
      }
    },
    {
      "cell_type": "markdown",
      "source": [
        "###Hypothesis\n",
        "\n",
        "1. I would think if the opponents are competitive, then that would lead to the frequent change of leads.\n",
        "2. I think they could happen at any time. I don't think there would be a skew to one point of the game or another.\n",
        "3. Again if it is competitive, I would think that the last tie would occur at the end of the game."
      ],
      "metadata": {
        "id": "yp6UuIMvsWow"
      }
    },
    {
      "cell_type": "markdown",
      "source": [
        "$A = \\text{Team A score} \\qquad B = \\text{Team B score} \\qquad n = \\text{Total scores}$\n",
        "\n",
        "$X_n = A-B \\qquad \\text{After first n scores}$\n",
        "\n",
        "$X_0 = 0$\n",
        "\n",
        "$2n = \\text{steps} $\n",
        "\n",
        "$T = \\text{Last tie} \\qquad L = \\text{Total time A leads} \\qquad M = \\text{First time max differential} \\qquad $"
      ],
      "metadata": {
        "id": "51CnC-MXtsBS"
      }
    },
    {
      "cell_type": "markdown",
      "source": [
        "---\n",
        "\n",
        "## Application"
      ],
      "metadata": {
        "id": "GXUWHhYNXK3F"
      }
    },
    {
      "cell_type": "markdown",
      "source": [
        "Write your own code to conduct and run a simulation to approximate the distribution of each of $T/(2n)$, $L/(2n)$, and $M/(2n)$ for $n=100$. Summarize the results with appropriate plots and summary statistics, and describe the distributions.\n"
      ],
      "metadata": {
        "id": "RXCvu0k9XNzE"
      }
    },
    {
      "cell_type": "code",
      "source": [
        "pip install symbulate"
      ],
      "metadata": {
        "colab": {
          "base_uri": "https://localhost:8080/"
        },
        "id": "ENEw9U2MRxh9",
        "outputId": "5a134b87-6163-4542-cf03-a5c8082f5550"
      },
      "execution_count": 1,
      "outputs": [
        {
          "output_type": "stream",
          "name": "stdout",
          "text": [
            "Collecting symbulate\n",
            "  Downloading symbulate-0.5.7-py3-none-any.whl (44 kB)\n",
            "\u001b[2K     \u001b[90m━━━━━━━━━━━━━━━━━━━━━━━━━━━━━━━━━━━━━━━━\u001b[0m \u001b[32m44.9/44.9 kB\u001b[0m \u001b[31m651.4 kB/s\u001b[0m eta \u001b[36m0:00:00\u001b[0m\n",
            "\u001b[?25hRequirement already satisfied: numpy in /usr/local/lib/python3.10/dist-packages (from symbulate) (1.23.5)\n",
            "Requirement already satisfied: scipy in /usr/local/lib/python3.10/dist-packages (from symbulate) (1.11.4)\n",
            "Requirement already satisfied: matplotlib in /usr/local/lib/python3.10/dist-packages (from symbulate) (3.7.1)\n",
            "Requirement already satisfied: contourpy>=1.0.1 in /usr/local/lib/python3.10/dist-packages (from matplotlib->symbulate) (1.2.0)\n",
            "Requirement already satisfied: cycler>=0.10 in /usr/local/lib/python3.10/dist-packages (from matplotlib->symbulate) (0.12.1)\n",
            "Requirement already satisfied: fonttools>=4.22.0 in /usr/local/lib/python3.10/dist-packages (from matplotlib->symbulate) (4.47.2)\n",
            "Requirement already satisfied: kiwisolver>=1.0.1 in /usr/local/lib/python3.10/dist-packages (from matplotlib->symbulate) (1.4.5)\n",
            "Requirement already satisfied: packaging>=20.0 in /usr/local/lib/python3.10/dist-packages (from matplotlib->symbulate) (23.2)\n",
            "Requirement already satisfied: pillow>=6.2.0 in /usr/local/lib/python3.10/dist-packages (from matplotlib->symbulate) (9.4.0)\n",
            "Requirement already satisfied: pyparsing>=2.3.1 in /usr/local/lib/python3.10/dist-packages (from matplotlib->symbulate) (3.1.1)\n",
            "Requirement already satisfied: python-dateutil>=2.7 in /usr/local/lib/python3.10/dist-packages (from matplotlib->symbulate) (2.8.2)\n",
            "Requirement already satisfied: six>=1.5 in /usr/local/lib/python3.10/dist-packages (from python-dateutil>=2.7->matplotlib->symbulate) (1.16.0)\n",
            "Installing collected packages: symbulate\n",
            "Successfully installed symbulate-0.5.7\n"
          ]
        }
      ]
    },
    {
      "cell_type": "code",
      "source": [
        "from symbulate import *\n",
        "%matplotlib inline"
      ],
      "metadata": {
        "id": "zL1Fo-Fb--Nf"
      },
      "execution_count": 2,
      "outputs": []
    },
    {
      "cell_type": "code",
      "source": [
        "#Setting up based on prompt\n",
        "n = 100\n",
        "steps = 2*n\n",
        "\n",
        "#Following and modifying Random Processes section from symbulate documentation\n",
        "P = Bernoulli(0.5)**steps\n",
        "Z = RV(P)\n",
        "A = RandomProcess(P, Naturals())\n",
        "B = RandomProcess(P, Naturals())\n",
        "\n",
        "A[0] =  0\n",
        "B[0] =  0\n",
        "for i in range(steps):\n",
        "    if i%2 == 0:\n",
        "      A[i+1] = A[i] + Z[i+1]  # Has possession - Possibility to score\n",
        "      B[i+1] = B[i]           # Defense!\n",
        "    else:\n",
        "      A[i+1] = A[i]           # Defense!\n",
        "      B[i+1] = B[i] + Z[i+1]  # Has possession - Possibility to score\n",
        "\n",
        "#create process to show differential\n",
        "X = A - B\n",
        "\n"
      ],
      "metadata": {
        "id": "MkfMNez8GBEU"
      },
      "execution_count": 43,
      "outputs": []
    },
    {
      "cell_type": "code",
      "source": [
        "#To see A score over time\n",
        "#A.sim(1).plot(alpha = 1, tmin = 0, tmax = 100)"
      ],
      "metadata": {
        "id": "S0dmuTJKJJMi"
      },
      "execution_count": 46,
      "outputs": []
    },
    {
      "cell_type": "code",
      "source": [
        "#To see B score over time\n",
        "#B.sim(1).plot(alpha = 1, tmin = 0, tmax = 100)"
      ],
      "metadata": {
        "id": "8DDbHdQtP0eT"
      },
      "execution_count": 42,
      "outputs": []
    },
    {
      "cell_type": "code",
      "source": [
        "#To see A - B differential over time\n",
        "games = X.sim(1)\n",
        "games.plot(alpha = 1, tmin = 0, tmax = 200)"
      ],
      "metadata": {
        "colab": {
          "base_uri": "https://localhost:8080/",
          "height": 449
        },
        "id": "W1qtS7R7QJIc",
        "outputId": "9554b462-fb98-49be-b588-f17b0582c9e7"
      },
      "execution_count": 56,
      "outputs": [
        {
          "output_type": "display_data",
          "data": {
            "text/plain": [
              "<Figure size 640x480 with 1 Axes>"
            ],
            "image/png": "[encoded data removed]"
          },
          "metadata": {}
        }
      ]
    },
    {
      "cell_type": "code",
      "source": [
        "def last_tie(x):\n",
        "    last_tie_index = 0\n",
        "    for i in range(steps):\n",
        "        if x[i] == 0:\n",
        "            last_tie_index = i\n",
        "    return last_tie_index\n",
        "\n",
        "tie = games.apply(last_tie).get(0)\n",
        "msg = \"The last tie was at step {}, {:.2f}% through the game.\".format(tie, (tie/steps)*100)\n",
        "print(msg)"
      ],
      "metadata": {
        "colab": {
          "base_uri": "https://localhost:8080/"
        },
        "id": "fp0kLy7FUmeY",
        "outputId": "f8835cc3-a3e0-4ef4-aa28-2e2650915c67"
      },
      "execution_count": 67,
      "outputs": [
        {
          "output_type": "stream",
          "name": "stdout",
          "text": [
            "The last tie was at step 117. 58.50% through the game\n"
          ]
        }
      ]
    },
    {
      "cell_type": "code",
      "source": [
        "def time_lead_A(x):\n",
        "    time_lead = 0\n",
        "    for i in range(steps):\n",
        "        if x[i] > 0:\n",
        "            time_lead += 1\n",
        "    return time_lead\n",
        "\n",
        "lead = games.apply(time_lead_A).get(0)\n",
        "msg = \"The total time team A held the lead was {} steps, {:.2f}% of the game.\".format(lead,(lead/steps)*100)\n",
        "print(msg)"
      ],
      "metadata": {
        "colab": {
          "base_uri": "https://localhost:8080/"
        },
        "id": "nszl5-y9iI94",
        "outputId": "e3810146-75ae-465e-a919-5296e538fe6f"
      },
      "execution_count": 68,
      "outputs": [
        {
          "output_type": "stream",
          "name": "stdout",
          "text": [
            "The total time team A held the lead was 26 steps, 13.00% of the game.\n"
          ]
        }
      ]
    },
    {
      "cell_type": "code",
      "source": [
        "def max(x):\n",
        "    max_num = 0\n",
        "    for i in range(steps):\n",
        "        if abs(x[i]) > max_num:\n",
        "              max_num = abs(x[i])\n",
        "    return max_num\n",
        "\n",
        "# diff_max = games.apply(max).get(0)\n",
        "# msg = \"The greatest differential in the game was {} points.\".format(diff_max)\n",
        "# print(msg)"
      ],
      "metadata": {
        "id": "X7Ui2VeujMkB"
      },
      "execution_count": 70,
      "outputs": []
    },
    {
      "cell_type": "code",
      "source": [
        "def maxi(x):\n",
        "    max_num = max(x)\n",
        "    maxi = 0\n",
        "    for i in range(steps):\n",
        "      if abs(x[i]) == max_num:\n",
        "            maxi = abs(i)\n",
        "            return maxi\n",
        "\n",
        "diff_maxi = games.apply(maxi).get(0)\n",
        "msg = \"The greatest differential in the game of {} occured at step {}, {:.2f}% through the game.\".format(diff_max, diff_maxi, (diff_maxi/steps)*100)\n",
        "print(msg)"
      ],
      "metadata": {
        "colab": {
          "base_uri": "https://localhost:8080/"
        },
        "id": "Y7BPKq_Mk4Al",
        "outputId": "125efb12-5d23-4188-a57d-714345c15056"
      },
      "execution_count": 72,
      "outputs": [
        {
          "output_type": "stream",
          "name": "stdout",
          "text": [
            "The greatest differential in the game of 5 occured at step 32, 16.00% through the game.\n"
          ]
        }
      ]
    },
    {
      "cell_type": "markdown",
      "source": [
        "Consider the three questions at the start of this page; what do your simulation results suggest? Write a brief report summarizing your results and conclusions.\n"
      ],
      "metadata": {
        "id": "nIl4P0q0semK"
      }
    }
  ]
}