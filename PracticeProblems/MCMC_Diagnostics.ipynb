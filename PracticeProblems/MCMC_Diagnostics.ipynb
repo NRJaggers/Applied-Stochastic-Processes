{
  "nbformat": 4,
  "nbformat_minor": 0,
  "metadata": {
    "colab": {
      "provenance": [],
      "include_colab_link": true
    },
    "kernelspec": {
      "name": "python3",
      "display_name": "Python 3"
    },
    "language_info": {
      "name": "python"
    }
  },
  "cells": [
    {
      "cell_type": "markdown",
      "metadata": {
        "id": "view-in-github",
        "colab_type": "text"
      },
      "source": [
        "<a href=\"https://colab.research.google.com/github/NRJaggers/Applied-Stochastic-Processes/blob/main/PracticeProblems/MCMC_Diagnostics.ipynb\" target=\"_parent\"><img src=\"https://colab.research.google.com/assets/colab-badge.svg\" alt=\"Open In Colab\"/></a>"
      ]
    },
    {
      "cell_type": "markdown",
      "source": [
        "#Some Diagnostics for MCMC"
      ],
      "metadata": {
        "id": "lwN5bYfDW66u"
      }
    },
    {
      "cell_type": "markdown",
      "source": [
        "---\n",
        "\n",
        "## Prompt"
      ],
      "metadata": {
        "id": "Bh1go0uHXDqq"
      }
    },
    {
      "cell_type": "markdown",
      "source": [
        "Original Prompt can be found [here](https://bookdown.org/kevin_davisross/applied-stochastic-processes/pp-mcmc-diagnostics.html). A copy of the prompt  can be found on github under [/PracticeProblems/Prompts](https://github.com/NRJaggers/Applied-Stochastic-Processes/tree/main/PracticeProblems/Prompts) along with completed exercises under [/PracticeProblems](https://github.com/NRJaggers/Applied-Stochastic-Processes/tree/main/PracticeProblems)."
      ],
      "metadata": {
        "id": "DJpcnN9AXHGQ"
      }
    },
    {
      "cell_type": "markdown",
      "source": [
        "---\n",
        "\n",
        "## Problems"
      ],
      "metadata": {
        "id": "GXUWHhYNXK3F"
      }
    },
    {
      "cell_type": "markdown",
      "source": [
        "###1."
      ],
      "metadata": {
        "id": "RXCvu0k9XNzE"
      }
    },
    {
      "cell_type": "markdown",
      "source": [
        "I think the plot that best captures the relationship between $\\sigma$ and $\\text{ESS}$ is plot D.\n",
        "\n",
        "We propose movement to a new state by $N(x, \\sigma)$, so sigma is determining the spread of values we can jump to in one step.\n",
        "\n",
        "This is similar to the example we discussed in lecture where the size of the step has big implications for how well we are able to explore a distribution of interest. If the step size is to big or too small we will get \"stuck\". Also if the step the step size is too big or too small it will affect the autocorrelation function and lag.\n",
        "\n",
        "This is important because how quickly the ACF decays to 0 affects the ESS. The faster the decay, the bigger the effective sample size. Therefore since the best $\\sigma$ or step size is in between a big and small number, the optimum value is somewhere in the middle. This means the largest ESS is somewhere in the middle, hence the selection of D, a parabolic shape with a maximum."
      ],
      "metadata": {
        "id": "UsWwsQHy7Xia"
      }
    },
    {
      "cell_type": "markdown",
      "source": [
        "###2."
      ],
      "metadata": {
        "id": "NnOccgJbXbpb"
      }
    },
    {
      "cell_type": "markdown",
      "source": [
        "####a."
      ],
      "metadata": {
        "id": "oGNpmAz7oU9V"
      }
    },
    {
      "cell_type": "markdown",
      "source": [
        "It looks like A has the smallest step size and that would lead to a slowly decaying ACF. So I think this one would have the smallest step size."
      ],
      "metadata": {
        "id": "swqw9a7-Ml6F"
      }
    },
    {
      "cell_type": "markdown",
      "source": [
        "####b."
      ],
      "metadata": {
        "id": "FrcqOaqKoXG_"
      }
    },
    {
      "cell_type": "markdown",
      "source": [
        "I believe C is the most unrepresentative. It looks like it has a sigma that allows for bigger steps but it also looks like its max and min values are capped at -1 to 1 which is not the case for $N(0, 1)$."
      ],
      "metadata": {
        "id": "-wbXHC1aM5i6"
      }
    },
    {
      "cell_type": "markdown",
      "source": [
        "####c."
      ],
      "metadata": {
        "id": "VFyH6urYoXhi"
      }
    },
    {
      "cell_type": "markdown",
      "source": [
        "It looks like B best achieves this goal. Its steps size is big enough to span the distribution and not get stuck. It also looks like it is not capped in max value like C."
      ],
      "metadata": {
        "id": "ifUFxnFCN7jv"
      }
    },
    {
      "cell_type": "markdown",
      "source": [
        "###3."
      ],
      "metadata": {
        "id": "CMNoSKVNoTCh"
      }
    },
    {
      "cell_type": "markdown",
      "source": [
        "$$\\begin{align*}\n",
        "x & & 1 & & 2 & & 3\\\\\n",
        "\\pi(x) & & 0.2 & & 0.3 & & 0.5\n",
        "\\end{align*}$$"
      ],
      "metadata": {
        "id": "jZ419jimOd_e"
      }
    },
    {
      "cell_type": "markdown",
      "source": [
        "$$\n",
        "\\mathbf{Q_1} =\n",
        "\\begin{bmatrix}\n",
        "0 & 1 & 0\\\\\n",
        "0.5 & 0.3 & 0.2\\\\\n",
        "0.6 & 0.4 & 0\n",
        "\\end{bmatrix}\n",
        "$$\n",
        "\n",
        "$$\n",
        "\\mathbf{Q_2} =\n",
        "\\begin{bmatrix}\n",
        "0.1 & 0.4 & 0.5\\\\\n",
        "0.2 & 0.3 & 0.5\\\\\n",
        "0.1 & 0.3 & 0.6\n",
        "\\end{bmatrix}\n",
        "$$\n",
        "\n",
        "$$\n",
        "\\mathbf{Q_3} =\n",
        "\\begin{bmatrix}\n",
        "0.7 & 0.3 & 0\\\\\n",
        "0 & 0.9 & 0.1\\\\\n",
        "0 & 0.2 & 0.8\n",
        "\\end{bmatrix}\n",
        "$$"
      ],
      "metadata": {
        "id": "KN7mooKXOhzn"
      }
    },
    {
      "cell_type": "markdown",
      "source": [
        "####a."
      ],
      "metadata": {
        "id": "x5UEoEeRoeT5"
      }
    },
    {
      "cell_type": "markdown",
      "source": [
        "I think the first matrix would have the lowest ESS. The transition in the first row where it would always go to the second state makes it seem like it would get stuck in a loop more often rather than exploring the space."
      ],
      "metadata": {
        "id": "e_SOAFXVQj1h"
      }
    },
    {
      "cell_type": "markdown",
      "source": [
        "####b."
      ],
      "metadata": {
        "id": "fa1cIt-GogDN"
      }
    },
    {
      "cell_type": "markdown",
      "source": [
        "The last matrix seems like to might converge the fastest. Not every state leads to every other state and the probabilities of transition are pretty high or low so it seems like it would tend to a certain direction faster than the other matricies."
      ],
      "metadata": {
        "id": "FrC7J8pbRYlE"
      }
    },
    {
      "cell_type": "markdown",
      "source": [
        "---\n",
        "\n",
        "## Reflection"
      ],
      "metadata": {
        "id": "8tVMmKgxXWdC"
      }
    },
    {
      "cell_type": "markdown",
      "source": [
        "With each Practice Problem submission, you should also take a few minutes to reflect on the practice problems and related material and thoughtfully respond to the following.\n",
        "\n",
        "1. Write a sentence or two summarizing - in your own words - one big idea from this material.\n",
        "2. Describe one particular aspect of this material that you found challenging and why. Then describe how you dealt with the challenge, or what you can do to deal with the challenge.\n",
        "3. Write at least one specific question you have about this material. I strongly encourage you to post your questions directly in Discord as that's where I'll respond to questions. That is, if you really want an answer to your question - which I hope you do! - please post the question directly in Discord."
      ],
      "metadata": {
        "id": "XDBX6FZlXZ1N"
      }
    },
    {
      "cell_type": "markdown",
      "source": [
        "I think this big practice from this homework was getting some practice with understanding the behavior and characteristics of MCMC and being able to apply them. It felt a lot like critcal thinking, putting puzzle pieces together and trying to make sense of data."
      ],
      "metadata": {
        "id": "COQz4qEBXaq3"
      }
    }
  ]
}