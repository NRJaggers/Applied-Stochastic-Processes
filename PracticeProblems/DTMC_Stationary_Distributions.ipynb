{
  "nbformat": 4,
  "nbformat_minor": 0,
  "metadata": {
    "colab": {
      "provenance": [],
      "include_colab_link": true
    },
    "kernelspec": {
      "name": "python3",
      "display_name": "Python 3"
    },
    "language_info": {
      "name": "python"
    }
  },
  "cells": [
    {
      "cell_type": "markdown",
      "metadata": {
        "id": "view-in-github",
        "colab_type": "text"
      },
      "source": [
        "<a href=\"https://colab.research.google.com/github/NRJaggers/Applied-Stochastic-Processes/blob/main/PracticeProblems/DTMC_Stationary_Distributions.ipynb\" target=\"_parent\"><img src=\"https://colab.research.google.com/assets/colab-badge.svg\" alt=\"Open In Colab\"/></a>"
      ]
    },
    {
      "cell_type": "markdown",
      "source": [
        "#Discrete Time Markov Chains: Stationary Distributions"
      ],
      "metadata": {
        "id": "lwN5bYfDW66u"
      }
    },
    {
      "cell_type": "markdown",
      "source": [
        "---\n",
        "\n",
        "## Prompt"
      ],
      "metadata": {
        "id": "Bh1go0uHXDqq"
      }
    },
    {
      "cell_type": "markdown",
      "source": [
        "Original Prompt can be found [here](https://bookdown.org/kevin_davisross/applied-stochastic-processes/pp-mc-stationary-distributions.html). A copy of the prompt  can be found on github under [/PracticeProblems/Prompts](https://github.com/NRJaggers/Applied-Stochastic-Processes/tree/main/PracticeProblems/Prompts) along with completed exercises under [/PracticeProblems](https://github.com/NRJaggers/Applied-Stochastic-Processes/tree/main/PracticeProblems)."
      ],
      "metadata": {
        "id": "DJpcnN9AXHGQ"
      }
    },
    {
      "cell_type": "markdown",
      "source": [
        "---\n",
        "\n",
        "## Problems"
      ],
      "metadata": {
        "id": "GXUWHhYNXK3F"
      }
    },
    {
      "cell_type": "markdown",
      "source": [
        "###1.1."
      ],
      "metadata": {
        "id": "RXCvu0k9XNzE"
      }
    },
    {
      "cell_type": "markdown",
      "source": [
        "Top to bottom & left to right = 0 to 5 <br> <br>\n",
        "\n",
        "$$\n",
        "\\text{P} = \\begin{bmatrix}\n",
        "0 & 0 & 0 & 0.1 & 0.3 & 0.6 \\\\\n",
        "0 & 0 & 0 & 0.1 & 0.3 & 0.6 \\\\\n",
        "0.1 & 0.3 & 0.6 & 0 & 0 & 0 \\\\\n",
        "0 & 0.1 & 0.3 & 0.6 & 0 & 0 \\\\\n",
        "0 & 0 & 0.1 & 0.3 & 0.6 & 0 \\\\\n",
        "0 & 0 & 0 & 0.1 & 0.3 & 0.6 \\\\\n",
        "\\end{bmatrix}\n",
        "$$\n",
        "<br> <br>\n",
        "\n",
        "Stationary Distribution: <br>\n",
        "$$\\pi\\text{P} = \\pi$$\n",
        "\n",
        "System of Equations: <br>\n",
        "$$\n",
        "\\pi(0) = \\pi(0)p(0,0) + \\pi(1)p(1,0) +  \\pi(2)p(2,0) +  \\pi(3)p(3,0) +  \\pi(4)p(4,0) + \\pi(5)p(5,0) \\\\\n",
        "\\pi(1) = \\pi(0)p(0,1) + \\pi(1)p(1,1) +  \\pi(2)p(2,1) +  \\pi(3)p(3,1) +  \\pi(4)p(4,1) + \\pi(5)p(5,1) \\\\\n",
        "\\pi(2) = \\pi(0)p(0,2) + \\pi(1)p(1,2) +  \\pi(2)p(2,2) +  \\pi(3)p(3,2) +  \\pi(4)p(4,2) + \\pi(5)p(5,2) \\\\\n",
        "\\pi(3) = \\pi(0)p(0,3) + \\pi(1)p(1,3) +  \\pi(2)p(2,3) +  \\pi(3)p(3,3) +  \\pi(4)p(4,3) + \\pi(5)p(5,3) \\\\\n",
        "\\pi(4) = \\pi(0)p(0,4) + \\pi(1)p(1,4) +  \\pi(2)p(2,4) +  \\pi(3)p(3,4) +  \\pi(4)p(4,4) + \\pi(5)p(5,4) \\\\\n",
        "\\pi(5) = \\pi(0)p(0,5) + \\pi(1)p(1,5) +  \\pi(2)p(2,5) +  \\pi(3)p(3,5) +  \\pi(4)p(4,5) + \\pi(5)p(5,5) \\\\\n",
        "1 = \\pi(0) + \\pi(1) + \\pi(2) + \\pi(3) + \\pi(4) + \\pi(5)\\\\\n",
        "$$"
      ],
      "metadata": {
        "id": "gMD2Ecj8f7nn"
      }
    },
    {
      "cell_type": "markdown",
      "source": [
        "###1.2."
      ],
      "metadata": {
        "id": "NnOccgJbXbpb"
      }
    },
    {
      "cell_type": "markdown",
      "source": [
        "$\\pi = \\pi\\text{P} \\rightarrow \\pi - \\pi\\text{P} = 0 \\rightarrow \\pi( \\text{I}-\\text{P}) = 0$\n",
        "\n",
        "A = [0] + 1 from results above\n",
        "B = (I-P) + row of pi from results above\n",
        "\n",
        "$\\pi B = A \\rightarrow \\pi = B^{-1}A \\rightarrow \\pi = (I-P)^{-1}[[0];1]$\n",
        "\n",
        "(also will have to throw out one of the pi(i) equations because it will be redundant with the addition of the summation of pi equations)"
      ],
      "metadata": {
        "id": "hE3jN_ja1gzD"
      }
    },
    {
      "cell_type": "code",
      "source": [
        "#Method 1\n",
        "import numpy as np\n",
        "\n",
        "P = np.array([[0, 0, 0, 0.1, 0.3, 0.6],\n",
        "              [0, 0, 0, 0.1, 0.3, 0.6],\n",
        "              [0.1, 0.3, 0.6, 0, 0, 0],\n",
        "              [0, 0.1, 0.3, 0.6, 0, 0],\n",
        "              [0, 0, 0.1, 0.3, 0.6, 0],\n",
        "              [0, 0, 0, 0.1, 0.3, 0.6]])\n",
        "\n",
        "I = np.identity(6)\n",
        "\n",
        "A = np.array([[0], [0], [0], [0], [0], [1]])\n",
        "#print(A)\n",
        "\n",
        "B = I-P\n",
        "#print(B)\n",
        "b = B.copy()\n",
        "b = b[-5:]\n",
        "b = np.vstack((b, [1, 1, 1, 1, 1, 1]))\n",
        "# print(b)\n",
        "\n",
        "result = np.linalg.inv(b)*A\n",
        "print(result)"
      ],
      "metadata": {
        "id": "-fwql0cQ3frR",
        "outputId": "e334ca74-04b2-4538-9381-284631f271aa",
        "colab": {
          "base_uri": "https://localhost:8080/"
        }
      },
      "execution_count": 68,
      "outputs": [
        {
          "output_type": "stream",
          "name": "stdout",
          "text": [
            "[[-0.         -0.         -0.         -0.         -0.          0.        ]\n",
            " [ 0.          0.          0.          0.          0.          0.        ]\n",
            " [ 0.          0.         -0.         -0.          0.          0.        ]\n",
            " [ 0.          0.          0.          0.          0.          0.        ]\n",
            " [ 0.          0.          0.          0.          0.          0.        ]\n",
            " [ 0.53921569  1.66666667  2.05882353  2.15686275  2.89215686  0.16666667]]\n"
          ]
        }
      ]
    },
    {
      "cell_type": "code",
      "source": [
        "#Method 2\n",
        "P = np.array([[0, 0, 0, 0.1, 0.3, 0.6],\n",
        "              [0, 0, 0, 0.1, 0.3, 0.6],\n",
        "              [0.1, 0.3, 0.6, 0, 0, 0],\n",
        "              [0, 0.1, 0.3, 0.6, 0, 0],\n",
        "              [0, 0, 0.1, 0.3, 0.6, 0],\n",
        "              [0, 0, 0, 0.1, 0.3, 0.6]])\n",
        "\n",
        "I = np.identity(6)\n",
        "\n",
        "A = np.array([[0], [0], [0], [0], [0], [1]])\n",
        "# print(A)\n",
        "\n",
        "B = I-P\n",
        "b = B.copy()\n",
        "b = b[-5:]\n",
        "b = np.vstack((b, [1, 1, 1, 1, 1, 1]))\n",
        "T = np.hstack((b,A))\n",
        "\n",
        "print(T,T.shape)\n",
        "\n",
        "\n",
        "# import sympy\n",
        "from sympy import *\n",
        "\n",
        "M = Matrix(T)\n",
        "# print(\"Matrix : {} \".format(M))\n",
        "\n",
        "# Use sympy.rref() method\n",
        "M_rref = M.rref()\n",
        "\n",
        "print(\"The Row echelon form of matrix M and the pivot columns : {}\".format(M_rref))\n"
      ],
      "metadata": {
        "colab": {
          "base_uri": "https://localhost:8080/"
        },
        "id": "HNjc9dw0pGeC",
        "outputId": "7482e1ee-78f7-4bf2-f08c-cada6b31d3fb"
      },
      "execution_count": 87,
      "outputs": [
        {
          "output_type": "stream",
          "name": "stdout",
          "text": [
            "[[ 0.   1.   0.  -0.1 -0.3 -0.6  0. ]\n",
            " [-0.1 -0.3  0.4  0.   0.   0.   0. ]\n",
            " [ 0.  -0.1 -0.3  0.4  0.   0.   0. ]\n",
            " [ 0.   0.  -0.1 -0.3  0.4  0.   0. ]\n",
            " [ 0.   0.   0.  -0.1 -0.3  0.4  0. ]\n",
            " [ 1.   1.   1.   1.   1.   1.   1. ]] (6, 7)\n",
            "The Row echelon form of matrix M and the pivot columns : (Matrix([\n",
            "[1, 0, 0, 0, 0, 0, 0.166666666666667],\n",
            "[0, 1, 0, 0, 0, 0, 0.166666666666667],\n",
            "[0, 0, 1, 0, 0, 0, 0.166666666666667],\n",
            "[0, 0, 0, 1, 0, 0, 0.166666666666667],\n",
            "[0, 0, 0, 0, 1, 0, 0.166666666666667],\n",
            "[0, 0, 0, 0, 0, 1, 0.166666666666667]]), (0, 1, 2, 3, 4, 5))\n"
          ]
        }
      ]
    },
    {
      "cell_type": "markdown",
      "source": [
        "###2."
      ],
      "metadata": {
        "id": "0xz7kC1323M6"
      }
    },
    {
      "cell_type": "markdown",
      "source": [
        "Degrees for different nodes on little dipper starting from left to right then top to bottom.\n",
        "\n",
        "\\begin{array}{ccccccc|c}\n",
        "  d_1 & d_2 & d_3 & d_4 & d_5 & d_6 & d_7 & total\\\\\n",
        "  \\hline\n",
        "   1 & 2 & 2 & 3 & 2 & 2 & 2 & 14\\\\\n",
        "\\end{array}\n",
        "<br>\n",
        "\n",
        "$$\n",
        "\\mathbf{\\pi} = \\begin{bmatrix}\n",
        "\\frac{1}{14} &\n",
        "\\frac{2}{14} &\n",
        "\\frac{2}{14} &\n",
        "\\frac{3}{14} &\n",
        "\\frac{2}{14} &\n",
        "\\frac{2}{14} &\n",
        "\\frac{2}{14}\n",
        "\\end{bmatrix}\n",
        "$$"
      ],
      "metadata": {
        "id": "cyRmfF49272o"
      }
    },
    {
      "cell_type": "markdown",
      "source": [
        "---\n",
        "\n",
        "## Reflection"
      ],
      "metadata": {
        "id": "8tVMmKgxXWdC"
      }
    },
    {
      "cell_type": "markdown",
      "source": [
        "With each Practice Problem submission, you should also take a few minutes to reflect on the practice problems and related material and thoughtfully respond to the following.\n",
        "\n",
        "1. Write a sentence or two summarizing - in your own words - one big idea from this material.\n",
        "2. Describe one particular aspect of this material that you found challenging and why. Then describe how you dealt with the challenge, or what you can do to deal with the challenge.\n",
        "3. Write at least one specific question you have about this material. I strongly encourage you to post your questions directly in Discord as that's where I'll respond to questions. That is, if you really want an answer to your question - which I hope you do! - please post the question directly in Discord."
      ],
      "metadata": {
        "id": "XDBX6FZlXZ1N"
      }
    },
    {
      "cell_type": "markdown",
      "source": [
        "The main lesson I learned from this set of exercises was how to think about and find stationary distributions. I struggled to find the distribution using a set of equations and I posted my question to the discord to get some clarification. I am also thinking of solving it a different way using other python packages for solving systems of equations."
      ],
      "metadata": {
        "id": "COQz4qEBXaq3"
      }
    }
  ]
}