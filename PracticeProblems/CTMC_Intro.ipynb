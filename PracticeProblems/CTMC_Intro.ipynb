{
  "nbformat": 4,
  "nbformat_minor": 0,
  "metadata": {
    "colab": {
      "provenance": [],
      "include_colab_link": true
    },
    "kernelspec": {
      "name": "python3",
      "display_name": "Python 3"
    },
    "language_info": {
      "name": "python"
    }
  },
  "cells": [
    {
      "cell_type": "markdown",
      "metadata": {
        "id": "view-in-github",
        "colab_type": "text"
      },
      "source": [
        "<a href=\"https://colab.research.google.com/github/NRJaggers/Applied-Stochastic-Processes/blob/main/PracticeProblems/CTMC_Intro.ipynb\" target=\"_parent\"><img src=\"https://colab.research.google.com/assets/colab-badge.svg\" alt=\"Open In Colab\"/></a>"
      ]
    },
    {
      "cell_type": "markdown",
      "source": [
        "#Introduction to Continuous Time Markov Chains"
      ],
      "metadata": {
        "id": "lwN5bYfDW66u"
      }
    },
    {
      "cell_type": "markdown",
      "source": [
        "---\n",
        "\n",
        "## Prompt"
      ],
      "metadata": {
        "id": "Bh1go0uHXDqq"
      }
    },
    {
      "cell_type": "markdown",
      "source": [
        "Original Prompt can be found [here](https://bookdown.org/kevin_davisross/applied-stochastic-processes/pp-ctmc-intro.html). A copy of the prompt  can be found on github under [/PracticeProblems/Prompts](https://github.com/NRJaggers/Applied-Stochastic-Processes/tree/main/PracticeProblems/Prompts) along with completed exercises under [/PracticeProblems](https://github.com/NRJaggers/Applied-Stochastic-Processes/tree/main/PracticeProblems)."
      ],
      "metadata": {
        "id": "DJpcnN9AXHGQ"
      }
    },
    {
      "cell_type": "markdown",
      "source": [
        "---\n",
        "\n",
        "## Problems"
      ],
      "metadata": {
        "id": "GXUWHhYNXK3F"
      }
    },
    {
      "cell_type": "markdown",
      "source": [
        "###1."
      ],
      "metadata": {
        "id": "RXCvu0k9XNzE"
      }
    },
    {
      "cell_type": "markdown",
      "source": [
        "$$\\mathbf{Q} =\n",
        "\\begin{bmatrix}\n",
        "& 1 & 0 & 1\\\\\n",
        "2 &  & 2 & 0\\\\\n",
        "0 & 3 &  & 3\\\\\n",
        "4 & 0 & 4 & \\\\\n",
        "\\end{bmatrix}\n",
        "$$"
      ],
      "metadata": {
        "id": "1NMZzPVlM-qK"
      }
    },
    {
      "cell_type": "markdown",
      "source": [
        "####a."
      ],
      "metadata": {
        "id": "j2fR7sL0Myb6"
      }
    },
    {
      "cell_type": "markdown",
      "source": [
        "Find the diagonal entries of $\\mathbf{Q}$"
      ],
      "metadata": {
        "id": "LSVBTzozNEoa"
      }
    },
    {
      "cell_type": "markdown",
      "source": [
        "Row sums of Q = 0.\n",
        "\n",
        "therefore\n",
        "\n",
        "$\\text{diagonal}(Q) = [-2 \\quad -4 \\quad -6 \\quad -8]$"
      ],
      "metadata": {
        "id": "jnmRe2ocPLWD"
      }
    },
    {
      "cell_type": "markdown",
      "source": [
        "$$\n",
        "\\mathbf{Q} = \\begin{bmatrix}\n",
        "-2 & 1 & 0 & 1\\\\\n",
        "2 & -4 & 2 & 0\\\\\n",
        "0 & 3 & -6 & 3\\\\\n",
        "4 & 0 & 4 & -8\\\\\n",
        "\\end{bmatrix}\n",
        "$$"
      ],
      "metadata": {
        "id": "D33uwTG3RD14"
      }
    },
    {
      "cell_type": "markdown",
      "source": [
        "####b."
      ],
      "metadata": {
        "id": "CugdUPqpM2aA"
      }
    },
    {
      "cell_type": "markdown",
      "source": [
        "Explain in full detail how you could simulate the process for a long time using only (1) a coin, and (2) an Exponential(1) spinner."
      ],
      "metadata": {
        "id": "i9glMDI1NORf"
      }
    },
    {
      "cell_type": "markdown",
      "source": [
        "It looks like from the rate matrix you only ever go to two states from the one you are in. Therefore you can flip a coin to determine what state you transition to based on current state. You can use the exponential spinner to determine how long you spend in a given state for a certain time period."
      ],
      "metadata": {
        "id": "btDA06c4P22p"
      }
    },
    {
      "cell_type": "markdown",
      "source": [
        "###2."
      ],
      "metadata": {
        "id": "NnOccgJbXbpb"
      }
    },
    {
      "cell_type": "markdown",
      "source": [
        "A system is composed of $5$ machines. A machine operates for an Exponentially distributed amount of time with rate $\\mu=1$ and then fails. When a machine fails it undergoes repair; repair times are Exponential distributed with rate $\\lambda=2$. Let $X(t)$ represent the number of machines operating at time $t$; then $\\{X(t)\\}$ is a CTMC. Find the rate matrix of the CTMC."
      ],
      "metadata": {
        "id": "UwjSyRiONf4X"
      }
    },
    {
      "cell_type": "markdown",
      "source": [
        "5 machines, $X_t$ is amount of machines working at time t.\n",
        "\n",
        "If all machines are working we can transition down to 4 machines. It isan exponental race between the 5 machines and results in rate $5\\mu$.\n",
        "\n",
        "We will assume there is not a queue for the repairs and that the repairs start right after failure.\n",
        "\n",
        "If 4 machines are working and 1 is broken, then it will be repaired at  rate of $\\lambda$ while there is still a race for machines breaking down with a rate of $4\\mu$.\n",
        "\n",
        "If all machines are broken then they will be repaired at a rate of $5\\lambda$."
      ],
      "metadata": {
        "id": "lf4reLvIJ6Vt"
      }
    },
    {
      "cell_type": "markdown",
      "source": [
        "$$\n",
        "\\mathbf{Q} = \\begin{bmatrix}\n",
        "-5\\lambda & 5\\lambda & 0 & 0 & 0 & 0\\\\\n",
        "\\mu & -(\\mu+4\\lambda) & 4\\lambda & 0 & 0 & 0\\\\\n",
        "0 & 2\\mu & -(2\\mu+3\\lambda) & 3\\lambda & 0 & 0\\\\\n",
        "0 & 0 & 3\\mu & -(3\\mu+2\\lambda) & 2\\lambda & 0\\\\\n",
        "0 & 0 & 0 & 4\\mu & -(4\\mu+\\lambda) & \\lambda\\\\\n",
        "0 & 0 & 0 & 0 & 5μ & -5\\mu\\\\\n",
        "\\end{bmatrix}\n",
        "$$"
      ],
      "metadata": {
        "id": "fJs7k3buUIgC"
      }
    },
    {
      "cell_type": "code",
      "source": [
        "import numpy as np\n",
        "\n",
        "# Define parameters\n",
        "mu = 1  # rate of machine failure\n",
        "lambda_ = 2  # rate of machine repair\n",
        "num_machines = 5  # total number of machines\n",
        "\n",
        "# Construct the rate matrix Q\n",
        "Q = np.zeros((num_machines + 1, num_machines + 1))\n",
        "\n",
        "# Populate diagonal elements\n",
        "for i in range(num_machines):\n",
        "    Q[i, i] = -mu * (num_machines - i) - lambda_ * i\n",
        "Q[num_machines, num_machines] = -lambda_ * num_machines\n",
        "\n",
        "# Populate off-diagonal elements\n",
        "for i in range(num_machines):\n",
        "    Q[i, i + 1] = mu * (num_machines - i)\n",
        "    Q[i + 1, i] = lambda_ * (i + 1)\n",
        "\n",
        "print(\"Rate matrix Q:\")\n",
        "print(Q)\n"
      ],
      "metadata": {
        "id": "NhCG5Rf6n7KQ",
        "outputId": "d383ed69-fa91-4b70-9252-b10aedbb8711",
        "colab": {
          "base_uri": "https://localhost:8080/"
        }
      },
      "execution_count": 4,
      "outputs": [
        {
          "output_type": "stream",
          "name": "stdout",
          "text": [
            "Rate matrix Q:\n",
            "[[ -5.   5.   0.   0.   0.   0.]\n",
            " [  2.  -6.   4.   0.   0.   0.]\n",
            " [  0.   4.  -7.   3.   0.   0.]\n",
            " [  0.   0.   6.  -8.   2.   0.]\n",
            " [  0.   0.   0.   8.  -9.   1.]\n",
            " [  0.   0.   0.   0.  10. -10.]]\n"
          ]
        }
      ]
    },
    {
      "cell_type": "code",
      "source": [
        "import numpy as np\n",
        "from graphviz import Digraph\n",
        "import os\n",
        "import matplotlib.pyplot as plt\n",
        "\n",
        "def create_state_diagram(rate_matrix, state_labels=None):\n",
        "    \"\"\"\n",
        "    Creates a state diagram using Graphviz from a rate matrix.\n",
        "\n",
        "    Args:\n",
        "    - rate_matrix: NumPy array representing the rate matrix\n",
        "    - state_labels: Optional list of state labels\n",
        "\n",
        "    Returns:\n",
        "    - graph: Graphviz Digraph object representing the state diagram\n",
        "    \"\"\"\n",
        "    num_states = rate_matrix.shape[0]\n",
        "\n",
        "    # Initialize the Digraph object\n",
        "    graph = Digraph(format='png')\n",
        "\n",
        "    # Add nodes\n",
        "    for i in range(num_states):\n",
        "        if state_labels is not None:\n",
        "            graph.node(str(i), label=state_labels[i])\n",
        "        else:\n",
        "            graph.node(str(i))\n",
        "\n",
        "    # Add edges\n",
        "    for i in range(num_states):\n",
        "        for j in range(num_states):\n",
        "            if rate_matrix[i, j] > 0:\n",
        "                graph.edge(str(i), str(j), label=str(rate_matrix[i, j]))\n",
        "\n",
        "    return graph\n",
        "\n",
        "state_diagram = create_state_diagram(Q)\n",
        "state_diagram.render('state_diagram', format='png', cleanup=True)\n",
        "\n",
        "img = plt.imread('state_diagram.png')\n",
        "plt.axis(\"off\")\n",
        "plt.imshow(img)"
      ],
      "metadata": {
        "id": "ot0qs6OzOImx",
        "outputId": "fcf32d76-b93c-41cb-90be-6df040a348f5",
        "colab": {
          "base_uri": "https://localhost:8080/",
          "height": 423
        }
      },
      "execution_count": 6,
      "outputs": [
        {
          "output_type": "execute_result",
          "data": {
            "text/plain": [
              "<matplotlib.image.AxesImage at 0x79ce11f1e620>"
            ]
          },
          "metadata": {},
          "execution_count": 6
        },
        {
          "output_type": "display_data",
          "data": {
            "text/plain": [
              "<Figure size 640x480 with 1 Axes>"
            ],
            "image/png": "[encoded data removed]"
          },
          "metadata": {}
        }
      ]
    },
    {
      "cell_type": "markdown",
      "source": [
        "---\n",
        "\n",
        "## Reflection"
      ],
      "metadata": {
        "id": "8tVMmKgxXWdC"
      }
    },
    {
      "cell_type": "markdown",
      "source": [
        "With each Practice Problem submission, you should also take a few minutes to reflect on the practice problems and related material and thoughtfully respond to the following.\n",
        "\n",
        "1. Write a sentence or two summarizing - in your own words - one big idea from this material.\n",
        "2. Describe one particular aspect of this material that you found challenging and why. Then describe how you dealt with the challenge, or what you can do to deal with the challenge.\n",
        "3. Write at least one specific question you have about this material. I strongly encourage you to post your questions directly in Discord as that's where I'll respond to questions. That is, if you really want an answer to your question - which I hope you do! - please post the question directly in Discord."
      ],
      "metadata": {
        "id": "XDBX6FZlXZ1N"
      }
    },
    {
      "cell_type": "markdown",
      "source": [
        "The big idea from this section is how markov chain properties are constructed from a continuous time domain. Here we learn what the transition matricies look like and how to construct and use rate matricies.\n",
        "I definitly struggled with setting up 2, not sure if it is right. I will want to check with someone definitly."
      ],
      "metadata": {
        "id": "COQz4qEBXaq3"
      }
    }
  ]
}