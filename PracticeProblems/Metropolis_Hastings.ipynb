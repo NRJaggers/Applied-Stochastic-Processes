{
  "nbformat": 4,
  "nbformat_minor": 0,
  "metadata": {
    "colab": {
      "provenance": [],
      "include_colab_link": true
    },
    "kernelspec": {
      "name": "python3",
      "display_name": "Python 3"
    },
    "language_info": {
      "name": "python"
    }
  },
  "cells": [
    {
      "cell_type": "markdown",
      "metadata": {
        "id": "view-in-github",
        "colab_type": "text"
      },
      "source": [
        "<a href=\"https://colab.research.google.com/github/NRJaggers/Applied-Stochastic-Processes/blob/main/PracticeProblems/Metropolis_Hastings.ipynb\" target=\"_parent\"><img src=\"https://colab.research.google.com/assets/colab-badge.svg\" alt=\"Open In Colab\"/></a>"
      ]
    },
    {
      "cell_type": "markdown",
      "source": [
        "#Metropolis-Hastings Algorithm"
      ],
      "metadata": {
        "id": "lwN5bYfDW66u"
      }
    },
    {
      "cell_type": "markdown",
      "source": [
        "---\n",
        "\n",
        "## Prompt"
      ],
      "metadata": {
        "id": "Bh1go0uHXDqq"
      }
    },
    {
      "cell_type": "markdown",
      "source": [
        "Original Prompt can be found [here](https://bookdown.org/kevin_davisross/applied-stochastic-processes/pp-metropolis.html). A copy of the prompt  can be found on github under [/PracticeProblems/Prompts](https://github.com/NRJaggers/Applied-Stochastic-Processes/tree/main/PracticeProblems/Prompts) along with completed exercises under [/PracticeProblems](https://github.com/NRJaggers/Applied-Stochastic-Processes/tree/main/PracticeProblems)."
      ],
      "metadata": {
        "id": "DJpcnN9AXHGQ"
      }
    },
    {
      "cell_type": "markdown",
      "source": [
        "---\n",
        "\n",
        "## Problems"
      ],
      "metadata": {
        "id": "GXUWHhYNXK3F"
      }
    },
    {
      "cell_type": "markdown",
      "source": [
        "###1."
      ],
      "metadata": {
        "id": "RXCvu0k9XNzE"
      }
    },
    {
      "cell_type": "markdown",
      "source": [
        "$$\n",
        "\\begin{array}\n",
        "x & & 0 & & 1 & & 2 & & 3 & & 4 & & 5\\\\\n",
        "\\text{P}(X=x) & & 0.15 & & 0.18 & &  0.35& & 0.20 & & 0.08 & &0.04  \n",
        "\\end{array}\n",
        "$$"
      ],
      "metadata": {
        "id": "ehRwfl5F5ZtD"
      }
    },
    {
      "cell_type": "markdown",
      "source": [
        "####a."
      ],
      "metadata": {
        "id": "EY0dPT88C4tp"
      }
    },
    {
      "cell_type": "markdown",
      "source": [
        "Our proposal matrix will be a symmetric matrix that represents the random walk to neighboring states probabilities. This will leave our acceptance probability as just the ratio of the proposed state over the current state from the desired distribution.\n",
        "\n",
        "Multiplying the proposed and acceptance outcomes will tell us our next move."
      ],
      "metadata": {
        "id": "p6Q71hEg5c2E"
      }
    },
    {
      "cell_type": "markdown",
      "source": [
        "####b."
      ],
      "metadata": {
        "id": "XIm_SM-DC9GL"
      }
    },
    {
      "cell_type": "code",
      "source": [
        "import numpy as np\n",
        "\n",
        "pi = np.array([0.15, 0.18, 0.35, 0.20, 0.08, 0.04])\n",
        "\n",
        "steps = 10000\n",
        "\n",
        "sim = np.zeros(steps)\n",
        "sim[0] = 0\n",
        "\n",
        "for i in range(1,steps):\n",
        "    current = round(sim[i-1])\n",
        "\n",
        "    up = min([current + 1, 5])\n",
        "    down = max([current - 1, 0])\n",
        "    proposed = up if np.random.rand() > 0.5 else down\n",
        "\n",
        "    ratio = pi[proposed]/pi[current]\n",
        "    prob_accept = min([ratio, 1])\n",
        "\n",
        "    accepted = proposed if np.random.rand() < prob_accept else current\n",
        "\n",
        "    sim[i] = accepted\n",
        "\n",
        "\n",
        "distribution = np.array([np.sum(sim == 0), np.sum(sim == 1), np.sum(sim == 2), np.sum(sim == 3), np.sum(sim == 4), np.sum(sim == 5),])\n",
        "distribution = distribution/steps\n",
        "print(distribution)"
      ],
      "metadata": {
        "colab": {
          "base_uri": "https://localhost:8080/"
        },
        "id": "hZQRiCnV9Qkp",
        "outputId": "9e11915f-24f9-44d4-bcfb-36f6ad7221f8"
      },
      "execution_count": 45,
      "outputs": [
        {
          "output_type": "stream",
          "name": "stdout",
          "text": [
            "[0.1518 0.1799 0.3504 0.2018 0.0785 0.0376]\n"
          ]
        }
      ]
    },
    {
      "cell_type": "markdown",
      "source": [
        "As you increase the number of steps, the simulated distribution seems to better approximate the desired distribution."
      ],
      "metadata": {
        "id": "wxTdFeftK-JJ"
      }
    },
    {
      "cell_type": "markdown",
      "source": [
        "####c."
      ],
      "metadata": {
        "id": "3g8AzGkzC-lf"
      }
    },
    {
      "cell_type": "code",
      "source": [
        "P = np.zeros([6,6])\n",
        "\n",
        "steps = 10000\n",
        "\n",
        "sim = np.zeros(steps)\n",
        "sim[0] = 0\n",
        "\n",
        "for i in range(1,steps):\n",
        "    current = round(sim[i-1])\n",
        "\n",
        "    up = min([current + 1, 5])\n",
        "    down = max([current - 1, 0])\n",
        "    proposed = up if np.random.rand() > 0.5 else down\n",
        "\n",
        "    ratio = pi[proposed]/pi[current]\n",
        "    prob_accept = min([ratio, 1])\n",
        "\n",
        "    accepted = proposed if np.random.rand() < prob_accept else current\n",
        "\n",
        "    sim[i] = accepted\n",
        "\n",
        "    P[current,accepted] += 1\n",
        "\n",
        "row_totals = P.sum(axis=1, keepdims=True)\n",
        "\n",
        "P = P / row_totals\n",
        "\n",
        "print(P)"
      ],
      "metadata": {
        "colab": {
          "base_uri": "https://localhost:8080/"
        },
        "id": "ExunHmQzLfNB",
        "outputId": "6574e729-6ecf-4026-c51a-cd3bf56784c7"
      },
      "execution_count": 63,
      "outputs": [
        {
          "output_type": "stream",
          "name": "stdout",
          "text": [
            "[[0.49627624 0.50372376 0.         0.         0.         0.        ]\n",
            " [0.41531582 0.08384572 0.50083846 0.         0.         0.        ]\n",
            " [0.         0.25615341 0.45191757 0.29192902 0.         0.        ]\n",
            " [0.         0.         0.51180311 0.28829734 0.19989955 0.        ]\n",
            " [0.         0.         0.         0.47659064 0.28331333 0.24009604]\n",
            " [0.         0.         0.         0.         0.48192771 0.51807229]]\n"
          ]
        }
      ]
    },
    {
      "cell_type": "markdown",
      "source": [
        "####d."
      ],
      "metadata": {
        "id": "777cb0VMDBJ9"
      }
    },
    {
      "cell_type": "code",
      "source": [
        "def compute_stationary_distribution(P):\n",
        "    s = P.shape[0]\n",
        "    identity_matrix = np.eye(s)\n",
        "    ones_matrix = np.ones((s, s))\n",
        "\n",
        "    # Compute the stationary distribution\n",
        "    stationary_distribution = np.dot(np.ones(s), np.linalg.solve(identity_matrix - P + ones_matrix, np.eye(s)))\n",
        "\n",
        "    return stationary_distribution\n",
        "\n",
        "stationary_distribution = compute_stationary_distribution(P)\n",
        "print(\"Stationary Distribution:\")\n",
        "print(stationary_distribution)"
      ],
      "metadata": {
        "colab": {
          "base_uri": "https://localhost:8080/"
        },
        "id": "eQTHJqqgOU45",
        "outputId": "3f298a42-6ae7-4278-90e4-02f58c0948d4"
      },
      "execution_count": 64,
      "outputs": [
        {
          "output_type": "stream",
          "name": "stdout",
          "text": [
            "Stationary Distribution:\n",
            "[0.14734132 0.17870575 0.34941058 0.19930142 0.08359431 0.04164662]\n"
          ]
        }
      ]
    },
    {
      "cell_type": "markdown",
      "source": [
        "The simulated stationary distribution is very close to the target distribution."
      ],
      "metadata": {
        "id": "aoTA0tG4ROAA"
      }
    },
    {
      "cell_type": "markdown",
      "source": [
        "###2."
      ],
      "metadata": {
        "id": "NnOccgJbXbpb"
      }
    },
    {
      "cell_type": "markdown",
      "source": [
        "$$f(x) \\propto e^{-|x|}, \\qquad -\\infty<x<\\infty$$"
      ],
      "metadata": {
        "id": "_gjZm4_WRWcx"
      }
    },
    {
      "cell_type": "code",
      "source": [
        "import matplotlib.pyplot as plt\n",
        "plt_range = 10\n",
        "x = np.arange(-plt_range,plt_range,1)\n",
        "y = np.exp(-abs(x))\n",
        "\n",
        "plt.plot(x,y)"
      ],
      "metadata": {
        "colab": {
          "base_uri": "https://localhost:8080/",
          "height": 447
        },
        "id": "s8dRP2Z0SadM",
        "outputId": "7b4d0ea5-9149-465e-b393-7ffe949cebf0"
      },
      "execution_count": 78,
      "outputs": [
        {
          "output_type": "execute_result",
          "data": {
            "text/plain": [
              "[<matplotlib.lines.Line2D at 0x7fa3f8431f00>]"
            ]
          },
          "metadata": {},
          "execution_count": 78
        },
        {
          "output_type": "display_data",
          "data": {
            "text/plain": [
              "<Figure size 640x480 with 1 Axes>"
            ],
            "image/png": "[encoded data removed]"
          },
          "metadata": {}
        }
      ]
    },
    {
      "cell_type": "markdown",
      "source": [
        "####a."
      ],
      "metadata": {
        "id": "-jn9nFmIC_yb"
      }
    },
    {
      "cell_type": "markdown",
      "source": [
        "We can follow a similar approch as before. We are given no proposed matrix this time so we can either choose one if we assume this is discrete state and discrete time, or if we want to do continuous state we can choose a continous state we are comfortable with.\n",
        "\n",
        "Here we will use normal distribution to propose values and the function above to calculate probabilities of acceptance."
      ],
      "metadata": {
        "id": "nPvFdiL6UaKj"
      }
    },
    {
      "cell_type": "markdown",
      "source": [
        "####b."
      ],
      "metadata": {
        "id": "t1hku1OaDCYs"
      }
    },
    {
      "cell_type": "code",
      "source": [
        "def f(x):\n",
        "  return np.exp(-abs(x))\n",
        "\n",
        "steps = 10000\n",
        "\n",
        "sim = np.zeros(steps)\n",
        "\n",
        "for i in range(1,steps):\n",
        "    #define current step\n",
        "    current = sim[i-1]\n",
        "\n",
        "    #generate proposal\n",
        "    proposed = np.random.normal(current, scale=1)\n",
        "\n",
        "    #find probability of acceptance\n",
        "    ratio = f(proposed)/f(current)\n",
        "    prob_accept = min([ratio, 1])\n",
        "\n",
        "    #simulate\n",
        "    accepted = proposed if np.random.rand() < prob_accept else current\n",
        "\n",
        "    sim[i] = accepted\n",
        "\n",
        "plt.plot(sim)"
      ],
      "metadata": {
        "colab": {
          "base_uri": "https://localhost:8080/",
          "height": 447
        },
        "id": "JJRRRnqNVQss",
        "outputId": "a40a96a0-dc52-4c94-aee7-4cec50f04aae"
      },
      "execution_count": 99,
      "outputs": [
        {
          "output_type": "execute_result",
          "data": {
            "text/plain": [
              "[<matplotlib.lines.Line2D at 0x7fa3f74f0310>]"
            ]
          },
          "metadata": {},
          "execution_count": 99
        },
        {
          "output_type": "display_data",
          "data": {
            "text/plain": [
              "<Figure size 640x480 with 1 Axes>"
            ],
            "image/png": "[encoded data removed]"
          },
          "metadata": {}
        }
      ]
    },
    {
      "cell_type": "code",
      "source": [
        "# Create figure and primary axis\n",
        "fig, ax1 = plt.subplots()\n",
        "\n",
        "# Plot the histogram on the primary y-axis\n",
        "ax1.hist(sim, bins=30, density=True)\n",
        "ax1.tick_params(axis='y', labelcolor='blue')\n",
        "\n",
        "# Create secondary axis\n",
        "ax2 = ax1.twinx()\n",
        "\n",
        "# Plot the line plot on the secondary y-axis\n",
        "ax2.plot(x, y, color='orange')\n",
        "ax2.tick_params(axis='y', labelcolor='orange')\n",
        "\n",
        "plt.show()\n"
      ],
      "metadata": {
        "colab": {
          "base_uri": "https://localhost:8080/",
          "height": 430
        },
        "id": "VaWnL3uSeiY0",
        "outputId": "6083d340-330f-4d20-b650-d90bc36500be"
      },
      "execution_count": 103,
      "outputs": [
        {
          "output_type": "display_data",
          "data": {
            "text/plain": [
              "<Figure size 640x480 with 2 Axes>"
            ],
            "image/png": "[encoded data removed]"
          },
          "metadata": {}
        }
      ]
    },
    {
      "cell_type": "markdown",
      "source": [
        "The bins and the target distribution do seem to match."
      ],
      "metadata": {
        "id": "Nb3Fw0uqhMyP"
      }
    },
    {
      "cell_type": "markdown",
      "source": [
        "---\n",
        "\n",
        "## Reflection"
      ],
      "metadata": {
        "id": "8tVMmKgxXWdC"
      }
    },
    {
      "cell_type": "markdown",
      "source": [
        "With each Practice Problem submission, you should also take a few minutes to reflect on the practice problems and related material and thoughtfully respond to the following.\n",
        "\n",
        "1. Write a sentence or two summarizing - in your own words - one big idea from this material.\n",
        "2. Describe one particular aspect of this material that you found challenging and why. Then describe how you dealt with the challenge, or what you can do to deal with the challenge.\n",
        "3. Write at least one specific question you have about this material. I strongly encourage you to post your questions directly in Discord as that's where I'll respond to questions. That is, if you really want an answer to your question - which I hope you do! - please post the question directly in Discord."
      ],
      "metadata": {
        "id": "XDBX6FZlXZ1N"
      }
    },
    {
      "cell_type": "markdown",
      "source": [
        "The main idea from this homework was practicing the application of the MH algorithm we learned in class. Although we talked about the general steps before, with these problems you fill in the gaps of knowlege on how to set things up by working through them."
      ],
      "metadata": {
        "id": "COQz4qEBXaq3"
      }
    }
  ]
}