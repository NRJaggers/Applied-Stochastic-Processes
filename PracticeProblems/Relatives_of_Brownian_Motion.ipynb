{
  "nbformat": 4,
  "nbformat_minor": 0,
  "metadata": {
    "colab": {
      "provenance": [],
      "include_colab_link": true
    },
    "kernelspec": {
      "name": "python3",
      "display_name": "Python 3"
    },
    "language_info": {
      "name": "python"
    }
  },
  "cells": [
    {
      "cell_type": "markdown",
      "metadata": {
        "id": "view-in-github",
        "colab_type": "text"
      },
      "source": [
        "<a href=\"https://colab.research.google.com/github/NRJaggers/Applied-Stochastic-Processes/blob/main/PracticeProblems/Relatives_of_Brownian_Motion.ipynb\" target=\"_parent\"><img src=\"https://colab.research.google.com/assets/colab-badge.svg\" alt=\"Open In Colab\"/></a>"
      ]
    },
    {
      "cell_type": "markdown",
      "source": [
        "#Relatives of Brownian Motion\n"
      ],
      "metadata": {
        "id": "lwN5bYfDW66u"
      }
    },
    {
      "cell_type": "markdown",
      "source": [
        "---\n",
        "\n",
        "## Prompt"
      ],
      "metadata": {
        "id": "Bh1go0uHXDqq"
      }
    },
    {
      "cell_type": "markdown",
      "source": [
        "Original Prompt can be found [here](https://bookdown.org/kevin_davisross/applied-stochastic-processes/pp-brownian-relatives.html). A copy of the prompt  can be found on github under [/PracticeProblems/Prompts](https://github.com/NRJaggers/Applied-Stochastic-Processes/tree/main/PracticeProblems/Prompts) along with completed exercises under [/PracticeProblems](https://github.com/NRJaggers/Applied-Stochastic-Processes/tree/main/PracticeProblems)."
      ],
      "metadata": {
        "id": "DJpcnN9AXHGQ"
      }
    },
    {
      "cell_type": "markdown",
      "source": [
        "---\n",
        "\n",
        "## Problems"
      ],
      "metadata": {
        "id": "GXUWHhYNXK3F"
      }
    },
    {
      "cell_type": "markdown",
      "source": [
        "###1."
      ],
      "metadata": {
        "id": "RXCvu0k9XNzE"
      }
    },
    {
      "cell_type": "markdown",
      "source": [
        "Compute the probability that the stock price 2 years from now is 10% greater than the stock price 1 year from now.\n",
        "\n",
        "$\\mu=0.05$\n",
        "\n",
        "$\\sigma = 0.20$\n",
        "\n",
        "$\\text{P}(Y(2+t)>1.1*Y(1+t)) = \\text{P}(\\frac{Y(2+t)}{Y(1+t)}>1.1)$\n",
        "\n",
        "To represent now, we will take time as 0 initially.\n",
        "\n",
        "$t = 0$\n",
        "\n",
        "$\\text{P}(ln(\\frac{Y(2)}{Y(1)})>ln(1.1))$\n",
        "\n",
        "$\\text{P}(ln(Y(2))-ln(Y(1))>ln(1.1))$\n",
        "\n",
        "Y(1) and Y(2) are both normal and therefore we can find an equivalent normal distribution with $\\mu '$ and $\\sigma '$\n",
        "\n",
        "$\\sim N(\\mu 't, \\sigma '\\sqrt{t})>ln(1.1)$"
      ],
      "metadata": {
        "id": "SenB5ddMcpln"
      }
    },
    {
      "cell_type": "code",
      "source": [
        "import scipy.stats\n",
        "import math\n",
        "\n",
        "t = 2\n",
        "1.1\n",
        "roi = math.log(1.1)\n",
        "\n",
        "mean1 = 0.05*1\n",
        "var1 = 0.02**2*1\n",
        "std1 = math.sqrt(var1)\n",
        "\n",
        "mean2 = 0.05*2\n",
        "var2 = 0.02**2*2\n",
        "std2 = math.sqrt(var2)\n",
        "\n",
        "mu = mean2 - mean1\n",
        "var = var2 + var1\n",
        "sigma = math.sqrt(var)\n",
        "\n",
        "P = scipy.stats.norm.cdf(roi, mu*t, sigma*math.sqrt(t))\n",
        "print(1-P)"
      ],
      "metadata": {
        "id": "Y3HZa_CCf4F9",
        "outputId": "27e094bf-deb5-49d8-9c00-7e8e7641181f",
        "colab": {
          "base_uri": "https://localhost:8080/"
        }
      },
      "execution_count": 4,
      "outputs": [
        {
          "output_type": "stream",
          "name": "stdout",
          "text": [
            "0.5381327130737076\n"
          ]
        }
      ]
    },
    {
      "cell_type": "markdown",
      "source": [
        "###2."
      ],
      "metadata": {
        "id": "NnOccgJbXbpb"
      }
    },
    {
      "cell_type": "markdown",
      "source": [
        "Let $U(t)$ represent the difference (in percentage points) between an interest rate and some benchmark. (For example, $U$ is 0 when the interest rate is equal to the benchmark, $U$ is -1 if the interest rate is 1 percentage point below the benchmark, etc.) Assume that $U(t)$ follows an Ornstein-Uhlenbeck process. If the interest rate is currently 3 percentage points below the benchmark, find the probability that the interest rate is more than 1.5 percentage point below the benchmark 2 units of time from now."
      ],
      "metadata": {
        "id": "YjzMTpe_lZj4"
      }
    },
    {
      "cell_type": "markdown",
      "source": [
        "$\\text{P}(U(2)>-1.5|U(0)=-3)$"
      ],
      "metadata": {
        "id": "BHcOq1hZs9ZI"
      }
    },
    {
      "cell_type": "code",
      "source": [
        "import scipy.stats\n",
        "import math\n",
        "\n",
        "points = -1.5\n",
        "\n",
        "mean1 = 0\n",
        "var1 = 1\n",
        "std1 = math.sqrt(var1)\n",
        "\n",
        "mean2 = 0\n",
        "var2 = 1\n",
        "std2 = math.sqrt(var2)\n",
        "\n",
        "cov = math.exp(-(2-0)/2)\n",
        "\n",
        "mu = mean2 - mean1\n",
        "var = var2 + var1 -2*cov\n",
        "sigma = math.sqrt(var)\n",
        "\n",
        "P = scipy.stats.norm.cdf(points, mu, sigma)\n",
        "print(1-P)"
      ],
      "metadata": {
        "id": "A7a0dcbDlaFS",
        "outputId": "bf3d41e8-39d5-4171-ce2f-d58ba1fb8eae",
        "colab": {
          "base_uri": "https://localhost:8080/"
        }
      },
      "execution_count": 6,
      "outputs": [
        {
          "output_type": "stream",
          "name": "stdout",
          "text": [
            "0.9089083767754416\n"
          ]
        }
      ]
    },
    {
      "cell_type": "markdown",
      "source": [
        "---\n",
        "\n",
        "## Reflection"
      ],
      "metadata": {
        "id": "8tVMmKgxXWdC"
      }
    },
    {
      "cell_type": "markdown",
      "source": [
        "With each Practice Problem submission, you should also take a few minutes to reflect on the practice problems and related material and thoughtfully respond to the following.\n",
        "\n",
        "1. Write a sentence or two summarizing - in your own words - one big idea from this material.\n",
        "2. Describe one particular aspect of this material that you found challenging and why. Then describe how you dealt with the challenge, or what you can do to deal with the challenge.\n",
        "3. Write at least one specific question you have about this material. I strongly encourage you to post your questions directly in Discord as that's where I'll respond to questions. That is, if you really want an answer to your question - which I hope you do! - please post the question directly in Discord."
      ],
      "metadata": {
        "id": "XDBX6FZlXZ1N"
      }
    },
    {
      "cell_type": "markdown",
      "source": [
        "This is the last bit of material for the class, here we are learning some applications and distributions of things related to brownian motion. I won't lie, I worked on this homework during presentations for another class so I was a bit distracted. I between all the projects, I will see if I can ask about this in class or office hours."
      ],
      "metadata": {
        "id": "COQz4qEBXaq3"
      }
    }
  ]
}