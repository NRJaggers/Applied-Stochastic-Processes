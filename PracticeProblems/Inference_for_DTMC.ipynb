{
  "nbformat": 4,
  "nbformat_minor": 0,
  "metadata": {
    "colab": {
      "provenance": [],
      "include_colab_link": true
    },
    "kernelspec": {
      "name": "python3",
      "display_name": "Python 3"
    },
    "language_info": {
      "name": "python"
    }
  },
  "cells": [
    {
      "cell_type": "markdown",
      "metadata": {
        "id": "view-in-github",
        "colab_type": "text"
      },
      "source": [
        "<a href=\"https://colab.research.google.com/github/NRJaggers/Applied-Stochastic-Processes/blob/main/PracticeProblems/Inference_for_DTMC.ipynb\" target=\"_parent\"><img src=\"https://colab.research.google.com/assets/colab-badge.svg\" alt=\"Open In Colab\"/></a>"
      ]
    },
    {
      "cell_type": "markdown",
      "source": [
        "#Inference for Discrete Time Markov Chains"
      ],
      "metadata": {
        "id": "lwN5bYfDW66u"
      }
    },
    {
      "cell_type": "markdown",
      "source": [
        "---\n",
        "\n",
        "## Prompt"
      ],
      "metadata": {
        "id": "Bh1go0uHXDqq"
      }
    },
    {
      "cell_type": "markdown",
      "source": [
        "Original Prompt can be found [here](https://bookdown.org/kevin_davisross/applied-stochastic-processes/pp-mc-inference.html). A copy of the prompt  can be found on github under [/PracticeProblems/Prompts](https://github.com/NRJaggers/Applied-Stochastic-Processes/tree/main/PracticeProblems/Prompts) along with completed exercises under [/PracticeProblems](https://github.com/NRJaggers/Applied-Stochastic-Processes/tree/main/PracticeProblems)."
      ],
      "metadata": {
        "id": "DJpcnN9AXHGQ"
      }
    },
    {
      "cell_type": "markdown",
      "source": [
        "---\n",
        "\n",
        "## Problems"
      ],
      "metadata": {
        "id": "GXUWHhYNXK3F"
      }
    },
    {
      "cell_type": "code",
      "source": [
        "#import data\n",
        "#   - you can either clone the whole repository, go to resources and select the data from there\n",
        "#   - or you can just go to the link below and download the data necessary and drop it in the runtime files\n",
        "\n",
        "#https://github.com/NRJaggers/Applied-Stochastic-Processes/blob/main/Resources/preproglucacon.csv\n",
        "\n",
        "!git clone https://github.com/NRJaggers/Applied-Stochastic-Processes/"
      ],
      "metadata": {
        "id": "e4nYrksSVR6F",
        "outputId": "50293f20-9e92-4c4e-96b7-535757101b53",
        "colab": {
          "base_uri": "https://localhost:8080/"
        }
      },
      "execution_count": 3,
      "outputs": [
        {
          "output_type": "stream",
          "name": "stdout",
          "text": [
            "Cloning into 'Applied-Stochastic-Processes'...\n",
            "remote: Enumerating objects: 303, done.\u001b[K\n",
            "remote: Counting objects: 100% (185/185), done.\u001b[K\n",
            "remote: Compressing objects: 100% (172/172), done.\u001b[K\n",
            "remote: Total 303 (delta 72), reused 28 (delta 10), pack-reused 118\u001b[K\n",
            "Receiving objects: 100% (303/303), 1.66 MiB | 21.26 MiB/s, done.\n",
            "Resolving deltas: 100% (103/103), done.\n"
          ]
        }
      ]
    },
    {
      "cell_type": "code",
      "source": [
        "import numpy as np\n",
        "import pandas as pd\n",
        "\n",
        "#dataset_path = 'preproglucacon.csv'\n",
        "dataset_path = 'Applied-Stochastic-Processes/Resources/preproglucacon.csv'\n",
        "\n",
        "\n",
        "# Load the dataset into a Pandas DataFrame\n",
        "df = pd.read_csv(dataset_path)\n",
        "\n",
        "# Display the first few rows of the DataFrame\n",
        "print(df.head())"
      ],
      "metadata": {
        "id": "mwWlqK92Vq5J",
        "outputId": "4dadccea-f39e-4b56-8309-55654e66e9bf",
        "colab": {
          "base_uri": "https://localhost:8080/"
        }
      },
      "execution_count": 74,
      "outputs": [
        {
          "output_type": "stream",
          "name": "stdout",
          "text": [
            "   x\n",
            "0  G\n",
            "1  T\n",
            "2  A\n",
            "3  T\n",
            "4  T\n"
          ]
        }
      ]
    },
    {
      "cell_type": "markdown",
      "source": [
        "###1."
      ],
      "metadata": {
        "id": "RXCvu0k9XNzE"
      }
    },
    {
      "cell_type": "code",
      "source": [
        "df.count()"
      ],
      "metadata": {
        "id": "tgpiZFqqr07e",
        "outputId": "e8eecf51-fa07-4a1b-a19c-64ed7fc34955",
        "colab": {
          "base_uri": "https://localhost:8080/"
        }
      },
      "execution_count": 35,
      "outputs": [
        {
          "output_type": "execute_result",
          "data": {
            "text/plain": [
              "x    1572\n",
              "dtype: int64"
            ]
          },
          "metadata": {},
          "execution_count": 35
        }
      ]
    },
    {
      "cell_type": "code",
      "source": [
        "subtotals = df.value_counts()"
      ],
      "metadata": {
        "id": "uPbhWy8zqxMi"
      },
      "execution_count": 155,
      "outputs": []
    },
    {
      "cell_type": "code",
      "source": [
        "subtotals.sum()"
      ],
      "metadata": {
        "id": "oo_VjSuMr5EN",
        "outputId": "38ba43a9-71ac-4988-f4cc-4c85083389ae",
        "colab": {
          "base_uri": "https://localhost:8080/"
        }
      },
      "execution_count": 60,
      "outputs": [
        {
          "output_type": "execute_result",
          "data": {
            "text/plain": [
              "1572"
            ]
          },
          "metadata": {},
          "execution_count": 60
        }
      ]
    },
    {
      "cell_type": "code",
      "source": [
        "data = df.to_numpy()\n",
        "data[-1]"
      ],
      "metadata": {
        "id": "Aq_-aULPw-xI",
        "outputId": "5bc201c0-a013-4eab-d5ed-aa1f564ed31c",
        "colab": {
          "base_uri": "https://localhost:8080/"
        }
      },
      "execution_count": 119,
      "outputs": [
        {
          "output_type": "execute_result",
          "data": {
            "text/plain": [
              "array(['G'], dtype=object)"
            ]
          },
          "metadata": {},
          "execution_count": 119
        }
      ]
    },
    {
      "cell_type": "code",
      "source": [
        "#create array to hold data\n",
        "P = np.zeros((subtotals.size,subtotals.size))\n",
        "\n",
        "def classify_value(value):\n",
        "    if value == 'A':\n",
        "        return 0\n",
        "    elif value == 'C':\n",
        "        return 1\n",
        "    elif value == 'G':\n",
        "        return 2\n",
        "    elif value == 'T':\n",
        "        return 3\n",
        "    else:\n",
        "        return 'Unknown'\n",
        "\n",
        "#count transitions\n",
        "for i in range(0,df.size-1):\n",
        "  j = classify_value(data[i])\n",
        "  k = classify_value(data[i+1])\n",
        "  P[j,k] += 1\n",
        "\n",
        "#show results\n",
        "print(P)\n"
      ],
      "metadata": {
        "id": "Gckyv-TkmkWq",
        "outputId": "ffa8fbc6-90c6-45ae-9a03-044a983715e1",
        "colab": {
          "base_uri": "https://localhost:8080/"
        }
      },
      "execution_count": 140,
      "outputs": [
        {
          "output_type": "stream",
          "name": "stdout",
          "text": [
            "[[185.  74.  86. 171.]\n",
            " [101.  41.   6. 115.]\n",
            " [ 69.  45.  34.  78.]\n",
            " [161. 103. 100. 202.]]\n"
          ]
        },
        {
          "output_type": "execute_result",
          "data": {
            "text/plain": [
              "4"
            ]
          },
          "metadata": {},
          "execution_count": 140
        }
      ]
    },
    {
      "cell_type": "code",
      "source": [
        "Pp = np.zeros((subtotals.size,subtotals.size))\n",
        "\n",
        "for row in range(0,P.shape[0]):\n",
        "  for col in range(0,P.shape[1]):\n",
        "    Pp[row,col] = P[row,col]/P[row].sum()"
      ],
      "metadata": {
        "id": "6Y8Zs-HY6M5W"
      },
      "execution_count": 157,
      "outputs": []
    },
    {
      "cell_type": "code",
      "source": [
        "pd.DataFrame(Pp, index=[\"A\", \"C\", \"G\", \"T\"], columns=[\"A\", \"C\", \"G\", \"T\"])"
      ],
      "metadata": {
        "id": "EelRt28kq78e",
        "outputId": "60e3cfe4-6d33-4f26-bef5-efbf4ec6c92c",
        "colab": {
          "base_uri": "https://localhost:8080/",
          "height": 174
        }
      },
      "execution_count": 156,
      "outputs": [
        {
          "output_type": "execute_result",
          "data": {
            "text/plain": [
              "          A         C         G         T\n",
              "A  0.358527  0.143411  0.166667  0.331395\n",
              "C  0.384030  0.155894  0.022814  0.437262\n",
              "G  0.305310  0.199115  0.150442  0.345133\n",
              "T  0.284452  0.181979  0.176678  0.356890"
            ],
            "text/html": [
              "\n",
              "  <div id=\"df-1bd7f7c7-0407-451b-8a29-ba3c75d17d8c\" class=\"colab-df-container\">\n",
              "    <div>\n",
              "<style scoped>\n",
              "    .dataframe tbody tr th:only-of-type {\n",
              "        vertical-align: middle;\n",
              "    }\n",
              "\n",
              "    .dataframe tbody tr th {\n",
              "        vertical-align: top;\n",
              "    }\n",
              "\n",
              "    .dataframe thead th {\n",
              "        text-align: right;\n",
              "    }\n",
              "</style>\n",
              "<table border=\"1\" class=\"dataframe\">\n",
              "  <thead>\n",
              "    <tr style=\"text-align: right;\">\n",
              "      <th></th>\n",
              "      <th>A</th>\n",
              "      <th>C</th>\n",
              "      <th>G</th>\n",
              "      <th>T</th>\n",
              "    </tr>\n",
              "  </thead>\n",
              "  <tbody>\n",
              "    <tr>\n",
              "      <th>A</th>\n",
              "      <td>0.358527</td>\n",
              "      <td>0.143411</td>\n",
              "      <td>0.166667</td>\n",
              "      <td>0.331395</td>\n",
              "    </tr>\n",
              "    <tr>\n",
              "      <th>C</th>\n",
              "      <td>0.384030</td>\n",
              "      <td>0.155894</td>\n",
              "      <td>0.022814</td>\n",
              "      <td>0.437262</td>\n",
              "    </tr>\n",
              "    <tr>\n",
              "      <th>G</th>\n",
              "      <td>0.305310</td>\n",
              "      <td>0.199115</td>\n",
              "      <td>0.150442</td>\n",
              "      <td>0.345133</td>\n",
              "    </tr>\n",
              "    <tr>\n",
              "      <th>T</th>\n",
              "      <td>0.284452</td>\n",
              "      <td>0.181979</td>\n",
              "      <td>0.176678</td>\n",
              "      <td>0.356890</td>\n",
              "    </tr>\n",
              "  </tbody>\n",
              "</table>\n",
              "</div>\n",
              "    <div class=\"colab-df-buttons\">\n",
              "\n",
              "  <div class=\"colab-df-container\">\n",
              "    <button class=\"colab-df-convert\" onclick=\"convertToInteractive('df-1bd7f7c7-0407-451b-8a29-ba3c75d17d8c')\"\n",
              "            title=\"Convert this dataframe to an interactive table.\"\n",
              "            style=\"display:none;\">\n",
              "\n",
              "  <svg xmlns=\"http://www.w3.org/2000/svg\" height=\"24px\" viewBox=\"0 -960 960 960\">\n",
              "    <path d=\"M120-120v-720h720v720H120Zm60-500h600v-160H180v160Zm220 220h160v-160H400v160Zm0 220h160v-160H400v160ZM180-400h160v-160H180v160Zm440 0h160v-160H620v160ZM180-180h160v-160H180v160Zm440 0h160v-160H620v160Z\"/>\n",
              "  </svg>\n",
              "    </button>\n",
              "\n",
              "  <style>\n",
              "    .colab-df-container {\n",
              "      display:flex;\n",
              "      gap: 12px;\n",
              "    }\n",
              "\n",
              "    .colab-df-convert {\n",
              "      background-color: #E8F0FE;\n",
              "      border: none;\n",
              "      border-radius: 50%;\n",
              "      cursor: pointer;\n",
              "      display: none;\n",
              "      fill: #1967D2;\n",
              "      height: 32px;\n",
              "      padding: 0 0 0 0;\n",
              "      width: 32px;\n",
              "    }\n",
              "\n",
              "    .colab-df-convert:hover {\n",
              "      background-color: #E2EBFA;\n",
              "      box-shadow: 0px 1px 2px rgba(60, 64, 67, 0.3), 0px 1px 3px 1px rgba(60, 64, 67, 0.15);\n",
              "      fill: #174EA6;\n",
              "    }\n",
              "\n",
              "    .colab-df-buttons div {\n",
              "      margin-bottom: 4px;\n",
              "    }\n",
              "\n",
              "    [theme=dark] .colab-df-convert {\n",
              "      background-color: #3B4455;\n",
              "      fill: #D2E3FC;\n",
              "    }\n",
              "\n",
              "    [theme=dark] .colab-df-convert:hover {\n",
              "      background-color: #434B5C;\n",
              "      box-shadow: 0px 1px 3px 1px rgba(0, 0, 0, 0.15);\n",
              "      filter: drop-shadow(0px 1px 2px rgba(0, 0, 0, 0.3));\n",
              "      fill: #FFFFFF;\n",
              "    }\n",
              "  </style>\n",
              "\n",
              "    <script>\n",
              "      const buttonEl =\n",
              "        document.querySelector('#df-1bd7f7c7-0407-451b-8a29-ba3c75d17d8c button.colab-df-convert');\n",
              "      buttonEl.style.display =\n",
              "        google.colab.kernel.accessAllowed ? 'block' : 'none';\n",
              "\n",
              "      async function convertToInteractive(key) {\n",
              "        const element = document.querySelector('#df-1bd7f7c7-0407-451b-8a29-ba3c75d17d8c');\n",
              "        const dataTable =\n",
              "          await google.colab.kernel.invokeFunction('convertToInteractive',\n",
              "                                                    [key], {});\n",
              "        if (!dataTable) return;\n",
              "\n",
              "        const docLinkHtml = 'Like what you see? Visit the ' +\n",
              "          '<a target=\"_blank\" href=https://colab.research.google.com/notebooks/data_table.ipynb>data table notebook</a>'\n",
              "          + ' to learn more about interactive tables.';\n",
              "        element.innerHTML = '';\n",
              "        dataTable['output_type'] = 'display_data';\n",
              "        await google.colab.output.renderOutput(dataTable, element);\n",
              "        const docLink = document.createElement('div');\n",
              "        docLink.innerHTML = docLinkHtml;\n",
              "        element.appendChild(docLink);\n",
              "      }\n",
              "    </script>\n",
              "  </div>\n",
              "\n",
              "\n",
              "<div id=\"df-b1f75628-ef22-4edf-bff7-ac6cdafeac55\">\n",
              "  <button class=\"colab-df-quickchart\" onclick=\"quickchart('df-b1f75628-ef22-4edf-bff7-ac6cdafeac55')\"\n",
              "            title=\"Suggest charts\"\n",
              "            style=\"display:none;\">\n",
              "\n",
              "<svg xmlns=\"http://www.w3.org/2000/svg\" height=\"24px\"viewBox=\"0 0 24 24\"\n",
              "     width=\"24px\">\n",
              "    <g>\n",
              "        <path d=\"M19 3H5c-1.1 0-2 .9-2 2v14c0 1.1.9 2 2 2h14c1.1 0 2-.9 2-2V5c0-1.1-.9-2-2-2zM9 17H7v-7h2v7zm4 0h-2V7h2v10zm4 0h-2v-4h2v4z\"/>\n",
              "    </g>\n",
              "</svg>\n",
              "  </button>\n",
              "\n",
              "<style>\n",
              "  .colab-df-quickchart {\n",
              "      --bg-color: #E8F0FE;\n",
              "      --fill-color: #1967D2;\n",
              "      --hover-bg-color: #E2EBFA;\n",
              "      --hover-fill-color: #174EA6;\n",
              "      --disabled-fill-color: #AAA;\n",
              "      --disabled-bg-color: #DDD;\n",
              "  }\n",
              "\n",
              "  [theme=dark] .colab-df-quickchart {\n",
              "      --bg-color: #3B4455;\n",
              "      --fill-color: #D2E3FC;\n",
              "      --hover-bg-color: #434B5C;\n",
              "      --hover-fill-color: #FFFFFF;\n",
              "      --disabled-bg-color: #3B4455;\n",
              "      --disabled-fill-color: #666;\n",
              "  }\n",
              "\n",
              "  .colab-df-quickchart {\n",
              "    background-color: var(--bg-color);\n",
              "    border: none;\n",
              "    border-radius: 50%;\n",
              "    cursor: pointer;\n",
              "    display: none;\n",
              "    fill: var(--fill-color);\n",
              "    height: 32px;\n",
              "    padding: 0;\n",
              "    width: 32px;\n",
              "  }\n",
              "\n",
              "  .colab-df-quickchart:hover {\n",
              "    background-color: var(--hover-bg-color);\n",
              "    box-shadow: 0 1px 2px rgba(60, 64, 67, 0.3), 0 1px 3px 1px rgba(60, 64, 67, 0.15);\n",
              "    fill: var(--button-hover-fill-color);\n",
              "  }\n",
              "\n",
              "  .colab-df-quickchart-complete:disabled,\n",
              "  .colab-df-quickchart-complete:disabled:hover {\n",
              "    background-color: var(--disabled-bg-color);\n",
              "    fill: var(--disabled-fill-color);\n",
              "    box-shadow: none;\n",
              "  }\n",
              "\n",
              "  .colab-df-spinner {\n",
              "    border: 2px solid var(--fill-color);\n",
              "    border-color: transparent;\n",
              "    border-bottom-color: var(--fill-color);\n",
              "    animation:\n",
              "      spin 1s steps(1) infinite;\n",
              "  }\n",
              "\n",
              "  @keyframes spin {\n",
              "    0% {\n",
              "      border-color: transparent;\n",
              "      border-bottom-color: var(--fill-color);\n",
              "      border-left-color: var(--fill-color);\n",
              "    }\n",
              "    20% {\n",
              "      border-color: transparent;\n",
              "      border-left-color: var(--fill-color);\n",
              "      border-top-color: var(--fill-color);\n",
              "    }\n",
              "    30% {\n",
              "      border-color: transparent;\n",
              "      border-left-color: var(--fill-color);\n",
              "      border-top-color: var(--fill-color);\n",
              "      border-right-color: var(--fill-color);\n",
              "    }\n",
              "    40% {\n",
              "      border-color: transparent;\n",
              "      border-right-color: var(--fill-color);\n",
              "      border-top-color: var(--fill-color);\n",
              "    }\n",
              "    60% {\n",
              "      border-color: transparent;\n",
              "      border-right-color: var(--fill-color);\n",
              "    }\n",
              "    80% {\n",
              "      border-color: transparent;\n",
              "      border-right-color: var(--fill-color);\n",
              "      border-bottom-color: var(--fill-color);\n",
              "    }\n",
              "    90% {\n",
              "      border-color: transparent;\n",
              "      border-bottom-color: var(--fill-color);\n",
              "    }\n",
              "  }\n",
              "</style>\n",
              "\n",
              "  <script>\n",
              "    async function quickchart(key) {\n",
              "      const quickchartButtonEl =\n",
              "        document.querySelector('#' + key + ' button');\n",
              "      quickchartButtonEl.disabled = true;  // To prevent multiple clicks.\n",
              "      quickchartButtonEl.classList.add('colab-df-spinner');\n",
              "      try {\n",
              "        const charts = await google.colab.kernel.invokeFunction(\n",
              "            'suggestCharts', [key], {});\n",
              "      } catch (error) {\n",
              "        console.error('Error during call to suggestCharts:', error);\n",
              "      }\n",
              "      quickchartButtonEl.classList.remove('colab-df-spinner');\n",
              "      quickchartButtonEl.classList.add('colab-df-quickchart-complete');\n",
              "    }\n",
              "    (() => {\n",
              "      let quickchartButtonEl =\n",
              "        document.querySelector('#df-b1f75628-ef22-4edf-bff7-ac6cdafeac55 button');\n",
              "      quickchartButtonEl.style.display =\n",
              "        google.colab.kernel.accessAllowed ? 'block' : 'none';\n",
              "    })();\n",
              "  </script>\n",
              "</div>\n",
              "\n",
              "    </div>\n",
              "  </div>\n"
            ]
          },
          "metadata": {},
          "execution_count": 156
        }
      ]
    },
    {
      "cell_type": "markdown",
      "source": [
        "###2."
      ],
      "metadata": {
        "id": "NnOccgJbXbpb"
      }
    },
    {
      "cell_type": "markdown",
      "source": [
        "###3."
      ],
      "metadata": {
        "id": "EHzH4d4Cn7CL"
      }
    },
    {
      "cell_type": "code",
      "source": [
        "def compute_stationary_distribution(P):\n",
        "    s = P.shape[0]\n",
        "    identity_matrix = np.eye(s)\n",
        "    ones_matrix = np.ones((s, s))\n",
        "\n",
        "    # Compute the stationary distribution\n",
        "    stationary_distribution = np.dot(np.ones(s), np.linalg.solve(identity_matrix - P + ones_matrix, np.eye(s)))\n",
        "\n",
        "    return stationary_distribution\n",
        "\n",
        "pi = compute_stationary_distribution(Pp)\n",
        "pi"
      ],
      "metadata": {
        "id": "Tr3GfS_B_ZVp",
        "outputId": "e8b7f657-7951-4577-a2d0-56aa0ffe4785",
        "colab": {
          "base_uri": "https://localhost:8080/"
        }
      },
      "execution_count": 158,
      "outputs": [
        {
          "output_type": "execute_result",
          "data": {
            "text/plain": [
              "array([0.32845321, 0.16740929, 0.14385742, 0.36028008])"
            ]
          },
          "metadata": {},
          "execution_count": 158
        }
      ]
    },
    {
      "cell_type": "markdown",
      "source": [
        "###4."
      ],
      "metadata": {
        "id": "huWxiUWGn63x"
      }
    },
    {
      "cell_type": "code",
      "source": [
        "pd.DataFrame(Pp, index=[\"A\", \"C\", \"G\", \"T\"], columns=[\"A\", \"C\", \"G\", \"T\"])"
      ],
      "metadata": {
        "id": "hySPd2Dh_r4_",
        "outputId": "66296e4c-5df5-4ee4-c4a7-20f2d5536b7d",
        "colab": {
          "base_uri": "https://localhost:8080/",
          "height": 174
        }
      },
      "execution_count": 166,
      "outputs": [
        {
          "output_type": "execute_result",
          "data": {
            "text/plain": [
              "          A         C         G         T\n",
              "A  0.358527  0.143411  0.166667  0.331395\n",
              "C  0.384030  0.155894  0.022814  0.437262\n",
              "G  0.305310  0.199115  0.150442  0.345133\n",
              "T  0.284452  0.181979  0.176678  0.356890"
            ],
            "text/html": [
              "\n",
              "  <div id=\"df-8a28027e-ea65-4b07-8412-94a180d3b759\" class=\"colab-df-container\">\n",
              "    <div>\n",
              "<style scoped>\n",
              "    .dataframe tbody tr th:only-of-type {\n",
              "        vertical-align: middle;\n",
              "    }\n",
              "\n",
              "    .dataframe tbody tr th {\n",
              "        vertical-align: top;\n",
              "    }\n",
              "\n",
              "    .dataframe thead th {\n",
              "        text-align: right;\n",
              "    }\n",
              "</style>\n",
              "<table border=\"1\" class=\"dataframe\">\n",
              "  <thead>\n",
              "    <tr style=\"text-align: right;\">\n",
              "      <th></th>\n",
              "      <th>A</th>\n",
              "      <th>C</th>\n",
              "      <th>G</th>\n",
              "      <th>T</th>\n",
              "    </tr>\n",
              "  </thead>\n",
              "  <tbody>\n",
              "    <tr>\n",
              "      <th>A</th>\n",
              "      <td>0.358527</td>\n",
              "      <td>0.143411</td>\n",
              "      <td>0.166667</td>\n",
              "      <td>0.331395</td>\n",
              "    </tr>\n",
              "    <tr>\n",
              "      <th>C</th>\n",
              "      <td>0.384030</td>\n",
              "      <td>0.155894</td>\n",
              "      <td>0.022814</td>\n",
              "      <td>0.437262</td>\n",
              "    </tr>\n",
              "    <tr>\n",
              "      <th>G</th>\n",
              "      <td>0.305310</td>\n",
              "      <td>0.199115</td>\n",
              "      <td>0.150442</td>\n",
              "      <td>0.345133</td>\n",
              "    </tr>\n",
              "    <tr>\n",
              "      <th>T</th>\n",
              "      <td>0.284452</td>\n",
              "      <td>0.181979</td>\n",
              "      <td>0.176678</td>\n",
              "      <td>0.356890</td>\n",
              "    </tr>\n",
              "  </tbody>\n",
              "</table>\n",
              "</div>\n",
              "    <div class=\"colab-df-buttons\">\n",
              "\n",
              "  <div class=\"colab-df-container\">\n",
              "    <button class=\"colab-df-convert\" onclick=\"convertToInteractive('df-8a28027e-ea65-4b07-8412-94a180d3b759')\"\n",
              "            title=\"Convert this dataframe to an interactive table.\"\n",
              "            style=\"display:none;\">\n",
              "\n",
              "  <svg xmlns=\"http://www.w3.org/2000/svg\" height=\"24px\" viewBox=\"0 -960 960 960\">\n",
              "    <path d=\"M120-120v-720h720v720H120Zm60-500h600v-160H180v160Zm220 220h160v-160H400v160Zm0 220h160v-160H400v160ZM180-400h160v-160H180v160Zm440 0h160v-160H620v160ZM180-180h160v-160H180v160Zm440 0h160v-160H620v160Z\"/>\n",
              "  </svg>\n",
              "    </button>\n",
              "\n",
              "  <style>\n",
              "    .colab-df-container {\n",
              "      display:flex;\n",
              "      gap: 12px;\n",
              "    }\n",
              "\n",
              "    .colab-df-convert {\n",
              "      background-color: #E8F0FE;\n",
              "      border: none;\n",
              "      border-radius: 50%;\n",
              "      cursor: pointer;\n",
              "      display: none;\n",
              "      fill: #1967D2;\n",
              "      height: 32px;\n",
              "      padding: 0 0 0 0;\n",
              "      width: 32px;\n",
              "    }\n",
              "\n",
              "    .colab-df-convert:hover {\n",
              "      background-color: #E2EBFA;\n",
              "      box-shadow: 0px 1px 2px rgba(60, 64, 67, 0.3), 0px 1px 3px 1px rgba(60, 64, 67, 0.15);\n",
              "      fill: #174EA6;\n",
              "    }\n",
              "\n",
              "    .colab-df-buttons div {\n",
              "      margin-bottom: 4px;\n",
              "    }\n",
              "\n",
              "    [theme=dark] .colab-df-convert {\n",
              "      background-color: #3B4455;\n",
              "      fill: #D2E3FC;\n",
              "    }\n",
              "\n",
              "    [theme=dark] .colab-df-convert:hover {\n",
              "      background-color: #434B5C;\n",
              "      box-shadow: 0px 1px 3px 1px rgba(0, 0, 0, 0.15);\n",
              "      filter: drop-shadow(0px 1px 2px rgba(0, 0, 0, 0.3));\n",
              "      fill: #FFFFFF;\n",
              "    }\n",
              "  </style>\n",
              "\n",
              "    <script>\n",
              "      const buttonEl =\n",
              "        document.querySelector('#df-8a28027e-ea65-4b07-8412-94a180d3b759 button.colab-df-convert');\n",
              "      buttonEl.style.display =\n",
              "        google.colab.kernel.accessAllowed ? 'block' : 'none';\n",
              "\n",
              "      async function convertToInteractive(key) {\n",
              "        const element = document.querySelector('#df-8a28027e-ea65-4b07-8412-94a180d3b759');\n",
              "        const dataTable =\n",
              "          await google.colab.kernel.invokeFunction('convertToInteractive',\n",
              "                                                    [key], {});\n",
              "        if (!dataTable) return;\n",
              "\n",
              "        const docLinkHtml = 'Like what you see? Visit the ' +\n",
              "          '<a target=\"_blank\" href=https://colab.research.google.com/notebooks/data_table.ipynb>data table notebook</a>'\n",
              "          + ' to learn more about interactive tables.';\n",
              "        element.innerHTML = '';\n",
              "        dataTable['output_type'] = 'display_data';\n",
              "        await google.colab.output.renderOutput(dataTable, element);\n",
              "        const docLink = document.createElement('div');\n",
              "        docLink.innerHTML = docLinkHtml;\n",
              "        element.appendChild(docLink);\n",
              "      }\n",
              "    </script>\n",
              "  </div>\n",
              "\n",
              "\n",
              "<div id=\"df-0f781dcb-9772-4470-94f2-24c906469b6b\">\n",
              "  <button class=\"colab-df-quickchart\" onclick=\"quickchart('df-0f781dcb-9772-4470-94f2-24c906469b6b')\"\n",
              "            title=\"Suggest charts\"\n",
              "            style=\"display:none;\">\n",
              "\n",
              "<svg xmlns=\"http://www.w3.org/2000/svg\" height=\"24px\"viewBox=\"0 0 24 24\"\n",
              "     width=\"24px\">\n",
              "    <g>\n",
              "        <path d=\"M19 3H5c-1.1 0-2 .9-2 2v14c0 1.1.9 2 2 2h14c1.1 0 2-.9 2-2V5c0-1.1-.9-2-2-2zM9 17H7v-7h2v7zm4 0h-2V7h2v10zm4 0h-2v-4h2v4z\"/>\n",
              "    </g>\n",
              "</svg>\n",
              "  </button>\n",
              "\n",
              "<style>\n",
              "  .colab-df-quickchart {\n",
              "      --bg-color: #E8F0FE;\n",
              "      --fill-color: #1967D2;\n",
              "      --hover-bg-color: #E2EBFA;\n",
              "      --hover-fill-color: #174EA6;\n",
              "      --disabled-fill-color: #AAA;\n",
              "      --disabled-bg-color: #DDD;\n",
              "  }\n",
              "\n",
              "  [theme=dark] .colab-df-quickchart {\n",
              "      --bg-color: #3B4455;\n",
              "      --fill-color: #D2E3FC;\n",
              "      --hover-bg-color: #434B5C;\n",
              "      --hover-fill-color: #FFFFFF;\n",
              "      --disabled-bg-color: #3B4455;\n",
              "      --disabled-fill-color: #666;\n",
              "  }\n",
              "\n",
              "  .colab-df-quickchart {\n",
              "    background-color: var(--bg-color);\n",
              "    border: none;\n",
              "    border-radius: 50%;\n",
              "    cursor: pointer;\n",
              "    display: none;\n",
              "    fill: var(--fill-color);\n",
              "    height: 32px;\n",
              "    padding: 0;\n",
              "    width: 32px;\n",
              "  }\n",
              "\n",
              "  .colab-df-quickchart:hover {\n",
              "    background-color: var(--hover-bg-color);\n",
              "    box-shadow: 0 1px 2px rgba(60, 64, 67, 0.3), 0 1px 3px 1px rgba(60, 64, 67, 0.15);\n",
              "    fill: var(--button-hover-fill-color);\n",
              "  }\n",
              "\n",
              "  .colab-df-quickchart-complete:disabled,\n",
              "  .colab-df-quickchart-complete:disabled:hover {\n",
              "    background-color: var(--disabled-bg-color);\n",
              "    fill: var(--disabled-fill-color);\n",
              "    box-shadow: none;\n",
              "  }\n",
              "\n",
              "  .colab-df-spinner {\n",
              "    border: 2px solid var(--fill-color);\n",
              "    border-color: transparent;\n",
              "    border-bottom-color: var(--fill-color);\n",
              "    animation:\n",
              "      spin 1s steps(1) infinite;\n",
              "  }\n",
              "\n",
              "  @keyframes spin {\n",
              "    0% {\n",
              "      border-color: transparent;\n",
              "      border-bottom-color: var(--fill-color);\n",
              "      border-left-color: var(--fill-color);\n",
              "    }\n",
              "    20% {\n",
              "      border-color: transparent;\n",
              "      border-left-color: var(--fill-color);\n",
              "      border-top-color: var(--fill-color);\n",
              "    }\n",
              "    30% {\n",
              "      border-color: transparent;\n",
              "      border-left-color: var(--fill-color);\n",
              "      border-top-color: var(--fill-color);\n",
              "      border-right-color: var(--fill-color);\n",
              "    }\n",
              "    40% {\n",
              "      border-color: transparent;\n",
              "      border-right-color: var(--fill-color);\n",
              "      border-top-color: var(--fill-color);\n",
              "    }\n",
              "    60% {\n",
              "      border-color: transparent;\n",
              "      border-right-color: var(--fill-color);\n",
              "    }\n",
              "    80% {\n",
              "      border-color: transparent;\n",
              "      border-right-color: var(--fill-color);\n",
              "      border-bottom-color: var(--fill-color);\n",
              "    }\n",
              "    90% {\n",
              "      border-color: transparent;\n",
              "      border-bottom-color: var(--fill-color);\n",
              "    }\n",
              "  }\n",
              "</style>\n",
              "\n",
              "  <script>\n",
              "    async function quickchart(key) {\n",
              "      const quickchartButtonEl =\n",
              "        document.querySelector('#' + key + ' button');\n",
              "      quickchartButtonEl.disabled = true;  // To prevent multiple clicks.\n",
              "      quickchartButtonEl.classList.add('colab-df-spinner');\n",
              "      try {\n",
              "        const charts = await google.colab.kernel.invokeFunction(\n",
              "            'suggestCharts', [key], {});\n",
              "      } catch (error) {\n",
              "        console.error('Error during call to suggestCharts:', error);\n",
              "      }\n",
              "      quickchartButtonEl.classList.remove('colab-df-spinner');\n",
              "      quickchartButtonEl.classList.add('colab-df-quickchart-complete');\n",
              "    }\n",
              "    (() => {\n",
              "      let quickchartButtonEl =\n",
              "        document.querySelector('#df-0f781dcb-9772-4470-94f2-24c906469b6b button');\n",
              "      quickchartButtonEl.style.display =\n",
              "        google.colab.kernel.accessAllowed ? 'block' : 'none';\n",
              "    })();\n",
              "  </script>\n",
              "</div>\n",
              "\n",
              "    </div>\n",
              "  </div>\n"
            ]
          },
          "metadata": {},
          "execution_count": 166
        }
      ]
    },
    {
      "cell_type": "code",
      "source": [
        "Pp.mean(axis=0)"
      ],
      "metadata": {
        "id": "BxOERQs8AY3G",
        "outputId": "0acd873d-0d15-4734-b513-718728e67bef",
        "colab": {
          "base_uri": "https://localhost:8080/"
        }
      },
      "execution_count": 164,
      "outputs": [
        {
          "output_type": "execute_result",
          "data": {
            "text/plain": [
              "array([0.3330799 , 0.17009956, 0.12915032, 0.36767023])"
            ]
          },
          "metadata": {},
          "execution_count": 164
        }
      ]
    },
    {
      "cell_type": "markdown",
      "source": [
        "means of the columns of the observed transition matrix seem to match up with the stationary distribution."
      ],
      "metadata": {
        "id": "A7ewLpKhA8X8"
      }
    },
    {
      "cell_type": "markdown",
      "source": [
        "###5."
      ],
      "metadata": {
        "id": "SpsdvG1Kn6sp"
      }
    },
    {
      "cell_type": "code",
      "source": [
        "#create array to hold data\n",
        "P3 = np.zeros((subtotals.size,subtotals.size,subtotals.size))\n",
        "\n",
        "#count transitions\n",
        "for i in range(0,df.size-2):\n",
        "  past = classify_value(data[i])\n",
        "  present = classify_value(data[i+1])\n",
        "  future = classify_value(data[i+2])\n",
        "  P3[present,past,future] += 1\n",
        "\n",
        "#show results\n",
        "print(P3)\n"
      ],
      "metadata": {
        "id": "7HAbBsR3HIu6",
        "outputId": "877e0b01-9fa4-4272-8cae-683bb48adc6a",
        "colab": {
          "base_uri": "https://localhost:8080/"
        }
      },
      "execution_count": 193,
      "outputs": [
        {
          "output_type": "stream",
          "name": "stdout",
          "text": [
            "[[[81. 22. 29. 53.]\n",
            "  [30. 20. 15. 36.]\n",
            "  [30.  3. 14. 22.]\n",
            "  [44. 29. 28. 60.]]\n",
            "\n",
            " [[30.  7.  2. 35.]\n",
            "  [15.  2.  1. 23.]\n",
            "  [18. 10.  1. 16.]\n",
            "  [38. 22.  2. 41.]]\n",
            "\n",
            " [[29. 18. 11. 27.]\n",
            "  [ 2.  1.  0.  3.]\n",
            "  [12.  5. 10.  7.]\n",
            "  [26. 21. 13. 40.]]\n",
            "\n",
            " [[54. 23. 33. 61.]\n",
            "  [28. 26. 20. 41.]\n",
            "  [28. 11. 12. 27.]\n",
            "  [51. 43. 35. 73.]]]\n"
          ]
        }
      ]
    },
    {
      "cell_type": "code",
      "source": [
        "P3p = np.zeros((subtotals.size,subtotals.size,subtotals.size))\n",
        "\n",
        "for sheet in range(0,P3.shape[0]):\n",
        "  for row in range(0,P3.shape[1]):\n",
        "    for col in range(0,P3.shape[2]):\n",
        "      P3p[sheet,row,col] = P3[sheet,row,col]/P3[sheet,row].sum()\n",
        "\n",
        "P3p"
      ],
      "metadata": {
        "id": "udTMMWjlJ4YI",
        "outputId": "37a479f4-ff44-4b46-96c1-fd980a335529",
        "colab": {
          "base_uri": "https://localhost:8080/"
        }
      },
      "execution_count": 209,
      "outputs": [
        {
          "output_type": "execute_result",
          "data": {
            "text/plain": [
              "array([[[0.43783784, 0.11891892, 0.15675676, 0.28648649],\n",
              "        [0.2970297 , 0.1980198 , 0.14851485, 0.35643564],\n",
              "        [0.43478261, 0.04347826, 0.20289855, 0.31884058],\n",
              "        [0.27329193, 0.18012422, 0.17391304, 0.37267081]],\n",
              "\n",
              "       [[0.40540541, 0.09459459, 0.02702703, 0.47297297],\n",
              "        [0.36585366, 0.04878049, 0.02439024, 0.56097561],\n",
              "        [0.4       , 0.22222222, 0.02222222, 0.35555556],\n",
              "        [0.36893204, 0.21359223, 0.01941748, 0.39805825]],\n",
              "\n",
              "       [[0.34117647, 0.21176471, 0.12941176, 0.31764706],\n",
              "        [0.33333333, 0.16666667, 0.        , 0.5       ],\n",
              "        [0.35294118, 0.14705882, 0.29411765, 0.20588235],\n",
              "        [0.26      , 0.21      , 0.13      , 0.4       ]],\n",
              "\n",
              "       [[0.31578947, 0.13450292, 0.19298246, 0.35672515],\n",
              "        [0.24347826, 0.22608696, 0.17391304, 0.35652174],\n",
              "        [0.35897436, 0.14102564, 0.15384615, 0.34615385],\n",
              "        [0.25247525, 0.21287129, 0.17326733, 0.36138614]]])"
            ]
          },
          "metadata": {},
          "execution_count": 209
        }
      ]
    },
    {
      "cell_type": "code",
      "source": [
        "# importing package\n",
        "import matplotlib.pyplot as plt\n",
        "import numpy as np\n",
        "\n",
        "# create data\n",
        "x = ['A', 'C', 'G', 'T']\n",
        "y1 = P3p[0,:,0]\n",
        "y2 = P3p[0,:,1]\n",
        "y3 = P3p[0,:,2]\n",
        "y4 = P3p[0,:,3]\n",
        "\n",
        "# plot bars in stack manner\n",
        "plt.bar(x, y1, color='r')\n",
        "plt.bar(x, y2, bottom=y1, color='b')\n",
        "plt.bar(x, y3, bottom=y1+y2, color='y')\n",
        "plt.bar(x, y4, bottom=y1+y2+y3, color='g')\n",
        "plt.xlabel(\"Past\")\n",
        "plt.ylabel(\"Future\")\n",
        "plt.legend([\"A\", \"C\", \"G\", \"T\"])\n",
        "plt.title(\"Present: A\")\n",
        "plt.show()"
      ],
      "metadata": {
        "id": "eGIs1jzzCtvD",
        "outputId": "8825d3b6-80d0-4116-f61a-2edd02bc58db",
        "colab": {
          "base_uri": "https://localhost:8080/",
          "height": 472
        }
      },
      "execution_count": 213,
      "outputs": [
        {
          "output_type": "display_data",
          "data": {
            "text/plain": [
              "<Figure size 640x480 with 1 Axes>"
            ],
            "image/png": "[encoded data removed]"
          },
          "metadata": {}
        }
      ]
    },
    {
      "cell_type": "code",
      "source": [
        "# create data\n",
        "x = ['A', 'C', 'G', 'T']\n",
        "y1 = P3p[1,:,0]\n",
        "y2 = P3p[1,:,1]\n",
        "y3 = P3p[1,:,2]\n",
        "y4 = P3p[1,:,3]\n",
        "\n",
        "# plot bars in stack manner\n",
        "plt.bar(x, y1, color='r')\n",
        "plt.bar(x, y2, bottom=y1, color='b')\n",
        "plt.bar(x, y3, bottom=y1+y2, color='y')\n",
        "plt.bar(x, y4, bottom=y1+y2+y3, color='g')\n",
        "plt.xlabel(\"Past\")\n",
        "plt.ylabel(\"Future\")\n",
        "plt.legend([\"A\", \"C\", \"G\", \"T\"])\n",
        "plt.title(\"Present: C\")\n",
        "plt.show()"
      ],
      "metadata": {
        "id": "nRgKnrGXQKGW",
        "outputId": "ec24a12c-f64d-44e1-ed02-83d0e0f0e30b",
        "colab": {
          "base_uri": "https://localhost:8080/",
          "height": 472
        }
      },
      "execution_count": 214,
      "outputs": [
        {
          "output_type": "display_data",
          "data": {
            "text/plain": [
              "<Figure size 640x480 with 1 Axes>"
            ],
            "image/png": "[encoded data removed]"
          },
          "metadata": {}
        }
      ]
    },
    {
      "cell_type": "code",
      "source": [
        "# create data\n",
        "x = ['A', 'C', 'G', 'T']\n",
        "y1 = P3p[2,:,0]\n",
        "y2 = P3p[2,:,1]\n",
        "y3 = P3p[2,:,2]\n",
        "y4 = P3p[2,:,3]\n",
        "\n",
        "# plot bars in stack manner\n",
        "plt.bar(x, y1, color='r')\n",
        "plt.bar(x, y2, bottom=y1, color='b')\n",
        "plt.bar(x, y3, bottom=y1+y2, color='y')\n",
        "plt.bar(x, y4, bottom=y1+y2+y3, color='g')\n",
        "plt.xlabel(\"Past\")\n",
        "plt.ylabel(\"Future\")\n",
        "plt.legend([\"A\", \"C\", \"G\", \"T\"])\n",
        "plt.title(\"Present: G\")\n",
        "plt.show()"
      ],
      "metadata": {
        "id": "yJx6yjyaQVm9",
        "outputId": "8fa69ac6-c9a1-44a8-e45b-16c11f67cd7c",
        "colab": {
          "base_uri": "https://localhost:8080/",
          "height": 472
        }
      },
      "execution_count": 215,
      "outputs": [
        {
          "output_type": "display_data",
          "data": {
            "text/plain": [
              "<Figure size 640x480 with 1 Axes>"
            ],
            "image/png": "[encoded data removed]"
          },
          "metadata": {}
        }
      ]
    },
    {
      "cell_type": "code",
      "source": [
        "# create data\n",
        "x = ['A', 'C', 'G', 'T']\n",
        "y1 = P3p[3,:,0]\n",
        "y2 = P3p[3,:,1]\n",
        "y3 = P3p[3,:,2]\n",
        "y4 = P3p[3,:,3]\n",
        "\n",
        "# plot bars in stack manner\n",
        "plt.bar(x, y1, color='r')\n",
        "plt.bar(x, y2, bottom=y1, color='b')\n",
        "plt.bar(x, y3, bottom=y1+y2, color='y')\n",
        "plt.bar(x, y4, bottom=y1+y2+y3, color='g')\n",
        "plt.xlabel(\"Past\")\n",
        "plt.ylabel(\"Future\")\n",
        "plt.legend([\"A\", \"C\", \"G\", \"T\"])\n",
        "plt.title(\"Present: T\")\n",
        "plt.show()"
      ],
      "metadata": {
        "id": "8HlzCxQ1QmOw",
        "outputId": "3453db8e-5821-455b-b130-e257e92c196c",
        "colab": {
          "base_uri": "https://localhost:8080/",
          "height": 472
        }
      },
      "execution_count": 216,
      "outputs": [
        {
          "output_type": "display_data",
          "data": {
            "text/plain": [
              "<Figure size 640x480 with 1 Axes>"
            ],
            "image/png": "[encoded data removed]"
          },
          "metadata": {}
        }
      ]
    },
    {
      "cell_type": "markdown",
      "source": [
        "Based on these graphs, I would say this doesn't seem to be a candidate for a first order markov chain. Some of the plots are close in certain transitions but certainly not overall."
      ],
      "metadata": {
        "id": "UMUBHDlEQytN"
      }
    },
    {
      "cell_type": "markdown",
      "source": [
        "---\n",
        "\n",
        "## Reflection"
      ],
      "metadata": {
        "id": "8tVMmKgxXWdC"
      }
    },
    {
      "cell_type": "markdown",
      "source": [
        "With each Practice Problem submission, you should also take a few minutes to reflect on the practice problems and related material and thoughtfully respond to the following.\n",
        "\n",
        "1. Write a sentence or two summarizing - in your own words - one big idea from this material.\n",
        "2. Describe one particular aspect of this material that you found challenging and why. Then describe how you dealt with the challenge, or what you can do to deal with the challenge.\n",
        "3. Write at least one specific question you have about this material. I strongly encourage you to post your questions directly in Discord as that's where I'll respond to questions. That is, if you really want an answer to your question - which I hope you do! - please post the question directly in Discord."
      ],
      "metadata": {
        "id": "XDBX6FZlXZ1N"
      }
    },
    {
      "cell_type": "markdown",
      "source": [
        "I think the big concept from this homework is the process of determining if something is a markov chain and dealing with the data to create the transition matrix to start testing it. Most of the labor from this homework was deciding how to attack the problem from a coding perspective. I spent a hefty amount of time trying to manually find the transition matrix and create the plots. I did this because although there are python packages for markov chains online, I couldn't find and use one that seemed like it could get the job done correctly. I was also a little stubborn and didn't switch to R even though it seems like it would be an easier time based on the online examples from the class website (I also don't know R lol)"
      ],
      "metadata": {
        "id": "COQz4qEBXaq3"
      }
    }
  ]
}