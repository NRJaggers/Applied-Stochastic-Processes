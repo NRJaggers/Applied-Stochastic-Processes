{
  "nbformat": 4,
  "nbformat_minor": 0,
  "metadata": {
    "colab": {
      "provenance": [],
      "include_colab_link": true
    },
    "kernelspec": {
      "name": "python3",
      "display_name": "Python 3"
    },
    "language_info": {
      "name": "python"
    }
  },
  "cells": [
    {
      "cell_type": "markdown",
      "metadata": {
        "id": "view-in-github",
        "colab_type": "text"
      },
      "source": [
        "<a href=\"https://colab.research.google.com/github/NRJaggers/Applied-Stochastic-Processes/blob/main/PracticeProblems/Further_Properties_of_Poisson_Processes.ipynb\" target=\"_parent\"><img src=\"https://colab.research.google.com/assets/colab-badge.svg\" alt=\"Open In Colab\"/></a>"
      ]
    },
    {
      "cell_type": "markdown",
      "source": [
        "#Further Properties of Poisson Processes"
      ],
      "metadata": {
        "id": "lwN5bYfDW66u"
      }
    },
    {
      "cell_type": "markdown",
      "source": [
        "---\n",
        "\n",
        "## Prompt"
      ],
      "metadata": {
        "id": "Bh1go0uHXDqq"
      }
    },
    {
      "cell_type": "markdown",
      "source": [
        "Original Prompt can be found [here](https://bookdown.org/kevin_davisross/applied-stochastic-processes/pp-more-poisson-processes.html). A copy of the prompt  can be found on github under [/PracticeProblems/Prompts](https://github.com/NRJaggers/Applied-Stochastic-Processes/tree/main/PracticeProblems/Prompts) along with completed exercises under [/PracticeProblems](https://github.com/NRJaggers/Applied-Stochastic-Processes/tree/main/PracticeProblems)."
      ],
      "metadata": {
        "id": "DJpcnN9AXHGQ"
      }
    },
    {
      "cell_type": "markdown",
      "source": [
        "---\n",
        "\n",
        "## Problems"
      ],
      "metadata": {
        "id": "GXUWHhYNXK3F"
      }
    },
    {
      "cell_type": "markdown",
      "source": [
        "###1."
      ],
      "metadata": {
        "id": "RXCvu0k9XNzE"
      }
    },
    {
      "cell_type": "markdown",
      "source": [
        "####a."
      ],
      "metadata": {
        "id": "ZbFDny4uTUmB"
      }
    },
    {
      "cell_type": "markdown",
      "source": [
        "####b."
      ],
      "metadata": {
        "id": "LdX87GL3TUmD"
      }
    },
    {
      "cell_type": "markdown",
      "source": [
        "####c."
      ],
      "metadata": {
        "id": "kBf5fHxRTUmE"
      }
    },
    {
      "cell_type": "markdown",
      "source": [
        "####d."
      ],
      "metadata": {
        "id": "h-NkR48NTUmF"
      }
    },
    {
      "cell_type": "markdown",
      "source": [
        "###2."
      ],
      "metadata": {
        "id": "NnOccgJbXbpb"
      }
    },
    {
      "cell_type": "markdown",
      "source": [
        "####a."
      ],
      "metadata": {
        "id": "eA_V8lgFRcVd"
      }
    },
    {
      "cell_type": "markdown",
      "source": [
        "####b."
      ],
      "metadata": {
        "id": "9bWUkI8sR6tN"
      }
    },
    {
      "cell_type": "markdown",
      "source": [
        "####c."
      ],
      "metadata": {
        "id": "gs-6KgrtR7j4"
      }
    },
    {
      "cell_type": "markdown",
      "source": [
        "####d."
      ],
      "metadata": {
        "id": "_sd-g52oR-OF"
      }
    },
    {
      "cell_type": "markdown",
      "source": [
        "####e."
      ],
      "metadata": {
        "id": "wJBTxNKaR_Rs"
      }
    },
    {
      "cell_type": "markdown",
      "source": [
        "###3."
      ],
      "metadata": {
        "id": "djmJVxVpTGqW"
      }
    },
    {
      "cell_type": "markdown",
      "source": [
        "####a."
      ],
      "metadata": {
        "id": "_Jp3ulNATVaE"
      }
    },
    {
      "cell_type": "markdown",
      "source": [
        "####b."
      ],
      "metadata": {
        "id": "_-8Z09QFTVaF"
      }
    },
    {
      "cell_type": "markdown",
      "source": [
        "####c."
      ],
      "metadata": {
        "id": "OZF-d0O0TVaG"
      }
    },
    {
      "cell_type": "markdown",
      "source": [
        "---\n",
        "\n",
        "## Reflection"
      ],
      "metadata": {
        "id": "8tVMmKgxXWdC"
      }
    },
    {
      "cell_type": "markdown",
      "source": [
        "With each Practice Problem submission, you should also take a few minutes to reflect on the practice problems and related material and thoughtfully respond to the following.\n",
        "\n",
        "1. Write a sentence or two summarizing - in your own words - one big idea from this material.\n",
        "2. Describe one particular aspect of this material that you found challenging and why. Then describe how you dealt with the challenge, or what you can do to deal with the challenge.\n",
        "3. Write at least one specific question you have about this material. I strongly encourage you to post your questions directly in Discord as that's where I'll respond to questions. That is, if you really want an answer to your question - which I hope you do! - please post the question directly in Discord."
      ],
      "metadata": {
        "id": "XDBX6FZlXZ1N"
      }
    },
    {
      "cell_type": "markdown",
      "source": [],
      "metadata": {
        "id": "COQz4qEBXaq3"
      }
    }
  ]
}