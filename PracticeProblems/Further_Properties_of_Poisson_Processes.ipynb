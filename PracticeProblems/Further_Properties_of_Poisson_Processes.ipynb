{
  "nbformat": 4,
  "nbformat_minor": 0,
  "metadata": {
    "colab": {
      "provenance": [],
      "include_colab_link": true
    },
    "kernelspec": {
      "name": "python3",
      "display_name": "Python 3"
    },
    "language_info": {
      "name": "python"
    }
  },
  "cells": [
    {
      "cell_type": "markdown",
      "metadata": {
        "id": "view-in-github",
        "colab_type": "text"
      },
      "source": [
        "<a href=\"https://colab.research.google.com/github/NRJaggers/Applied-Stochastic-Processes/blob/main/PracticeProblems/Further_Properties_of_Poisson_Processes.ipynb\" target=\"_parent\"><img src=\"https://colab.research.google.com/assets/colab-badge.svg\" alt=\"Open In Colab\"/></a>"
      ]
    },
    {
      "cell_type": "markdown",
      "source": [
        "#Further Properties of Poisson Processes"
      ],
      "metadata": {
        "id": "lwN5bYfDW66u"
      }
    },
    {
      "cell_type": "markdown",
      "source": [
        "---\n",
        "\n",
        "## Prompt"
      ],
      "metadata": {
        "id": "Bh1go0uHXDqq"
      }
    },
    {
      "cell_type": "markdown",
      "source": [
        "Original Prompt can be found [here](https://bookdown.org/kevin_davisross/applied-stochastic-processes/pp-more-poisson-processes.html). A copy of the prompt  can be found on github under [/PracticeProblems/Prompts](https://github.com/NRJaggers/Applied-Stochastic-Processes/tree/main/PracticeProblems/Prompts) along with completed exercises under [/PracticeProblems](https://github.com/NRJaggers/Applied-Stochastic-Processes/tree/main/PracticeProblems)."
      ],
      "metadata": {
        "id": "DJpcnN9AXHGQ"
      }
    },
    {
      "cell_type": "markdown",
      "source": [
        "---\n",
        "\n",
        "## Problems"
      ],
      "metadata": {
        "id": "GXUWHhYNXK3F"
      }
    },
    {
      "cell_type": "markdown",
      "source": [
        "###1."
      ],
      "metadata": {
        "id": "RXCvu0k9XNzE"
      }
    },
    {
      "cell_type": "markdown",
      "source": [
        "Shocks occur to a system according to a Poisson process with rate $\\lambda = 3$ per year. Suppose that the system survives each shock with $p=0.9$ probability, independent of other shocks. $T$ is the time at which the system fails"
      ],
      "metadata": {
        "id": "5h65HSbkk84J"
      }
    },
    {
      "cell_type": "markdown",
      "source": [
        "####a."
      ],
      "metadata": {
        "id": "ZbFDny4uTUmB"
      }
    },
    {
      "cell_type": "markdown",
      "source": [
        "$\\text{P}(T > t | N_t = k)$"
      ],
      "metadata": {
        "id": "NmgT-rhTlu4q"
      }
    },
    {
      "cell_type": "markdown",
      "source": [
        "Not sure how to approach this one. Given we know a the ammount of shocks that have happened, what is the probability we are at a time where the system hasn't failed yet. That is how I am intepreting it so far. Not sure how I would translate it to an expression. Maybe I can rewrite it with an identity? Also it does look like I would be using an exponetial and possion distribution to express it."
      ],
      "metadata": {
        "id": "g2sgwdU7AIHs"
      }
    },
    {
      "cell_type": "markdown",
      "source": [
        "####b."
      ],
      "metadata": {
        "id": "LdX87GL3TUmD"
      }
    },
    {
      "cell_type": "markdown",
      "source": [
        "$\\text{P}(T>t)$"
      ],
      "metadata": {
        "id": "Qo3C45Aclzlf"
      }
    },
    {
      "cell_type": "markdown",
      "source": [
        "I think this would end up just being an exponetial.\n",
        "\n",
        "$\\text{P}(T>t) = e^{-\\lambda t}$"
      ],
      "metadata": {
        "id": "nlD988yQBVPP"
      }
    },
    {
      "cell_type": "markdown",
      "source": [
        "####c."
      ],
      "metadata": {
        "id": "kBf5fHxRTUmE"
      }
    },
    {
      "cell_type": "markdown",
      "source": [
        "$\\text{E}(T)$"
      ],
      "metadata": {
        "id": "50xvjp6hl3fI"
      }
    },
    {
      "cell_type": "markdown",
      "source": [
        "If the exponential above is correct then I would expect this to follow.\n",
        "$\\text{E}(T) = \\frac{1}{\\lambda}$"
      ],
      "metadata": {
        "id": "kOBQeYx6Bvz3"
      }
    },
    {
      "cell_type": "markdown",
      "source": [
        "####d."
      ],
      "metadata": {
        "id": "h-NkR48NTUmF"
      }
    },
    {
      "cell_type": "markdown",
      "source": [
        "Interpret in words what the random variable $N_T$ represents and find the distribution of this random variable. You should do this without any calculations."
      ],
      "metadata": {
        "id": "urRHiAO_mB-C"
      }
    },
    {
      "cell_type": "markdown",
      "source": [
        "$N_T$ is the number of shocks the system has survived before it fails."
      ],
      "metadata": {
        "id": "vCoVwJMO5PEy"
      }
    },
    {
      "cell_type": "markdown",
      "source": [
        "###2."
      ],
      "metadata": {
        "id": "NnOccgJbXbpb"
      }
    },
    {
      "cell_type": "markdown",
      "source": [
        "Vehicles arrive at a particular intersection according to a Poisson process, with rate 2 per minute for cars, 1 per minute for trucks, and 0.5 per minute for motorcycles. Assume arrivals of the different vehicle types are independent. Let $T$ be the time elapsed between now and the arrival of the next vehicle, and let $I$ represent the type (1=car, 2=truck, 3=motorcycle) of the next vehicle to arrive."
      ],
      "metadata": {
        "id": "y_WbA9LumjEx"
      }
    },
    {
      "cell_type": "markdown",
      "source": [
        "####a."
      ],
      "metadata": {
        "id": "eA_V8lgFRcVd"
      }
    },
    {
      "cell_type": "markdown",
      "source": [
        "Distribution of $T$"
      ],
      "metadata": {
        "id": "Sy3YblBZmv-j"
      }
    },
    {
      "cell_type": "markdown",
      "source": [
        "Sounds like superposition of Poisson. Therefore we will create a new Poisson distribution by adding the rates.\n",
        "\n",
        "$\\lambda = 2 + 1 + 0.5 = 3.5$\n",
        "\n",
        "$\\therefore$ The distribution of T is exponetial with rate 3.5"
      ],
      "metadata": {
        "id": "i4mgKV9lInI7"
      }
    },
    {
      "cell_type": "markdown",
      "source": [
        "$\\text{E}(T) = \\frac{1}{3.5} = 0.286$\n",
        "\n"
      ],
      "metadata": {
        "id": "sAfsKZ-5KVpL"
      }
    },
    {
      "cell_type": "code",
      "source": [
        "1/3.5"
      ],
      "metadata": {
        "id": "qazWpfvPKfNG",
        "outputId": "d7f71034-a3e9-4f36-ddbf-3c40d0a34c5d",
        "colab": {
          "base_uri": "https://localhost:8080/"
        }
      },
      "execution_count": 1,
      "outputs": [
        {
          "output_type": "execute_result",
          "data": {
            "text/plain": [
              "0.2857142857142857"
            ]
          },
          "metadata": {},
          "execution_count": 1
        }
      ]
    },
    {
      "cell_type": "markdown",
      "source": [
        "$\\text{P}(T \\leq 0.5) = 1 - e^{-(3.5)(0.5)}$"
      ],
      "metadata": {
        "id": "6LEkLxyanEMk"
      }
    },
    {
      "cell_type": "code",
      "source": [
        "import math\n",
        "1-math.exp(-3.5*0.5)"
      ],
      "metadata": {
        "id": "V0ozm0F3K5Gf",
        "outputId": "033270db-86ab-4abd-c697-11724e244f23",
        "colab": {
          "base_uri": "https://localhost:8080/"
        }
      },
      "execution_count": 2,
      "outputs": [
        {
          "output_type": "execute_result",
          "data": {
            "text/plain": [
              "0.8262260565495548"
            ]
          },
          "metadata": {},
          "execution_count": 2
        }
      ]
    },
    {
      "cell_type": "markdown",
      "source": [
        "####b."
      ],
      "metadata": {
        "id": "9bWUkI8sR6tN"
      }
    },
    {
      "cell_type": "markdown",
      "source": [
        "Distribution of $I$"
      ],
      "metadata": {
        "id": "LpwjqDaun4q2"
      }
    },
    {
      "cell_type": "markdown",
      "source": [
        "Boils down to ratio of rates for given vehicle against all vehicles."
      ],
      "metadata": {
        "id": "2keYV6aoLlUB"
      }
    },
    {
      "cell_type": "code",
      "source": [
        "print(2/3.5)\n",
        "print(1/3.5)\n",
        "print(0.5/3.5)"
      ],
      "metadata": {
        "id": "VzzFOQecLtUG",
        "outputId": "43fc5121-2e33-4680-a099-f2acd5b1d2da",
        "colab": {
          "base_uri": "https://localhost:8080/"
        }
      },
      "execution_count": 3,
      "outputs": [
        {
          "output_type": "stream",
          "name": "stdout",
          "text": [
            "0.5714285714285714\n",
            "0.2857142857142857\n",
            "0.14285714285714285\n"
          ]
        }
      ]
    },
    {
      "cell_type": "markdown",
      "source": [
        "####c."
      ],
      "metadata": {
        "id": "gs-6KgrtR7j4"
      }
    },
    {
      "cell_type": "markdown",
      "source": [
        "$\\text{E}(T|I=3)$"
      ],
      "metadata": {
        "id": "QOq3YP8ooMFF"
      }
    },
    {
      "cell_type": "markdown",
      "source": [
        "By exponential race properties, these conditions are independed of eachother. So this boils down to just the expected time of the next vehicle."
      ],
      "metadata": {
        "id": "KKliHqHXMkQs"
      }
    },
    {
      "cell_type": "markdown",
      "source": [
        "$\\text{P}(T \\leq 0.5|I=3)$"
      ],
      "metadata": {
        "id": "adAiFHgFoq_R"
      }
    },
    {
      "cell_type": "markdown",
      "source": [
        "Again, independent so same idea as above."
      ],
      "metadata": {
        "id": "Fo9tojYZNFvD"
      }
    },
    {
      "cell_type": "markdown",
      "source": [
        "####d."
      ],
      "metadata": {
        "id": "_sd-g52oR-OF"
      }
    },
    {
      "cell_type": "markdown",
      "source": [
        "$\\text{P}(I=3|T \\leq 0.5)$"
      ],
      "metadata": {
        "id": "hKivj3G0o-8I"
      }
    },
    {
      "cell_type": "markdown",
      "source": [
        "Similar set of properties from exponential race. These are independent and this shakes out to be just the probability the next vehicle is a motorcycle."
      ],
      "metadata": {
        "id": "wq-Vf1OONXo-"
      }
    },
    {
      "cell_type": "markdown",
      "source": [
        "####e."
      ],
      "metadata": {
        "id": "wJBTxNKaR_Rs"
      }
    },
    {
      "cell_type": "markdown",
      "source": [
        "Explain in full detail how you could in principle simulate the arrival times of many vehicles and their types using only (1) a spinner and (2) an Exponential(1) random number generator."
      ],
      "metadata": {
        "id": "pxp9BJj-pWL6"
      }
    },
    {
      "cell_type": "markdown",
      "source": [
        "You could use the spinner to determine the times that different vehicles show up. You could use the RNG to simulate which vehicle it is."
      ],
      "metadata": {
        "id": "ssC5gS9sN3Xp"
      }
    },
    {
      "cell_type": "markdown",
      "source": [
        "###3."
      ],
      "metadata": {
        "id": "djmJVxVpTGqW"
      }
    },
    {
      "cell_type": "markdown",
      "source": [
        "In the summer, tornadoes hit a certain region according to a Poisson process with $\\lambda = 2$ per month. The number of insurance claims filed after any tornado has a Poisson distribution with mean 30. The number of tornadoes is independent of the number of insurance claims. Let $X$ be the total number of claims filed in three summer months."
      ],
      "metadata": {
        "id": "l1cQ03SkqHLh"
      }
    },
    {
      "cell_type": "markdown",
      "source": [
        "####a."
      ],
      "metadata": {
        "id": "_Jp3ulNATVaE"
      }
    },
    {
      "cell_type": "markdown",
      "source": [
        "$\\text{E}(X)$"
      ],
      "metadata": {
        "id": "xdT9bk-mqRH0"
      }
    },
    {
      "cell_type": "markdown",
      "source": [
        "####b."
      ],
      "metadata": {
        "id": "_-8Z09QFTVaF"
      }
    },
    {
      "cell_type": "markdown",
      "source": [
        "$\\text{SD}(X)$"
      ],
      "metadata": {
        "id": "J4-ln4L-qTzR"
      }
    },
    {
      "cell_type": "markdown",
      "source": [
        "####c."
      ],
      "metadata": {
        "id": "OZF-d0O0TVaG"
      }
    },
    {
      "cell_type": "markdown",
      "source": [
        "Use simulation to approximate $\\text{P}(X > 300)$"
      ],
      "metadata": {
        "id": "dzJmPC-yqYhY"
      }
    },
    {
      "cell_type": "markdown",
      "source": [
        "---\n",
        "\n",
        "## Reflection"
      ],
      "metadata": {
        "id": "8tVMmKgxXWdC"
      }
    },
    {
      "cell_type": "markdown",
      "source": [
        "With each Practice Problem submission, you should also take a few minutes to reflect on the practice problems and related material and thoughtfully respond to the following.\n",
        "\n",
        "1. Write a sentence or two summarizing - in your own words - one big idea from this material.\n",
        "2. Describe one particular aspect of this material that you found challenging and why. Then describe how you dealt with the challenge, or what you can do to deal with the challenge.\n",
        "3. Write at least one specific question you have about this material. I strongly encourage you to post your questions directly in Discord as that's where I'll respond to questions. That is, if you really want an answer to your question - which I hope you do! - please post the question directly in Discord."
      ],
      "metadata": {
        "id": "XDBX6FZlXZ1N"
      }
    },
    {
      "cell_type": "markdown",
      "source": [],
      "metadata": {
        "id": "COQz4qEBXaq3"
      }
    }
  ]
}