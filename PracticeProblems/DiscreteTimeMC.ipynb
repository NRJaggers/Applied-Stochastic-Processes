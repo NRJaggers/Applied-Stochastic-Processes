{
  "nbformat": 4,
  "nbformat_minor": 0,
  "metadata": {
    "colab": {
      "provenance": [],
      "include_colab_link": true
    },
    "kernelspec": {
      "name": "python3",
      "display_name": "Python 3"
    },
    "language_info": {
      "name": "python"
    }
  },
  "cells": [
    {
      "cell_type": "markdown",
      "metadata": {
        "id": "view-in-github",
        "colab_type": "text"
      },
      "source": [
        "<a href=\"https://colab.research.google.com/github/NRJaggers/Applied-Stochastic-Processes/blob/main/PracticeProblems/DiscreteTimeMC.ipynb\" target=\"_parent\"><img src=\"https://colab.research.google.com/assets/colab-badge.svg\" alt=\"Open In Colab\"/></a>"
      ]
    },
    {
      "cell_type": "markdown",
      "source": [
        "#Discrete Time Markov Chains: Joint, Conditional, and Marginal Distributions"
      ],
      "metadata": {
        "id": "lwN5bYfDW66u"
      }
    },
    {
      "cell_type": "markdown",
      "source": [
        "---\n",
        "\n",
        "## Prompt"
      ],
      "metadata": {
        "id": "Bh1go0uHXDqq"
      }
    },
    {
      "cell_type": "markdown",
      "source": [
        "Original Prompt can be found [here](https://bookdown.org/kevin_davisross/applied-stochastic-processes/pp-mc-distributions.html). A copy of the prompt  can be found on github under [/PracticeProblems/Prompts](https://github.com/NRJaggers/Applied-Stochastic-Processes/tree/main/PracticeProblems/Prompts) along with completed exercises under [/PracticeProblems](https://github.com/NRJaggers/Applied-Stochastic-Processes/tree/main/PracticeProblems)."
      ],
      "metadata": {
        "id": "DJpcnN9AXHGQ"
      }
    },
    {
      "cell_type": "markdown",
      "source": [
        "---\n",
        "\n",
        "## Problems"
      ],
      "metadata": {
        "id": "GXUWHhYNXK3F"
      }
    },
    {
      "cell_type": "markdown",
      "source": [
        "###1.\n",
        "$\\text{P}(T > 4)$"
      ],
      "metadata": {
        "id": "RXCvu0k9XNzE"
      }
    },
    {
      "cell_type": "code",
      "source": [
        "T1 = 0.2\n",
        "T2 = 0.3*0.1 + 0.5*0.2\n",
        "T3 = 0.3*0.4*0.1 + 0.3*0.5*0.2 + 0.5*0.3*0.1 + 0.5*0.5*0.2\n",
        "T4 =  0.3*0.4*0.4*0.1 + 0.3*0.4*0.5*0.2 + 0.3*0.5*0.3*0.1 + 0.3*0.5*0.5*0.2 + 0.5*0.3*0.4*0.1 + 0.5*0.3*0.5*0.2 + 0.5*0.5*0.3*0.1 + 0.5*0.5*0.5*0.2\n",
        "\n",
        "print(\"P(T=1) = \", T1)\n",
        "print(\"P(T=2) = \", T2)\n",
        "print(\"P(T=3) = \", T3)\n",
        "print(\"P(T=4) = \", T4)\n",
        "\n",
        "T = T1 + T2 + T3 +T4\n",
        "print(\"P(T<=4) = \", T)\n",
        "\n",
        "T_not = 1 - T\n",
        "print(\"P(T>4) = \", T_not)\n"
      ],
      "metadata": {
        "id": "Dpd1AP64xPIC",
        "outputId": "585da514-d95f-4980-c099-6fe946b31f71",
        "colab": {
          "base_uri": "https://localhost:8080/"
        }
      },
      "execution_count": 9,
      "outputs": [
        {
          "output_type": "stream",
          "name": "stdout",
          "text": [
            "P(T=1) =  0.2\n",
            "P(T=2) =  0.13\n",
            "P(T=3) =  0.107\n",
            "P(T=4) =  0.08979999999999999\n",
            "P(T<=4) =  0.5267999999999999\n",
            "P(T>4) =  0.47320000000000007\n"
          ]
        }
      ]
    },
    {
      "cell_type": "markdown",
      "source": [
        "---\n",
        "\n",
        "## Reflection"
      ],
      "metadata": {
        "id": "8tVMmKgxXWdC"
      }
    },
    {
      "cell_type": "markdown",
      "source": [
        "With each Practice Problem submission, you should also take a few minutes to reflect on the practice problems and related material and thoughtfully respond to the following.\n",
        "\n",
        "1. Write a sentence or two summarizing - in your own words - one big idea from this material.\n",
        "2. Describe one particular aspect of this material that you found challenging and why. Then describe how you dealt with the challenge, or what you can do to deal with the challenge.\n",
        "3. Write at least one specific question you have about this material. I strongly encourage you to post your questions directly in Discord as that's where I'll respond to questions. That is, if you really want an answer to your question - which I hope you do! - please post the question directly in Discord."
      ],
      "metadata": {
        "id": "XDBX6FZlXZ1N"
      }
    },
    {
      "cell_type": "markdown",
      "source": [],
      "metadata": {
        "id": "COQz4qEBXaq3"
      }
    }
  ]
}