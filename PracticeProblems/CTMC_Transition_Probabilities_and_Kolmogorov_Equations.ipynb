{
  "nbformat": 4,
  "nbformat_minor": 0,
  "metadata": {
    "colab": {
      "provenance": [],
      "include_colab_link": true
    },
    "kernelspec": {
      "name": "python3",
      "display_name": "Python 3"
    },
    "language_info": {
      "name": "python"
    }
  },
  "cells": [
    {
      "cell_type": "markdown",
      "metadata": {
        "id": "view-in-github",
        "colab_type": "text"
      },
      "source": [
        "<a href=\"https://colab.research.google.com/github/NRJaggers/Applied-Stochastic-Processes/blob/main/PracticeProblems/CTMC_Transition_Probabilities_and_Kolmogorov_Equations.ipynb\" target=\"_parent\"><img src=\"https://colab.research.google.com/assets/colab-badge.svg\" alt=\"Open In Colab\"/></a>"
      ]
    },
    {
      "cell_type": "markdown",
      "source": [
        "#Continuous Time Markov Chains: Transition Probabilities and Kolmogorov Equations"
      ],
      "metadata": {
        "id": "lwN5bYfDW66u"
      }
    },
    {
      "cell_type": "markdown",
      "source": [
        "---\n",
        "\n",
        "## Prompt"
      ],
      "metadata": {
        "id": "Bh1go0uHXDqq"
      }
    },
    {
      "cell_type": "markdown",
      "source": [
        "Original Prompt can be found [here](https://bookdown.org/kevin_davisross/applied-stochastic-processes/pp-ctmc-kolmogorov-equations.html). A copy of the prompt  can be found on github under [/PracticeProblems/Prompts](https://github.com/NRJaggers/Applied-Stochastic-Processes/tree/main/PracticeProblems/Prompts) along with completed exercises under [/PracticeProblems](https://github.com/NRJaggers/Applied-Stochastic-Processes/tree/main/PracticeProblems)."
      ],
      "metadata": {
        "id": "DJpcnN9AXHGQ"
      }
    },
    {
      "cell_type": "markdown",
      "source": [
        "---\n",
        "\n",
        "## Problems"
      ],
      "metadata": {
        "id": "GXUWHhYNXK3F"
      }
    },
    {
      "cell_type": "markdown",
      "source": [
        "###1."
      ],
      "metadata": {
        "id": "RXCvu0k9XNzE"
      }
    },
    {
      "cell_type": "markdown",
      "source": [
        "sunny (1), cloudy (2), or rainy (3).\n",
        "\n",
        "$$\n",
        "\\mathbf{Q} =\n",
        "\\begin{bmatrix}\n",
        "     & 0.25 & 0\\cr\n",
        "     0.8& & 0.4\\cr\n",
        "     2.0& 1.5& \\cr  \n",
        "\\end{bmatrix}\n",
        "$$"
      ],
      "metadata": {
        "id": "LRXDnRBXXIFa"
      }
    },
    {
      "cell_type": "markdown",
      "source": [
        "####a."
      ],
      "metadata": {
        "id": "iOCb8iFFWmh1"
      }
    },
    {
      "cell_type": "markdown",
      "source": [
        "$\\text{P}_t = e^{\\mathbf{Q}t}$\n",
        "\n",
        "Assuming that finding probability from being cloudy now to rainy \"next\" means next day (24hours), in line with rates."
      ],
      "metadata": {
        "id": "Cq9vIFryyQZw"
      }
    },
    {
      "cell_type": "code",
      "source": [
        "import math\n",
        "# time is in days (24 hour intervals)\n",
        "t = 1\n",
        "# q_ij here is q_cr = cloudy to rainy\n",
        "q_cr = 0.4\n",
        "\n",
        "#prob leave cloudy state for rainy state\n",
        "P = 1-math.exp(-q_cr*t)\n",
        "\n",
        "print(\"P_t = {:.2f}\".format(P))"
      ],
      "metadata": {
        "colab": {
          "base_uri": "https://localhost:8080/"
        },
        "id": "225L4REQyphk",
        "outputId": "fe7f43a0-37e8-4ca8-ce1c-671b1fff3ecc"
      },
      "execution_count": 22,
      "outputs": [
        {
          "output_type": "stream",
          "name": "stdout",
          "text": [
            "P_t = 0.33\n"
          ]
        }
      ]
    },
    {
      "cell_type": "markdown",
      "source": [
        "####b."
      ],
      "metadata": {
        "id": "l2DNUpSLWoxP"
      }
    },
    {
      "cell_type": "markdown",
      "source": [
        " rainy now, approximate the probability that it is sunny 30 minutes from now.\n",
        "\n",
        " Approximation is okay because the difference in time is very small espcially when compared to the units of time used with the rates (comparing minutes to days)"
      ],
      "metadata": {
        "id": "sy-sw3uU0a7_"
      }
    },
    {
      "cell_type": "code",
      "source": [
        "h = 30/(1*24*60)\n",
        "q_rs = 2\n",
        "\n",
        "P = h*q_rs\n",
        "print(\"P_h = {:.2f}\".format(P))\n",
        "\n",
        "P = 1 - math.exp(-q_rs*h)\n",
        "print(\"P_h = {:.2f}\".format(P))"
      ],
      "metadata": {
        "colab": {
          "base_uri": "https://localhost:8080/"
        },
        "id": "qI1czM1-07q4",
        "outputId": "d9a9c8e6-645e-442e-9437-767a06d08363"
      },
      "execution_count": 21,
      "outputs": [
        {
          "output_type": "stream",
          "name": "stdout",
          "text": [
            "P_h = 0.04\n",
            "P_h = 0.04\n"
          ]
        }
      ]
    },
    {
      "cell_type": "markdown",
      "source": [
        "####c."
      ],
      "metadata": {
        "id": "TnNXwL7sWp7i"
      }
    },
    {
      "cell_type": "markdown",
      "source": [
        "unsure for c and d right now"
      ],
      "metadata": {
        "id": "ao7kAyWr_P6A"
      }
    },
    {
      "cell_type": "markdown",
      "source": [
        "####d."
      ],
      "metadata": {
        "id": "FjayihRIWrJ6"
      }
    },
    {
      "cell_type": "markdown",
      "source": [
        "###2."
      ],
      "metadata": {
        "id": "NnOccgJbXbpb"
      }
    },
    {
      "cell_type": "markdown",
      "source": [
        "####a."
      ],
      "metadata": {
        "id": "1qSgyNSRW1xb"
      }
    },
    {
      "cell_type": "markdown",
      "source": [
        "####b."
      ],
      "metadata": {
        "id": "sgavDHVmW1xc"
      }
    },
    {
      "cell_type": "markdown",
      "source": [
        "####c."
      ],
      "metadata": {
        "id": "EJeYePumW1xc"
      }
    },
    {
      "cell_type": "markdown",
      "source": [
        "####d."
      ],
      "metadata": {
        "id": "91kZ02jfW1xc"
      }
    },
    {
      "cell_type": "markdown",
      "source": [
        "####e."
      ],
      "metadata": {
        "id": "nGbuzynaW4Fp"
      }
    },
    {
      "cell_type": "markdown",
      "source": [
        "---\n",
        "\n",
        "## Reflection"
      ],
      "metadata": {
        "id": "8tVMmKgxXWdC"
      }
    },
    {
      "cell_type": "markdown",
      "source": [
        "With each Practice Problem submission, you should also take a few minutes to reflect on the practice problems and related material and thoughtfully respond to the following.\n",
        "\n",
        "1. Write a sentence or two summarizing - in your own words - one big idea from this material.\n",
        "2. Describe one particular aspect of this material that you found challenging and why. Then describe how you dealt with the challenge, or what you can do to deal with the challenge.\n",
        "3. Write at least one specific question you have about this material. I strongly encourage you to post your questions directly in Discord as that's where I'll respond to questions. That is, if you really want an answer to your question - which I hope you do! - please post the question directly in Discord."
      ],
      "metadata": {
        "id": "XDBX6FZlXZ1N"
      }
    },
    {
      "cell_type": "markdown",
      "source": [
        "In this practice problem we are challeneged to learn how to create and use Transition probabilities from what we know in a transition rate matrix. We are also tasked with exploring Kolmogorov equations. I am definitly struggling to understand the proper usage of the equation specified in 1.a. I asked a question in the dicord and I am also confused on 2 where I am waiting to see if there is a response to another students question on discord. I will also see if there are more example problems and resources online."
      ],
      "metadata": {
        "id": "COQz4qEBXaq3"
      }
    }
  ]
}