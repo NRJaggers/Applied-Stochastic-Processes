{
  "nbformat": 4,
  "nbformat_minor": 0,
  "metadata": {
    "colab": {
      "provenance": [],
      "include_colab_link": true
    },
    "kernelspec": {
      "name": "python3",
      "display_name": "Python 3"
    },
    "language_info": {
      "name": "python"
    }
  },
  "cells": [
    {
      "cell_type": "markdown",
      "metadata": {
        "id": "view-in-github",
        "colab_type": "text"
      },
      "source": [
        "<a href=\"https://colab.research.google.com/github/NRJaggers/Applied-Stochastic-Processes/blob/main/PracticeProblems/DTMC_Steady_State_Distributions.ipynb\" target=\"_parent\"><img src=\"https://colab.research.google.com/assets/colab-badge.svg\" alt=\"Open In Colab\"/></a>"
      ]
    },
    {
      "cell_type": "markdown",
      "source": [
        "#Discrete Time Markov Chains: Steady State Distributions"
      ],
      "metadata": {
        "id": "lwN5bYfDW66u"
      }
    },
    {
      "cell_type": "markdown",
      "source": [
        "---\n",
        "\n",
        "## Prompt"
      ],
      "metadata": {
        "id": "Bh1go0uHXDqq"
      }
    },
    {
      "cell_type": "markdown",
      "source": [
        "Original Prompt can be found [here](https://bookdown.org/kevin_davisross/applied-stochastic-processes/pp-mc-steady-state-distributions.html). A copy of the prompt  can be found on github under [/PracticeProblems/Prompts](https://github.com/NRJaggers/Applied-Stochastic-Processes/tree/main/PracticeProblems/Prompts) along with completed exercises under [/PracticeProblems](https://github.com/NRJaggers/Applied-Stochastic-Processes/tree/main/PracticeProblems)."
      ],
      "metadata": {
        "id": "DJpcnN9AXHGQ"
      }
    },
    {
      "cell_type": "markdown",
      "source": [
        "---\n",
        "\n",
        "## Problems"
      ],
      "metadata": {
        "id": "GXUWHhYNXK3F"
      }
    },
    {
      "cell_type": "markdown",
      "source": [
        "###1."
      ],
      "metadata": {
        "id": "RXCvu0k9XNzE"
      }
    },
    {
      "cell_type": "markdown",
      "source": [
        "$$\n",
        "\\begin{array}{c|cccc}\n",
        "& A & C & G & T \\\\ \\hline\n",
        "A & 0.36 & 0.15 & 0.20 & 0.29 \\\\\n",
        "C & 0.41 & 0.16 & 0.04 & 0.39 \\\\\n",
        "G & 0.30 & 0.21 & 0.14 & 0.35 \\\\\n",
        "T & 0.31 & 0.19 & 0.18 & 0.32\n",
        "\\end{array}\n",
        "$$ <br> <br>\n",
        "$$\n",
        "\\begin{align*}\n",
        "\\boldsymbol{\\pi}_1 & = [0.1742, 0.3430, 0.3266, 0.1562]\\\\\n",
        "\\boldsymbol{\\pi}_2 & = [0.3430, 0.1742, 0.1562, 0.3266]\\\\\n",
        "\\boldsymbol{\\pi}_3 & = [0.4935, 0.0093, 0.0057, 0.4915]\n",
        "\\end{align*}\n",
        "$$ <br>\n",
        "\n",
        "It looks like $\\pi_2$ could be the stationary distribution. It looks to have the average of the columns."
      ],
      "metadata": {
        "id": "NnOccgJbXbpb"
      }
    },
    {
      "cell_type": "markdown",
      "source": [
        "###2."
      ],
      "metadata": {
        "id": "WhsApq_4WtJs"
      }
    },
    {
      "cell_type": "code",
      "source": [
        "pip install symbulate"
      ],
      "metadata": {
        "id": "6VuxPDBTXoLU",
        "outputId": "464ee011-418e-4410-a311-0d026031adf6",
        "colab": {
          "base_uri": "https://localhost:8080/"
        }
      },
      "execution_count": 2,
      "outputs": [
        {
          "output_type": "stream",
          "name": "stdout",
          "text": [
            "Collecting symbulate\n",
            "  Downloading symbulate-0.5.7-py3-none-any.whl (44 kB)\n",
            "\u001b[?25l     \u001b[90m━━━━━━━━━━━━━━━━━━━━━━━━━━━━━━━━━━━━━━━━\u001b[0m \u001b[32m0.0/44.9 kB\u001b[0m \u001b[31m?\u001b[0m eta \u001b[36m-:--:--\u001b[0m\r\u001b[2K     \u001b[90m━━━━━━━━━━━━━━━━━━━━━━━━━━━━━━━━━━━━━━━━\u001b[0m \u001b[32m44.9/44.9 kB\u001b[0m \u001b[31m1.2 MB/s\u001b[0m eta \u001b[36m0:00:00\u001b[0m\n",
            "\u001b[?25hRequirement already satisfied: numpy in /usr/local/lib/python3.10/dist-packages (from symbulate) (1.23.5)\n",
            "Requirement already satisfied: scipy in /usr/local/lib/python3.10/dist-packages (from symbulate) (1.11.4)\n",
            "Requirement already satisfied: matplotlib in /usr/local/lib/python3.10/dist-packages (from symbulate) (3.7.1)\n",
            "Requirement already satisfied: contourpy>=1.0.1 in /usr/local/lib/python3.10/dist-packages (from matplotlib->symbulate) (1.2.0)\n",
            "Requirement already satisfied: cycler>=0.10 in /usr/local/lib/python3.10/dist-packages (from matplotlib->symbulate) (0.12.1)\n",
            "Requirement already satisfied: fonttools>=4.22.0 in /usr/local/lib/python3.10/dist-packages (from matplotlib->symbulate) (4.47.2)\n",
            "Requirement already satisfied: kiwisolver>=1.0.1 in /usr/local/lib/python3.10/dist-packages (from matplotlib->symbulate) (1.4.5)\n",
            "Requirement already satisfied: packaging>=20.0 in /usr/local/lib/python3.10/dist-packages (from matplotlib->symbulate) (23.2)\n",
            "Requirement already satisfied: pillow>=6.2.0 in /usr/local/lib/python3.10/dist-packages (from matplotlib->symbulate) (9.4.0)\n",
            "Requirement already satisfied: pyparsing>=2.3.1 in /usr/local/lib/python3.10/dist-packages (from matplotlib->symbulate) (3.1.1)\n",
            "Requirement already satisfied: python-dateutil>=2.7 in /usr/local/lib/python3.10/dist-packages (from matplotlib->symbulate) (2.8.2)\n",
            "Requirement already satisfied: six>=1.5 in /usr/local/lib/python3.10/dist-packages (from python-dateutil>=2.7->matplotlib->symbulate) (1.16.0)\n",
            "Installing collected packages: symbulate\n",
            "Successfully installed symbulate-0.5.7\n"
          ]
        }
      ]
    },
    {
      "cell_type": "code",
      "source": [
        "from symbulate import *\n",
        "%matplotlib inline"
      ],
      "metadata": {
        "id": "JVcAsdjtazBA"
      },
      "execution_count": 3,
      "outputs": []
    },
    {
      "cell_type": "code",
      "source": [
        "#set up the Markov Chain\n",
        "states = [\"A\", \"C\", \"G\", \"T\"]\n",
        "\n",
        "TransitionMatrix = [[0.36, 0.15, 0.20, 0.29],\n",
        "                   [0.41, 0.16, 0.04, 0.39],\n",
        "                   [0.30, 0.21, 0.14, 0.35],\n",
        "                   [0.31, 0.19, 0.18, 0.32]]\n",
        "\n",
        "#no initial distribution was given, so we will start with even distributions\n",
        "#(if it will settle into a steady state, it doesn't matter what we start with)\n",
        "InitialDistribution = [1/4, 1/4, 1/4, 1/4]\n",
        "\n",
        "X = MarkovChain(TransitionMatrix, InitialDistribution, states)"
      ],
      "metadata": {
        "id": "wfnAy7ztaozt"
      },
      "execution_count": 5,
      "outputs": []
    },
    {
      "cell_type": "code",
      "source": [
        "#simulate and see if distribution settles\n",
        "X[20].sim(5000).tabulate(normalize = True)"
      ],
      "metadata": {
        "id": "9HQtRtqZgQ3i",
        "outputId": "22984e63-d3ee-42d3-ec8e-a8140802f20d",
        "colab": {
          "base_uri": "https://localhost:8080/",
          "height": 147
        }
      },
      "execution_count": 12,
      "outputs": [
        {
          "output_type": "execute_result",
          "data": {
            "text/plain": [
              "Value Relative Frequency\n",
              "A     0.3326\n",
              "C     0.1716\n",
              "G     0.152\n",
              "T     0.3438\n",
              "Total 1.0"
            ],
            "text/html": [
              "\n",
              "<table>\n",
              "  <thead>\n",
              "    <th width=\"80%\">Value</th>\n",
              "    <th width=\"20%\">Relative Frequency</th>\n",
              "  </thead>\n",
              "  <tbody>\n",
              "    <tr><td>A</td><td>0.3326</td></tr><tr><td>C</td><td>0.1716</td></tr><tr><td>G</td><td>0.152</td></tr><tr><td>T</td><td>0.3438</td></tr><tr><td><b>Total</b></td><td><b>1.0</b></td></tr>\n",
              "  </tbody>\n",
              "</table>\n"
            ]
          },
          "metadata": {},
          "execution_count": 12
        }
      ]
    },
    {
      "cell_type": "code",
      "source": [
        "#simulate and see if distribution settles\n",
        "X[21].sim(5000).tabulate(normalize = True)"
      ],
      "metadata": {
        "id": "W6CkAOprgRXt",
        "outputId": "1ad3a58d-6d2f-400d-fdfb-64f40ae18fcb",
        "colab": {
          "base_uri": "https://localhost:8080/",
          "height": 147
        }
      },
      "execution_count": 13,
      "outputs": [
        {
          "output_type": "execute_result",
          "data": {
            "text/plain": [
              "Value Relative Frequency\n",
              "A     0.3362\n",
              "C     0.1746\n",
              "G     0.1554\n",
              "T     0.3338\n",
              "Total 0.9999999999999999"
            ],
            "text/html": [
              "\n",
              "<table>\n",
              "  <thead>\n",
              "    <th width=\"80%\">Value</th>\n",
              "    <th width=\"20%\">Relative Frequency</th>\n",
              "  </thead>\n",
              "  <tbody>\n",
              "    <tr><td>A</td><td>0.3362</td></tr><tr><td>C</td><td>0.1746</td></tr><tr><td>G</td><td>0.1554</td></tr><tr><td>T</td><td>0.3338</td></tr><tr><td><b>Total</b></td><td><b>0.9999999999999999</b></td></tr>\n",
              "  </tbody>\n",
              "</table>\n"
            ]
          },
          "metadata": {},
          "execution_count": 13
        }
      ]
    },
    {
      "cell_type": "code",
      "source": [
        "#simulate and see if distribution settles\n",
        "X[22].sim(5000).tabulate(normalize = True)"
      ],
      "metadata": {
        "id": "2ouORPOKgSoO",
        "outputId": "e0cb6089-81c8-40de-aa25-d68b4dda11ac",
        "colab": {
          "base_uri": "https://localhost:8080/",
          "height": 147
        }
      },
      "execution_count": 14,
      "outputs": [
        {
          "output_type": "execute_result",
          "data": {
            "text/plain": [
              "Value Relative Frequency\n",
              "A     0.349\n",
              "C     0.1688\n",
              "G     0.1584\n",
              "T     0.3238\n",
              "Total 0.9999999999999999"
            ],
            "text/html": [
              "\n",
              "<table>\n",
              "  <thead>\n",
              "    <th width=\"80%\">Value</th>\n",
              "    <th width=\"20%\">Relative Frequency</th>\n",
              "  </thead>\n",
              "  <tbody>\n",
              "    <tr><td>A</td><td>0.349</td></tr><tr><td>C</td><td>0.1688</td></tr><tr><td>G</td><td>0.1584</td></tr><tr><td>T</td><td>0.3238</td></tr><tr><td><b>Total</b></td><td><b>0.9999999999999999</b></td></tr>\n",
              "  </tbody>\n",
              "</table>\n"
            ]
          },
          "metadata": {},
          "execution_count": 14
        }
      ]
    },
    {
      "cell_type": "markdown",
      "source": [
        "We can see how it as the same distribution accross multiple steps, so this therefore seems like a steady state distribution. This Markov Chain is fully connected, so it is irreducible and aperiodic. That means the steady state distribution is equal to the stationary distribution."
      ],
      "metadata": {
        "id": "7MuWsJlohUxW"
      }
    },
    {
      "cell_type": "markdown",
      "source": [
        "###3."
      ],
      "metadata": {
        "id": "_umUvBjuk1JQ"
      }
    },
    {
      "cell_type": "markdown",
      "source": [
        "$P^{(2)}(C,T) = ?$"
      ],
      "metadata": {
        "id": "Th-x78t5lDN-"
      }
    },
    {
      "cell_type": "code",
      "source": [
        "import numpy as np\n",
        "\n",
        "#adjust matrix\n",
        "P = np.array(TransitionMatrix)\n",
        "\n",
        "#matrix multiply\n",
        "P2 = P @ P\n",
        "\n",
        "#Transition from C to T in two steps\n",
        "P2[1][3]"
      ],
      "metadata": {
        "id": "rXYCzYwNkzFV",
        "outputId": "6fcbc056-1a2c-4d4e-c767-f3d0d6e04dac",
        "colab": {
          "base_uri": "https://localhost:8080/"
        }
      },
      "execution_count": 31,
      "outputs": [
        {
          "output_type": "execute_result",
          "data": {
            "text/plain": [
              "0.3201"
            ]
          },
          "metadata": {},
          "execution_count": 31
        }
      ]
    },
    {
      "cell_type": "markdown",
      "source": [
        "###4."
      ],
      "metadata": {
        "id": "RAmlxzbbvOik"
      }
    },
    {
      "cell_type": "markdown",
      "source": [
        "$P^{(2)}(A,T) = ?$"
      ],
      "metadata": {
        "id": "NqYE9WmVu7Q8"
      }
    },
    {
      "cell_type": "code",
      "source": [
        "#Transition from A to T in two steps\n",
        "P2[0][3]"
      ],
      "metadata": {
        "id": "TUSpJUNYu5ii",
        "outputId": "7f52dd36-07c1-4a2e-ceef-6e880936c203",
        "colab": {
          "base_uri": "https://localhost:8080/"
        }
      },
      "execution_count": 32,
      "outputs": [
        {
          "output_type": "execute_result",
          "data": {
            "text/plain": [
              "0.3257"
            ]
          },
          "metadata": {},
          "execution_count": 32
        }
      ]
    },
    {
      "cell_type": "markdown",
      "source": [
        "###5."
      ],
      "metadata": {
        "id": "Y0BuFvmhvU6k"
      }
    },
    {
      "cell_type": "markdown",
      "source": [
        "Reference stationary matrix at position T.\n",
        "<br><br>\n",
        "\n",
        "$\\pi = [0.3430, 0.1742, 0.1562, 0.3266]$\n",
        "<br><br>\n",
        "\n",
        "$P^{(100)}(C,T) = \\pi[3] = 0.3266$"
      ],
      "metadata": {
        "id": "4uxQbe4TvW-_"
      }
    },
    {
      "cell_type": "markdown",
      "source": [
        "###6."
      ],
      "metadata": {
        "id": "9MRngVK1v7G3"
      }
    },
    {
      "cell_type": "markdown",
      "source": [
        "Reference stationary matrix at position A.\n",
        "\n",
        "$P^{(100)}(A,T) = \\pi[0] = 0.3430$"
      ],
      "metadata": {
        "id": "EGBc2O6Uv85W"
      }
    },
    {
      "cell_type": "markdown",
      "source": [
        "###7."
      ],
      "metadata": {
        "id": "kqCWNlkOySYC"
      }
    },
    {
      "cell_type": "markdown",
      "source": [
        "$\n",
        "P(CAT) = P(C) \\cdot P(C,A) \\cdot P(A,T) = \\pi[1] \\cdot P(C,A) \\cdot P(A,T)\n",
        "$\n",
        "\n",
        "\n",
        "$P(CAT) = 0.1742 \\cdot 0.41 \\cdot 0.29 = 0.0207$"
      ],
      "metadata": {
        "id": "pePNClnsyUli"
      }
    },
    {
      "cell_type": "code",
      "source": [
        "0.1742 * 0.41 * 0.29"
      ],
      "metadata": {
        "id": "Xy3DiX6o0L62",
        "outputId": "823bad4e-4b04-4695-badb-f745bf0ae3ea",
        "colab": {
          "base_uri": "https://localhost:8080/"
        }
      },
      "execution_count": 34,
      "outputs": [
        {
          "output_type": "execute_result",
          "data": {
            "text/plain": [
              "0.02071238"
            ]
          },
          "metadata": {},
          "execution_count": 34
        }
      ]
    },
    {
      "cell_type": "markdown",
      "source": [
        "---\n",
        "\n",
        "## Reflection"
      ],
      "metadata": {
        "id": "8tVMmKgxXWdC"
      }
    },
    {
      "cell_type": "markdown",
      "source": [
        "With each Practice Problem submission, you should also take a few minutes to reflect on the practice problems and related material and thoughtfully respond to the following.\n",
        "\n",
        "1. Write a sentence or two summarizing - in your own words - one big idea from this material.\n",
        "2. Describe one particular aspect of this material that you found challenging and why. Then describe how you dealt with the challenge, or what you can do to deal with the challenge.\n",
        "3. Write at least one specific question you have about this material. I strongly encourage you to post your questions directly in Discord as that's where I'll respond to questions. That is, if you really want an answer to your question - which I hope you do! - please post the question directly in Discord."
      ],
      "metadata": {
        "id": "XDBX6FZlXZ1N"
      }
    },
    {
      "cell_type": "markdown",
      "source": [
        "I think the big idea from this material is learning what steady state distributions are and how they behave in simulation. Also what situations you can use the distribution when calculating probabolities. When I first started this homework, before the official lecture, although I thought I had a good idea how the distributions worked, I struggled to have an approach on how to solve these problems. After the lecture and some in class practice, solving the problems made a lot more sense."
      ],
      "metadata": {
        "id": "COQz4qEBXaq3"
      }
    }
  ]
}