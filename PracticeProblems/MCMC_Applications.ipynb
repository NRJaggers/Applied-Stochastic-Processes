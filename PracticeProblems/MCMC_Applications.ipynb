{
  "nbformat": 4,
  "nbformat_minor": 0,
  "metadata": {
    "colab": {
      "provenance": [],
      "include_colab_link": true
    },
    "kernelspec": {
      "name": "python3",
      "display_name": "Python 3"
    },
    "language_info": {
      "name": "python"
    }
  },
  "cells": [
    {
      "cell_type": "markdown",
      "metadata": {
        "id": "view-in-github",
        "colab_type": "text"
      },
      "source": [
        "<a href=\"https://colab.research.google.com/github/NRJaggers/Applied-Stochastic-Processes/blob/main/PracticeProblems/MCMC_Applications.ipynb\" target=\"_parent\"><img src=\"https://colab.research.google.com/assets/colab-badge.svg\" alt=\"Open In Colab\"/></a>"
      ]
    },
    {
      "cell_type": "markdown",
      "source": [
        "#Some Applications of Markov Chain Monte Carlo (MCMC) Methods"
      ],
      "metadata": {
        "id": "lwN5bYfDW66u"
      }
    },
    {
      "cell_type": "markdown",
      "source": [
        "---\n",
        "\n",
        "## Prompt"
      ],
      "metadata": {
        "id": "Bh1go0uHXDqq"
      }
    },
    {
      "cell_type": "markdown",
      "source": [
        "Original Prompt can be found [here](https://bookdown.org/kevin_davisross/applied-stochastic-processes/pp-mcmc-applications.html). A copy of the prompt  can be found on github under [/PracticeProblems/Prompts](https://github.com/NRJaggers/Applied-Stochastic-Processes/tree/main/PracticeProblems/Prompts) along with completed exercises under [/PracticeProblems](https://github.com/NRJaggers/Applied-Stochastic-Processes/tree/main/PracticeProblems)."
      ],
      "metadata": {
        "id": "DJpcnN9AXHGQ"
      }
    },
    {
      "cell_type": "markdown",
      "source": [
        "---\n",
        "\n",
        "## Problems"
      ],
      "metadata": {
        "id": "GXUWHhYNXK3F"
      }
    },
    {
      "cell_type": "markdown",
      "source": [
        "###1."
      ],
      "metadata": {
        "id": "RXCvu0k9XNzE"
      }
    },
    {
      "cell_type": "markdown",
      "source": [
        "####a."
      ],
      "metadata": {
        "id": "NnOccgJbXbpb"
      }
    },
    {
      "cell_type": "markdown",
      "source": [
        "My first thoughts on how to implement an MCMC solution for this problem was to use the score when determining probability of acceptance for proposed state transitions (even though I didn't flesh out what those state transitions would be just yet.) I had also initially thought this could be accomplished by a multiple stage MCMC. One chain would take care of finding the max score for a particular configuration and the second would then find the lowest max score between those configurations.\n",
        "\n",
        "There was a lot of good discussion on the class discord that helped me better understand the problem as well as confirm some of my ideas.\n",
        "\n",
        "I think I like the idea of the single stage MCMC to find the configuration with the lowest max with a different algorithm to find the max score of a given configuration."
      ],
      "metadata": {
        "id": "skq0IDoLfrfa"
      }
    },
    {
      "cell_type": "markdown",
      "source": [
        "####b."
      ],
      "metadata": {
        "id": "SxA9asanoDZR"
      }
    },
    {
      "cell_type": "markdown",
      "source": [
        "This recursive function seems written correctly but unfortunately is limited by the amount of calls back to it. Whenever it is run with a list 4 or greater the program throws an error and quits."
      ],
      "metadata": {
        "id": "IcYz8iaTeBbt"
      }
    },
    {
      "cell_type": "code",
      "source": [
        "import numpy as np\n",
        "\n",
        "#create function and test\n",
        "def max_score(circle = np):\n",
        "  max_value = 0\n",
        "\n",
        "  if len(circle) < 2:\n",
        "    return 0\n",
        "  elif len(circle) == 2:\n",
        "    return circle[0] *circle[1]\n",
        "  else:\n",
        "    for i in range(len(circle)):\n",
        "        for j in range(i + 2, len(circle) + i - 1):\n",
        "            left_circle = np.concatenate((circle[i:j], circle[:i]))\n",
        "            right_circle = np.concatenate((circle[j:], circle[:j - len(circle)]))\n",
        "            score = circle[i] * circle[j % len(circle)] + max_score(left_circle) + max_score(right_circle)\n",
        "            max_value = max(max_value, score)\n",
        "\n",
        "  return max_value\n",
        "\n",
        "#test\n",
        "test_circle = np.arange(1,5,1)\n",
        "score = max_score(test_circle)\n",
        "\n",
        "#we should expect 250\n",
        "print(score)"
      ],
      "metadata": {
        "id": "syLGvQirt5zY"
      },
      "execution_count": 1,
      "outputs": []
    },
    {
      "cell_type": "code",
      "source": [
        "import numpy as np\n",
        "\n",
        "#initialize chain\n",
        "circle = np.arange(1,12,1)\n",
        "curr_circ = circle\n",
        "prop_circ = np.arange(11,0,-1)\n",
        "\n",
        "#simulation parameters\n",
        "steps = 3\n",
        "curr_max = 1\n",
        "prop_max = 1\n",
        "\n",
        "#compute current score\n",
        "#curr_max = max_score(curr_circ)\n",
        "\n",
        "for i in range(1,steps):\n",
        "  #propose state switch (swapping two numbers for different configuration)\n",
        "  swaps = np.random.choice(curr_circ, 2, replace=False)\n",
        "  si_1 = np.where(curr_circ == swaps[0])\n",
        "  si_2 = np.where(curr_circ == swaps[1])\n",
        "\n",
        "  prop_circ = curr_circ\n",
        "  prop_circ[si_1] = swaps[1]\n",
        "  prop_circ[si_2] = swaps[0]\n",
        "  # print(curr_circ)\n",
        "  # print(swaps,si_1,si_2)\n",
        "  # print(prop_circ)\n",
        "\n",
        "  #compute proposed score score\n",
        "  #prop_max = max_score(prop_circ)\n",
        "\n",
        "  #determine acceptance probability and get determination\n",
        "  p_accept = min((1/prop_max)/(1/curr_max),1)\n",
        "  accept = True if np.random.rand() < p_accept else False\n",
        "\n",
        "  #assign current and proposed scores accordingly\n",
        "  if accept:\n",
        "    curr_circ = prop_circ\n",
        "    curr_max = prop_max\n",
        "\n",
        "#print results\n",
        "print(\"The configuration with the lowest score was:\", curr_circ)\n",
        "print(\"The lowest max score was found to be:\", curr_max)\n"
      ],
      "metadata": {
        "colab": {
          "base_uri": "https://localhost:8080/"
        },
        "id": "t3VOu-UbhLmY",
        "outputId": "cba862e3-66fa-44f4-b809-dd748b6c734d"
      },
      "execution_count": null,
      "outputs": [
        {
          "output_type": "stream",
          "name": "stdout",
          "text": [
            "The configuration with the lowest score was: [ 1  2  3  4  5  6  9  8 11 10  7]\n",
            "The lowest max score was found to be: 1\n"
          ]
        }
      ]
    },
    {
      "cell_type": "markdown",
      "source": [
        "---\n",
        "\n",
        "## Reflection"
      ],
      "metadata": {
        "id": "8tVMmKgxXWdC"
      }
    },
    {
      "cell_type": "markdown",
      "source": [
        "With each Practice Problem submission, you should also take a few minutes to reflect on the practice problems and related material and thoughtfully respond to the following.\n",
        "\n",
        "1. Write a sentence or two summarizing - in your own words - one big idea from this material.\n",
        "2. Describe one particular aspect of this material that you found challenging and why. Then describe how you dealt with the challenge, or what you can do to deal with the challenge.\n",
        "3. Write at least one specific question you have about this material. I strongly encourage you to post your questions directly in Discord as that's where I'll respond to questions. That is, if you really want an answer to your question - which I hope you do! - please post the question directly in Discord."
      ],
      "metadata": {
        "id": "XDBX6FZlXZ1N"
      }
    },
    {
      "cell_type": "markdown",
      "source": [
        "The big idea here is just getting some practice with how we can use MCMC to help solve problems we will encounter. Definitly the challenging point here was creating a way to calculate max score for a given configuration."
      ],
      "metadata": {
        "id": "COQz4qEBXaq3"
      }
    }
  ]
}