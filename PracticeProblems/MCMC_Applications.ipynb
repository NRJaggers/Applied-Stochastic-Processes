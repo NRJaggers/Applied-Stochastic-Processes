{
  "nbformat": 4,
  "nbformat_minor": 0,
  "metadata": {
    "colab": {
      "provenance": [],
      "include_colab_link": true
    },
    "kernelspec": {
      "name": "python3",
      "display_name": "Python 3"
    },
    "language_info": {
      "name": "python"
    }
  },
  "cells": [
    {
      "cell_type": "markdown",
      "metadata": {
        "id": "view-in-github",
        "colab_type": "text"
      },
      "source": [
        "<a href=\"https://colab.research.google.com/github/NRJaggers/Applied-Stochastic-Processes/blob/main/PracticeProblems/MCMC_Applications.ipynb\" target=\"_parent\"><img src=\"https://colab.research.google.com/assets/colab-badge.svg\" alt=\"Open In Colab\"/></a>"
      ]
    },
    {
      "cell_type": "markdown",
      "source": [
        "#Some Applications of Markov Chain Monte Carlo (MCMC) Methods"
      ],
      "metadata": {
        "id": "lwN5bYfDW66u"
      }
    },
    {
      "cell_type": "markdown",
      "source": [
        "---\n",
        "\n",
        "## Prompt"
      ],
      "metadata": {
        "id": "Bh1go0uHXDqq"
      }
    },
    {
      "cell_type": "markdown",
      "source": [
        "Original Prompt can be found [here](https://bookdown.org/kevin_davisross/applied-stochastic-processes/pp-mcmc-applications.html). A copy of the prompt  can be found on github under [/PracticeProblems/Prompts](https://github.com/NRJaggers/Applied-Stochastic-Processes/tree/main/PracticeProblems/Prompts) along with completed exercises under [/PracticeProblems](https://github.com/NRJaggers/Applied-Stochastic-Processes/tree/main/PracticeProblems)."
      ],
      "metadata": {
        "id": "DJpcnN9AXHGQ"
      }
    },
    {
      "cell_type": "markdown",
      "source": [
        "---\n",
        "\n",
        "## Problems"
      ],
      "metadata": {
        "id": "GXUWHhYNXK3F"
      }
    },
    {
      "cell_type": "markdown",
      "source": [
        "###1."
      ],
      "metadata": {
        "id": "RXCvu0k9XNzE"
      }
    },
    {
      "cell_type": "markdown",
      "source": [
        "####a."
      ],
      "metadata": {
        "id": "NnOccgJbXbpb"
      }
    },
    {
      "cell_type": "markdown",
      "source": [
        "My first thoughts on how to implement an MCMC solution for this problem was to use the score when determining probability of acceptance for proposed state transitions (even though I didn't flesh out what those state transitions would be just yet.) I had also initially thought this could be accomplished by a multiple stage MCMC. One chain would take care of finding the max score for a particular configuration and the second would then find the lowest max score between those configurations.\n",
        "\n",
        "There was a lot of good discussion on the class discord that helped me better understand the problem as well as confirm some of my ideas.\n",
        "\n",
        "I think I like the idea of the single stage MCMC to find the configuration with the lowest max with a different algorithm to find the max score of a given configuration."
      ],
      "metadata": {
        "id": "skq0IDoLfrfa"
      }
    },
    {
      "cell_type": "markdown",
      "source": [
        "####b."
      ],
      "metadata": {
        "id": "SxA9asanoDZR"
      }
    },
    {
      "cell_type": "code",
      "source": [
        "#initialize chain\n",
        "\n",
        "#simulation parameters\n",
        "\n",
        "#compute current score\n",
        "\n",
        "  #propose state switch (swapping two numbers for different configuration)\n",
        "\n",
        "  #compute proposed score score\n",
        "\n",
        "  #determine acceptance probability and get determination\n",
        "\n",
        "  #assign current and proposed scores accordingly\n",
        "\n",
        "#print results\n"
      ],
      "metadata": {
        "id": "t3VOu-UbhLmY"
      },
      "execution_count": null,
      "outputs": []
    },
    {
      "cell_type": "markdown",
      "source": [
        "---\n",
        "\n",
        "## Reflection"
      ],
      "metadata": {
        "id": "8tVMmKgxXWdC"
      }
    },
    {
      "cell_type": "markdown",
      "source": [
        "With each Practice Problem submission, you should also take a few minutes to reflect on the practice problems and related material and thoughtfully respond to the following.\n",
        "\n",
        "1. Write a sentence or two summarizing - in your own words - one big idea from this material.\n",
        "2. Describe one particular aspect of this material that you found challenging and why. Then describe how you dealt with the challenge, or what you can do to deal with the challenge.\n",
        "3. Write at least one specific question you have about this material. I strongly encourage you to post your questions directly in Discord as that's where I'll respond to questions. That is, if you really want an answer to your question - which I hope you do! - please post the question directly in Discord."
      ],
      "metadata": {
        "id": "XDBX6FZlXZ1N"
      }
    },
    {
      "cell_type": "markdown",
      "source": [],
      "metadata": {
        "id": "COQz4qEBXaq3"
      }
    }
  ]
}