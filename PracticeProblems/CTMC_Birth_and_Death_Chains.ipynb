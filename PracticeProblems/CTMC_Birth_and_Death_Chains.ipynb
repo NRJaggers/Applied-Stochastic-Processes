{
  "nbformat": 4,
  "nbformat_minor": 0,
  "metadata": {
    "colab": {
      "provenance": [],
      "include_colab_link": true
    },
    "kernelspec": {
      "name": "python3",
      "display_name": "Python 3"
    },
    "language_info": {
      "name": "python"
    }
  },
  "cells": [
    {
      "cell_type": "markdown",
      "metadata": {
        "id": "view-in-github",
        "colab_type": "text"
      },
      "source": [
        "<a href=\"https://colab.research.google.com/github/NRJaggers/Applied-Stochastic-Processes/blob/main/PracticeProblems/CTMC_Birth_and_Death_Chains.ipynb\" target=\"_parent\"><img src=\"https://colab.research.google.com/assets/colab-badge.svg\" alt=\"Open In Colab\"/></a>"
      ]
    },
    {
      "cell_type": "markdown",
      "source": [
        "#Birth and Death Chains"
      ],
      "metadata": {
        "id": "lwN5bYfDW66u"
      }
    },
    {
      "cell_type": "markdown",
      "source": [
        "---\n",
        "\n",
        "## Prompt"
      ],
      "metadata": {
        "id": "Bh1go0uHXDqq"
      }
    },
    {
      "cell_type": "markdown",
      "source": [
        "Original Prompt can be found [here](https://bookdown.org/kevin_davisross/applied-stochastic-processes/pp-ctmc-birthdeath.html). A copy of the prompt  can be found on github under [/PracticeProblems/Prompts](https://github.com/NRJaggers/Applied-Stochastic-Processes/tree/main/PracticeProblems/Prompts) along with completed exercises under [/PracticeProblems](https://github.com/NRJaggers/Applied-Stochastic-Processes/tree/main/PracticeProblems)."
      ],
      "metadata": {
        "id": "DJpcnN9AXHGQ"
      }
    },
    {
      "cell_type": "markdown",
      "source": [
        "---\n",
        "\n",
        "## Problems"
      ],
      "metadata": {
        "id": "GXUWHhYNXK3F"
      }
    },
    {
      "cell_type": "markdown",
      "source": [
        "The process below is not a birth and death chain, but a problem similar to this one can be found in the Birth and Death Chain handout.\n",
        "\n",
        "The weather in a certain city can be in one of 3 states: sunny (1), cloudy (2), or rainy (3). Suppose the weather evolves over time according to a continuous time Markov chain with the following transition rate matrix. Rates are all per day (24 hours). (Diagonals left blank on purpose.)\n",
        "\n",
        "$$\\mathbf{Q} =\n",
        "\\begin{bmatrix}\n",
        "     & 0.25 & 0\\cr\n",
        "     0.8& & 0.4\\cr\n",
        "     2.0& 1.5& \\cr  \n",
        "\\end{bmatrix}$$\n",
        "\n",
        "Given that it is currently cloudy, compute the expected number of days elapsed from now until it is sunny."
      ],
      "metadata": {
        "id": "RXCvu0k9XNzE"
      }
    },
    {
      "cell_type": "markdown",
      "source": [
        "$\\mu_o = \\frac{0.4}{1.2}\\mu_1 + \\frac{0.8}{1.2}(0)$\n",
        "\n",
        "$\\mu_1 = \\frac{1.5}{3.5}\\mu_o + \\frac{2.0}{3.5}(0)$"
      ],
      "metadata": {
        "id": "pQ9NMocAinft"
      }
    },
    {
      "cell_type": "code",
      "source": [
        "#use this to allow for running R within Python\n",
        "%load_ext rpy2.ipython"
      ],
      "metadata": {
        "id": "hy7ws7NNiNsL"
      },
      "execution_count": 1,
      "outputs": []
    },
    {
      "cell_type": "code",
      "source": [
        "%%R\n",
        "# Followed Dr.Ross's example on absorbing states in the Birth Death Notes\n",
        "\n",
        "QD = rbind(\n",
        "  c( 0, 4) / 12,\n",
        "  c(15, 0) / 35\n",
        ")\n",
        "\n",
        "# Mean amount of time spent in each state before leaving\n",
        "inv_lambda = c(1 / 1.2, 1 / 3.5 )\n",
        "\n",
        "\n",
        "# Solve system for mean amount of time until state 4\n",
        "# See end of Handout 23\n",
        "\n",
        "solve(diag(nrow(QD)) - QD, inv_lambda)"
      ],
      "metadata": {
        "id": "g5vxizABiOFV",
        "outputId": "d1690b2d-8232-45f0-91f1-7ef2ccc13808",
        "colab": {
          "base_uri": "https://localhost:8080/"
        }
      },
      "execution_count": 4,
      "outputs": [
        {
          "output_type": "stream",
          "name": "stdout",
          "text": [
            "[1] 1.083333 0.750000\n"
          ]
        }
      ]
    },
    {
      "cell_type": "markdown",
      "source": [
        "We expect 1.083 days to pass until we see a sunny day."
      ],
      "metadata": {
        "id": "ZnqVWPo2l3KM"
      }
    },
    {
      "cell_type": "markdown",
      "source": [
        "---\n",
        "\n",
        "## Reflection"
      ],
      "metadata": {
        "id": "8tVMmKgxXWdC"
      }
    },
    {
      "cell_type": "markdown",
      "source": [
        "With each Practice Problem submission, you should also take a few minutes to reflect on the practice problems and related material and thoughtfully respond to the following.\n",
        "\n",
        "1. Write a sentence or two summarizing - in your own words - one big idea from this material.\n",
        "2. Describe one particular aspect of this material that you found challenging and why. Then describe how you dealt with the challenge, or what you can do to deal with the challenge.\n",
        "3. Write at least one specific question you have about this material. I strongly encourage you to post your questions directly in Discord as that's where I'll respond to questions. That is, if you really want an answer to your question - which I hope you do! - please post the question directly in Discord."
      ],
      "metadata": {
        "id": "XDBX6FZlXZ1N"
      }
    },
    {
      "cell_type": "markdown",
      "source": [
        "I understand this section is suppose to relate what we have learned about CTMC to Birth-Death Chains. Here we practice the absorbing technique discussed at the end of this sections lecture notes (I hope that was the right approach). It took some time but I think I got it. Best to probably check in class, OH or discord."
      ],
      "metadata": {
        "id": "COQz4qEBXaq3"
      }
    }
  ]
}