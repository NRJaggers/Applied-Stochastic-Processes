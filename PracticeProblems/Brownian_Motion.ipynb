{
  "nbformat": 4,
  "nbformat_minor": 0,
  "metadata": {
    "colab": {
      "provenance": [],
      "include_colab_link": true
    },
    "kernelspec": {
      "name": "python3",
      "display_name": "Python 3"
    },
    "language_info": {
      "name": "python"
    }
  },
  "cells": [
    {
      "cell_type": "markdown",
      "metadata": {
        "id": "view-in-github",
        "colab_type": "text"
      },
      "source": [
        "<a href=\"https://colab.research.google.com/github/NRJaggers/Applied-Stochastic-Processes/blob/main/PracticeProblems/Brownian_Motion.ipynb\" target=\"_parent\"><img src=\"https://colab.research.google.com/assets/colab-badge.svg\" alt=\"Open In Colab\"/></a>"
      ]
    },
    {
      "cell_type": "markdown",
      "source": [
        "#Brownian Motion"
      ],
      "metadata": {
        "id": "lwN5bYfDW66u"
      }
    },
    {
      "cell_type": "markdown",
      "source": [
        "---\n",
        "\n",
        "## Prompt"
      ],
      "metadata": {
        "id": "Bh1go0uHXDqq"
      }
    },
    {
      "cell_type": "markdown",
      "source": [
        "Original Prompt can be found [here](https://bookdown.org/kevin_davisross/applied-stochastic-processes/pp-brownian-motion.html). A copy of the prompt  can be found on github under [/PracticeProblems/Prompts](https://github.com/NRJaggers/Applied-Stochastic-Processes/tree/main/PracticeProblems/Prompts) along with completed exercises under [/PracticeProblems](https://github.com/NRJaggers/Applied-Stochastic-Processes/tree/main/PracticeProblems)."
      ],
      "metadata": {
        "id": "DJpcnN9AXHGQ"
      }
    },
    {
      "cell_type": "markdown",
      "source": [
        "---\n",
        "\n",
        "## Problems"
      ],
      "metadata": {
        "id": "GXUWHhYNXK3F"
      }
    },
    {
      "cell_type": "markdown",
      "source": [
        "###1."
      ],
      "metadata": {
        "id": "RXCvu0k9XNzE"
      }
    },
    {
      "cell_type": "markdown",
      "source": [
        "$\\{W(t), t\\ge0\\}$ = standard Brownian motion\n",
        "\n",
        "$X(t) = 0.5W(4t)$"
      ],
      "metadata": {
        "id": "6v6qhX3g3AEp"
      }
    },
    {
      "cell_type": "markdown",
      "source": [
        "####a."
      ],
      "metadata": {
        "id": "Lddcskdz0XRv"
      }
    },
    {
      "cell_type": "markdown",
      "source": [
        "Autocovariance function of $\\{X(t), t\\ge 0\\}$"
      ],
      "metadata": {
        "id": "o7bojneJ2vsI"
      }
    },
    {
      "cell_type": "markdown",
      "source": [
        "$\\text{Cov(X(t),X(s))} = \\text{Cov(0.5W(4t),0.5W(4s))}$\n",
        "\n",
        "$0.5^2*\\text{Cov(W(4t),W(4s))} = 0.5^2*min(4t,4s)$"
      ],
      "metadata": {
        "id": "hecoei5eU07P"
      }
    },
    {
      "cell_type": "markdown",
      "source": [
        "####b."
      ],
      "metadata": {
        "id": "A8_LvCOv0Y0M"
      }
    },
    {
      "cell_type": "markdown",
      "source": [
        "I believe $\\{X(t), t\\ge 0\\}$ is an example of brownian motion.It starts out as a standard brownian motion and is being manipulated by scalar values. I don't believe that affects its properties therefore it remains a Wiener Process."
      ],
      "metadata": {
        "id": "cZj3sdLEWfFl"
      }
    },
    {
      "cell_type": "markdown",
      "source": [
        "###2."
      ],
      "metadata": {
        "id": "X22XBPtz0a2-"
      }
    },
    {
      "cell_type": "markdown",
      "source": [
        "Suppose the net losses of a gambler who plays a large number of games of roulette can be reasonably modeled as a Brownian motion with drift $\\mu=0.01$ per minute and scale parameter $\\sigma = 0.2$ per minute. Let $B(t)$ denote the net loss of the gambler after $t$ minutes of roulette play.\n",
        "\n",
        "$$B(t) = x + \\mu t + \\sigma W(t)$$\n",
        "\n",
        "$$B(t) = 0 + (0.01)t + (0.2)W(t)$$\n",
        "\n",
        "$$B(t) \\sim N(x+\\mu t, \\sigma \\sqrt{t})$$"
      ],
      "metadata": {
        "id": "Qs858qhlZNK6"
      }
    },
    {
      "cell_type": "markdown",
      "source": [
        "####a."
      ],
      "metadata": {
        "id": "5bWeS8ie0gxD"
      }
    },
    {
      "cell_type": "markdown",
      "source": [
        "$\\text{P}(B(10000) > 105 | B(1000) = 5)$\n",
        "\n",
        "$\\text{P}(B(10000)-B(1000) + B(1000) > 105 | B(1000) = 5)$\n",
        "\n",
        "$\\text{P}(B(10000)-B(1000) + 5 > 105)$\n",
        "\n",
        "$\\text{P}(B(10000)-B(1000) > 100)$\n",
        "\n",
        "$\\text{P}(B(9000) > 100) \\sim N((0.01)(9000),(0.2)\\sqrt{9000})$\n",
        "\n"
      ],
      "metadata": {
        "id": "W7t8xpqdZ-r6"
      }
    },
    {
      "cell_type": "code",
      "source": [
        "import scipy.stats\n",
        "import math\n",
        "\n",
        "# Parameters of the normal distribution\n",
        "t = 9000\n",
        "mu = 0.01\n",
        "sd = 0.2\n",
        "\n",
        "x = 100\n",
        "mean = (0.01)*9000\n",
        "std_dev = (0.2)*math.sqrt(9000)\n",
        "\n",
        "# Calculate cumulative distribution function (CDF) at a given point\n",
        "P = 1 - scipy.stats.norm.cdf(x, mean, std_dev)\n",
        "\n",
        "print(P)"
      ],
      "metadata": {
        "colab": {
          "base_uri": "https://localhost:8080/"
        },
        "id": "eYUTlIA8fj3y",
        "outputId": "06bf8041-84d7-4d9f-f3e7-d9ba9d1919d0"
      },
      "execution_count": 6,
      "outputs": [
        {
          "output_type": "stream",
          "name": "stdout",
          "text": [
            "0.2990807263417641\n"
          ]
        }
      ]
    },
    {
      "cell_type": "markdown",
      "source": [
        "####b."
      ],
      "metadata": {
        "id": "ALcPFZ5E0gxE"
      }
    },
    {
      "cell_type": "markdown",
      "source": [
        "$\\text{P}(B(10000) > 4*B(5000))$"
      ],
      "metadata": {
        "id": "ydJMNen_ahl6"
      }
    },
    {
      "cell_type": "markdown",
      "source": [
        "---\n",
        "\n",
        "## Reflection"
      ],
      "metadata": {
        "id": "8tVMmKgxXWdC"
      }
    },
    {
      "cell_type": "markdown",
      "source": [
        "With each Practice Problem submission, you should also take a few minutes to reflect on the practice problems and related material and thoughtfully respond to the following.\n",
        "\n",
        "1. Write a sentence or two summarizing - in your own words - one big idea from this material.\n",
        "2. Describe one particular aspect of this material that you found challenging and why. Then describe how you dealt with the challenge, or what you can do to deal with the challenge.\n",
        "3. Write at least one specific question you have about this material. I strongly encourage you to post your questions directly in Discord as that's where I'll respond to questions. That is, if you really want an answer to your question - which I hope you do! - please post the question directly in Discord."
      ],
      "metadata": {
        "id": "XDBX6FZlXZ1N"
      }
    },
    {
      "cell_type": "markdown",
      "source": [
        "These practice problems were a good review of what we explored in class and benifical expercies to help apply the material we have learned about Brownian motion. I am struggling with 2.b currently. I have a few ideas on how to manipulate the probability but I don't see how I could use properties to put it in a form where I can then calculate the probability. I have sent a question in discord."
      ],
      "metadata": {
        "id": "COQz4qEBXaq3"
      }
    }
  ]
}