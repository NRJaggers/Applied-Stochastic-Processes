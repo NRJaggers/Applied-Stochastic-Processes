{
  "nbformat": 4,
  "nbformat_minor": 0,
  "metadata": {
    "colab": {
      "provenance": [],
      "include_colab_link": true
    },
    "kernelspec": {
      "name": "python3",
      "display_name": "Python 3"
    },
    "language_info": {
      "name": "python"
    }
  },
  "cells": [
    {
      "cell_type": "markdown",
      "metadata": {
        "id": "view-in-github",
        "colab_type": "text"
      },
      "source": [
        "<a href=\"https://colab.research.google.com/github/NRJaggers/Applied-Stochastic-Processes/blob/main/PracticeProblems/Brownian_Motion.ipynb\" target=\"_parent\"><img src=\"https://colab.research.google.com/assets/colab-badge.svg\" alt=\"Open In Colab\"/></a>"
      ]
    },
    {
      "cell_type": "markdown",
      "source": [
        "#Brownian Motion"
      ],
      "metadata": {
        "id": "lwN5bYfDW66u"
      }
    },
    {
      "cell_type": "markdown",
      "source": [
        "---\n",
        "\n",
        "## Prompt"
      ],
      "metadata": {
        "id": "Bh1go0uHXDqq"
      }
    },
    {
      "cell_type": "markdown",
      "source": [
        "Original Prompt can be found [here](https://bookdown.org/kevin_davisross/applied-stochastic-processes/pp-brownian-motion.html). A copy of the prompt  can be found on github under [/PracticeProblems/Prompts](https://github.com/NRJaggers/Applied-Stochastic-Processes/tree/main/PracticeProblems/Prompts) along with completed exercises under [/PracticeProblems](https://github.com/NRJaggers/Applied-Stochastic-Processes/tree/main/PracticeProblems)."
      ],
      "metadata": {
        "id": "DJpcnN9AXHGQ"
      }
    },
    {
      "cell_type": "markdown",
      "source": [
        "---\n",
        "\n",
        "## Problems"
      ],
      "metadata": {
        "id": "GXUWHhYNXK3F"
      }
    },
    {
      "cell_type": "markdown",
      "source": [
        "###1."
      ],
      "metadata": {
        "id": "RXCvu0k9XNzE"
      }
    },
    {
      "cell_type": "markdown",
      "source": [
        "$\\{W(t), t\\ge0\\}$ = standard Brownian motion\n",
        "\n",
        "$X(t) = 0.5W(4t)$"
      ],
      "metadata": {
        "id": "6v6qhX3g3AEp"
      }
    },
    {
      "cell_type": "markdown",
      "source": [
        "####a."
      ],
      "metadata": {
        "id": "Lddcskdz0XRv"
      }
    },
    {
      "cell_type": "markdown",
      "source": [
        "Autocovariance function of $\\{X(t), t\\ge 0\\}$"
      ],
      "metadata": {
        "id": "o7bojneJ2vsI"
      }
    },
    {
      "cell_type": "markdown",
      "source": [
        "$\\text{Cov(X(t),X(s))} = \\text{Cov(0.5W(4t),0.5W(4s))}$\n",
        "\n",
        "$0.5^2*\\text{Cov(W(4t),W(4s))} = 0.5^2*min(4t,4s)$"
      ],
      "metadata": {
        "id": "hecoei5eU07P"
      }
    },
    {
      "cell_type": "markdown",
      "source": [
        "####b."
      ],
      "metadata": {
        "id": "A8_LvCOv0Y0M"
      }
    },
    {
      "cell_type": "markdown",
      "source": [
        "I believe $\\{X(t), t\\ge 0\\}$ is an example of brownian motion.It starts out as a standard brownian motion and is being manipulated by scalar values. I don't believe that affects its properties therefore it remains a Wiener Process."
      ],
      "metadata": {
        "id": "cZj3sdLEWfFl"
      }
    },
    {
      "cell_type": "markdown",
      "source": [
        "###2."
      ],
      "metadata": {
        "id": "X22XBPtz0a2-"
      }
    },
    {
      "cell_type": "markdown",
      "source": [
        "Suppose the net losses of a gambler who plays a large number of games of roulette can be reasonably modeled as a Brownian motion with drift $\\mu=0.01$ per minute and scale parameter $\\sigma = 0.2$ per minute. Let $B(t)$ denote the net loss of the gambler after $t$ minutes of roulette play."
      ],
      "metadata": {
        "id": "Qs858qhlZNK6"
      }
    },
    {
      "cell_type": "markdown",
      "source": [
        "####a."
      ],
      "metadata": {
        "id": "5bWeS8ie0gxD"
      }
    },
    {
      "cell_type": "markdown",
      "source": [
        "$\\text{P}(B(10000) > 105 | B(1000) = 5)$"
      ],
      "metadata": {
        "id": "W7t8xpqdZ-r6"
      }
    },
    {
      "cell_type": "markdown",
      "source": [
        "####b."
      ],
      "metadata": {
        "id": "ALcPFZ5E0gxE"
      }
    },
    {
      "cell_type": "markdown",
      "source": [
        "$\\text{P}(B(10000) > 4*B(5000))$"
      ],
      "metadata": {
        "id": "ydJMNen_ahl6"
      }
    },
    {
      "cell_type": "markdown",
      "source": [
        "---\n",
        "\n",
        "## Reflection"
      ],
      "metadata": {
        "id": "8tVMmKgxXWdC"
      }
    },
    {
      "cell_type": "markdown",
      "source": [
        "With each Practice Problem submission, you should also take a few minutes to reflect on the practice problems and related material and thoughtfully respond to the following.\n",
        "\n",
        "1. Write a sentence or two summarizing - in your own words - one big idea from this material.\n",
        "2. Describe one particular aspect of this material that you found challenging and why. Then describe how you dealt with the challenge, or what you can do to deal with the challenge.\n",
        "3. Write at least one specific question you have about this material. I strongly encourage you to post your questions directly in Discord as that's where I'll respond to questions. That is, if you really want an answer to your question - which I hope you do! - please post the question directly in Discord."
      ],
      "metadata": {
        "id": "XDBX6FZlXZ1N"
      }
    },
    {
      "cell_type": "markdown",
      "source": [],
      "metadata": {
        "id": "COQz4qEBXaq3"
      }
    }
  ]
}