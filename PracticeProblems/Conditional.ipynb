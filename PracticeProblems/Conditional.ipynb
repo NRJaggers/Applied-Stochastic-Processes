{
  "nbformat": 4,
  "nbformat_minor": 0,
  "metadata": {
    "colab": {
      "provenance": [],
      "authorship_tag": "ABX9TyPda5rrucqMWhiS6K8PGgw8",
      "include_colab_link": true
    },
    "kernelspec": {
      "name": "python3",
      "display_name": "Python 3"
    },
    "language_info": {
      "name": "python"
    }
  },
  "cells": [
    {
      "cell_type": "markdown",
      "metadata": {
        "id": "view-in-github",
        "colab_type": "text"
      },
      "source": [
        "<a href=\"https://colab.research.google.com/github/NRJaggers/Applied-Stochastic-Processes/blob/main/PracticeProblems/Conditional.ipynb\" target=\"_parent\"><img src=\"https://colab.research.google.com/assets/colab-badge.svg\" alt=\"Open In Colab\"/></a>"
      ]
    },
    {
      "cell_type": "markdown",
      "source": [
        "#Conditional Probability, Independence, and Conditional Independence"
      ],
      "metadata": {
        "id": "4T3pr8MSLxCL"
      }
    },
    {
      "cell_type": "markdown",
      "source": [
        "Consider three tennis players A, B, and C. One of these players is better than the other two, who are equally good/bad. When the best player plays either of the others, she has a 2/3 probability of winning the match. When the other two players play each other, each has a 1/2 probability of winning the match. But you do not know which player is the best. Based on watching the players warm up, you start with subjective probabilities of 0.5 that A is the best, 0.35 that B is the best, and 0.15 that C is the best. A and B will play the first match.\n",
        "\n",
        "Note: the fact the your probabilities are “subjective” doesn’t impact how you solve the problem."
      ],
      "metadata": {
        "id": "0KnsMxGIOx9b"
      }
    },
    {
      "cell_type": "markdown",
      "source": [
        "1. Before any matches, if you had to choose the one player you think is best, who would you choose? What is your subjective probability that your choice is correct? (This should be a short answer, not requiring any calculations. I’m mostly asking this question so you can compare the value to one in a later question.)"
      ],
      "metadata": {
        "id": "3CvdOQOTPZWU"
      }
    },
    {
      "cell_type": "markdown",
      "source": [],
      "metadata": {
        "id": "2klbMiwdP_5X"
      }
    },
    {
      "cell_type": "markdown",
      "source": [
        "2. Is it reasonable to assume that the results of the matches are independent? Explain intuitively, without doing any calculations."
      ],
      "metadata": {
        "id": "C_in75yBQLuw"
      }
    },
    {
      "cell_type": "markdown",
      "source": [],
      "metadata": {
        "id": "KllgPJ0lPuua"
      }
    },
    {
      "cell_type": "markdown",
      "source": [
        "3. Is it reasonable to assume that the results of the matches are conditionally independent given the identity of the best player? Explain intuitively, without doing any calculations."
      ],
      "metadata": {
        "id": "BszQGhRAQyR8"
      }
    },
    {
      "cell_type": "markdown",
      "source": [],
      "metadata": {
        "id": "sIVydW8-RBHF"
      }
    },
    {
      "cell_type": "markdown",
      "source": [
        "4. A will play B in the first match. Compute your subjective probability that A will beat B in the first match."
      ],
      "metadata": {
        "id": "3ViwMwgERKPI"
      }
    },
    {
      "cell_type": "markdown",
      "source": [],
      "metadata": {
        "id": "uLPolLunRPWU"
      }
    },
    {
      "cell_type": "markdown",
      "source": [
        "5. Suppose that A beats B in the first match. Compute your posterior probability that each of A, B, C is best given that A beats B in the first match. (You should get 0.6349, 0.2222, and 0.1429.)"
      ],
      "metadata": {
        "id": "ezyLRkIlRVwu"
      }
    },
    {
      "cell_type": "markdown",
      "source": [],
      "metadata": {
        "id": "1m6ZL4GhRY_N"
      }
    },
    {
      "cell_type": "markdown",
      "source": [
        "6. Compare the posterior probabilities from the previous part to the prior probabilities. Explain how your probabilities changed, and why that makes sense."
      ],
      "metadata": {
        "id": "WPaf0dVERchc"
      }
    },
    {
      "cell_type": "markdown",
      "source": [],
      "metadata": {
        "id": "3o4v6DqXRd-n"
      }
    },
    {
      "cell_type": "markdown",
      "source": [
        "7. Suppose instead that B beats A in the first match. Compute your subjective probability that each of A, B, C is best given that B beats A in the first match. (You should get 0.3509, 0.4912, and 0.1579.)"
      ],
      "metadata": {
        "id": "EQzt3xBhReMi"
      }
    },
    {
      "cell_type": "markdown",
      "source": [],
      "metadata": {
        "id": "QJMwHwByRhvT"
      }
    },
    {
      "cell_type": "markdown",
      "source": [
        "8. Compare the posterior probabilities from the previous part to the prior probabilities. Explain how your probabilities changed, and why that makes sense."
      ],
      "metadata": {
        "id": "Nv0CBBWkRiIo"
      }
    },
    {
      "cell_type": "markdown",
      "source": [],
      "metadata": {
        "id": "vgnRCBRLRmam"
      }
    },
    {
      "cell_type": "markdown",
      "source": [
        "9. Suppose that A beats B in the first match. If you had to choose the one player you think is best based on your updated subjective probabilities, who would you choose? What is your subjective probability that your choice is correct given that A beats B in the first match?"
      ],
      "metadata": {
        "id": "p6yVfToQRo2v"
      }
    },
    {
      "cell_type": "markdown",
      "source": [],
      "metadata": {
        "id": "sJsL6y0TRp75"
      }
    },
    {
      "cell_type": "markdown",
      "source": [
        "10. Suppose that B beats A in the first match. If you had to choose the one player you think is best based on your updated subjective probabilities, who would you choose? What is your subjective probability that your choice is correct given that B beats A in the first match?"
      ],
      "metadata": {
        "id": "7lSvBeWuRqfv"
      }
    },
    {
      "cell_type": "markdown",
      "source": [],
      "metadata": {
        "id": "sIxt15fyRtzF"
      }
    },
    {
      "cell_type": "markdown",
      "source": [
        "11. After the first match you make your choice of who you think is the best player. What is your subjective probability that your choice is correct? (Hint: this should be a single number, but you need to consider the two cases.) Compare to part 1; what is the “value” of observing the winner of the first match?"
      ],
      "metadata": {
        "id": "wpMEUjxtRuQU"
      }
    },
    {
      "cell_type": "markdown",
      "source": [],
      "metadata": {
        "id": "TdN01lBlRzmc"
      }
    },
    {
      "cell_type": "markdown",
      "source": [
        "12. Now suppose again that A beats B in the first match, and also that A beats C in the second match. Compute your posterior probability that each of A, B, C is best given the results of the first two matches. Explain how your probabilities changed, and why that makes sense."
      ],
      "metadata": {
        "id": "Nl7RlOUmRz0x"
      }
    },
    {
      "cell_type": "markdown",
      "source": [],
      "metadata": {
        "id": "PepWQQB3R97U"
      }
    },
    {
      "cell_type": "code",
      "source": [],
      "metadata": {
        "id": "agGl0AiqLwtr"
      },
      "execution_count": null,
      "outputs": []
    }
  ]
}