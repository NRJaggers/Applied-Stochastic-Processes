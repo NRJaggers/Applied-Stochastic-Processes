{
  "nbformat": 4,
  "nbformat_minor": 0,
  "metadata": {
    "colab": {
      "provenance": [],
      "authorship_tag": "ABX9TyPb2eIt120++eeG+8gTXgdQ",
      "include_colab_link": true
    },
    "kernelspec": {
      "name": "python3",
      "display_name": "Python 3"
    },
    "language_info": {
      "name": "python"
    }
  },
  "cells": [
    {
      "cell_type": "markdown",
      "metadata": {
        "id": "view-in-github",
        "colab_type": "text"
      },
      "source": [
        "<a href=\"https://colab.research.google.com/github/NRJaggers/Applied-Stochastic-Processes/blob/main/PracticeProblems/Conditional.ipynb\" target=\"_parent\"><img src=\"https://colab.research.google.com/assets/colab-badge.svg\" alt=\"Open In Colab\"/></a>"
      ]
    },
    {
      "cell_type": "markdown",
      "source": [
        "#Conditional Probability, Independence, and Conditional Independence"
      ],
      "metadata": {
        "id": "4T3pr8MSLxCL"
      }
    },
    {
      "cell_type": "markdown",
      "source": [
        "---\n",
        "\n",
        "## Preface"
      ],
      "metadata": {
        "id": "2BmfdKCNdXt9"
      }
    },
    {
      "cell_type": "markdown",
      "source": [
        "Consider three tennis players A, B, and C. One of these players is better than the other two, who are equally good/bad. When the best player plays either of the others, she has a 2/3 probability of winning the match. When the other two players play each other, each has a 1/2 probability of winning the match. But you do not know which player is the best. Based on watching the players warm up, you start with subjective probabilities of 0.5 that A is the best, 0.35 that B is the best, and 0.15 that C is the best. A and B will play the first match.\n",
        "\n",
        "Note: the fact the your probabilities are “subjective” doesn’t impact how you solve the problem."
      ],
      "metadata": {
        "id": "0KnsMxGIOx9b"
      }
    },
    {
      "cell_type": "markdown",
      "source": [
        "---\n",
        "\n",
        "## Problems"
      ],
      "metadata": {
        "id": "lossbxFtdU9g"
      }
    },
    {
      "cell_type": "markdown",
      "source": [
        "1. Before any matches, if you had to choose the one player you think is best, who would you choose? What is your subjective probability that your choice is correct? (This should be a short answer, not requiring any calculations. I’m mostly asking this question so you can compare the value to one in a later question.)"
      ],
      "metadata": {
        "id": "3CvdOQOTPZWU"
      }
    },
    {
      "cell_type": "markdown",
      "source": [
        "> I would choose A. That would leave me with a 50% chance of being correct based on my subjective probability."
      ],
      "metadata": {
        "id": "2klbMiwdP_5X"
      }
    },
    {
      "cell_type": "markdown",
      "source": [
        "2. Is it reasonable to assume that the results of the matches are independent? Explain intuitively, without doing any calculations."
      ],
      "metadata": {
        "id": "C_in75yBQLuw"
      }
    },
    {
      "cell_type": "markdown",
      "source": [
        "> My first intuition is that the results of the match are independent. I would assume independence until I could show through the data the results are not independent. I believe this situation is independent because I don't think knowing the results of the previous match between players would affect the probability of players winning their current match."
      ],
      "metadata": {
        "id": "KllgPJ0lPuua"
      }
    },
    {
      "cell_type": "markdown",
      "source": [
        "3. Is it reasonable to assume that the results of the matches are conditionally independent given the identity of the best player? Explain intuitively, without doing any calculations."
      ],
      "metadata": {
        "id": "BszQGhRAQyR8"
      }
    },
    {
      "cell_type": "markdown",
      "source": [
        "> My first intuition is that given the knowlwdge of the identity of the best player, the past results of matches shouldn't have affect on the probabilities on future matches"
      ],
      "metadata": {
        "id": "sIVydW8-RBHF"
      }
    },
    {
      "cell_type": "markdown",
      "source": [
        "4. A will play B in the first match. Compute your subjective probability that A will beat B in the first match."
      ],
      "metadata": {
        "id": "3ViwMwgERKPI"
      }
    },
    {
      "cell_type": "markdown",
      "source": [
        "$W_{A,B,C}$ - Win for a player\n",
        "\n",
        "$B_{A,B,C}$ - Player is best\n",
        "\n",
        "$AoB$ - Player A wins over B\n",
        "\n",
        "$$P(AoB) = P(W_A)*P(B_A) + P(W_A)*P(B_B) + P(W_A)*P(B_C)$$\n",
        "\n",
        "<br>\n",
        "\n",
        "$$(2/3)*(0.5) + (1/3)*(0.35) + (1/2)*(0.15)$$\n",
        "\n",
        "\n",
        "<br>\n",
        "\n",
        "$$P(AoB) = 0.524\\bar{9}$$\n"
      ],
      "metadata": {
        "id": "uLPolLunRPWU"
      }
    },
    {
      "cell_type": "code",
      "source": [
        "(2/3)*(0.5) + (1/3)*(0.35) + (1/2)*(0.15)"
      ],
      "metadata": {
        "colab": {
          "base_uri": "https://localhost:8080/"
        },
        "id": "f0JUQHOOnfhc",
        "outputId": "6ff6735d-2601-4c96-cae9-93271b02078b"
      },
      "execution_count": 3,
      "outputs": [
        {
          "output_type": "execute_result",
          "data": {
            "text/plain": [
              "0.5249999999999999"
            ]
          },
          "metadata": {},
          "execution_count": 3
        }
      ]
    },
    {
      "cell_type": "markdown",
      "source": [
        "5. Suppose that A beats B in the first match. Compute your posterior probability that each of A, B, C is best given that A beats B in the first match. (You should get 0.6349, 0.2222, and 0.1429.)"
      ],
      "metadata": {
        "id": "ezyLRkIlRVwu"
      }
    },
    {
      "cell_type": "markdown",
      "source": [
        "We can find this using Bayes Rule\n",
        "\n",
        "$$P(A|B) = \\frac{P(B|A) \\cdot P(A)}{P(B)}$$\n",
        "\n",
        "We will write it like this\n",
        "\n",
        "$$P(B_A|AoB) = \\frac{P(AoB|B_A) \\cdot P(B_A)}{P(AoB)} = \\frac{(2/3)\\cdot(0.5)}{(0.525)} = 0.6349$$  <br>\n",
        "\n",
        "\n",
        "$$P(B_B|AoB) = \\frac{P(AoB|B_B) \\cdot P(B_B)}{P(AoB)} = \\frac{(1/3)\\cdot(0.35)}{(0.525)} = 0.222\\bar{2}$$  <br>\n",
        "\n",
        "$$P(B_C|AoB) = \\frac{P(AoB|B_C) \\cdot P(B_C)}{P(AoB)} = \\frac{(1/2)\\cdot(0.15)}{(0.525)} = 0.1429$$  <br>"
      ],
      "metadata": {
        "id": "1m6ZL4GhRY_N"
      }
    },
    {
      "cell_type": "code",
      "source": [
        "print((2/3)*(0.5)/(0.525))\n",
        "print((1/3)*(0.35)/(0.525))\n",
        "print((1/2)*(0.15)/(0.525))"
      ],
      "metadata": {
        "colab": {
          "base_uri": "https://localhost:8080/"
        },
        "id": "fSh5qnqurXM5",
        "outputId": "fdc2fd2d-433b-47f0-a149-ca580d8f9020"
      },
      "execution_count": 7,
      "outputs": [
        {
          "output_type": "stream",
          "name": "stdout",
          "text": [
            "0.6349206349206349\n",
            "0.22222222222222218\n",
            "0.14285714285714285\n"
          ]
        }
      ]
    },
    {
      "cell_type": "markdown",
      "source": [
        "6. Compare the posterior probabilities from the previous part to the prior probabilities. Explain how your probabilities changed, and why that makes sense."
      ],
      "metadata": {
        "id": "WPaf0dVERchc"
      }
    },
    {
      "cell_type": "markdown",
      "source": [
        "Above, we are calculating how our subjective probabilities for who we think the best players are will change given the information that A beat B in the first match.\n",
        "\n",
        "This makes sense then how that would increase the possibility that A is the best, decrease B and leave C lower but realitively unchanged.  "
      ],
      "metadata": {
        "id": "3o4v6DqXRd-n"
      }
    },
    {
      "cell_type": "markdown",
      "source": [
        "7. Suppose instead that B beats A in the first match. Compute your subjective probability that each of A, B, C is best given that B beats A in the first match. (You should get 0.3509, 0.4912, and 0.1579.)"
      ],
      "metadata": {
        "id": "EQzt3xBhReMi"
      }
    },
    {
      "cell_type": "markdown",
      "source": [
        "We will follow a similar process as before.\n",
        "\n",
        "$$P(BoA) = P(W_B)*P(B_A) + P(W_B)*P(B_B) + P(W_B)*P(B_C)$$\n",
        "<br>\n",
        "\n",
        "$$P(BoA) = (1/3)*(0.5) + (2/3)*(0.35) + (1/2)*(0.15) = 0.475$$\n",
        "<br>\n",
        "\n",
        "$$P(B_A|BoA) = \\frac{P(BoA|B_A) \\cdot P(B_A)}{P(BoA)} = \\frac{(1/3)\\cdot(0.5)}{(0.475)} = 0.3509$$  <br>\n",
        "\n",
        "\n",
        "$$P(B_B|BoA) = \\frac{P(BoA|B_B) \\cdot P(B_B)}{P(BoA)} = \\frac{(2/3)\\cdot(0.35)}{(0.475)} = 0.4912$$  <br>\n",
        "\n",
        "$$P(B_C|BoA) = \\frac{P(BoA|B_C) \\cdot P(B_C)}{P(BoA)} = \\frac{(1/2)\\cdot(0.15)}{(0.475)} = 0.1579$$  <br>"
      ],
      "metadata": {
        "id": "QJMwHwByRhvT"
      }
    },
    {
      "cell_type": "code",
      "source": [
        "print((1/3)*(0.5) + (2/3)*(0.35) + (1/2)*(0.15),\"\\n\")\n",
        "\n",
        "print((1/3)*(0.5)/(0.475))\n",
        "print((2/3)*(0.35)/(0.475))\n",
        "print((1/2)*(0.15)/(0.475))"
      ],
      "metadata": {
        "colab": {
          "base_uri": "https://localhost:8080/"
        },
        "id": "9CJh4fUSxhVG",
        "outputId": "f8da882f-fa1a-467f-94e2-175406a0a60c"
      },
      "execution_count": 13,
      "outputs": [
        {
          "output_type": "stream",
          "name": "stdout",
          "text": [
            "0.475 \n",
            "\n",
            "0.3508771929824561\n",
            "0.49122807017543857\n",
            "0.15789473684210525\n"
          ]
        }
      ]
    },
    {
      "cell_type": "markdown",
      "source": [
        "8. Compare the posterior probabilities from the previous part to the prior probabilities. Explain how your probabilities changed, and why that makes sense."
      ],
      "metadata": {
        "id": "Nv0CBBWkRiIo"
      }
    },
    {
      "cell_type": "markdown",
      "source": [
        "This is like the complement to the last argument, since we are updating probabilities based on if B beats A.\n",
        "\n",
        "It also makes sense here how the possibility of B being the best player would increase, A would decrease and C would slightly increase but stay realitvely the same."
      ],
      "metadata": {
        "id": "vgnRCBRLRmam"
      }
    },
    {
      "cell_type": "markdown",
      "source": [
        "9. Suppose that A beats B in the first match. If you had to choose the one player you think is best based on your updated subjective probabilities, who would you choose? What is your subjective probability that your choice is correct given that A beats B in the first match?"
      ],
      "metadata": {
        "id": "p6yVfToQRo2v"
      }
    },
    {
      "cell_type": "markdown",
      "source": [
        "Similar to before, I would choose A as the player that I thought was the best. The subjectively probability would be 63.49% in this case."
      ],
      "metadata": {
        "id": "sJsL6y0TRp75"
      }
    },
    {
      "cell_type": "markdown",
      "source": [
        "10. Suppose that B beats A in the first match. If you had to choose the one player you think is best based on your updated subjective probabilities, who would you choose? What is your subjective probability that your choice is correct given that B beats A in the first match?"
      ],
      "metadata": {
        "id": "7lSvBeWuRqfv"
      }
    },
    {
      "cell_type": "markdown",
      "source": [
        "In this case I would choose B as the player that I thought was the best with a subjective probability of 49.12%"
      ],
      "metadata": {
        "id": "sIxt15fyRtzF"
      }
    },
    {
      "cell_type": "markdown",
      "source": [
        "11. After the first match you make your choice of who you think is the best player. What is your subjective probability that your choice is correct? (Hint: this should be a single number, but you need to consider the two cases.) Compare to part 1; what is the “value” of observing the winner of the first match?"
      ],
      "metadata": {
        "id": "wpMEUjxtRuQU"
      }
    },
    {
      "cell_type": "markdown",
      "source": [
        "From the previous two questions we see that our answer would change, selecting A or B as the best player, depending on who wins the match.\n",
        "\n",
        "So to find the probability of correctness based on our subjective analysis, we will sum up the probabilities of the results of the match that would affect our decision.\n",
        "\n",
        "$$P(correct) = P(W_A \\cap B_A) + P(W_B \\cap B_B)$$\n",
        "\n",
        "using the following, we can rewrite the above equation and use values we have found to calculate the probability.\n",
        "\n",
        "$$P(A \\cap B) = P(A|B)P(B) = P(B|A)P(A)$$ <br>\n",
        "\n",
        "$$P(correct) = (0.6349)(0.5249) +(0.4912)(0.475) = 0.5665$$"
      ],
      "metadata": {
        "id": "TdN01lBlRzmc"
      }
    },
    {
      "cell_type": "code",
      "source": [
        "print((0.6349)*(0.5249)+(0.4912)*(0.475))"
      ],
      "metadata": {
        "id": "i3ZhJgVRN8DP",
        "outputId": "3b7a00a7-e4df-429c-ae42-84b0db63c9f9",
        "colab": {
          "base_uri": "https://localhost:8080/"
        }
      },
      "execution_count": 18,
      "outputs": [
        {
          "output_type": "stream",
          "name": "stdout",
          "text": [
            "0.56657901\n"
          ]
        }
      ]
    },
    {
      "cell_type": "markdown",
      "source": [
        "12. Now suppose again that A beats B in the first match, and also that A beats C in the second match. Compute your posterior probability that each of A, B, C is best given the results of the first two matches. Explain how your probabilities changed, and why that makes sense."
      ],
      "metadata": {
        "id": "Nl7RlOUmRz0x"
      }
    },
    {
      "cell_type": "markdown",
      "source": [
        "We will be using some values previously calculated.\n",
        "Now we need to calculate the probability that A will beat C given what we know after the first match.\n",
        "\n",
        "$$P(AoC) = P(W_A)*P(B_A) + P(W_A)*P(B_B) + P(W_A)*P(B_C)$$  <br>\n",
        "$$P(AoC) = (2/3)*(0.6349) + (1/2)*(0.2222) + (1/3)*(0.1429) = 0.582$$  <br> <br>\n",
        "\n",
        "$$P(B_A|AoC) = \\frac{P(AoC|B_A) \\cdot P(B_A)}{P(AoC)} = \\frac{(2/3)\\cdot(0.6349)}{(0.582)} = 0.7272$$  <br>\n",
        "\n",
        "\n",
        "$$P(B_B|AoC) = \\frac{P(AoC|B_B) \\cdot P(B_B)}{P(AoC)} = \\frac{(1/2)\\cdot(0.2222)}{(0.582)} = 0.1909$$  <br>\n",
        "\n",
        "$$P(B_C|AoC) = \\frac{P(AoC|B_C) \\cdot P(B_C)}{P(AoC)} = \\frac{(1/3)\\cdot(0.1429)}{(0.582)} = 0.0818$$  <br>"
      ],
      "metadata": {
        "id": "PepWQQB3R97U"
      }
    },
    {
      "cell_type": "code",
      "source": [
        "print((2/3)*(0.6349) + (1/2)*(0.2222) + (1/3)*(0.1429), \"\\n\")\n",
        "\n",
        "print((2/3)*(0.6349)/(0.582))\n",
        "print((1/2)*(0.2222)/(0.582))\n",
        "print((1/3)*(0.1429)/(0.582))"
      ],
      "metadata": {
        "colab": {
          "base_uri": "https://localhost:8080/"
        },
        "id": "Fb_7ivH-Bizf",
        "outputId": "4964a75f-5d03-4c73-d84a-1882744df825"
      },
      "execution_count": 16,
      "outputs": [
        {
          "output_type": "stream",
          "name": "stdout",
          "text": [
            "0.582 \n",
            "\n",
            "0.7272623138602521\n",
            "0.19089347079037802\n",
            "0.08184421534936999\n"
          ]
        }
      ]
    },
    {
      "cell_type": "markdown",
      "source": [
        "Above we calculate posterior probabilities given A wins againts both B and C. We can see how the possibility of A being the best player increases again, where C decreases and where B is slightly lower but relatively the same."
      ],
      "metadata": {
        "id": "Dr99mTP5EffO"
      }
    },
    {
      "cell_type": "markdown",
      "source": [
        "\n",
        "\n",
        "---\n",
        "\n",
        "## Reflection"
      ],
      "metadata": {
        "id": "2gZTAaPTS4Zr"
      }
    },
    {
      "cell_type": "markdown",
      "source": [
        "With each Practice Problem submission, you should also take a few minutes to reflect on the practice problems and related material and thoughtfully respond to the following.\n",
        "\n",
        "1. Write a sentence or two summarizing - in your own words - one big idea from this material.\n",
        "2. Describe one particular aspect of this material that you found challenging and why. Then describe how you dealt with the challenge, or what you can do to deal with the challenge.\n",
        "3. Write at least one specific question you have about this material. I strongly encourage you to post your questions directly in Discord as that's where I'll respond to questions. That is, if you really want an answer to your question - which I hope you do! - please post the question directly in Discord."
      ],
      "metadata": {
        "id": "REUS4DaASwH6"
      }
    },
    {
      "cell_type": "markdown",
      "source": [
        "So I think the intended big take away from this homework is that although there are situations that can be independent events, based on how you condition the situation involving independent things, probabilities can change. I certainly struggled with getting back in the groove with stats and thinking big picture with all different possible cases in a situation. I dealt with this by asking for help. I asked my friend and I asked the discord. I still feel I have a bit more rust to shake off but I feel like going through these exercises, getting help and again explaining it to myself after has helped a lot."
      ],
      "metadata": {
        "id": "a16GVblfS3X_"
      }
    }
  ]
}