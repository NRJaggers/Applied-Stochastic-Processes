{
  "nbformat": 4,
  "nbformat_minor": 0,
  "metadata": {
    "colab": {
      "provenance": [],
      "include_colab_link": true
    },
    "kernelspec": {
      "name": "python3",
      "display_name": "Python 3"
    },
    "language_info": {
      "name": "python"
    }
  },
  "cells": [
    {
      "cell_type": "markdown",
      "metadata": {
        "id": "view-in-github",
        "colab_type": "text"
      },
      "source": [
        "<a href=\"https://colab.research.google.com/github/NRJaggers/Applied-Stochastic-Processes/blob/main/PracticeProblems/Spatial_Poisson_Processes_and_Relatives_of_Poisson_Processes.ipynb\" target=\"_parent\"><img src=\"https://colab.research.google.com/assets/colab-badge.svg\" alt=\"Open In Colab\"/></a>"
      ]
    },
    {
      "cell_type": "markdown",
      "source": [
        "#Spatial Poisson Processes, and Relatives of Poisson Processes"
      ],
      "metadata": {
        "id": "lwN5bYfDW66u"
      }
    },
    {
      "cell_type": "markdown",
      "source": [
        "---\n",
        "\n",
        "## Prompt"
      ],
      "metadata": {
        "id": "Bh1go0uHXDqq"
      }
    },
    {
      "cell_type": "markdown",
      "source": [
        "Original Prompt can be found [here](https://bookdown.org/kevin_davisross/applied-stochastic-processes/pp-spatial-poisson-processes.html). A copy of the prompt  can be found on github under [/PracticeProblems/Prompts](https://github.com/NRJaggers/Applied-Stochastic-Processes/tree/main/PracticeProblems/Prompts) along with completed exercises under [/PracticeProblems](https://github.com/NRJaggers/Applied-Stochastic-Processes/tree/main/PracticeProblems)."
      ],
      "metadata": {
        "id": "DJpcnN9AXHGQ"
      }
    },
    {
      "cell_type": "markdown",
      "source": [
        "---\n",
        "\n",
        "## Problems"
      ],
      "metadata": {
        "id": "GXUWHhYNXK3F"
      }
    },
    {
      "cell_type": "markdown",
      "source": [
        "###1."
      ],
      "metadata": {
        "id": "RXCvu0k9XNzE"
      }
    },
    {
      "cell_type": "markdown",
      "source": [
        "In our class notes we talk about how a [Weibull Distribution](https://en.wikipedia.org/wiki/Weibull_distribution) is used to describe the distance between a point and its nearest neighbor. We know that an exponential distribution is a special case of the Weibull distribution."
      ],
      "metadata": {
        "id": "UtGwt8lyZ_NO"
      }
    },
    {
      "cell_type": "markdown",
      "source": [
        "####a."
      ],
      "metadata": {
        "id": "ZbFDny4uTUmB"
      }
    },
    {
      "cell_type": "markdown",
      "source": [
        "$\\text{for } x>0$\n",
        "\n",
        "Im guessing the points will be exponetially distributed.\n",
        "$\\text{P}(X > x) = e^{-\\lambda x}$"
      ],
      "metadata": {
        "id": "GCJHXcwIb6fS"
      }
    },
    {
      "cell_type": "markdown",
      "source": [
        "####b."
      ],
      "metadata": {
        "id": "LdX87GL3TUmD"
      }
    },
    {
      "cell_type": "markdown",
      "source": [
        "If we take the above as exponetial distribution then the PDF would be\n",
        "\n",
        "$\\text{PDF}(X)= \\lambda e^{-\\lambda x}$"
      ],
      "metadata": {
        "id": "kAjrLNLYdG6S"
      }
    },
    {
      "cell_type": "markdown",
      "source": [
        "####c."
      ],
      "metadata": {
        "id": "kBf5fHxRTUmE"
      }
    },
    {
      "cell_type": "markdown",
      "source": [
        "$\\text{E}(X) = \\frac{1}{\\lambda}$"
      ],
      "metadata": {
        "id": "zShJ87P6dXSG"
      }
    },
    {
      "cell_type": "markdown",
      "source": [
        "###2."
      ],
      "metadata": {
        "id": "NnOccgJbXbpb"
      }
    },
    {
      "cell_type": "markdown",
      "source": [
        "Starting at 9 a.m., customers arrive at a store according to a nonhomogeneous Poisson process with intensity function $\\lambda(t) = t^2$, for $t>0$, where the time is measured in hours. Find the probability mass function of the number of customers who enter the store by noon."
      ],
      "metadata": {
        "id": "jz5vn5_7dpia"
      }
    },
    {
      "cell_type": "markdown",
      "source": [
        "$\\lambda(3) = (3)^2 = 9$\n",
        "\n",
        "$P(X_3 = x) = e^{-\\lambda t}\\frac{(\\lambda t)^x}{x!} = e^{-27}\\frac{(27)^x}{x!}$"
      ],
      "metadata": {
        "id": "B9fDNsFoe0KQ"
      }
    },
    {
      "cell_type": "markdown",
      "source": [
        "###3."
      ],
      "metadata": {
        "id": "djmJVxVpTGqW"
      }
    },
    {
      "cell_type": "markdown",
      "source": [
        "Suppose points are distributed in a 2-d region centered at the origin according to a nonhomogeneous, spatial Poisson process $\\{N_A\\}$ with intensity function\n",
        "$$\\lambda(x, y) = e^{-(x^2 + y^2)}$$\n",
        "\n",
        "Let $R$ be the distance from the origin to the nearest point. Compute $\\text{P}(R > 1)$."
      ],
      "metadata": {
        "id": "qMCgJWcNd91R"
      }
    },
    {
      "cell_type": "markdown",
      "source": [
        "What is the probability that points lie outside radius 1 of the circle.\n",
        "\n",
        "$\\lambda (x,y) = \\lambda (r) = e^{-1} = 0.368$\n",
        "\n",
        "$\\text{P}(R > 1) = e^{-\\lambda r} = e^{-0.368} = 0.692$"
      ],
      "metadata": {
        "id": "jZnBdctTizNL"
      }
    },
    {
      "cell_type": "markdown",
      "source": [
        "---\n",
        "\n",
        "## Reflection"
      ],
      "metadata": {
        "id": "8tVMmKgxXWdC"
      }
    },
    {
      "cell_type": "markdown",
      "source": [
        "With each Practice Problem submission, you should also take a few minutes to reflect on the practice problems and related material and thoughtfully respond to the following.\n",
        "\n",
        "1. Write a sentence or two summarizing - in your own words - one big idea from this material.\n",
        "2. Describe one particular aspect of this material that you found challenging and why. Then describe how you dealt with the challenge, or what you can do to deal with the challenge.\n",
        "3. Write at least one specific question you have about this material. I strongly encourage you to post your questions directly in Discord as that's where I'll respond to questions. That is, if you really want an answer to your question - which I hope you do! - please post the question directly in Discord."
      ],
      "metadata": {
        "id": "XDBX6FZlXZ1N"
      }
    },
    {
      "cell_type": "markdown",
      "source": [
        "I will admit, I think I am lost on this one. I gave it a shot and time permitting I will ask questions in class or during office hours."
      ],
      "metadata": {
        "id": "COQz4qEBXaq3"
      }
    }
  ]
}