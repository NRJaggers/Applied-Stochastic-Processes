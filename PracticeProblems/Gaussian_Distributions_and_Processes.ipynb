{
  "nbformat": 4,
  "nbformat_minor": 0,
  "metadata": {
    "colab": {
      "provenance": [],
      "include_colab_link": true
    },
    "kernelspec": {
      "name": "python3",
      "display_name": "Python 3"
    },
    "language_info": {
      "name": "python"
    }
  },
  "cells": [
    {
      "cell_type": "markdown",
      "metadata": {
        "id": "view-in-github",
        "colab_type": "text"
      },
      "source": [
        "<a href=\"https://colab.research.google.com/github/NRJaggers/Applied-Stochastic-Processes/blob/main/PracticeProblems/Gaussian_Distributions_and_Processes.ipynb\" target=\"_parent\"><img src=\"https://colab.research.google.com/assets/colab-badge.svg\" alt=\"Open In Colab\"/></a>"
      ]
    },
    {
      "cell_type": "markdown",
      "source": [
        "#Gaussian Distributions and Processes\n"
      ],
      "metadata": {
        "id": "lwN5bYfDW66u"
      }
    },
    {
      "cell_type": "markdown",
      "source": [
        "---\n",
        "\n",
        "## Prompt"
      ],
      "metadata": {
        "id": "Bh1go0uHXDqq"
      }
    },
    {
      "cell_type": "markdown",
      "source": [
        "Original Prompt can be found [here](https://bookdown.org/kevin_davisross/applied-stochastic-processes/pp-gaussian.html). A copy of the prompt  can be found on github under [/PracticeProblems/Prompts](https://github.com/NRJaggers/Applied-Stochastic-Processes/tree/main/PracticeProblems/Prompts) along with completed exercises under [/PracticeProblems](https://github.com/NRJaggers/Applied-Stochastic-Processes/tree/main/PracticeProblems)."
      ],
      "metadata": {
        "id": "DJpcnN9AXHGQ"
      }
    },
    {
      "cell_type": "markdown",
      "source": [
        "---\n",
        "\n",
        "## Problems"
      ],
      "metadata": {
        "id": "GXUWHhYNXK3F"
      }
    },
    {
      "cell_type": "markdown",
      "source": [
        "###1."
      ],
      "metadata": {
        "id": "RXCvu0k9XNzE"
      }
    },
    {
      "cell_type": "markdown",
      "source": [
        "Devi and Paxton are meeting. Arrival times are measured in minutes after noon, with negative times representing arrivals before noon. Devi’s arrival time follows a Normal distribution with mean 20 and SD 15 minutes, and Paxton’s arrival time follows a Normal distribution with mean 25 and SD 10 minutes."
      ],
      "metadata": {
        "id": "HL1jbHOyqFu2"
      }
    },
    {
      "cell_type": "markdown",
      "source": [
        "####a."
      ],
      "metadata": {
        "id": "Lddcskdz0XRv"
      }
    },
    {
      "cell_type": "markdown",
      "source": [
        "Assume the pairs of arrival times follow a Bivariate Normal distribution with correlation 0.8"
      ],
      "metadata": {
        "id": "nze2sEZMqG6r"
      }
    },
    {
      "cell_type": "markdown",
      "source": [
        "#####i."
      ],
      "metadata": {
        "id": "3_abt9uS1CW_"
      }
    },
    {
      "cell_type": "markdown",
      "source": [
        "Compute the probability that Devi arrives first given that Paxton arrives at 12:10."
      ],
      "metadata": {
        "id": "28Xe495jqM5T"
      }
    },
    {
      "cell_type": "markdown",
      "source": [
        "#####ii."
      ],
      "metadata": {
        "id": "VA2gRHLS1E4h"
      }
    },
    {
      "cell_type": "markdown",
      "source": [
        "Compute the probability that the first person to arrive has to wait more than 15 minutes for the second person to arrive."
      ],
      "metadata": {
        "id": "hXcomdoWqQZa"
      }
    },
    {
      "cell_type": "markdown",
      "source": [
        "####b."
      ],
      "metadata": {
        "id": "A8_LvCOv0Y0M"
      }
    },
    {
      "cell_type": "markdown",
      "source": [
        "Assume the pairs of arrival times follow a Bivariate Normal distribution with correlation -0.7"
      ],
      "metadata": {
        "id": "Hy1qXSTmqTGk"
      }
    },
    {
      "cell_type": "markdown",
      "source": [
        "#####i."
      ],
      "metadata": {
        "id": "Qm1JP3hK1HoW"
      }
    },
    {
      "cell_type": "markdown",
      "source": [
        "Compute the probability that Devi arrives first given that Paxton arrives at 12:10."
      ],
      "metadata": {
        "id": "h5E0m9UmqUyR"
      }
    },
    {
      "cell_type": "markdown",
      "source": [
        "#####ii."
      ],
      "metadata": {
        "id": "bL7JbNzr1HoX"
      }
    },
    {
      "cell_type": "markdown",
      "source": [
        "Compute the probability that the first person to arrive has to wait more than 15 minutes for the second person to arrive."
      ],
      "metadata": {
        "id": "DSAa1jE0qbrQ"
      }
    },
    {
      "cell_type": "markdown",
      "source": [
        "###2."
      ],
      "metadata": {
        "id": "X22XBPtz0a2-"
      }
    },
    {
      "cell_type": "markdown",
      "source": [
        "The noise in a voltage signal is modeled by a Gaussian process with constant mean 0.9V. If we sample the noise at two nearby times, they will be correlated. Specifically, suppose the covariance of the noise at any two times that are $t$ seconds apart is given by $0.04 e^{–0.1|t|}$."
      ],
      "metadata": {
        "id": "viuQkRwaqi29"
      }
    },
    {
      "cell_type": "markdown",
      "source": [
        "####a."
      ],
      "metadata": {
        "id": "5bWeS8ie0gxD"
      }
    },
    {
      "cell_type": "markdown",
      "source": [
        "$\\text{Cov}(X(3), X(8))$"
      ],
      "metadata": {
        "id": "6yMCsNyNqqym"
      }
    },
    {
      "cell_type": "markdown",
      "source": [
        "####b."
      ],
      "metadata": {
        "id": "ALcPFZ5E0gxE"
      }
    },
    {
      "cell_type": "markdown",
      "source": [
        "$\\text{Var}(X(3))$ and $\\text{Var}(X(8))$\n",
        "\n",
        "(Hint: how can you write a variance as a covariance?)"
      ],
      "metadata": {
        "id": "1YxfBXbWq19S"
      }
    },
    {
      "cell_type": "markdown",
      "source": [
        "####c."
      ],
      "metadata": {
        "id": "p8gzZ0o61W9v"
      }
    },
    {
      "cell_type": "markdown",
      "source": [
        "$\\text{Corr}(X(3), X(8))$"
      ],
      "metadata": {
        "id": "xX7TLoGxq_CF"
      }
    },
    {
      "cell_type": "markdown",
      "source": [
        "####d."
      ],
      "metadata": {
        "id": "G7iq6lsW1W9w"
      }
    },
    {
      "cell_type": "markdown",
      "source": [
        "$\\text{P}(X(3) > X(8) + 0.5)$"
      ],
      "metadata": {
        "id": "1CCy3wwTrCHO"
      }
    },
    {
      "cell_type": "markdown",
      "source": [
        "---\n",
        "\n",
        "## Reflection"
      ],
      "metadata": {
        "id": "8tVMmKgxXWdC"
      }
    },
    {
      "cell_type": "markdown",
      "source": [
        "With each Practice Problem submission, you should also take a few minutes to reflect on the practice problems and related material and thoughtfully respond to the following.\n",
        "\n",
        "1. Write a sentence or two summarizing - in your own words - one big idea from this material.\n",
        "2. Describe one particular aspect of this material that you found challenging and why. Then describe how you dealt with the challenge, or what you can do to deal with the challenge.\n",
        "3. Write at least one specific question you have about this material. I strongly encourage you to post your questions directly in Discord as that's where I'll respond to questions. That is, if you really want an answer to your question - which I hope you do! - please post the question directly in Discord."
      ],
      "metadata": {
        "id": "XDBX6FZlXZ1N"
      }
    },
    {
      "cell_type": "markdown",
      "source": [],
      "metadata": {
        "id": "COQz4qEBXaq3"
      }
    }
  ]
}