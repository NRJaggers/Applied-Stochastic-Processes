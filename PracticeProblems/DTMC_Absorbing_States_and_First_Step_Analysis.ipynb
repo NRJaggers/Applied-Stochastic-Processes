{
  "nbformat": 4,
  "nbformat_minor": 0,
  "metadata": {
    "colab": {
      "provenance": [],
      "include_colab_link": true
    },
    "kernelspec": {
      "name": "python3",
      "display_name": "Python 3"
    },
    "language_info": {
      "name": "python"
    }
  },
  "cells": [
    {
      "cell_type": "markdown",
      "metadata": {
        "id": "view-in-github",
        "colab_type": "text"
      },
      "source": [
        "<a href=\"https://colab.research.google.com/github/NRJaggers/Applied-Stochastic-Processes/blob/main/PracticeProblems/DTMC_Absorbing_States_and_First_Step_Analysis.ipynb\" target=\"_parent\"><img src=\"https://colab.research.google.com/assets/colab-badge.svg\" alt=\"Open In Colab\"/></a>"
      ]
    },
    {
      "cell_type": "markdown",
      "source": [
        "#Discrete Time Markov Chains: Absorbing States and First Step Analysis"
      ],
      "metadata": {
        "id": "lwN5bYfDW66u"
      }
    },
    {
      "cell_type": "markdown",
      "source": [
        "---\n",
        "\n",
        "## Prompt"
      ],
      "metadata": {
        "id": "Bh1go0uHXDqq"
      }
    },
    {
      "cell_type": "markdown",
      "source": [
        "Original Prompt can be found [here](https://bookdown.org/kevin_davisross/applied-stochastic-processes/pp-mc-absorbing.html). A copy of the prompt  can be found on github under [/PracticeProblems/Prompts](https://github.com/NRJaggers/Applied-Stochastic-Processes/tree/main/PracticeProblems/Prompts) along with completed exercises under [/PracticeProblems](https://github.com/NRJaggers/Applied-Stochastic-Processes/tree/main/PracticeProblems)."
      ],
      "metadata": {
        "id": "DJpcnN9AXHGQ"
      }
    },
    {
      "cell_type": "markdown",
      "source": [
        "---\n",
        "\n",
        "## Problems"
      ],
      "metadata": {
        "id": "GXUWHhYNXK3F"
      }
    },
    {
      "cell_type": "markdown",
      "source": [
        "###1."
      ],
      "metadata": {
        "id": "RXCvu0k9XNzE"
      }
    },
    {
      "cell_type": "markdown",
      "source": [
        "Here we are interested in the mean time to absorption from state 1 to state 5. We can find this by solving the systems of equations (or the matrix math) to find $\\mu$.\n",
        "\n",
        "$$\\boldsymbol{\\mu} = (\\textbf{I}-\\textbf{Q})^{-1}\\textbf{1}$$"
      ],
      "metadata": {
        "id": "A9AcNuBZRDU8"
      }
    },
    {
      "cell_type": "code",
      "source": [
        "import numpy as np\n",
        "\n",
        "#set up transition matrix\n",
        "P = np.array([[0.9, 0.1, 0, 0, 0],\n",
        "              [0, 0.9, 0.1, 0, 0],\n",
        "              [0, 0, 0.9, 0.1, 0],\n",
        "              [0, 0, 0, 0.9, 0.1],\n",
        "              [0, 0, 0, 0, 1]])\n",
        "P"
      ],
      "metadata": {
        "colab": {
          "base_uri": "https://localhost:8080/"
        },
        "id": "DUu8lBrIaFsF",
        "outputId": "8ba3cbe4-b87b-44c5-c070-00a83f9c2aef"
      },
      "execution_count": 39,
      "outputs": [
        {
          "output_type": "execute_result",
          "data": {
            "text/plain": [
              "array([[0.9, 0.1, 0. , 0. , 0. ],\n",
              "       [0. , 0.9, 0.1, 0. , 0. ],\n",
              "       [0. , 0. , 0.9, 0.1, 0. ],\n",
              "       [0. , 0. , 0. , 0.9, 0.1],\n",
              "       [0. , 0. , 0. , 0. , 1. ]])"
            ]
          },
          "metadata": {},
          "execution_count": 39
        }
      ]
    },
    {
      "cell_type": "code",
      "source": [
        "\n",
        "#set up transient, Identity and ones matrix\n",
        "Q = P[0:4, 0:4]\n",
        "I = np.eye(4)\n",
        "mat_ones = np.ones((4,1))\n",
        "\n",
        "#solve\n",
        "I_Q = I-Q\n",
        "inv_IQ = np.linalg.inv(I_Q)\n",
        "\n",
        "mu = np.dot(inv_IQ, mat_ones)\n",
        "\n",
        "#result\n",
        "print(\"mean time to absorption from state 1:\", round(mu[0][0]), \"steps\")"
      ],
      "metadata": {
        "colab": {
          "base_uri": "https://localhost:8080/"
        },
        "id": "nrmyRc8gSiqZ",
        "outputId": "1b24755e-0615-4cd1-8150-679df3ca3c87"
      },
      "execution_count": 36,
      "outputs": [
        {
          "output_type": "stream",
          "name": "stdout",
          "text": [
            "mean time to absorption from state 1: 40 steps\n"
          ]
        }
      ]
    },
    {
      "cell_type": "markdown",
      "source": [
        "###2."
      ],
      "metadata": {
        "id": "NnOccgJbXbpb"
      }
    },
    {
      "cell_type": "code",
      "source": [
        "#set up transition matrix\n",
        "P = np.array([[0.25, 0.60, 0, 0.15],\n",
        "              [0, 0.20, 0.70, 0.10],\n",
        "              [0, 0, 1, 0],\n",
        "              [0, 0, 0, 1]])\n",
        "P"
      ],
      "metadata": {
        "colab": {
          "base_uri": "https://localhost:8080/"
        },
        "id": "h9On6O3qZHm1",
        "outputId": "c88590e2-f3a0-44c7-fa38-fe390e1d73f0"
      },
      "execution_count": 41,
      "outputs": [
        {
          "output_type": "execute_result",
          "data": {
            "text/plain": [
              "array([[0.25, 0.6 , 0.  , 0.15],\n",
              "       [0.  , 0.2 , 0.7 , 0.1 ],\n",
              "       [0.  , 0.  , 1.  , 0.  ],\n",
              "       [0.  , 0.  , 0.  , 1.  ]])"
            ]
          },
          "metadata": {},
          "execution_count": 41
        }
      ]
    },
    {
      "cell_type": "markdown",
      "source": [
        "a."
      ],
      "metadata": {
        "id": "lPP3vL0ucKAR"
      }
    },
    {
      "cell_type": "markdown",
      "source": [
        "To find the proportion of students that graduate, we want to find the proportion of students that eventually get absorbed into that state. This can be found as an element in $\\pi$ through the matrix math as seen below.\n",
        "\n",
        "$$\\boldsymbol{\\Pi} = (\\textbf{I}-\\textbf{Q})^{-1}\\textbf{R}$$"
      ],
      "metadata": {
        "id": "huXbb1KFdFyl"
      }
    },
    {
      "cell_type": "code",
      "source": [
        "#set up transient, Identity and ones matrix\n",
        "r = 2 #transient states\n",
        "Q = P[0:r, 0:r]\n",
        "I = np.eye(r)\n",
        "R = P[0:r,r:]\n",
        "\n",
        "#solve\n",
        "I_Q = I-Q\n",
        "inv_IQ = np.linalg.inv(I_Q)\n",
        "\n",
        "pi = np.dot(inv_IQ, R)\n",
        "\n",
        "#result\n",
        "print(\"Proportion of students that eventually graduate:\", pi[0][0]*100, \"%\")"
      ],
      "metadata": {
        "id": "3nqrvpnycLxF",
        "outputId": "22d60fec-bbb9-475d-c224-73b606ed1c97",
        "colab": {
          "base_uri": "https://localhost:8080/"
        }
      },
      "execution_count": 48,
      "outputs": [
        {
          "output_type": "stream",
          "name": "stdout",
          "text": [
            "Proportion of students that eventually graduate: 70.0 %\n"
          ]
        }
      ]
    },
    {
      "cell_type": "markdown",
      "source": [
        "b."
      ],
      "metadata": {
        "id": "-K-ZY1CCcMBt"
      }
    },
    {
      "cell_type": "markdown",
      "source": [
        "Average time spent at the college is the same thing as mean time to absorption. How many years does a student spend at the college before graduating or dropping out?"
      ],
      "metadata": {
        "id": "6FtdleBwcQ6e"
      }
    },
    {
      "cell_type": "code",
      "source": [
        "#set up transient, Identity and ones matrix\n",
        "r = 2 #transient states\n",
        "Q = P[0:r, 0:r]\n",
        "I = np.eye(r)\n",
        "mat_ones = np.ones((r,1))\n",
        "\n",
        "#solve\n",
        "I_Q = I-Q\n",
        "inv_IQ = np.linalg.inv(I_Q)\n",
        "\n",
        "mu = np.dot(inv_IQ, mat_ones)\n",
        "\n",
        "#result\n",
        "print(\"mean time of students spent at college:\", round(mu[0][0]), \"years\")"
      ],
      "metadata": {
        "colab": {
          "base_uri": "https://localhost:8080/"
        },
        "id": "jR0imNUGaBvn",
        "outputId": "ded9a91e-e806-4018-adc0-b7a682e3b3fb"
      },
      "execution_count": 50,
      "outputs": [
        {
          "output_type": "stream",
          "name": "stdout",
          "text": [
            "mean time of students spent at college: 2 years\n"
          ]
        }
      ]
    },
    {
      "cell_type": "markdown",
      "source": [
        "---\n",
        "\n",
        "## Reflection"
      ],
      "metadata": {
        "id": "8tVMmKgxXWdC"
      }
    },
    {
      "cell_type": "markdown",
      "source": [
        "With each Practice Problem submission, you should also take a few minutes to reflect on the practice problems and related material and thoughtfully respond to the following.\n",
        "\n",
        "1. Write a sentence or two summarizing - in your own words - one big idea from this material.\n",
        "2. Describe one particular aspect of this material that you found challenging and why. Then describe how you dealt with the challenge, or what you can do to deal with the challenge.\n",
        "3. Write at least one specific question you have about this material. I strongly encourage you to post your questions directly in Discord as that's where I'll respond to questions. That is, if you really want an answer to your question - which I hope you do! - please post the question directly in Discord."
      ],
      "metadata": {
        "id": "XDBX6FZlXZ1N"
      }
    },
    {
      "cell_type": "markdown",
      "source": [],
      "metadata": {
        "id": "COQz4qEBXaq3"
      }
    }
  ]
}