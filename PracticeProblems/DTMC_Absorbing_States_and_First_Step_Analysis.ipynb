{
  "nbformat": 4,
  "nbformat_minor": 0,
  "metadata": {
    "colab": {
      "provenance": [],
      "include_colab_link": true
    },
    "kernelspec": {
      "name": "python3",
      "display_name": "Python 3"
    },
    "language_info": {
      "name": "python"
    }
  },
  "cells": [
    {
      "cell_type": "markdown",
      "metadata": {
        "id": "view-in-github",
        "colab_type": "text"
      },
      "source": [
        "<a href=\"https://colab.research.google.com/github/NRJaggers/Applied-Stochastic-Processes/blob/main/PracticeProblems/DTMC_Absorbing_States_and_First_Step_Analysis.ipynb\" target=\"_parent\"><img src=\"https://colab.research.google.com/assets/colab-badge.svg\" alt=\"Open In Colab\"/></a>"
      ]
    },
    {
      "cell_type": "markdown",
      "source": [
        "#Discrete Time Markov Chains: Absorbing States and First Step Analysis"
      ],
      "metadata": {
        "id": "lwN5bYfDW66u"
      }
    },
    {
      "cell_type": "markdown",
      "source": [
        "---\n",
        "\n",
        "## Prompt"
      ],
      "metadata": {
        "id": "Bh1go0uHXDqq"
      }
    },
    {
      "cell_type": "markdown",
      "source": [
        "Original Prompt can be found [here](https://bookdown.org/kevin_davisross/applied-stochastic-processes/pp-mc-absorbing.html). A copy of the prompt  can be found on github under [/PracticeProblems/Prompts](https://github.com/NRJaggers/Applied-Stochastic-Processes/tree/main/PracticeProblems/Prompts) along with completed exercises under [/PracticeProblems](https://github.com/NRJaggers/Applied-Stochastic-Processes/tree/main/PracticeProblems)."
      ],
      "metadata": {
        "id": "DJpcnN9AXHGQ"
      }
    },
    {
      "cell_type": "markdown",
      "source": [
        "---\n",
        "\n",
        "## Problems"
      ],
      "metadata": {
        "id": "GXUWHhYNXK3F"
      }
    },
    {
      "cell_type": "code",
      "source": [
        "#useful functions and imports\n",
        "\n",
        "#for displaying plots/graphs\n",
        "import os\n",
        "import matplotlib.pyplot as plt\n",
        "\n",
        "#for creating graphs\n",
        "import graphviz\n",
        "import numpy as np\n",
        "\n",
        "def make_mc_graph(transition_matrix=np.array,filename=\"markov_chain_diagram\"):\n",
        "  # Create a graph\n",
        "  markov_chain_graph = graphviz.Digraph('MarkovChain', format='png', engine='dot')\n",
        "\n",
        "  # Add states to the graph\n",
        "  for i in range(len(transition_matrix)):\n",
        "      markov_chain_graph.node(str(i), label=f'{i+1}')\n",
        "\n",
        "  # Add transitions with probabilities\n",
        "  for i in range(len(transition_matrix)):\n",
        "      for j in range(len(transition_matrix[i])):\n",
        "          probability = transition_matrix[i, j]\n",
        "          if probability > 0:\n",
        "              markov_chain_graph.edge(str(i), str(j), label=f'{probability:.2f}')\n",
        "\n",
        "  # Save the graph to a file and render it\n",
        "  markov_chain_graph.render(filename, cleanup=True, format='png')\n",
        "\n",
        "  print(\"Markov chain diagram generated and saved as\", filename)"
      ],
      "metadata": {
        "id": "m3ON3ZwB9Z1z"
      },
      "execution_count": 18,
      "outputs": []
    },
    {
      "cell_type": "markdown",
      "source": [
        "###1."
      ],
      "metadata": {
        "id": "RXCvu0k9XNzE"
      }
    },
    {
      "cell_type": "code",
      "source": [
        "P = np.array([[0.9, 0.1, 0, 0, 0],\n",
        "              [0, 0.9, 0.1, 0, 0],\n",
        "              [0, 0, 0.9, 0.1, 0],\n",
        "              [0, 0, 0, 0.9, 0.1],\n",
        "              [0, 0, 0, 0, 1]])\n",
        "\n",
        "make_mc_graph(P)\n",
        "\n",
        "img = plt.imread('markov_chain_diagram.png')"
      ],
      "metadata": {
        "id": "HmB__cmg-FUc",
        "outputId": "60235116-8d42-4e07-e9fb-91b6c38a31f5",
        "colab": {
          "base_uri": "https://localhost:8080/"
        }
      },
      "execution_count": 19,
      "outputs": [
        {
          "output_type": "stream",
          "name": "stdout",
          "text": [
            "Markov chain diagram generated and saved as markov_chain_diagram\n"
          ]
        }
      ]
    },
    {
      "cell_type": "code",
      "source": [
        "plt.axis(\"off\")\n",
        "plt.imshow(img)"
      ],
      "metadata": {
        "id": "ktf76IMf_gXf",
        "outputId": "475190db-121e-42e4-fb2c-dd67e7c38151",
        "colab": {
          "base_uri": "https://localhost:8080/",
          "height": 423
        }
      },
      "execution_count": 20,
      "outputs": [
        {
          "output_type": "execute_result",
          "data": {
            "text/plain": [
              "<matplotlib.image.AxesImage at 0x7f8c70d4b070>"
            ]
          },
          "metadata": {},
          "execution_count": 20
        },
        {
          "output_type": "display_data",
          "data": {
            "text/plain": [
              "<Figure size 640x480 with 1 Axes>"
            ],
            "image/png": "[encoded data removed]"
          },
          "metadata": {}
        }
      ]
    },
    {
      "cell_type": "markdown",
      "source": [
        "###2."
      ],
      "metadata": {
        "id": "NnOccgJbXbpb"
      }
    },
    {
      "cell_type": "markdown",
      "source": [
        "---\n",
        "\n",
        "## Reflection"
      ],
      "metadata": {
        "id": "8tVMmKgxXWdC"
      }
    },
    {
      "cell_type": "markdown",
      "source": [
        "With each Practice Problem submission, you should also take a few minutes to reflect on the practice problems and related material and thoughtfully respond to the following.\n",
        "\n",
        "1. Write a sentence or two summarizing - in your own words - one big idea from this material.\n",
        "2. Describe one particular aspect of this material that you found challenging and why. Then describe how you dealt with the challenge, or what you can do to deal with the challenge.\n",
        "3. Write at least one specific question you have about this material. I strongly encourage you to post your questions directly in Discord as that's where I'll respond to questions. That is, if you really want an answer to your question - which I hope you do! - please post the question directly in Discord."
      ],
      "metadata": {
        "id": "XDBX6FZlXZ1N"
      }
    },
    {
      "cell_type": "markdown",
      "source": [],
      "metadata": {
        "id": "COQz4qEBXaq3"
      }
    }
  ]
}