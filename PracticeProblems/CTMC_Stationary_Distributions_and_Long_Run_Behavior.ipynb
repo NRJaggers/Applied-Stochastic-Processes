{
  "nbformat": 4,
  "nbformat_minor": 0,
  "metadata": {
    "colab": {
      "provenance": [],
      "include_colab_link": true
    },
    "kernelspec": {
      "name": "python3",
      "display_name": "Python 3"
    },
    "language_info": {
      "name": "python"
    }
  },
  "cells": [
    {
      "cell_type": "markdown",
      "metadata": {
        "id": "view-in-github",
        "colab_type": "text"
      },
      "source": [
        "<a href=\"https://colab.research.google.com/github/NRJaggers/Applied-Stochastic-Processes/blob/main/PracticeProblems/CTMC_Stationary_Distributions_and_Long_Run_Behavior.ipynb\" target=\"_parent\"><img src=\"https://colab.research.google.com/assets/colab-badge.svg\" alt=\"Open In Colab\"/></a>"
      ]
    },
    {
      "cell_type": "markdown",
      "source": [
        "#Stationary Distributions and Long Run Behavior of CTMCs"
      ],
      "metadata": {
        "id": "lwN5bYfDW66u"
      }
    },
    {
      "cell_type": "markdown",
      "source": [
        "---\n",
        "\n",
        "## Prompt"
      ],
      "metadata": {
        "id": "Bh1go0uHXDqq"
      }
    },
    {
      "cell_type": "markdown",
      "source": [
        "Original Prompt can be found [here](https://bookdown.org/kevin_davisross/applied-stochastic-processes/pp-ctmc-longrun.html). A copy of the prompt  can be found on github under [/PracticeProblems/Prompts](https://github.com/NRJaggers/Applied-Stochastic-Processes/tree/main/PracticeProblems/Prompts) along with completed exercises under [/PracticeProblems](https://github.com/NRJaggers/Applied-Stochastic-Processes/tree/main/PracticeProblems)."
      ],
      "metadata": {
        "id": "DJpcnN9AXHGQ"
      }
    },
    {
      "cell_type": "markdown",
      "source": [
        "---\n",
        "\n",
        "## Problems"
      ],
      "metadata": {
        "id": "GXUWHhYNXK3F"
      }
    },
    {
      "cell_type": "markdown",
      "source": [
        "###1."
      ],
      "metadata": {
        "id": "RXCvu0k9XNzE"
      }
    },
    {
      "cell_type": "markdown",
      "source": [
        "sunny (1), cloudy (2), or rainy (3)\n",
        "\n",
        "$$\n",
        "\\mathbf{Q} =\n",
        "\\begin{bmatrix}\n",
        "     & 0.25 & 0\\cr\n",
        "     0.8& & 0.4\\cr\n",
        "     2.0& 1.5& \\cr  \n",
        "\\end{bmatrix}\n",
        "$$"
      ],
      "metadata": {
        "id": "pxCDySofN7sZ"
      }
    },
    {
      "cell_type": "markdown",
      "source": [
        "####a."
      ],
      "metadata": {
        "id": "Fn4iP2VGNRZa"
      }
    },
    {
      "cell_type": "markdown",
      "source": [
        "In the long run, in what state does the city’s weather spend the highest fraction of time? Explain your reasoning without doing any calculations.\n",
        "\n",
        "The city spends most of its time with sunny weather. If we observe the rate matrix we can see that rates flowing into sunny from other states are the highest. Also if we were to look at the diagonal with flows out of the state, we would see that flow out from the sunny state is the smallest."
      ],
      "metadata": {
        "id": "YrJC77jjOWIM"
      }
    },
    {
      "cell_type": "markdown",
      "source": [
        "####b."
      ],
      "metadata": {
        "id": "7xurip2XNTat"
      }
    },
    {
      "cell_type": "markdown",
      "source": [
        "$\\pi\\mathbf{Q} = 0$\n",
        "\n",
        "or\n",
        "\n",
        "$\\sum_{i:i\\neq j}\\pi(i)q(i,j)=\\pi(j)\\lambda_j$"
      ],
      "metadata": {
        "id": "8WB0y0RlPglz"
      }
    },
    {
      "cell_type": "markdown",
      "source": [
        "$\\lambda_1\\pi(1) = \\pi(2)q(2,1) + \\pi(3)q(3,1)$\n",
        "\n",
        "$\\lambda_2\\pi(2) = \\pi(1)q(1,2) + \\pi(3)q(3,2)$\n",
        "\n",
        "$\\lambda_3\\pi(3) = \\pi(1)q(1,3) + \\pi(2)q(2,3)$\n",
        "\n",
        "$1 = \\pi(1) + \\pi(2) + \\pi(3)$"
      ],
      "metadata": {
        "id": "aaPgblr7RAiW"
      }
    },
    {
      "cell_type": "markdown",
      "source": [
        "####c."
      ],
      "metadata": {
        "id": "Ah5L7Y16NUri"
      }
    },
    {
      "cell_type": "code",
      "source": [
        "#use this to allow for running R within Python\n",
        "%load_ext rpy2.ipython"
      ],
      "metadata": {
        "id": "SoOD9SDXWr6h"
      },
      "execution_count": 7,
      "outputs": []
    },
    {
      "cell_type": "code",
      "source": [
        "%%R\n",
        "compute_stationary_distribution_ctmc <- function(Q){\n",
        "  s = nrow(Q)\n",
        "  Pi = rep(1,s) %*% solve(diag(s) - Q + matrix(rep(1, s * s) - diag(s), ncol = s))\n",
        "  return(Pi)\n",
        "}\n",
        "\n",
        "Q = rbind(\n",
        "  c(-0.25, 0.25, 0),\n",
        "  c(0.8, -1.2, 0.4),\n",
        "  c(2.0, 1.5, -3.5)\n",
        ")\n",
        "\n",
        "pi_ctmc = compute_stationary_distribution_ctmc(Q)\n",
        "\n",
        "pi_ctmc"
      ],
      "metadata": {
        "id": "KbzdE5SjSWKx",
        "outputId": "1c5d33a3-1e4d-48ec-c23b-59efda93d959",
        "colab": {
          "base_uri": "https://localhost:8080/"
        }
      },
      "execution_count": 11,
      "outputs": [
        {
          "output_type": "stream",
          "name": "stdout",
          "text": [
            "          [,1]      [,2]       [,3]\n",
            "[1,] 0.7868852 0.1912568 0.02185792\n"
          ]
        }
      ]
    },
    {
      "cell_type": "markdown",
      "source": [
        "####d."
      ],
      "metadata": {
        "id": "ebpkatkQNWE-"
      }
    },
    {
      "cell_type": "markdown",
      "source": [
        "$\\text{P}_t = e^{\\mathbf{Q}t}$"
      ],
      "metadata": {
        "id": "Y6_wNiHCa8bu"
      }
    },
    {
      "cell_type": "code",
      "source": [
        "import numpy as np\n",
        "from scipy.linalg import expm\n",
        "\n",
        "Q = np.array([\n",
        "    [-0.25, 0.25, 0],\n",
        "    [0.8, -1.2, 0.4],\n",
        "    [2.0, 1.5, -3.5]\n",
        "])\n",
        "\n",
        "expm(Q * 1)"
      ],
      "metadata": {
        "id": "HMD1zZ33aGEc",
        "outputId": "ab867354-23d4-4f04-e3d6-f935fc4c2318",
        "colab": {
          "base_uri": "https://localhost:8080/"
        }
      },
      "execution_count": 15,
      "outputs": [
        {
          "output_type": "execute_result",
          "data": {
            "text/plain": [
              "array([[0.85049267, 0.13693385, 0.01257347],\n",
              "       [0.53877611, 0.40558487, 0.05563902],\n",
              "       [0.66797274, 0.27151367, 0.06051359]])"
            ]
          },
          "metadata": {},
          "execution_count": 15
        }
      ]
    },
    {
      "cell_type": "code",
      "source": [
        "expm(Q * 2)"
      ],
      "metadata": {
        "id": "u3wnCoLvbYal",
        "outputId": "9d8196ad-e87b-48dd-aa05-589289bd5739",
        "colab": {
          "base_uri": "https://localhost:8080/"
        }
      },
      "execution_count": 17,
      "outputs": [
        {
          "output_type": "execute_result",
          "data": {
            "text/plain": [
              "array([[0.80551322, 0.17541341, 0.01907338],\n",
              "       [0.71390992, 0.25338253, 0.03270755],\n",
              "       [0.75481243, 0.21802019, 0.02716739]])"
            ]
          },
          "metadata": {},
          "execution_count": 17
        }
      ]
    },
    {
      "cell_type": "code",
      "source": [
        "expm(Q * 3)"
      ],
      "metadata": {
        "id": "_0rNKbLgbdJP",
        "outputId": "34320e40-e61a-4a40-8e53-b8c0ca38b403",
        "colab": {
          "base_uri": "https://localhost:8080/"
        }
      },
      "execution_count": 19,
      "outputs": [
        {
          "output_type": "execute_result",
          "data": {
            "text/plain": [
              "array([[0.79233214, 0.18662573, 0.02104213],\n",
              "       [0.76553936, 0.2094071 , 0.02505353],\n",
              "       [0.77757358, 0.19916138, 0.02326504]])"
            ]
          },
          "metadata": {},
          "execution_count": 19
        }
      ]
    },
    {
      "cell_type": "code",
      "source": [
        "expm(Q * 4)"
      ],
      "metadata": {
        "id": "aa2vPJ7dbi4K",
        "outputId": "006bf6af-d623-4452-cfb6-fabee1fae0c4",
        "colab": {
          "base_uri": "https://localhost:8080/"
        }
      },
      "execution_count": 20,
      "outputs": [
        {
          "output_type": "execute_result",
          "data": {
            "text/plain": [
              "array([[0.78847773, 0.18990289, 0.02161937],\n",
              "       [0.78064424, 0.19656298, 0.02279277],\n",
              "       [0.78416444, 0.19356977, 0.02226579]])"
            ]
          },
          "metadata": {},
          "execution_count": 20
        }
      ]
    },
    {
      "cell_type": "code",
      "source": [
        "expm(Q * 5)"
      ],
      "metadata": {
        "id": "C-VsW18NbmLo",
        "outputId": "8ead8947-512e-43b5-f521-749d354c505c",
        "colab": {
          "base_uri": "https://localhost:8080/"
        }
      },
      "execution_count": 21,
      "outputs": [
        {
          "output_type": "execute_result",
          "data": {
            "text/plain": [
              "array([[0.78735083, 0.19086099, 0.02178818],\n",
              "       [0.7850606 , 0.19280815, 0.02213125],\n",
              "       [0.78608982, 0.19193309, 0.02197708]])"
            ]
          },
          "metadata": {},
          "execution_count": 21
        }
      ]
    },
    {
      "cell_type": "code",
      "source": [
        "expm(Q * 6)"
      ],
      "metadata": {
        "id": "i89CHYKbbo_9",
        "outputId": "93cb7e8b-f639-4d1e-c87f-ce714dfbd89f",
        "colab": {
          "base_uri": "https://localhost:8080/"
        }
      },
      "execution_count": 26,
      "outputs": [
        {
          "output_type": "execute_result",
          "data": {
            "text/plain": [
              "array([[0.78702137, 0.1911411 , 0.02183753],\n",
              "       [0.78635179, 0.19171038, 0.02193784],\n",
              "       [0.78665269, 0.19145455, 0.02189276]])"
            ]
          },
          "metadata": {},
          "execution_count": 26
        }
      ]
    },
    {
      "cell_type": "code",
      "source": [
        "expm(Q * 7)"
      ],
      "metadata": {
        "id": "WUCDA1fhcGXI",
        "outputId": "dd7d84e2-11f8-447d-edaf-c90d6bafbaf3",
        "colab": {
          "base_uri": "https://localhost:8080/"
        }
      },
      "execution_count": 27,
      "outputs": [
        {
          "output_type": "execute_result",
          "data": {
            "text/plain": [
              "array([[0.78692504, 0.191223  , 0.02185196],\n",
              "       [0.78672928, 0.19138943, 0.02188129],\n",
              "       [0.78681726, 0.19131464, 0.02186811]])"
            ]
          },
          "metadata": {},
          "execution_count": 27
        }
      ]
    },
    {
      "cell_type": "code",
      "source": [
        "expm(Q * 10)"
      ],
      "metadata": {
        "id": "LSWbtpBxcJjO",
        "outputId": "433d5a91-7428-4dad-e138-5f4f63335300",
        "colab": {
          "base_uri": "https://localhost:8080/"
        }
      },
      "execution_count": 28,
      "outputs": [
        {
          "output_type": "execute_result",
          "data": {
            "text/plain": [
              "array([[0.78688624, 0.19125599, 0.02185777],\n",
              "       [0.78688135, 0.19126014, 0.02185851],\n",
              "       [0.78688355, 0.19125828, 0.02185818]])"
            ]
          },
          "metadata": {},
          "execution_count": 28
        }
      ]
    },
    {
      "cell_type": "markdown",
      "source": [
        "It looks like it takes 4 steps for distributions to start to agree with eachother. Steps 6 and 7 lead to matching values up to 2nd and 3rd decimal places respectively."
      ],
      "metadata": {
        "id": "59bP7MiecNRE"
      }
    },
    {
      "cell_type": "markdown",
      "source": [
        "###2."
      ],
      "metadata": {
        "id": "NnOccgJbXbpb"
      }
    },
    {
      "cell_type": "markdown",
      "source": [
        "---\n",
        "\n",
        "## Reflection"
      ],
      "metadata": {
        "id": "8tVMmKgxXWdC"
      }
    },
    {
      "cell_type": "markdown",
      "source": [
        "With each Practice Problem submission, you should also take a few minutes to reflect on the practice problems and related material and thoughtfully respond to the following.\n",
        "\n",
        "1. Write a sentence or two summarizing - in your own words - one big idea from this material.\n",
        "2. Describe one particular aspect of this material that you found challenging and why. Then describe how you dealt with the challenge, or what you can do to deal with the challenge.\n",
        "3. Write at least one specific question you have about this material. I strongly encourage you to post your questions directly in Discord as that's where I'll respond to questions. That is, if you really want an answer to your question - which I hope you do! - please post the question directly in Discord."
      ],
      "metadata": {
        "id": "XDBX6FZlXZ1N"
      }
    },
    {
      "cell_type": "markdown",
      "source": [],
      "metadata": {
        "id": "COQz4qEBXaq3"
      }
    }
  ]
}