{
  "nbformat": 4,
  "nbformat_minor": 0,
  "metadata": {
    "colab": {
      "provenance": [],
      "include_colab_link": true
    },
    "kernelspec": {
      "name": "python3",
      "display_name": "Python 3"
    },
    "language_info": {
      "name": "python"
    }
  },
  "cells": [
    {
      "cell_type": "markdown",
      "metadata": {
        "id": "view-in-github",
        "colab_type": "text"
      },
      "source": [
        "<a href=\"https://colab.research.google.com/github/NRJaggers/Applied-Stochastic-Processes/blob/main/PracticeProblems/Poisson_Processes.ipynb\" target=\"_parent\"><img src=\"https://colab.research.google.com/assets/colab-badge.svg\" alt=\"Open In Colab\"/></a>"
      ]
    },
    {
      "cell_type": "markdown",
      "source": [
        "#Poisson Processes"
      ],
      "metadata": {
        "id": "lwN5bYfDW66u"
      }
    },
    {
      "cell_type": "markdown",
      "source": [
        "---\n",
        "\n",
        "## Prompt"
      ],
      "metadata": {
        "id": "Bh1go0uHXDqq"
      }
    },
    {
      "cell_type": "markdown",
      "source": [
        "\\\\Original Prompt can be found [here](https://bookdown.org/kevin_davisross/applied-stochastic-processes/pp-poisson-processes.html). A copy of the prompt  can be found on github under [/PracticeProblems/Prompts](https://github.com/NRJaggers/Applied-Stochastic-Processes/tree/main/PracticeProblems/Prompts) along with completed exercises under [/PracticeProblems](https://github.com/NRJaggers/Applied-Stochastic-Processes/tree/main/PracticeProblems)."
      ],
      "metadata": {
        "id": "DJpcnN9AXHGQ"
      }
    },
    {
      "cell_type": "markdown",
      "source": [
        "---\n",
        "\n",
        "## Problems"
      ],
      "metadata": {
        "id": "GXUWHhYNXK3F"
      }
    },
    {
      "cell_type": "markdown",
      "source": [
        "###1."
      ],
      "metadata": {
        "id": "RXCvu0k9XNzE"
      }
    },
    {
      "cell_type": "markdown",
      "source": [
        "Poisson process with $\\lambda=3$ calls per minute"
      ],
      "metadata": {
        "id": "SsbqHfciZJEW"
      }
    },
    {
      "cell_type": "markdown",
      "source": [
        "####a."
      ],
      "metadata": {
        "id": "eA_V8lgFRcVd"
      }
    },
    {
      "cell_type": "markdown",
      "source": [
        "$\\text{E}(N_1) = \\mu = \\lambda \\cdot t = 3 \\cdot 1 = 3$"
      ],
      "metadata": {
        "id": "vgnooukJZVXS"
      }
    },
    {
      "cell_type": "markdown",
      "source": [
        "####b."
      ],
      "metadata": {
        "id": "9bWUkI8sR6tN"
      }
    },
    {
      "cell_type": "markdown",
      "source": [
        "$\\text{SD}(N_1) = \\sqrt{\\text{Var}(N_1)} = \\sqrt{\\mu} = \\sqrt{3} $"
      ],
      "metadata": {
        "id": "5cMoOJP-a8fU"
      }
    },
    {
      "cell_type": "markdown",
      "source": [
        "####c."
      ],
      "metadata": {
        "id": "gs-6KgrtR7j4"
      }
    },
    {
      "cell_type": "markdown",
      "source": [
        "$\\text{P}(X=x) = e^{-\\mu}\\frac{\\mu^{x}}{x!} \\qquad \\mu = \\lambda \\cdot t$ <br> <br>\n",
        "\n",
        "$\\text{P}(N_1=2) = e^{-(3*1)}\\frac{(3*1)^{2}}{2!} = 0.224$"
      ],
      "metadata": {
        "id": "BZtc90WHbpc8"
      }
    },
    {
      "cell_type": "code",
      "source": [
        "import math\n",
        "\n",
        "def poisson(rate, time, events):\n",
        "  #rate = lambda\n",
        "  mu = rate * time\n",
        "  return math.exp(-mu)*(mu**(events))/math.factorial(events)\n",
        "\n",
        "poisson(3,1,2)"
      ],
      "metadata": {
        "colab": {
          "base_uri": "https://localhost:8080/"
        },
        "id": "3pEdPo7Q1EeW",
        "outputId": "377e9c74-01e5-4f53-9b74-c242dd097213"
      },
      "execution_count": null,
      "outputs": [
        {
          "output_type": "execute_result",
          "data": {
            "text/plain": [
              "0.22404180765538775"
            ]
          },
          "metadata": {},
          "execution_count": 9
        }
      ]
    },
    {
      "cell_type": "markdown",
      "source": [
        "####d."
      ],
      "metadata": {
        "id": "_sd-g52oR-OF"
      }
    },
    {
      "cell_type": "markdown",
      "source": [
        "$\\text{P}(N_1=2, N_3=6) = \\text{P}(N_1=2, (N_3-N_1)=4)$\n",
        "\n",
        "Once disjoint, they are independent and can be separated.\n",
        "\n",
        "$\\text{P}(N_1=2) * \\text{P}((N_3-N_1)=4)$\n",
        "\n",
        "The second term can be rewritten as a probability with different RV but the same distribution.\n",
        "\n",
        "$\\text{P}((N_3-N_1)=4) = \\text{P}(N_2=4)$\n",
        "\n",
        "The probability we solve for results in:\n",
        "\n",
        "$\\text{P}(N_1=2) * \\text{P}(N_2=4) = (0.224) * (0.134) = 0.0300$"
      ],
      "metadata": {
        "id": "IkIDQgHBiWfY"
      }
    },
    {
      "cell_type": "code",
      "source": [
        "p1 = poisson(3,1,2)\n",
        "p2 = poisson(3,2,4)\n",
        "p1*p2"
      ],
      "metadata": {
        "colab": {
          "base_uri": "https://localhost:8080/"
        },
        "id": "B8qz85i_4hr7",
        "outputId": "272c6066-67b1-4822-e096-81833bb2adb1"
      },
      "execution_count": null,
      "outputs": [
        {
          "output_type": "execute_result",
          "data": {
            "text/plain": [
              "0.029988582393063134"
            ]
          },
          "metadata": {},
          "execution_count": 10
        }
      ]
    },
    {
      "cell_type": "markdown",
      "source": [
        "####e."
      ],
      "metadata": {
        "id": "wJBTxNKaR_Rs"
      }
    },
    {
      "cell_type": "markdown",
      "source": [
        "$\\text{P}(N_1=2|N_3=6)$\n",
        "\n",
        "There are a few ways to go about this. First we will rewrite and split up the conditional probability.\n",
        "\n",
        "$\\text{P}(N_1=2|N_3=6) = \\frac{\\text{P}(N_1=2,N_3=6)}{\\text{P}(N_3=6)} = \\frac{\\text{P}(N_1=2,(N_3-N_1)=4)}{\\text{P}(N_3=6)} = \\frac{\\text{P}(N_1=2)*\\text{P}(N_2=4)}{\\text{P}(N_3=6)} = \\frac{(0.224)*(0.134)}{(0.091)} = 0.3298$\n",
        "\n",
        "The second is that we can use properties of the Poisson Process and rewrite this as a calculation using the binomial distribution.\n",
        "\n",
        "$P(X = k) = \\binom{n}{k} \\cdot p^k \\cdot (1 - p)^{n - k}$\n",
        "\n",
        "Where n is the total events from the given, k is the events from the probability of interest, and p is the ratio of times.\n",
        "\n",
        "$P(X = 2) = \\binom{6}{2} \\cdot (1/3)^2 \\cdot (1 - (1/3))^{6 - 2} = 0.3292$"
      ],
      "metadata": {
        "id": "df1vJAPDk-GC"
      }
    },
    {
      "cell_type": "code",
      "source": [
        "p3 = poisson(3,3,6)\n",
        "p1*p2/p3"
      ],
      "metadata": {
        "colab": {
          "base_uri": "https://localhost:8080/"
        },
        "id": "v0_PscDszgpD",
        "outputId": "b5a1cf90-f044-4d7d-a93e-b331fe7d0d5f"
      },
      "execution_count": null,
      "outputs": [
        {
          "output_type": "execute_result",
          "data": {
            "text/plain": [
              "0.3292181069958848"
            ]
          },
          "metadata": {},
          "execution_count": 13
        }
      ]
    },
    {
      "cell_type": "code",
      "source": [
        "from scipy.stats import binom\n",
        "\n",
        "n = 6  # number of trials\n",
        "p = 1/3  # probability of success\n",
        "k = 2   # number of successes\n",
        "\n",
        "# Calculate the PMF of the binomial distribution\n",
        "pmf_value = binom.pmf(k, n, p)\n",
        "\n",
        "print(\"PMF value:\", pmf_value)\n"
      ],
      "metadata": {
        "colab": {
          "base_uri": "https://localhost:8080/"
        },
        "id": "WH_iYOq9zVlw",
        "outputId": "87968a56-2850-4c94-ec24-24cfd16915d0"
      },
      "execution_count": null,
      "outputs": [
        {
          "output_type": "stream",
          "name": "stdout",
          "text": [
            "PMF value: 0.3292181069958847\n"
          ]
        }
      ]
    },
    {
      "cell_type": "markdown",
      "source": [
        "####f."
      ],
      "metadata": {
        "id": "D77qEZIuSErR"
      }
    },
    {
      "cell_type": "markdown",
      "source": [
        "$\\text{P}(N_3=6|N_1=2) = \\frac{\\text{P}(N_3=6,N_1=2)}{\\text{P}(N_1=2)} = \\frac{\\text{P}((N_3-N_1)=4)*\\text{P}(N_1=2)}{\\text{P}(N_1=2)} = \\text{P}(N_2=4) = 0.134$"
      ],
      "metadata": {
        "id": "DqjZfdMZ5Ezi"
      }
    },
    {
      "cell_type": "code",
      "source": [
        "p2"
      ],
      "metadata": {
        "colab": {
          "base_uri": "https://localhost:8080/"
        },
        "id": "GAyiSJ8U74Hi",
        "outputId": "bbbf8a41-4b8e-48f8-cbee-eb94069897c5"
      },
      "execution_count": null,
      "outputs": [
        {
          "output_type": "execute_result",
          "data": {
            "text/plain": [
              "0.13385261753998337"
            ]
          },
          "metadata": {},
          "execution_count": 14
        }
      ]
    },
    {
      "cell_type": "markdown",
      "source": [
        "####g."
      ],
      "metadata": {
        "id": "255EWVYOSJg3"
      }
    },
    {
      "cell_type": "markdown",
      "source": [
        "$\\text{E}[N_{15}|N_{10}=8]$"
      ],
      "metadata": {
        "id": "VMoVZ-zX8GEW"
      }
    },
    {
      "cell_type": "markdown",
      "source": [
        "$E[N(15) | N(10) = 8] = E[N(15) - N(10) + N(10) | N(10) = 8]$\n",
        "\n",
        "$E[N(15) - N(10) | N(10) = 8] + E[N(10) | N(10) = 8]$\n",
        "\n",
        "$ E[N(10) | N(10) = 8] = 8$\n",
        "\n",
        "$E[N(15) - N(10) | N(10) = 8] = E[N(15) - N(10)] = E[N(5)]$\n",
        "\n",
        "$E[N(5)] + 8 = \\lambda t +8 = (3)(5)+8 = 23$"
      ],
      "metadata": {
        "id": "n_zHVZi3Y0hG"
      }
    },
    {
      "cell_type": "markdown",
      "source": [
        "####h."
      ],
      "metadata": {
        "id": "DJCGUYVTSK2f"
      }
    },
    {
      "cell_type": "markdown",
      "source": [
        "$\\text{E}[N_{10}|N_{15}=8]$"
      ],
      "metadata": {
        "id": "Ee45R1vO8Ihg"
      }
    },
    {
      "cell_type": "markdown",
      "source": [
        "you know there is 8 events by 15, so then the distribution becomes uniform over the time period for the events. Therefore:\n",
        "\n",
        "$\\text{E}[N_{10}|N_{15}=8] = \\frac{10}{15}*8 = 5.\\bar{33}$"
      ],
      "metadata": {
        "id": "_eGYPpyyaNuk"
      }
    },
    {
      "cell_type": "markdown",
      "source": [
        "####i."
      ],
      "metadata": {
        "id": "iCY6Rgs4SMRx"
      }
    },
    {
      "cell_type": "markdown",
      "source": [
        "$\\text{Cov}(N_{10}, N_{15})$"
      ],
      "metadata": {
        "id": "ojtrH8Kq8LNk"
      }
    },
    {
      "cell_type": "markdown",
      "source": [
        "$\\text{Cov}(N_{10}, N_{15}) = \\text{Cov}(N_{10}, N_{15}-N_{10}+N_{10})$\n",
        "\n",
        "$\\text{Cov}(N_{10}, N_{15}-N_{10}) + \\text{Cov}(N_{10}, N_{10})$\n",
        "\n",
        "Covariance of two independent things is 0 and convariance of the same variable is variance of that variable.\n",
        "\n",
        "$0 + \\text{Var}(N_{10})$\n",
        "\n",
        "Mean and Variance of a poisson process are both $\\mu  = \\lambda t$\n",
        "\n",
        "$\\text{Cov}(N_{10}, N_{15}) = 10t = 10(3) = 30$"
      ],
      "metadata": {
        "id": "bKpyXNMOasBd"
      }
    },
    {
      "cell_type": "markdown",
      "source": [
        "####j."
      ],
      "metadata": {
        "id": "DwjfdBhJSN0E"
      }
    },
    {
      "cell_type": "markdown",
      "source": [
        "$\\text{Corr}(N_{10}, N_{15})$"
      ],
      "metadata": {
        "id": "cG2dAiUy8Nfa"
      }
    },
    {
      "cell_type": "markdown",
      "source": [
        "$\\text{Corr}(N_{10}, N_{15}) = \\frac{\\text{Cov}(N_{10}, N_{15})}{\\sqrt{\\text{Var}(N_{10})\\text{Var}(N_{15})}} = \\frac{30}{\\sqrt{\\lambda^2(10)(15)}} = $"
      ],
      "metadata": {
        "id": "umrDbucgdOvg"
      }
    },
    {
      "cell_type": "code",
      "source": [
        "import math\n",
        "corr = 30/(math.sqrt((3*3)*(10)*(15)))\n",
        "corr"
      ],
      "metadata": {
        "id": "1tVa-8SQeOMq",
        "outputId": "69498a72-3304-45a1-d7ee-f08a7a5abca4",
        "colab": {
          "base_uri": "https://localhost:8080/"
        }
      },
      "execution_count": 4,
      "outputs": [
        {
          "output_type": "execute_result",
          "data": {
            "text/plain": [
              "0.8164965809277259"
            ]
          },
          "metadata": {},
          "execution_count": 4
        }
      ]
    },
    {
      "cell_type": "markdown",
      "source": [
        "###2."
      ],
      "metadata": {
        "id": "NnOccgJbXbpb"
      }
    },
    {
      "cell_type": "markdown",
      "source": [
        "Poisson process with mean rate 1.5 spam emails per minute.\n",
        "\n",
        "$\\lambda = 1.5$"
      ],
      "metadata": {
        "id": "wNyETEqBYG3c"
      }
    },
    {
      "cell_type": "markdown",
      "source": [
        "####a."
      ],
      "metadata": {
        "id": "T7-nYFYaSdJp"
      }
    },
    {
      "cell_type": "code",
      "source": [
        "poisson(1.5,2,4)"
      ],
      "metadata": {
        "id": "M2h6vWYPY1u9",
        "outputId": "4f3642c0-85d5-4a83-b5bb-7d4f6566bbe4",
        "colab": {
          "base_uri": "https://localhost:8080/"
        }
      },
      "execution_count": null,
      "outputs": [
        {
          "output_type": "execute_result",
          "data": {
            "text/plain": [
              "0.16803135574154082"
            ]
          },
          "metadata": {},
          "execution_count": 15
        }
      ]
    },
    {
      "cell_type": "markdown",
      "source": [
        "$\\text{P}(N_2=4) = 0.168$"
      ],
      "metadata": {
        "id": "ILByDPZoYpc7"
      }
    },
    {
      "cell_type": "markdown",
      "source": [
        "####b."
      ],
      "metadata": {
        "id": "VCJ-r6CDSdJq"
      }
    },
    {
      "cell_type": "markdown",
      "source": [
        "might be a better/different way to write this?\n",
        "otherwise fill in t and solve?\n",
        "\n",
        "$\\text{P}(W_2>3+t|W_1=t-2)$"
      ],
      "metadata": {
        "id": "VUz_6W6EZlMg"
      }
    },
    {
      "cell_type": "markdown",
      "source": [
        "####c."
      ],
      "metadata": {
        "id": "V8xIFTVDSdJr"
      }
    },
    {
      "cell_type": "code",
      "source": [
        "def exponential_gt(rate, wait):\n",
        "  return math.exp(-rate*wait)\n",
        "\n",
        "def exponential_lte(rate, wait):\n",
        "  return 1 - math.exp(-rate*wait)"
      ],
      "metadata": {
        "id": "B_qH1Lgggchx"
      },
      "execution_count": null,
      "outputs": []
    },
    {
      "cell_type": "code",
      "source": [
        "exponential_gt(1.5,3)*exponential_lte(1.5,2)"
      ],
      "metadata": {
        "id": "WEIsexOMhOEm",
        "outputId": "899fbb23-a30f-4f2b-e72c-30103058316d",
        "colab": {
          "base_uri": "https://localhost:8080/"
        }
      },
      "execution_count": null,
      "outputs": [
        {
          "output_type": "execute_result",
          "data": {
            "text/plain": [
              "0.010555912168094473"
            ]
          },
          "metadata": {},
          "execution_count": 17
        }
      ]
    },
    {
      "cell_type": "markdown",
      "source": [
        "$\\text{P}(W>3, W<5) = \\text{P}(W<5|W>3)\\text{P}(W>3) = \\text{P}(W<2)\\text{P}(W>3) = 0.011$\n",
        "\n",
        "should it be like this or are they indepenent so you can separate them fromt the beginning?"
      ],
      "metadata": {
        "id": "QEaYyV4-bOnZ"
      }
    },
    {
      "cell_type": "markdown",
      "source": [
        "####d."
      ],
      "metadata": {
        "id": "blmLbIPTSdJs"
      }
    },
    {
      "cell_type": "code",
      "source": [
        "poisson(1.5,2,1)"
      ],
      "metadata": {
        "id": "waKMOcPjiUTb",
        "outputId": "391355a4-4e73-470f-95ff-254872ac8f9d",
        "colab": {
          "base_uri": "https://localhost:8080/"
        }
      },
      "execution_count": null,
      "outputs": [
        {
          "output_type": "execute_result",
          "data": {
            "text/plain": [
              "0.14936120510359183"
            ]
          },
          "metadata": {},
          "execution_count": 18
        }
      ]
    },
    {
      "cell_type": "markdown",
      "source": [
        "$\\text{P}((N_5 - N_3) = 1) = \\text{P}(N_2 = 1) = 0.149$"
      ],
      "metadata": {
        "id": "wtB6JmbobsGp"
      }
    },
    {
      "cell_type": "markdown",
      "source": [
        "####e."
      ],
      "metadata": {
        "id": "i74AwUwBSdJt"
      }
    },
    {
      "cell_type": "code",
      "source": [
        "binom.pmf(1, 1, 1/5)"
      ],
      "metadata": {
        "id": "bgJJYr0-jK67",
        "outputId": "d3f6aff9-721e-4b8b-d6d4-e1916c1de1e6",
        "colab": {
          "base_uri": "https://localhost:8080/"
        }
      },
      "execution_count": null,
      "outputs": [
        {
          "output_type": "execute_result",
          "data": {
            "text/plain": [
              "0.2"
            ]
          },
          "metadata": {},
          "execution_count": 22
        }
      ]
    },
    {
      "cell_type": "code",
      "source": [
        "1/5"
      ],
      "metadata": {
        "id": "GoJf0dInjoeS",
        "outputId": "6cd56c2c-0491-4e58-943d-db9e522f17fd",
        "colab": {
          "base_uri": "https://localhost:8080/"
        }
      },
      "execution_count": null,
      "outputs": [
        {
          "output_type": "execute_result",
          "data": {
            "text/plain": [
              "0.2"
            ]
          },
          "metadata": {},
          "execution_count": 23
        }
      ]
    },
    {
      "cell_type": "markdown",
      "source": [
        "$\\text{P}(N_1 = 1|N_5 = 1)$"
      ],
      "metadata": {
        "id": "WoG44OMhcHaW"
      }
    },
    {
      "cell_type": "markdown",
      "source": [
        "####f."
      ],
      "metadata": {
        "id": "xqmA2qAUSdJt"
      }
    },
    {
      "cell_type": "code",
      "source": [
        "binom.pmf(2, 5, 1/3)"
      ],
      "metadata": {
        "id": "dV9Y8OMfjrHO",
        "outputId": "7ec59a73-bf4e-43fb-e38b-c1f1ef74086b",
        "colab": {
          "base_uri": "https://localhost:8080/"
        }
      },
      "execution_count": null,
      "outputs": [
        {
          "output_type": "execute_result",
          "data": {
            "text/plain": [
              "0.3292181069958849"
            ]
          },
          "metadata": {},
          "execution_count": 24
        }
      ]
    },
    {
      "cell_type": "markdown",
      "source": [
        "$\\text{P}(N_1 = 2|N_3 = 5)$"
      ],
      "metadata": {
        "id": "qj1apeI1cj_t"
      }
    },
    {
      "cell_type": "markdown",
      "source": [
        "---\n",
        "\n",
        "## Reflection"
      ],
      "metadata": {
        "id": "8tVMmKgxXWdC"
      }
    },
    {
      "cell_type": "markdown",
      "source": [
        "With each Practice Problem submission, you should also take a few minutes to reflect on the practice problems and related material and thoughtfully respond to the following.\n",
        "\n",
        "1. Write a sentence or two summarizing - in your own words - one big idea from this material.\n",
        "2. Describe one particular aspect of this material that you found challenging and why. Then describe how you dealt with the challenge, or what you can do to deal with the challenge.\n",
        "3. Write at least one specific question you have about this material. I strongly encourage you to post your questions directly in Discord as that's where I'll respond to questions. That is, if you really want an answer to your question - which I hope you do! - please post the question directly in Discord."
      ],
      "metadata": {
        "id": "XDBX6FZlXZ1N"
      }
    },
    {
      "cell_type": "markdown",
      "source": [
        "I won't lie, this one kicked my butt a little bit. I feel it was a good practice though and that I got to get my hands dirty with the material. Some of the stuff I was shakey on before definitly feels more solid now. I struggled with 1.g-j and I asked about it in the discord. I also struggled with setting up some of the problems from 2."
      ],
      "metadata": {
        "id": "COQz4qEBXaq3"
      }
    }
  ]
}