{
  "nbformat": 4,
  "nbformat_minor": 0,
  "metadata": {
    "colab": {
      "provenance": [],
      "include_colab_link": true
    },
    "kernelspec": {
      "name": "python3",
      "display_name": "Python 3"
    },
    "language_info": {
      "name": "python"
    }
  },
  "cells": [
    {
      "cell_type": "markdown",
      "metadata": {
        "id": "view-in-github",
        "colab_type": "text"
      },
      "source": [
        "<a href=\"https://colab.research.google.com/github/NRJaggers/Applied-Stochastic-Processes/blob/main/PracticeProblems/Exponential_Distributions.ipynb\" target=\"_parent\"><img src=\"https://colab.research.google.com/assets/colab-badge.svg\" alt=\"Open In Colab\"/></a>"
      ]
    },
    {
      "cell_type": "markdown",
      "source": [
        "#Exponential Distributions"
      ],
      "metadata": {
        "id": "lwN5bYfDW66u"
      }
    },
    {
      "cell_type": "markdown",
      "source": [
        "---\n",
        "\n",
        "## Prompt"
      ],
      "metadata": {
        "id": "Bh1go0uHXDqq"
      }
    },
    {
      "cell_type": "markdown",
      "source": [
        "Original Prompt can be found [here](https://bookdown.org/kevin_davisross/applied-stochastic-processes/pp-exponential.html). A copy of the prompt  can be found on github under [/PracticeProblems/Prompts](https://github.com/NRJaggers/Applied-Stochastic-Processes/tree/main/PracticeProblems/Prompts) along with completed exercises under [/PracticeProblems](https://github.com/NRJaggers/Applied-Stochastic-Processes/tree/main/PracticeProblems)."
      ],
      "metadata": {
        "id": "DJpcnN9AXHGQ"
      }
    },
    {
      "cell_type": "markdown",
      "source": [
        "---\n",
        "\n",
        "## Problems"
      ],
      "metadata": {
        "id": "GXUWHhYNXK3F"
      }
    },
    {
      "cell_type": "markdown",
      "source": [
        "$\n",
        "E(X) = 10 \\qquad \\lambda = 1/10 \\qquad X \\sim \\text{Exponential}(\\lambda)\n",
        "$\n",
        "\n",
        "$\n",
        "E(Y) = 20 \\qquad \\lambda = 1/20 \\qquad Y \\sim \\text{Exponential}(\\lambda)\n",
        "$\n",
        "\n",
        "$\n",
        "L=\\max(X, Y) - \\min(X, Y)\n",
        "$"
      ],
      "metadata": {
        "id": "DscjOK30V87F"
      }
    },
    {
      "cell_type": "markdown",
      "source": [
        "###1."
      ],
      "metadata": {
        "id": "RXCvu0k9XNzE"
      }
    },
    {
      "cell_type": "markdown",
      "source": [
        "####a."
      ],
      "metadata": {
        "id": "qlDYPD3KUwNn"
      }
    },
    {
      "cell_type": "markdown",
      "source": [
        "$\\text{P}(L > 15 | Y > X) = \\text{P}(Y > 15 + x| X = x) = \\text{P}(Y > 15)$"
      ],
      "metadata": {
        "id": "byNpyVpgYi3o"
      }
    },
    {
      "cell_type": "code",
      "source": [
        "import math\n",
        "\n",
        "P_Y = math.exp(-(1/20)*15)\n",
        "print(P_Y)"
      ],
      "metadata": {
        "id": "dehlBaLMpqln",
        "outputId": "765d5170-8e28-4cc2-dac3-5f89529d8209",
        "colab": {
          "base_uri": "https://localhost:8080/"
        }
      },
      "execution_count": 1,
      "outputs": [
        {
          "output_type": "stream",
          "name": "stdout",
          "text": [
            "0.4723665527410147\n"
          ]
        }
      ]
    },
    {
      "cell_type": "markdown",
      "source": [
        "####b."
      ],
      "metadata": {
        "id": "9d38FbhVU1EL"
      }
    },
    {
      "cell_type": "markdown",
      "source": [
        "$\\text{P}(L > 15 | X > Y) = \\text{P}(X > 15 + y| Y = y) = \\text{P}(X > 15)$"
      ],
      "metadata": {
        "id": "dLJd-36aYjYX"
      }
    },
    {
      "cell_type": "code",
      "source": [
        "P_X = math.exp(-(1/10)*15)\n",
        "print(P_X)"
      ],
      "metadata": {
        "id": "HUAOUgwgprEX",
        "outputId": "413d2853-2250-4be9-c8c4-8b31b19df8f4",
        "colab": {
          "base_uri": "https://localhost:8080/"
        }
      },
      "execution_count": 2,
      "outputs": [
        {
          "output_type": "stream",
          "name": "stdout",
          "text": [
            "0.22313016014842982\n"
          ]
        }
      ]
    },
    {
      "cell_type": "markdown",
      "source": [
        "####c."
      ],
      "metadata": {
        "id": "a-AKbkOhU2le"
      }
    },
    {
      "cell_type": "markdown",
      "source": [
        "$\\text{P}(L > 15)$"
      ],
      "metadata": {
        "id": "wji368jgYATu"
      }
    },
    {
      "cell_type": "code",
      "source": [
        "P = P_X + P_Y\n",
        "\n",
        "print(P)"
      ],
      "metadata": {
        "id": "-TIxBk1spp1k",
        "outputId": "49269f0d-52a5-427d-8c9b-7e09bdf4dabf",
        "colab": {
          "base_uri": "https://localhost:8080/"
        }
      },
      "execution_count": 3,
      "outputs": [
        {
          "output_type": "stream",
          "name": "stdout",
          "text": [
            "0.6954967128894445\n"
          ]
        }
      ]
    },
    {
      "cell_type": "markdown",
      "source": [
        "###2."
      ],
      "metadata": {
        "id": "NnOccgJbXbpb"
      }
    },
    {
      "cell_type": "markdown",
      "source": [
        "Laptop: <br>\n",
        "$\n",
        "E(L) = 6 \\qquad \\lambda = 1/6 \\qquad L \\sim \\text{Exponential}(\\lambda)\n",
        "$\n",
        "\n",
        "Cell Phone: <br>\n",
        "$\n",
        "E(C) = 7 \\qquad \\lambda = 1/7 \\qquad C \\sim \\text{Exponential}(\\lambda)\n",
        "$\n",
        "\n",
        "Tablet: <br>\n",
        "$\n",
        "E(T) = 9 \\qquad \\lambda = 1/9 \\qquad T \\sim \\text{Exponential}(\\lambda)\n",
        "$\n",
        "\n",
        "All independent"
      ],
      "metadata": {
        "id": "SaX3DUc1UeTs"
      }
    },
    {
      "cell_type": "markdown",
      "source": [
        "####a."
      ],
      "metadata": {
        "id": "HI4XRFnuUxAr"
      }
    },
    {
      "cell_type": "markdown",
      "source": [
        "$\\text{P}(L>5, C>5, T>5) = \\text{P}(L>5)*\\text{P}(C>5)*\\text{P}(T>5)$"
      ],
      "metadata": {
        "id": "6l9bFzjxVOKQ"
      }
    },
    {
      "cell_type": "code",
      "source": [
        "#probability all 3 last 5 hours\n",
        "import math\n",
        "\n",
        "lambda_L = 1/6\n",
        "lambda_C = 1/7\n",
        "lambda_T = 1/9\n",
        "\n",
        "P_L = math.exp(-lambda_L*5)\n",
        "P_C = math.exp(-lambda_C*5)\n",
        "P_T = math.exp(-lambda_T*5)\n",
        "\n",
        "print(P_L , P_C , P_T)\n",
        "\n",
        "P = P_L * P_C * P_T\n",
        "\n",
        "print(P)"
      ],
      "metadata": {
        "id": "bELPN7cVVoBo",
        "outputId": "2117b4a3-1f62-4039-d52c-a4b70de0e000",
        "colab": {
          "base_uri": "https://localhost:8080/"
        }
      },
      "execution_count": null,
      "outputs": [
        {
          "output_type": "stream",
          "name": "stdout",
          "text": [
            "0.43459820850707825 0.48954165955695317 0.5737534207374327\n",
            "0.12206829409902945\n"
          ]
        }
      ]
    },
    {
      "cell_type": "markdown",
      "source": [
        "####b."
      ],
      "metadata": {
        "id": "iXYwRftvU53P"
      }
    },
    {
      "cell_type": "code",
      "source": [
        "#probability that laptop is first to run out\n",
        "lambda_total = lambda_L + lambda_C + lambda_T\n",
        "\n",
        "P_L = (lambda_L)/(lambda_total)\n",
        "\n",
        "print(\"Laptop will run out first with probability {:.2f}%\".format(P_L*100))"
      ],
      "metadata": {
        "id": "rTFyK6LXX4UG",
        "outputId": "72bf3b98-34d5-4acd-cbc1-ca5430f2388e",
        "colab": {
          "base_uri": "https://localhost:8080/"
        }
      },
      "execution_count": null,
      "outputs": [
        {
          "output_type": "stream",
          "name": "stdout",
          "text": [
            "Laptop will run out first with probability 39.62%\n"
          ]
        }
      ]
    },
    {
      "cell_type": "code",
      "source": [
        "#probability that laptop is first to run out\n",
        "lambda_total = lambda_L + lambda_C + lambda_T\n",
        "\n",
        "P_C = (lambda_C)/(lambda_total)\n",
        "\n",
        "print(\"Laptop will run out first with probability {:.2f}%\".format(P_C*100))"
      ],
      "metadata": {
        "id": "3ZNKvd-nYzXy",
        "outputId": "d2a1268f-3ccf-4af5-db80-a64799071f42",
        "colab": {
          "base_uri": "https://localhost:8080/"
        }
      },
      "execution_count": null,
      "outputs": [
        {
          "output_type": "stream",
          "name": "stdout",
          "text": [
            "Laptop will run out first with probability 33.96%\n"
          ]
        }
      ]
    },
    {
      "cell_type": "code",
      "source": [
        "#probability that laptop is first to run out\n",
        "lambda_total = lambda_L + lambda_C + lambda_T\n",
        "\n",
        "P_T = (lambda_T)/(lambda_total)\n",
        "\n",
        "print(\"Laptop will run out first with probability {:.2f}%\".format(P_T*100))"
      ],
      "metadata": {
        "id": "_dhbi7pmYzsN",
        "outputId": "c747b8f5-8e0b-48d7-cca5-7196d5387672",
        "colab": {
          "base_uri": "https://localhost:8080/"
        }
      },
      "execution_count": null,
      "outputs": [
        {
          "output_type": "stream",
          "name": "stdout",
          "text": [
            "Laptop will run out first with probability 26.42%\n"
          ]
        }
      ]
    },
    {
      "cell_type": "markdown",
      "source": [
        "####c."
      ],
      "metadata": {
        "id": "GFEj5O8qU6xD"
      }
    },
    {
      "cell_type": "markdown",
      "source": [
        "How long batteries last and which battery dies first are independent events. Therfore it is the product of the probabilities."
      ],
      "metadata": {
        "id": "ZpV0aAt7aWC7"
      }
    },
    {
      "cell_type": "code",
      "source": [
        "print(\"The probability that all batteries last 5 hours and the laptop is the first to die is {:.2f}%\".format(P * P_L*100))"
      ],
      "metadata": {
        "id": "Co4pkSJ4aNC7",
        "outputId": "37120b53-abf9-473d-c4b0-a1935e322fa5",
        "colab": {
          "base_uri": "https://localhost:8080/"
        }
      },
      "execution_count": null,
      "outputs": [
        {
          "output_type": "stream",
          "name": "stdout",
          "text": [
            "The probability that all batteries last 5 hours and the laptop is the first to die is 4.84%\n"
          ]
        }
      ]
    },
    {
      "cell_type": "markdown",
      "source": [
        "####d."
      ],
      "metadata": {
        "id": "OEEGfR_VU76V"
      }
    },
    {
      "cell_type": "markdown",
      "source": [
        "They are independent, so really its just the probability that all three batteries last 5 hours."
      ],
      "metadata": {
        "id": "5phfM82Ja7RF"
      }
    },
    {
      "cell_type": "code",
      "source": [
        "print(\"The probability that all batteries last 5 hours is {:.2f}%\".format(P * 100))"
      ],
      "metadata": {
        "id": "O6lQElZ8bKKl",
        "outputId": "447980a5-2ae1-4524-aafd-572bf7cb00e4",
        "colab": {
          "base_uri": "https://localhost:8080/"
        }
      },
      "execution_count": null,
      "outputs": [
        {
          "output_type": "stream",
          "name": "stdout",
          "text": [
            "The probability that all batteries last 5 hours is 12.21%\n"
          ]
        }
      ]
    },
    {
      "cell_type": "markdown",
      "source": [
        "---\n",
        "\n",
        "## Reflection"
      ],
      "metadata": {
        "id": "8tVMmKgxXWdC"
      }
    },
    {
      "cell_type": "markdown",
      "source": [
        "With each Practice Problem submission, you should also take a few minutes to reflect on the practice problems and related material and thoughtfully respond to the following.\n",
        "\n",
        "1. Write a sentence or two summarizing - in your own words - one big idea from this material.\n",
        "2. Describe one particular aspect of this material that you found challenging and why. Then describe how you dealt with the challenge, or what you can do to deal with the challenge.\n",
        "3. Write at least one specific question you have about this material. I strongly encourage you to post your questions directly in Discord as that's where I'll respond to questions. That is, if you really want an answer to your question - which I hope you do! - please post the question directly in Discord."
      ],
      "metadata": {
        "id": "XDBX6FZlXZ1N"
      }
    },
    {
      "cell_type": "markdown",
      "source": [
        "The big idea from this assignment seems to be just getting comfortable with exponential distributions again. Here we are to avoid using calculus and instead use the properties we learned and know about exponential distributions to solve the problems. I struggled with set up on the first problem. I sent a question in the discord, we shall see when I get a response."
      ],
      "metadata": {
        "id": "COQz4qEBXaq3"
      }
    }
  ]
}