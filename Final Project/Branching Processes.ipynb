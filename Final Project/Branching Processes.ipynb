{
  "nbformat": 4,
  "nbformat_minor": 0,
  "metadata": {
    "colab": {
      "provenance": [],
      "include_colab_link": true
    },
    "kernelspec": {
      "name": "python3",
      "display_name": "Python 3"
    },
    "language_info": {
      "name": "python"
    }
  },
  "cells": [
    {
      "cell_type": "markdown",
      "metadata": {
        "id": "view-in-github",
        "colab_type": "text"
      },
      "source": [
        "<a href=\"https://colab.research.google.com/github/NRJaggers/Applied-Stochastic-Processes/blob/main/Final%20Project/Branching%20Processes.ipynb\" target=\"_parent\"><img src=\"https://colab.research.google.com/assets/colab-badge.svg\" alt=\"Open In Colab\"/></a>"
      ]
    },
    {
      "cell_type": "markdown",
      "source": [
        "# Branching Processes\n",
        "\n"
      ],
      "metadata": {
        "id": "ZaewTcR4G9tP"
      }
    },
    {
      "cell_type": "markdown",
      "source": [
        "## What are Branching Processes?"
      ],
      "metadata": {
        "id": "qE3H_sr1G9eJ"
      }
    },
    {
      "cell_type": "markdown",
      "source": [
        "A **branching process** is a stochastic model used in probability theory and statistics to describe the evolution of populations or systems over time. It is often used to model phenomena such as population growth, the spread of diseases, or the lifespan of particles in physics.\n",
        "<br> <br>\n",
        "\n",
        "<center>\n",
        "<img src=\"https://github.com/NRJaggers/Applied-Stochastic-Processes/blob/main/Resources/Images/branching_gif.gif?raw=true:\" alt=\"Branching Tree Gif\" width=250>\n",
        "</center>\n",
        "\n",
        "In a branching process, individuals can give rise to offspring according to certain probabilistic rules. Each individual in the current generation can produce a random number of offspring, and the numbers of offspring produced by different individuals are typically assumed to be independent and identically distributed (i.i.d.). The distribution governing the number of offspring produced by each individual is called the offspring distribution.\n",
        "\n",
        "Branching processes are often represented using a branching tree diagram, where each node represents an individual and the branches represent their offspring. By analyzing the properties of the branching process and the offspring distribution, statisticians can make predictions about the long-term behavior of the population or system, such as the probability of extinction or the expected population size."
      ],
      "metadata": {
        "id": "BzMkSM25AWFP"
      }
    },
    {
      "cell_type": "markdown",
      "source": [
        "*Note: This notebook uses code for some visualisation, computation and simulation. In the appendix at the end you can find the installation and initialisation cells that will allow you to run the code in this notebook. Run the installation and initialisation cells in the appedix before trying to run any other code cells in the notebook.*"
      ],
      "metadata": {
        "id": "f-y-9lVdfLFd"
      }
    },
    {
      "cell_type": "markdown",
      "source": [
        "## What Can They Teach Us?"
      ],
      "metadata": {
        "id": "CvckHeZs0JVJ"
      }
    },
    {
      "cell_type": "markdown",
      "source": [
        "To find out how a branching process can be useful in making preditions, lets start by defining the parameters of a branching process. Afterwards, we can ask what significant information we can derive out of this model."
      ],
      "metadata": {
        "id": "AQKB8sHEhfu0"
      }
    },
    {
      "cell_type": "markdown",
      "source": [
        "### Definitions"
      ],
      "metadata": {
        "id": "GWwvPkSngeXh"
      }
    },
    {
      "cell_type": "markdown",
      "source": [
        "In a branching process we are concerned with the size of the population at a given time.\n",
        "\n",
        "Let $Z_t$ denote the population of the process at time $t$, where time can be either discrete or continuous and where population is discete.\n",
        "\n",
        "Also let $Z_0 = 1$.\n",
        "\n",
        "Nodes (parents) will branch (have childeren) according to a distribution refered to as the **offspring distribution**.\n",
        "\n",
        "$$\\{p_0, p_1, p_2, ... p_n\\}$$\n",
        "\n",
        "Where n is the amount of branches or offspring a node will have. Also remember the sum of these probabilities must equal 1. Every node will have the same offspring distribution and all nodes are independent from eachother.\n",
        "\n",
        "Here we can see that the amount of offspring from a node will be a random variable which we will call $Y_{t,i}$ where t is time and i is the ith member of the population at the previous time. We can now rewrite $X_t$ as the sum of all $Y_{t,i}$ for a given time.\n",
        "\n",
        "$$Z_t = Y_{t,1} + Y_{t,2} + ... + Y_{t,i}= \\sum_{i=0}^{Z_{t-1}} Y_{t,i}$$\n",
        "\n",
        "*Note: We see the Markov property here. Future generations are conditionally independent of the past given that we know the present value. In other words the population of the next generation only depends on what the current population is.*\n",
        "\n"
      ],
      "metadata": {
        "id": "Y3AA7RSQj4vm"
      }
    },
    {
      "cell_type": "markdown",
      "source": [
        "### What Questions Can we Ask?"
      ],
      "metadata": {
        "id": "axSJzUhhgqiN"
      }
    },
    {
      "cell_type": "markdown",
      "source": [
        "There are several questions we can ask and seek out answers for pertaining to this stochastic model.\n",
        "- What is the probability the population has a certain value at a certain time?\n",
        "- What is the probability the population goes extinct?\n",
        "- What is the expected size of the population at a certain time?\n",
        "- What is the total population seen across generations?\n",
        "- What is the variance of the process at a certain time?\n",
        "\n",
        "The main focus for many statisticians is the 2nd bulletpoint, the probability of extinction."
      ],
      "metadata": {
        "id": "ECmEad2kkx0s"
      }
    },
    {
      "cell_type": "markdown",
      "source": [
        "### Derivations and Results"
      ],
      "metadata": {
        "id": "ucIEYbWnbhQs"
      }
    },
    {
      "cell_type": "markdown",
      "source": [
        "*Note: It is possible to derive the formulas for the values seen in the questions above, however this is a class about application of stocastic processes so I will just give an overview of the derivations and emphasize the final results. Full derivations can be found [here](https://bookdown.org/probability/bookdown-demo/branching-processes.html#long-term-population-metrics).*"
      ],
      "metadata": {
        "id": "lI1FcbMKbkW2"
      }
    },
    {
      "cell_type": "markdown",
      "source": [
        "#### Probability"
      ],
      "metadata": {
        "id": "KvrOq8qH5ITD"
      }
    },
    {
      "cell_type": "markdown",
      "source": [
        "To find probabilities for branching processes, a new statistical tool is needed. Proability Generating Functions (PGF) are exactly what they sound like. They are functions that create probabilties for certain inputs.\n",
        "$$\\Pi_X(s) = E(s^X) = \\sum_{x = 0}^{\\infty} P(X = x)s^x$$\n",
        "\n",
        "The function here is $\\Pi$ and pertains to a discrete random variable $X$ with input $s$ which is a notekeeping variable.\n",
        "<br> <br>\n",
        "\n",
        "It can be shown that:\n",
        "$$P(X = n) = \\frac{\\Pi_X(0)^{(n)}}{n!} $$\n",
        "\n",
        "Which is a way we can calculate probabilities for different values of a random variable.\n",
        "\n"
      ],
      "metadata": {
        "id": "z7rY1_wni_Z1"
      }
    },
    {
      "cell_type": "markdown",
      "source": [
        "We can also use PGFs to derive $p_e$, the probability of extinction. This (along with the previous result) takes a good bit of math to prove and a few times reading over to get comfortable with. The final result is easier to grapple with.\n",
        "\n",
        "$$p_e = \\Pi_{X_0}(p_e)$$\n",
        "\n",
        "Here we set the extiction probability equal to the PGF of the offspring distribution, $\\Pi_{X_0}$, with the extiction probability as the input. Then we can solve for $p_e$ to find our probability.\n",
        "\n",
        "*Note: This often leads to a polynomial equation with multiple possible solutions. It can be proven that the smallest solution is the correct one. Look [here](https://bookdown.org/probability/bookdown-demo/branching-processes.html#long-term-population-metrics:~:text=Specifically%2C%20we%20can%20assert,to%20the%20equation) for more details.*"
      ],
      "metadata": {
        "id": "Kg101Vnlnniu"
      }
    },
    {
      "cell_type": "markdown",
      "source": [
        "#### Expected Value"
      ],
      "metadata": {
        "id": "ltZMmFiqra2i"
      }
    },
    {
      "cell_type": "markdown",
      "source": [
        "We may also be interested in the population at a specific time or the long term total population."
      ],
      "metadata": {
        "id": "MiuJGfYc5UBR"
      }
    },
    {
      "cell_type": "markdown",
      "source": [
        "If we let $\\mu$ be the mean of the offspring distribution then we can find the expected size of the population at time t as the following:\n",
        "\n",
        "$$\\mu_t = E(X_t) = \\mu^t$$"
      ],
      "metadata": {
        "id": "hzW37PXC5kY3"
      }
    },
    {
      "cell_type": "markdown",
      "source": [
        "To find the total population across all generations lets define a new variable $M$ that is the sum of the differnt populations.\n",
        "\n",
        "$$M_t = X_0 + X_1 + ... + X_t$$\n",
        "\n",
        "Then we can find the expected value of $M$ which results in:\n",
        "\n",
        "$$E(M_t) = 1 + \\mu + \\mu^2 + ... + \\mu^t$$"
      ],
      "metadata": {
        "id": "GWTwBt7Y8y5S"
      }
    },
    {
      "cell_type": "markdown",
      "source": [
        "#### Variance"
      ],
      "metadata": {
        "id": "MeunJXIM5QdL"
      }
    },
    {
      "cell_type": "markdown",
      "source": [
        "The variance of the population at time t is as follows:\n",
        "\n",
        "$$\\sigma_t^2 = \\mu^{t-1}\\sigma^2(1 + \\mu + \\mu^2 + ... + \\mu^{t-1})$$\n",
        "\n",
        "where $\\sigma$ is the variance of the offspring distribution.\n",
        "\n",
        "This results in a few cases based on the value of $\\mu$.\n",
        "\n",
        "$$\n",
        "\\begin{array}{|c|c|}\n",
        "\\hline\n",
        "\\mu & \\sigma^2 \\\\\n",
        "\\hline\n",
        "\\\\\n",
        "> 1 & \\text{as } t \\rightarrow \\infty;\\text{ } \\sigma_t^2 \\rightarrow \\infty \\\\\n",
        "\\\\\n",
        "= 1 & t \\cdot \\sigma^2 \\\\\n",
        "\\\\\n",
        "< 1 & \\frac{\\mu^{t - 1} \\sigma^2}{1 - \\mu} \\\\\n",
        "\\\\\n",
        "\\hline\n",
        "\\end{array}\n",
        "$$"
      ],
      "metadata": {
        "id": "rf-GUuSm5VyJ"
      }
    },
    {
      "cell_type": "markdown",
      "source": [
        "## Application of Branching Processes"
      ],
      "metadata": {
        "id": "V9lWqHu31N99"
      }
    },
    {
      "cell_type": "markdown",
      "source": [
        "A section that has examples on how to use/find values talked about above."
      ],
      "metadata": {
        "id": "1qiAIUwJ1aVk"
      }
    },
    {
      "cell_type": "markdown",
      "source": [
        "Now that we have established what a branching process is, some of its properties and some of its values of interest, lets take some time to apply what we have just talked about."
      ],
      "metadata": {
        "id": "o1T0qdi4PL3l"
      }
    },
    {
      "cell_type": "markdown",
      "source": [
        "Blurb about binomial distribution and finding its PGF and offspring distribution and link to bookdown..."
      ],
      "metadata": {
        "id": "3yHKQfRaTjln"
      }
    },
    {
      "cell_type": "code",
      "source": [
        "import numpy as np\n",
        "import pandas as pd\n",
        "import matplotlib.pyplot as plt\n",
        "import scipy.stats\n",
        "\n",
        "#------------------------------------------------------------------------------#\n",
        "#---USER EXPLORATION HERE!!!---#\n",
        "\n",
        "# Define parameters\n",
        "n = 2  # Number of trials\n",
        "p = 0.5  # Probability of success\n",
        "\n",
        "#------------------------------------------------------------------------------#\n",
        "\n",
        "\n",
        "# Generate random numbers from the binomial distribution\n",
        "random_numbers = scipy.stats.binom.rvs(n, p, size=1000)\n",
        "\n",
        "# Calculate Distribution\n",
        "values, counts = np.unique(random_numbers, return_counts=True)\n",
        "distribution = counts / len(random_numbers)\n",
        "distribution_df = pd.DataFrame({'Number of Successes': values, 'Probability': distribution})\n",
        "\n",
        "\n",
        "# Plot the histogram of the random numbers\n",
        "plt.hist(random_numbers, bins=np.arange(n+2)-0.5, density=True)\n",
        "plt.xticks(np.arange(n+1))\n",
        "plt.xlabel('Number of Successes')\n",
        "plt.ylabel('Probability')\n",
        "plt.title('Binomial Distribution')\n",
        "plt.show()\n",
        "\n",
        "print(distribution_df)"
      ],
      "metadata": {
        "id": "dBhXWqBOVATc",
        "outputId": "dd2893c5-a6ff-4855-aa0b-871506451af4",
        "colab": {
          "base_uri": "https://localhost:8080/",
          "height": 541
        }
      },
      "execution_count": 32,
      "outputs": [
        {
          "output_type": "display_data",
          "data": {
            "text/plain": [
              "<Figure size 640x480 with 1 Axes>"
            ],
            "image/png": "[encoded data removed]"
          },
          "metadata": {}
        },
        {
          "output_type": "stream",
          "name": "stdout",
          "text": [
            "   Number of Successes  Probability\n",
            "0                    0        0.232\n",
            "1                    1        0.502\n",
            "2                    2        0.266\n"
          ]
        }
      ]
    },
    {
      "cell_type": "code",
      "source": [
        "import sympy as sp\n",
        "\n",
        "# Number of trials\n",
        "n = 2\n",
        "\n",
        "# Define symbols\n",
        "p = sp.symbols('p')\n",
        "q = sp.symbols('q')\n",
        "s = sp.symbols('s')\n",
        "\n",
        "# Define the PGF\n",
        "pgf_Binom = (q+p*s)**n - s\n",
        "\n",
        "# Solve the equation\n",
        "solutions = sp.solve(pgf_Binom, s)\n",
        "\n",
        "print(\"Solutions:\", solutions)\n",
        "\n",
        "#simplifications\n",
        "q_new = 1 - p\n",
        "solution_with_subs = solutions[0].subs(q, q_new)\n",
        "print(\"Solution with q replaced by 1 - p:\", solution_with_subs)\n",
        "expanded_solution = sp.expand(solution_with_subs)\n",
        "print(\"Expanded solution:\", expanded_solution)\n",
        "simplified_solution = sp.simplify(expanded_solution)\n",
        "print(\"Simplified solution:\", simplified_solution)\n"
      ],
      "metadata": {
        "id": "LZEtNlZXVXcE",
        "outputId": "a64f31fa-8ab1-427e-f825-94b93a84e02b",
        "colab": {
          "base_uri": "https://localhost:8080/"
        }
      },
      "execution_count": 38,
      "outputs": [
        {
          "output_type": "stream",
          "name": "stdout",
          "text": [
            "Solutions: [(-2*p*q - sqrt(-4*p*q + 1) + 1)/(2*p**2), (-2*p*q + sqrt(-4*p*q + 1) + 1)/(2*p**2)]\n",
            "Solution with q replaced by 1 - p: (-2*p*(1 - p) - sqrt(-4*p*(1 - p) + 1) + 1)/(2*p**2)\n",
            "Expanded solution: 1 - 1/p - sqrt(4*p**2 - 4*p + 1)/(2*p**2) + 1/(2*p**2)\n",
            "Simplified solution: (p**2 - p - sqrt(4*p**2 - 4*p + 1)/2 + 1/2)/p**2\n"
          ]
        }
      ]
    },
    {
      "cell_type": "markdown",
      "source": [
        "## Example Problems"
      ],
      "metadata": {
        "id": "IVRC5t311qx5"
      }
    },
    {
      "cell_type": "markdown",
      "source": [
        "other stuff"
      ],
      "metadata": {
        "id": "Ow9pXiuZDnZJ"
      }
    },
    {
      "cell_type": "markdown",
      "source": [
        "Analytical Question/Solution"
      ],
      "metadata": {
        "id": "hA4E2r2ZDvBB"
      }
    },
    {
      "cell_type": "markdown",
      "source": [
        "Simulation Question/Solution"
      ],
      "metadata": {
        "id": "lMe1ik9cD3af"
      }
    },
    {
      "cell_type": "markdown",
      "source": [
        "Discrete Question/Solution"
      ],
      "metadata": {
        "id": "pXfT6ajwD50Q"
      }
    },
    {
      "cell_type": "markdown",
      "source": [
        "Continuous Question/Solution"
      ],
      "metadata": {
        "id": "LaUU-09zD94k"
      }
    },
    {
      "cell_type": "markdown",
      "source": [
        "## Conclusion"
      ],
      "metadata": {
        "id": "tpgf3Ko1e2ar"
      }
    },
    {
      "cell_type": "markdown",
      "source": [
        "Concluding Remarks and introduce variations.\n",
        "\n",
        "mention the many variations at some point. Maybe at the begining when getting definitions out, maybe at the end as a conclusion for further research if interested. Variations you can find on wikepidia and on some of the books/articles you found"
      ],
      "metadata": {
        "id": "qLgWxSmU2Av4"
      }
    },
    {
      "cell_type": "markdown",
      "source": [
        "## References"
      ],
      "metadata": {
        "id": "FJYyDTDue6VR"
      }
    },
    {
      "cell_type": "markdown",
      "source": [
        "1. https://en.wikipedia.org/wiki/Branching_process\n",
        "2. https://bookdown.org/probability/bookdown-demo/branching-processes.html#long-term-population-metrics\n",
        "3. https://www.youtube.com/playlist?list=PLRogqfr-vZMfvcLjjmXnb0wk6MPTzhph-"
      ],
      "metadata": {
        "id": "6iWb5LP31-ZY"
      }
    },
    {
      "cell_type": "markdown",
      "source": [
        "## Appendix"
      ],
      "metadata": {
        "id": "ttZrUhKUejQ_"
      }
    },
    {
      "cell_type": "markdown",
      "source": [
        "### Installations"
      ],
      "metadata": {
        "id": "Mh6mWcqvepI0"
      }
    },
    {
      "cell_type": "code",
      "source": [],
      "metadata": {
        "id": "enAxwaw1es7m"
      },
      "execution_count": null,
      "outputs": []
    },
    {
      "cell_type": "markdown",
      "source": [
        "### Initialisation"
      ],
      "metadata": {
        "id": "EeKGBBvPeuNf"
      }
    },
    {
      "cell_type": "code",
      "source": [],
      "metadata": {
        "id": "iIw2sDBMmRSX"
      },
      "execution_count": null,
      "outputs": []
    }
  ]
}