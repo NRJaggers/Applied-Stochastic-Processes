{
  "nbformat": 4,
  "nbformat_minor": 0,
  "metadata": {
    "colab": {
      "provenance": [],
      "include_colab_link": true
    },
    "kernelspec": {
      "name": "python3",
      "display_name": "Python 3"
    },
    "language_info": {
      "name": "python"
    }
  },
  "cells": [
    {
      "cell_type": "markdown",
      "metadata": {
        "id": "view-in-github",
        "colab_type": "text"
      },
      "source": [
        "<a href=\"https://colab.research.google.com/github/NRJaggers/Applied-Stochastic-Processes/blob/main/Final%20Project/Branching%20Processes.ipynb\" target=\"_parent\"><img src=\"https://colab.research.google.com/assets/colab-badge.svg\" alt=\"Open In Colab\"/></a>"
      ]
    },
    {
      "cell_type": "markdown",
      "source": [
        "# Branching Processes\n",
        "\n"
      ],
      "metadata": {
        "id": "ZaewTcR4G9tP"
      }
    },
    {
      "cell_type": "markdown",
      "source": [
        "## What are Branching Processes?"
      ],
      "metadata": {
        "id": "qE3H_sr1G9eJ"
      }
    },
    {
      "cell_type": "markdown",
      "source": [
        "A **branching process** is a stochastic model used in probability theory and statistics to describe the evolution of populations or systems over time. It is often used to model phenomena such as population growth, the spread of diseases, or the lifespan of particles in physics.\n",
        "<br> <br>\n",
        "\n",
        "<center>\n",
        "<img src=\"https://github.com/NRJaggers/Applied-Stochastic-Processes/blob/main/Resources/Images/branching_gif.gif?raw=true:\" alt=\"Branching Tree Gif\" width=250>\n",
        "</center>\n",
        "\n",
        "In a branching process, individuals can give rise to offspring according to certain probabilistic rules. Each individual in the current generation can produce a random number of offspring, and the numbers of offspring produced by different individuals are typically assumed to be independent and identically distributed (i.i.d.). The distribution governing the number of offspring produced by each individual is called the offspring distribution.\n",
        "\n",
        "Branching processes are often represented using a branching tree diagram, where each node represents an individual and the branches represent their offspring. By analyzing the properties of the branching process and the offspring distribution, statisticians can make predictions about the long-term behavior of the population or system, such as the probability of extinction or the expected population size."
      ],
      "metadata": {
        "id": "BzMkSM25AWFP"
      }
    },
    {
      "cell_type": "markdown",
      "source": [
        "## What Can They Teach Us?"
      ],
      "metadata": {
        "id": "CvckHeZs0JVJ"
      }
    },
    {
      "cell_type": "markdown",
      "source": [
        "To find out how a branching process can be useful in making preditions, lets start by defining the parameters of a branching process. Afterwards, we can ask what significant information we can derive out of this model."
      ],
      "metadata": {
        "id": "AQKB8sHEhfu0"
      }
    },
    {
      "cell_type": "markdown",
      "source": [
        "### Definitions"
      ],
      "metadata": {
        "id": "GWwvPkSngeXh"
      }
    },
    {
      "cell_type": "markdown",
      "source": [
        "In a branching process we are concerned with the size of the population at a given time.\n",
        "\n",
        "Let $Z_t$ denote the population of the process at time $t$, where time can be either discrete or continuous and where population is discete.\n",
        "\n",
        "Also let $Z_0 = 1$.\n",
        "\n",
        "Nodes (parents) will branch (have childeren) according to a distribution refered to as the **offspring distribution**.\n",
        "\n",
        "$$\\{p_0, p_1, p_2, ... p_n\\}$$\n",
        "\n",
        "Where n is the amount of branches or offspring a node will have. Also remember the sum of these probabilities must equal 1. Every node will have the same offspring distribution and all nodes are independent from eachother.\n",
        "\n",
        "Here we can see that the amount of offspring from a node will be a random variable which we will call $Y_{t,i}$ where t is time and i is the ith member of the population at the previous time. We can now rewrite $X_t$ as the sum of all $Y_{t,i}$ for a given time.\n",
        "\n",
        "$$Z_t = Y_{t,1} + Y_{t,2} + ... + Y_{t,i}= \\sum_{i=0}^{Z_{t-1}} Y_{t,i}$$\n",
        "\n",
        "*Note: We see the Markov property here. Future generations are conditionally independent of the past given that we know the present value. In other words the population of the next generation only depends on what the current population is.*\n",
        "\n"
      ],
      "metadata": {
        "id": "Y3AA7RSQj4vm"
      }
    },
    {
      "cell_type": "markdown",
      "source": [
        "### What Questions Can we Ask?"
      ],
      "metadata": {
        "id": "axSJzUhhgqiN"
      }
    },
    {
      "cell_type": "markdown",
      "source": [
        "There are several questions we can ask and seek out answers for pertaining to this stochastic model.\n",
        "- What is the probability the population has a certain value at a certain time?\n",
        "- What is the probability the population goes extinct?\n",
        "- What is the expected size of the population at a certain time?\n",
        "- What is the total population seen across generations?\n",
        "- What is the variance of the process at a certain time?\n",
        "\n",
        "The main focus for many statisticians is the 2nd bulletpoint, the probability of extinction."
      ],
      "metadata": {
        "id": "ECmEad2kkx0s"
      }
    },
    {
      "cell_type": "markdown",
      "source": [
        "### Derivations and Results"
      ],
      "metadata": {
        "id": "ucIEYbWnbhQs"
      }
    },
    {
      "cell_type": "markdown",
      "source": [
        "*Note: It is possible to derive the formulas for the values seen in the questions above, however this is a class about application of stocastic processes so I will just give an overview of the derivations and emphasize the final results. Full derivations can be found [here](https://bookdown.org/probability/bookdown-demo/branching-processes.html#long-term-population-metrics).*"
      ],
      "metadata": {
        "id": "lI1FcbMKbkW2"
      }
    },
    {
      "cell_type": "markdown",
      "source": [
        "#### Probability"
      ],
      "metadata": {
        "id": "KvrOq8qH5ITD"
      }
    },
    {
      "cell_type": "markdown",
      "source": [
        "To find probabilities for branching processes, a new statistical tool is needed. Proability Generating Functions (PGF) are exactly what they sound like. They are functions that create probabilties for certain inputs.\n",
        "$$\\Pi_X(s) = E(s^X) = \\sum_{x = 0}^{\\infty} P(X = x)s^x$$\n",
        "\n",
        "The function here is $\\Pi$ and pertains to a discrete random variable $X$ with input $s$ which is a notekeeping variable.\n",
        "<br> <br>\n",
        "\n",
        "It can be shown that:\n",
        "$$P(X = n) = \\frac{\\Pi_X(0)^{(n)}}{n!} $$\n",
        "\n",
        "Which is a way we can calculate probabilities for different values of a random variable.\n",
        "\n"
      ],
      "metadata": {
        "id": "z7rY1_wni_Z1"
      }
    },
    {
      "cell_type": "markdown",
      "source": [
        "We can also use PGFs to derive $p_e$, the probability of extinction. This (along with the previous result) takes a good bit of math to prove and a few times reading over to get comfortable with. The final result is easier to grapple with.\n",
        "\n",
        "$$p_e = \\Pi_{X_0}(p_e)$$\n",
        "\n",
        "Here we set the extiction probability equal to the PGF of the offspring distribution, $\\Pi_{X_0}$, with the extiction probability as the input. Then we can solve for $p_e$ to find our probability.\n",
        "\n",
        "*Note: This often leads to a polynomial equation with multiple possible solutions. It can be proven that the smallest solution is the correct one. Look [here](https://bookdown.org/probability/bookdown-demo/branching-processes.html#long-term-population-metrics:~:text=Specifically%2C%20we%20can%20assert,to%20the%20equation) for more details.*"
      ],
      "metadata": {
        "id": "Kg101Vnlnniu"
      }
    },
    {
      "cell_type": "markdown",
      "source": [
        "#### Expected Value"
      ],
      "metadata": {
        "id": "ltZMmFiqra2i"
      }
    },
    {
      "cell_type": "markdown",
      "source": [
        "We may also be interested in the population at a specific time or the long term total population."
      ],
      "metadata": {
        "id": "MiuJGfYc5UBR"
      }
    },
    {
      "cell_type": "markdown",
      "source": [
        "If we let $\\mu$ be the mean of the offspring distribution then we can find the expected size of the population at time t as the following:\n",
        "\n",
        "$$\\mu_t = E(X_t) = \\mu^t$$"
      ],
      "metadata": {
        "id": "hzW37PXC5kY3"
      }
    },
    {
      "cell_type": "markdown",
      "source": [
        "To find the total population across all generations lets define a new variable $M$ that is the sum of the differnt populations.\n",
        "\n",
        "$$M_t = X_0 + X_1 + ... + X_t$$\n",
        "\n",
        "Then we can find the expected value of $M$ which results in:\n",
        "\n",
        "$$E(M_t) = 1 + \\mu + \\mu^2 + ... + \\mu^t$$"
      ],
      "metadata": {
        "id": "GWTwBt7Y8y5S"
      }
    },
    {
      "cell_type": "markdown",
      "source": [
        "#### Variance"
      ],
      "metadata": {
        "id": "MeunJXIM5QdL"
      }
    },
    {
      "cell_type": "markdown",
      "source": [
        "The variance of the population at time t is as follows:\n",
        "\n",
        "$$\\sigma_t^2 = \\mu^{t-1}\\sigma^2(1 + \\mu + \\mu^2 + ... + \\mu^{t-1})$$\n",
        "\n",
        "where $\\sigma$ is the variance of the offspring distribution.\n",
        "\n",
        "This results in a few cases based on the value of $\\mu$.\n",
        "\n",
        "$$\n",
        "\\begin{array}{|c|c|}\n",
        "\\hline\n",
        "\\mu & \\sigma^2 \\\\\n",
        "\\hline\n",
        "\\\\\n",
        "> 1 & \\text{as } t \\rightarrow \\infty;\\text{ } \\sigma_t^2 \\rightarrow \\infty \\\\\n",
        "\\\\\n",
        "= 1 & t \\cdot \\sigma^2 \\\\\n",
        "\\\\\n",
        "< 1 & \\frac{\\mu^{t - 1} \\sigma^2}{1 - \\mu} \\\\\n",
        "\\\\\n",
        "\\hline\n",
        "\\end{array}\n",
        "$$"
      ],
      "metadata": {
        "id": "rf-GUuSm5VyJ"
      }
    },
    {
      "cell_type": "markdown",
      "source": [
        "## Application of Branching Processes"
      ],
      "metadata": {
        "id": "V9lWqHu31N99"
      }
    },
    {
      "cell_type": "markdown",
      "source": [
        "Now that we have established what a branching process is, some of its properties and some of its values of interest, lets take some time to apply what we have just talked about."
      ],
      "metadata": {
        "id": "o1T0qdi4PL3l"
      }
    },
    {
      "cell_type": "markdown",
      "source": [
        "### Finding Probabilities"
      ],
      "metadata": {
        "id": "8qtVJ5Qp4ee0"
      }
    },
    {
      "cell_type": "markdown",
      "source": [
        "Blurb about binomial distribution and finding its PGF and offspring distribution and link to bookdown..."
      ],
      "metadata": {
        "id": "3yHKQfRaTjln"
      }
    },
    {
      "cell_type": "markdown",
      "source": [
        "Lets take some time to practice finding probabilities.\n",
        "\n",
        "We want to be able to find the extinction probability and random variable probabilities using PGFs. First however lets get a little refresher on the binomial distribution and how it behaves. This will help us later in our practice.\n",
        "\n",
        "Below we have a code cell where you can explore the distribution of $Bin(n,p)$ by playing around with $n$ and $p$. Feel free to play around with it, progress in the application section and come back to it to verify that values match."
      ],
      "metadata": {
        "id": "gcEvKfayPxoB"
      }
    },
    {
      "cell_type": "code",
      "source": [
        "import numpy as np\n",
        "import pandas as pd\n",
        "import matplotlib.pyplot as plt\n",
        "import scipy.stats\n",
        "\n",
        "#------------------------------------------------------------------------------#\n",
        "#---USER EXPLORATION HERE!!!---#\n",
        "\n",
        "# Define parameters\n",
        "n = 2  # Number of trials\n",
        "p = 0.5  # Probability of success\n",
        "\n",
        "#------------------------------------------------------------------------------#\n",
        "\n",
        "# Generate the distribution\n",
        "x = np.arange(0, n+1)  # Possible number of successes\n",
        "pmf = scipy.stats.binom.pmf(x, n, p)  # Probability mass function\n",
        "distribution_df = pd.DataFrame({'Number of Successes': x, 'Probability': pmf})\n",
        "\n",
        "\n",
        "# Plot the distribution\n",
        "plt.bar(x, pmf)\n",
        "plt.xlabel('Number of Successes')\n",
        "plt.ylabel('Probability')\n",
        "plt.title('Binomial Distribution Bin({}, {})'.format(n, p))\n",
        "plt.xticks(x)\n",
        "plt.grid(axis='y', linestyle='--', alpha=0.7)\n",
        "plt.show()\n",
        "\n",
        "print(distribution_df)\n",
        "\n",
        "# Find Expectec Value of Binom\n",
        "ev = 0\n",
        "for i in range(0,len(pmf)):\n",
        "  ev = ev + i*pmf[i]\n",
        "\n",
        "# n*p and ev are eqivalent\n",
        "print(\"\\nFor Binom({:d},{:0.4f}), Expected Value = {:0.4f}\".format(n,p,ev))"
      ],
      "metadata": {
        "colab": {
          "base_uri": "https://localhost:8080/",
          "height": 576
        },
        "id": "dBhXWqBOVATc",
        "outputId": "a8aafa7a-6639-4b35-c58a-7f497d47ecce"
      },
      "execution_count": 1,
      "outputs": [
        {
          "output_type": "display_data",
          "data": {
            "text/plain": [
              "<Figure size 640x480 with 1 Axes>"
            ],
            "image/png": "[encoded data removed]"
          },
          "metadata": {}
        },
        {
          "output_type": "stream",
          "name": "stdout",
          "text": [
            "   Number of Successes  Probability\n",
            "0                    0         0.25\n",
            "1                    1         0.50\n",
            "2                    2         0.25\n",
            "\n",
            "For Binom(2,0.5000), Expected Value = 1.0000\n"
          ]
        }
      ]
    },
    {
      "cell_type": "markdown",
      "source": [
        "Now we will explore how to find the probability of a certain value of a random value using a PGF.\n",
        "\n",
        "Through [this](https://bookdown.org/probability/bookdown-demo/branching-processes.html#probability-generating-functions:~:text=Let%E2%80%99s%20now%20try%20to%20calculate%20the%20PGF%20of%20a%20slightly%20more%20complicated%20distribution%3A) derivation, PGF of a $Bin(n,p)$ can be found to be:\n",
        "\n",
        "$$\\Pi_X(s) = (1 - p + p \\cdot s)^n$$\n",
        "\n",
        "We can use this in combination with the following to determine the probability of some value from a random variable.\n",
        "\n",
        "$$P(X = x) = \\frac{\\Pi_X(0)^{(x)}}{x!} $$\n",
        "\n",
        "So we are going to take the $x$th derivative of the binomial PGF with respect to $s$. Then we can plug in $0$ for $s$ and divide by the factorial. This should result in the same probability as values generated above for the binomial distribution."
      ],
      "metadata": {
        "id": "yj5tBIEiPsGF"
      }
    },
    {
      "cell_type": "code",
      "source": [
        "import sympy as sp\n",
        "import math\n",
        "\n",
        "#------------------------------------------------------------------------------#\n",
        "#---USER EXPLORATION HERE!!!---#\n",
        "\n",
        "# Number of trials\n",
        "n = 2\n",
        "\n",
        "# Probability of success\n",
        "p_val = 0.5\n",
        "q_val = 1-p_val\n",
        "\n",
        "# Random Variable value of interest\n",
        "x = 1\n",
        "\n",
        "#------------------------------------------------------------------------------#\n",
        "\n",
        "# Define symbols\n",
        "p = sp.symbols('p')\n",
        "q = sp.symbols('q')\n",
        "s = sp.symbols('s')\n",
        "\n",
        "# Define the PGF\n",
        "pgf_Binom = (q+p*s)**n\n",
        "\n",
        "# Take the derivative of the expression with respect to a variable\n",
        "derivative = sp.diff(pgf_Binom, s, x)\n",
        "# print(\"Derivative:\", derivative)\n",
        "\n",
        "# Find the factorial\n",
        "factorial = math.factorial(x)\n",
        "\n",
        "# Suppose you want to substitute specific values\n",
        "values = {p: p_val, q: q_val, s:0}\n",
        "\n",
        "# Find probability\n",
        "P_x = derivative.subs(values)/factorial\n",
        "print(\"For Binom({:d},{:0.4f}), P(X = {:d}) = {:0.4f}\".format(n,p_val,x,P_x))"
      ],
      "metadata": {
        "colab": {
          "base_uri": "https://localhost:8080/"
        },
        "id": "6xYKluHptEfg",
        "outputId": "1cf142e3-1502-45a3-e999-8a659861eaaa"
      },
      "execution_count": 2,
      "outputs": [
        {
          "output_type": "stream",
          "name": "stdout",
          "text": [
            "For Binom(2,0.5000), P(X = 1) = 0.5000\n"
          ]
        }
      ]
    },
    {
      "cell_type": "markdown",
      "source": [
        "Lastly for probability, we can explore how to find the probability of extinction $p_e$.\n",
        "\n",
        "As a reminder we can find $p_e$ by setting it equal to the PGF of the offspring distribution with $p_e$ as the input and solving $p_e$.\n",
        "$$p_e = \\Pi_{X_0}(p_e)$$\n",
        "\n",
        "In this case the PGF of our offspring distribution is the same as the PGF of our binomial random variable\n",
        "\n",
        "$$\\Pi_{X_0}(p_e) = \\Pi_X(p_e) = (1 - p + p \\cdot s)^n = p_e$$"
      ],
      "metadata": {
        "id": "7SUXy-O_VYLx"
      }
    },
    {
      "cell_type": "code",
      "source": [
        "import sympy as sp\n",
        "\n",
        "#------------------------------------------------------------------------------#\n",
        "#---USER EXPLORATION HERE!!!---#\n",
        "\n",
        "# Number of trials\n",
        "n = 2\n",
        "\n",
        "# Probability of success\n",
        "p_val = 0.5\n",
        "q_val = 1-p_val\n",
        "\n",
        "#---Note---:\n",
        "# The math and debugging gets nasty after n = 2, so instead of getting a\n",
        "# symbolic solution and trying to solve for p_e after the fact, we will just\n",
        "# skip finding the symbolic solution and jump straight to finding the\n",
        "# probability of extinction.\n",
        "\n",
        "#------------------------------------------------------------------------------#\n",
        "\n",
        "if n <=2 :\n",
        "  # Define symbols\n",
        "  p = sp.symbols('p')\n",
        "  q = sp.symbols('q')\n",
        "  s = sp.symbols('s')\n",
        "\n",
        "  # Define the PGF when set equal to p_e but solved so all terms are on one side\n",
        "  pgf_Binom_ext = (q+p*s)**n - s\n",
        "\n",
        "  # Solve the equation\n",
        "  solutions = sp.solve(pgf_Binom_ext, s)\n",
        "  print(\"Solutions:\", solutions, \"\\n\")\n",
        "\n",
        "  # Suppose you want to substitute specific values for 'p' and 'q'\n",
        "  values = {p: p_val, q: q_val}\n",
        "\n",
        "  # Substitute the values into the solution(s) and find probability of extinction\n",
        "  p_e = 1.1 # set higher than maximum to allow for it to find minimum\n",
        "\n",
        "  for i in range(0,len(solutions)):\n",
        "    solution_with_values = solutions[i].subs(values).evalf()\n",
        "    print(\"Solution {:d} with values substituted: {:0.4f}\".format(i+1,solution_with_values))\n",
        "\n",
        "    if p_e > solution_with_values:\n",
        "      p_e = solution_with_values\n",
        "\n",
        "  # Present results on extinction probability\n",
        "  print(\"\\n-----------------------------------------------------------------------\")\n",
        "  print(\"For Binom({:d},{:0.4f}), extinction probability = {:0.4f}\".format(n,p_val,p_e))\n",
        "\n",
        "else :\n",
        "  # Define the PGF\n",
        "  pgf_Binom_ext = (q_val+p_val*s)**n - s\n",
        "\n",
        "  # Solve the equation\n",
        "  solutions = sp.solve(pgf_Binom_ext, s)\n",
        "  print(\"Solutions:\", solutions)\n",
        "\n",
        "  # Find probability of extinction - note p_e should be between 0-1\n",
        "  p_e = 1.1 # set higher than maximum to allow for it to find minimum\n",
        "  for i in range(len(solutions)):\n",
        "    if solutions[i].is_real:\n",
        "        if solutions[i] > 0:\n",
        "            if p_e > solutions[i]:\n",
        "               p_e = solutions[i]\n",
        "\n",
        "  # Present results on extinction probability\n",
        "  print(\"\\n-----------------------------------------------------------------------\")\n",
        "  print(\"For Binom({:d},{:0.4f}), extinction probability = {:0.4f}\".format(n,p_val,p_e))\n"
      ],
      "metadata": {
        "colab": {
          "base_uri": "https://localhost:8080/"
        },
        "id": "LZEtNlZXVXcE",
        "outputId": "40ea2fe0-bc91-4583-b760-6aa4c6cf0cfb"
      },
      "execution_count": 3,
      "outputs": [
        {
          "output_type": "stream",
          "name": "stdout",
          "text": [
            "Solutions: [(-2*p*q - sqrt(-4*p*q + 1) + 1)/(2*p**2), (-2*p*q + sqrt(-4*p*q + 1) + 1)/(2*p**2)] \n",
            "\n",
            "Solution 1 with values substituted: 1.0000\n",
            "Solution 2 with values substituted: 1.0000\n",
            "\n",
            "-----------------------------------------------------------------------\n",
            "For Binom(2,0.5000), extinction probability = 1.0000\n"
          ]
        }
      ]
    },
    {
      "cell_type": "markdown",
      "source": [
        "### Finding Expected Value\n"
      ],
      "metadata": {
        "id": "nGFa9YDB4pDc"
      }
    },
    {
      "cell_type": "markdown",
      "source": [
        "Lets continue the exploration of branching processes and find the expected population at a given time when our offspring distribution is binomially distributed.\n",
        "\n",
        "If we have $Bin(n,p)$ describe our distribution of decendents for each node, then we can take the average of our offspring distribution $\\mu$ to be the expected value of $Bin(n,p)$. In otherwords we can let $\\mu = n \\cdot p$.\n",
        "\n",
        "Then to find the expected value of the population we can refer to our equation above.\n",
        "$$\\mu_t = \\mu^t$$"
      ],
      "metadata": {
        "id": "B809Nbym5B2e"
      }
    },
    {
      "cell_type": "code",
      "source": [
        "#------------------------------------------------------------------------------#\n",
        "#---USER EXPLORATION HERE!!!---#\n",
        "\n",
        "# Define parameters\n",
        "n = 2  # Number of trials\n",
        "p = 0.5  # Probability of success\n",
        "t = 3  # number of generations\n",
        "\n",
        "#------------------------------------------------------------------------------#\n",
        "\n",
        "#offspring distribution\n",
        "mu = n*p\n",
        "\n",
        "#Expected Value at current generation\n",
        "mu_t = mu**t\n",
        "\n",
        "print(\"\\nFor Binom({:d},{:0.4f}), Expected Value at generation {:d} = {:0.4f}\".format(n,p,t, mu_t))"
      ],
      "metadata": {
        "colab": {
          "base_uri": "https://localhost:8080/"
        },
        "id": "8njXmPp8zAjv",
        "outputId": "363e5178-81d5-4f0f-a171-478e6f5e2ee7"
      },
      "execution_count": 4,
      "outputs": [
        {
          "output_type": "stream",
          "name": "stdout",
          "text": [
            "\n",
            "For Binom(2,0.5000), Expected Value at generation 3 = 1.0000\n"
          ]
        }
      ]
    },
    {
      "cell_type": "markdown",
      "source": [
        "We could extend this to find the total population across generations."
      ],
      "metadata": {
        "id": "udSc8Vld9Heq"
      }
    },
    {
      "cell_type": "code",
      "source": [
        "#------------------------------------------------------------------------------#\n",
        "#---USER EXPLORATION HERE!!!---#\n",
        "\n",
        "# Define parameters\n",
        "n = 2  # Number of trials\n",
        "p = 0.5  # Probability of success\n",
        "t = 3  # number of generations\n",
        "\n",
        "#------------------------------------------------------------------------------#\n",
        "\n",
        "#offspring distribution\n",
        "mu = n*p\n",
        "\n",
        "#Expected Value to current generation\n",
        "E_M = 0\n",
        "for i in range(0,t+1):\n",
        "  E_M += mu**t\n",
        "\n",
        "print(\"\\nFor Binom({:d},{:0.4f}), Expected Value up to generation {:d} = {:0.4f}\".format(n,p,t,E_M))"
      ],
      "metadata": {
        "colab": {
          "base_uri": "https://localhost:8080/"
        },
        "id": "CELDpNWo9G7a",
        "outputId": "8dd0d563-6d3b-4a3c-dd0d-f09cb1e5a6fb"
      },
      "execution_count": 5,
      "outputs": [
        {
          "output_type": "stream",
          "name": "stdout",
          "text": [
            "\n",
            "For Binom(2,0.5000), Expected Value up to generation 3 = 4.0000\n"
          ]
        }
      ]
    },
    {
      "cell_type": "markdown",
      "source": [
        "### Finding Variance"
      ],
      "metadata": {
        "id": "ynXnsFiD4vo8"
      }
    },
    {
      "cell_type": "markdown",
      "source": [
        "Finally we can conclude with finding variance.\n",
        "\n",
        "If we have $Bin(n,p)$ describe our distribution of offspring, then we can take the offspring variance $\\sigma$ to be the variance of $Bin(n,p)$. Alternatively, $\\sigma = n \\cdot p \\cdot q$.\n",
        "\n",
        "Then to find the variance of the population we can refer to our equation above.\n",
        "$$\\sigma_t^2 = \\mu^{t-1}\\sigma^2(1 + \\mu + \\mu^2 + ... + \\mu^{t-1})$$"
      ],
      "metadata": {
        "id": "GBN4xs-PBiS6"
      }
    },
    {
      "cell_type": "code",
      "source": [
        "#------------------------------------------------------------------------------#\n",
        "#---USER EXPLORATION HERE!!!---#\n",
        "\n",
        "# Define parameters\n",
        "n = 2  # Number of trials\n",
        "p = 0.5  # Probability of success\n",
        "q = 1-p\n",
        "t = 3  # number of generations\n",
        "\n",
        "#------------------------------------------------------------------------------#\n",
        "\n",
        "#offspring distribution\n",
        "mu = n*p\n",
        "\n",
        "#offspring variance\n",
        "var = n*p*q\n",
        "\n",
        "#Expected Value to t-1\n",
        "sum = 0\n",
        "for i in range(0,t):\n",
        "  sum += mu**t\n",
        "\n",
        "var_t = (mu**(t-1))*var*sum\n",
        "print(\"\\nFor Binom({:d},{:0.4f}), Variance at generation {:d} = {:0.4f}\".format(n,p,t,var_t))"
      ],
      "metadata": {
        "colab": {
          "base_uri": "https://localhost:8080/"
        },
        "id": "Y8p5TX3z42oH",
        "outputId": "4821991e-bdbb-4280-c4a5-6f4399e47aa4"
      },
      "execution_count": 6,
      "outputs": [
        {
          "output_type": "stream",
          "name": "stdout",
          "text": [
            "\n",
            "For Binom(2,0.5000), Variance at generation 3 = 1.5000\n"
          ]
        }
      ]
    },
    {
      "cell_type": "markdown",
      "source": [
        "## Simulation of Branching Processes"
      ],
      "metadata": {
        "id": "dHxwInUM57fL"
      }
    },
    {
      "cell_type": "markdown",
      "source": [
        "While we can find analytical solutions for branching processes, that give us a sense of their general behavior, we can also simulate these processes to and verify they behave as we predict.  "
      ],
      "metadata": {
        "id": "uL594jDj6FTI"
      }
    },
    {
      "cell_type": "code",
      "source": [
        "import numpy as np\n",
        "import matplotlib.pyplot as plt\n",
        "\n",
        "# Select generations to simulate\n",
        "time = np.arange(20)\n",
        "\n",
        "# Initialize storage for population RV\n",
        "X = np.zeros(len(time), dtype=int)\n",
        "\n",
        "# Initial population\n",
        "X[0] = 1\n",
        "\n",
        "# offspring distribution parameters\n",
        "n = 2  # Number of trials\n",
        "p = 0.5  # Probability of success\n",
        "\n",
        "# Simulate evolution of population\n",
        "for t in time:\n",
        "    for i in range(0, X[t-1]):\n",
        "        offspring = np.random.binomial(n, p)\n",
        "        X[t] += offspring\n",
        "\n",
        "# Plot\n",
        "plt.plot(time, X)\n",
        "\n",
        "# Set axis ticks to whole numbers\n",
        "plt.xticks(np.arange(min(time), max(time)+1, 1))\n",
        "plt.yticks(np.arange(min(X), max(X)+1, 1))\n",
        "\n",
        "plt.xlabel('Generations')\n",
        "plt.ylabel('Population')\n",
        "plt.title('Population Growth over Time')\n",
        "plt.show()\n",
        "\n",
        "# Total population\n",
        "M = X.sum()\n",
        "print(\"Total:\",M)"
      ],
      "metadata": {
        "id": "GmeofCOmyFnP",
        "outputId": "0d3ce119-859e-4ee4-a0cf-6ee1cb3bdc67",
        "colab": {
          "base_uri": "https://localhost:8080/",
          "height": 489
        }
      },
      "execution_count": 8,
      "outputs": [
        {
          "output_type": "display_data",
          "data": {
            "text/plain": [
              "<Figure size 640x480 with 1 Axes>"
            ],
            "image/png": "[encoded data removed]"
          },
          "metadata": {}
        },
        {
          "output_type": "stream",
          "name": "stdout",
          "text": [
            "Total: 147\n"
          ]
        }
      ]
    },
    {
      "cell_type": "markdown",
      "source": [
        "## Conclusion"
      ],
      "metadata": {
        "id": "tpgf3Ko1e2ar"
      }
    },
    {
      "cell_type": "markdown",
      "source": [
        "In this study, we delved into the realm of branching processes, a powerful mathematical tool for modeling population growth and various dynamic systems. Through our exploration, we uncovered their fundamental principles and applications like their role in modeling reproduction dynamics. Branching processes offer valuable insights into the probability of ultimate extinction and the dynamics of evolving systems.\n",
        "\n",
        "This is not the end, but rather the beginning. There are many variations out there of the branching process all which cater to different modeling needs. Some of these variations have changing rates or certain criteria that must be met for reproduction. Some are dependent on the size or age of the population. There are even variations like Multitype branching processes where not all nodes behave the same. This is all to say there are plenty of branches to explore."
      ],
      "metadata": {
        "id": "qLgWxSmU2Av4"
      }
    },
    {
      "cell_type": "markdown",
      "source": [
        "## References"
      ],
      "metadata": {
        "id": "FJYyDTDue6VR"
      }
    },
    {
      "cell_type": "markdown",
      "source": [
        "1. https://en.wikipedia.org/wiki/Branching_process\n",
        "2. https://bookdown.org/probability/bookdown-demo/branching-processes.html#long-term-population-metrics\n",
        "3. https://www.youtube.com/playlist?list=PLRogqfr-vZMfvcLjjmXnb0wk6MPTzhph-"
      ],
      "metadata": {
        "id": "6iWb5LP31-ZY"
      }
    }
  ]
}