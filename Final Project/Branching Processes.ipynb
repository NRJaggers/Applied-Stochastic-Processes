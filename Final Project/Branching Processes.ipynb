{
  "nbformat": 4,
  "nbformat_minor": 0,
  "metadata": {
    "colab": {
      "provenance": [],
      "include_colab_link": true
    },
    "kernelspec": {
      "name": "python3",
      "display_name": "Python 3"
    },
    "language_info": {
      "name": "python"
    }
  },
  "cells": [
    {
      "cell_type": "markdown",
      "metadata": {
        "id": "view-in-github",
        "colab_type": "text"
      },
      "source": [
        "<a href=\"https://colab.research.google.com/github/NRJaggers/Applied-Stochastic-Processes/blob/main/Final%20Project/Branching%20Processes.ipynb\" target=\"_parent\"><img src=\"https://colab.research.google.com/assets/colab-badge.svg\" alt=\"Open In Colab\"/></a>"
      ]
    },
    {
      "cell_type": "markdown",
      "source": [
        "#Branching Processes"
      ],
      "metadata": {
        "id": "lwN5bYfDW66u"
      }
    },
    {
      "cell_type": "markdown",
      "source": [
        "## What is a Branching Process?"
      ],
      "metadata": {
        "id": "SeNcZ_02DYyF"
      }
    },
    {
      "cell_type": "markdown",
      "source": [
        "## How to model/ Use?"
      ],
      "metadata": {
        "id": "PAremk6fDf8l"
      }
    },
    {
      "cell_type": "markdown",
      "source": [
        "other stuff"
      ],
      "metadata": {
        "id": "Ow9pXiuZDnZJ"
      }
    },
    {
      "cell_type": "markdown",
      "source": [
        "Analytical Question/Solution"
      ],
      "metadata": {
        "id": "hA4E2r2ZDvBB"
      }
    },
    {
      "cell_type": "markdown",
      "source": [
        "Simulation Question/Solution"
      ],
      "metadata": {
        "id": "lMe1ik9cD3af"
      }
    },
    {
      "cell_type": "markdown",
      "source": [
        "Discrete Question/Solution"
      ],
      "metadata": {
        "id": "pXfT6ajwD50Q"
      }
    },
    {
      "cell_type": "markdown",
      "source": [
        "Continuous Question/Solution"
      ],
      "metadata": {
        "id": "LaUU-09zD94k"
      }
    }
  ]
}