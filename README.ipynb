{
  "nbformat": 4,
  "nbformat_minor": 0,
  "metadata": {
    "colab": {
      "provenance": [],
      "authorship_tag": "ABX9TyN9LNShzgns/LxchA9nWJ9Z"
    },
    "kernelspec": {
      "name": "python3",
      "display_name": "Python 3"
    },
    "language_info": {
      "name": "python"
    }
  },
  "cells": [
    {
      "cell_type": "code",
      "execution_count": null,
      "metadata": {
        "id": "EjUfr_dqJv4H"
      },
      "outputs": [],
      "source": []
    },
    {
      "cell_type": "markdown",
      "source": [
        "#STAT 545\n",
        "\n",
        "This repository is to store the code I create through the various exercises in this course.\n",
        "\n",
        "This README is a test to see how github interprets it."
      ],
      "metadata": {
        "id": "I9E2RtgQJ6v-"
      }
    }
  ]
}